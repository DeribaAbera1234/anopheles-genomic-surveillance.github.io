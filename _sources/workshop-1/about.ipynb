{
 "cells": [
  {
   "cell_type": "markdown",
   "id": "44b51744-93e6-43a9-8039-4a1fccc3fe01",
   "metadata": {},
   "source": [
    "# About workshop 1"
   ]
  },
  {
   "cell_type": "markdown",
   "id": "29608732-cabe-403a-b6a7-b1c6cf691236",
   "metadata": {},
   "source": [
    "## Topic\n",
    "\n",
    "This training workshop introduces the use of genomic data to analyse the prevalence of mutations in the gene targeted by pyrethroid insecticides. This gene is named *Vgsc* and encodes a protein known as the voltage-gated sodium channel (VGSC), which is part of the mosquito's nervous system. Mutations in this gene can affect the way that pyrethroid insecticides bind to this protein, reducing their efficacy and causing a form of insecticide resistance known as pyrethroid target-site resistance. Pyrethroid insecticides are the primary ingredient in all insecticide-treated bednets currently used for malaria control, so identifying and tracking mutations in the *Vgsc* gene is an important surveillance activity."
   ]
  },
  {
   "cell_type": "markdown",
   "id": "ded4d7e8-3665-49fb-a7c9-661df04c68c4",
   "metadata": {},
   "source": [
    "## Dates and registration\n",
    "\n",
    "The next workshop will run on 26 January 2022 beginning at 0900 GMT @@TODO confirm. To register for this workshop, please fill out the form at the link below @@TODO."
   ]
  },
  {
   "cell_type": "markdown",
   "id": "fdfc8cb0-a33d-478b-979b-cb75c8eb0974",
   "metadata": {},
   "source": [
    "## Format\n",
    "\n",
    "This workshop comprises four modules, each of which includes a lecture followed by a series of practical data analysis exercises. \n",
    "\n",
    "@@TODO expand"
   ]
  },
  {
   "cell_type": "markdown",
   "id": "668f0504-5e4c-47fa-8dce-09b7f3d3f33a",
   "metadata": {},
   "source": [
    "## Prerequisites\n",
    "\n",
    ":::{note}\n",
    "This workshop is run online via Zoom and Slack. You will need a computer with a decent internet connection, a Web browser, and the Zoom client installed. \n",
    "\n",
    "You will also need to have a decent microphone and speakers or headset in order to listen to lectures and participate in tutorial groups. \n",
    "\n",
    "We highly recommend you test your ability to make Zoom calls with a friend or colleague before you attend the workshop.\n",
    ":::\n",
    "\n",
    "This is a hands-on workshop involving the analysis of real genetic data. To attend this workshop you will need to have some prior experience of data analysis using a programming language such as Python, R, Julia, Matlab or Stata. The practical exercises in this workshop will use the Python programming language, and some prior experience of Python will be advantageous, but is not required.\n",
    "\n",
    "During the practical sessions in this workshop we will use [Google Colaboratory](https://colab.research.google.com/) (a.k.a. Colab), which is an interactive cloud computing service provided for free by Google. In order to use Colab you will need to have a Google user account. If you do not already have a Google user account, please make sure to create one before the workshop."
   ]
  },
  {
   "cell_type": "markdown",
   "id": "ad5aa638-20a9-41eb-802e-6e552f87d19f",
   "metadata": {},
   "source": [
    "## Preparation\n",
    "\n",
    "The following resources are recommended preparation before attending the workshop:\n",
    "\n",
    "* Read [Clarkson et al. (2021) The genetic architecture of target-site resistance to pyrethroid insecticides in the African malaria vectors *Anopheles gambiae* and *Anopheles coluzzii*](https://doi.org/10.1111/mec.15845)\n",
    "* Gain some experience of programming in Python via one of the [many excellent tutorials](https://wiki.python.org/moin/BeginnersGuide/NonProgrammers) available online, e.g., DataCamp's [Introduction to Python](https://www.datacamp.com/courses/intro-to-python-for-data-science?utm_source=learnpython_com&utm_campaign=learnpython_tutorials) free course (4 hours). \n",
    "* Watch the [Getting started with Google Colaboratory](https://youtu.be/inN8seMm7UI) video, then open [Colab](https://colab.research.google.com/) and run the \"Welcome to Colaboratory\" notebook."
   ]
  }
 ],
 "metadata": {
  "kernelspec": {
   "display_name": "Python 3 (ipykernel)",
   "language": "python",
   "name": "python3"
  },
  "language_info": {
   "codemirror_mode": {
    "name": "ipython",
    "version": 3
   },
   "file_extension": ".py",
   "mimetype": "text/x-python",
   "name": "python",
   "nbconvert_exporter": "python",
   "pygments_lexer": "ipython3",
   "version": "3.7.12"
  }
 },
 "nbformat": 4,
 "nbformat_minor": 5
}
