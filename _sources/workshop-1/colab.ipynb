{
  "nbformat": 4,
  "nbformat_minor": 0,
  "metadata": {
    "colab": {
      "name": "Workshop 1 - Module 1 - Interactive cloud computing with Google Colaboratory.ipynb",
      "provenance": [],
      "collapsed_sections": [],
      "authorship_tag": "ABX9TyOAXmWLkjySD6RqAt9FK/pd"
    },
    "kernelspec": {
      "name": "python3",
      "display_name": "Python 3"
    },
    "language_info": {
      "name": "python"
    }
  },
  "cells": [
    {
      "cell_type": "markdown",
      "source": [
        "***Training course in data analysis for genomic surveillance of African malaria vectors - Workshop 1***\n",
        "\n",
        "---"
      ],
      "metadata": {
        "id": "09zg9pLwb_Mo"
      }
    },
    {
      "cell_type": "markdown",
      "source": [
        "# Module 1 - Interactive cloud computing with Google Colaboratory\n",
        "\n",
        "**Subject: Tools & Technology**\n",
        "\n",
        "This first technology module introduces Google Colaboratory (a.k.a. Colab), an interactive cloud computing service for data analysis, which we will be using for practical exercises throughout the course."
      ],
      "metadata": {
        "id": "QPvqgYQHAfKF"
      }
    },
    {
      "cell_type": "markdown",
      "source": [
        "## Learning outcomes\n",
        "\n",
        "After completing this module, you will be able to:\n",
        "\n",
        "* Explain what a notebook is\n",
        "* Access Colab and use it to create and run notebooks\n",
        "* Edit notebooks and create code and text cells\n",
        "* Import and install packages\n",
        "* Share Colab notebooks via Google Drive"
      ],
      "metadata": {
        "id": "TOnaa1RkDDIB"
      }
    },
    {
      "cell_type": "markdown",
      "source": [
        "## What is Colab?\n",
        "\n",
        "Colab is an interactive cloud computing service provided for free by Google. To access Colab, visit the following address in your Web browser:\n",
        "\n",
        "* https://colab.research.google.com\n",
        "\n",
        "To access Colab you will need a Google account. If you don't already have one, [create an account](https://accounts.google.com/SignUp) and then log in.\n",
        "\n",
        "Colab allows you to write and execute code using your Web browser. There are two important features of Colab that are very useful for data analysis:\n",
        "\n",
        "* **Interactive notebooks** - You can explore and analyse data one step at a time, by writing small pieces of code, running them, inspecting the results, and then writing further code. \n",
        "* **Cloud computing** - You can get access to computers hosted by Google and use them to run your code, without having to install any software or download any data onto your own computer.  "
      ],
      "metadata": {
        "id": "FFwdnsOSD_hI"
      }
    },
    {
      "cell_type": "markdown",
      "source": [
        "## What is a notebook?\n",
        "\n",
        "A notebook is an interactive, editable document that you can use to:\n",
        "\n",
        "* Write and execute code \n",
        "* Create plots, tables, written text and other types of content\n",
        "\n",
        "A notebook is built up from **cells**. There are two main types of cells in a notebook: **code cells** and **text cells**.\n"
      ],
      "metadata": {
        "id": "JpsZnq9mDsTw"
      }
    },
    {
      "cell_type": "markdown",
      "source": [
        "## Code cells\n",
        "\n",
        "A code cell contains [Python code](https://www.python.org/). To add a code cell to your notebook, click the **`+ Code`** button at the top of the notebook.\n",
        "\n",
        "Below is an example code cell."
      ],
      "metadata": {
        "id": "Ge_jS8PZJTEK"
      }
    },
    {
      "cell_type": "code",
      "source": [
        "print(\"Hello world!\")"
      ],
      "metadata": {
        "colab": {
          "base_uri": "https://localhost:8080/"
        },
        "id": "sTPWWaGdECK_",
        "outputId": "afb80f17-b75e-40ac-f3cb-0738e745a9d1"
      },
      "execution_count": null,
      "outputs": [
        {
          "output_type": "stream",
          "name": "stdout",
          "text": [
            "Hello world!\n"
          ]
        }
      ]
    },
    {
      "cell_type": "markdown",
      "source": [
        "### Executing a code cell\n",
        "\n",
        "To execute a code cell, click on the **play icon** next to the cell. You can also type **Shift+Enter**, which will run the cell and move the focus to the next cell."
      ],
      "metadata": {
        "id": "2rNDe9sEJia5"
      }
    },
    {
      "cell_type": "markdown",
      "source": [
        "### Cell output\n",
        "\n",
        "The code cell above uses the built-in `print` function, which prints the string `\"Hello world!\"` as output. If a code cell generates some output when it is run, the output is displayed below the cell.\n",
        "\n",
        "Cells do not always have output. For example, the code cell below declares a variable named `foo` and assigns the integer value `42`, but does not create an output."
      ],
      "metadata": {
        "id": "Q5DwRnvNKvRQ"
      }
    },
    {
      "cell_type": "code",
      "source": [
        "foo = 42"
      ],
      "metadata": {
        "id": "rh-0eJ5WKRAo"
      },
      "execution_count": 29,
      "outputs": []
    },
    {
      "cell_type": "markdown",
      "source": [
        "### Inspecting a variable\n",
        "\n",
        "If you have declared a variable, such as `foo` in the code cell above, and you want to inspect its value, you can do this by writing a code cell where the variable is written on the last line."
      ],
      "metadata": {
        "id": "-mvUD8sYKnly"
      }
    },
    {
      "cell_type": "code",
      "source": [
        "foo"
      ],
      "metadata": {
        "colab": {
          "base_uri": "https://localhost:8080/"
        },
        "id": "ClhJT3ZaK8jr",
        "outputId": "9191fe34-4746-4b29-b0b5-f59abd7cc800"
      },
      "execution_count": 30,
      "outputs": [
        {
          "output_type": "execute_result",
          "data": {
            "text/plain": [
              "42"
            ]
          },
          "metadata": {},
          "execution_count": 30
        }
      ]
    },
    {
      "cell_type": "markdown",
      "source": [
        "Running this code cell will print the value of the variable as the cell output. Let's try modifying this variable, and inspecting it again."
      ],
      "metadata": {
        "id": "85ZduRtCK9ta"
      }
    },
    {
      "cell_type": "code",
      "source": [
        "foo = foo + 1\n",
        "foo"
      ],
      "metadata": {
        "id": "3dUmVSxyLGP_",
        "colab": {
          "base_uri": "https://localhost:8080/"
        },
        "outputId": "12f87c77-2894-4c98-a620-4b17408e2562"
      },
      "execution_count": 31,
      "outputs": [
        {
          "output_type": "execute_result",
          "data": {
            "text/plain": [
              "43"
            ]
          },
          "metadata": {},
          "execution_count": 31
        }
      ]
    },
    {
      "cell_type": "markdown",
      "source": [
        "It can also sometimes be useful to use the built-in `type()` function inspect what type of object has been assigned to a variable, e.g.:"
      ],
      "metadata": {
        "id": "6Z3vIIfLhY3u"
      }
    },
    {
      "cell_type": "code",
      "source": [
        "type(foo)"
      ],
      "metadata": {
        "colab": {
          "base_uri": "https://localhost:8080/"
        },
        "id": "LramF1Wohebd",
        "outputId": "b5328215-1dd7-4c41-9975-cac6fb683296"
      },
      "execution_count": 32,
      "outputs": [
        {
          "output_type": "execute_result",
          "data": {
            "text/plain": [
              "int"
            ]
          },
          "metadata": {},
          "execution_count": 32
        }
      ]
    },
    {
      "cell_type": "markdown",
      "source": [
        "## Text cells\n",
        "\n",
        "As well as code cells, you can also create text cells, which create text that you write, and can use different types of text formatting such as bold, italic, indented lists, hyperlinks and mathematical equations.\n",
        "\n",
        "To add a text cell to your notebook, click the **`+ Text`** button at the top of the notebook.\n",
        "\n",
        "To edit an existing text cell in a notebook, **double click** on the cell."
      ],
      "metadata": {
        "id": "Q3swoV1CLLrT"
      }
    },
    {
      "cell_type": "markdown",
      "source": [
        "### Formatting text\n",
        "\n",
        "Text cells can be formatted using a special syntax called **markdown**. \n",
        "\n",
        "Here is a quick summary of some useful markdown syntax for formatting text:\n",
        "\n",
        "Markdown syntax | Preview\n",
        "--- | ---\n",
        "`**bold text**` | **bold text**\n",
        "`*italicized text*` | *italicized text*\n",
        "`` `monospace text` `` | `Monospace`\n",
        "`[A link](https://en.wikipedia.org/wiki/Anopheles_gambiae)` | [A link](https://en.wikipedia.org/wiki/Anopheles_gambiae)"
      ],
      "metadata": {
        "id": "pPNPia5xNApP"
      }
    },
    {
      "cell_type": "markdown",
      "source": [
        "\n",
        "### Creating lists\n",
        "\n",
        "Unordered lists can be created by putting each list item on a new line, starting with the `*` character, e.g.:\n",
        "\n",
        "```\n",
        "* A list item\n",
        "* Another list item\n",
        "* Yet another list item\n",
        "```\n",
        "\n",
        "Ordered lists can be created by starting each list item with `1.`, e.g.:\n",
        "\n",
        "```\n",
        "1. First item\n",
        "1. Second item\n",
        "1. Third item\n",
        "```"
      ],
      "metadata": {
        "id": "ybXp7jCDOt98"
      }
    },
    {
      "cell_type": "markdown",
      "source": [
        "### Creating section headings\n",
        "\n",
        "To create a section heading within a notebook, begin a line of text with the `#` character. E.g.:\n",
        "\n",
        "```\n",
        "# This is a section heading\n",
        "```\n",
        "\n",
        "To create a sub-section heading, begin a line of text with `##`, E.g.:\n",
        "\n",
        "```\n",
        "## This is a sub-section heading\n",
        "```"
      ],
      "metadata": {
        "id": "szC-JV13OwpH"
      }
    },
    {
      "cell_type": "markdown",
      "source": [
        "### Adding images\n",
        "\n",
        "You can include an image in a notebook, if the image is published on the Web and you know it's address. E.g., the markdown syntax below includes an image of an *Anopheles gambiae* mosquito available from [wikipedia](https://commons.wikimedia.org/wiki/File:AnophelesGambiaemosquito.jpg):\n",
        "\n",
        "```\n",
        "![Anopheles gambiae](https://upload.wikimedia.org/wikipedia/commons/0/0a/AnophelesGambiaemosquito.jpg)\n",
        "```\n",
        "\n",
        "Here is the image as it will appear in the notebook:\n",
        "\n",
        "![Anopheles gambiae](https://upload.wikimedia.org/wikipedia/commons/0/0a/AnophelesGambiaemosquito.jpg)\n"
      ],
      "metadata": {
        "id": "yecbLv7WNzvv"
      }
    },
    {
      "cell_type": "markdown",
      "source": [
        "## Adding, moving and deleting cells\n",
        "\n",
        "A new cell can be added by using the **`+ Code`** and **`+ Text`** at the top of the notebook, or that show when you hover between cells.\n",
        "\n",
        "Cells can be moved within the notebook by clicking on the **up and down arrows** in the cell toolbar.\n",
        "\n",
        "A cell can be deleted by clicking the **dustbin icon** within the cell toolbar."
      ],
      "metadata": {
        "id": "wA7GGyY7QMVp"
      }
    },
    {
      "cell_type": "markdown",
      "source": [
        "## Coding basics\n",
        "\n",
        "@@TODO"
      ],
      "metadata": {
        "id": "Pgh6vPWzhfsk"
      }
    },
    {
      "cell_type": "markdown",
      "source": [
        "### Math"
      ],
      "metadata": {
        "id": "xQ71d_d4dvk2"
      }
    },
    {
      "cell_type": "code",
      "source": [
        "x = 10\n",
        "y = 3 + (4 * x) - 1\n",
        "y"
      ],
      "metadata": {
        "colab": {
          "base_uri": "https://localhost:8080/"
        },
        "id": "pwsHi0Hod_AV",
        "outputId": "504a5078-bc16-41b9-b59a-01f1405794da"
      },
      "execution_count": 7,
      "outputs": [
        {
          "output_type": "execute_result",
          "data": {
            "text/plain": [
              "42"
            ]
          },
          "metadata": {},
          "execution_count": 7
        }
      ]
    },
    {
      "cell_type": "markdown",
      "source": [
        "### For loops"
      ],
      "metadata": {
        "id": "xCw8S3HMeRMR"
      }
    },
    {
      "cell_type": "code",
      "source": [
        "for i in range(5):\n",
        "    print(i)"
      ],
      "metadata": {
        "colab": {
          "base_uri": "https://localhost:8080/"
        },
        "id": "dq79jxwjeSzx",
        "outputId": "aef1b6f6-4b82-4b93-a860-e07f0300c7d3"
      },
      "execution_count": 8,
      "outputs": [
        {
          "output_type": "stream",
          "name": "stdout",
          "text": [
            "0\n",
            "1\n",
            "2\n",
            "3\n",
            "4\n"
          ]
        }
      ]
    },
    {
      "cell_type": "markdown",
      "source": [
        "### Defining and calling functions"
      ],
      "metadata": {
        "id": "uRJQN0B_dq9K"
      }
    },
    {
      "cell_type": "code",
      "source": [
        "def greet(name):\n",
        "    print(f\"Hello {name}!\")"
      ],
      "metadata": {
        "id": "Jlc1NDFmdRiA"
      },
      "execution_count": 5,
      "outputs": []
    },
    {
      "cell_type": "code",
      "source": [
        "greet(\"Mario Coluzzi\")"
      ],
      "metadata": {
        "colab": {
          "base_uri": "https://localhost:8080/"
        },
        "id": "2lRMGm6NdYen",
        "outputId": "fd4f311b-41c3-4194-f556-81e26db238f5"
      },
      "execution_count": 6,
      "outputs": [
        {
          "output_type": "stream",
          "name": "stdout",
          "text": [
            "Hello Mario Coluzzi!\n"
          ]
        }
      ]
    },
    {
      "cell_type": "markdown",
      "source": [
        "## Importing Python packages\n",
        "\n",
        "@@TODO standard library packages; pre-installed third-party packages; standard abbreviations"
      ],
      "metadata": {
        "id": "bwAxxpvYRDKw"
      }
    },
    {
      "cell_type": "code",
      "source": [
        "import numpy as np"
      ],
      "metadata": {
        "id": "5kq8iET8ewpe"
      },
      "execution_count": 3,
      "outputs": []
    },
    {
      "cell_type": "code",
      "source": [
        "y = np.random.randint(low=0, high=100, size=10)\n",
        "y"
      ],
      "metadata": {
        "colab": {
          "base_uri": "https://localhost:8080/"
        },
        "id": "udVhR9jJfJTW",
        "outputId": "ab7f0770-fedf-431c-8425-d98b720552e1"
      },
      "execution_count": 14,
      "outputs": [
        {
          "output_type": "execute_result",
          "data": {
            "text/plain": [
              "array([18, 49, 10, 45, 82, 32, 36, 55, 81, 79])"
            ]
          },
          "metadata": {},
          "execution_count": 14
        }
      ]
    },
    {
      "cell_type": "markdown",
      "source": [
        "## Running operating system commands\n",
        "\n",
        "@@TODO"
      ],
      "metadata": {
        "id": "XpgZQSz5R70Z"
      }
    },
    {
      "cell_type": "code",
      "source": [
        "!ls -lh"
      ],
      "metadata": {
        "colab": {
          "base_uri": "https://localhost:8080/"
        },
        "id": "3Sloq2tKfV6M",
        "outputId": "e83eeb7c-9919-432e-92a2-dff75fb9d4f1"
      },
      "execution_count": 17,
      "outputs": [
        {
          "output_type": "stream",
          "name": "stdout",
          "text": [
            "total 4.0K\n",
            "drwxr-xr-x 1 root root 4.0K Dec  3 14:33 sample_data\n"
          ]
        }
      ]
    },
    {
      "cell_type": "markdown",
      "source": [
        "## Installing Python packages\n",
        "\n",
        "@@TODO"
      ],
      "metadata": {
        "id": "J4mTOt-HR-bB"
      }
    },
    {
      "cell_type": "code",
      "source": [
        "import malariagen_data"
      ],
      "metadata": {
        "colab": {
          "base_uri": "https://localhost:8080/",
          "height": 304
        },
        "id": "fwSr5ZPUf7ia",
        "outputId": "5ff2995f-c261-4fef-f1d1-6b0da7632235"
      },
      "execution_count": 19,
      "outputs": [
        {
          "output_type": "error",
          "ename": "ModuleNotFoundError",
          "evalue": "ignored",
          "traceback": [
            "\u001b[0;31m---------------------------------------------------------------------------\u001b[0m",
            "\u001b[0;31mModuleNotFoundError\u001b[0m                       Traceback (most recent call last)",
            "\u001b[0;32m<ipython-input-19-a18d6481fc9b>\u001b[0m in \u001b[0;36m<module>\u001b[0;34m()\u001b[0m\n\u001b[0;32m----> 1\u001b[0;31m \u001b[0;32mimport\u001b[0m \u001b[0mmalariagen_data\u001b[0m\u001b[0;34m\u001b[0m\u001b[0;34m\u001b[0m\u001b[0m\n\u001b[0m",
            "\u001b[0;31mModuleNotFoundError\u001b[0m: No module named 'malariagen_data'",
            "",
            "\u001b[0;31m---------------------------------------------------------------------------\u001b[0;32m\nNOTE: If your import is failing due to a missing package, you can\nmanually install dependencies using either !pip or !apt.\n\nTo view examples of installing some common dependencies, click the\n\"Open Examples\" button below.\n\u001b[0;31m---------------------------------------------------------------------------\u001b[0m\n"
          ],
          "errorDetails": {
            "actions": [
              {
                "action": "open_url",
                "actionText": "Open Examples",
                "url": "/notebooks/snippets/importing_libraries.ipynb"
              }
            ]
          }
        }
      ]
    },
    {
      "cell_type": "code",
      "source": [
        "!pip install -q malariagen_data"
      ],
      "metadata": {
        "colab": {
          "base_uri": "https://localhost:8080/"
        },
        "id": "u_38N9g4I6jF",
        "outputId": "f1593bea-7b56-4c05-a92b-95527be06456"
      },
      "execution_count": 20,
      "outputs": [
        {
          "output_type": "stream",
          "name": "stdout",
          "text": [
            "\u001b[K     |████████████████████████████████| 146 kB 7.7 MB/s \n",
            "\u001b[K     |████████████████████████████████| 5.7 MB 22.1 MB/s \n",
            "\u001b[K     |████████████████████████████████| 132 kB 57.6 MB/s \n",
            "\u001b[K     |████████████████████████████████| 2.3 MB 32.4 MB/s \n",
            "\u001b[K     |████████████████████████████████| 1.1 MB 52.1 MB/s \n",
            "\u001b[K     |████████████████████████████████| 271 kB 44.9 MB/s \n",
            "\u001b[K     |████████████████████████████████| 160 kB 50.8 MB/s \n",
            "\u001b[K     |████████████████████████████████| 192 kB 59.9 MB/s \n",
            "\u001b[K     |████████████████████████████████| 6.2 MB 25.3 MB/s \n",
            "\u001b[?25h  Building wheel for asciitree (setup.py) ... \u001b[?25l\u001b[?25hdone\n"
          ]
        }
      ]
    },
    {
      "cell_type": "code",
      "source": [
        "import malariagen_data"
      ],
      "metadata": {
        "id": "ZhGji1ZygB_9"
      },
      "execution_count": 30,
      "outputs": []
    },
    {
      "cell_type": "code",
      "source": [
        "ag3 = malariagen_data.Ag3(\"gs://vo_agam_release\")\n",
        "ag3"
      ],
      "metadata": {
        "colab": {
          "base_uri": "https://localhost:8080/"
        },
        "id": "-GGTroWDgHuQ",
        "outputId": "9bbec9d4-c20e-4b93-da6c-2c81655e436b"
      },
      "execution_count": 31,
      "outputs": [
        {
          "output_type": "execute_result",
          "data": {
            "text/plain": [
              "<malariagen_data.ag3.Ag3 at 0x7f7621967890>"
            ]
          },
          "metadata": {},
          "execution_count": 31
        }
      ]
    },
    {
      "cell_type": "markdown",
      "source": [
        "## Viewing dataframes\n",
        "\n",
        "@@TODO"
      ],
      "metadata": {
        "id": "5pqoYxbLS2qQ"
      }
    },
    {
      "cell_type": "code",
      "source": [
        "df_samples = ag3.sample_metadata()"
      ],
      "metadata": {
        "id": "lI6zJymMgNA_"
      },
      "execution_count": 32,
      "outputs": []
    },
    {
      "cell_type": "code",
      "source": [
        "type(df_samples)"
      ],
      "metadata": {
        "colab": {
          "base_uri": "https://localhost:8080/"
        },
        "id": "Ies8k2f-hNfa",
        "outputId": "cf2e0284-9019-4dbf-a5b6-89b830894dc3"
      },
      "execution_count": 33,
      "outputs": [
        {
          "output_type": "execute_result",
          "data": {
            "text/plain": [
              "pandas.core.frame.DataFrame"
            ]
          },
          "metadata": {},
          "execution_count": 33
        }
      ]
    },
    {
      "cell_type": "code",
      "source": [
        "df_samples"
      ],
      "metadata": {
        "colab": {
          "base_uri": "https://localhost:8080/",
          "height": 507
        },
        "id": "ceEI6R2EhQHd",
        "outputId": "6c477552-d79c-49f2-f7e3-0f3d83abafb1"
      },
      "execution_count": 34,
      "outputs": [
        {
          "output_type": "execute_result",
          "data": {
            "text/html": [
              "\n",
              "  <div id=\"df-d1dc255f-63f3-4db5-a765-9c048683e363\">\n",
              "    <div class=\"colab-df-container\">\n",
              "      <div>\n",
              "<style scoped>\n",
              "    .dataframe tbody tr th:only-of-type {\n",
              "        vertical-align: middle;\n",
              "    }\n",
              "\n",
              "    .dataframe tbody tr th {\n",
              "        vertical-align: top;\n",
              "    }\n",
              "\n",
              "    .dataframe thead th {\n",
              "        text-align: right;\n",
              "    }\n",
              "</style>\n",
              "<table border=\"1\" class=\"dataframe\">\n",
              "  <thead>\n",
              "    <tr style=\"text-align: right;\">\n",
              "      <th></th>\n",
              "      <th>sample_id</th>\n",
              "      <th>partner_sample_id</th>\n",
              "      <th>contributor</th>\n",
              "      <th>country</th>\n",
              "      <th>location</th>\n",
              "      <th>year</th>\n",
              "      <th>month</th>\n",
              "      <th>latitude</th>\n",
              "      <th>longitude</th>\n",
              "      <th>sex_call</th>\n",
              "      <th>sample_set</th>\n",
              "      <th>release</th>\n",
              "      <th>aim_fraction_colu</th>\n",
              "      <th>aim_fraction_arab</th>\n",
              "      <th>species_gambcolu_arabiensis</th>\n",
              "      <th>species_gambiae_coluzzii</th>\n",
              "      <th>species</th>\n",
              "    </tr>\n",
              "  </thead>\n",
              "  <tbody>\n",
              "    <tr>\n",
              "      <th>0</th>\n",
              "      <td>AR0047-C</td>\n",
              "      <td>LUA047</td>\n",
              "      <td>Joao Pinto</td>\n",
              "      <td>Angola</td>\n",
              "      <td>Luanda</td>\n",
              "      <td>2009</td>\n",
              "      <td>4</td>\n",
              "      <td>-8.884</td>\n",
              "      <td>13.302</td>\n",
              "      <td>F</td>\n",
              "      <td>AG1000G-AO</td>\n",
              "      <td>v3</td>\n",
              "      <td>0.945</td>\n",
              "      <td>0.001</td>\n",
              "      <td>gamb_colu</td>\n",
              "      <td>coluzzii</td>\n",
              "      <td>coluzzii</td>\n",
              "    </tr>\n",
              "    <tr>\n",
              "      <th>1</th>\n",
              "      <td>AR0049-C</td>\n",
              "      <td>LUA049</td>\n",
              "      <td>Joao Pinto</td>\n",
              "      <td>Angola</td>\n",
              "      <td>Luanda</td>\n",
              "      <td>2009</td>\n",
              "      <td>4</td>\n",
              "      <td>-8.884</td>\n",
              "      <td>13.302</td>\n",
              "      <td>F</td>\n",
              "      <td>AG1000G-AO</td>\n",
              "      <td>v3</td>\n",
              "      <td>0.933</td>\n",
              "      <td>0.001</td>\n",
              "      <td>gamb_colu</td>\n",
              "      <td>coluzzii</td>\n",
              "      <td>coluzzii</td>\n",
              "    </tr>\n",
              "    <tr>\n",
              "      <th>2</th>\n",
              "      <td>AR0051-C</td>\n",
              "      <td>LUA051</td>\n",
              "      <td>Joao Pinto</td>\n",
              "      <td>Angola</td>\n",
              "      <td>Luanda</td>\n",
              "      <td>2009</td>\n",
              "      <td>4</td>\n",
              "      <td>-8.884</td>\n",
              "      <td>13.302</td>\n",
              "      <td>F</td>\n",
              "      <td>AG1000G-AO</td>\n",
              "      <td>v3</td>\n",
              "      <td>0.937</td>\n",
              "      <td>0.002</td>\n",
              "      <td>gamb_colu</td>\n",
              "      <td>coluzzii</td>\n",
              "      <td>coluzzii</td>\n",
              "    </tr>\n",
              "    <tr>\n",
              "      <th>3</th>\n",
              "      <td>AR0061-C</td>\n",
              "      <td>LUA061</td>\n",
              "      <td>Joao Pinto</td>\n",
              "      <td>Angola</td>\n",
              "      <td>Luanda</td>\n",
              "      <td>2009</td>\n",
              "      <td>4</td>\n",
              "      <td>-8.884</td>\n",
              "      <td>13.302</td>\n",
              "      <td>F</td>\n",
              "      <td>AG1000G-AO</td>\n",
              "      <td>v3</td>\n",
              "      <td>0.938</td>\n",
              "      <td>0.002</td>\n",
              "      <td>gamb_colu</td>\n",
              "      <td>coluzzii</td>\n",
              "      <td>coluzzii</td>\n",
              "    </tr>\n",
              "    <tr>\n",
              "      <th>4</th>\n",
              "      <td>AR0078-C</td>\n",
              "      <td>LUA078</td>\n",
              "      <td>Joao Pinto</td>\n",
              "      <td>Angola</td>\n",
              "      <td>Luanda</td>\n",
              "      <td>2009</td>\n",
              "      <td>4</td>\n",
              "      <td>-8.884</td>\n",
              "      <td>13.302</td>\n",
              "      <td>F</td>\n",
              "      <td>AG1000G-AO</td>\n",
              "      <td>v3</td>\n",
              "      <td>0.926</td>\n",
              "      <td>0.001</td>\n",
              "      <td>gamb_colu</td>\n",
              "      <td>coluzzii</td>\n",
              "      <td>coluzzii</td>\n",
              "    </tr>\n",
              "    <tr>\n",
              "      <th>...</th>\n",
              "      <td>...</td>\n",
              "      <td>...</td>\n",
              "      <td>...</td>\n",
              "      <td>...</td>\n",
              "      <td>...</td>\n",
              "      <td>...</td>\n",
              "      <td>...</td>\n",
              "      <td>...</td>\n",
              "      <td>...</td>\n",
              "      <td>...</td>\n",
              "      <td>...</td>\n",
              "      <td>...</td>\n",
              "      <td>...</td>\n",
              "      <td>...</td>\n",
              "      <td>...</td>\n",
              "      <td>...</td>\n",
              "      <td>...</td>\n",
              "    </tr>\n",
              "    <tr>\n",
              "      <th>2779</th>\n",
              "      <td>AC0295-C</td>\n",
              "      <td>K92</td>\n",
              "      <td>Martin Donnelly</td>\n",
              "      <td>Uganda</td>\n",
              "      <td>Kihihi</td>\n",
              "      <td>2012</td>\n",
              "      <td>11</td>\n",
              "      <td>-0.751</td>\n",
              "      <td>29.701</td>\n",
              "      <td>F</td>\n",
              "      <td>AG1000G-UG</td>\n",
              "      <td>v3</td>\n",
              "      <td>0.026</td>\n",
              "      <td>0.002</td>\n",
              "      <td>gamb_colu</td>\n",
              "      <td>gambiae</td>\n",
              "      <td>gambiae</td>\n",
              "    </tr>\n",
              "    <tr>\n",
              "      <th>2780</th>\n",
              "      <td>AC0296-C</td>\n",
              "      <td>K93</td>\n",
              "      <td>Martin Donnelly</td>\n",
              "      <td>Uganda</td>\n",
              "      <td>Kihihi</td>\n",
              "      <td>2012</td>\n",
              "      <td>11</td>\n",
              "      <td>-0.751</td>\n",
              "      <td>29.701</td>\n",
              "      <td>F</td>\n",
              "      <td>AG1000G-UG</td>\n",
              "      <td>v3</td>\n",
              "      <td>0.029</td>\n",
              "      <td>0.003</td>\n",
              "      <td>gamb_colu</td>\n",
              "      <td>gambiae</td>\n",
              "      <td>gambiae</td>\n",
              "    </tr>\n",
              "    <tr>\n",
              "      <th>2781</th>\n",
              "      <td>AC0297-C</td>\n",
              "      <td>K94</td>\n",
              "      <td>Martin Donnelly</td>\n",
              "      <td>Uganda</td>\n",
              "      <td>Kihihi</td>\n",
              "      <td>2012</td>\n",
              "      <td>11</td>\n",
              "      <td>-0.751</td>\n",
              "      <td>29.701</td>\n",
              "      <td>F</td>\n",
              "      <td>AG1000G-UG</td>\n",
              "      <td>v3</td>\n",
              "      <td>0.026</td>\n",
              "      <td>0.002</td>\n",
              "      <td>gamb_colu</td>\n",
              "      <td>gambiae</td>\n",
              "      <td>gambiae</td>\n",
              "    </tr>\n",
              "    <tr>\n",
              "      <th>2782</th>\n",
              "      <td>AC0298-C</td>\n",
              "      <td>K95</td>\n",
              "      <td>Martin Donnelly</td>\n",
              "      <td>Uganda</td>\n",
              "      <td>Kihihi</td>\n",
              "      <td>2012</td>\n",
              "      <td>11</td>\n",
              "      <td>-0.751</td>\n",
              "      <td>29.701</td>\n",
              "      <td>F</td>\n",
              "      <td>AG1000G-UG</td>\n",
              "      <td>v3</td>\n",
              "      <td>0.029</td>\n",
              "      <td>0.002</td>\n",
              "      <td>gamb_colu</td>\n",
              "      <td>gambiae</td>\n",
              "      <td>gambiae</td>\n",
              "    </tr>\n",
              "    <tr>\n",
              "      <th>2783</th>\n",
              "      <td>AC0299-C</td>\n",
              "      <td>K96</td>\n",
              "      <td>Martin Donnelly</td>\n",
              "      <td>Uganda</td>\n",
              "      <td>Kihihi</td>\n",
              "      <td>2012</td>\n",
              "      <td>11</td>\n",
              "      <td>-0.751</td>\n",
              "      <td>29.701</td>\n",
              "      <td>F</td>\n",
              "      <td>AG1000G-UG</td>\n",
              "      <td>v3</td>\n",
              "      <td>0.029</td>\n",
              "      <td>0.002</td>\n",
              "      <td>gamb_colu</td>\n",
              "      <td>gambiae</td>\n",
              "      <td>gambiae</td>\n",
              "    </tr>\n",
              "  </tbody>\n",
              "</table>\n",
              "<p>2784 rows × 17 columns</p>\n",
              "</div>\n",
              "      <button class=\"colab-df-convert\" onclick=\"convertToInteractive('df-d1dc255f-63f3-4db5-a765-9c048683e363')\"\n",
              "              title=\"Convert this dataframe to an interactive table.\"\n",
              "              style=\"display:none;\">\n",
              "        \n",
              "  <svg xmlns=\"http://www.w3.org/2000/svg\" height=\"24px\"viewBox=\"0 0 24 24\"\n",
              "       width=\"24px\">\n",
              "    <path d=\"M0 0h24v24H0V0z\" fill=\"none\"/>\n",
              "    <path d=\"M18.56 5.44l.94 2.06.94-2.06 2.06-.94-2.06-.94-.94-2.06-.94 2.06-2.06.94zm-11 1L8.5 8.5l.94-2.06 2.06-.94-2.06-.94L8.5 2.5l-.94 2.06-2.06.94zm10 10l.94 2.06.94-2.06 2.06-.94-2.06-.94-.94-2.06-.94 2.06-2.06.94z\"/><path d=\"M17.41 7.96l-1.37-1.37c-.4-.4-.92-.59-1.43-.59-.52 0-1.04.2-1.43.59L10.3 9.45l-7.72 7.72c-.78.78-.78 2.05 0 2.83L4 21.41c.39.39.9.59 1.41.59.51 0 1.02-.2 1.41-.59l7.78-7.78 2.81-2.81c.8-.78.8-2.07 0-2.86zM5.41 20L4 18.59l7.72-7.72 1.47 1.35L5.41 20z\"/>\n",
              "  </svg>\n",
              "      </button>\n",
              "      \n",
              "  <style>\n",
              "    .colab-df-container {\n",
              "      display:flex;\n",
              "      flex-wrap:wrap;\n",
              "      gap: 12px;\n",
              "    }\n",
              "\n",
              "    .colab-df-convert {\n",
              "      background-color: #E8F0FE;\n",
              "      border: none;\n",
              "      border-radius: 50%;\n",
              "      cursor: pointer;\n",
              "      display: none;\n",
              "      fill: #1967D2;\n",
              "      height: 32px;\n",
              "      padding: 0 0 0 0;\n",
              "      width: 32px;\n",
              "    }\n",
              "\n",
              "    .colab-df-convert:hover {\n",
              "      background-color: #E2EBFA;\n",
              "      box-shadow: 0px 1px 2px rgba(60, 64, 67, 0.3), 0px 1px 3px 1px rgba(60, 64, 67, 0.15);\n",
              "      fill: #174EA6;\n",
              "    }\n",
              "\n",
              "    [theme=dark] .colab-df-convert {\n",
              "      background-color: #3B4455;\n",
              "      fill: #D2E3FC;\n",
              "    }\n",
              "\n",
              "    [theme=dark] .colab-df-convert:hover {\n",
              "      background-color: #434B5C;\n",
              "      box-shadow: 0px 1px 3px 1px rgba(0, 0, 0, 0.15);\n",
              "      filter: drop-shadow(0px 1px 2px rgba(0, 0, 0, 0.3));\n",
              "      fill: #FFFFFF;\n",
              "    }\n",
              "  </style>\n",
              "\n",
              "      <script>\n",
              "        const buttonEl =\n",
              "          document.querySelector('#df-d1dc255f-63f3-4db5-a765-9c048683e363 button.colab-df-convert');\n",
              "        buttonEl.style.display =\n",
              "          google.colab.kernel.accessAllowed ? 'block' : 'none';\n",
              "\n",
              "        async function convertToInteractive(key) {\n",
              "          const element = document.querySelector('#df-d1dc255f-63f3-4db5-a765-9c048683e363');\n",
              "          const dataTable =\n",
              "            await google.colab.kernel.invokeFunction('convertToInteractive',\n",
              "                                                     [key], {});\n",
              "          if (!dataTable) return;\n",
              "\n",
              "          const docLinkHtml = 'Like what you see? Visit the ' +\n",
              "            '<a target=\"_blank\" href=https://colab.research.google.com/notebooks/data_table.ipynb>data table notebook</a>'\n",
              "            + ' to learn more about interactive tables.';\n",
              "          element.innerHTML = '';\n",
              "          dataTable['output_type'] = 'display_data';\n",
              "          await google.colab.output.renderOutput(dataTable, element);\n",
              "          const docLink = document.createElement('div');\n",
              "          docLink.innerHTML = docLinkHtml;\n",
              "          element.appendChild(docLink);\n",
              "        }\n",
              "      </script>\n",
              "    </div>\n",
              "  </div>\n",
              "  "
            ],
            "text/plain": [
              "     sample_id partner_sample_id  ... species_gambiae_coluzzii   species\n",
              "0     AR0047-C            LUA047  ...                 coluzzii  coluzzii\n",
              "1     AR0049-C            LUA049  ...                 coluzzii  coluzzii\n",
              "2     AR0051-C            LUA051  ...                 coluzzii  coluzzii\n",
              "3     AR0061-C            LUA061  ...                 coluzzii  coluzzii\n",
              "4     AR0078-C            LUA078  ...                 coluzzii  coluzzii\n",
              "...        ...               ...  ...                      ...       ...\n",
              "2779  AC0295-C               K92  ...                  gambiae   gambiae\n",
              "2780  AC0296-C               K93  ...                  gambiae   gambiae\n",
              "2781  AC0297-C               K94  ...                  gambiae   gambiae\n",
              "2782  AC0298-C               K95  ...                  gambiae   gambiae\n",
              "2783  AC0299-C               K96  ...                  gambiae   gambiae\n",
              "\n",
              "[2784 rows x 17 columns]"
            ]
          },
          "metadata": {},
          "execution_count": 34
        }
      ]
    },
    {
      "cell_type": "markdown",
      "source": [
        "## Creating plots\n",
        "\n",
        "@@TODO"
      ],
      "metadata": {
        "id": "lJtQ2mcqTAWA"
      }
    },
    {
      "cell_type": "code",
      "source": [
        "x = np.random.binomial(n=30, p=0.5, size=10_000)\n",
        "x"
      ],
      "metadata": {
        "colab": {
          "base_uri": "https://localhost:8080/"
        },
        "id": "0eTx4ltEj1ww",
        "outputId": "6abac752-ecc6-4b18-e483-7452bcfe5fd5"
      },
      "execution_count": 23,
      "outputs": [
        {
          "output_type": "execute_result",
          "data": {
            "text/plain": [
              "array([20, 12, 15, ..., 13, 17, 16])"
            ]
          },
          "metadata": {},
          "execution_count": 23
        }
      ]
    },
    {
      "cell_type": "markdown",
      "source": [
        "### Matplotlib\n",
        "\n",
        "@@TODO"
      ],
      "metadata": {
        "id": "tJY3E8yGTDC_"
      }
    },
    {
      "cell_type": "code",
      "source": [
        "import matplotlib.pyplot as plt\n",
        "%matplotlib inline\n",
        "%config InlineBackend.figure_format = \"retina\""
      ],
      "metadata": {
        "id": "SiolTVY8hyfH"
      },
      "execution_count": 10,
      "outputs": []
    },
    {
      "cell_type": "code",
      "source": [
        "fig, ax = plt.subplots()\n",
        "ax.hist(x)\n",
        "ax.set_xlabel(\"x\")\n",
        "ax.set_ylabel(\"Count\")\n",
        "ax.set_title(\"The binomial distribution\");"
      ],
      "metadata": {
        "colab": {
          "base_uri": "https://localhost:8080/",
          "height": 294
        },
        "id": "nWAXQguFhy6J",
        "outputId": "bdfeaece-e6ae-49e8-e83b-a7b4fde137dd"
      },
      "execution_count": 25,
      "outputs": [
        {
          "output_type": "display_data",
          "data": {
            "image/png": "[encoded data removed]",
            "text/plain": [
              "<Figure size 432x288 with 1 Axes>"
            ]
          },
          "metadata": {
            "image/png": {
              "width": 395,
              "height": 277
            },
            "needs_background": "light"
          }
        }
      ]
    },
    {
      "cell_type": "markdown",
      "source": [
        "### Plotly\n",
        "\n",
        "@@TODO"
      ],
      "metadata": {
        "id": "xYqfzVjmTLCM"
      }
    },
    {
      "cell_type": "code",
      "source": [
        "import plotly.express as px"
      ],
      "metadata": {
        "id": "DJgxWVfzjLQg"
      },
      "execution_count": 12,
      "outputs": []
    },
    {
      "cell_type": "code",
      "source": [
        "fig = px.histogram(\n",
        "    x=x, \n",
        "    title=\"The binomial distribution\",\n",
        "    width=600,\n",
        "    height=400\n",
        ")\n",
        "fig.show()"
      ],
      "metadata": {
        "colab": {
          "base_uri": "https://localhost:8080/",
          "height": 417
        },
        "id": "JLPR8ISZjMP4",
        "outputId": "c6238ab6-825c-4204-e310-44da28987b83"
      },
      "execution_count": 26,
      "outputs": [
        {
          "output_type": "display_data",
          "data": {
            "text/html": [
              "<html>\n",
              "<head><meta charset=\"utf-8\" /></head>\n",
              "<body>\n",
              "    <div>\n",
              "            <script src=\"https://cdnjs.cloudflare.com/ajax/libs/mathjax/2.7.5/MathJax.js?config=TeX-AMS-MML_SVG\"></script><script type=\"text/javascript\">if (window.MathJax) {MathJax.Hub.Config({SVG: {font: \"STIX-Web\"}});}</script>\n",
              "                <script type=\"text/javascript\">window.PlotlyConfig = {MathJaxConfig: 'local'};</script>\n",
              "        <script src=\"https://cdn.plot.ly/plotly-latest.min.js\"></script>    \n",
              "            <div id=\"f6740720-0a1b-4a63-9276-4f035463ae9c\" class=\"plotly-graph-div\" style=\"height:400px; width:600px;\"></div>\n",
              "            <script type=\"text/javascript\">\n",
              "                \n",
              "                    window.PLOTLYENV=window.PLOTLYENV || {};\n",
              "                    \n",
              "                if (document.getElementById(\"f6740720-0a1b-4a63-9276-4f035463ae9c\")) {\n",
              "                    Plotly.newPlot(\n",
              "                        'f6740720-0a1b-4a63-9276-4f035463ae9c',\n",
              "                        [{\"alignmentgroup\": \"True\", \"bingroup\": \"x\", \"hoverlabel\": {\"namelength\": 0}, \"hovertemplate\": \"x=%{x}<br>count=%{y}\", \"legendgroup\": \"\", \"marker\": {\"color\": \"#636efa\"}, \"name\": \"\", \"offsetgroup\": \"\", \"orientation\": \"v\", \"showlegend\": false, \"type\": \"histogram\", \"x\": [20, 12, 15, 15, 16, 14, 15, 14, 17, 11, 14, 15, 8, 15, 10, 16, 12, 12, 10, 20, 16, 13, 14, 16, 15, 17, 18, 14, 11, 15, 10, 13, 16, 13, 16, 13, 15, 11, 18, 19, 14, 15, 17, 17, 14, 14, 15, 15, 18, 16, 15, 13, 18, 16, 13, 18, 9, 16, 10, 18, 16, 13, 14, 15, 15, 20, 13, 15, 14, 14, 14, 15, 19, 13, 12, 16, 15, 16, 15, 16, 17, 14, 17, 14, 16, 15, 15, 13, 15, 16, 18, 17, 18, 14, 15, 11, 20, 19, 15, 16, 15, 14, 15, 14, 15, 16, 14, 17, 20, 17, 14, 17, 9, 15, 18, 11, 17, 14, 20, 12, 20, 19, 17, 16, 19, 18, 12, 15, 15, 16, 10, 16, 12, 14, 16, 18, 14, 20, 14, 14, 16, 14, 19, 12, 7, 17, 18, 18, 20, 19, 12, 16, 13, 14, 18, 10, 18, 15, 15, 13, 17, 18, 18, 14, 16, 18, 18, 20, 17, 18, 15, 15, 17, 16, 19, 13, 18, 16, 14, 20, 19, 10, 17, 15, 14, 14, 20, 19, 16, 17, 17, 20, 14, 15, 13, 15, 14, 15, 16, 17, 16, 14, 13, 12, 19, 16, 16, 15, 17, 14, 15, 12, 19, 16, 19, 13, 12, 13, 16, 14, 19, 14, 13, 11, 12, 17, 17, 13, 17, 12, 18, 16, 19, 15, 18, 18, 12, 14, 15, 15, 17, 17, 12, 14, 16, 15, 14, 22, 14, 17, 17, 18, 15, 17, 16, 15, 17, 17, 12, 20, 12, 13, 19, 17, 9, 17, 12, 16, 17, 11, 17, 14, 16, 17, 9, 15, 17, 15, 19, 12, 15, 10, 11, 10, 13, 14, 17, 10, 12, 19, 10, 13, 14, 20, 14, 14, 19, 14, 17, 15, 13, 18, 19, 9, 14, 16, 17, 13, 16, 20, 17, 17, 17, 17, 15, 12, 11, 12, 15, 18, 13, 12, 15, 13, 19, 14, 18, 14, 19, 14, 15, 15, 15, 17, 16, 19, 17, 16, 19, 13, 20, 15, 16, 14, 15, 11, 16, 13, 9, 19, 14, 13, 18, 15, 15, 11, 15, 17, 15, 16, 15, 13, 17, 17, 12, 14, 13, 16, 11, 9, 17, 13, 16, 17, 17, 19, 16, 16, 11, 13, 18, 13, 14, 16, 14, 17, 15, 17, 14, 16, 20, 18, 11, 15, 14, 15, 16, 18, 18, 14, 16, 12, 14, 17, 14, 17, 15, 16, 7, 20, 13, 16, 15, 17, 12, 17, 18, 10, 20, 8, 16, 12, 18, 15, 14, 16, 13, 12, 17, 10, 19, 9, 19, 17, 12, 18, 13, 15, 19, 10, 13, 17, 16, 15, 16, 12, 12, 11, 9, 15, 11, 13, 13, 17, 18, 15, 16, 17, 13, 12, 15, 10, 17, 13, 8, 17, 20, 16, 10, 9, 12, 15, 12, 16, 16, 13, 14, 12, 19, 16, 14, 14, 8, 14, 11, 14, 15, 13, 17, 14, 13, 14, 14, 15, 12, 14, 13, 16, 18, 10, 13, 13, 11, 22, 13, 16, 17, 13, 17, 18, 14, 15, 17, 14, 14, 14, 21, 16, 14, 16, 19, 14, 12, 13, 16, 18, 17, 11, 19, 12, 13, 14, 14, 13, 18, 17, 13, 18, 14, 15, 17, 14, 13, 16, 17, 13, 16, 17, 15, 14, 17, 14, 18, 13, 17, 15, 13, 15, 13, 15, 17, 17, 16, 18, 10, 16, 14, 15, 17, 15, 19, 14, 12, 17, 11, 20, 13, 13, 9, 15, 11, 13, 12, 13, 15, 15, 13, 14, 14, 14, 16, 12, 16, 14, 18, 18, 16, 15, 17, 14, 10, 17, 15, 13, 18, 11, 16, 19, 12, 10, 16, 19, 14, 12, 18, 17, 14, 15, 17, 16, 15, 16, 19, 14, 17, 15, 10, 10, 17, 17, 14, 14, 19, 16, 11, 13, 19, 15, 14, 15, 15, 20, 15, 16, 15, 16, 16, 12, 18, 18, 16, 15, 17, 22, 15, 15, 19, 12, 10, 13, 16, 16, 17, 13, 11, 14, 17, 16, 18, 13, 16, 20, 10, 14, 16, 11, 16, 15, 19, 15, 15, 16, 15, 15, 20, 11, 13, 22, 12, 15, 9, 12, 15, 15, 12, 14, 16, 17, 9, 13, 16, 14, 18, 16, 14, 15, 17, 16, 13, 21, 12, 11, 20, 13, 12, 16, 15, 15, 15, 14, 13, 12, 15, 16, 12, 16, 13, 14, 15, 15, 20, 12, 11, 16, 13, 13, 10, 14, 15, 16, 14, 8, 19, 15, 14, 14, 18, 14, 14, 15, 14, 17, 13, 19, 17, 16, 14, 17, 14, 17, 16, 16, 17, 13, 11, 14, 17, 15, 22, 13, 16, 10, 16, 15, 18, 15, 20, 17, 13, 17, 7, 15, 16, 12, 12, 11, 12, 13, 13, 18, 15, 13, 15, 15, 14, 16, 13, 12, 16, 19, 10, 18, 15, 14, 18, 16, 9, 18, 17, 9, 14, 15, 13, 13, 13, 14, 12, 15, 12, 15, 11, 15, 16, 13, 16, 15, 18, 11, 22, 12, 20, 15, 18, 22, 17, 13, 11, 14, 15, 16, 16, 9, 18, 11, 15, 12, 14, 15, 17, 11, 17, 17, 14, 17, 17, 13, 13, 17, 7, 12, 21, 19, 16, 16, 15, 15, 18, 12, 15, 12, 19, 18, 18, 13, 12, 14, 15, 19, 15, 15, 17, 16, 10, 15, 16, 16, 17, 19, 15, 16, 18, 16, 16, 19, 19, 18, 15, 14, 14, 16, 19, 13, 16, 15, 17, 13, 16, 19, 13, 15, 13, 14, 16, 18, 15, 14, 16, 16, 17, 16, 15, 17, 17, 17, 15, 14, 15, 17, 12, 14, 19, 12, 10, 15, 15, 15, 11, 19, 19, 8, 16, 21, 17, 14, 13, 17, 19, 15, 16, 16, 12, 11, 17, 13, 19, 12, 14, 21, 15, 13, 17, 13, 12, 17, 11, 6, 14, 17, 15, 15, 18, 19, 13, 15, 11, 16, 19, 15, 12, 13, 15, 17, 18, 14, 16, 13, 15, 15, 17, 14, 13, 16, 17, 18, 14, 15, 11, 18, 10, 16, 18, 17, 13, 14, 14, 18, 16, 13, 12, 16, 13, 14, 15, 19, 16, 19, 16, 17, 16, 14, 16, 15, 16, 15, 10, 15, 9, 15, 13, 16, 16, 13, 17, 13, 12, 13, 14, 16, 14, 10, 12, 10, 17, 12, 15, 14, 13, 18, 17, 13, 13, 12, 18, 18, 16, 13, 17, 15, 14, 17, 16, 15, 12, 15, 17, 16, 19, 16, 13, 17, 14, 17, 15, 12, 17, 17, 16, 15, 14, 13, 14, 15, 15, 11, 18, 14, 15, 12, 16, 10, 17, 21, 8, 16, 17, 17, 15, 16, 8, 16, 16, 14, 17, 10, 13, 13, 13, 20, 20, 16, 15, 15, 9, 14, 19, 20, 16, 15, 10, 15, 11, 17, 18, 18, 14, 19, 16, 17, 16, 15, 16, 16, 17, 16, 17, 15, 13, 15, 19, 12, 12, 17, 10, 15, 17, 18, 14, 18, 14, 19, 12, 13, 11, 13, 11, 18, 15, 15, 13, 19, 12, 12, 16, 18, 16, 14, 15, 13, 15, 12, 13, 13, 17, 16, 14, 15, 18, 16, 11, 15, 16, 14, 14, 9, 16, 10, 11, 12, 12, 13, 15, 14, 11, 17, 12, 16, 16, 14, 12, 16, 18, 11, 16, 18, 14, 11, 15, 15, 16, 15, 14, 18, 14, 13, 15, 15, 18, 16, 11, 20, 21, 14, 17, 16, 13, 16, 15, 14, 16, 16, 19, 10, 17, 17, 15, 9, 14, 19, 12, 18, 14, 9, 14, 15, 14, 15, 15, 13, 16, 10, 15, 14, 11, 20, 13, 20, 20, 13, 13, 16, 14, 12, 22, 13, 15, 16, 10, 18, 15, 13, 18, 19, 14, 14, 17, 17, 16, 14, 12, 14, 12, 14, 15, 17, 15, 16, 11, 16, 13, 19, 15, 18, 11, 15, 17, 12, 16, 17, 14, 16, 15, 12, 11, 16, 19, 13, 17, 15, 15, 13, 11, 14, 16, 14, 15, 16, 11, 13, 15, 14, 15, 14, 18, 14, 17, 15, 21, 13, 15, 13, 15, 13, 13, 12, 16, 12, 18, 15, 13, 15, 15, 13, 13, 17, 14, 14, 10, 16, 15, 14, 14, 11, 12, 17, 16, 15, 14, 14, 15, 14, 19, 16, 14, 17, 14, 18, 12, 14, 15, 14, 12, 15, 15, 15, 12, 15, 16, 19, 14, 15, 19, 19, 17, 16, 15, 14, 14, 13, 12, 13, 18, 17, 14, 12, 14, 12, 20, 14, 17, 13, 13, 16, 19, 19, 16, 22, 17, 14, 12, 14, 17, 16, 14, 17, 16, 14, 12, 17, 14, 19, 14, 14, 15, 19, 12, 16, 17, 16, 17, 15, 16, 16, 18, 14, 19, 18, 17, 22, 18, 16, 8, 17, 14, 12, 16, 15, 17, 17, 20, 13, 18, 21, 12, 18, 15, 15, 18, 14, 7, 13, 10, 13, 13, 18, 11, 12, 14, 16, 11, 12, 17, 17, 14, 18, 14, 16, 15, 17, 15, 13, 15, 13, 14, 14, 15, 19, 17, 11, 17, 16, 15, 15, 14, 14, 16, 11, 16, 16, 17, 15, 15, 15, 15, 17, 17, 15, 15, 16, 15, 16, 14, 16, 16, 17, 9, 15, 15, 12, 19, 9, 17, 15, 19, 14, 12, 17, 17, 19, 17, 16, 20, 14, 11, 11, 14, 13, 20, 15, 12, 13, 14, 14, 18, 11, 22, 12, 14, 12, 13, 16, 17, 16, 12, 13, 12, 13, 15, 20, 9, 14, 17, 15, 11, 16, 18, 14, 15, 11, 13, 8, 13, 17, 16, 18, 20, 14, 22, 15, 14, 17, 21, 13, 19, 12, 15, 17, 11, 18, 14, 16, 17, 13, 13, 18, 16, 16, 17, 17, 12, 17, 17, 13, 16, 14, 13, 17, 14, 13, 14, 15, 18, 15, 14, 14, 9, 15, 9, 14, 17, 15, 10, 14, 18, 16, 16, 17, 13, 13, 17, 13, 14, 16, 18, 19, 13, 18, 15, 14, 14, 23, 12, 20, 18, 15, 17, 10, 18, 18, 18, 16, 14, 15, 14, 12, 17, 13, 13, 14, 14, 16, 16, 14, 17, 14, 19, 14, 16, 13, 17, 16, 18, 18, 9, 14, 16, 15, 16, 14, 16, 16, 14, 15, 13, 17, 14, 13, 14, 15, 13, 18, 16, 11, 14, 18, 14, 19, 11, 12, 12, 14, 13, 13, 16, 14, 13, 12, 19, 16, 13, 14, 16, 14, 17, 13, 11, 14, 13, 13, 13, 14, 14, 14, 20, 10, 18, 13, 16, 14, 17, 17, 12, 17, 21, 18, 15, 14, 15, 11, 16, 20, 13, 12, 18, 19, 13, 13, 18, 14, 14, 16, 15, 13, 15, 10, 15, 15, 18, 10, 15, 17, 14, 16, 16, 17, 20, 14, 21, 16, 18, 15, 15, 11, 15, 15, 18, 18, 12, 13, 18, 15, 16, 15, 16, 17, 15, 13, 15, 14, 17, 12, 14, 15, 15, 18, 22, 14, 18, 10, 20, 18, 16, 17, 13, 10, 15, 17, 11, 16, 14, 12, 17, 13, 14, 14, 14, 13, 15, 13, 15, 17, 13, 8, 14, 14, 18, 16, 12, 15, 18, 17, 15, 13, 11, 20, 14, 14, 13, 12, 14, 20, 12, 12, 16, 15, 13, 17, 14, 14, 16, 14, 17, 16, 12, 20, 10, 19, 15, 12, 14, 20, 15, 8, 10, 15, 11, 15, 15, 18, 15, 18, 18, 12, 17, 17, 13, 15, 16, 19, 13, 11, 15, 13, 14, 18, 18, 7, 14, 17, 17, 18, 14, 20, 17, 12, 16, 18, 14, 11, 15, 13, 19, 22, 21, 15, 14, 9, 14, 13, 9, 17, 20, 18, 18, 11, 17, 14, 16, 13, 10, 13, 13, 17, 15, 21, 17, 14, 16, 12, 20, 16, 21, 19, 20, 19, 16, 18, 16, 15, 17, 16, 17, 15, 14, 16, 19, 17, 14, 14, 16, 13, 15, 14, 17, 14, 13, 15, 12, 11, 13, 14, 15, 15, 14, 13, 19, 15, 16, 14, 18, 21, 11, 14, 12, 16, 15, 13, 13, 17, 17, 10, 15, 13, 12, 14, 13, 19, 14, 19, 13, 11, 15, 18, 21, 14, 15, 14, 9, 17, 19, 18, 16, 18, 15, 15, 13, 16, 12, 15, 17, 12, 14, 16, 17, 16, 15, 14, 14, 14, 15, 16, 16, 15, 10, 15, 14, 17, 18, 15, 16, 14, 19, 19, 11, 15, 17, 22, 14, 15, 14, 17, 12, 13, 14, 22, 8, 15, 18, 17, 19, 14, 17, 20, 21, 16, 17, 17, 13, 13, 15, 15, 14, 16, 15, 16, 16, 13, 21, 13, 17, 14, 13, 16, 12, 14, 18, 13, 17, 15, 16, 17, 17, 13, 12, 11, 14, 15, 19, 19, 12, 14, 18, 19, 15, 15, 18, 11, 20, 13, 14, 13, 15, 16, 18, 17, 22, 16, 19, 14, 13, 16, 16, 16, 17, 13, 16, 13, 14, 17, 15, 18, 10, 17, 20, 17, 12, 15, 16, 13, 19, 14, 14, 13, 20, 21, 16, 15, 14, 15, 12, 14, 16, 10, 17, 16, 14, 15, 16, 18, 17, 19, 18, 16, 15, 14, 19, 15, 16, 10, 17, 20, 14, 13, 13, 14, 16, 14, 14, 17, 16, 24, 21, 17, 16, 12, 20, 16, 9, 17, 12, 14, 18, 12, 16, 11, 13, 13, 15, 15, 10, 17, 15, 14, 12, 18, 19, 15, 11, 12, 15, 18, 18, 15, 9, 12, 17, 15, 17, 19, 13, 11, 14, 19, 20, 14, 15, 13, 16, 17, 13, 20, 14, 11, 16, 19, 14, 12, 15, 13, 11, 15, 12, 13, 14, 18, 12, 20, 19, 18, 13, 13, 18, 14, 17, 14, 14, 12, 14, 15, 18, 12, 23, 18, 18, 18, 11, 15, 16, 16, 22, 21, 14, 13, 17, 17, 15, 15, 13, 11, 17, 13, 14, 14, 17, 18, 14, 16, 19, 11, 16, 17, 14, 17, 21, 15, 17, 15, 16, 17, 19, 13, 12, 17, 14, 19, 13, 11, 16, 20, 19, 17, 11, 12, 15, 13, 13, 18, 15, 12, 15, 19, 17, 12, 13, 20, 16, 13, 18, 17, 11, 19, 10, 15, 14, 14, 9, 13, 16, 19, 15, 17, 19, 13, 19, 16, 11, 11, 19, 14, 12, 15, 13, 13, 14, 14, 15, 18, 16, 12, 15, 17, 13, 18, 19, 12, 16, 14, 12, 19, 15, 16, 13, 16, 17, 17, 14, 9, 13, 14, 17, 13, 17, 15, 14, 13, 11, 14, 20, 19, 14, 15, 14, 17, 17, 20, 16, 14, 16, 15, 15, 13, 17, 19, 20, 13, 19, 16, 15, 15, 16, 16, 17, 13, 13, 12, 16, 19, 16, 15, 20, 17, 15, 10, 15, 15, 14, 17, 18, 14, 19, 11, 15, 14, 17, 12, 17, 15, 14, 14, 13, 14, 18, 16, 14, 14, 14, 20, 12, 16, 19, 13, 17, 19, 17, 9, 17, 14, 9, 15, 17, 14, 15, 15, 15, 19, 18, 17, 18, 19, 15, 14, 14, 16, 17, 12, 17, 15, 11, 13, 10, 15, 15, 12, 17, 12, 19, 16, 18, 12, 15, 14, 14, 20, 12, 21, 12, 13, 15, 14, 18, 16, 16, 23, 15, 15, 15, 17, 11, 12, 13, 16, 16, 21, 17, 18, 15, 16, 14, 13, 16, 16, 15, 17, 17, 20, 11, 14, 10, 12, 16, 17, 16, 15, 18, 18, 14, 19, 16, 14, 11, 17, 14, 11, 15, 14, 19, 18, 20, 12, 10, 17, 14, 11, 15, 12, 12, 11, 13, 17, 14, 19, 16, 16, 13, 15, 16, 15, 14, 17, 15, 17, 10, 12, 9, 17, 14, 19, 15, 15, 10, 17, 14, 14, 13, 17, 16, 16, 12, 17, 12, 17, 19, 10, 16, 12, 14, 15, 18, 14, 16, 15, 15, 17, 15, 17, 17, 16, 14, 18, 10, 19, 17, 13, 19, 20, 14, 17, 20, 17, 13, 19, 14, 18, 16, 14, 18, 19, 16, 14, 15, 14, 14, 14, 17, 20, 15, 18, 16, 11, 14, 14, 17, 18, 13, 12, 15, 19, 15, 15, 17, 11, 14, 13, 10, 15, 16, 14, 17, 15, 14, 17, 11, 15, 14, 14, 16, 14, 15, 11, 16, 18, 20, 12, 11, 15, 16, 15, 16, 15, 13, 16, 16, 15, 16, 17, 17, 15, 17, 12, 14, 17, 18, 16, 20, 19, 15, 16, 12, 16, 15, 19, 12, 17, 10, 14, 11, 17, 19, 8, 11, 15, 13, 16, 16, 12, 14, 16, 17, 19, 13, 17, 17, 18, 19, 15, 19, 14, 14, 9, 14, 14, 20, 17, 17, 13, 11, 12, 17, 12, 10, 13, 12, 13, 20, 20, 13, 15, 12, 11, 14, 19, 11, 14, 12, 16, 14, 17, 17, 15, 18, 13, 14, 13, 13, 13, 15, 17, 20, 17, 16, 17, 17, 21, 15, 17, 14, 13, 16, 14, 20, 15, 14, 15, 19, 18, 18, 18, 17, 13, 14, 16, 13, 17, 16, 12, 15, 16, 16, 12, 16, 17, 19, 14, 10, 13, 15, 16, 20, 14, 14, 15, 14, 19, 17, 16, 12, 14, 16, 13, 16, 12, 18, 7, 10, 11, 17, 13, 12, 11, 16, 14, 15, 14, 12, 12, 13, 16, 12, 17, 12, 11, 12, 16, 14, 12, 17, 12, 10, 13, 7, 16, 13, 16, 16, 11, 18, 10, 14, 16, 13, 12, 18, 15, 12, 19, 14, 15, 17, 16, 16, 16, 14, 17, 17, 22, 18, 18, 12, 21, 12, 19, 21, 19, 15, 13, 17, 12, 18, 12, 12, 16, 14, 9, 15, 19, 17, 16, 15, 20, 13, 12, 18, 15, 17, 21, 14, 17, 15, 14, 21, 16, 14, 19, 17, 18, 10, 13, 13, 16, 17, 14, 8, 12, 15, 21, 14, 13, 8, 13, 14, 16, 16, 17, 17, 15, 13, 16, 14, 15, 18, 16, 20, 18, 17, 13, 13, 14, 14, 17, 16, 18, 11, 17, 21, 19, 16, 15, 15, 19, 19, 15, 17, 17, 22, 16, 16, 16, 9, 16, 7, 15, 15, 16, 21, 16, 19, 16, 14, 17, 16, 16, 16, 18, 14, 16, 19, 18, 15, 18, 14, 15, 12, 14, 19, 13, 18, 16, 15, 14, 17, 12, 13, 14, 15, 16, 14, 15, 12, 14, 11, 12, 17, 11, 14, 14, 11, 13, 15, 22, 18, 9, 14, 20, 15, 18, 19, 18, 16, 13, 10, 11, 18, 15, 20, 17, 11, 21, 16, 14, 14, 12, 14, 17, 15, 22, 17, 15, 12, 16, 17, 13, 14, 14, 19, 17, 13, 13, 15, 12, 13, 14, 14, 13, 15, 14, 17, 11, 17, 16, 13, 18, 14, 15, 17, 15, 14, 13, 15, 16, 11, 15, 15, 13, 14, 14, 16, 14, 18, 14, 13, 11, 15, 15, 11, 15, 13, 11, 10, 14, 10, 17, 17, 9, 12, 12, 17, 17, 14, 18, 12, 16, 15, 14, 17, 11, 20, 14, 15, 17, 12, 16, 12, 16, 13, 18, 12, 15, 16, 14, 19, 12, 21, 20, 10, 12, 20, 20, 14, 14, 19, 15, 10, 14, 15, 18, 14, 10, 13, 18, 14, 16, 13, 16, 15, 18, 15, 12, 18, 14, 13, 17, 18, 12, 13, 14, 18, 14, 13, 16, 15, 11, 17, 13, 15, 12, 16, 14, 16, 14, 16, 15, 11, 17, 17, 10, 16, 14, 14, 22, 14, 15, 13, 16, 14, 11, 13, 23, 19, 12, 18, 14, 13, 16, 16, 15, 19, 17, 14, 15, 18, 14, 14, 15, 15, 10, 13, 16, 20, 17, 13, 13, 11, 18, 16, 12, 16, 18, 14, 17, 19, 16, 12, 15, 13, 10, 19, 20, 19, 12, 11, 14, 15, 18, 18, 17, 17, 12, 12, 13, 17, 16, 19, 15, 16, 14, 17, 13, 14, 18, 16, 19, 18, 9, 13, 12, 11, 13, 13, 18, 16, 12, 17, 10, 16, 9, 18, 14, 11, 15, 18, 15, 14, 14, 22, 16, 17, 18, 20, 21, 12, 14, 21, 12, 19, 16, 14, 15, 12, 17, 20, 16, 15, 16, 13, 11, 18, 11, 16, 17, 13, 16, 16, 16, 15, 11, 14, 15, 14, 16, 17, 14, 12, 12, 15, 17, 16, 20, 12, 15, 13, 12, 19, 17, 13, 12, 20, 14, 13, 15, 17, 17, 14, 16, 14, 14, 14, 19, 14, 21, 18, 14, 11, 18, 13, 20, 19, 19, 17, 15, 13, 15, 15, 13, 14, 15, 19, 14, 13, 12, 15, 12, 14, 19, 19, 15, 13, 16, 15, 15, 13, 17, 13, 15, 17, 14, 16, 17, 16, 17, 16, 18, 11, 16, 14, 17, 16, 17, 21, 13, 15, 15, 16, 14, 14, 19, 13, 12, 11, 13, 16, 14, 13, 14, 15, 19, 14, 18, 18, 17, 15, 17, 18, 16, 13, 12, 15, 17, 13, 15, 13, 18, 11, 16, 14, 17, 11, 18, 16, 15, 12, 12, 15, 15, 16, 16, 16, 14, 17, 16, 16, 12, 12, 17, 17, 14, 14, 12, 13, 7, 17, 16, 10, 16, 17, 12, 16, 9, 12, 20, 11, 12, 14, 18, 19, 14, 15, 15, 17, 17, 18, 15, 10, 12, 17, 16, 17, 11, 17, 16, 11, 15, 17, 15, 13, 13, 15, 10, 15, 9, 16, 13, 10, 14, 20, 18, 13, 15, 15, 13, 17, 14, 14, 15, 16, 14, 9, 10, 12, 19, 18, 10, 21, 14, 16, 19, 13, 14, 11, 10, 16, 13, 18, 12, 15, 11, 13, 14, 16, 14, 15, 17, 13, 15, 17, 15, 19, 24, 12, 11, 18, 13, 15, 15, 12, 9, 16, 19, 18, 15, 14, 15, 13, 17, 15, 15, 14, 13, 9, 9, 14, 16, 14, 13, 16, 14, 16, 11, 17, 14, 18, 17, 8, 17, 20, 14, 13, 15, 12, 14, 14, 13, 15, 18, 14, 19, 16, 20, 16, 14, 17, 18, 17, 15, 13, 15, 16, 13, 13, 13, 15, 17, 16, 19, 17, 16, 16, 19, 21, 15, 15, 12, 13, 17, 17, 13, 18, 16, 13, 11, 12, 15, 17, 10, 11, 13, 11, 15, 20, 17, 17, 17, 16, 17, 11, 17, 15, 14, 17, 23, 21, 18, 19, 15, 15, 19, 17, 14, 14, 18, 18, 18, 15, 13, 14, 15, 16, 20, 14, 14, 10, 9, 14, 9, 16, 12, 14, 12, 17, 15, 22, 15, 20, 16, 12, 11, 18, 11, 17, 15, 17, 8, 11, 13, 13, 15, 10, 17, 16, 13, 15, 17, 13, 15, 16, 17, 18, 19, 14, 16, 17, 17, 10, 17, 17, 13, 18, 14, 16, 14, 13, 13, 18, 14, 15, 14, 15, 20, 13, 16, 12, 15, 12, 14, 16, 13, 13, 17, 15, 13, 13, 15, 13, 18, 13, 14, 17, 11, 17, 14, 15, 17, 18, 22, 14, 12, 17, 20, 16, 16, 18, 12, 13, 16, 17, 17, 16, 17, 15, 15, 16, 18, 19, 19, 15, 12, 17, 18, 16, 12, 19, 17, 14, 17, 11, 17, 20, 15, 19, 16, 12, 16, 17, 9, 14, 16, 20, 13, 16, 15, 10, 12, 16, 16, 14, 8, 14, 17, 18, 19, 16, 19, 14, 18, 17, 18, 16, 15, 16, 14, 16, 15, 12, 15, 13, 15, 13, 16, 15, 12, 19, 15, 17, 18, 19, 11, 20, 14, 9, 19, 16, 14, 19, 15, 17, 14, 16, 14, 17, 16, 15, 18, 15, 19, 18, 19, 13, 15, 15, 14, 13, 20, 15, 20, 11, 15, 15, 16, 17, 15, 7, 17, 15, 16, 18, 16, 17, 17, 19, 16, 19, 15, 12, 16, 19, 16, 12, 13, 20, 13, 18, 14, 15, 13, 17, 14, 19, 15, 20, 15, 15, 16, 15, 17, 15, 21, 14, 16, 13, 13, 16, 14, 20, 15, 14, 16, 20, 13, 13, 16, 17, 17, 13, 20, 19, 15, 17, 16, 18, 16, 12, 15, 16, 13, 14, 18, 11, 13, 11, 10, 14, 19, 16, 18, 14, 11, 17, 14, 17, 12, 16, 17, 13, 13, 14, 20, 24, 21, 16, 15, 15, 10, 15, 13, 12, 16, 17, 17, 14, 15, 16, 16, 12, 9, 12, 14, 16, 17, 16, 16, 13, 14, 15, 15, 10, 14, 17, 11, 17, 16, 14, 11, 18, 17, 11, 16, 14, 11, 19, 16, 13, 17, 15, 18, 15, 16, 12, 17, 13, 13, 16, 19, 15, 17, 15, 14, 11, 14, 14, 14, 16, 15, 13, 14, 19, 17, 13, 17, 16, 12, 16, 16, 14, 18, 17, 16, 14, 16, 11, 19, 16, 19, 14, 17, 19, 16, 16, 14, 13, 13, 16, 14, 13, 18, 17, 14, 10, 21, 17, 17, 18, 13, 11, 11, 19, 22, 15, 16, 14, 19, 20, 11, 14, 14, 16, 23, 14, 12, 15, 12, 11, 14, 14, 17, 23, 14, 14, 14, 22, 12, 15, 18, 15, 14, 15, 17, 13, 14, 16, 20, 15, 17, 16, 13, 16, 13, 19, 15, 15, 17, 11, 18, 18, 16, 15, 16, 12, 13, 14, 15, 13, 11, 18, 17, 21, 14, 16, 15, 16, 18, 18, 10, 14, 14, 16, 14, 16, 14, 18, 17, 14, 15, 15, 15, 15, 15, 15, 12, 18, 18, 20, 18, 19, 18, 13, 15, 12, 13, 15, 18, 12, 13, 16, 15, 12, 10, 22, 16, 16, 12, 12, 16, 15, 15, 14, 8, 18, 14, 12, 8, 14, 14, 10, 19, 17, 15, 18, 18, 12, 15, 14, 18, 15, 15, 14, 21, 13, 14, 11, 10, 10, 18, 21, 13, 15, 10, 16, 13, 9, 14, 13, 14, 19, 20, 16, 11, 19, 18, 17, 17, 17, 13, 16, 17, 14, 15, 16, 11, 17, 18, 13, 18, 11, 16, 16, 14, 14, 9, 11, 13, 13, 12, 13, 16, 13, 13, 16, 14, 12, 21, 15, 14, 15, 19, 17, 17, 14, 8, 13, 11, 18, 15, 15, 16, 14, 9, 13, 13, 13, 12, 15, 16, 13, 12, 19, 18, 18, 13, 17, 14, 12, 11, 14, 18, 10, 16, 17, 17, 18, 13, 11, 14, 18, 13, 17, 17, 20, 17, 14, 18, 12, 15, 14, 16, 18, 17, 14, 15, 14, 21, 17, 19, 17, 15, 15, 12, 14, 20, 17, 15, 21, 12, 16, 15, 18, 16, 17, 13, 19, 15, 14, 11, 17, 15, 17, 19, 19, 17, 21, 10, 22, 18, 13, 16, 12, 13, 17, 19, 15, 12, 16, 11, 15, 18, 16, 16, 12, 11, 15, 16, 13, 17, 9, 13, 16, 9, 13, 11, 20, 16, 17, 18, 17, 14, 14, 16, 9, 10, 15, 19, 17, 12, 15, 13, 16, 15, 16, 10, 15, 14, 18, 17, 15, 13, 18, 17, 14, 17, 19, 16, 14, 17, 14, 17, 12, 14, 19, 11, 14, 16, 17, 17, 16, 20, 21, 16, 17, 14, 16, 12, 14, 12, 16, 13, 19, 17, 16, 11, 17, 11, 12, 14, 13, 17, 11, 17, 19, 17, 17, 15, 10, 14, 12, 18, 18, 14, 16, 13, 23, 19, 16, 17, 16, 21, 13, 14, 14, 16, 13, 10, 13, 12, 16, 11, 19, 13, 15, 15, 13, 13, 20, 15, 17, 19, 16, 18, 14, 16, 15, 17, 15, 12, 13, 14, 15, 11, 12, 17, 17, 13, 15, 17, 10, 20, 15, 18, 16, 12, 13, 15, 13, 18, 15, 17, 20, 15, 10, 15, 12, 14, 12, 15, 17, 13, 14, 19, 16, 17, 15, 16, 15, 16, 16, 16, 19, 17, 13, 13, 14, 17, 9, 17, 11, 15, 14, 14, 16, 16, 17, 14, 14, 17, 16, 17, 19, 13, 18, 13, 13, 13, 17, 18, 13, 20, 15, 16, 17, 11, 17, 13, 12, 15, 14, 13, 17, 20, 13, 12, 17, 15, 10, 14, 13, 13, 16, 14, 13, 13, 10, 9, 16, 18, 18, 17, 20, 19, 11, 17, 15, 11, 15, 18, 15, 16, 16, 15, 12, 16, 14, 12, 14, 17, 19, 14, 14, 14, 14, 16, 16, 13, 20, 17, 15, 20, 20, 10, 11, 19, 9, 14, 16, 13, 18, 14, 12, 17, 12, 9, 15, 19, 20, 13, 14, 12, 14, 15, 20, 12, 20, 17, 16, 11, 14, 16, 17, 11, 11, 18, 14, 15, 16, 17, 12, 18, 15, 13, 18, 13, 18, 15, 16, 12, 18, 9, 15, 12, 18, 12, 13, 18, 12, 15, 20, 14, 14, 10, 17, 14, 18, 17, 14, 16, 15, 20, 13, 9, 13, 17, 12, 15, 16, 16, 11, 17, 19, 18, 13, 16, 13, 13, 14, 17, 15, 12, 17, 18, 12, 12, 11, 14, 15, 14, 13, 18, 13, 14, 13, 12, 17, 17, 17, 17, 12, 16, 13, 14, 16, 16, 14, 22, 16, 15, 15, 16, 18, 12, 9, 16, 13, 12, 13, 11, 12, 12, 14, 13, 20, 14, 15, 21, 13, 16, 11, 15, 11, 12, 10, 16, 16, 16, 14, 9, 13, 14, 11, 18, 16, 15, 18, 16, 17, 12, 13, 17, 15, 16, 14, 19, 19, 19, 10, 12, 15, 14, 15, 11, 14, 14, 19, 12, 16, 17, 15, 12, 16, 13, 11, 14, 14, 15, 17, 20, 16, 13, 21, 13, 14, 17, 16, 11, 19, 16, 10, 19, 15, 14, 17, 15, 14, 15, 17, 14, 11, 13, 17, 17, 15, 19, 15, 16, 10, 12, 19, 16, 16, 19, 13, 15, 11, 10, 14, 14, 15, 16, 11, 21, 14, 19, 19, 17, 13, 15, 15, 15, 14, 15, 11, 16, 15, 15, 21, 16, 18, 13, 20, 14, 15, 14, 14, 13, 14, 13, 15, 11, 15, 14, 15, 14, 16, 14, 16, 15, 22, 14, 13, 16, 15, 14, 15, 20, 17, 13, 18, 9, 14, 12, 11, 13, 13, 15, 15, 16, 13, 16, 15, 12, 20, 15, 15, 14, 18, 19, 14, 15, 16, 13, 11, 18, 17, 14, 13, 15, 16, 15, 11, 12, 7, 18, 18, 16, 13, 19, 15, 16, 18, 14, 18, 18, 15, 13, 17, 13, 16, 16, 13, 18, 16, 14, 14, 13, 16, 10, 18, 13, 15, 17, 13, 13, 15, 15, 14, 15, 16, 19, 15, 10, 9, 16, 9, 12, 15, 13, 15, 15, 15, 14, 13, 14, 17, 16, 16, 13, 16, 12, 14, 13, 12, 16, 7, 19, 17, 14, 18, 13, 17, 16, 17, 20, 15, 12, 17, 15, 14, 16, 12, 12, 16, 16, 10, 13, 12, 10, 14, 18, 15, 15, 13, 12, 12, 15, 14, 13, 12, 16, 17, 14, 13, 13, 15, 13, 18, 13, 14, 11, 18, 15, 12, 16, 15, 8, 23, 19, 16, 11, 18, 16, 17, 14, 14, 15, 15, 16, 16, 14, 17, 17, 13, 16, 18, 13, 15, 17, 19, 20, 15, 15, 14, 15, 14, 14, 15, 17, 14, 13, 11, 12, 17, 17, 18, 10, 12, 14, 17, 16, 19, 15, 12, 14, 16, 10, 11, 14, 16, 16, 15, 13, 13, 18, 17, 16, 14, 15, 13, 19, 13, 20, 12, 15, 14, 17, 13, 16, 10, 14, 12, 16, 17, 15, 20, 15, 14, 22, 21, 14, 15, 13, 15, 14, 14, 16, 19, 13, 15, 14, 14, 17, 13, 16, 18, 19, 20, 13, 11, 12, 10, 11, 15, 18, 13, 14, 19, 17, 14, 21, 12, 12, 13, 12, 14, 15, 11, 17, 13, 13, 20, 19, 16, 14, 19, 13, 14, 16, 18, 21, 14, 16, 17, 19, 17, 19, 11, 15, 16, 15, 20, 17, 13, 15, 16, 16, 12, 16, 16, 21, 12, 19, 13, 12, 17, 16, 12, 14, 10, 16, 14, 18, 13, 12, 9, 17, 14, 11, 14, 11, 15, 14, 23, 11, 15, 15, 10, 15, 18, 19, 14, 11, 11, 20, 14, 14, 15, 14, 11, 15, 18, 10, 14, 17, 15, 14, 12, 15, 12, 16, 17, 13, 12, 16, 16, 15, 15, 13, 14, 11, 12, 14, 16, 14, 19, 11, 20, 14, 18, 13, 15, 9, 14, 13, 13, 17, 18, 16, 15, 15, 16, 14, 17, 14, 6, 12, 18, 15, 22, 9, 12, 15, 12, 11, 20, 15, 16, 13, 16, 17, 15, 17, 15, 21, 15, 13, 14, 14, 13, 15, 19, 16, 17, 14, 15, 9, 14, 18, 18, 15, 10, 18, 10, 12, 15, 15, 14, 12, 17, 11, 16, 16, 17, 15, 13, 10, 16, 15, 17, 16, 13, 14, 18, 13, 13, 17, 16, 18, 13, 14, 14, 18, 16, 12, 17, 16, 17, 17, 11, 19, 20, 17, 10, 9, 14, 16, 15, 18, 17, 14, 17, 17, 12, 16, 12, 8, 14, 15, 17, 17, 19, 17, 16, 9, 13, 17, 14, 19, 21, 13, 15, 16, 17, 17, 18, 16, 16, 9, 16, 17, 11, 12, 23, 15, 17, 13, 14, 16, 15, 17, 14, 17, 15, 12, 19, 16, 18, 16, 12, 15, 13, 16, 11, 15, 16, 15, 12, 14, 15, 11, 16, 19, 17, 18, 14, 18, 14, 22, 18, 12, 14, 17, 15, 15, 17, 17, 16, 15, 17, 12, 15, 9, 10, 16, 15, 13, 14, 15, 15, 15, 18, 11, 18, 17, 19, 18, 16, 15, 18, 13, 18, 13, 12, 17, 10, 11, 15, 17, 15, 16, 12, 15, 11, 15, 10, 16, 13, 15, 14, 16, 15, 18, 16, 15, 13, 18, 14, 21, 13, 15, 14, 14, 16, 12, 17, 12, 14, 8, 16, 12, 17, 12, 16, 14, 16, 11, 17, 13, 16, 16, 13, 17, 16, 15, 16, 20, 15, 15, 21, 15, 17, 14, 13, 14, 14, 13, 17, 14, 13, 17, 16, 13, 13, 16, 19, 19, 14, 17, 16, 16, 15, 12, 19, 15, 19, 15, 16, 19, 19, 16, 20, 17, 16, 17, 12, 18, 16, 20, 13, 14, 16, 16, 14, 14, 16, 12, 13, 15, 13, 13, 17, 16, 17, 17, 15, 15, 17, 15, 16, 13, 8, 16, 17, 15, 17, 18, 14, 16, 17, 14, 16, 12, 13, 14, 12, 13, 12, 13, 16, 15, 10, 12, 18, 13, 18, 20, 14, 12, 15, 19, 14, 13, 20, 14, 13, 13, 17, 18, 17, 16, 15, 18, 15, 14, 13, 13, 17, 13, 17, 14, 12, 17, 15, 17, 17, 18, 16, 16, 16, 12, 16, 11, 15, 9, 14, 17, 18, 10, 14, 14, 15, 13, 11, 20, 18, 15, 13, 13, 15, 18, 14, 18, 17, 16, 12, 12, 19, 15, 12, 13, 13, 18, 16, 13, 14, 16, 14, 13, 14, 13, 14, 16, 13, 17, 17, 15, 14, 17, 8, 16, 13, 10, 17, 17, 17, 20, 16, 15, 15, 19, 14, 17, 12, 14, 12, 14, 12, 17, 15, 16, 13, 16, 12, 11, 15, 14, 15, 17, 19, 13, 16, 15, 15, 14, 15, 13, 14, 17, 17, 15, 18, 20, 14, 18, 10, 14, 15, 19, 16, 13, 17, 10, 12, 22, 13, 13, 10, 12, 20, 11, 10, 14, 10, 17, 15, 11, 13, 19, 16, 15, 17, 15, 17, 9, 9, 17, 14, 10, 13, 18, 14, 16, 16, 16, 14, 16, 19, 15, 15, 15, 16, 13, 13, 21, 13, 15, 16, 11, 14, 13, 14, 19, 12, 15, 12, 15, 14, 17, 16, 17, 16, 10, 13, 11, 13, 15, 14, 17, 16, 11, 18, 19, 13, 12, 16, 8, 14, 14, 18, 12, 14, 15, 14, 22, 13, 14, 18, 13, 14, 15, 15, 16, 16, 15, 16, 11, 16, 23, 17, 14, 15, 17, 12, 14, 14, 16, 17, 14, 17, 13, 16, 13, 14, 15, 14, 20, 10, 13, 15, 14, 15, 16, 15, 15, 15, 12, 14, 15, 12, 14, 15, 17, 13, 16, 12, 20, 16, 14, 15, 20, 14, 17, 15, 14, 15, 5, 14, 24, 15, 9, 15, 16, 15, 21, 19, 16, 10, 12, 14, 13, 19, 15, 12, 13, 18, 12, 10, 19, 9, 17, 19, 10, 15, 16, 18, 18, 13, 13, 13, 10, 12, 15, 13, 14, 16, 13, 20, 15, 12, 15, 15, 15, 15, 14, 16, 23, 12, 18, 15, 14, 18, 15, 16, 18, 13, 18, 18, 12, 14, 13, 18, 18, 14, 15, 17, 17, 12, 18, 13, 16, 14, 19, 14, 14, 15, 16, 16, 15, 13, 17, 17, 15, 14, 17, 12, 13, 16, 18, 17, 19, 11, 17, 12, 15, 19, 14, 20, 18, 17, 19, 11, 13, 13, 16, 15, 12, 17, 13, 14, 14, 11, 11, 17, 16, 18, 16, 15, 12, 18, 16, 14, 19, 15, 11, 14, 16, 14, 12, 14, 17, 15, 15, 15, 14, 11, 15, 12, 11, 16, 14, 11, 14, 9, 15, 13, 20, 17, 14, 12, 15, 14, 13, 12, 14, 13, 20, 15, 18, 22, 20, 21, 16, 12, 15, 13, 11, 16, 16, 11, 12, 13, 11, 15, 15, 13, 17, 17, 14, 16, 12, 15, 16, 16, 15, 13, 15, 17, 17, 13, 14, 14, 12, 14, 12, 13, 13, 15, 12, 13, 12, 13, 18, 15, 16, 14, 20, 21, 15, 17, 19, 13, 15, 14, 15, 16, 12, 18, 13, 19, 8, 21, 14, 15, 15, 18, 18, 15, 15, 11, 13, 16, 21, 18, 14, 16, 14, 20, 17, 11, 17, 12, 17, 13, 17, 16, 18, 11, 18, 15, 13, 15, 13, 12, 13, 11, 13, 16, 13, 15, 16, 12, 13, 15, 16, 15, 17, 14, 12, 12, 19, 18, 16, 13, 12, 12, 16, 13, 15, 13, 18, 22, 11, 19, 17, 16, 19, 13, 15, 13, 17, 15, 14, 16, 14, 12, 15, 20, 11, 19, 15, 15, 13, 15, 6, 13, 18, 12, 14, 18, 10, 16, 15, 13, 13, 19, 13, 10, 16, 17, 12, 17, 11, 15, 12, 12, 18, 16, 19, 19, 13, 14, 12, 15, 18, 15, 17, 10, 18, 14, 20, 14, 15, 13, 18, 13, 16, 15, 14, 14, 15, 14, 14, 15, 17, 11, 17, 15, 21, 18, 14, 15, 9, 14, 17, 16, 18, 16, 16, 18, 12, 14, 11, 10, 14, 14, 12, 14, 16, 16, 20, 12, 14, 12, 14, 16, 13, 15, 16, 12, 17, 18, 18, 16, 12, 18, 12, 12, 16, 18, 19, 15, 10, 14, 17, 18, 13, 17, 14, 18, 17, 15, 14, 19, 19, 20, 12, 15, 15, 15, 18, 16, 16, 11, 18, 10, 17, 17, 13, 10, 15, 21, 19, 15, 16, 18, 11, 11, 17, 11, 15, 12, 19, 12, 17, 13, 15, 16, 16, 17, 13, 19, 16, 12, 17, 17, 16, 18, 9, 15, 12, 16, 17, 15, 16, 19, 12, 19, 19, 17, 15, 12, 13, 16, 15, 16, 14, 17, 17, 23, 18, 13, 12, 17, 19, 16, 12, 16, 18, 15, 20, 15, 21, 16, 21, 16, 14, 19, 17, 15, 14, 16, 14, 11, 16, 19, 15, 16, 17, 13, 14, 13, 19, 14, 14, 13, 14, 15, 13, 16, 13, 15, 19, 15, 18, 17, 13, 16, 18, 13, 15, 13, 13, 12, 10, 16, 13, 17, 14, 18, 12, 14, 12, 20, 15, 14, 11, 17, 21, 15, 16, 16, 15, 18, 16, 17, 17, 16, 14, 13, 16, 13, 18, 16, 14, 17, 14, 19, 12, 17, 17, 12, 16, 17, 18, 9, 15, 13, 18, 16, 12, 16, 11, 13, 16, 13, 12, 14, 16, 12, 15, 17, 13, 17, 8, 10, 13, 16, 17, 12, 18, 16, 18, 13, 17, 19, 19, 11, 16, 14, 14, 19, 19, 17, 18, 18, 18, 14, 8, 13, 15, 11, 15, 10, 13, 22, 19, 10, 13, 15, 14, 17, 15, 19, 16, 17, 16, 13, 14, 16, 18, 13, 15, 13, 16, 17, 9, 14, 14, 11, 11, 14, 15, 14, 18, 12, 10, 17, 18, 15, 14, 14, 14, 14, 12, 17, 9, 18, 13, 11, 9, 17, 16, 14, 15, 11, 10, 19, 20, 21, 17, 16, 17, 19, 21, 12, 12, 14, 11, 10, 11, 16, 14, 12, 11, 19, 14, 12, 15, 17, 16, 11, 9, 13, 13, 14, 18, 15, 14, 16, 15, 20, 13, 12, 14, 16, 14, 11, 11, 15, 17, 15, 15, 14, 14, 14, 13, 12, 18, 17, 18, 13, 14, 12, 14, 12, 19, 16, 13, 19, 17, 18, 18, 12, 14, 17, 10, 13, 16, 19, 13, 14, 12, 19, 16, 13, 18, 16, 16, 13, 18, 18, 18, 16, 11, 13, 13, 18, 16, 12, 17, 13, 18, 17, 22, 13, 11, 16, 13, 14, 13, 11, 17, 17, 14, 12, 16, 15, 17, 12, 17, 19, 13, 17, 14, 13, 15, 17, 19, 16, 9, 10, 18, 17, 17, 16, 15, 16, 17, 14, 14, 16, 14, 12, 18, 12, 16, 15, 14, 19, 12, 19, 9, 15, 13, 13, 15, 20, 14, 16, 15, 16, 9, 17, 12, 8, 14, 13, 23, 17, 14, 19, 19, 14, 11, 19, 13, 15, 14, 14, 16, 14, 16, 12, 12, 19, 16, 17, 10, 13, 15, 12, 13, 14, 16, 13, 11, 21, 15, 15, 12, 17, 15, 17, 18, 14, 16, 14, 10, 15, 21, 16, 15, 16, 10, 19, 18, 21, 10, 19, 12, 16, 11, 16, 10, 16, 15, 13, 13, 16, 17, 11, 13, 10, 13, 17, 13, 14, 18, 17, 18, 15, 16, 7, 12, 13, 15, 17, 19, 15, 15, 17, 14, 19, 20, 21, 16, 12, 18, 17, 11, 12, 15, 13, 14, 13, 17, 17, 10, 18, 16, 12, 15, 16, 18, 13, 14, 11, 13, 13, 15, 18, 16, 16, 14, 16, 16, 16, 15, 17, 18, 13, 12, 17, 14, 13, 17, 12, 17, 16, 14, 15, 16, 14, 9, 13, 16, 13, 18, 10, 11, 17, 13, 17, 11, 15, 16, 19, 12, 12, 14, 19, 17, 16, 16, 14, 12, 15, 14, 19, 16, 19, 16, 15, 17, 12, 20, 11, 14, 13, 20, 10, 15, 17, 10, 11, 13, 18, 22, 12, 13, 16, 13, 13, 9, 15, 16, 17, 19, 21, 14, 18, 14, 20, 15, 18, 12, 13, 16, 15, 10, 15, 16, 10, 17, 19, 14, 18, 16, 20, 12, 16, 19, 15, 15, 15, 18, 17, 9, 13, 14, 17, 14, 15, 19, 19, 12, 17, 13, 19, 14, 21, 15, 12, 19, 12, 10, 15, 21, 15, 14, 14, 12, 18, 18, 18, 13, 14, 17, 19, 14, 12, 18, 15, 19, 15, 15, 20, 12, 19, 15, 15, 11, 17, 14, 16, 17, 15, 9, 16, 14, 9, 14, 17, 19, 17, 9, 14, 18, 11, 12, 10, 8, 15, 12, 10, 18, 10, 10, 14, 13, 17, 12, 17, 16, 11, 14, 14, 13, 11, 17, 17, 11, 17, 17, 14, 15, 18, 16, 16, 16, 10, 10, 14, 10, 15, 16, 12, 15, 13, 15, 16, 19, 17, 16, 15, 16, 19, 15, 14, 18, 15, 19, 18, 11, 14, 17, 17, 17, 17, 13, 13, 16, 22, 11, 14, 11, 13, 14, 16, 17, 18, 12, 13, 12, 13, 14, 13, 10, 15, 16, 20, 14, 13, 14, 17, 17, 13, 14, 12, 16, 18, 14, 18, 18, 17, 14, 20, 15, 15, 16, 14, 11, 15, 16, 15, 12, 15, 13, 11, 15, 14, 18, 16, 13, 17, 14, 15, 16, 16, 15, 17, 19, 17, 14, 20, 20, 16, 16, 18, 16, 15, 17, 13, 16, 17, 14, 10, 19, 17, 16, 19, 14, 15, 14, 12, 14, 10, 19, 17, 14, 15, 19, 13, 17, 14, 18, 16, 15, 15, 17, 16, 11, 15, 14, 11, 14, 11, 13, 15, 12, 11, 13, 15, 11, 12, 16, 16, 19, 16, 18, 10, 16, 19, 17, 14, 9, 17, 14, 14, 13, 17, 15, 15, 15, 16, 10, 16, 11, 11, 14, 10, 16, 15, 15, 17, 14, 12, 17, 14, 16, 14, 12, 17, 15, 24, 10, 19, 18, 14, 17, 19, 12, 14, 16, 20, 20, 19, 14, 22, 10, 11, 14, 13, 17, 13, 14, 14, 13, 14, 18, 14, 15, 15, 17, 13, 17, 12, 18, 18, 21, 17, 16, 15, 15, 15, 16, 14, 16, 15, 11, 14, 14, 14, 16, 12, 12, 16, 18, 13, 15, 13, 11, 16, 16, 14, 15, 13, 18, 20, 15, 13, 14, 16, 15, 17, 15, 13, 11, 12, 21, 15, 16, 18, 12, 14, 16, 17, 12, 20, 9, 14, 15, 18, 14, 15, 16, 16, 13, 15, 17, 12, 15, 11, 12, 12, 15, 17, 12, 14, 21, 12, 13, 14, 11, 15, 18, 17, 20, 12, 18, 10, 17, 10, 17, 12, 10, 10, 16, 13, 15, 15, 16, 18, 14, 17, 16, 19, 14, 16, 18, 14, 13, 14, 17, 10, 14, 17, 13, 14, 18, 11, 20, 11, 13, 10, 13, 14, 19, 15, 15, 16, 13, 15, 17, 17, 16, 18, 12, 9, 16, 13, 14, 20, 14, 13, 14, 11, 12, 14, 13, 15, 17, 16, 13, 17, 14, 13, 13, 18, 14, 11, 18, 15, 18, 21, 19, 12, 19, 15, 18, 16, 17, 14, 13, 16, 17, 18, 11, 11, 11, 16, 16, 12, 13, 11, 12, 13, 18, 14, 14, 16, 15, 13, 22, 18, 19, 13, 13, 18, 17, 17, 13, 16, 20, 14, 17, 16, 12, 18, 18, 16, 22, 13, 16, 13, 17, 13, 16, 18, 13, 13, 22, 18, 13, 17, 11, 10, 21, 17, 16, 14, 12, 16, 13, 18, 18, 13, 18, 16, 15, 13, 18, 20, 13, 19, 18, 20, 19, 13, 15, 17, 9, 15, 13, 15, 16, 14, 17, 15, 18, 8, 16, 17, 18, 10, 13, 14, 13, 15, 14, 17, 20, 18, 16, 16, 17, 17, 12, 16, 18, 17, 12, 15, 14, 17, 11, 17, 18, 17, 15, 11, 16, 10, 16, 15, 15, 12, 12, 16, 20, 17, 16, 14, 14, 19, 10, 16, 16, 18, 18, 16, 13, 17, 17, 16, 12, 11, 14, 18, 18, 19, 16, 14, 17, 14, 13, 11, 16, 17, 13, 16, 12, 12, 16, 18, 21, 19, 19, 14, 14, 15, 20, 14, 10, 18, 15, 11, 11, 13, 19, 13, 10, 15, 19, 15, 12, 20, 12, 14, 11, 14, 21, 12, 16, 19, 17, 11, 12, 16, 18, 15, 16, 18, 18, 9, 15, 14, 16, 14, 12, 18, 15, 14, 19, 14, 13, 12, 16, 14, 10, 14, 15, 13, 13, 15, 17, 14, 12, 17, 12, 12, 17, 14, 16, 18, 14, 15, 16, 14, 13, 13, 16, 15, 11, 17, 9, 15, 13, 23, 16, 18, 15, 12, 15, 12, 19, 16, 20, 15, 16, 15, 23, 20, 13, 14, 18, 12, 16, 15, 10, 13, 17, 17, 11, 10, 17, 14, 17, 14, 7, 12, 16, 10, 13, 15, 14, 21, 13, 18, 22, 18, 17, 16, 17, 19, 11, 13, 9, 15, 14, 15, 13, 18, 16, 16, 14, 17, 15, 19, 12, 9, 18, 15, 13, 14, 16, 13, 18, 14, 11, 14, 16, 15, 16, 12, 16, 12, 15, 9, 10, 14, 15, 16, 14, 11, 18, 16, 12, 17, 16, 13, 17, 17, 17, 18, 18, 14, 19, 14, 19, 18, 11, 12, 13, 17, 12, 19, 14, 16, 19, 15, 17, 18, 16, 19, 13, 16, 14, 18, 16, 17, 15, 16, 15, 11, 20, 12, 13, 14, 16, 16, 15, 15, 10, 17, 17, 14, 19, 19, 14, 18, 12, 12, 16, 18, 16, 18, 13, 12, 19, 13, 16, 14, 18, 15, 11, 15, 16, 16, 19, 15, 13, 18, 18, 17, 17, 16, 19, 12, 19, 15, 12, 15, 12, 13, 14, 16, 11, 18, 15, 11, 10, 12, 17, 18, 14, 15, 9, 12, 21, 13, 12, 15, 12, 19, 15, 14, 16, 15, 13, 13, 12, 16, 12, 15, 18, 17, 17, 17, 17, 14, 11, 15, 14, 17, 12, 17, 16, 9, 12, 15, 15, 17, 14, 15, 16, 13, 16, 10, 20, 13, 13, 15, 11, 17, 17, 19, 13, 14, 14, 14, 15, 17, 13, 12, 11, 17, 11, 13, 16, 16, 13, 13, 16, 11, 14, 20, 14, 15, 14, 11, 17, 13, 17, 18, 13, 18, 11, 15, 12, 13, 16, 18, 9, 8, 14, 15, 18, 15, 18, 14, 12, 13, 16, 19, 16, 16, 14, 16, 24, 16, 14, 18, 18, 13, 15, 16, 19, 19, 21, 19, 14, 19, 15, 15, 22, 15, 18, 13, 15, 12, 18, 16, 18, 10, 18, 13, 15, 14, 18, 17, 13, 15, 17, 12, 12, 20, 14, 14, 16, 18, 14, 19, 20, 16, 15, 18, 13, 13, 17, 13, 17, 20, 20, 18, 14, 15, 17, 17, 15, 15, 11, 14, 15, 15, 13, 19, 17, 15, 14, 12, 15, 14, 16, 13, 14, 16, 12, 15, 12, 10, 13, 12, 14, 16, 17, 11, 16, 16, 14, 15, 13, 18, 12, 12, 13, 16, 14, 17, 17, 16, 15, 17, 18, 18, 15, 13, 14, 17, 15, 16, 13, 14, 13, 14, 15, 15, 12, 17, 16, 14, 16, 17, 17, 15, 16, 11, 11, 18, 10, 13, 19, 17, 18, 14, 20, 11, 15, 18, 19, 15, 16, 16, 17, 16, 19, 13, 15, 12, 18, 17, 13, 12, 17, 19, 14, 14, 10, 15, 15, 17, 10, 13, 18, 13, 17, 16, 16, 16, 17, 12, 14, 12, 12, 13, 11, 15, 13, 14, 16, 14, 14, 15, 9, 18, 18, 14, 13, 17, 16, 15, 14, 17, 19, 18, 12, 17, 15, 21, 16, 16, 16, 13, 9, 10, 17, 12, 19, 17, 17, 15, 19, 14, 12, 16, 16, 14, 15, 10, 12, 17, 18, 15, 16, 14, 18, 10, 19, 13, 11, 16, 16, 12, 13, 12, 15, 17, 16, 14, 9, 13, 15, 13, 17, 16, 17, 17, 22, 13, 14, 20, 8, 16, 13, 13, 20, 20, 21, 16, 14, 17, 15, 18, 11, 17, 15, 14, 15, 20, 19, 16, 19, 17, 14, 13, 13, 13, 16, 18, 9, 18, 13, 12, 15, 20, 11, 18, 13, 11, 19, 14, 19, 13, 19, 15, 11, 18, 10, 15, 15, 18, 17, 16, 14, 13, 13, 17, 14, 16, 18, 16, 14, 17, 16, 16, 18, 16, 16, 17, 17, 16, 16, 18, 13, 12, 18, 12, 17, 11, 13, 18, 17, 14, 18, 13, 15, 17, 16, 14, 13, 16, 13, 13, 16, 15, 14, 22, 10, 16, 13, 16, 13, 16, 17, 15, 14, 17, 11, 18, 19, 11, 18, 21, 14, 12, 11, 15, 14, 16, 15, 17, 18, 11, 17, 11, 11, 15, 16, 14, 13, 21, 19, 16, 11, 11, 17, 17, 19, 18, 17, 18, 16, 13, 16, 14, 16, 13, 11, 15, 16, 14, 15, 8, 16, 14, 19, 14, 18, 9, 21, 13, 16, 16, 15, 14, 17, 15, 13, 16, 16, 14, 20, 17, 12, 12, 15, 14, 14, 18, 13, 14, 15, 13, 16, 14, 15, 17, 15, 14, 16, 9, 15, 15, 11, 16, 17, 16, 14, 15, 17, 17, 13, 19, 14, 12, 16, 14, 14, 17, 12, 16, 18, 19, 13, 16, 18, 13, 17, 13, 18, 16, 12, 13, 18, 15, 15, 13, 17, 18, 16, 19, 13, 15, 16, 14, 15, 20, 10, 13, 10, 15, 18, 15, 17, 20, 17, 14, 11, 15, 13, 16, 13, 16, 13, 13, 12, 15, 16, 8, 19, 16, 11, 17, 13, 15, 16, 16, 16, 18, 9, 20, 13, 16, 13, 18, 10, 16, 14, 12, 13, 13, 18, 15, 13, 14, 14, 18, 11, 16, 16, 16, 13, 13, 15, 14, 12, 13, 12, 11, 14, 21, 17, 18, 15, 21, 12, 11, 18, 18, 13, 18, 18, 15, 11, 20, 13, 14, 17, 15, 17, 16, 16, 15, 13, 13, 15, 18, 18, 13, 18, 12, 13, 14, 13, 15, 14, 17, 8, 20, 16, 14, 12, 15, 14, 17, 16, 14, 15, 16, 14, 11, 15, 15, 12, 15, 13, 7, 14, 14, 13, 17, 18, 13, 9, 15, 18, 12, 12, 16, 13, 13, 15, 13, 15, 15, 12, 15, 16, 14, 8, 15, 14, 14, 13, 15, 18, 17, 17, 16, 13, 14, 14, 10, 15, 13, 10, 12, 18, 18, 11, 19, 14, 18, 15, 18, 19, 20, 14, 16, 19, 12, 15, 18, 16, 16, 16, 18, 15, 13, 10, 11, 18, 15, 10, 19, 14, 12, 15, 17, 18, 15, 16, 20, 15, 13, 12, 12, 16, 11, 15, 15, 17, 17, 18, 7, 16, 19, 17, 14, 17, 17, 15, 14, 11, 18, 15, 14, 21, 21, 14, 17, 17, 16, 10, 16, 16, 13, 12, 14, 15, 21, 14, 14, 18, 12, 13, 13, 13, 16, 13, 13, 17, 20, 14, 17, 19, 18, 18, 10, 18, 16, 10, 17, 17, 11, 16, 15, 23, 16, 17, 15, 15, 15, 15, 10, 15, 17, 13, 14, 12, 13, 14, 15, 16, 16, 15, 18, 15, 13, 9, 17, 10, 13, 11, 11, 15, 14, 18, 15, 17, 16, 12, 18, 10, 12, 15, 16, 14, 18, 14, 11, 20, 16, 16, 15, 13, 14, 11, 18, 12, 13, 15, 14, 13, 18, 17, 18, 13, 15, 13, 14, 20, 15, 13, 15, 17, 18, 19, 16, 19, 15, 12, 14, 18, 14, 14, 22, 12, 15, 15, 17, 13, 19, 17, 16, 15, 16, 16, 10, 14, 18, 13, 20, 13, 18, 20, 17, 16, 14, 16, 12, 12, 12, 17, 17, 14, 18, 15, 18, 17, 19, 16, 17, 18, 17, 11, 11, 16, 14, 13, 14, 13, 10, 18, 17, 20, 16, 17, 17, 17, 15, 14, 18, 18, 10, 13, 13, 16, 20, 12, 18, 14, 20, 15, 19, 14, 19, 14, 17, 11, 14, 15, 17, 14, 12, 13, 14, 21, 13, 13, 17, 14, 15, 12, 6, 12, 15, 18, 14, 17, 17, 16, 13, 13, 16, 16, 18, 13, 15, 14, 14, 14, 17, 15, 16, 17, 18, 13, 12, 11, 13, 13, 12, 17, 19, 11, 11, 15, 16, 15, 13, 18, 16, 16, 13, 18, 19, 16, 15, 19, 15, 14, 15, 13, 17, 11, 12, 15, 24, 19, 19, 13, 14, 14, 18, 16, 15, 18, 17, 12, 15, 17, 15, 19, 17, 17, 16, 16, 13, 14, 15, 11, 18, 14, 19, 16, 14, 17, 13, 16, 13, 13, 15, 13, 21, 15, 13, 16, 18, 16, 15, 16, 15, 16, 19, 18, 13, 17, 16, 18, 12, 16, 17, 14, 18, 16, 12, 17, 16, 14, 16, 16, 13, 16, 17, 15, 14, 18, 19, 16, 13, 16, 16, 12, 17, 14, 14, 17, 16, 16, 15, 14, 21, 7, 16, 16, 17, 17, 15, 15, 12, 10, 14, 10, 17, 14, 12, 8, 13, 19, 12, 13, 16, 17, 16, 16, 13, 14, 16, 18, 16, 15, 7, 16, 17, 10, 12, 14, 17, 13, 9, 15, 16, 10, 8, 15, 15, 18, 18, 15, 20, 9, 19, 20, 13, 13, 17, 15, 15, 16, 10, 14, 19, 13, 18, 12, 18, 17, 13, 10, 11, 14, 15, 14, 14, 14, 17, 16, 15, 16, 14, 18, 15, 16, 15, 17, 13, 17, 13, 9, 13, 13, 13, 10, 16, 23, 18, 13, 15, 15, 17, 10, 14, 11, 11, 16, 13, 13, 11, 17, 17, 17, 14, 15, 20, 12, 18, 18, 14, 14, 14, 10, 15, 18, 15, 16, 18, 19, 17, 16, 15, 14, 19, 16, 14, 15, 12, 17, 15, 14, 11, 12, 15, 17, 16, 15, 14, 14, 13, 19, 14, 15, 16, 12, 10, 12, 14, 15, 18, 15, 14, 14, 16, 16, 15, 13, 15, 13, 9, 11, 17, 12, 10, 18, 20, 16, 15, 19, 17, 14, 19, 14, 15, 15, 14, 17, 16, 13, 19, 13, 15, 15, 16, 14, 11, 16, 17, 18, 13, 21, 11, 15, 19, 16, 15, 13, 15, 14, 14, 17, 16, 13, 9, 16, 15, 12, 14, 13, 14, 15, 20, 18, 15, 19, 19, 17, 19, 13, 20, 16, 18, 11, 13, 12, 15, 11, 11, 18, 14, 14, 14, 13, 9, 13, 15, 14, 20, 17, 12, 18, 14, 14, 13, 12, 18, 17, 19, 10, 17, 13, 23, 13, 13, 21, 12, 14, 16, 10, 15, 19, 9, 14, 18, 19, 15, 15, 12, 9, 17, 15, 15, 15, 15, 17, 15, 10, 11, 10, 14, 10, 9, 18, 15, 16, 11, 15, 12, 11, 14, 16, 14, 13, 14, 14, 18, 19, 15, 14, 15, 13, 10, 13, 18, 11, 17, 16, 19, 20, 17, 19, 18, 17, 13, 15, 14, 19, 19, 19, 18, 13, 13, 14, 17, 12, 17, 14, 16, 15, 14, 14, 15, 17, 14, 12, 10, 17, 13, 13, 17, 14, 9, 20, 6, 16, 14, 14, 16, 13, 13, 14, 18, 12, 10, 13, 14, 14, 14, 14, 10, 11, 13, 13, 13, 13, 13, 18, 13, 16, 14, 14, 14, 19, 15, 15, 16, 11, 13, 13, 13, 13, 12, 19, 17, 17, 15, 16, 17, 18, 12, 9, 14, 14, 11, 15, 13, 13, 13, 15, 15, 12, 18, 17, 19, 11, 21, 14, 13, 15, 13, 15, 12, 15, 16, 12, 11, 15, 14, 15, 15, 13, 19, 14, 15, 19, 16, 20, 18, 17, 17, 18, 19, 16, 14, 16, 15, 15, 14, 16, 13, 14, 11, 14, 12, 15, 14, 17, 14, 21, 14, 14, 12, 13, 20, 22, 13, 11, 12, 11, 12, 14, 13, 13, 14, 20, 12, 15, 15, 13, 16, 15, 16, 11, 16, 19, 21, 18, 12, 17, 17, 18, 14, 18, 17, 13, 18, 22, 14, 14, 19, 7, 13, 13, 15, 18, 20, 14, 13, 15, 18, 14, 12, 12, 15, 11, 13, 14, 10, 14, 15, 13, 19, 11, 11, 16, 14, 17, 16, 18, 14, 15, 18, 19, 13, 19, 18, 15, 17, 16, 16, 20, 14, 11, 13, 14, 14, 16, 17, 15, 8, 17, 9, 10, 14, 14, 14, 13, 16, 14, 15, 19, 15, 11, 19, 15, 15, 13, 16, 13, 15, 18, 18, 13, 17, 16, 17, 18, 14, 12, 16, 14, 12, 16, 14, 18, 18, 17, 14, 19, 16, 13, 12, 11, 15, 14, 14, 14, 11, 10, 15, 14, 15, 15, 16, 15, 14, 18, 13, 14, 13, 12, 18, 17, 14, 14, 14, 15, 12, 16, 14, 14, 20, 13, 11, 19, 10, 19, 16, 15, 15, 18, 16, 19, 14, 16, 15, 13, 16, 16, 14, 16, 14, 15, 13, 17, 16, 16, 13, 21, 13, 19, 13, 15, 15, 15, 19, 14, 13, 17, 15, 12, 16, 13, 18, 14, 15, 12, 16, 15, 12, 20, 11, 16, 11, 16, 14, 12, 15, 11, 15, 19, 13, 15, 9, 17, 15, 16, 18, 14, 13, 10, 13, 10, 15, 17, 12, 20, 19, 13, 13, 15, 16, 17, 11, 14, 15, 17, 14, 18, 17, 16, 17, 11, 11, 14, 18, 11, 10, 15, 14, 17, 15, 18, 13, 12, 14, 19, 14, 15, 10, 19, 15, 18, 12, 17, 17, 13, 16, 13, 20, 12, 20, 15, 12, 16, 19, 14, 14, 13, 18, 23, 14, 18, 15, 10, 12, 14, 16, 16, 17, 13, 20, 18, 15, 15, 11, 18, 15, 16, 14, 14, 12, 20, 10, 21, 15, 14, 17, 13, 18, 13, 15, 11, 14, 12, 15, 15, 12, 20, 13, 8, 16, 18, 15, 11, 17, 12, 16, 11, 13, 17, 13, 13, 13, 18, 12, 15, 17, 14, 10, 12, 10, 17, 10, 14, 17, 15, 16, 11, 16, 17, 13, 15, 19, 12, 20, 14, 11, 16, 10, 12, 18, 16, 15, 17, 14, 11, 9, 14, 12, 11, 16, 12, 10, 14, 16, 18, 14, 16, 14, 17, 16, 14, 11, 14, 16, 18, 14, 16, 13, 21, 15, 15, 14, 13, 16, 14, 17, 16, 15, 19, 19, 16, 19, 10, 18, 13, 13, 10, 14, 17, 14, 13, 10, 12, 10, 12, 17, 10, 14, 16, 16, 18, 19, 17, 15, 11, 16, 18, 16, 12, 14, 13, 13, 14, 16, 18, 12, 13, 20, 14, 9, 11, 18, 15, 8, 14, 12, 15, 15, 21, 16, 13, 16, 15, 17, 16, 10, 12, 15, 16, 18, 16, 16, 19, 12, 15, 17, 14, 13, 15, 14, 10, 19, 14, 12, 15, 12, 18, 17, 14, 14, 17, 17, 11, 21, 14, 17, 14, 13, 13, 13, 14, 19, 11, 20, 16, 15, 17, 14, 16, 22, 15, 16, 13, 13, 14, 13, 16, 9, 16, 17, 15, 11, 12, 18, 18, 16, 15, 16, 13, 23, 14, 16, 18, 15, 13, 17, 16], \"xaxis\": \"x\", \"yaxis\": \"y\"}],\n",
              "                        {\"barmode\": \"relative\", \"height\": 400, \"legend\": {\"tracegroupgap\": 0}, \"template\": {\"data\": {\"bar\": [{\"error_x\": {\"color\": \"#2a3f5f\"}, \"error_y\": {\"color\": \"#2a3f5f\"}, \"marker\": {\"line\": {\"color\": \"#E5ECF6\", \"width\": 0.5}}, \"type\": \"bar\"}], \"barpolar\": [{\"marker\": {\"line\": {\"color\": \"#E5ECF6\", \"width\": 0.5}}, \"type\": \"barpolar\"}], \"carpet\": [{\"aaxis\": {\"endlinecolor\": \"#2a3f5f\", \"gridcolor\": \"white\", \"linecolor\": \"white\", \"minorgridcolor\": \"white\", \"startlinecolor\": \"#2a3f5f\"}, \"baxis\": {\"endlinecolor\": \"#2a3f5f\", \"gridcolor\": \"white\", \"linecolor\": \"white\", \"minorgridcolor\": \"white\", \"startlinecolor\": \"#2a3f5f\"}, \"type\": \"carpet\"}], \"choropleth\": [{\"colorbar\": {\"outlinewidth\": 0, \"ticks\": \"\"}, \"type\": \"choropleth\"}], \"contour\": [{\"colorbar\": {\"outlinewidth\": 0, \"ticks\": \"\"}, \"colorscale\": [[0.0, \"#0d0887\"], [0.1111111111111111, \"#46039f\"], [0.2222222222222222, \"#7201a8\"], [0.3333333333333333, \"#9c179e\"], [0.4444444444444444, \"#bd3786\"], [0.5555555555555556, \"#d8576b\"], [0.6666666666666666, \"#ed7953\"], [0.7777777777777778, \"#fb9f3a\"], [0.8888888888888888, \"#fdca26\"], [1.0, \"#f0f921\"]], \"type\": \"contour\"}], \"contourcarpet\": [{\"colorbar\": {\"outlinewidth\": 0, \"ticks\": \"\"}, \"type\": \"contourcarpet\"}], \"heatmap\": [{\"colorbar\": {\"outlinewidth\": 0, \"ticks\": \"\"}, \"colorscale\": [[0.0, \"#0d0887\"], [0.1111111111111111, \"#46039f\"], [0.2222222222222222, \"#7201a8\"], [0.3333333333333333, \"#9c179e\"], [0.4444444444444444, \"#bd3786\"], [0.5555555555555556, \"#d8576b\"], [0.6666666666666666, \"#ed7953\"], [0.7777777777777778, \"#fb9f3a\"], [0.8888888888888888, \"#fdca26\"], [1.0, \"#f0f921\"]], \"type\": \"heatmap\"}], \"heatmapgl\": [{\"colorbar\": {\"outlinewidth\": 0, \"ticks\": \"\"}, \"colorscale\": [[0.0, \"#0d0887\"], [0.1111111111111111, \"#46039f\"], [0.2222222222222222, \"#7201a8\"], [0.3333333333333333, \"#9c179e\"], [0.4444444444444444, \"#bd3786\"], [0.5555555555555556, \"#d8576b\"], [0.6666666666666666, \"#ed7953\"], [0.7777777777777778, \"#fb9f3a\"], [0.8888888888888888, \"#fdca26\"], [1.0, \"#f0f921\"]], \"type\": \"heatmapgl\"}], \"histogram\": [{\"marker\": {\"colorbar\": {\"outlinewidth\": 0, \"ticks\": \"\"}}, \"type\": \"histogram\"}], \"histogram2d\": [{\"colorbar\": {\"outlinewidth\": 0, \"ticks\": \"\"}, \"colorscale\": [[0.0, \"#0d0887\"], [0.1111111111111111, \"#46039f\"], [0.2222222222222222, \"#7201a8\"], [0.3333333333333333, \"#9c179e\"], [0.4444444444444444, \"#bd3786\"], [0.5555555555555556, \"#d8576b\"], [0.6666666666666666, \"#ed7953\"], [0.7777777777777778, \"#fb9f3a\"], [0.8888888888888888, \"#fdca26\"], [1.0, \"#f0f921\"]], \"type\": \"histogram2d\"}], \"histogram2dcontour\": [{\"colorbar\": {\"outlinewidth\": 0, \"ticks\": \"\"}, \"colorscale\": [[0.0, \"#0d0887\"], [0.1111111111111111, \"#46039f\"], [0.2222222222222222, \"#7201a8\"], [0.3333333333333333, \"#9c179e\"], [0.4444444444444444, \"#bd3786\"], [0.5555555555555556, \"#d8576b\"], [0.6666666666666666, \"#ed7953\"], [0.7777777777777778, \"#fb9f3a\"], [0.8888888888888888, \"#fdca26\"], [1.0, \"#f0f921\"]], \"type\": \"histogram2dcontour\"}], \"mesh3d\": [{\"colorbar\": {\"outlinewidth\": 0, \"ticks\": \"\"}, \"type\": \"mesh3d\"}], \"parcoords\": [{\"line\": {\"colorbar\": {\"outlinewidth\": 0, \"ticks\": \"\"}}, \"type\": \"parcoords\"}], \"pie\": [{\"automargin\": true, \"type\": \"pie\"}], \"scatter\": [{\"marker\": {\"colorbar\": {\"outlinewidth\": 0, \"ticks\": \"\"}}, \"type\": \"scatter\"}], \"scatter3d\": [{\"line\": {\"colorbar\": {\"outlinewidth\": 0, \"ticks\": \"\"}}, \"marker\": {\"colorbar\": {\"outlinewidth\": 0, \"ticks\": \"\"}}, \"type\": \"scatter3d\"}], \"scattercarpet\": [{\"marker\": {\"colorbar\": {\"outlinewidth\": 0, \"ticks\": \"\"}}, \"type\": \"scattercarpet\"}], \"scattergeo\": [{\"marker\": {\"colorbar\": {\"outlinewidth\": 0, \"ticks\": \"\"}}, \"type\": \"scattergeo\"}], \"scattergl\": [{\"marker\": {\"colorbar\": {\"outlinewidth\": 0, \"ticks\": \"\"}}, \"type\": \"scattergl\"}], \"scattermapbox\": [{\"marker\": {\"colorbar\": {\"outlinewidth\": 0, \"ticks\": \"\"}}, \"type\": \"scattermapbox\"}], \"scatterpolar\": [{\"marker\": {\"colorbar\": {\"outlinewidth\": 0, \"ticks\": \"\"}}, \"type\": \"scatterpolar\"}], \"scatterpolargl\": [{\"marker\": {\"colorbar\": {\"outlinewidth\": 0, \"ticks\": \"\"}}, \"type\": \"scatterpolargl\"}], \"scatterternary\": [{\"marker\": {\"colorbar\": {\"outlinewidth\": 0, \"ticks\": \"\"}}, \"type\": \"scatterternary\"}], \"surface\": [{\"colorbar\": {\"outlinewidth\": 0, \"ticks\": \"\"}, \"colorscale\": [[0.0, \"#0d0887\"], [0.1111111111111111, \"#46039f\"], [0.2222222222222222, \"#7201a8\"], [0.3333333333333333, \"#9c179e\"], [0.4444444444444444, \"#bd3786\"], [0.5555555555555556, \"#d8576b\"], [0.6666666666666666, \"#ed7953\"], [0.7777777777777778, \"#fb9f3a\"], [0.8888888888888888, \"#fdca26\"], [1.0, \"#f0f921\"]], \"type\": \"surface\"}], \"table\": [{\"cells\": {\"fill\": {\"color\": \"#EBF0F8\"}, \"line\": {\"color\": \"white\"}}, \"header\": {\"fill\": {\"color\": \"#C8D4E3\"}, \"line\": {\"color\": \"white\"}}, \"type\": \"table\"}]}, \"layout\": {\"annotationdefaults\": {\"arrowcolor\": \"#2a3f5f\", \"arrowhead\": 0, \"arrowwidth\": 1}, \"coloraxis\": {\"colorbar\": {\"outlinewidth\": 0, \"ticks\": \"\"}}, \"colorscale\": {\"diverging\": [[0, \"#8e0152\"], [0.1, \"#c51b7d\"], [0.2, \"#de77ae\"], [0.3, \"#f1b6da\"], [0.4, \"#fde0ef\"], [0.5, \"#f7f7f7\"], [0.6, \"#e6f5d0\"], [0.7, \"#b8e186\"], [0.8, \"#7fbc41\"], [0.9, \"#4d9221\"], [1, \"#276419\"]], \"sequential\": [[0.0, \"#0d0887\"], [0.1111111111111111, \"#46039f\"], [0.2222222222222222, \"#7201a8\"], [0.3333333333333333, \"#9c179e\"], [0.4444444444444444, \"#bd3786\"], [0.5555555555555556, \"#d8576b\"], [0.6666666666666666, \"#ed7953\"], [0.7777777777777778, \"#fb9f3a\"], [0.8888888888888888, \"#fdca26\"], [1.0, \"#f0f921\"]], \"sequentialminus\": [[0.0, \"#0d0887\"], [0.1111111111111111, \"#46039f\"], [0.2222222222222222, \"#7201a8\"], [0.3333333333333333, \"#9c179e\"], [0.4444444444444444, \"#bd3786\"], [0.5555555555555556, \"#d8576b\"], [0.6666666666666666, \"#ed7953\"], [0.7777777777777778, \"#fb9f3a\"], [0.8888888888888888, \"#fdca26\"], [1.0, \"#f0f921\"]]}, \"colorway\": [\"#636efa\", \"#EF553B\", \"#00cc96\", \"#ab63fa\", \"#FFA15A\", \"#19d3f3\", \"#FF6692\", \"#B6E880\", \"#FF97FF\", \"#FECB52\"], \"font\": {\"color\": \"#2a3f5f\"}, \"geo\": {\"bgcolor\": \"white\", \"lakecolor\": \"white\", \"landcolor\": \"#E5ECF6\", \"showlakes\": true, \"showland\": true, \"subunitcolor\": \"white\"}, \"hoverlabel\": {\"align\": \"left\"}, \"hovermode\": \"closest\", \"mapbox\": {\"style\": \"light\"}, \"paper_bgcolor\": \"white\", \"plot_bgcolor\": \"#E5ECF6\", \"polar\": {\"angularaxis\": {\"gridcolor\": \"white\", \"linecolor\": \"white\", \"ticks\": \"\"}, \"bgcolor\": \"#E5ECF6\", \"radialaxis\": {\"gridcolor\": \"white\", \"linecolor\": \"white\", \"ticks\": \"\"}}, \"scene\": {\"xaxis\": {\"backgroundcolor\": \"#E5ECF6\", \"gridcolor\": \"white\", \"gridwidth\": 2, \"linecolor\": \"white\", \"showbackground\": true, \"ticks\": \"\", \"zerolinecolor\": \"white\"}, \"yaxis\": {\"backgroundcolor\": \"#E5ECF6\", \"gridcolor\": \"white\", \"gridwidth\": 2, \"linecolor\": \"white\", \"showbackground\": true, \"ticks\": \"\", \"zerolinecolor\": \"white\"}, \"zaxis\": {\"backgroundcolor\": \"#E5ECF6\", \"gridcolor\": \"white\", \"gridwidth\": 2, \"linecolor\": \"white\", \"showbackground\": true, \"ticks\": \"\", \"zerolinecolor\": \"white\"}}, \"shapedefaults\": {\"line\": {\"color\": \"#2a3f5f\"}}, \"ternary\": {\"aaxis\": {\"gridcolor\": \"white\", \"linecolor\": \"white\", \"ticks\": \"\"}, \"baxis\": {\"gridcolor\": \"white\", \"linecolor\": \"white\", \"ticks\": \"\"}, \"bgcolor\": \"#E5ECF6\", \"caxis\": {\"gridcolor\": \"white\", \"linecolor\": \"white\", \"ticks\": \"\"}}, \"title\": {\"x\": 0.05}, \"xaxis\": {\"automargin\": true, \"gridcolor\": \"white\", \"linecolor\": \"white\", \"ticks\": \"\", \"title\": {\"standoff\": 15}, \"zerolinecolor\": \"white\", \"zerolinewidth\": 2}, \"yaxis\": {\"automargin\": true, \"gridcolor\": \"white\", \"linecolor\": \"white\", \"ticks\": \"\", \"title\": {\"standoff\": 15}, \"zerolinecolor\": \"white\", \"zerolinewidth\": 2}}}, \"title\": {\"text\": \"The binomial distribution\"}, \"width\": 600, \"xaxis\": {\"anchor\": \"y\", \"domain\": [0.0, 1.0], \"title\": {\"text\": \"x\"}}, \"yaxis\": {\"anchor\": \"x\", \"domain\": [0.0, 1.0], \"title\": {\"text\": \"count\"}}},\n",
              "                        {\"responsive\": true}\n",
              "                    ).then(function(){\n",
              "                            \n",
              "var gd = document.getElementById('f6740720-0a1b-4a63-9276-4f035463ae9c');\n",
              "var x = new MutationObserver(function (mutations, observer) {{\n",
              "        var display = window.getComputedStyle(gd).display;\n",
              "        if (!display || display === 'none') {{\n",
              "            console.log([gd, 'removed!']);\n",
              "            Plotly.purge(gd);\n",
              "            observer.disconnect();\n",
              "        }}\n",
              "}});\n",
              "\n",
              "// Listen for the removal of the full notebook cells\n",
              "var notebookContainer = gd.closest('#notebook-container');\n",
              "if (notebookContainer) {{\n",
              "    x.observe(notebookContainer, {childList: true});\n",
              "}}\n",
              "\n",
              "// Listen for the clearing of the current output cell\n",
              "var outputEl = gd.closest('.output');\n",
              "if (outputEl) {{\n",
              "    x.observe(outputEl, {childList: true});\n",
              "}}\n",
              "\n",
              "                        })\n",
              "                };\n",
              "                \n",
              "            </script>\n",
              "        </div>\n",
              "</body>\n",
              "</html>"
            ]
          },
          "metadata": {}
        }
      ]
    },
    {
      "cell_type": "markdown",
      "source": [
        "### Bokeh\n",
        "\n",
        "@@TODO"
      ],
      "metadata": {
        "id": "v0gmADhLTNJY"
      }
    },
    {
      "cell_type": "code",
      "source": [
        "from bokeh.plotting import figure, show\n",
        "from bokeh.io import output_notebook\n",
        "output_notebook()"
      ],
      "metadata": {
        "id": "cSjm8O4VkQEU"
      },
      "execution_count": 27,
      "outputs": []
    },
    {
      "cell_type": "code",
      "source": [
        "p = figure(title=\"The binomial distribution\", width=600, height=400)\n",
        "hist, edges = np.histogram(x)\n",
        "p.quad(top=hist, bottom=0, left=edges[:-1], right=edges[1:])\n",
        "show(p)"
      ],
      "metadata": {
        "colab": {
          "base_uri": "https://localhost:8080/",
          "height": 417
        },
        "id": "Kn-nNT2TkQ8h",
        "outputId": "a04c6ae9-0c78-4de6-bfb7-52c82189d833"
      },
      "execution_count": 29,
      "outputs": [
        {
          "output_type": "display_data",
          "data": {
            "application/javascript": [
              "\n",
              "(function(root) {\n",
              "  function now() {\n",
              "    return new Date();\n",
              "  }\n",
              "\n",
              "  var force = true;\n",
              "\n",
              "  if (typeof root._bokeh_onload_callbacks === \"undefined\" || force === true) {\n",
              "    root._bokeh_onload_callbacks = [];\n",
              "    root._bokeh_is_loading = undefined;\n",
              "  }\n",
              "\n",
              "  var JS_MIME_TYPE = 'application/javascript';\n",
              "  var HTML_MIME_TYPE = 'text/html';\n",
              "  var EXEC_MIME_TYPE = 'application/vnd.bokehjs_exec.v0+json';\n",
              "  var CLASS_NAME = 'output_bokeh rendered_html';\n",
              "\n",
              "  /**\n",
              "   * Render data to the DOM node\n",
              "   */\n",
              "  function render(props, node) {\n",
              "    var script = document.createElement(\"script\");\n",
              "    node.appendChild(script);\n",
              "  }\n",
              "\n",
              "  /**\n",
              "   * Handle when an output is cleared or removed\n",
              "   */\n",
              "  function handleClearOutput(event, handle) {\n",
              "    var cell = handle.cell;\n",
              "\n",
              "    var id = cell.output_area._bokeh_element_id;\n",
              "    var server_id = cell.output_area._bokeh_server_id;\n",
              "    // Clean up Bokeh references\n",
              "    if (id != null && id in Bokeh.index) {\n",
              "      Bokeh.index[id].model.document.clear();\n",
              "      delete Bokeh.index[id];\n",
              "    }\n",
              "\n",
              "    if (server_id !== undefined) {\n",
              "      // Clean up Bokeh references\n",
              "      var cmd = \"from bokeh.io.state import curstate; print(curstate().uuid_to_server['\" + server_id + \"'].get_sessions()[0].document.roots[0]._id)\";\n",
              "      cell.notebook.kernel.execute(cmd, {\n",
              "        iopub: {\n",
              "          output: function(msg) {\n",
              "            var id = msg.content.text.trim();\n",
              "            if (id in Bokeh.index) {\n",
              "              Bokeh.index[id].model.document.clear();\n",
              "              delete Bokeh.index[id];\n",
              "            }\n",
              "          }\n",
              "        }\n",
              "      });\n",
              "      // Destroy server and session\n",
              "      var cmd = \"import bokeh.io.notebook as ion; ion.destroy_server('\" + server_id + \"')\";\n",
              "      cell.notebook.kernel.execute(cmd);\n",
              "    }\n",
              "  }\n",
              "\n",
              "  /**\n",
              "   * Handle when a new output is added\n",
              "   */\n",
              "  function handleAddOutput(event, handle) {\n",
              "    var output_area = handle.output_area;\n",
              "    var output = handle.output;\n",
              "\n",
              "    // limit handleAddOutput to display_data with EXEC_MIME_TYPE content only\n",
              "    if ((output.output_type != \"display_data\") || (!Object.prototype.hasOwnProperty.call(output.data, EXEC_MIME_TYPE))) {\n",
              "      return\n",
              "    }\n",
              "\n",
              "    var toinsert = output_area.element.find(\".\" + CLASS_NAME.split(' ')[0]);\n",
              "\n",
              "    if (output.metadata[EXEC_MIME_TYPE][\"id\"] !== undefined) {\n",
              "      toinsert[toinsert.length - 1].firstChild.textContent = output.data[JS_MIME_TYPE];\n",
              "      // store reference to embed id on output_area\n",
              "      output_area._bokeh_element_id = output.metadata[EXEC_MIME_TYPE][\"id\"];\n",
              "    }\n",
              "    if (output.metadata[EXEC_MIME_TYPE][\"server_id\"] !== undefined) {\n",
              "      var bk_div = document.createElement(\"div\");\n",
              "      bk_div.innerHTML = output.data[HTML_MIME_TYPE];\n",
              "      var script_attrs = bk_div.children[0].attributes;\n",
              "      for (var i = 0; i < script_attrs.length; i++) {\n",
              "        toinsert[toinsert.length - 1].firstChild.setAttribute(script_attrs[i].name, script_attrs[i].value);\n",
              "        toinsert[toinsert.length - 1].firstChild.textContent = bk_div.children[0].textContent\n",
              "      }\n",
              "      // store reference to server id on output_area\n",
              "      output_area._bokeh_server_id = output.metadata[EXEC_MIME_TYPE][\"server_id\"];\n",
              "    }\n",
              "  }\n",
              "\n",
              "  function register_renderer(events, OutputArea) {\n",
              "\n",
              "    function append_mime(data, metadata, element) {\n",
              "      // create a DOM node to render to\n",
              "      var toinsert = this.create_output_subarea(\n",
              "        metadata,\n",
              "        CLASS_NAME,\n",
              "        EXEC_MIME_TYPE\n",
              "      );\n",
              "      this.keyboard_manager.register_events(toinsert);\n",
              "      // Render to node\n",
              "      var props = {data: data, metadata: metadata[EXEC_MIME_TYPE]};\n",
              "      render(props, toinsert[toinsert.length - 1]);\n",
              "      element.append(toinsert);\n",
              "      return toinsert\n",
              "    }\n",
              "\n",
              "    /* Handle when an output is cleared or removed */\n",
              "    events.on('clear_output.CodeCell', handleClearOutput);\n",
              "    events.on('delete.Cell', handleClearOutput);\n",
              "\n",
              "    /* Handle when a new output is added */\n",
              "    events.on('output_added.OutputArea', handleAddOutput);\n",
              "\n",
              "    /**\n",
              "     * Register the mime type and append_mime function with output_area\n",
              "     */\n",
              "    OutputArea.prototype.register_mime_type(EXEC_MIME_TYPE, append_mime, {\n",
              "      /* Is output safe? */\n",
              "      safe: true,\n",
              "      /* Index of renderer in `output_area.display_order` */\n",
              "      index: 0\n",
              "    });\n",
              "  }\n",
              "\n",
              "  // register the mime type if in Jupyter Notebook environment and previously unregistered\n",
              "  if (root.Jupyter !== undefined) {\n",
              "    var events = require('base/js/events');\n",
              "    var OutputArea = require('notebook/js/outputarea').OutputArea;\n",
              "\n",
              "    if (OutputArea.prototype.mime_types().indexOf(EXEC_MIME_TYPE) == -1) {\n",
              "      register_renderer(events, OutputArea);\n",
              "    }\n",
              "  }\n",
              "\n",
              "  \n",
              "  if (typeof (root._bokeh_timeout) === \"undefined\" || force === true) {\n",
              "    root._bokeh_timeout = Date.now() + 5000;\n",
              "    root._bokeh_failed_load = false;\n",
              "  }\n",
              "\n",
              "  var NB_LOAD_WARNING = {'data': {'text/html':\n",
              "     \"<div style='background-color: #fdd'>\\n\"+\n",
              "     \"<p>\\n\"+\n",
              "     \"BokehJS does not appear to have successfully loaded. If loading BokehJS from CDN, this \\n\"+\n",
              "     \"may be due to a slow or bad network connection. Possible fixes:\\n\"+\n",
              "     \"</p>\\n\"+\n",
              "     \"<ul>\\n\"+\n",
              "     \"<li>re-rerun `output_notebook()` to attempt to load from CDN again, or</li>\\n\"+\n",
              "     \"<li>use INLINE resources instead, as so:</li>\\n\"+\n",
              "     \"</ul>\\n\"+\n",
              "     \"<code>\\n\"+\n",
              "     \"from bokeh.resources import INLINE\\n\"+\n",
              "     \"output_notebook(resources=INLINE)\\n\"+\n",
              "     \"</code>\\n\"+\n",
              "     \"</div>\"}};\n",
              "\n",
              "  function display_loaded() {\n",
              "    var el = document.getElementById(null);\n",
              "    if (el != null) {\n",
              "      el.textContent = \"BokehJS is loading...\";\n",
              "    }\n",
              "    if (root.Bokeh !== undefined) {\n",
              "      if (el != null) {\n",
              "        el.textContent = \"BokehJS \" + root.Bokeh.version + \" successfully loaded.\";\n",
              "      }\n",
              "    } else if (Date.now() < root._bokeh_timeout) {\n",
              "      setTimeout(display_loaded, 100)\n",
              "    }\n",
              "  }\n",
              "\n",
              "\n",
              "  function run_callbacks() {\n",
              "    try {\n",
              "      root._bokeh_onload_callbacks.forEach(function(callback) {\n",
              "        if (callback != null)\n",
              "          callback();\n",
              "      });\n",
              "    } finally {\n",
              "      delete root._bokeh_onload_callbacks\n",
              "    }\n",
              "    console.debug(\"Bokeh: all callbacks have finished\");\n",
              "  }\n",
              "\n",
              "  function load_libs(css_urls, js_urls, callback) {\n",
              "    if (css_urls == null) css_urls = [];\n",
              "    if (js_urls == null) js_urls = [];\n",
              "\n",
              "    root._bokeh_onload_callbacks.push(callback);\n",
              "    if (root._bokeh_is_loading > 0) {\n",
              "      console.debug(\"Bokeh: BokehJS is being loaded, scheduling callback at\", now());\n",
              "      return null;\n",
              "    }\n",
              "    if (js_urls == null || js_urls.length === 0) {\n",
              "      run_callbacks();\n",
              "      return null;\n",
              "    }\n",
              "    console.debug(\"Bokeh: BokehJS not loaded, scheduling load and callback at\", now());\n",
              "    root._bokeh_is_loading = css_urls.length + js_urls.length;\n",
              "\n",
              "    function on_load() {\n",
              "      root._bokeh_is_loading--;\n",
              "      if (root._bokeh_is_loading === 0) {\n",
              "        console.debug(\"Bokeh: all BokehJS libraries/stylesheets loaded\");\n",
              "        run_callbacks()\n",
              "      }\n",
              "    }\n",
              "\n",
              "    function on_error(url) {\n",
              "      console.error(\"failed to load \" + url);\n",
              "    }\n",
              "\n",
              "    for (let i = 0; i < css_urls.length; i++) {\n",
              "      const url = css_urls[i];\n",
              "      const element = document.createElement(\"link\");\n",
              "      element.onload = on_load;\n",
              "      element.onerror = on_error.bind(null, url);\n",
              "      element.rel = \"stylesheet\";\n",
              "      element.type = \"text/css\";\n",
              "      element.href = url;\n",
              "      console.debug(\"Bokeh: injecting link tag for BokehJS stylesheet: \", url);\n",
              "      document.body.appendChild(element);\n",
              "    }\n",
              "\n",
              "    const hashes = {\"https://cdn.bokeh.org/bokeh/release/bokeh-2.3.3.min.js\": \"dM3QQsP+wXdHg42wTqW85BjZQdLNNIXqlPw/BgKoExPmTG7ZLML4EGqLMfqHT6ON\", \"https://cdn.bokeh.org/bokeh/release/bokeh-tables-2.3.3.min.js\": \"8x57I4YuIfu8XyZfFo0XVr2WAT8EK4rh/uDe3wF7YuW2FNUSNEpJbsPaB1nJ2fz2\", \"https://cdn.bokeh.org/bokeh/release/bokeh-widgets-2.3.3.min.js\": \"3QTqdz9LyAm2i0sG5XTePsHec3UHWwVsrOL68SYRoAXsafvfAyqtQ+h440+qIBhS\"};\n",
              "\n",
              "    for (let i = 0; i < js_urls.length; i++) {\n",
              "      const url = js_urls[i];\n",
              "      const element = document.createElement('script');\n",
              "      element.onload = on_load;\n",
              "      element.onerror = on_error.bind(null, url);\n",
              "      element.async = false;\n",
              "      element.src = url;\n",
              "      if (url in hashes) {\n",
              "        element.crossOrigin = \"anonymous\";\n",
              "        element.integrity = \"sha384-\" + hashes[url];\n",
              "      }\n",
              "      console.debug(\"Bokeh: injecting script tag for BokehJS library: \", url);\n",
              "      document.head.appendChild(element);\n",
              "    }\n",
              "  };\n",
              "\n",
              "  function inject_raw_css(css) {\n",
              "    const element = document.createElement(\"style\");\n",
              "    element.appendChild(document.createTextNode(css));\n",
              "    document.body.appendChild(element);\n",
              "  }\n",
              "\n",
              "  \n",
              "  var js_urls = [\"https://cdn.bokeh.org/bokeh/release/bokeh-2.3.3.min.js\", \"https://cdn.bokeh.org/bokeh/release/bokeh-widgets-2.3.3.min.js\", \"https://cdn.bokeh.org/bokeh/release/bokeh-tables-2.3.3.min.js\"];\n",
              "  var css_urls = [];\n",
              "  \n",
              "\n",
              "  var inline_js = [\n",
              "    function(Bokeh) {\n",
              "      Bokeh.set_log_level(\"info\");\n",
              "    },\n",
              "    function(Bokeh) {\n",
              "    \n",
              "    \n",
              "    }\n",
              "  ];\n",
              "\n",
              "  function run_inline_js() {\n",
              "    \n",
              "    if (root.Bokeh !== undefined || force === true) {\n",
              "      \n",
              "    for (var i = 0; i < inline_js.length; i++) {\n",
              "      inline_js[i].call(root, root.Bokeh);\n",
              "    }\n",
              "    } else if (Date.now() < root._bokeh_timeout) {\n",
              "      setTimeout(run_inline_js, 100);\n",
              "    } else if (!root._bokeh_failed_load) {\n",
              "      console.log(\"Bokeh: BokehJS failed to load within specified timeout.\");\n",
              "      root._bokeh_failed_load = true;\n",
              "    } else if (force !== true) {\n",
              "      var cell = $(document.getElementById(null)).parents('.cell').data().cell;\n",
              "      cell.output_area.append_execute_result(NB_LOAD_WARNING)\n",
              "    }\n",
              "\n",
              "  }\n",
              "\n",
              "  if (root._bokeh_is_loading === 0) {\n",
              "    console.debug(\"Bokeh: BokehJS loaded, going straight to plotting\");\n",
              "    run_inline_js();\n",
              "  } else {\n",
              "    load_libs(css_urls, js_urls, function() {\n",
              "      console.debug(\"Bokeh: BokehJS plotting callback run at\", now());\n",
              "      run_inline_js();\n",
              "    });\n",
              "  }\n",
              "}(window));"
            ],
            "application/vnd.bokehjs_load.v0+json": "\n(function(root) {\n  function now() {\n    return new Date();\n  }\n\n  var force = true;\n\n  if (typeof root._bokeh_onload_callbacks === \"undefined\" || force === true) {\n    root._bokeh_onload_callbacks = [];\n    root._bokeh_is_loading = undefined;\n  }\n\n  \n\n  \n  if (typeof (root._bokeh_timeout) === \"undefined\" || force === true) {\n    root._bokeh_timeout = Date.now() + 5000;\n    root._bokeh_failed_load = false;\n  }\n\n  var NB_LOAD_WARNING = {'data': {'text/html':\n     \"<div style='background-color: #fdd'>\\n\"+\n     \"<p>\\n\"+\n     \"BokehJS does not appear to have successfully loaded. If loading BokehJS from CDN, this \\n\"+\n     \"may be due to a slow or bad network connection. Possible fixes:\\n\"+\n     \"</p>\\n\"+\n     \"<ul>\\n\"+\n     \"<li>re-rerun `output_notebook()` to attempt to load from CDN again, or</li>\\n\"+\n     \"<li>use INLINE resources instead, as so:</li>\\n\"+\n     \"</ul>\\n\"+\n     \"<code>\\n\"+\n     \"from bokeh.resources import INLINE\\n\"+\n     \"output_notebook(resources=INLINE)\\n\"+\n     \"</code>\\n\"+\n     \"</div>\"}};\n\n  function display_loaded() {\n    var el = document.getElementById(null);\n    if (el != null) {\n      el.textContent = \"BokehJS is loading...\";\n    }\n    if (root.Bokeh !== undefined) {\n      if (el != null) {\n        el.textContent = \"BokehJS \" + root.Bokeh.version + \" successfully loaded.\";\n      }\n    } else if (Date.now() < root._bokeh_timeout) {\n      setTimeout(display_loaded, 100)\n    }\n  }\n\n\n  function run_callbacks() {\n    try {\n      root._bokeh_onload_callbacks.forEach(function(callback) {\n        if (callback != null)\n          callback();\n      });\n    } finally {\n      delete root._bokeh_onload_callbacks\n    }\n    console.debug(\"Bokeh: all callbacks have finished\");\n  }\n\n  function load_libs(css_urls, js_urls, callback) {\n    if (css_urls == null) css_urls = [];\n    if (js_urls == null) js_urls = [];\n\n    root._bokeh_onload_callbacks.push(callback);\n    if (root._bokeh_is_loading > 0) {\n      console.debug(\"Bokeh: BokehJS is being loaded, scheduling callback at\", now());\n      return null;\n    }\n    if (js_urls == null || js_urls.length === 0) {\n      run_callbacks();\n      return null;\n    }\n    console.debug(\"Bokeh: BokehJS not loaded, scheduling load and callback at\", now());\n    root._bokeh_is_loading = css_urls.length + js_urls.length;\n\n    function on_load() {\n      root._bokeh_is_loading--;\n      if (root._bokeh_is_loading === 0) {\n        console.debug(\"Bokeh: all BokehJS libraries/stylesheets loaded\");\n        run_callbacks()\n      }\n    }\n\n    function on_error(url) {\n      console.error(\"failed to load \" + url);\n    }\n\n    for (let i = 0; i < css_urls.length; i++) {\n      const url = css_urls[i];\n      const element = document.createElement(\"link\");\n      element.onload = on_load;\n      element.onerror = on_error.bind(null, url);\n      element.rel = \"stylesheet\";\n      element.type = \"text/css\";\n      element.href = url;\n      console.debug(\"Bokeh: injecting link tag for BokehJS stylesheet: \", url);\n      document.body.appendChild(element);\n    }\n\n    const hashes = {\"https://cdn.bokeh.org/bokeh/release/bokeh-2.3.3.min.js\": \"dM3QQsP+wXdHg42wTqW85BjZQdLNNIXqlPw/BgKoExPmTG7ZLML4EGqLMfqHT6ON\", \"https://cdn.bokeh.org/bokeh/release/bokeh-tables-2.3.3.min.js\": \"8x57I4YuIfu8XyZfFo0XVr2WAT8EK4rh/uDe3wF7YuW2FNUSNEpJbsPaB1nJ2fz2\", \"https://cdn.bokeh.org/bokeh/release/bokeh-widgets-2.3.3.min.js\": \"3QTqdz9LyAm2i0sG5XTePsHec3UHWwVsrOL68SYRoAXsafvfAyqtQ+h440+qIBhS\"};\n\n    for (let i = 0; i < js_urls.length; i++) {\n      const url = js_urls[i];\n      const element = document.createElement('script');\n      element.onload = on_load;\n      element.onerror = on_error.bind(null, url);\n      element.async = false;\n      element.src = url;\n      if (url in hashes) {\n        element.crossOrigin = \"anonymous\";\n        element.integrity = \"sha384-\" + hashes[url];\n      }\n      console.debug(\"Bokeh: injecting script tag for BokehJS library: \", url);\n      document.head.appendChild(element);\n    }\n  };\n\n  function inject_raw_css(css) {\n    const element = document.createElement(\"style\");\n    element.appendChild(document.createTextNode(css));\n    document.body.appendChild(element);\n  }\n\n  \n  var js_urls = [\"https://cdn.bokeh.org/bokeh/release/bokeh-2.3.3.min.js\", \"https://cdn.bokeh.org/bokeh/release/bokeh-widgets-2.3.3.min.js\", \"https://cdn.bokeh.org/bokeh/release/bokeh-tables-2.3.3.min.js\"];\n  var css_urls = [];\n  \n\n  var inline_js = [\n    function(Bokeh) {\n      Bokeh.set_log_level(\"info\");\n    },\n    function(Bokeh) {\n    \n    \n    }\n  ];\n\n  function run_inline_js() {\n    \n    if (root.Bokeh !== undefined || force === true) {\n      \n    for (var i = 0; i < inline_js.length; i++) {\n      inline_js[i].call(root, root.Bokeh);\n    }\n    } else if (Date.now() < root._bokeh_timeout) {\n      setTimeout(run_inline_js, 100);\n    } else if (!root._bokeh_failed_load) {\n      console.log(\"Bokeh: BokehJS failed to load within specified timeout.\");\n      root._bokeh_failed_load = true;\n    } else if (force !== true) {\n      var cell = $(document.getElementById(null)).parents('.cell').data().cell;\n      cell.output_area.append_execute_result(NB_LOAD_WARNING)\n    }\n\n  }\n\n  if (root._bokeh_is_loading === 0) {\n    console.debug(\"Bokeh: BokehJS loaded, going straight to plotting\");\n    run_inline_js();\n  } else {\n    load_libs(css_urls, js_urls, function() {\n      console.debug(\"Bokeh: BokehJS plotting callback run at\", now());\n      run_inline_js();\n    });\n  }\n}(window));"
          },
          "metadata": {}
        },
        {
          "output_type": "display_data",
          "data": {
            "text/html": [
              "\n",
              "\n",
              "\n",
              "\n",
              "\n",
              "\n",
              "  <div class=\"bk-root\" id=\"f1cdc3e0-d20a-475d-94a7-d2ad66cf5a9e\" data-root-id=\"1100\"></div>\n"
            ]
          },
          "metadata": {}
        },
        {
          "output_type": "display_data",
          "data": {
            "application/javascript": [
              "(function(root) {\n",
              "  function embed_document(root) {\n",
              "    \n",
              "  var docs_json = {\"71690e1f-4696-4212-b0a2-d4dd3695716b\":{\"defs\":[],\"roots\":{\"references\":[{\"attributes\":{\"below\":[{\"id\":\"1111\"}],\"center\":[{\"id\":\"1114\"},{\"id\":\"1118\"}],\"height\":400,\"left\":[{\"id\":\"1115\"}],\"renderers\":[{\"id\":\"1136\"}],\"title\":{\"id\":\"1101\"},\"toolbar\":{\"id\":\"1126\"},\"x_range\":{\"id\":\"1103\"},\"x_scale\":{\"id\":\"1107\"},\"y_range\":{\"id\":\"1105\"},\"y_scale\":{\"id\":\"1109\"}},\"id\":\"1100\",\"subtype\":\"Figure\",\"type\":\"Plot\"},{\"attributes\":{\"formatter\":{\"id\":\"1151\"},\"major_label_policy\":{\"id\":\"1150\"},\"ticker\":{\"id\":\"1112\"}},\"id\":\"1111\",\"type\":\"LinearAxis\"},{\"attributes\":{\"data\":{\"left\":{\"__ndarray__\":\"AAAAAAAAFECamZmZmZkbQJqZmZmZmSFAZmZmZmZmJUAzMzMzMzMpQAAAAAAAAC1AZmZmZmZmMEDMzMzMzEwyQDMzMzMzMzRAmZmZmZkZNkA=\",\"dtype\":\"float64\",\"order\":\"little\",\"shape\":[10]},\"right\":{\"__ndarray__\":\"mpmZmZmZG0CamZmZmZkhQGZmZmZmZiVAMzMzMzMzKUAAAAAAAAAtQGZmZmZmZjBAzMzMzMxMMkAzMzMzMzM0QJmZmZmZGTZAAAAAAAAAOEA=\",\"dtype\":\"float64\",\"order\":\"little\",\"shape\":[10]},\"top\":[6,65,429,1226,2570,2782,1928,791,174,29]},\"selected\":{\"id\":\"1156\"},\"selection_policy\":{\"id\":\"1157\"}},\"id\":\"1133\",\"type\":\"ColumnDataSource\"},{\"attributes\":{},\"id\":\"1112\",\"type\":\"BasicTicker\"},{\"attributes\":{\"axis\":{\"id\":\"1111\"},\"ticker\":null},\"id\":\"1114\",\"type\":\"Grid\"},{\"attributes\":{\"bottom\":{\"value\":0},\"fill_color\":{\"value\":\"#1f77b4\"},\"left\":{\"field\":\"left\"},\"line_color\":{\"value\":\"#1f77b4\"},\"right\":{\"field\":\"right\"},\"top\":{\"field\":\"top\"}},\"id\":\"1134\",\"type\":\"Quad\"},{\"attributes\":{\"active_multi\":null,\"tools\":[{\"id\":\"1119\"},{\"id\":\"1120\"},{\"id\":\"1121\"},{\"id\":\"1122\"},{\"id\":\"1123\"},{\"id\":\"1124\"}]},\"id\":\"1126\",\"type\":\"Toolbar\"},{\"attributes\":{\"data_source\":{\"id\":\"1133\"},\"glyph\":{\"id\":\"1134\"},\"hover_glyph\":null,\"muted_glyph\":null,\"nonselection_glyph\":{\"id\":\"1135\"},\"view\":{\"id\":\"1137\"}},\"id\":\"1136\",\"type\":\"GlyphRenderer\"},{\"attributes\":{},\"id\":\"1157\",\"type\":\"UnionRenderers\"},{\"attributes\":{\"axis\":{\"id\":\"1115\"},\"dimension\":1,\"ticker\":null},\"id\":\"1118\",\"type\":\"Grid\"},{\"attributes\":{\"bottom_units\":\"screen\",\"fill_alpha\":0.5,\"fill_color\":\"lightgrey\",\"left_units\":\"screen\",\"level\":\"overlay\",\"line_alpha\":1.0,\"line_color\":\"black\",\"line_dash\":[4,4],\"line_width\":2,\"right_units\":\"screen\",\"syncable\":false,\"top_units\":\"screen\"},\"id\":\"1125\",\"type\":\"BoxAnnotation\"},{\"attributes\":{},\"id\":\"1116\",\"type\":\"BasicTicker\"},{\"attributes\":{},\"id\":\"1154\",\"type\":\"BasicTickFormatter\"},{\"attributes\":{\"source\":{\"id\":\"1133\"}},\"id\":\"1137\",\"type\":\"CDSView\"},{\"attributes\":{},\"id\":\"1119\",\"type\":\"PanTool\"},{\"attributes\":{\"formatter\":{\"id\":\"1154\"},\"major_label_policy\":{\"id\":\"1153\"},\"ticker\":{\"id\":\"1116\"}},\"id\":\"1115\",\"type\":\"LinearAxis\"},{\"attributes\":{},\"id\":\"1105\",\"type\":\"DataRange1d\"},{\"attributes\":{},\"id\":\"1120\",\"type\":\"WheelZoomTool\"},{\"attributes\":{},\"id\":\"1156\",\"type\":\"Selection\"},{\"attributes\":{\"overlay\":{\"id\":\"1125\"}},\"id\":\"1121\",\"type\":\"BoxZoomTool\"},{\"attributes\":{},\"id\":\"1122\",\"type\":\"SaveTool\"},{\"attributes\":{},\"id\":\"1123\",\"type\":\"ResetTool\"},{\"attributes\":{\"text\":\"The binomial distribution\"},\"id\":\"1101\",\"type\":\"Title\"},{\"attributes\":{\"bottom\":{\"value\":0},\"fill_alpha\":{\"value\":0.1},\"fill_color\":{\"value\":\"#1f77b4\"},\"left\":{\"field\":\"left\"},\"line_alpha\":{\"value\":0.1},\"line_color\":{\"value\":\"#1f77b4\"},\"right\":{\"field\":\"right\"},\"top\":{\"field\":\"top\"}},\"id\":\"1135\",\"type\":\"Quad\"},{\"attributes\":{},\"id\":\"1103\",\"type\":\"DataRange1d\"},{\"attributes\":{},\"id\":\"1124\",\"type\":\"HelpTool\"},{\"attributes\":{},\"id\":\"1151\",\"type\":\"BasicTickFormatter\"},{\"attributes\":{},\"id\":\"1153\",\"type\":\"AllLabels\"},{\"attributes\":{},\"id\":\"1107\",\"type\":\"LinearScale\"},{\"attributes\":{},\"id\":\"1109\",\"type\":\"LinearScale\"},{\"attributes\":{},\"id\":\"1150\",\"type\":\"AllLabels\"}],\"root_ids\":[\"1100\"]},\"title\":\"Bokeh Application\",\"version\":\"2.3.3\"}};\n",
              "  var render_items = [{\"docid\":\"71690e1f-4696-4212-b0a2-d4dd3695716b\",\"root_ids\":[\"1100\"],\"roots\":{\"1100\":\"f1cdc3e0-d20a-475d-94a7-d2ad66cf5a9e\"}}];\n",
              "  root.Bokeh.embed.embed_items_notebook(docs_json, render_items);\n",
              "\n",
              "  }\n",
              "  if (root.Bokeh !== undefined) {\n",
              "    embed_document(root);\n",
              "  } else {\n",
              "    var attempts = 0;\n",
              "    var timer = setInterval(function(root) {\n",
              "      if (root.Bokeh !== undefined) {\n",
              "        clearInterval(timer);\n",
              "        embed_document(root);\n",
              "      } else {\n",
              "        attempts++;\n",
              "        if (attempts > 100) {\n",
              "          clearInterval(timer);\n",
              "          console.log(\"Bokeh: ERROR: Unable to run BokehJS code because BokehJS library is missing\");\n",
              "        }\n",
              "      }\n",
              "    }, 10, root)\n",
              "  }\n",
              "})(window);"
            ],
            "application/vnd.bokehjs_exec.v0+json": ""
          },
          "metadata": {
            "application/vnd.bokehjs_exec.v0+json": {
              "id": "1100"
            }
          }
        }
      ]
    },
    {
      "cell_type": "markdown",
      "source": [
        "## Accessing help documentation (docstrings)\n",
        "\n",
        "@@TODO"
      ],
      "metadata": {
        "id": "p1HcXsK1TPPf"
      }
    },
    {
      "cell_type": "code",
      "source": [
        "np.random.binomial?"
      ],
      "metadata": {
        "id": "8MriYreYTaHp"
      },
      "execution_count": null,
      "outputs": []
    },
    {
      "cell_type": "markdown",
      "source": [
        "## Finding help and code examples on the Web\n",
        "\n",
        "@@TODO"
      ],
      "metadata": {
        "id": "-n0BAv-MLO_m"
      }
    },
    {
      "cell_type": "markdown",
      "source": [
        "## Sharing notebooks via Google Drive\n",
        "\n",
        "@@TODO"
      ],
      "metadata": {
        "id": "GZHxDB1EUFLY"
      }
    },
    {
      "cell_type": "markdown",
      "source": [
        "## Practical exercises\n",
        "\n",
        "1. Go to https://colab.research.google.com and create a new notebook.\n",
        "1. Add a code cell, type some Python code, and run (execute) the cell.\n",
        "1. Add a text cell and type some text, using markdown to format the text, e.g., bold, italic, hyperlinks, etc.\n",
        "1. Practice adding, deleting and moving cells within the notebook.\n",
        "1. Import a package (e.g., `numpy`) and call a function from that package (e.g., `numpy.random.randint()`). Hint: use `?` to display the function parameters if you can't remember them.\n",
        "1. Add a code cell which creates a pandas `DataFrame`. Inspect the dataframe using the colab interactive tables feature. Hint: you can search the web for pandas code examples, and copy-paste the code into your notebook.\n",
        "1. Add a code cell which creates a matplotlib plot. Hint: try the [matplotlib examples gallery](https://matplotlib.org/stable/gallery/index.html) for some code examples to try.\n",
        "1. Add a code cell which creates a plotly plot. Hint: try the [plotly express docs](https://matplotlib.org/stable/gallery/index.html) for some code examples to try.\n",
        "1. Add a code cell which creates a bokeh plot. Hint: try the [bokeh gallery](https://docs.bokeh.org/en/latest/docs/gallery.html#standalone-examples) for some code examples to try.\n",
        "10. When you've had enough, create a link to your notebook, and share it with someone. If you're attending a training workshop, paste the link into the workshop slack channel. \n"
      ],
      "metadata": {
        "id": "resb3397UjKI"
      }
    },
    {
      "cell_type": "code",
      "source": [
        ""
      ],
      "metadata": {
        "id": "3Im7QGB6KxCG"
      },
      "execution_count": null,
      "outputs": []
    }
  ]
}