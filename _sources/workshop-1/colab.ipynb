{
 "cells": [
  {
   "cell_type": "markdown",
   "id": "a639db1c-330c-44a1-b1bf-fc02fc107393",
   "metadata": {},
   "source": [
    "# Module 1 - Interactive computing with Google Colaboratory\n",
    "\n",
    "@@TODO"
   ]
  },
  {
   "cell_type": "code",
   "execution_count": null,
   "id": "4078e143-b6f1-4389-aa3b-6acf8c5f0b8d",
   "metadata": {},
   "outputs": [],
   "source": []
  }
 ],
 "metadata": {
  "kernelspec": {
   "display_name": "Python 3 (ipykernel)",
   "language": "python",
   "name": "python3"
  },
  "language_info": {
   "codemirror_mode": {
    "name": "ipython",
    "version": 3
   },
   "file_extension": ".py",
   "mimetype": "text/x-python",
   "name": "python",
   "nbconvert_exporter": "python",
   "pygments_lexer": "ipython3",
   "version": "3.7.12"
  }
 },
 "nbformat": 4,
 "nbformat_minor": 5
}
