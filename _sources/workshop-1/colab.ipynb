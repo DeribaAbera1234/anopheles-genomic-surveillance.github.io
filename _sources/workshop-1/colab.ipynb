{
 "cells": [
  {
   "cell_type": "markdown",
   "id": "5a982e5e-ea71-4c3a-9449-3d9a822227c8",
   "metadata": {},
   "source": [
    "# Module 1 - Interactive computing with Google Colaboratory"
   ]
  },
  {
   "cell_type": "markdown",
   "id": "aeb88202-6725-44ff-ae3d-d6ef22827815",
   "metadata": {},
   "source": [
    "## Learning objectives\n",
    "\n",
    "* Understand how to create and run notebooks using Google Colaboratory\n",
    "* Understand the different types of content that can be included within a notebook and how to create them\n",
    "* Know how to share Colab notebooks via Google Drive\n"
   ]
  },
  {
   "cell_type": "markdown",
   "id": "086a50a7-f3e5-4ffa-a016-62d340dc4d55",
   "metadata": {},
   "source": [
    "## @@TODO"
   ]
  },
  {
   "cell_type": "markdown",
   "id": "f40ebcb8-dcfe-47f0-a717-c66077b3f473",
   "metadata": {},
   "source": [
    "## Feedback\n",
    "\n",
    "@@TODO how to submit feedback"
   ]
  }
 ],
 "metadata": {
  "kernelspec": {
   "display_name": "Python 3 (ipykernel)",
   "language": "python",
   "name": "python3"
  },
  "language_info": {
   "codemirror_mode": {
    "name": "ipython",
    "version": 3
   },
   "file_extension": ".py",
   "mimetype": "text/x-python",
   "name": "python",
   "nbconvert_exporter": "python",
   "pygments_lexer": "ipython3",
   "version": "3.7.12"
  }
 },
 "nbformat": 4,
 "nbformat_minor": 5
}
