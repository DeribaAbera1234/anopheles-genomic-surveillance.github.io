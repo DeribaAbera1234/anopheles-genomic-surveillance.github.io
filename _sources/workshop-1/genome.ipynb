{
 "cells": [
  {
   "cell_type": "markdown",
   "id": "166eca0d-e930-4c5d-a54f-dc44c39a8781",
   "metadata": {},
   "source": [
    "# Module 3 - Navigating the *Anopheles gambiae* genome\n",
    "\n",
    "## Learning objectives\n",
    "\n",
    "* Understand the structure of the *Anopheles gambiae* reference genome\n",
    "* Be able to use genomic coordinates to identify sites and regions within the reference genome\n",
    "* Understand what genes are and where genes are located within the reference genome\n",
    "* Be familiar with the central dogma of biology, which describes how genes are transcribed into mRNA and translated into proteins\n"
   ]
  },
  {
   "cell_type": "markdown",
   "id": "4359789b-6d52-4e57-91fe-55d65fa2f533",
   "metadata": {},
   "source": [
    "## @@TODO"
   ]
  },
  {
   "cell_type": "markdown",
   "id": "3af3d87c-24a9-40a8-828d-f516a2ab055a",
   "metadata": {},
   "source": [
    "## Feedback\n",
    "\n",
    "@@TODO how to submit feedback"
   ]
  }
 ],
 "metadata": {
  "kernelspec": {
   "display_name": "Python 3 (ipykernel)",
   "language": "python",
   "name": "python3"
  },
  "language_info": {
   "codemirror_mode": {
    "name": "ipython",
    "version": 3
   },
   "file_extension": ".py",
   "mimetype": "text/x-python",
   "name": "python",
   "nbconvert_exporter": "python",
   "pygments_lexer": "ipython3",
   "version": "3.7.12"
  }
 },
 "nbformat": 4,
 "nbformat_minor": 5
}
