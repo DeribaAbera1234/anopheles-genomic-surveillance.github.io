{
 "cells": [
  {
   "cell_type": "markdown",
   "id": "a12c1e99-2832-4d90-a4a8-24929d9c10ac",
   "metadata": {},
   "source": [
    "# Module 3 - Accessing MalariaGEN genome variation data resources\n",
    "\n",
    "@@TODO"
   ]
  },
  {
   "cell_type": "code",
   "execution_count": null,
   "id": "ebded4eb-35c4-47ca-8bf5-891d7b8b6de9",
   "metadata": {},
   "outputs": [],
   "source": []
  }
 ],
 "metadata": {
  "kernelspec": {
   "display_name": "Python 3 (ipykernel)",
   "language": "python",
   "name": "python3"
  },
  "language_info": {
   "codemirror_mode": {
    "name": "ipython",
    "version": 3
   },
   "file_extension": ".py",
   "mimetype": "text/x-python",
   "name": "python",
   "nbconvert_exporter": "python",
   "pygments_lexer": "ipython3",
   "version": "3.7.12"
  }
 },
 "nbformat": 4,
 "nbformat_minor": 5
}
