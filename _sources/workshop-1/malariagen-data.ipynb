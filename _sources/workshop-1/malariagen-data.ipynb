{
 "cells": [
  {
   "cell_type": "markdown",
   "id": "a12c1e99-2832-4d90-a4a8-24929d9c10ac",
   "metadata": {},
   "source": [
    "# Module 3 - Accessing MalariaGEN genome variation data resources\n",
    "\n",
    ":::{admonition} Learning objectives\n",
    "\n",
    "* Know what the MalariaGEN Vector Observatory is and how it operates\n",
    "* Know what types of *Anopheles* genome variation data are produced by MalariaGEN and how they are produced\n",
    "* Know how to install the `malariagen_data` Python package and use it to access data in Google Cloud\n",
    "* Know how to explore the `Ag3` data resource and summarise the samples for which genome variation data are available\n",
    "\n",
    ":::"
   ]
  }
 ],
 "metadata": {
  "kernelspec": {
   "display_name": "Python 3 (ipykernel)",
   "language": "python",
   "name": "python3"
  },
  "language_info": {
   "codemirror_mode": {
    "name": "ipython",
    "version": 3
   },
   "file_extension": ".py",
   "mimetype": "text/x-python",
   "name": "python",
   "nbconvert_exporter": "python",
   "pygments_lexer": "ipython3",
   "version": "3.7.12"
  }
 },
 "nbformat": 4,
 "nbformat_minor": 5
}
