{
 "cells": [
  {
   "cell_type": "markdown",
   "id": "a12c1e99-2832-4d90-a4a8-24929d9c10ac",
   "metadata": {},
   "source": [
    "# Module 3 - Accessing MalariaGEN genome variation data resources\n",
    "\n",
    "## Learning objectives\n",
    "\n",
    "* Know what the MalariaGEN Vector Observatory is and how it operates\n",
    "* Know what types of *Anopheles* genome variation data are produced by MalariaGEN and how they are produced\n",
    "* Know how to install the `malariagen_data` Python package and use it to access data in Google Cloud\n",
    "* Know how to explore the `Ag3` data resource and summarise the samples for which genome variation data are available\n"
   ]
  },
  {
   "cell_type": "markdown",
   "id": "a9b68f12-a089-4f2e-9ddb-002291b8c421",
   "metadata": {},
   "source": [
    "## @@TODO"
   ]
  },
  {
   "cell_type": "markdown",
   "id": "c95b6458-3696-4436-a91d-8ef303768d18",
   "metadata": {},
   "source": [
    "## Feedback\n",
    "\n",
    "@@TODO how to submit feedback"
   ]
  }
 ],
 "metadata": {
  "kernelspec": {
   "display_name": "Python 3 (ipykernel)",
   "language": "python",
   "name": "python3"
  },
  "language_info": {
   "codemirror_mode": {
    "name": "ipython",
    "version": 3
   },
   "file_extension": ".py",
   "mimetype": "text/x-python",
   "name": "python",
   "nbconvert_exporter": "python",
   "pygments_lexer": "ipython3",
   "version": "3.7.12"
  }
 },
 "nbformat": 4,
 "nbformat_minor": 5
}
