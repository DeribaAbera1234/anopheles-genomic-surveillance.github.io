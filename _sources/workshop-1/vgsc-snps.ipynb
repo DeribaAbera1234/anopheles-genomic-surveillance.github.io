{
 "cells": [
  {
   "cell_type": "markdown",
   "id": "fe2e41ce-e1a7-4440-a10f-2ba36bceb543",
   "metadata": {},
   "source": [
    "# Module 4 - Analysing SNPs in the *Vgsc* gene\n",
    "\n",
    ":::{admonition} Learning objectives\n",
    "\n",
    "* Know what the *Vgsc* gene is, where it is located within the genome, and what transcripts are known\n",
    "* Know what a SNP is and what effects SNPs can cause\n",
    "* Know how to define sample cohorts for analysis of SNP allele frequencies\n",
    "* Be able to discover amino acid substitutions within *Vgsc* and compute their frequencies in different cohorts \n",
    "\n",
    ":::"
   ]
  }
 ],
 "metadata": {
  "kernelspec": {
   "display_name": "Python 3 (ipykernel)",
   "language": "python",
   "name": "python3"
  },
  "language_info": {
   "codemirror_mode": {
    "name": "ipython",
    "version": 3
   },
   "file_extension": ".py",
   "mimetype": "text/x-python",
   "name": "python",
   "nbconvert_exporter": "python",
   "pygments_lexer": "ipython3",
   "version": "3.7.12"
  }
 },
 "nbformat": 4,
 "nbformat_minor": 5
}
