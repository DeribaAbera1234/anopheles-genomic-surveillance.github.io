{
 "cells": [
  {
   "cell_type": "markdown",
   "id": "d1edb67b-ff4c-4c2d-bbb9-a1b0ff47d3e8",
   "metadata": {
    "tags": []
   },
   "source": [
    "![banner](../banner.jpg)\n",
    "\n",
    "***Training course in data analysis for genomic surveillance of African malaria vectors***\n",
    "\n",
    "---"
   ]
  },
  {
   "cell_type": "markdown",
   "id": "fd5425af-83a9-4622-b713-f58120b7438f",
   "metadata": {},
   "source": [
    "# Signals of insecticide resistance in _Anopheles funestus_\n",
    "\n",
    "**Theme: Analysis**"
   ]
  },
  {
   "cell_type": "markdown",
   "id": "3d401311-b0ad-409d-82bc-a63e5670ca24",
   "metadata": {},
   "source": [
    "**DISCLAIMER: This is work in progress and subject to change and updates.**"
   ]
  },
  {
   "cell_type": "markdown",
   "id": "a0926586-a818-4024-a134-7af082ad3191",
   "metadata": {
    "tags": []
   },
   "source": [
    "This module provides a quick overview of various methods that can be used to detect and analyse signals of insecticide resistance in whole-genome sequenced *Anopheles funestus* mosquitoes using the _Af1_ resource.\n",
    "\n",
    "The goal of this module is to show an example of a possible analysis plan using the _Af1_ resource. This analysis plan is not exhaustive and will need to be adapted to the specific questions one is interested in but it should provide a solid basis on which to build further analyses."
   ]
  },
  {
   "cell_type": "markdown",
   "id": "5b2bfe76-af67-4187-8716-9461e3403f8e",
   "metadata": {},
   "source": [
    "A certain degree of familiarity with the content of the training course on _Anopheles gambiae s.l._ is expected. Many of the concepts presented in this module were introduced in the training course and we will refer to the relevant workshop and module instead of giving detailed explanations.\n",
    "\n",
    "More specifically, this module will use some functions to access SNP and CNV frequencies (which can be found, respectively, in [Workshop 1](https://anopheles-genomic-surveillance.github.io/workshop-1/about.html) and [Workshop 2](https://anopheles-genomic-surveillance.github.io/workshop-2/about.html)) as well as H12 (which was covered in [Workshop 6 - Module 3](https://anopheles-genomic-surveillance.github.io/workshop-6/module-3-gwss.html)) to detect signals of selection. We will also look at gene flow for which methods were introduced in [Workshop 7](https://anopheles-genomic-surveillance.github.io/workshop-7/about.html). Users are encouraged to go back to these workshops to refamiliarize themselves with their content."
   ]
  },
  {
   "cell_type": "markdown",
   "id": "e40ef39d-1a4e-4c74-bf07-04a97d172ebb",
   "metadata": {},
   "source": [
    "## Learning objectives\n",
    "\n",
    "After completing this module, you will be able to use the `malariagen_data` Python package to:\n",
    "\n",
    "* Discover signals of selection in _An. funestus_.\n",
    "* Identify key SNPs.\n",
    "* Analyse CNVs at important loci.\n",
    "* Use haplotypes to detect gene flow between populations."
   ]
  },
  {
   "cell_type": "markdown",
   "id": "9afe7d28-5240-414e-bb9d-2ff85ffea6ea",
   "metadata": {},
   "source": [
    "## Lecture?"
   ]
  },
  {
   "cell_type": "markdown",
   "id": "ffdeb913-65c4-48f2-bdee-6cd6e6da068f",
   "metadata": {},
   "source": [
    "### English"
   ]
  },
  {
   "cell_type": "code",
   "execution_count": null,
   "id": "da95e2d0-2d6d-42c1-a382-fd75d7b1d7b1",
   "metadata": {},
   "outputs": [],
   "source": []
  },
  {
   "cell_type": "markdown",
   "id": "f7f5d86b-66cd-42e4-badf-081cceee4cd5",
   "metadata": {},
   "source": [
    "### Français"
   ]
  },
  {
   "cell_type": "code",
   "execution_count": null,
   "id": "5b35a856-8db7-4eca-891a-7ef362984476",
   "metadata": {},
   "outputs": [],
   "source": []
  },
  {
   "cell_type": "markdown",
   "id": "5984277f-08e9-45bc-aa59-d43b2f135d73",
   "metadata": {},
   "source": [
    "Please note that the code in the cells below might differ from that shown in the video. This can happen because Python packages and their dependencies change due to updates, necessitating tweaks to the code."
   ]
  },
  {
   "cell_type": "markdown",
   "id": "082ccbe9-e9aa-4f56-a779-f43440d3f7a5",
   "metadata": {},
   "source": [
    "## Setup\n",
    "First, let's install the python packages we will need for our analyses."
   ]
  },
  {
   "cell_type": "code",
   "execution_count": null,
   "id": "9b201c51-2e3b-477c-a843-f2ad62ecdef3",
   "metadata": {
    "tags": []
   },
   "outputs": [],
   "source": [
    "%pip install -q --no-warn-conflicts malariagen_data"
   ]
  },
  {
   "cell_type": "markdown",
   "id": "02f3051c-816a-407a-8bd0-5aa82be498bb",
   "metadata": {},
   "source": [
    "Now we've installed `malariagen_data`, we can import it into our environment and set it up to access data in the cloud."
   ]
  },
  {
   "cell_type": "markdown",
   "id": "0be0ed0a-e198-4753-b5d8-5ba4d8ef88cb",
   "metadata": {},
   "source": [
    "Note that authentication is required to access data through the package, please follow the instructions [here](https://malariagen.github.io/vector-data/vobs/vobs-data-access.html)."
   ]
  },
  {
   "cell_type": "code",
   "execution_count": null,
   "id": "bb3053e8-66fe-41e5-a615-3aa64826f76b",
   "metadata": {
    "tags": []
   },
   "outputs": [],
   "source": [
    "import malariagen_data\n",
    "import numpy as np\n",
    "import plotly.io as pio\n",
    "pio.renderers.default = \"notebook+colab\""
   ]
  },
  {
   "cell_type": "code",
   "execution_count": null,
   "id": "4b5d1411-2d7f-4a10-9a68-8a91fbc986b2",
   "metadata": {
    "tags": []
   },
   "outputs": [],
   "source": [
    "af1 = malariagen_data.Af1()\n",
    "af1"
   ]
  },
  {
   "cell_type": "markdown",
   "id": "0fdf6178-c25f-45a1-870f-fb5b156358b9",
   "metadata": {},
   "source": [
    "## Voltage-gated sodium channel"
   ]
  },
  {
   "cell_type": "markdown",
   "id": "298336ed-a027-48a2-bd72-5b01405afb34",
   "metadata": {},
   "source": [
    "We know that pyrethroids, the class of insecticides used as the main active ingredient in all long-lasting bednets, target the voltage-gated sodium channel (VGSC). The mutations of the VGSC gene have been well-document in _An. gambiae s.l._ [1]. We looked at them in _An. gambiae_ in [Workshop 1](https://anopheles-genomic-surveillance.github.io/workshop-1/about.html). Recent studies have shown high levels of pyrethroid resistance in _An. funestus_ from Tanzania [2] and Ghana [3]. It seems thus sensible to start by looking at SNPs of the VGSC gene in _An. funestus_."
   ]
  },
  {
   "cell_type": "markdown",
   "id": "97f855b2-deb9-4bd8-b750-13f6e2c721ef",
   "metadata": {},
   "source": [
    "We looked for this gene during our exploration of the _An. funestus_ genome [Advanced Funestus - Exploration](https://anopheles-genomic-surveillance.github.io/advanced-training-materials/funestus_exploration.html). When looking at SNPS, we need to provide a transcript and not a gene. In the genome annotations, transcripts are obtained by appending `_t?` where `?` is a number. We will thus use 'LOC125769886_t1'."
   ]
  },
  {
   "cell_type": "code",
   "execution_count": null,
   "id": "ed22c942-7bcf-47ed-bf58-d2491898f4e0",
   "metadata": {
    "tags": []
   },
   "outputs": [],
   "source": [
    "transcript_vgsc = 'LOC125769886_t1' #VGSC"
   ]
  },
  {
   "cell_type": "code",
   "execution_count": null,
   "id": "5b7b8421-6573-4313-a33d-be9012ac9200",
   "metadata": {
    "tags": []
   },
   "outputs": [],
   "source": [
    "vgsc_snp_freq_df = af1.snp_allele_frequencies(\n",
    "      transcript=transcript_vgsc,\n",
    "      sample_sets=\"1.0\",\n",
    "      cohorts=\"admin1_year\",\n",
    "      drop_invariant=False,\n",
    "      min_cohort_size=20,\n",
    "      )"
   ]
  },
  {
   "cell_type": "code",
   "execution_count": null,
   "id": "1b4a6a9a-69d9-479d-9d30-8d480935c872",
   "metadata": {
    "tags": []
   },
   "outputs": [],
   "source": [
    "af1.plot_frequencies_heatmap(vgsc_snp_freq_df.query(\"max_af > 0.05 and effect == 'NON_SYNONYMOUS_CODING'\"))"
   ]
  },
  {
   "cell_type": "markdown",
   "id": "dde3263f-2ea9-4b8b-94a1-8d27f978b031",
   "metadata": {},
   "source": [
    "None of the mutations that we observe is kdr-east or west (**Do we need to say what it would be?**) and no mutation is frequent enough to be a plausible cause of insecticide resistance. Indeed, if we look more closely at [2] and [3], no mutation of VGSC was connected to pyrethroid resistance. We are thus going to ignore what we know about insecticide resistance in _An. gambiae_ (while still remembering the methods that we applied to it) and investigate _An. funestus_ with a fresh mind."
   ]
  },
  {
   "cell_type": "markdown",
   "id": "6cfd2251-533d-4373-8f61-7a36c90ed93d",
   "metadata": {},
   "source": [
    "## Selection scans"
   ]
  },
  {
   "cell_type": "markdown",
   "id": "7ecf635a-4fff-495d-9bc3-13c46ceb5471",
   "metadata": {},
   "source": [
    "To detect signals of selection, we will compute H12 (see [Workshop 6 - Module 3](https://anopheles-genomic-surveillance.github.io/workshop-6/module-3-gwss.html) for a refresher)."
   ]
  },
  {
   "cell_type": "markdown",
   "id": "eb964e4d-b159-4598-aa6b-919301aaf8e6",
   "metadata": {},
   "source": [
    "We are not going to look at all available cohorts in this analysis as it would be too much work. Instead we are going to focus on three countries: Mozambique, the Democratic Republic of the Congo and Nigeria. Let's start by looking at the metadata for these three countries. More specifically, we are going to look at the first administrative level of origin of the samples."
   ]
  },
  {
   "cell_type": "code",
   "execution_count": null,
   "id": "2e0e4648-7c0e-471e-8fc0-0b27983018fe",
   "metadata": {
    "tags": []
   },
   "outputs": [],
   "source": [
    "af1.sample_metadata(sample_query=\"country in ['Mozambique', 'Democratic Republic of the Congo', 'Nigeria']\").groupby(['country', 'admin1_name']).size()"
   ]
  },
  {
   "cell_type": "markdown",
   "id": "380fa09c-18df-4de0-8dd5-cc136e6c50dc",
   "metadata": {},
   "source": [
    "For the Democratic Republic of the Congo, we will look at the samples coming from the Kinshasa and Upper Uele regions. For Mozambique, we will use the samples from the Cabo Delgado and Maputo regions. Finally, we will use the samples from the Ogun region for Nigeria."
   ]
  },
  {
   "cell_type": "markdown",
   "id": "d1478eff-e5a7-4005-bce9-d45bd15708b0",
   "metadata": {},
   "source": [
    "Let's start by calibrating the size of our windows. We will use the samples from Cabo Delgado and chromosome 2 for this calibration. In a real analysis, we would check that the chosen window size is correct for every chromosome and every sample set but we will assume that it is the case for this example."
   ]
  },
  {
   "cell_type": "code",
   "execution_count": null,
   "id": "5a2d4101-3802-47a6-bdf1-47c7e6a51ac6",
   "metadata": {
    "tags": []
   },
   "outputs": [],
   "source": [
    "af1.plot_h12_calibration(\n",
    "    contig=\"2RL\",\n",
    "    analysis=\"funestus\",\n",
    "    sample_sets=\"1.0\",\n",
    "    sample_query=\"admin1_name == 'Cabo Delgado'\",\n",
    ")"
   ]
  },
  {
   "cell_type": "markdown",
   "id": "8435c79d-9b4d-451f-bf95-7f95ba68613e",
   "metadata": {},
   "source": [
    "It looks like 2000 base pairs is an good size for our windows."
   ]
  },
  {
   "cell_type": "code",
   "execution_count": null,
   "id": "29944fbe-fcd2-4ab2-8a87-f2e88867b9ca",
   "metadata": {},
   "outputs": [],
   "source": [
    "for contig in af1.contigs:\n",
    "    af1.plot_h12_gwss(\n",
    "        contig=contig,\n",
    "        analysis=\"funestus\",\n",
    "        sample_sets=\"1.0\",\n",
    "        sample_query=\"admin1_name == 'Cabo Delgado'\",\n",
    "        window_size=2000\n",
    "    )"
   ]
  },
  {
   "cell_type": "markdown",
   "id": "10150aa0-bf08-459c-aa47-a1a40d797da4",
   "metadata": {},
   "source": [
    "The only obvious signal is around 8.7 Mbp on 2RL. If we look at the genes in the region, it includes the Cyp6aa/p cluster. We will mark this region for further CNV analysis."
   ]
  },
  {
   "cell_type": "code",
   "execution_count": null,
   "id": "fd074b7e-f5a4-40b6-872c-520aa6493c22",
   "metadata": {},
   "outputs": [],
   "source": [
    "for contig in af1.contigs:\n",
    "    af1.plot_h12_gwss(\n",
    "        contig=contig,\n",
    "        analysis=\"funestus\",\n",
    "        sample_sets=\"1.0\",\n",
    "        sample_query=\"admin1_name == 'Maputo'\",\n",
    "        window_size=2000\n",
    "    )"
   ]
  },
  {
   "cell_type": "markdown",
   "id": "095a8ec7-7e2f-49b5-91fb-9cfa8d9ba926",
   "metadata": {},
   "source": [
    "The situation is very similar in Maputo."
   ]
  },
  {
   "cell_type": "code",
   "execution_count": null,
   "id": "d52a1978-de07-422b-bc3b-c98834427ea9",
   "metadata": {},
   "outputs": [],
   "source": [
    "for contig in af1.contigs:\n",
    "    af1.plot_h12_gwss(\n",
    "        contig=contig,\n",
    "        analysis=\"funestus\",\n",
    "        sample_sets=\"1.0\",\n",
    "        sample_query=\"admin1_name == 'Upper Uele'\",\n",
    "        window_size=2000\n",
    "    )"
   ]
  },
  {
   "cell_type": "markdown",
   "id": "12fd61de-0920-43f3-a7fa-2cd7b311a0f4",
   "metadata": {},
   "source": [
    "We observe two new signals on X, as well as the one around the Cyp6aa/p cluster. The first one, around 8.5 Mbp corresponds to Cyp9k1, another gene that we will remember for our CNV analyses. The second one, around 13.6 Mbp, is around the gene diacylglycerol kinase (dgk). We will mark this gene for further SNP analysis."
   ]
  },
  {
   "cell_type": "code",
   "execution_count": null,
   "id": "9945f776-c6f8-49b8-8e9b-96cf3dcf5570",
   "metadata": {},
   "outputs": [],
   "source": [
    "for contig in af1.contigs:\n",
    "    af1.plot_h12_gwss(\n",
    "        contig=contig,\n",
    "        analysis=\"funestus\",\n",
    "        sample_sets=\"1.0\",\n",
    "        sample_query=\"admin1_name == 'Kinshasa'\",\n",
    "        window_size=2000\n",
    "    )"
   ]
  },
  {
   "cell_type": "markdown",
   "id": "ba2b9fb8-c161-480e-8be5-28ae967d6a66",
   "metadata": {},
   "source": [
    "The clearest signals in Kinshasa are the signal around the Cyp6aa/p cluster and a signal on 2RL around 76.5 Mbp. This signal is connected to Gste2."
   ]
  },
  {
   "cell_type": "code",
   "execution_count": null,
   "id": "dc1a04ef-2a4f-4225-9fb9-bf990849e95a",
   "metadata": {
    "tags": []
   },
   "outputs": [],
   "source": [
    "for contig in af1.contigs:\n",
    "    af1.plot_h12_gwss(\n",
    "        contig=contig,\n",
    "        analysis=\"funestus\",\n",
    "        sample_sets=\"1.0\",\n",
    "        sample_query=\"admin1_name == 'Ogun'\",\n",
    "        window_size=2000\n",
    "    )"
   ]
  },
  {
   "cell_type": "markdown",
   "id": "d468dd3c-c22b-4d44-915c-94adf1699dcc",
   "metadata": {},
   "source": [
    "We see a new signal on 3RL around 13.5Mbp. This is the region of Rdl. The signals for Gste2, cyp6aa/p and Cyp9k1 are also present."
   ]
  },
  {
   "cell_type": "markdown",
   "id": "dcc41607-a6fe-48e6-b6a6-a260ca82b87d",
   "metadata": {},
   "source": [
    "## SNPs"
   ]
  },
  {
   "cell_type": "markdown",
   "id": "4f5518ce-9fd1-49ec-b4e9-209efd1f9395",
   "metadata": {},
   "source": [
    "We are now going to study the SNPs for a few of the genes where signals were detected in at least one population. We will look at every available cohort composed of more than 20 samples. Let's start with Rdl."
   ]
  },
  {
   "cell_type": "code",
   "execution_count": null,
   "id": "341caec1-28a5-46ac-b469-712311a593ba",
   "metadata": {
    "tags": []
   },
   "outputs": [],
   "source": [
    "transcript_rdl = 'LOC125769835_t1' #Rdl\n",
    "rdl_snp_freq_df = af1.snp_allele_frequencies(\n",
    "      transcript=transcript_rdl,\n",
    "      sample_sets=\"1.0\",\n",
    "      cohorts=\"admin1_year\",\n",
    "      drop_invariant=False,\n",
    "      min_cohort_size=20,\n",
    "      )\n",
    "af1.plot_frequencies_heatmap(rdl_snp_freq_df.query(\"max_af > 0.05 and effect == 'NON_SYNONYMOUS_CODING'\"))"
   ]
  },
  {
   "cell_type": "markdown",
   "id": "9c901805-3349-430f-8324-c9f9d308e2ed",
   "metadata": {},
   "source": [
    "The mutation A296S is the one associated with insecticide resistance. It is present at very high frequencies in a few populations (\"GH-AH\" is Ghana - Ashanti and \"NG-OG\" is Nigeria - Ogun, the cohort we used during the selection scans). It is also present at lower frequencies elsewhere in Central Africa. We can also see that every cohort has the mutation V493A as fixed or almost fixed, this is a strong indication that the reference allele at that site is not representative of the wild population."
   ]
  },
  {
   "cell_type": "markdown",
   "id": "4452d44a-3595-4810-8cfc-ab518d55052a",
   "metadata": {},
   "source": [
    "We will now look at Gste2."
   ]
  },
  {
   "cell_type": "code",
   "execution_count": null,
   "id": "fcedb90c-4126-4d09-9e32-e7ed7b0e61c3",
   "metadata": {
    "tags": []
   },
   "outputs": [],
   "source": [
    "transcript_gste = 'LOC125763977_t1'\n",
    "gste_snp_freq_df = af1.snp_allele_frequencies(\n",
    "      transcript=transcript_gste,\n",
    "      sample_sets=\"1.0\",\n",
    "      cohorts=\"admin1_year\",\n",
    "      drop_invariant=False,\n",
    "      min_cohort_size=20,\n",
    "      )\n",
    "af1.plot_frequencies_heatmap(gste_snp_freq_df.query(\"max_af > 0.05 and effect == 'NON_SYNONYMOUS_CODING'\"))"
   ]
  },
  {
   "cell_type": "markdown",
   "id": "dbd6c84a-091f-4229-b9a1-2f3ff9599904",
   "metadata": {},
   "source": [
    "The SNP of interest this time is L143F (**I think**) which is fixed in Benin and at high frequency in Kinshasa (DRC), Ashanti (Ghana) and Ogun (Nigeria) and present at lower frequencies in many other places."
   ]
  },
  {
   "cell_type": "markdown",
   "id": "a344398d-eb3e-49a4-9e07-9121c197e957",
   "metadata": {},
   "source": [
    "Finally, let's look at dgk."
   ]
  },
  {
   "cell_type": "code",
   "execution_count": null,
   "id": "aaea02ef-909c-41ed-bdc1-3135f41195ed",
   "metadata": {
    "tags": []
   },
   "outputs": [],
   "source": [
    "transcript_dgk ='LOC125760558_t1'\n",
    "dgk_snp_freq_df = af1.snp_allele_frequencies(\n",
    "      transcript=transcript_dgk,\n",
    "      sample_sets=\"1.0\",\n",
    "      cohorts=\"admin1_year\",\n",
    "      drop_invariant=False,\n",
    "      min_cohort_size=20,\n",
    "      )\n",
    "af1.plot_frequencies_heatmap(dgk_snp_freq_df.query(\"max_af > 0.05 and effect == 'NON_SYNONYMOUS_CODING'\"))"
   ]
  },
  {
   "cell_type": "markdown",
   "id": "dad88cc3-78b0-4c74-986b-e5c14ef22088",
   "metadata": {},
   "source": [
    "The situation is not as clear this time and dgk has not been studied as much as other genes so no particular SNP has been closely connected to insecticide resistance. There are several possible candidates but the data is not sufficient to come to any conclusion. "
   ]
  },
  {
   "cell_type": "markdown",
   "id": "299f0376-b188-4caa-b2c6-9d922369b7db",
   "metadata": {},
   "source": [
    "## CNVs"
   ]
  },
  {
   "cell_type": "markdown",
   "id": "9b1f84b4-6ac4-4584-a7ee-d5242f8ec6a3",
   "metadata": {},
   "source": [
    "We are now going to study the CNVs for a few of the regions where signals were detected in at least one population. We will, again, look at every available cohort composed of more than 20 samples. Let's start with Cyp6aa/p. We will look at the annotations to confirm that these are cytochrome P450 genes."
   ]
  },
  {
   "cell_type": "code",
   "execution_count": null,
   "id": "1dc2f3db-e608-45b2-bf9b-c5c1e66760aa",
   "metadata": {
    "tags": []
   },
   "outputs": [],
   "source": [
    "af1.genome_features(region=\"2RL:8600000-8700000\").query(\"type == 'protein_coding_gene'\")"
   ]
  },
  {
   "cell_type": "markdown",
   "id": "0ce48deb-e39f-49a1-a5e2-c211a3006e8f",
   "metadata": {},
   "source": [
    "This confirms what we expected."
   ]
  },
  {
   "cell_type": "code",
   "execution_count": null,
   "id": "a5e90fd0-51b4-45b1-b42d-bffed186eb8f",
   "metadata": {
    "tags": []
   },
   "outputs": [],
   "source": [
    "cyp6aap_cnv_freq_df = af1.gene_cnv_frequencies(\n",
    "      region=\"2RL:8600000-8700000\",\n",
    "      sample_sets=\"1.0\",\n",
    "      cohorts=\"admin1_year\",\n",
    "      drop_invariant=False,\n",
    "      min_cohort_size=20,\n",
    "      )\n",
    "af1.plot_frequencies_heatmap(cyp6aap_cnv_freq_df)"
   ]
  },
  {
   "cell_type": "markdown",
   "id": "49d1826d-61b1-4e87-8399-e2df6b3d1841",
   "metadata": {},
   "source": [
    "Many genes seem to be amplified at very high frequencies accross the continent which is a strong indication that metabolic resistance to pyrethroids is wide-spread."
   ]
  },
  {
   "cell_type": "markdown",
   "id": "1739b1bd-2a0b-47d5-9469-adb4ff28601e",
   "metadata": {},
   "source": [
    "Let's now look at Cyp9k1. Again, we will check that it is indeed in the region where we observed the signal of selection."
   ]
  },
  {
   "cell_type": "code",
   "execution_count": null,
   "id": "b5a6e1b5-d429-40c4-8b63-1d7383ab55f7",
   "metadata": {
    "tags": []
   },
   "outputs": [],
   "source": [
    "af1.genome_features(region=\"X:8448000-8451000\").query(\"type == 'protein_coding_gene'\")"
   ]
  },
  {
   "cell_type": "code",
   "execution_count": null,
   "id": "4777bdb0-1598-4d7f-b82d-1a0957540836",
   "metadata": {
    "tags": []
   },
   "outputs": [],
   "source": [
    "cyp9k1_cnv_freq_df = af1.gene_cnv_frequencies(\n",
    "      region=\"X:8448000-8451000\",\n",
    "      sample_sets=\"1.0\",\n",
    "      cohorts=\"admin1_year\",\n",
    "      drop_invariant=False,\n",
    "      min_cohort_size=20,\n",
    "      )\n",
    "af1.plot_frequencies_heatmap(cyp9k1_cnv_freq_df)"
   ]
  },
  {
   "cell_type": "markdown",
   "id": "da4b144f-28a5-4245-91d4-f25034664e2f",
   "metadata": {},
   "source": [
    "Once more, this gene seems to be amplified at very high frequencies in several different countries, though mostly in Central and North-East Africa."
   ]
  },
  {
   "cell_type": "markdown",
   "id": "f0cf98bb-b8d6-49c9-9e8f-20553fe02870",
   "metadata": {},
   "source": [
    "We will look next at Gste2. We already known that it is 'LOC125763977'."
   ]
  },
  {
   "cell_type": "code",
   "execution_count": null,
   "id": "8606aa7f-f834-4c26-a782-69b9bf655f5c",
   "metadata": {
    "tags": []
   },
   "outputs": [],
   "source": [
    "gste_cnv_freq_df = af1.gene_cnv_frequencies(\n",
    "      region=\"2RL:76405000-76408000\",\n",
    "      sample_sets=\"1.0\",\n",
    "      cohorts=\"admin1_year\",\n",
    "      drop_invariant=False,\n",
    "      min_cohort_size=20,\n",
    "      )\n",
    "af1.plot_frequencies_heatmap(gste_cnv_freq_df)"
   ]
  },
  {
   "cell_type": "markdown",
   "id": "0afaefd7-3301-429f-aff3-405603ca86e7",
   "metadata": {},
   "source": [
    "Gste2 is amplified in a few populations in Benin and the DRC but at fairly low frequencies. "
   ]
  },
  {
   "cell_type": "markdown",
   "id": "5d5625d2-21b8-4ecf-bb2f-2a7e710e3e8c",
   "metadata": {},
   "source": [
    "Finally, let's look at dgk. We know it is 'LOC125760558'."
   ]
  },
  {
   "cell_type": "code",
   "execution_count": null,
   "id": "7c340ea5-1297-42c0-af2c-fc8e0e3845fd",
   "metadata": {
    "tags": []
   },
   "outputs": [],
   "source": [
    "gste_cnv_freq_df = af1.gene_cnv_frequencies(\n",
    "      region=\"X:13598000-13676000\",\n",
    "      sample_sets=\"1.0\",\n",
    "      cohorts=\"admin1_year\",\n",
    "      drop_invariant=False,\n",
    "      min_cohort_size=20,\n",
    "      )\n",
    "af1.plot_frequencies_heatmap(gste_cnv_freq_df)"
   ]
  },
  {
   "cell_type": "markdown",
   "id": "21998113-3e3e-46d8-ad11-686b4b129d7f",
   "metadata": {},
   "source": [
    "It is not amplified at all in any population. "
   ]
  },
  {
   "cell_type": "markdown",
   "id": "02ae2cfd-f384-4cec-a051-0f82fceedc6e",
   "metadata": {},
   "source": [
    "We will look at the CNV HMM for Cyp9k1 in Kinshasa to see what the amplification looks like. We extend the window a little bit to see the actual read calls a little better."
   ]
  },
  {
   "cell_type": "code",
   "execution_count": null,
   "id": "c21f3f1b-f770-420e-8589-49df6ec991c9",
   "metadata": {
    "tags": []
   },
   "outputs": [],
   "source": [
    "af1.plot_cnv_hmm_heatmap(\n",
    "    region=\"X:8445000-8457000\",\n",
    "    sample_sets=\"1.0\",\n",
    "    sample_query=\"admin1_name == 'Kinshasa'\",\n",
    "    row_height=5\n",
    ");"
   ]
  },
  {
   "cell_type": "markdown",
   "id": "bb48f3cb-070c-4ecb-a9c7-2cdd42f83258",
   "metadata": {},
   "source": [
    "We see several samples with an additional copy as well as multiple ones with more than 1 extra copy of the gene. Let's look at the HMM coverage for a few samples."
   ]
  },
  {
   "cell_type": "code",
   "execution_count": null,
   "id": "e21c591c-ceea-4982-be59-7e604c20d4fb",
   "metadata": {
    "tags": []
   },
   "outputs": [],
   "source": [
    "samples = [\"VBS17491\", \"VBS17512\", \"VBS17502\", \"VBS17522\"]\n",
    "for s in samples:\n",
    "    af1.plot_cnv_hmm_coverage(s, sample_set=\"1.0\", region=\"X:8445000-8457000\")"
   ]
  },
  {
   "cell_type": "markdown",
   "id": "dc110a0b-b4b6-468a-8ee1-13b7c9946323",
   "metadata": {},
   "source": [
    "The first sample shows an amplification that starts well before Cyp9k1 and ends after the end of the window. The second has a different discordant read that ends much sooner. The third one has the same discordant read as the second one but an extra copy. Finally, the last one doesn't have any amplification: the only one that is found is in a single window and is probably wrong. In general, we do not have as many windows as in [Workshop 2](https://anopheles-genomic-surveillance.github.io/workshop-2/about.html) so we need to be more careful with our conclusions."
   ]
  },
  {
   "cell_type": "markdown",
   "id": "b0a89077-6229-48e6-9886-e4bfa10560e3",
   "metadata": {},
   "source": [
    "## Gene flow"
   ]
  },
  {
   "cell_type": "markdown",
   "id": "0f770f6c-01f4-4a7e-ad58-41b3e83dcd15",
   "metadata": {},
   "source": [
    "Let us now look at potential gene flow between populations in Mozambique and the Democratic Republic of the Congo. For that, we are going to use the methods described in [Workshop 7](https://anopheles-genomic-surveillance.github.io/workshop-7/about.html), starting with H1X."
   ]
  },
  {
   "cell_type": "code",
   "execution_count": null,
   "id": "e76712aa-3878-4441-8f9a-6a91165193a1",
   "metadata": {
    "tags": []
   },
   "outputs": [],
   "source": [
    "for contig in af1.contigs:\n",
    "    af1.plot_h1x_gwss(\n",
    "        contig=contig,\n",
    "        analysis=\"funestus\",\n",
    "        sample_sets=\"1.0\",\n",
    "        cohort1_query=\"admin1_name == 'Cabo Delgado'\",\n",
    "        cohort2_query=\"admin1_name == 'Maputo'\",\n",
    "        window_size=2000\n",
    "    )"
   ]
  },
  {
   "cell_type": "markdown",
   "id": "ddc20ed9-b2c7-4a55-981c-8cdc29e22ee2",
   "metadata": {},
   "source": [
    "It is, indeed, the only clear signal of a shared haplotype. Let's repeat the experiment with the data from the DRC."
   ]
  },
  {
   "cell_type": "code",
   "execution_count": null,
   "id": "aca3e238-5d4e-4e9b-8ac2-5865b31bfc67",
   "metadata": {
    "tags": []
   },
   "outputs": [],
   "source": [
    "for contig in af1.contigs:\n",
    "    af1.plot_h1x_gwss(\n",
    "        contig=contig,\n",
    "        analysis=\"funestus\",\n",
    "        sample_sets=\"1.0\",\n",
    "        cohort1_query=\"admin1_name == 'Upper Uele'\",\n",
    "        cohort2_query=\"admin1_name == 'Kinshasa'\",\n",
    "        window_size=2000\n",
    "    )"
   ]
  },
  {
   "cell_type": "markdown",
   "id": "8b791e2c-0467-4f15-a37b-b5c7c690056e",
   "metadata": {},
   "source": [
    "This time, and despite the clear signals for both populations around the Cyp6aa/p cluster, there is no signal of a shared haplotype. Let's use haplotype clusterings to check this conclusion."
   ]
  },
  {
   "cell_type": "code",
   "execution_count": null,
   "id": "ea08ac3b-79dd-46c0-9ae5-5fcebacf147c",
   "metadata": {
    "tags": []
   },
   "outputs": [],
   "source": [
    "af1.plot_haplotype_clustering(\n",
    "    region='2RL:8600000-8700000',\n",
    "    analysis='funestus',\n",
    "    sample_sets='1.0',\n",
    "    sample_query= 'country == \"Mozambique\"',\n",
    "    color='admin1_name')"
   ]
  },
  {
   "cell_type": "markdown",
   "id": "64f3f0ec-a064-4694-9eea-eafa6a9d3db3",
   "metadata": {},
   "source": [
    "Despite the very high number of SNPs, there are two clear shared haplotypes between Maputo and Cabo Delgado."
   ]
  },
  {
   "cell_type": "code",
   "execution_count": null,
   "id": "e451aa1f-a5ca-41cd-8f3c-1ad052099a89",
   "metadata": {
    "tags": []
   },
   "outputs": [],
   "source": [
    "af1.plot_haplotype_clustering(\n",
    "    region='2RL:8600000-8700000',\n",
    "    analysis='funestus',\n",
    "    sample_sets='1.0',\n",
    "    sample_query= 'country == \"Democratic Republic of the Congo\"',\n",
    "    color='admin1_name')"
   ]
  },
  {
   "cell_type": "markdown",
   "id": "b46950e3-4f75-4871-b65b-2994d10c455d",
   "metadata": {},
   "source": [
    "In the DRC, however, we observe that some haplotypes are widely shared within each region, which is consistent with it being under selection, but the haplotypes are not shared accross the country at all. \n",
    "Let's show the same results using haplotype networks. (**Except they don't show on bespin**)"
   ]
  },
  {
   "cell_type": "code",
   "execution_count": null,
   "id": "0a81af69-baf0-42c0-800d-c32507caed02",
   "metadata": {
    "tags": []
   },
   "outputs": [],
   "source": [
    "af1.plot_haplotype_network(\n",
    "    region='2RL:8600000-8700000',\n",
    "    analysis='funestus',\n",
    "    sample_sets='1.0',\n",
    "    sample_query= 'country in [\"Mozambique\", \"Democratic Republic of the Congo\"]',\n",
    "    color=\"admin1_name\",\n",
    "    max_dist=2,\n",
    ")"
   ]
  },
  {
   "cell_type": "markdown",
   "id": "284ae146-de4a-4936-b321-f0dab860479d",
   "metadata": {},
   "source": [
    "**Congratulations on reaching the end of this notebook. You should now be able to run your own insecticide resistance analyses of Anopheles funestus data using Af1.0.**"
   ]
  },
  {
   "cell_type": "markdown",
   "id": "372ee724-51a3-4d7c-9fe1-608f4b6efa5a",
   "metadata": {
    "tags": []
   },
   "source": [
    "1. Clarkson CS, Miles A, Harding NJ, O'Reilly AO, Weetman D, Kwiatkowski D, Donnelly MJ; Anopheles gambiae 1000 Genomes Consortium. The genetic architecture of target-site resistance to pyrethroid insecticides in the African malaria vectors Anopheles gambiae and Anopheles coluzzii. Mol Ecol. 2021 Nov;30(21):5303-5317. doi: 10.1111/mec.15845. Epub 2021 Mar 8. PMID: 33590926; PMCID: PMC9019111.\n",
    "2. Matowo, N.S., Martin, J., Kulkarni, M.A. et al. An increasing role of pyrethroid-resistant Anopheles funestus in malaria transmission in the Lake Zone, Tanzania. Sci Rep 11, 13457 (2021). https://doi.org/10.1038/s41598-021-92741-8\n",
    "3. Mugenzi LMJ, Akosah-Brempong G, Tchouakui M, Menze BD, Tekoh TA, Tchoupo M, Nkemngo FN, Wondji MJ, Nwaefuna EK, Osae M, Wondji CS. Escalating pyrethroid resistance in two major malaria vectors Anopheles funestus and Anopheles gambiae (s.l.) in Atatam, Southern Ghana. BMC Infect Dis. 2022 Oct 25;22(1):799. doi: 10.1186/s12879-022-07795-4. PMID: 36284278; PMCID: PMC9597992."
   ]
  },
  {
   "cell_type": "code",
   "execution_count": null,
   "id": "5e787ce7-6b37-464b-9c93-b59df303ca82",
   "metadata": {},
   "outputs": [],
   "source": []
  }
 ],
 "metadata": {
  "kernelspec": {
   "display_name": "developer-developer-training-nb-maintenance-mgen-15.2.0",
   "language": "python",
   "name": "conda-env-developer-developer-training-nb-maintenance-mgen-15.2.0-py"
  },
  "language_info": {
   "codemirror_mode": {
    "name": "ipython",
    "version": 3
   },
   "file_extension": ".py",
   "mimetype": "text/x-python",
   "name": "python",
   "nbconvert_exporter": "python",
   "pygments_lexer": "ipython3",
   "version": "3.11.11"
  }
 },
 "nbformat": 4,
 "nbformat_minor": 5
}
