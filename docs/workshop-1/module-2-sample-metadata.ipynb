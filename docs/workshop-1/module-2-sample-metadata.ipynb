{
 "cells": [
  {
   "cell_type": "markdown",
   "id": "9e6c8415-115b-4325-a6a4-3154f6788898",
   "metadata": {
    "id": "9e6c8415-115b-4325-a6a4-3154f6788898"
   },
   "source": [
    "![banner](../banner.jpg)\n",
    "\n",
    "***[Workshop 1](about) - Training course in data analysis for genomic surveillance of African malaria vectors***\n",
    "\n",
    "---"
   ]
  },
  {
   "cell_type": "markdown",
   "id": "bbe51804-2221-4d3e-83bb-294fb524c744",
   "metadata": {
    "id": "bbe51804-2221-4d3e-83bb-294fb524c744"
   },
   "source": [
    "# Module 2 - Accessing and exploring *Anopheles* genomic data\n",
    "\n",
    "**Theme: Data**\n",
    "\n",
    "This module provides an introduction to accessing and exploring data about *Anopheles* mosquito specimens collected in the field and submitted for whole-genome sequencing by MalariaGEN."
   ]
  },
  {
   "cell_type": "markdown",
   "id": "7a311430-11ad-48a4-b48d-b06610370814",
   "metadata": {
    "id": "7a311430-11ad-48a4-b48d-b06610370814"
   },
   "source": [
    "## Learning objectives\n",
    "\n",
    "After completing this module, you will be able to:\n",
    "\n",
    "* Explain how *Anopheles* genomic data are generated.\n",
    "* Explain what types of data are available from MalariaGEN.\n",
    "* Explain where data from MalariaGEN are stored.\n",
    "* Use the `malariagen_data` Python package to access `Ag3.0` data in Google Cloud.\n",
    "* Explore the `Ag3.0` data release and summarise the mosquito samples for which genomic data are available using pivot tables and maps."
   ]
  },
  {
   "cell_type": "markdown",
   "id": "e76d99e3-84b5-4a4b-b291-5aaeb932ff6a",
   "metadata": {
    "id": "e76d99e3-84b5-4a4b-b291-5aaeb932ff6a"
   },
   "source": [
    "## Lecture"
   ]
  },
  {
   "cell_type": "markdown",
   "id": "0a49e19b-e359-41eb-9922-a509747bfe9f",
   "metadata": {
    "id": "0a49e19b-e359-41eb-9922-a509747bfe9f"
   },
   "source": [
    "### English"
   ]
  },
  {
   "cell_type": "code",
   "execution_count": 1,
   "id": "4383408e-6895-4d93-9e4e-8b87474f0c3f",
   "metadata": {
    "colab": {
     "base_uri": "https://localhost:8080/",
     "height": 336
    },
    "id": "4383408e-6895-4d93-9e4e-8b87474f0c3f",
    "outputId": "996a8e43-6af9-4905-b459-25f980720323",
    "tags": [
     "remove-input"
    ]
   },
   "outputs": [
    {
     "data": {
      "text/html": [
       "<iframe width=\"560\" height=\"315\" src=\"https://www.youtube.com/embed/c4vEBhZm3QI\" title=\"YouTube video player\" frameborder=\"0\" allow=\"accelerometer; autoplay; clipboard-write; encrypted-media; gyroscope; picture-in-picture\" allowfullscreen></iframe>\n"
      ],
      "text/plain": [
       "<IPython.core.display.HTML object>"
      ]
     },
     "metadata": {},
     "output_type": "display_data"
    }
   ],
   "source": [
    "%%html\n",
    "<iframe width=\"560\" height=\"315\" src=\"https://www.youtube.com/embed/c4vEBhZm3QI\" title=\"YouTube video player\" frameborder=\"0\" allow=\"accelerometer; autoplay; clipboard-write; encrypted-media; gyroscope; picture-in-picture\" allowfullscreen></iframe>"
   ]
  },
  {
   "cell_type": "markdown",
   "id": "13293c7d-5b55-448c-8b51-3f698509affb",
   "metadata": {
    "id": "13293c7d-5b55-448c-8b51-3f698509affb"
   },
   "source": [
    "### Français"
   ]
  },
  {
   "cell_type": "code",
   "execution_count": 2,
   "id": "e28379f1-c95c-4ae3-89b6-c0fc0de2296f",
   "metadata": {
    "colab": {
     "base_uri": "https://localhost:8080/",
     "height": 336
    },
    "id": "e28379f1-c95c-4ae3-89b6-c0fc0de2296f",
    "outputId": "3400bbc8-47e4-4696-9144-0224ade6c6a4",
    "tags": [
     "remove-input"
    ]
   },
   "outputs": [
    {
     "data": {
      "text/html": [
       "<iframe width=\"560\" height=\"315\" src=\"https://www.youtube.com/embed/TocNfwILAr8\" title=\"YouTube video player\" frameborder=\"0\" allow=\"accelerometer; autoplay; clipboard-write; encrypted-media; gyroscope; picture-in-picture\" allowfullscreen></iframe>\n"
      ],
      "text/plain": [
       "<IPython.core.display.HTML object>"
      ]
     },
     "metadata": {},
     "output_type": "display_data"
    }
   ],
   "source": [
    "%%html\n",
    "<iframe width=\"560\" height=\"315\" src=\"https://www.youtube.com/embed/TocNfwILAr8\" title=\"YouTube video player\" frameborder=\"0\" allow=\"accelerometer; autoplay; clipboard-write; encrypted-media; gyroscope; picture-in-picture\" allowfullscreen></iframe>"
   ]
  },
  {
   "cell_type": "markdown",
   "id": "b66dac4c",
   "metadata": {},
   "source": [
    "Please note that the code in the cells below might differ from that shown in the video. This can happen because Python packages and their dependencies change due to updates, necessitating tweaks to the code."
   ]
  },
  {
   "cell_type": "markdown",
   "id": "d31f305d-db92-42ed-8195-bd5a68048463",
   "metadata": {
    "id": "d31f305d-db92-42ed-8195-bd5a68048463"
   },
   "source": [
    "## Where do the data come from?\n",
    "\n",
    "* The data we'll be analysing in this training course where generated by multiple research groups collaborating as part of the Malaria Genomic Epidemiology Network ([MalariaGEN](https://www.malariagen.net)).\n",
    "\n",
    "* MalariaGEN is a collaborative programme providing access to genome sequencing and data processing services to support surveillance of malaria parasites and vectors. \n",
    "\n",
    "* Through this programme, members of research groups and disease control programmes in malaria-endemic countries work in partnership with the Wellcome Sanger Institute.\n",
    "\n",
    "* The basic workflow involves collecting mosquitoes, shipping them to sequencing facilities, preparing DNA samples and performing Illumina whole-genome sequencing, then processing the resulting data so they are ready for analysis, as shown below. "
   ]
  },
  {
   "cell_type": "code",
   "execution_count": 3,
   "id": "5b14d7e6-10b8-4a8d-ab19-650791959eaa",
   "metadata": {
    "tags": []
   },
   "outputs": [
    {
     "data": {
      "text/html": [
       "<img width=\"50%\" height=\"50%\" src=\"https://storage.googleapis.com/vo_agam_release/reference/training-images/workshop-1/W1M2-1.png\"/>\n"
      ],
      "text/plain": [
       "<IPython.core.display.HTML object>"
      ]
     },
     "metadata": {},
     "output_type": "display_data"
    }
   ],
   "source": [
    "%%html\n",
    "<img width=\"50%\" height=\"50%\" src=\"https://storage.googleapis.com/vo_agam_release/reference/training-images/workshop-1/W1M2-1.png\"/>"
   ]
  },
  {
   "cell_type": "markdown",
   "id": "nVcYbZST4LtN",
   "metadata": {
    "id": "nVcYbZST4LtN"
   },
   "source": [
    "* Note that raw genome sequence data is not particularly useful by itself, and so the sequence reads are processed through **variant-calling pipelines** which identify different types of genetic variation between individual mosquitoes.\n",
    "\n",
    "* The results of variant-calling pipelines are then passed through a number of quality control, filtering and annotation steps to ensure data quality. We call this process **data curation**.\n",
    "\n",
    "* The **analysis-ready genome variation data** is then made available to all partners in the collaboration. This data can then be analysed to answer questions about the surveillance of mosquito populations, such as whether new forms of insecticide resistance are emerging and spreading.\n"
   ]
  },
  {
   "cell_type": "markdown",
   "id": "4e7c9894-3726-4733-9f2d-14000ae2363e",
   "metadata": {
    "id": "4e7c9894-3726-4733-9f2d-14000ae2363e"
   },
   "source": [
    "## What types of analysis-ready genomic data are available?\n",
    "\n",
    "* When DNA is passed from one generation of mosquitoes to the next, it undergoes **mutations**, which are errors in the DNA copying process. There are different types of mutations that can occur. These include:\n",
    "\n",
    "  * **Single Nucleotide Polymorphisms (SNPs)** - substitutions of a single letter in the DNA sequence\n",
    "\n",
    "  * **Copy Number Variants (CNVs)** - duplications or deletions of sections of a DNA sequence\n",
    "\n",
    "* Different variant calling pipelines are used to identify these different types of mutations.\n",
    "\n",
    "* It is also very useful to know whether combinations of mutations occur together in the same DNA sequence. In order to reconstruct this information, another pipeline is used to produce **phased haplotypes**.\n",
    "\n",
    "* To help make sense of the genomic data, we also need some data about the mosquitoes which were sequenced, such as the time and place of collection. This data is known as **sample metadata**.\n",
    "\n",
    "We will revisit CNVs and haplotypes in future workshops. For this workshop, we are only interested in SNPs and sample metadata.\n",
    "\n"
   ]
  },
  {
   "cell_type": "code",
   "execution_count": 4,
   "id": "9cc90247-d693-4b09-aaa8-49dab7bc76c1",
   "metadata": {
    "colab": {
     "base_uri": "https://localhost:8080/",
     "height": 371
    },
    "id": "9cc90247-d693-4b09-aaa8-49dab7bc76c1",
    "outputId": "2c7840ff-1d42-4e65-8ff0-569498072da9",
    "tags": [
     "remove-input"
    ]
   },
   "outputs": [
    {
     "data": {
      "text/html": [
       "<img width=\"80%\" height=\"80%\" src=\"https://storage.googleapis.com/vo_agam_release/reference/training-images/workshop-1/W1M2-2.png\"/>\n"
      ],
      "text/plain": [
       "<IPython.core.display.HTML object>"
      ]
     },
     "metadata": {},
     "output_type": "display_data"
    }
   ],
   "source": [
    "%%html\n",
    "<img width=\"80%\" height=\"80%\" src=\"https://storage.googleapis.com/vo_agam_release/reference/training-images/workshop-1/W1M2-2.png\"/>"
   ]
  },
  {
   "cell_type": "markdown",
   "id": "5290b00f-acba-4692-90e9-42f16f1da60a",
   "metadata": {
    "id": "5290b00f-acba-4692-90e9-42f16f1da60a"
   },
   "source": [
    "## Where are the data stored?\n",
    "\n",
    "* To make accessing these data as simple as possible, the resulting data are stored in Google Cloud using a service called Google Cloud Storage (GCS). These data can then be downloaded to any computer, or can be analysed within the cloud using cloud computing services like colab.\n",
    "\n",
    "* If you are using colab to access and analyses these data, then you don't need to download any data to your own computer or install any special software. You access colab through a web browser, and the code you run is executed on a different computer (a \"virtual machine\") which sits alongside the data in Google Cloud. \n",
    " "
   ]
  },
  {
   "cell_type": "code",
   "execution_count": 5,
   "id": "eb3a8334-5120-408c-a246-8d95f6229129",
   "metadata": {
    "colab": {
     "base_uri": "https://localhost:8080/",
     "height": 721
    },
    "id": "eb3a8334-5120-408c-a246-8d95f6229129",
    "outputId": "12dae422-3274-48f6-bde0-1c4458a1e275",
    "tags": [
     "remove-input"
    ]
   },
   "outputs": [
    {
     "data": {
      "text/html": [
       "<img width=\"60%\" height=\"60%\" src=\"https://storage.googleapis.com/vo_agam_release/reference/training-images/workshop-1/W1M2-3.png\"/>\n"
      ],
      "text/plain": [
       "<IPython.core.display.HTML object>"
      ]
     },
     "metadata": {},
     "output_type": "display_data"
    }
   ],
   "source": [
    "%%html\n",
    "<img width=\"60%\" height=\"60%\" src=\"https://storage.googleapis.com/vo_agam_release/reference/training-images/workshop-1/W1M2-3.png\"/>"
   ]
  },
  {
   "cell_type": "markdown",
   "id": "c7fb9596-7a23-438e-93ca-564f1a10e2e2",
   "metadata": {
    "id": "c7fb9596-7a23-438e-93ca-564f1a10e2e2"
   },
   "source": [
    "## Accessing the `Ag3.0` data resource\n",
    "\n",
    "In this workshop we'll be accessing and analysing data from the [*Anopheles gambiae* 1000 Genomes Project phase 3 data resource](https://malariagen.github.io/vector-data/ag3/ag3.0.html), also known as \"Ag3.0\" for short. This includes data from whole-genome sequencing of 3,081 mosquitoes from 19 African countries.\n",
    "\n",
    "To set up your notebook to access these data, first install the [malariagen_data](https://github.com/malariagen/malariagen-data-python) package."
   ]
  },
  {
   "cell_type": "code",
   "execution_count": 6,
   "id": "64918ba1-6d74-4230-a658-679b5b74bc3e",
   "metadata": {
    "id": "64918ba1-6d74-4230-a658-679b5b74bc3e",
    "tags": [
     "remove-output"
    ]
   },
   "outputs": [],
   "source": [
    "%pip install -q --no-warn-conflicts malariagen_data"
   ]
  },
  {
   "cell_type": "markdown",
   "id": "h8eXrvZS9ILD",
   "metadata": {
    "id": "h8eXrvZS9ILD"
   },
   "source": [
    "Then import packages and set up access to *Anopheles gambiae* genomic data."
   ]
  },
  {
   "cell_type": "code",
   "execution_count": 6,
   "id": "3c1788af-44f6-4faf-bb95-afc16dc39e60",
   "metadata": {
    "colab": {
     "base_uri": "https://localhost:8080/"
    },
    "id": "3c1788af-44f6-4faf-bb95-afc16dc39e60",
    "outputId": "ef788eae-69ef-4a67-e5f6-2f4dfad60849",
    "tags": []
   },
   "outputs": [],
   "source": [
    "import plotly.express as px\n",
    "import malariagen_data"
   ]
  },
  {
   "cell_type": "code",
   "execution_count": 7,
   "id": "3b34bc5f-bbee-4fc7-976f-2ddb29bba923",
   "metadata": {
    "colab": {
     "base_uri": "https://localhost:8080/",
     "height": 168
    },
    "id": "3b34bc5f-bbee-4fc7-976f-2ddb29bba923",
    "outputId": "770a4f6f-11e2-4cc5-b933-c800bfe5e74f",
    "tags": []
   },
   "outputs": [
    {
     "data": {
      "application/javascript": [
       "(function(root) {\n",
       "  function now() {\n",
       "    return new Date();\n",
       "  }\n",
       "\n",
       "  const force = true;\n",
       "\n",
       "  if (typeof root._bokeh_onload_callbacks === \"undefined\" || force === true) {\n",
       "    root._bokeh_onload_callbacks = [];\n",
       "    root._bokeh_is_loading = undefined;\n",
       "  }\n",
       "\n",
       "const JS_MIME_TYPE = 'application/javascript';\n",
       "  const HTML_MIME_TYPE = 'text/html';\n",
       "  const EXEC_MIME_TYPE = 'application/vnd.bokehjs_exec.v0+json';\n",
       "  const CLASS_NAME = 'output_bokeh rendered_html';\n",
       "\n",
       "  /**\n",
       "   * Render data to the DOM node\n",
       "   */\n",
       "  function render(props, node) {\n",
       "    const script = document.createElement(\"script\");\n",
       "    node.appendChild(script);\n",
       "  }\n",
       "\n",
       "  /**\n",
       "   * Handle when an output is cleared or removed\n",
       "   */\n",
       "  function handleClearOutput(event, handle) {\n",
       "    function drop(id) {\n",
       "      const view = Bokeh.index.get_by_id(id)\n",
       "      if (view != null) {\n",
       "        view.model.document.clear()\n",
       "        Bokeh.index.delete(view)\n",
       "      }\n",
       "    }\n",
       "\n",
       "    const cell = handle.cell;\n",
       "\n",
       "    const id = cell.output_area._bokeh_element_id;\n",
       "    const server_id = cell.output_area._bokeh_server_id;\n",
       "\n",
       "    // Clean up Bokeh references\n",
       "    if (id != null) {\n",
       "      drop(id)\n",
       "    }\n",
       "\n",
       "    if (server_id !== undefined) {\n",
       "      // Clean up Bokeh references\n",
       "      const cmd_clean = \"from bokeh.io.state import curstate; print(curstate().uuid_to_server['\" + server_id + \"'].get_sessions()[0].document.roots[0]._id)\";\n",
       "      cell.notebook.kernel.execute(cmd_clean, {\n",
       "        iopub: {\n",
       "          output: function(msg) {\n",
       "            const id = msg.content.text.trim()\n",
       "            drop(id)\n",
       "          }\n",
       "        }\n",
       "      });\n",
       "      // Destroy server and session\n",
       "      const cmd_destroy = \"import bokeh.io.notebook as ion; ion.destroy_server('\" + server_id + \"')\";\n",
       "      cell.notebook.kernel.execute(cmd_destroy);\n",
       "    }\n",
       "  }\n",
       "\n",
       "  /**\n",
       "   * Handle when a new output is added\n",
       "   */\n",
       "  function handleAddOutput(event, handle) {\n",
       "    const output_area = handle.output_area;\n",
       "    const output = handle.output;\n",
       "\n",
       "    // limit handleAddOutput to display_data with EXEC_MIME_TYPE content only\n",
       "    if ((output.output_type != \"display_data\") || (!Object.prototype.hasOwnProperty.call(output.data, EXEC_MIME_TYPE))) {\n",
       "      return\n",
       "    }\n",
       "\n",
       "    const toinsert = output_area.element.find(\".\" + CLASS_NAME.split(' ')[0]);\n",
       "\n",
       "    if (output.metadata[EXEC_MIME_TYPE][\"id\"] !== undefined) {\n",
       "      toinsert[toinsert.length - 1].firstChild.textContent = output.data[JS_MIME_TYPE];\n",
       "      // store reference to embed id on output_area\n",
       "      output_area._bokeh_element_id = output.metadata[EXEC_MIME_TYPE][\"id\"];\n",
       "    }\n",
       "    if (output.metadata[EXEC_MIME_TYPE][\"server_id\"] !== undefined) {\n",
       "      const bk_div = document.createElement(\"div\");\n",
       "      bk_div.innerHTML = output.data[HTML_MIME_TYPE];\n",
       "      const script_attrs = bk_div.children[0].attributes;\n",
       "      for (let i = 0; i < script_attrs.length; i++) {\n",
       "        toinsert[toinsert.length - 1].firstChild.setAttribute(script_attrs[i].name, script_attrs[i].value);\n",
       "        toinsert[toinsert.length - 1].firstChild.textContent = bk_div.children[0].textContent\n",
       "      }\n",
       "      // store reference to server id on output_area\n",
       "      output_area._bokeh_server_id = output.metadata[EXEC_MIME_TYPE][\"server_id\"];\n",
       "    }\n",
       "  }\n",
       "\n",
       "  function register_renderer(events, OutputArea) {\n",
       "\n",
       "    function append_mime(data, metadata, element) {\n",
       "      // create a DOM node to render to\n",
       "      const toinsert = this.create_output_subarea(\n",
       "        metadata,\n",
       "        CLASS_NAME,\n",
       "        EXEC_MIME_TYPE\n",
       "      );\n",
       "      this.keyboard_manager.register_events(toinsert);\n",
       "      // Render to node\n",
       "      const props = {data: data, metadata: metadata[EXEC_MIME_TYPE]};\n",
       "      render(props, toinsert[toinsert.length - 1]);\n",
       "      element.append(toinsert);\n",
       "      return toinsert\n",
       "    }\n",
       "\n",
       "    /* Handle when an output is cleared or removed */\n",
       "    events.on('clear_output.CodeCell', handleClearOutput);\n",
       "    events.on('delete.Cell', handleClearOutput);\n",
       "\n",
       "    /* Handle when a new output is added */\n",
       "    events.on('output_added.OutputArea', handleAddOutput);\n",
       "\n",
       "    /**\n",
       "     * Register the mime type and append_mime function with output_area\n",
       "     */\n",
       "    OutputArea.prototype.register_mime_type(EXEC_MIME_TYPE, append_mime, {\n",
       "      /* Is output safe? */\n",
       "      safe: true,\n",
       "      /* Index of renderer in `output_area.display_order` */\n",
       "      index: 0\n",
       "    });\n",
       "  }\n",
       "\n",
       "  // register the mime type if in Jupyter Notebook environment and previously unregistered\n",
       "  if (root.Jupyter !== undefined) {\n",
       "    const events = require('base/js/events');\n",
       "    const OutputArea = require('notebook/js/outputarea').OutputArea;\n",
       "\n",
       "    if (OutputArea.prototype.mime_types().indexOf(EXEC_MIME_TYPE) == -1) {\n",
       "      register_renderer(events, OutputArea);\n",
       "    }\n",
       "  }\n",
       "  if (typeof (root._bokeh_timeout) === \"undefined\" || force === true) {\n",
       "    root._bokeh_timeout = Date.now() + 5000;\n",
       "    root._bokeh_failed_load = false;\n",
       "  }\n",
       "\n",
       "  const NB_LOAD_WARNING = {'data': {'text/html':\n",
       "     \"<div style='background-color: #fdd'>\\n\"+\n",
       "     \"<p>\\n\"+\n",
       "     \"BokehJS does not appear to have successfully loaded. If loading BokehJS from CDN, this \\n\"+\n",
       "     \"may be due to a slow or bad network connection. Possible fixes:\\n\"+\n",
       "     \"</p>\\n\"+\n",
       "     \"<ul>\\n\"+\n",
       "     \"<li>re-rerun `output_notebook()` to attempt to load from CDN again, or</li>\\n\"+\n",
       "     \"<li>use INLINE resources instead, as so:</li>\\n\"+\n",
       "     \"</ul>\\n\"+\n",
       "     \"<code>\\n\"+\n",
       "     \"from bokeh.resources import INLINE\\n\"+\n",
       "     \"output_notebook(resources=INLINE)\\n\"+\n",
       "     \"</code>\\n\"+\n",
       "     \"</div>\"}};\n",
       "\n",
       "  function display_loaded() {\n",
       "    const el = document.getElementById(null);\n",
       "    if (el != null) {\n",
       "      el.textContent = \"BokehJS is loading...\";\n",
       "    }\n",
       "    if (root.Bokeh !== undefined) {\n",
       "      if (el != null) {\n",
       "        el.textContent = \"BokehJS \" + root.Bokeh.version + \" successfully loaded.\";\n",
       "      }\n",
       "    } else if (Date.now() < root._bokeh_timeout) {\n",
       "      setTimeout(display_loaded, 100)\n",
       "    }\n",
       "  }\n",
       "\n",
       "  function run_callbacks() {\n",
       "    try {\n",
       "      root._bokeh_onload_callbacks.forEach(function(callback) {\n",
       "        if (callback != null)\n",
       "          callback();\n",
       "      });\n",
       "    } finally {\n",
       "      delete root._bokeh_onload_callbacks\n",
       "    }\n",
       "    console.debug(\"Bokeh: all callbacks have finished\");\n",
       "  }\n",
       "\n",
       "  function load_libs(css_urls, js_urls, callback) {\n",
       "    if (css_urls == null) css_urls = [];\n",
       "    if (js_urls == null) js_urls = [];\n",
       "\n",
       "    root._bokeh_onload_callbacks.push(callback);\n",
       "    if (root._bokeh_is_loading > 0) {\n",
       "      console.debug(\"Bokeh: BokehJS is being loaded, scheduling callback at\", now());\n",
       "      return null;\n",
       "    }\n",
       "    if (js_urls == null || js_urls.length === 0) {\n",
       "      run_callbacks();\n",
       "      return null;\n",
       "    }\n",
       "    console.debug(\"Bokeh: BokehJS not loaded, scheduling load and callback at\", now());\n",
       "    root._bokeh_is_loading = css_urls.length + js_urls.length;\n",
       "\n",
       "    function on_load() {\n",
       "      root._bokeh_is_loading--;\n",
       "      if (root._bokeh_is_loading === 0) {\n",
       "        console.debug(\"Bokeh: all BokehJS libraries/stylesheets loaded\");\n",
       "        run_callbacks()\n",
       "      }\n",
       "    }\n",
       "\n",
       "    function on_error(url) {\n",
       "      console.error(\"failed to load \" + url);\n",
       "    }\n",
       "\n",
       "    for (let i = 0; i < css_urls.length; i++) {\n",
       "      const url = css_urls[i];\n",
       "      const element = document.createElement(\"link\");\n",
       "      element.onload = on_load;\n",
       "      element.onerror = on_error.bind(null, url);\n",
       "      element.rel = \"stylesheet\";\n",
       "      element.type = \"text/css\";\n",
       "      element.href = url;\n",
       "      console.debug(\"Bokeh: injecting link tag for BokehJS stylesheet: \", url);\n",
       "      document.body.appendChild(element);\n",
       "    }\n",
       "\n",
       "    for (let i = 0; i < js_urls.length; i++) {\n",
       "      const url = js_urls[i];\n",
       "      const element = document.createElement('script');\n",
       "      element.onload = on_load;\n",
       "      element.onerror = on_error.bind(null, url);\n",
       "      element.async = false;\n",
       "      element.src = url;\n",
       "      console.debug(\"Bokeh: injecting script tag for BokehJS library: \", url);\n",
       "      document.head.appendChild(element);\n",
       "    }\n",
       "  };\n",
       "\n",
       "  function inject_raw_css(css) {\n",
       "    const element = document.createElement(\"style\");\n",
       "    element.appendChild(document.createTextNode(css));\n",
       "    document.body.appendChild(element);\n",
       "  }\n",
       "\n",
       "  const js_urls = [\"https://cdn.bokeh.org/bokeh/release/bokeh-3.3.4.min.js\", \"https://cdn.bokeh.org/bokeh/release/bokeh-gl-3.3.4.min.js\", \"https://cdn.bokeh.org/bokeh/release/bokeh-widgets-3.3.4.min.js\", \"https://cdn.bokeh.org/bokeh/release/bokeh-tables-3.3.4.min.js\", \"https://cdn.bokeh.org/bokeh/release/bokeh-mathjax-3.3.4.min.js\"];\n",
       "  const css_urls = [];\n",
       "\n",
       "  const inline_js = [    function(Bokeh) {\n",
       "      Bokeh.set_log_level(\"info\");\n",
       "    },\n",
       "function(Bokeh) {\n",
       "    }\n",
       "  ];\n",
       "\n",
       "  function run_inline_js() {\n",
       "    if (root.Bokeh !== undefined || force === true) {\n",
       "          for (let i = 0; i < inline_js.length; i++) {\n",
       "      inline_js[i].call(root, root.Bokeh);\n",
       "    }\n",
       "} else if (Date.now() < root._bokeh_timeout) {\n",
       "      setTimeout(run_inline_js, 100);\n",
       "    } else if (!root._bokeh_failed_load) {\n",
       "      console.log(\"Bokeh: BokehJS failed to load within specified timeout.\");\n",
       "      root._bokeh_failed_load = true;\n",
       "    } else if (force !== true) {\n",
       "      const cell = $(document.getElementById(null)).parents('.cell').data().cell;\n",
       "      cell.output_area.append_execute_result(NB_LOAD_WARNING)\n",
       "    }\n",
       "  }\n",
       "\n",
       "  if (root._bokeh_is_loading === 0) {\n",
       "    console.debug(\"Bokeh: BokehJS loaded, going straight to plotting\");\n",
       "    run_inline_js();\n",
       "  } else {\n",
       "    load_libs(css_urls, js_urls, function() {\n",
       "      console.debug(\"Bokeh: BokehJS plotting callback run at\", now());\n",
       "      run_inline_js();\n",
       "    });\n",
       "  }\n",
       "}(window));"
      ],
      "application/vnd.bokehjs_load.v0+json": "(function(root) {\n  function now() {\n    return new Date();\n  }\n\n  const force = true;\n\n  if (typeof root._bokeh_onload_callbacks === \"undefined\" || force === true) {\n    root._bokeh_onload_callbacks = [];\n    root._bokeh_is_loading = undefined;\n  }\n\n\n  if (typeof (root._bokeh_timeout) === \"undefined\" || force === true) {\n    root._bokeh_timeout = Date.now() + 5000;\n    root._bokeh_failed_load = false;\n  }\n\n  const NB_LOAD_WARNING = {'data': {'text/html':\n     \"<div style='background-color: #fdd'>\\n\"+\n     \"<p>\\n\"+\n     \"BokehJS does not appear to have successfully loaded. If loading BokehJS from CDN, this \\n\"+\n     \"may be due to a slow or bad network connection. Possible fixes:\\n\"+\n     \"</p>\\n\"+\n     \"<ul>\\n\"+\n     \"<li>re-rerun `output_notebook()` to attempt to load from CDN again, or</li>\\n\"+\n     \"<li>use INLINE resources instead, as so:</li>\\n\"+\n     \"</ul>\\n\"+\n     \"<code>\\n\"+\n     \"from bokeh.resources import INLINE\\n\"+\n     \"output_notebook(resources=INLINE)\\n\"+\n     \"</code>\\n\"+\n     \"</div>\"}};\n\n  function display_loaded() {\n    const el = document.getElementById(null);\n    if (el != null) {\n      el.textContent = \"BokehJS is loading...\";\n    }\n    if (root.Bokeh !== undefined) {\n      if (el != null) {\n        el.textContent = \"BokehJS \" + root.Bokeh.version + \" successfully loaded.\";\n      }\n    } else if (Date.now() < root._bokeh_timeout) {\n      setTimeout(display_loaded, 100)\n    }\n  }\n\n  function run_callbacks() {\n    try {\n      root._bokeh_onload_callbacks.forEach(function(callback) {\n        if (callback != null)\n          callback();\n      });\n    } finally {\n      delete root._bokeh_onload_callbacks\n    }\n    console.debug(\"Bokeh: all callbacks have finished\");\n  }\n\n  function load_libs(css_urls, js_urls, callback) {\n    if (css_urls == null) css_urls = [];\n    if (js_urls == null) js_urls = [];\n\n    root._bokeh_onload_callbacks.push(callback);\n    if (root._bokeh_is_loading > 0) {\n      console.debug(\"Bokeh: BokehJS is being loaded, scheduling callback at\", now());\n      return null;\n    }\n    if (js_urls == null || js_urls.length === 0) {\n      run_callbacks();\n      return null;\n    }\n    console.debug(\"Bokeh: BokehJS not loaded, scheduling load and callback at\", now());\n    root._bokeh_is_loading = css_urls.length + js_urls.length;\n\n    function on_load() {\n      root._bokeh_is_loading--;\n      if (root._bokeh_is_loading === 0) {\n        console.debug(\"Bokeh: all BokehJS libraries/stylesheets loaded\");\n        run_callbacks()\n      }\n    }\n\n    function on_error(url) {\n      console.error(\"failed to load \" + url);\n    }\n\n    for (let i = 0; i < css_urls.length; i++) {\n      const url = css_urls[i];\n      const element = document.createElement(\"link\");\n      element.onload = on_load;\n      element.onerror = on_error.bind(null, url);\n      element.rel = \"stylesheet\";\n      element.type = \"text/css\";\n      element.href = url;\n      console.debug(\"Bokeh: injecting link tag for BokehJS stylesheet: \", url);\n      document.body.appendChild(element);\n    }\n\n    for (let i = 0; i < js_urls.length; i++) {\n      const url = js_urls[i];\n      const element = document.createElement('script');\n      element.onload = on_load;\n      element.onerror = on_error.bind(null, url);\n      element.async = false;\n      element.src = url;\n      console.debug(\"Bokeh: injecting script tag for BokehJS library: \", url);\n      document.head.appendChild(element);\n    }\n  };\n\n  function inject_raw_css(css) {\n    const element = document.createElement(\"style\");\n    element.appendChild(document.createTextNode(css));\n    document.body.appendChild(element);\n  }\n\n  const js_urls = [\"https://cdn.bokeh.org/bokeh/release/bokeh-3.3.4.min.js\", \"https://cdn.bokeh.org/bokeh/release/bokeh-gl-3.3.4.min.js\", \"https://cdn.bokeh.org/bokeh/release/bokeh-widgets-3.3.4.min.js\", \"https://cdn.bokeh.org/bokeh/release/bokeh-tables-3.3.4.min.js\", \"https://cdn.bokeh.org/bokeh/release/bokeh-mathjax-3.3.4.min.js\"];\n  const css_urls = [];\n\n  const inline_js = [    function(Bokeh) {\n      Bokeh.set_log_level(\"info\");\n    },\nfunction(Bokeh) {\n    }\n  ];\n\n  function run_inline_js() {\n    if (root.Bokeh !== undefined || force === true) {\n          for (let i = 0; i < inline_js.length; i++) {\n      inline_js[i].call(root, root.Bokeh);\n    }\n} else if (Date.now() < root._bokeh_timeout) {\n      setTimeout(run_inline_js, 100);\n    } else if (!root._bokeh_failed_load) {\n      console.log(\"Bokeh: BokehJS failed to load within specified timeout.\");\n      root._bokeh_failed_load = true;\n    } else if (force !== true) {\n      const cell = $(document.getElementById(null)).parents('.cell').data().cell;\n      cell.output_area.append_execute_result(NB_LOAD_WARNING)\n    }\n  }\n\n  if (root._bokeh_is_loading === 0) {\n    console.debug(\"Bokeh: BokehJS loaded, going straight to plotting\");\n    run_inline_js();\n  } else {\n    load_libs(css_urls, js_urls, function() {\n      console.debug(\"Bokeh: BokehJS plotting callback run at\", now());\n      run_inline_js();\n    });\n  }\n}(window));"
     },
     "metadata": {},
     "output_type": "display_data"
    },
    {
     "data": {
      "text/html": [
       "\n",
       "            <table class=\"malariagen-ag3\">\n",
       "                <thead>\n",
       "                    <tr>\n",
       "                        <th style=\"text-align: left\" colspan=\"2\">MalariaGEN Ag3 API client</th>\n",
       "                    </tr>\n",
       "                    <tr><td colspan=\"2\" style=\"text-align: left\">\n",
       "                        Please note that data are subject to terms of use,\n",
       "                        for more information see <a href=\"https://www.malariagen.net/data\">\n",
       "                        the MalariaGEN website</a> or contact data@malariagen.net.\n",
       "                        See also the <a href=\"https://malariagen.github.io/malariagen-data-python/v8.7.0/Ag3.html\">Ag3 API docs</a>.\n",
       "                    </td></tr>\n",
       "                </thead>\n",
       "                <tbody>\n",
       "                    <tr>\n",
       "                        <th style=\"text-align: left\">\n",
       "                            Storage URL\n",
       "                        </th>\n",
       "                        <td>gs://vo_agam_release/</td>\n",
       "                    </tr>\n",
       "                    <tr>\n",
       "                        <th style=\"text-align: left\">\n",
       "                            Data releases available\n",
       "                        </th>\n",
       "                        <td>3.0, 3.1, 3.2, 3.3, 3.4, 3.5, 3.6, 3.7, 3.8</td>\n",
       "                    </tr>\n",
       "                    <tr>\n",
       "                        <th style=\"text-align: left\">\n",
       "                            Results cache\n",
       "                        </th>\n",
       "                        <td>None</td>\n",
       "                    </tr>\n",
       "                    <tr>\n",
       "                        <th style=\"text-align: left\">\n",
       "                            Cohorts analysis\n",
       "                        </th>\n",
       "                        <td>20231215</td>\n",
       "                    </tr>\n",
       "                    <tr>\n",
       "                        <th style=\"text-align: left\">\n",
       "                            AIM analysis\n",
       "                        </th>\n",
       "                        <td>20220528</td>\n",
       "                    </tr>\n",
       "                    <tr>\n",
       "                        <th style=\"text-align: left\">\n",
       "                            Site filters analysis\n",
       "                        </th>\n",
       "                        <td>dt_20200416</td>\n",
       "                    </tr>\n",
       "                    <tr>\n",
       "                        <th style=\"text-align: left\">\n",
       "                            Software version\n",
       "                        </th>\n",
       "                        <td>malariagen_data 8.7.0</td>\n",
       "                    </tr>\n",
       "                    <tr>\n",
       "                        <th style=\"text-align: left\">\n",
       "                            Client location\n",
       "                        </th>\n",
       "                        <td>unknown</td>\n",
       "                    </tr>\n",
       "                </tbody>\n",
       "            </table>\n",
       "        "
      ],
      "text/plain": [
       "<MalariaGEN Ag3 API client>\n",
       "Storage URL             : gs://vo_agam_release/\n",
       "Data releases available : 3.0, 3.1, 3.2, 3.3, 3.4, 3.5, 3.6, 3.7, 3.8\n",
       "Results cache           : None\n",
       "Cohorts analysis        : 20231215\n",
       "AIM analysis            : 20220528\n",
       "Site filters analysis   : dt_20200416\n",
       "Software version        : malariagen_data 8.7.0\n",
       "Client location         : unknown\n",
       "---\n",
       "Please note that data are subject to terms of use,\n",
       "for more information see https://www.malariagen.net/data\n",
       "or contact data@malariagen.net. For API documentation see \n",
       "https://malariagen.github.io/malariagen-data-python/v8.7.0/Ag3.html"
      ]
     },
     "execution_count": 7,
     "metadata": {},
     "output_type": "execute_result"
    }
   ],
   "source": [
    "ag3 = malariagen_data.Ag3()\n",
    "ag3"
   ]
  },
  {
   "cell_type": "markdown",
   "id": "SLZGEtqX9UjU",
   "metadata": {
    "id": "SLZGEtqX9UjU"
   },
   "source": [
    "You can now access a number of different types of data through the `ag3` object. The full list of functions is available from the [Ag3 API docs](https://malariagen.github.io/vector-data/ag3/api.html). For the rest of this module, we are just going to look at sample metadata."
   ]
  },
  {
   "cell_type": "markdown",
   "id": "82cc77bf-0817-42d4-9c66-69244141df0b",
   "metadata": {
    "id": "82cc77bf-0817-42d4-9c66-69244141df0b"
   },
   "source": [
    "## Loading sample metadata\n",
    "\n",
    "We can use the [`sample_metadata()`](https://malariagen.github.io/malariagen-data-python/latest/Ag3.html#sample-metadata-access) function to retrieve a pandas DataFrame containing metadata about all 3,081 samples in the Ag3.0 resource. In this DataFrame, each row represents one mosquito sample, and the columns such as `country` and `year` provide information about where the mosquito was originally collected."
   ]
  },
  {
   "cell_type": "code",
   "execution_count": 8,
   "id": "9891d9df-c1c4-4fda-a23a-05b6a7bb2e13",
   "metadata": {
    "colab": {
     "base_uri": "https://localhost:8080/",
     "height": 661
    },
    "id": "9891d9df-c1c4-4fda-a23a-05b6a7bb2e13",
    "outputId": "526d8406-c066-428a-f9cb-dcac3203c18a",
    "tags": []
   },
   "outputs": [
    {
     "name": "stdout",
     "output_type": "stream",
     "text": [
      "                                     \r"
     ]
    },
    {
     "data": {
      "text/html": [
       "<div>\n",
       "<style scoped>\n",
       "    .dataframe tbody tr th:only-of-type {\n",
       "        vertical-align: middle;\n",
       "    }\n",
       "\n",
       "    .dataframe tbody tr th {\n",
       "        vertical-align: top;\n",
       "    }\n",
       "\n",
       "    .dataframe thead th {\n",
       "        text-align: right;\n",
       "    }\n",
       "</style>\n",
       "<table border=\"1\" class=\"dataframe\">\n",
       "  <thead>\n",
       "    <tr style=\"text-align: right;\">\n",
       "      <th></th>\n",
       "      <th>sample_id</th>\n",
       "      <th>partner_sample_id</th>\n",
       "      <th>contributor</th>\n",
       "      <th>country</th>\n",
       "      <th>location</th>\n",
       "      <th>year</th>\n",
       "      <th>month</th>\n",
       "      <th>latitude</th>\n",
       "      <th>longitude</th>\n",
       "      <th>sex_call</th>\n",
       "      <th>...</th>\n",
       "      <th>admin1_name</th>\n",
       "      <th>admin1_iso</th>\n",
       "      <th>admin2_name</th>\n",
       "      <th>taxon</th>\n",
       "      <th>cohort_admin1_year</th>\n",
       "      <th>cohort_admin1_month</th>\n",
       "      <th>cohort_admin1_quarter</th>\n",
       "      <th>cohort_admin2_year</th>\n",
       "      <th>cohort_admin2_month</th>\n",
       "      <th>cohort_admin2_quarter</th>\n",
       "    </tr>\n",
       "  </thead>\n",
       "  <tbody>\n",
       "    <tr>\n",
       "      <th>0</th>\n",
       "      <td>AR0047-C</td>\n",
       "      <td>LUA047</td>\n",
       "      <td>Joao Pinto</td>\n",
       "      <td>Angola</td>\n",
       "      <td>Luanda</td>\n",
       "      <td>2009</td>\n",
       "      <td>4</td>\n",
       "      <td>-8.884</td>\n",
       "      <td>13.302</td>\n",
       "      <td>F</td>\n",
       "      <td>...</td>\n",
       "      <td>Luanda</td>\n",
       "      <td>AO-LUA</td>\n",
       "      <td>Luanda</td>\n",
       "      <td>coluzzii</td>\n",
       "      <td>AO-LUA_colu_2009</td>\n",
       "      <td>AO-LUA_colu_2009_04</td>\n",
       "      <td>AO-LUA_colu_2009_Q2</td>\n",
       "      <td>AO-LUA_Luanda_colu_2009</td>\n",
       "      <td>AO-LUA_Luanda_colu_2009_04</td>\n",
       "      <td>AO-LUA_Luanda_colu_2009_Q2</td>\n",
       "    </tr>\n",
       "    <tr>\n",
       "      <th>1</th>\n",
       "      <td>AR0049-C</td>\n",
       "      <td>LUA049</td>\n",
       "      <td>Joao Pinto</td>\n",
       "      <td>Angola</td>\n",
       "      <td>Luanda</td>\n",
       "      <td>2009</td>\n",
       "      <td>4</td>\n",
       "      <td>-8.884</td>\n",
       "      <td>13.302</td>\n",
       "      <td>F</td>\n",
       "      <td>...</td>\n",
       "      <td>Luanda</td>\n",
       "      <td>AO-LUA</td>\n",
       "      <td>Luanda</td>\n",
       "      <td>coluzzii</td>\n",
       "      <td>AO-LUA_colu_2009</td>\n",
       "      <td>AO-LUA_colu_2009_04</td>\n",
       "      <td>AO-LUA_colu_2009_Q2</td>\n",
       "      <td>AO-LUA_Luanda_colu_2009</td>\n",
       "      <td>AO-LUA_Luanda_colu_2009_04</td>\n",
       "      <td>AO-LUA_Luanda_colu_2009_Q2</td>\n",
       "    </tr>\n",
       "    <tr>\n",
       "      <th>2</th>\n",
       "      <td>AR0051-C</td>\n",
       "      <td>LUA051</td>\n",
       "      <td>Joao Pinto</td>\n",
       "      <td>Angola</td>\n",
       "      <td>Luanda</td>\n",
       "      <td>2009</td>\n",
       "      <td>4</td>\n",
       "      <td>-8.884</td>\n",
       "      <td>13.302</td>\n",
       "      <td>F</td>\n",
       "      <td>...</td>\n",
       "      <td>Luanda</td>\n",
       "      <td>AO-LUA</td>\n",
       "      <td>Luanda</td>\n",
       "      <td>coluzzii</td>\n",
       "      <td>AO-LUA_colu_2009</td>\n",
       "      <td>AO-LUA_colu_2009_04</td>\n",
       "      <td>AO-LUA_colu_2009_Q2</td>\n",
       "      <td>AO-LUA_Luanda_colu_2009</td>\n",
       "      <td>AO-LUA_Luanda_colu_2009_04</td>\n",
       "      <td>AO-LUA_Luanda_colu_2009_Q2</td>\n",
       "    </tr>\n",
       "    <tr>\n",
       "      <th>3</th>\n",
       "      <td>AR0061-C</td>\n",
       "      <td>LUA061</td>\n",
       "      <td>Joao Pinto</td>\n",
       "      <td>Angola</td>\n",
       "      <td>Luanda</td>\n",
       "      <td>2009</td>\n",
       "      <td>4</td>\n",
       "      <td>-8.884</td>\n",
       "      <td>13.302</td>\n",
       "      <td>F</td>\n",
       "      <td>...</td>\n",
       "      <td>Luanda</td>\n",
       "      <td>AO-LUA</td>\n",
       "      <td>Luanda</td>\n",
       "      <td>coluzzii</td>\n",
       "      <td>AO-LUA_colu_2009</td>\n",
       "      <td>AO-LUA_colu_2009_04</td>\n",
       "      <td>AO-LUA_colu_2009_Q2</td>\n",
       "      <td>AO-LUA_Luanda_colu_2009</td>\n",
       "      <td>AO-LUA_Luanda_colu_2009_04</td>\n",
       "      <td>AO-LUA_Luanda_colu_2009_Q2</td>\n",
       "    </tr>\n",
       "    <tr>\n",
       "      <th>4</th>\n",
       "      <td>AR0078-C</td>\n",
       "      <td>LUA078</td>\n",
       "      <td>Joao Pinto</td>\n",
       "      <td>Angola</td>\n",
       "      <td>Luanda</td>\n",
       "      <td>2009</td>\n",
       "      <td>4</td>\n",
       "      <td>-8.884</td>\n",
       "      <td>13.302</td>\n",
       "      <td>F</td>\n",
       "      <td>...</td>\n",
       "      <td>Luanda</td>\n",
       "      <td>AO-LUA</td>\n",
       "      <td>Luanda</td>\n",
       "      <td>coluzzii</td>\n",
       "      <td>AO-LUA_colu_2009</td>\n",
       "      <td>AO-LUA_colu_2009_04</td>\n",
       "      <td>AO-LUA_colu_2009_Q2</td>\n",
       "      <td>AO-LUA_Luanda_colu_2009</td>\n",
       "      <td>AO-LUA_Luanda_colu_2009_04</td>\n",
       "      <td>AO-LUA_Luanda_colu_2009_Q2</td>\n",
       "    </tr>\n",
       "    <tr>\n",
       "      <th>...</th>\n",
       "      <td>...</td>\n",
       "      <td>...</td>\n",
       "      <td>...</td>\n",
       "      <td>...</td>\n",
       "      <td>...</td>\n",
       "      <td>...</td>\n",
       "      <td>...</td>\n",
       "      <td>...</td>\n",
       "      <td>...</td>\n",
       "      <td>...</td>\n",
       "      <td>...</td>\n",
       "      <td>...</td>\n",
       "      <td>...</td>\n",
       "      <td>...</td>\n",
       "      <td>...</td>\n",
       "      <td>...</td>\n",
       "      <td>...</td>\n",
       "      <td>...</td>\n",
       "      <td>...</td>\n",
       "      <td>...</td>\n",
       "      <td>...</td>\n",
       "    </tr>\n",
       "    <tr>\n",
       "      <th>3076</th>\n",
       "      <td>AD0494-C</td>\n",
       "      <td>80-2-o-16</td>\n",
       "      <td>Martin Donnelly</td>\n",
       "      <td>Lab Cross</td>\n",
       "      <td>LSTM</td>\n",
       "      <td>-1</td>\n",
       "      <td>-1</td>\n",
       "      <td>53.409</td>\n",
       "      <td>-2.969</td>\n",
       "      <td>F</td>\n",
       "      <td>...</td>\n",
       "      <td>NaN</td>\n",
       "      <td>NaN</td>\n",
       "      <td>NaN</td>\n",
       "      <td>unassigned</td>\n",
       "      <td>NaN</td>\n",
       "      <td>NaN</td>\n",
       "      <td>NaN</td>\n",
       "      <td>NaN</td>\n",
       "      <td>NaN</td>\n",
       "      <td>NaN</td>\n",
       "    </tr>\n",
       "    <tr>\n",
       "      <th>3077</th>\n",
       "      <td>AD0495-C</td>\n",
       "      <td>80-2-o-17</td>\n",
       "      <td>Martin Donnelly</td>\n",
       "      <td>Lab Cross</td>\n",
       "      <td>LSTM</td>\n",
       "      <td>-1</td>\n",
       "      <td>-1</td>\n",
       "      <td>53.409</td>\n",
       "      <td>-2.969</td>\n",
       "      <td>M</td>\n",
       "      <td>...</td>\n",
       "      <td>NaN</td>\n",
       "      <td>NaN</td>\n",
       "      <td>NaN</td>\n",
       "      <td>unassigned</td>\n",
       "      <td>NaN</td>\n",
       "      <td>NaN</td>\n",
       "      <td>NaN</td>\n",
       "      <td>NaN</td>\n",
       "      <td>NaN</td>\n",
       "      <td>NaN</td>\n",
       "    </tr>\n",
       "    <tr>\n",
       "      <th>3078</th>\n",
       "      <td>AD0496-C</td>\n",
       "      <td>80-2-o-18</td>\n",
       "      <td>Martin Donnelly</td>\n",
       "      <td>Lab Cross</td>\n",
       "      <td>LSTM</td>\n",
       "      <td>-1</td>\n",
       "      <td>-1</td>\n",
       "      <td>53.409</td>\n",
       "      <td>-2.969</td>\n",
       "      <td>M</td>\n",
       "      <td>...</td>\n",
       "      <td>NaN</td>\n",
       "      <td>NaN</td>\n",
       "      <td>NaN</td>\n",
       "      <td>unassigned</td>\n",
       "      <td>NaN</td>\n",
       "      <td>NaN</td>\n",
       "      <td>NaN</td>\n",
       "      <td>NaN</td>\n",
       "      <td>NaN</td>\n",
       "      <td>NaN</td>\n",
       "    </tr>\n",
       "    <tr>\n",
       "      <th>3079</th>\n",
       "      <td>AD0497-C</td>\n",
       "      <td>80-2-o-19</td>\n",
       "      <td>Martin Donnelly</td>\n",
       "      <td>Lab Cross</td>\n",
       "      <td>LSTM</td>\n",
       "      <td>-1</td>\n",
       "      <td>-1</td>\n",
       "      <td>53.409</td>\n",
       "      <td>-2.969</td>\n",
       "      <td>F</td>\n",
       "      <td>...</td>\n",
       "      <td>NaN</td>\n",
       "      <td>NaN</td>\n",
       "      <td>NaN</td>\n",
       "      <td>unassigned</td>\n",
       "      <td>NaN</td>\n",
       "      <td>NaN</td>\n",
       "      <td>NaN</td>\n",
       "      <td>NaN</td>\n",
       "      <td>NaN</td>\n",
       "      <td>NaN</td>\n",
       "    </tr>\n",
       "    <tr>\n",
       "      <th>3080</th>\n",
       "      <td>AD0498-C</td>\n",
       "      <td>80-2-o-20</td>\n",
       "      <td>Martin Donnelly</td>\n",
       "      <td>Lab Cross</td>\n",
       "      <td>LSTM</td>\n",
       "      <td>-1</td>\n",
       "      <td>-1</td>\n",
       "      <td>53.409</td>\n",
       "      <td>-2.969</td>\n",
       "      <td>M</td>\n",
       "      <td>...</td>\n",
       "      <td>NaN</td>\n",
       "      <td>NaN</td>\n",
       "      <td>NaN</td>\n",
       "      <td>unassigned</td>\n",
       "      <td>NaN</td>\n",
       "      <td>NaN</td>\n",
       "      <td>NaN</td>\n",
       "      <td>NaN</td>\n",
       "      <td>NaN</td>\n",
       "      <td>NaN</td>\n",
       "    </tr>\n",
       "  </tbody>\n",
       "</table>\n",
       "<p>3081 rows × 32 columns</p>\n",
       "</div>"
      ],
      "text/plain": [
       "     sample_id partner_sample_id      contributor    country location  year  \\\n",
       "0     AR0047-C            LUA047       Joao Pinto     Angola   Luanda  2009   \n",
       "1     AR0049-C            LUA049       Joao Pinto     Angola   Luanda  2009   \n",
       "2     AR0051-C            LUA051       Joao Pinto     Angola   Luanda  2009   \n",
       "3     AR0061-C            LUA061       Joao Pinto     Angola   Luanda  2009   \n",
       "4     AR0078-C            LUA078       Joao Pinto     Angola   Luanda  2009   \n",
       "...        ...               ...              ...        ...      ...   ...   \n",
       "3076  AD0494-C         80-2-o-16  Martin Donnelly  Lab Cross     LSTM    -1   \n",
       "3077  AD0495-C         80-2-o-17  Martin Donnelly  Lab Cross     LSTM    -1   \n",
       "3078  AD0496-C         80-2-o-18  Martin Donnelly  Lab Cross     LSTM    -1   \n",
       "3079  AD0497-C         80-2-o-19  Martin Donnelly  Lab Cross     LSTM    -1   \n",
       "3080  AD0498-C         80-2-o-20  Martin Donnelly  Lab Cross     LSTM    -1   \n",
       "\n",
       "      month  latitude  longitude sex_call  ... admin1_name admin1_iso  \\\n",
       "0         4    -8.884     13.302        F  ...      Luanda     AO-LUA   \n",
       "1         4    -8.884     13.302        F  ...      Luanda     AO-LUA   \n",
       "2         4    -8.884     13.302        F  ...      Luanda     AO-LUA   \n",
       "3         4    -8.884     13.302        F  ...      Luanda     AO-LUA   \n",
       "4         4    -8.884     13.302        F  ...      Luanda     AO-LUA   \n",
       "...     ...       ...        ...      ...  ...         ...        ...   \n",
       "3076     -1    53.409     -2.969        F  ...         NaN        NaN   \n",
       "3077     -1    53.409     -2.969        M  ...         NaN        NaN   \n",
       "3078     -1    53.409     -2.969        M  ...         NaN        NaN   \n",
       "3079     -1    53.409     -2.969        F  ...         NaN        NaN   \n",
       "3080     -1    53.409     -2.969        M  ...         NaN        NaN   \n",
       "\n",
       "      admin2_name       taxon cohort_admin1_year  cohort_admin1_month  \\\n",
       "0          Luanda    coluzzii   AO-LUA_colu_2009  AO-LUA_colu_2009_04   \n",
       "1          Luanda    coluzzii   AO-LUA_colu_2009  AO-LUA_colu_2009_04   \n",
       "2          Luanda    coluzzii   AO-LUA_colu_2009  AO-LUA_colu_2009_04   \n",
       "3          Luanda    coluzzii   AO-LUA_colu_2009  AO-LUA_colu_2009_04   \n",
       "4          Luanda    coluzzii   AO-LUA_colu_2009  AO-LUA_colu_2009_04   \n",
       "...           ...         ...                ...                  ...   \n",
       "3076          NaN  unassigned                NaN                  NaN   \n",
       "3077          NaN  unassigned                NaN                  NaN   \n",
       "3078          NaN  unassigned                NaN                  NaN   \n",
       "3079          NaN  unassigned                NaN                  NaN   \n",
       "3080          NaN  unassigned                NaN                  NaN   \n",
       "\n",
       "      cohort_admin1_quarter       cohort_admin2_year  \\\n",
       "0       AO-LUA_colu_2009_Q2  AO-LUA_Luanda_colu_2009   \n",
       "1       AO-LUA_colu_2009_Q2  AO-LUA_Luanda_colu_2009   \n",
       "2       AO-LUA_colu_2009_Q2  AO-LUA_Luanda_colu_2009   \n",
       "3       AO-LUA_colu_2009_Q2  AO-LUA_Luanda_colu_2009   \n",
       "4       AO-LUA_colu_2009_Q2  AO-LUA_Luanda_colu_2009   \n",
       "...                     ...                      ...   \n",
       "3076                    NaN                      NaN   \n",
       "3077                    NaN                      NaN   \n",
       "3078                    NaN                      NaN   \n",
       "3079                    NaN                      NaN   \n",
       "3080                    NaN                      NaN   \n",
       "\n",
       "             cohort_admin2_month       cohort_admin2_quarter  \n",
       "0     AO-LUA_Luanda_colu_2009_04  AO-LUA_Luanda_colu_2009_Q2  \n",
       "1     AO-LUA_Luanda_colu_2009_04  AO-LUA_Luanda_colu_2009_Q2  \n",
       "2     AO-LUA_Luanda_colu_2009_04  AO-LUA_Luanda_colu_2009_Q2  \n",
       "3     AO-LUA_Luanda_colu_2009_04  AO-LUA_Luanda_colu_2009_Q2  \n",
       "4     AO-LUA_Luanda_colu_2009_04  AO-LUA_Luanda_colu_2009_Q2  \n",
       "...                          ...                         ...  \n",
       "3076                         NaN                         NaN  \n",
       "3077                         NaN                         NaN  \n",
       "3078                         NaN                         NaN  \n",
       "3079                         NaN                         NaN  \n",
       "3080                         NaN                         NaN  \n",
       "\n",
       "[3081 rows x 32 columns]"
      ]
     },
     "execution_count": 8,
     "metadata": {},
     "output_type": "execute_result"
    }
   ],
   "source": [
    "df_samples = ag3.sample_metadata(sample_sets=\"3.0\")\n",
    "df_samples"
   ]
  },
  {
   "cell_type": "markdown",
   "id": "97b3ff01-8dbd-4311-b5b2-ebce8dd00fa4",
   "metadata": {
    "id": "97b3ff01-8dbd-4311-b5b2-ebce8dd00fa4"
   },
   "source": [
    "## Exploring sample metadata\n",
    "\n",
    "Let's use some pandas features such as [`groupby()`](https://pandas.pydata.org/docs/user_guide/groupby.html) and [`query()`](https://pandas.pydata.org/docs/user_guide/indexing.html#the-query-method) to explore the sample metadata. \n",
    "\n",
    "For example, let's first find out a bit more information about the different countries represented."
   ]
  },
  {
   "cell_type": "code",
   "execution_count": 9,
   "id": "DAD8o5_--29m",
   "metadata": {
    "colab": {
     "base_uri": "https://localhost:8080/"
    },
    "id": "DAD8o5_--29m",
    "outputId": "2475af97-6cee-4205-9236-632b2d826ebd",
    "tags": []
   },
   "outputs": [
    {
     "data": {
      "text/plain": [
       "country\n",
       "Angola                               81\n",
       "Burkina Faso                        296\n",
       "Cameroon                            444\n",
       "Central African Republic             73\n",
       "Cote d'Ivoire                        80\n",
       "Democratic Republic of the Congo     76\n",
       "Equatorial Guinea                    10\n",
       "Gabon                                69\n",
       "Gambia, The                         279\n",
       "Ghana                               100\n",
       "Guinea                              136\n",
       "Guinea-Bissau                       101\n",
       "Kenya                                86\n",
       "Lab Cross                           297\n",
       "Malawi                               41\n",
       "Mali                                225\n",
       "Mayotte                              23\n",
       "Mozambique                           74\n",
       "Tanzania                            300\n",
       "Uganda                              290\n",
       "dtype: int64"
      ]
     },
     "execution_count": 9,
     "metadata": {},
     "output_type": "execute_result"
    }
   ],
   "source": [
    "df_samples.groupby(\"country\").size()"
   ]
  },
  {
   "cell_type": "markdown",
   "id": "taYc4oDt_BZw",
   "metadata": {
    "id": "taYc4oDt_BZw"
   },
   "source": [
    "We can then use the pandas query() function to select all samples from a given country. E.g., find all samples from Burkina Faso."
   ]
  },
  {
   "cell_type": "code",
   "execution_count": 10,
   "id": "ee9d21c4-a898-4c7d-8922-6bd7b9cdeae7",
   "metadata": {
    "colab": {
     "base_uri": "https://localhost:8080/",
     "height": 661
    },
    "id": "ee9d21c4-a898-4c7d-8922-6bd7b9cdeae7",
    "outputId": "2f8cc79b-4b78-4f58-abfd-656c69ab4d5e",
    "tags": []
   },
   "outputs": [
    {
     "data": {
      "text/html": [
       "<div>\n",
       "<style scoped>\n",
       "    .dataframe tbody tr th:only-of-type {\n",
       "        vertical-align: middle;\n",
       "    }\n",
       "\n",
       "    .dataframe tbody tr th {\n",
       "        vertical-align: top;\n",
       "    }\n",
       "\n",
       "    .dataframe thead th {\n",
       "        text-align: right;\n",
       "    }\n",
       "</style>\n",
       "<table border=\"1\" class=\"dataframe\">\n",
       "  <thead>\n",
       "    <tr style=\"text-align: right;\">\n",
       "      <th></th>\n",
       "      <th>sample_id</th>\n",
       "      <th>partner_sample_id</th>\n",
       "      <th>contributor</th>\n",
       "      <th>country</th>\n",
       "      <th>location</th>\n",
       "      <th>year</th>\n",
       "      <th>month</th>\n",
       "      <th>latitude</th>\n",
       "      <th>longitude</th>\n",
       "      <th>sex_call</th>\n",
       "      <th>...</th>\n",
       "      <th>admin1_name</th>\n",
       "      <th>admin1_iso</th>\n",
       "      <th>admin2_name</th>\n",
       "      <th>taxon</th>\n",
       "      <th>cohort_admin1_year</th>\n",
       "      <th>cohort_admin1_month</th>\n",
       "      <th>cohort_admin1_quarter</th>\n",
       "      <th>cohort_admin2_year</th>\n",
       "      <th>cohort_admin2_month</th>\n",
       "      <th>cohort_admin2_quarter</th>\n",
       "    </tr>\n",
       "  </thead>\n",
       "  <tbody>\n",
       "    <tr>\n",
       "      <th>81</th>\n",
       "      <td>AB0085-Cx</td>\n",
       "      <td>BF2-4</td>\n",
       "      <td>Austin Burt</td>\n",
       "      <td>Burkina Faso</td>\n",
       "      <td>Pala</td>\n",
       "      <td>2012</td>\n",
       "      <td>7</td>\n",
       "      <td>11.151</td>\n",
       "      <td>-4.235</td>\n",
       "      <td>F</td>\n",
       "      <td>...</td>\n",
       "      <td>Hauts-Bassins</td>\n",
       "      <td>BF-09</td>\n",
       "      <td>Houet</td>\n",
       "      <td>gambiae</td>\n",
       "      <td>BF-09_gamb_2012</td>\n",
       "      <td>BF-09_gamb_2012_07</td>\n",
       "      <td>BF-09_gamb_2012_Q3</td>\n",
       "      <td>BF-09_Houet_gamb_2012</td>\n",
       "      <td>BF-09_Houet_gamb_2012_07</td>\n",
       "      <td>BF-09_Houet_gamb_2012_Q3</td>\n",
       "    </tr>\n",
       "    <tr>\n",
       "      <th>82</th>\n",
       "      <td>AB0086-Cx</td>\n",
       "      <td>BF2-6</td>\n",
       "      <td>Austin Burt</td>\n",
       "      <td>Burkina Faso</td>\n",
       "      <td>Pala</td>\n",
       "      <td>2012</td>\n",
       "      <td>7</td>\n",
       "      <td>11.151</td>\n",
       "      <td>-4.235</td>\n",
       "      <td>F</td>\n",
       "      <td>...</td>\n",
       "      <td>Hauts-Bassins</td>\n",
       "      <td>BF-09</td>\n",
       "      <td>Houet</td>\n",
       "      <td>gambiae</td>\n",
       "      <td>BF-09_gamb_2012</td>\n",
       "      <td>BF-09_gamb_2012_07</td>\n",
       "      <td>BF-09_gamb_2012_Q3</td>\n",
       "      <td>BF-09_Houet_gamb_2012</td>\n",
       "      <td>BF-09_Houet_gamb_2012_07</td>\n",
       "      <td>BF-09_Houet_gamb_2012_Q3</td>\n",
       "    </tr>\n",
       "    <tr>\n",
       "      <th>83</th>\n",
       "      <td>AB0087-C</td>\n",
       "      <td>BF3-3</td>\n",
       "      <td>Austin Burt</td>\n",
       "      <td>Burkina Faso</td>\n",
       "      <td>Bana Village</td>\n",
       "      <td>2012</td>\n",
       "      <td>7</td>\n",
       "      <td>11.233</td>\n",
       "      <td>-4.472</td>\n",
       "      <td>F</td>\n",
       "      <td>...</td>\n",
       "      <td>Hauts-Bassins</td>\n",
       "      <td>BF-09</td>\n",
       "      <td>Houet</td>\n",
       "      <td>coluzzii</td>\n",
       "      <td>BF-09_colu_2012</td>\n",
       "      <td>BF-09_colu_2012_07</td>\n",
       "      <td>BF-09_colu_2012_Q3</td>\n",
       "      <td>BF-09_Houet_colu_2012</td>\n",
       "      <td>BF-09_Houet_colu_2012_07</td>\n",
       "      <td>BF-09_Houet_colu_2012_Q3</td>\n",
       "    </tr>\n",
       "    <tr>\n",
       "      <th>84</th>\n",
       "      <td>AB0088-C</td>\n",
       "      <td>BF3-5</td>\n",
       "      <td>Austin Burt</td>\n",
       "      <td>Burkina Faso</td>\n",
       "      <td>Bana Village</td>\n",
       "      <td>2012</td>\n",
       "      <td>7</td>\n",
       "      <td>11.233</td>\n",
       "      <td>-4.472</td>\n",
       "      <td>F</td>\n",
       "      <td>...</td>\n",
       "      <td>Hauts-Bassins</td>\n",
       "      <td>BF-09</td>\n",
       "      <td>Houet</td>\n",
       "      <td>coluzzii</td>\n",
       "      <td>BF-09_colu_2012</td>\n",
       "      <td>BF-09_colu_2012_07</td>\n",
       "      <td>BF-09_colu_2012_Q3</td>\n",
       "      <td>BF-09_Houet_colu_2012</td>\n",
       "      <td>BF-09_Houet_colu_2012_07</td>\n",
       "      <td>BF-09_Houet_colu_2012_Q3</td>\n",
       "    </tr>\n",
       "    <tr>\n",
       "      <th>85</th>\n",
       "      <td>AB0089-Cx</td>\n",
       "      <td>BF3-8</td>\n",
       "      <td>Austin Burt</td>\n",
       "      <td>Burkina Faso</td>\n",
       "      <td>Bana Village</td>\n",
       "      <td>2012</td>\n",
       "      <td>7</td>\n",
       "      <td>11.233</td>\n",
       "      <td>-4.472</td>\n",
       "      <td>F</td>\n",
       "      <td>...</td>\n",
       "      <td>Hauts-Bassins</td>\n",
       "      <td>BF-09</td>\n",
       "      <td>Houet</td>\n",
       "      <td>coluzzii</td>\n",
       "      <td>BF-09_colu_2012</td>\n",
       "      <td>BF-09_colu_2012_07</td>\n",
       "      <td>BF-09_colu_2012_Q3</td>\n",
       "      <td>BF-09_Houet_colu_2012</td>\n",
       "      <td>BF-09_Houet_colu_2012_07</td>\n",
       "      <td>BF-09_Houet_colu_2012_Q3</td>\n",
       "    </tr>\n",
       "    <tr>\n",
       "      <th>...</th>\n",
       "      <td>...</td>\n",
       "      <td>...</td>\n",
       "      <td>...</td>\n",
       "      <td>...</td>\n",
       "      <td>...</td>\n",
       "      <td>...</td>\n",
       "      <td>...</td>\n",
       "      <td>...</td>\n",
       "      <td>...</td>\n",
       "      <td>...</td>\n",
       "      <td>...</td>\n",
       "      <td>...</td>\n",
       "      <td>...</td>\n",
       "      <td>...</td>\n",
       "      <td>...</td>\n",
       "      <td>...</td>\n",
       "      <td>...</td>\n",
       "      <td>...</td>\n",
       "      <td>...</td>\n",
       "      <td>...</td>\n",
       "      <td>...</td>\n",
       "    </tr>\n",
       "    <tr>\n",
       "      <th>372</th>\n",
       "      <td>AB0314-C</td>\n",
       "      <td>6775</td>\n",
       "      <td>Nora Besansky</td>\n",
       "      <td>Burkina Faso</td>\n",
       "      <td>Monomtenga</td>\n",
       "      <td>2004</td>\n",
       "      <td>8</td>\n",
       "      <td>12.060</td>\n",
       "      <td>-1.170</td>\n",
       "      <td>F</td>\n",
       "      <td>...</td>\n",
       "      <td>Centre-Sud</td>\n",
       "      <td>BF-07</td>\n",
       "      <td>Bazega</td>\n",
       "      <td>gambiae</td>\n",
       "      <td>BF-07_gamb_2004</td>\n",
       "      <td>BF-07_gamb_2004_08</td>\n",
       "      <td>BF-07_gamb_2004_Q3</td>\n",
       "      <td>BF-07_Bazega_gamb_2004</td>\n",
       "      <td>BF-07_Bazega_gamb_2004_08</td>\n",
       "      <td>BF-07_Bazega_gamb_2004_Q3</td>\n",
       "    </tr>\n",
       "    <tr>\n",
       "      <th>373</th>\n",
       "      <td>AB0315-C</td>\n",
       "      <td>6777</td>\n",
       "      <td>Nora Besansky</td>\n",
       "      <td>Burkina Faso</td>\n",
       "      <td>Monomtenga</td>\n",
       "      <td>2004</td>\n",
       "      <td>8</td>\n",
       "      <td>12.060</td>\n",
       "      <td>-1.170</td>\n",
       "      <td>F</td>\n",
       "      <td>...</td>\n",
       "      <td>Centre-Sud</td>\n",
       "      <td>BF-07</td>\n",
       "      <td>Bazega</td>\n",
       "      <td>gambiae</td>\n",
       "      <td>BF-07_gamb_2004</td>\n",
       "      <td>BF-07_gamb_2004_08</td>\n",
       "      <td>BF-07_gamb_2004_Q3</td>\n",
       "      <td>BF-07_Bazega_gamb_2004</td>\n",
       "      <td>BF-07_Bazega_gamb_2004_08</td>\n",
       "      <td>BF-07_Bazega_gamb_2004_Q3</td>\n",
       "    </tr>\n",
       "    <tr>\n",
       "      <th>374</th>\n",
       "      <td>AB0316-C</td>\n",
       "      <td>6779</td>\n",
       "      <td>Nora Besansky</td>\n",
       "      <td>Burkina Faso</td>\n",
       "      <td>Monomtenga</td>\n",
       "      <td>2004</td>\n",
       "      <td>8</td>\n",
       "      <td>12.060</td>\n",
       "      <td>-1.170</td>\n",
       "      <td>F</td>\n",
       "      <td>...</td>\n",
       "      <td>Centre-Sud</td>\n",
       "      <td>BF-07</td>\n",
       "      <td>Bazega</td>\n",
       "      <td>gambiae</td>\n",
       "      <td>BF-07_gamb_2004</td>\n",
       "      <td>BF-07_gamb_2004_08</td>\n",
       "      <td>BF-07_gamb_2004_Q3</td>\n",
       "      <td>BF-07_Bazega_gamb_2004</td>\n",
       "      <td>BF-07_Bazega_gamb_2004_08</td>\n",
       "      <td>BF-07_Bazega_gamb_2004_Q3</td>\n",
       "    </tr>\n",
       "    <tr>\n",
       "      <th>375</th>\n",
       "      <td>AB0318-C</td>\n",
       "      <td>5072</td>\n",
       "      <td>Nora Besansky</td>\n",
       "      <td>Burkina Faso</td>\n",
       "      <td>Monomtenga</td>\n",
       "      <td>2004</td>\n",
       "      <td>7</td>\n",
       "      <td>12.060</td>\n",
       "      <td>-1.170</td>\n",
       "      <td>F</td>\n",
       "      <td>...</td>\n",
       "      <td>Centre-Sud</td>\n",
       "      <td>BF-07</td>\n",
       "      <td>Bazega</td>\n",
       "      <td>gambiae</td>\n",
       "      <td>BF-07_gamb_2004</td>\n",
       "      <td>BF-07_gamb_2004_07</td>\n",
       "      <td>BF-07_gamb_2004_Q3</td>\n",
       "      <td>BF-07_Bazega_gamb_2004</td>\n",
       "      <td>BF-07_Bazega_gamb_2004_07</td>\n",
       "      <td>BF-07_Bazega_gamb_2004_Q3</td>\n",
       "    </tr>\n",
       "    <tr>\n",
       "      <th>376</th>\n",
       "      <td>AB0325-C</td>\n",
       "      <td>1403</td>\n",
       "      <td>Nora Besansky</td>\n",
       "      <td>Burkina Faso</td>\n",
       "      <td>Monomtenga</td>\n",
       "      <td>2004</td>\n",
       "      <td>6</td>\n",
       "      <td>12.060</td>\n",
       "      <td>-1.170</td>\n",
       "      <td>F</td>\n",
       "      <td>...</td>\n",
       "      <td>Centre-Sud</td>\n",
       "      <td>BF-07</td>\n",
       "      <td>Bazega</td>\n",
       "      <td>gambiae</td>\n",
       "      <td>BF-07_gamb_2004</td>\n",
       "      <td>BF-07_gamb_2004_06</td>\n",
       "      <td>BF-07_gamb_2004_Q2</td>\n",
       "      <td>BF-07_Bazega_gamb_2004</td>\n",
       "      <td>BF-07_Bazega_gamb_2004_06</td>\n",
       "      <td>BF-07_Bazega_gamb_2004_Q2</td>\n",
       "    </tr>\n",
       "  </tbody>\n",
       "</table>\n",
       "<p>296 rows × 32 columns</p>\n",
       "</div>"
      ],
      "text/plain": [
       "     sample_id partner_sample_id    contributor       country      location  \\\n",
       "81   AB0085-Cx             BF2-4    Austin Burt  Burkina Faso          Pala   \n",
       "82   AB0086-Cx             BF2-6    Austin Burt  Burkina Faso          Pala   \n",
       "83    AB0087-C             BF3-3    Austin Burt  Burkina Faso  Bana Village   \n",
       "84    AB0088-C             BF3-5    Austin Burt  Burkina Faso  Bana Village   \n",
       "85   AB0089-Cx             BF3-8    Austin Burt  Burkina Faso  Bana Village   \n",
       "..         ...               ...            ...           ...           ...   \n",
       "372   AB0314-C              6775  Nora Besansky  Burkina Faso    Monomtenga   \n",
       "373   AB0315-C              6777  Nora Besansky  Burkina Faso    Monomtenga   \n",
       "374   AB0316-C              6779  Nora Besansky  Burkina Faso    Monomtenga   \n",
       "375   AB0318-C              5072  Nora Besansky  Burkina Faso    Monomtenga   \n",
       "376   AB0325-C              1403  Nora Besansky  Burkina Faso    Monomtenga   \n",
       "\n",
       "     year  month  latitude  longitude sex_call  ...    admin1_name admin1_iso  \\\n",
       "81   2012      7    11.151     -4.235        F  ...  Hauts-Bassins      BF-09   \n",
       "82   2012      7    11.151     -4.235        F  ...  Hauts-Bassins      BF-09   \n",
       "83   2012      7    11.233     -4.472        F  ...  Hauts-Bassins      BF-09   \n",
       "84   2012      7    11.233     -4.472        F  ...  Hauts-Bassins      BF-09   \n",
       "85   2012      7    11.233     -4.472        F  ...  Hauts-Bassins      BF-09   \n",
       "..    ...    ...       ...        ...      ...  ...            ...        ...   \n",
       "372  2004      8    12.060     -1.170        F  ...     Centre-Sud      BF-07   \n",
       "373  2004      8    12.060     -1.170        F  ...     Centre-Sud      BF-07   \n",
       "374  2004      8    12.060     -1.170        F  ...     Centre-Sud      BF-07   \n",
       "375  2004      7    12.060     -1.170        F  ...     Centre-Sud      BF-07   \n",
       "376  2004      6    12.060     -1.170        F  ...     Centre-Sud      BF-07   \n",
       "\n",
       "     admin2_name     taxon cohort_admin1_year  cohort_admin1_month  \\\n",
       "81         Houet   gambiae    BF-09_gamb_2012   BF-09_gamb_2012_07   \n",
       "82         Houet   gambiae    BF-09_gamb_2012   BF-09_gamb_2012_07   \n",
       "83         Houet  coluzzii    BF-09_colu_2012   BF-09_colu_2012_07   \n",
       "84         Houet  coluzzii    BF-09_colu_2012   BF-09_colu_2012_07   \n",
       "85         Houet  coluzzii    BF-09_colu_2012   BF-09_colu_2012_07   \n",
       "..           ...       ...                ...                  ...   \n",
       "372       Bazega   gambiae    BF-07_gamb_2004   BF-07_gamb_2004_08   \n",
       "373       Bazega   gambiae    BF-07_gamb_2004   BF-07_gamb_2004_08   \n",
       "374       Bazega   gambiae    BF-07_gamb_2004   BF-07_gamb_2004_08   \n",
       "375       Bazega   gambiae    BF-07_gamb_2004   BF-07_gamb_2004_07   \n",
       "376       Bazega   gambiae    BF-07_gamb_2004   BF-07_gamb_2004_06   \n",
       "\n",
       "     cohort_admin1_quarter      cohort_admin2_year        cohort_admin2_month  \\\n",
       "81      BF-09_gamb_2012_Q3   BF-09_Houet_gamb_2012   BF-09_Houet_gamb_2012_07   \n",
       "82      BF-09_gamb_2012_Q3   BF-09_Houet_gamb_2012   BF-09_Houet_gamb_2012_07   \n",
       "83      BF-09_colu_2012_Q3   BF-09_Houet_colu_2012   BF-09_Houet_colu_2012_07   \n",
       "84      BF-09_colu_2012_Q3   BF-09_Houet_colu_2012   BF-09_Houet_colu_2012_07   \n",
       "85      BF-09_colu_2012_Q3   BF-09_Houet_colu_2012   BF-09_Houet_colu_2012_07   \n",
       "..                     ...                     ...                        ...   \n",
       "372     BF-07_gamb_2004_Q3  BF-07_Bazega_gamb_2004  BF-07_Bazega_gamb_2004_08   \n",
       "373     BF-07_gamb_2004_Q3  BF-07_Bazega_gamb_2004  BF-07_Bazega_gamb_2004_08   \n",
       "374     BF-07_gamb_2004_Q3  BF-07_Bazega_gamb_2004  BF-07_Bazega_gamb_2004_08   \n",
       "375     BF-07_gamb_2004_Q3  BF-07_Bazega_gamb_2004  BF-07_Bazega_gamb_2004_07   \n",
       "376     BF-07_gamb_2004_Q2  BF-07_Bazega_gamb_2004  BF-07_Bazega_gamb_2004_06   \n",
       "\n",
       "         cohort_admin2_quarter  \n",
       "81    BF-09_Houet_gamb_2012_Q3  \n",
       "82    BF-09_Houet_gamb_2012_Q3  \n",
       "83    BF-09_Houet_colu_2012_Q3  \n",
       "84    BF-09_Houet_colu_2012_Q3  \n",
       "85    BF-09_Houet_colu_2012_Q3  \n",
       "..                         ...  \n",
       "372  BF-07_Bazega_gamb_2004_Q3  \n",
       "373  BF-07_Bazega_gamb_2004_Q3  \n",
       "374  BF-07_Bazega_gamb_2004_Q3  \n",
       "375  BF-07_Bazega_gamb_2004_Q3  \n",
       "376  BF-07_Bazega_gamb_2004_Q2  \n",
       "\n",
       "[296 rows x 32 columns]"
      ]
     },
     "execution_count": 10,
     "metadata": {},
     "output_type": "execute_result"
    }
   ],
   "source": [
    "df_samples.query(\"country == 'Burkina Faso'\")"
   ]
  },
  {
   "cell_type": "markdown",
   "id": "j_Ehk5td_JxR",
   "metadata": {
    "id": "j_Ehk5td_JxR"
   },
   "source": [
    "From a quick glance at the preview above, we can see there are samples collected in different years. Let's summarise that."
   ]
  },
  {
   "cell_type": "code",
   "execution_count": 11,
   "id": "n9x_EFhR_Swe",
   "metadata": {
    "colab": {
     "base_uri": "https://localhost:8080/"
    },
    "id": "n9x_EFhR_Swe",
    "outputId": "8231dce5-83f3-4ac5-9196-58824725977a",
    "tags": []
   },
   "outputs": [
    {
     "data": {
      "text/plain": [
       "year\n",
       "2004     13\n",
       "2012    181\n",
       "2014    102\n",
       "dtype: int64"
      ]
     },
     "execution_count": 11,
     "metadata": {},
     "output_type": "execute_result"
    }
   ],
   "source": [
    "df_samples.query(\"country == 'Burkina Faso'\").groupby(\"year\").size()"
   ]
  },
  {
   "cell_type": "markdown",
   "id": "X_PvOHwc_f5b",
   "metadata": {
    "id": "X_PvOHwc_f5b"
   },
   "source": [
    "If we wanted to now inspect the samples collected from Burkina Faso in 2014, we could combine these conditions in a query."
   ]
  },
  {
   "cell_type": "code",
   "execution_count": 12,
   "id": "uEkY2Fev_g2M",
   "metadata": {
    "colab": {
     "base_uri": "https://localhost:8080/",
     "height": 661
    },
    "id": "uEkY2Fev_g2M",
    "outputId": "af3c2c00-9d1b-4fc8-a65d-aad4e2afd0c4",
    "tags": []
   },
   "outputs": [
    {
     "data": {
      "text/html": [
       "<div>\n",
       "<style scoped>\n",
       "    .dataframe tbody tr th:only-of-type {\n",
       "        vertical-align: middle;\n",
       "    }\n",
       "\n",
       "    .dataframe tbody tr th {\n",
       "        vertical-align: top;\n",
       "    }\n",
       "\n",
       "    .dataframe thead th {\n",
       "        text-align: right;\n",
       "    }\n",
       "</style>\n",
       "<table border=\"1\" class=\"dataframe\">\n",
       "  <thead>\n",
       "    <tr style=\"text-align: right;\">\n",
       "      <th></th>\n",
       "      <th>sample_id</th>\n",
       "      <th>partner_sample_id</th>\n",
       "      <th>contributor</th>\n",
       "      <th>country</th>\n",
       "      <th>location</th>\n",
       "      <th>year</th>\n",
       "      <th>month</th>\n",
       "      <th>latitude</th>\n",
       "      <th>longitude</th>\n",
       "      <th>sex_call</th>\n",
       "      <th>...</th>\n",
       "      <th>admin1_name</th>\n",
       "      <th>admin1_iso</th>\n",
       "      <th>admin2_name</th>\n",
       "      <th>taxon</th>\n",
       "      <th>cohort_admin1_year</th>\n",
       "      <th>cohort_admin1_month</th>\n",
       "      <th>cohort_admin1_quarter</th>\n",
       "      <th>cohort_admin2_year</th>\n",
       "      <th>cohort_admin2_month</th>\n",
       "      <th>cohort_admin2_quarter</th>\n",
       "    </tr>\n",
       "  </thead>\n",
       "  <tbody>\n",
       "    <tr>\n",
       "      <th>262</th>\n",
       "      <td>AB0326-C</td>\n",
       "      <td>BF18-1</td>\n",
       "      <td>Austin Burt</td>\n",
       "      <td>Burkina Faso</td>\n",
       "      <td>Bana Village</td>\n",
       "      <td>2014</td>\n",
       "      <td>7</td>\n",
       "      <td>11.233</td>\n",
       "      <td>-4.472</td>\n",
       "      <td>F</td>\n",
       "      <td>...</td>\n",
       "      <td>Hauts-Bassins</td>\n",
       "      <td>BF-09</td>\n",
       "      <td>Houet</td>\n",
       "      <td>coluzzii</td>\n",
       "      <td>BF-09_colu_2014</td>\n",
       "      <td>BF-09_colu_2014_07</td>\n",
       "      <td>BF-09_colu_2014_Q3</td>\n",
       "      <td>BF-09_Houet_colu_2014</td>\n",
       "      <td>BF-09_Houet_colu_2014_07</td>\n",
       "      <td>BF-09_Houet_colu_2014_Q3</td>\n",
       "    </tr>\n",
       "    <tr>\n",
       "      <th>263</th>\n",
       "      <td>AB0327-C</td>\n",
       "      <td>BF18-3</td>\n",
       "      <td>Austin Burt</td>\n",
       "      <td>Burkina Faso</td>\n",
       "      <td>Bana Village</td>\n",
       "      <td>2014</td>\n",
       "      <td>7</td>\n",
       "      <td>11.233</td>\n",
       "      <td>-4.472</td>\n",
       "      <td>F</td>\n",
       "      <td>...</td>\n",
       "      <td>Hauts-Bassins</td>\n",
       "      <td>BF-09</td>\n",
       "      <td>Houet</td>\n",
       "      <td>coluzzii</td>\n",
       "      <td>BF-09_colu_2014</td>\n",
       "      <td>BF-09_colu_2014_07</td>\n",
       "      <td>BF-09_colu_2014_Q3</td>\n",
       "      <td>BF-09_Houet_colu_2014</td>\n",
       "      <td>BF-09_Houet_colu_2014_07</td>\n",
       "      <td>BF-09_Houet_colu_2014_Q3</td>\n",
       "    </tr>\n",
       "    <tr>\n",
       "      <th>264</th>\n",
       "      <td>AB0328-C</td>\n",
       "      <td>BF18-4</td>\n",
       "      <td>Austin Burt</td>\n",
       "      <td>Burkina Faso</td>\n",
       "      <td>Bana Village</td>\n",
       "      <td>2014</td>\n",
       "      <td>7</td>\n",
       "      <td>11.233</td>\n",
       "      <td>-4.472</td>\n",
       "      <td>F</td>\n",
       "      <td>...</td>\n",
       "      <td>Hauts-Bassins</td>\n",
       "      <td>BF-09</td>\n",
       "      <td>Houet</td>\n",
       "      <td>coluzzii</td>\n",
       "      <td>BF-09_colu_2014</td>\n",
       "      <td>BF-09_colu_2014_07</td>\n",
       "      <td>BF-09_colu_2014_Q3</td>\n",
       "      <td>BF-09_Houet_colu_2014</td>\n",
       "      <td>BF-09_Houet_colu_2014_07</td>\n",
       "      <td>BF-09_Houet_colu_2014_Q3</td>\n",
       "    </tr>\n",
       "    <tr>\n",
       "      <th>265</th>\n",
       "      <td>AB0329-C</td>\n",
       "      <td>BF18-5</td>\n",
       "      <td>Austin Burt</td>\n",
       "      <td>Burkina Faso</td>\n",
       "      <td>Bana Village</td>\n",
       "      <td>2014</td>\n",
       "      <td>7</td>\n",
       "      <td>11.233</td>\n",
       "      <td>-4.472</td>\n",
       "      <td>F</td>\n",
       "      <td>...</td>\n",
       "      <td>Hauts-Bassins</td>\n",
       "      <td>BF-09</td>\n",
       "      <td>Houet</td>\n",
       "      <td>coluzzii</td>\n",
       "      <td>BF-09_colu_2014</td>\n",
       "      <td>BF-09_colu_2014_07</td>\n",
       "      <td>BF-09_colu_2014_Q3</td>\n",
       "      <td>BF-09_Houet_colu_2014</td>\n",
       "      <td>BF-09_Houet_colu_2014_07</td>\n",
       "      <td>BF-09_Houet_colu_2014_Q3</td>\n",
       "    </tr>\n",
       "    <tr>\n",
       "      <th>266</th>\n",
       "      <td>AB0330-C</td>\n",
       "      <td>BF18-6</td>\n",
       "      <td>Austin Burt</td>\n",
       "      <td>Burkina Faso</td>\n",
       "      <td>Bana Village</td>\n",
       "      <td>2014</td>\n",
       "      <td>7</td>\n",
       "      <td>11.233</td>\n",
       "      <td>-4.472</td>\n",
       "      <td>F</td>\n",
       "      <td>...</td>\n",
       "      <td>Hauts-Bassins</td>\n",
       "      <td>BF-09</td>\n",
       "      <td>Houet</td>\n",
       "      <td>coluzzii</td>\n",
       "      <td>BF-09_colu_2014</td>\n",
       "      <td>BF-09_colu_2014_07</td>\n",
       "      <td>BF-09_colu_2014_Q3</td>\n",
       "      <td>BF-09_Houet_colu_2014</td>\n",
       "      <td>BF-09_Houet_colu_2014_07</td>\n",
       "      <td>BF-09_Houet_colu_2014_Q3</td>\n",
       "    </tr>\n",
       "    <tr>\n",
       "      <th>...</th>\n",
       "      <td>...</td>\n",
       "      <td>...</td>\n",
       "      <td>...</td>\n",
       "      <td>...</td>\n",
       "      <td>...</td>\n",
       "      <td>...</td>\n",
       "      <td>...</td>\n",
       "      <td>...</td>\n",
       "      <td>...</td>\n",
       "      <td>...</td>\n",
       "      <td>...</td>\n",
       "      <td>...</td>\n",
       "      <td>...</td>\n",
       "      <td>...</td>\n",
       "      <td>...</td>\n",
       "      <td>...</td>\n",
       "      <td>...</td>\n",
       "      <td>...</td>\n",
       "      <td>...</td>\n",
       "      <td>...</td>\n",
       "      <td>...</td>\n",
       "    </tr>\n",
       "    <tr>\n",
       "      <th>359</th>\n",
       "      <td>AB0533-C</td>\n",
       "      <td>BF13-18</td>\n",
       "      <td>Austin Burt</td>\n",
       "      <td>Burkina Faso</td>\n",
       "      <td>Souroukoudinga</td>\n",
       "      <td>2014</td>\n",
       "      <td>7</td>\n",
       "      <td>11.238</td>\n",
       "      <td>-4.235</td>\n",
       "      <td>F</td>\n",
       "      <td>...</td>\n",
       "      <td>Hauts-Bassins</td>\n",
       "      <td>BF-09</td>\n",
       "      <td>Houet</td>\n",
       "      <td>gambiae</td>\n",
       "      <td>BF-09_gamb_2014</td>\n",
       "      <td>BF-09_gamb_2014_07</td>\n",
       "      <td>BF-09_gamb_2014_Q3</td>\n",
       "      <td>BF-09_Houet_gamb_2014</td>\n",
       "      <td>BF-09_Houet_gamb_2014_07</td>\n",
       "      <td>BF-09_Houet_gamb_2014_Q3</td>\n",
       "    </tr>\n",
       "    <tr>\n",
       "      <th>360</th>\n",
       "      <td>AB0536-C</td>\n",
       "      <td>BF13-31</td>\n",
       "      <td>Austin Burt</td>\n",
       "      <td>Burkina Faso</td>\n",
       "      <td>Souroukoudinga</td>\n",
       "      <td>2014</td>\n",
       "      <td>7</td>\n",
       "      <td>11.238</td>\n",
       "      <td>-4.235</td>\n",
       "      <td>F</td>\n",
       "      <td>...</td>\n",
       "      <td>Hauts-Bassins</td>\n",
       "      <td>BF-09</td>\n",
       "      <td>Houet</td>\n",
       "      <td>gambiae</td>\n",
       "      <td>BF-09_gamb_2014</td>\n",
       "      <td>BF-09_gamb_2014_07</td>\n",
       "      <td>BF-09_gamb_2014_Q3</td>\n",
       "      <td>BF-09_Houet_gamb_2014</td>\n",
       "      <td>BF-09_Houet_gamb_2014_07</td>\n",
       "      <td>BF-09_Houet_gamb_2014_Q3</td>\n",
       "    </tr>\n",
       "    <tr>\n",
       "      <th>361</th>\n",
       "      <td>AB0537-C</td>\n",
       "      <td>BF13-32</td>\n",
       "      <td>Austin Burt</td>\n",
       "      <td>Burkina Faso</td>\n",
       "      <td>Souroukoudinga</td>\n",
       "      <td>2014</td>\n",
       "      <td>7</td>\n",
       "      <td>11.238</td>\n",
       "      <td>-4.235</td>\n",
       "      <td>F</td>\n",
       "      <td>...</td>\n",
       "      <td>Hauts-Bassins</td>\n",
       "      <td>BF-09</td>\n",
       "      <td>Houet</td>\n",
       "      <td>gambiae</td>\n",
       "      <td>BF-09_gamb_2014</td>\n",
       "      <td>BF-09_gamb_2014_07</td>\n",
       "      <td>BF-09_gamb_2014_Q3</td>\n",
       "      <td>BF-09_Houet_gamb_2014</td>\n",
       "      <td>BF-09_Houet_gamb_2014_07</td>\n",
       "      <td>BF-09_Houet_gamb_2014_Q3</td>\n",
       "    </tr>\n",
       "    <tr>\n",
       "      <th>362</th>\n",
       "      <td>AB0538-C</td>\n",
       "      <td>BF13-33</td>\n",
       "      <td>Austin Burt</td>\n",
       "      <td>Burkina Faso</td>\n",
       "      <td>Souroukoudinga</td>\n",
       "      <td>2014</td>\n",
       "      <td>7</td>\n",
       "      <td>11.238</td>\n",
       "      <td>-4.235</td>\n",
       "      <td>F</td>\n",
       "      <td>...</td>\n",
       "      <td>Hauts-Bassins</td>\n",
       "      <td>BF-09</td>\n",
       "      <td>Houet</td>\n",
       "      <td>gambiae</td>\n",
       "      <td>BF-09_gamb_2014</td>\n",
       "      <td>BF-09_gamb_2014_07</td>\n",
       "      <td>BF-09_gamb_2014_Q3</td>\n",
       "      <td>BF-09_Houet_gamb_2014</td>\n",
       "      <td>BF-09_Houet_gamb_2014_07</td>\n",
       "      <td>BF-09_Houet_gamb_2014_Q3</td>\n",
       "    </tr>\n",
       "    <tr>\n",
       "      <th>363</th>\n",
       "      <td>AB0408-C</td>\n",
       "      <td>BF14-20</td>\n",
       "      <td>Austin Burt</td>\n",
       "      <td>Burkina Faso</td>\n",
       "      <td>Bana Village</td>\n",
       "      <td>2014</td>\n",
       "      <td>7</td>\n",
       "      <td>11.233</td>\n",
       "      <td>-4.472</td>\n",
       "      <td>F</td>\n",
       "      <td>...</td>\n",
       "      <td>Hauts-Bassins</td>\n",
       "      <td>BF-09</td>\n",
       "      <td>Houet</td>\n",
       "      <td>coluzzii</td>\n",
       "      <td>BF-09_colu_2014</td>\n",
       "      <td>BF-09_colu_2014_07</td>\n",
       "      <td>BF-09_colu_2014_Q3</td>\n",
       "      <td>BF-09_Houet_colu_2014</td>\n",
       "      <td>BF-09_Houet_colu_2014_07</td>\n",
       "      <td>BF-09_Houet_colu_2014_Q3</td>\n",
       "    </tr>\n",
       "  </tbody>\n",
       "</table>\n",
       "<p>102 rows × 32 columns</p>\n",
       "</div>"
      ],
      "text/plain": [
       "    sample_id partner_sample_id  contributor       country        location  \\\n",
       "262  AB0326-C            BF18-1  Austin Burt  Burkina Faso    Bana Village   \n",
       "263  AB0327-C            BF18-3  Austin Burt  Burkina Faso    Bana Village   \n",
       "264  AB0328-C            BF18-4  Austin Burt  Burkina Faso    Bana Village   \n",
       "265  AB0329-C            BF18-5  Austin Burt  Burkina Faso    Bana Village   \n",
       "266  AB0330-C            BF18-6  Austin Burt  Burkina Faso    Bana Village   \n",
       "..        ...               ...          ...           ...             ...   \n",
       "359  AB0533-C           BF13-18  Austin Burt  Burkina Faso  Souroukoudinga   \n",
       "360  AB0536-C           BF13-31  Austin Burt  Burkina Faso  Souroukoudinga   \n",
       "361  AB0537-C           BF13-32  Austin Burt  Burkina Faso  Souroukoudinga   \n",
       "362  AB0538-C           BF13-33  Austin Burt  Burkina Faso  Souroukoudinga   \n",
       "363  AB0408-C           BF14-20  Austin Burt  Burkina Faso    Bana Village   \n",
       "\n",
       "     year  month  latitude  longitude sex_call  ...    admin1_name admin1_iso  \\\n",
       "262  2014      7    11.233     -4.472        F  ...  Hauts-Bassins      BF-09   \n",
       "263  2014      7    11.233     -4.472        F  ...  Hauts-Bassins      BF-09   \n",
       "264  2014      7    11.233     -4.472        F  ...  Hauts-Bassins      BF-09   \n",
       "265  2014      7    11.233     -4.472        F  ...  Hauts-Bassins      BF-09   \n",
       "266  2014      7    11.233     -4.472        F  ...  Hauts-Bassins      BF-09   \n",
       "..    ...    ...       ...        ...      ...  ...            ...        ...   \n",
       "359  2014      7    11.238     -4.235        F  ...  Hauts-Bassins      BF-09   \n",
       "360  2014      7    11.238     -4.235        F  ...  Hauts-Bassins      BF-09   \n",
       "361  2014      7    11.238     -4.235        F  ...  Hauts-Bassins      BF-09   \n",
       "362  2014      7    11.238     -4.235        F  ...  Hauts-Bassins      BF-09   \n",
       "363  2014      7    11.233     -4.472        F  ...  Hauts-Bassins      BF-09   \n",
       "\n",
       "     admin2_name     taxon cohort_admin1_year  cohort_admin1_month  \\\n",
       "262        Houet  coluzzii    BF-09_colu_2014   BF-09_colu_2014_07   \n",
       "263        Houet  coluzzii    BF-09_colu_2014   BF-09_colu_2014_07   \n",
       "264        Houet  coluzzii    BF-09_colu_2014   BF-09_colu_2014_07   \n",
       "265        Houet  coluzzii    BF-09_colu_2014   BF-09_colu_2014_07   \n",
       "266        Houet  coluzzii    BF-09_colu_2014   BF-09_colu_2014_07   \n",
       "..           ...       ...                ...                  ...   \n",
       "359        Houet   gambiae    BF-09_gamb_2014   BF-09_gamb_2014_07   \n",
       "360        Houet   gambiae    BF-09_gamb_2014   BF-09_gamb_2014_07   \n",
       "361        Houet   gambiae    BF-09_gamb_2014   BF-09_gamb_2014_07   \n",
       "362        Houet   gambiae    BF-09_gamb_2014   BF-09_gamb_2014_07   \n",
       "363        Houet  coluzzii    BF-09_colu_2014   BF-09_colu_2014_07   \n",
       "\n",
       "     cohort_admin1_quarter     cohort_admin2_year       cohort_admin2_month  \\\n",
       "262     BF-09_colu_2014_Q3  BF-09_Houet_colu_2014  BF-09_Houet_colu_2014_07   \n",
       "263     BF-09_colu_2014_Q3  BF-09_Houet_colu_2014  BF-09_Houet_colu_2014_07   \n",
       "264     BF-09_colu_2014_Q3  BF-09_Houet_colu_2014  BF-09_Houet_colu_2014_07   \n",
       "265     BF-09_colu_2014_Q3  BF-09_Houet_colu_2014  BF-09_Houet_colu_2014_07   \n",
       "266     BF-09_colu_2014_Q3  BF-09_Houet_colu_2014  BF-09_Houet_colu_2014_07   \n",
       "..                     ...                    ...                       ...   \n",
       "359     BF-09_gamb_2014_Q3  BF-09_Houet_gamb_2014  BF-09_Houet_gamb_2014_07   \n",
       "360     BF-09_gamb_2014_Q3  BF-09_Houet_gamb_2014  BF-09_Houet_gamb_2014_07   \n",
       "361     BF-09_gamb_2014_Q3  BF-09_Houet_gamb_2014  BF-09_Houet_gamb_2014_07   \n",
       "362     BF-09_gamb_2014_Q3  BF-09_Houet_gamb_2014  BF-09_Houet_gamb_2014_07   \n",
       "363     BF-09_colu_2014_Q3  BF-09_Houet_colu_2014  BF-09_Houet_colu_2014_07   \n",
       "\n",
       "        cohort_admin2_quarter  \n",
       "262  BF-09_Houet_colu_2014_Q3  \n",
       "263  BF-09_Houet_colu_2014_Q3  \n",
       "264  BF-09_Houet_colu_2014_Q3  \n",
       "265  BF-09_Houet_colu_2014_Q3  \n",
       "266  BF-09_Houet_colu_2014_Q3  \n",
       "..                        ...  \n",
       "359  BF-09_Houet_gamb_2014_Q3  \n",
       "360  BF-09_Houet_gamb_2014_Q3  \n",
       "361  BF-09_Houet_gamb_2014_Q3  \n",
       "362  BF-09_Houet_gamb_2014_Q3  \n",
       "363  BF-09_Houet_colu_2014_Q3  \n",
       "\n",
       "[102 rows x 32 columns]"
      ]
     },
     "execution_count": 12,
     "metadata": {},
     "output_type": "execute_result"
    }
   ],
   "source": [
    "df_samples.query(\"country == 'Burkina Faso' and year == 2014\")"
   ]
  },
  {
   "cell_type": "markdown",
   "id": "S63fcR_fNqK4",
   "metadata": {
    "id": "S63fcR_fNqK4"
   },
   "source": [
    "Finally, let's break this down by mosquito species."
   ]
  },
  {
   "cell_type": "code",
   "execution_count": 13,
   "id": "lSazVuFBNmiH",
   "metadata": {
    "colab": {
     "base_uri": "https://localhost:8080/"
    },
    "id": "lSazVuFBNmiH",
    "outputId": "86676231-ed30-415c-c475-dad2041aead3",
    "tags": []
   },
   "outputs": [
    {
     "data": {
      "text/plain": [
       "taxon\n",
       "arabiensis     3\n",
       "coluzzii      53\n",
       "gambiae       46\n",
       "dtype: int64"
      ]
     },
     "execution_count": 13,
     "metadata": {},
     "output_type": "execute_result"
    }
   ],
   "source": [
    "df_samples.query(\"country == 'Burkina Faso' and year == 2014\").groupby(\"taxon\").size()"
   ]
  },
  {
   "cell_type": "markdown",
   "id": "64546ccb-afe2-42e0-8869-f2a1cc65d0ef",
   "metadata": {
    "id": "64546ccb-afe2-42e0-8869-f2a1cc65d0ef"
   },
   "source": [
    "## Summarising sample metadata with pivot tables\n",
    "\n",
    "In the examples above we explored a part of the sample metadata, but it can also be useful to get an overall summary of how many samples have been sequenced, broken down by time and place of collection and mosquito species. For that kind of summary the [`pivot_table()`](https://pandas.pydata.org/docs/user_guide/reshaping.html#pivot-tables) function is useful.\n",
    "\n",
    "Let's start by summarising the number of mosquitoes by country and species (taxon)."
   ]
  },
  {
   "cell_type": "code",
   "execution_count": 14,
   "id": "J2rf2GO89adJ",
   "metadata": {
    "colab": {
     "base_uri": "https://localhost:8080/",
     "height": 676
    },
    "id": "J2rf2GO89adJ",
    "outputId": "3221569c-3a46-4988-98b4-e39721951438",
    "tags": []
   },
   "outputs": [
    {
     "data": {
      "text/html": [
       "<div>\n",
       "<style scoped>\n",
       "    .dataframe tbody tr th:only-of-type {\n",
       "        vertical-align: middle;\n",
       "    }\n",
       "\n",
       "    .dataframe tbody tr th {\n",
       "        vertical-align: top;\n",
       "    }\n",
       "\n",
       "    .dataframe thead th {\n",
       "        text-align: right;\n",
       "    }\n",
       "</style>\n",
       "<table border=\"1\" class=\"dataframe\">\n",
       "  <thead>\n",
       "    <tr style=\"text-align: right;\">\n",
       "      <th>taxon</th>\n",
       "      <th>arabiensis</th>\n",
       "      <th>coluzzii</th>\n",
       "      <th>gambiae</th>\n",
       "      <th>gcx1</th>\n",
       "      <th>gcx2</th>\n",
       "      <th>gcx3</th>\n",
       "      <th>unassigned</th>\n",
       "    </tr>\n",
       "    <tr>\n",
       "      <th>country</th>\n",
       "      <th></th>\n",
       "      <th></th>\n",
       "      <th></th>\n",
       "      <th></th>\n",
       "      <th></th>\n",
       "      <th></th>\n",
       "      <th></th>\n",
       "    </tr>\n",
       "  </thead>\n",
       "  <tbody>\n",
       "    <tr>\n",
       "      <th>Angola</th>\n",
       "      <td>0</td>\n",
       "      <td>81</td>\n",
       "      <td>0</td>\n",
       "      <td>0</td>\n",
       "      <td>0</td>\n",
       "      <td>0</td>\n",
       "      <td>0</td>\n",
       "    </tr>\n",
       "    <tr>\n",
       "      <th>Burkina Faso</th>\n",
       "      <td>3</td>\n",
       "      <td>135</td>\n",
       "      <td>158</td>\n",
       "      <td>0</td>\n",
       "      <td>0</td>\n",
       "      <td>0</td>\n",
       "      <td>0</td>\n",
       "    </tr>\n",
       "    <tr>\n",
       "      <th>Cameroon</th>\n",
       "      <td>2</td>\n",
       "      <td>26</td>\n",
       "      <td>416</td>\n",
       "      <td>0</td>\n",
       "      <td>0</td>\n",
       "      <td>0</td>\n",
       "      <td>0</td>\n",
       "    </tr>\n",
       "    <tr>\n",
       "      <th>Central African Republic</th>\n",
       "      <td>0</td>\n",
       "      <td>18</td>\n",
       "      <td>55</td>\n",
       "      <td>0</td>\n",
       "      <td>0</td>\n",
       "      <td>0</td>\n",
       "      <td>0</td>\n",
       "    </tr>\n",
       "    <tr>\n",
       "      <th>Cote d'Ivoire</th>\n",
       "      <td>0</td>\n",
       "      <td>80</td>\n",
       "      <td>0</td>\n",
       "      <td>0</td>\n",
       "      <td>0</td>\n",
       "      <td>0</td>\n",
       "      <td>0</td>\n",
       "    </tr>\n",
       "    <tr>\n",
       "      <th>Democratic Republic of the Congo</th>\n",
       "      <td>0</td>\n",
       "      <td>0</td>\n",
       "      <td>76</td>\n",
       "      <td>0</td>\n",
       "      <td>0</td>\n",
       "      <td>0</td>\n",
       "      <td>0</td>\n",
       "    </tr>\n",
       "    <tr>\n",
       "      <th>Equatorial Guinea</th>\n",
       "      <td>0</td>\n",
       "      <td>0</td>\n",
       "      <td>10</td>\n",
       "      <td>0</td>\n",
       "      <td>0</td>\n",
       "      <td>0</td>\n",
       "      <td>0</td>\n",
       "    </tr>\n",
       "    <tr>\n",
       "      <th>Gabon</th>\n",
       "      <td>0</td>\n",
       "      <td>0</td>\n",
       "      <td>69</td>\n",
       "      <td>0</td>\n",
       "      <td>0</td>\n",
       "      <td>0</td>\n",
       "      <td>0</td>\n",
       "    </tr>\n",
       "    <tr>\n",
       "      <th>Gambia, The</th>\n",
       "      <td>0</td>\n",
       "      <td>0</td>\n",
       "      <td>2</td>\n",
       "      <td>77</td>\n",
       "      <td>200</td>\n",
       "      <td>0</td>\n",
       "      <td>0</td>\n",
       "    </tr>\n",
       "    <tr>\n",
       "      <th>Ghana</th>\n",
       "      <td>0</td>\n",
       "      <td>64</td>\n",
       "      <td>36</td>\n",
       "      <td>0</td>\n",
       "      <td>0</td>\n",
       "      <td>0</td>\n",
       "      <td>0</td>\n",
       "    </tr>\n",
       "    <tr>\n",
       "      <th>Guinea</th>\n",
       "      <td>0</td>\n",
       "      <td>11</td>\n",
       "      <td>125</td>\n",
       "      <td>0</td>\n",
       "      <td>0</td>\n",
       "      <td>0</td>\n",
       "      <td>0</td>\n",
       "    </tr>\n",
       "    <tr>\n",
       "      <th>Guinea-Bissau</th>\n",
       "      <td>0</td>\n",
       "      <td>0</td>\n",
       "      <td>8</td>\n",
       "      <td>93</td>\n",
       "      <td>0</td>\n",
       "      <td>0</td>\n",
       "      <td>0</td>\n",
       "    </tr>\n",
       "    <tr>\n",
       "      <th>Kenya</th>\n",
       "      <td>13</td>\n",
       "      <td>0</td>\n",
       "      <td>19</td>\n",
       "      <td>0</td>\n",
       "      <td>0</td>\n",
       "      <td>54</td>\n",
       "      <td>0</td>\n",
       "    </tr>\n",
       "    <tr>\n",
       "      <th>Lab Cross</th>\n",
       "      <td>0</td>\n",
       "      <td>0</td>\n",
       "      <td>0</td>\n",
       "      <td>0</td>\n",
       "      <td>0</td>\n",
       "      <td>0</td>\n",
       "      <td>297</td>\n",
       "    </tr>\n",
       "    <tr>\n",
       "      <th>Malawi</th>\n",
       "      <td>41</td>\n",
       "      <td>0</td>\n",
       "      <td>0</td>\n",
       "      <td>0</td>\n",
       "      <td>0</td>\n",
       "      <td>0</td>\n",
       "      <td>0</td>\n",
       "    </tr>\n",
       "    <tr>\n",
       "      <th>Mali</th>\n",
       "      <td>2</td>\n",
       "      <td>90</td>\n",
       "      <td>131</td>\n",
       "      <td>0</td>\n",
       "      <td>0</td>\n",
       "      <td>0</td>\n",
       "      <td>2</td>\n",
       "    </tr>\n",
       "    <tr>\n",
       "      <th>Mayotte</th>\n",
       "      <td>0</td>\n",
       "      <td>0</td>\n",
       "      <td>23</td>\n",
       "      <td>0</td>\n",
       "      <td>0</td>\n",
       "      <td>0</td>\n",
       "      <td>0</td>\n",
       "    </tr>\n",
       "    <tr>\n",
       "      <th>Mozambique</th>\n",
       "      <td>0</td>\n",
       "      <td>0</td>\n",
       "      <td>74</td>\n",
       "      <td>0</td>\n",
       "      <td>0</td>\n",
       "      <td>0</td>\n",
       "      <td>0</td>\n",
       "    </tr>\n",
       "    <tr>\n",
       "      <th>Tanzania</th>\n",
       "      <td>225</td>\n",
       "      <td>0</td>\n",
       "      <td>64</td>\n",
       "      <td>0</td>\n",
       "      <td>0</td>\n",
       "      <td>11</td>\n",
       "      <td>0</td>\n",
       "    </tr>\n",
       "    <tr>\n",
       "      <th>Uganda</th>\n",
       "      <td>82</td>\n",
       "      <td>0</td>\n",
       "      <td>207</td>\n",
       "      <td>0</td>\n",
       "      <td>0</td>\n",
       "      <td>0</td>\n",
       "      <td>1</td>\n",
       "    </tr>\n",
       "  </tbody>\n",
       "</table>\n",
       "</div>"
      ],
      "text/plain": [
       "taxon                             arabiensis  coluzzii  gambiae  gcx1  gcx2  \\\n",
       "country                                                                       \n",
       "Angola                                     0        81        0     0     0   \n",
       "Burkina Faso                               3       135      158     0     0   \n",
       "Cameroon                                   2        26      416     0     0   \n",
       "Central African Republic                   0        18       55     0     0   \n",
       "Cote d'Ivoire                              0        80        0     0     0   \n",
       "Democratic Republic of the Congo           0         0       76     0     0   \n",
       "Equatorial Guinea                          0         0       10     0     0   \n",
       "Gabon                                      0         0       69     0     0   \n",
       "Gambia, The                                0         0        2    77   200   \n",
       "Ghana                                      0        64       36     0     0   \n",
       "Guinea                                     0        11      125     0     0   \n",
       "Guinea-Bissau                              0         0        8    93     0   \n",
       "Kenya                                     13         0       19     0     0   \n",
       "Lab Cross                                  0         0        0     0     0   \n",
       "Malawi                                    41         0        0     0     0   \n",
       "Mali                                       2        90      131     0     0   \n",
       "Mayotte                                    0         0       23     0     0   \n",
       "Mozambique                                 0         0       74     0     0   \n",
       "Tanzania                                 225         0       64     0     0   \n",
       "Uganda                                    82         0      207     0     0   \n",
       "\n",
       "taxon                             gcx3  unassigned  \n",
       "country                                             \n",
       "Angola                               0           0  \n",
       "Burkina Faso                         0           0  \n",
       "Cameroon                             0           0  \n",
       "Central African Republic             0           0  \n",
       "Cote d'Ivoire                        0           0  \n",
       "Democratic Republic of the Congo     0           0  \n",
       "Equatorial Guinea                    0           0  \n",
       "Gabon                                0           0  \n",
       "Gambia, The                          0           0  \n",
       "Ghana                                0           0  \n",
       "Guinea                               0           0  \n",
       "Guinea-Bissau                        0           0  \n",
       "Kenya                               54           0  \n",
       "Lab Cross                            0         297  \n",
       "Malawi                               0           0  \n",
       "Mali                                 0           2  \n",
       "Mayotte                              0           0  \n",
       "Mozambique                           0           0  \n",
       "Tanzania                            11           0  \n",
       "Uganda                               0           1  "
      ]
     },
     "execution_count": 14,
     "metadata": {},
     "output_type": "execute_result"
    }
   ],
   "source": [
    "pivot_country_taxon = (\n",
    "    df_samples\n",
    "    .pivot_table(\n",
    "        index=\"country\", \n",
    "        columns=\"taxon\", \n",
    "        values=\"sample_id\",\n",
    "        aggfunc=\"count\",\n",
    "        fill_value=0\n",
    "    )\n",
    ")\n",
    "pivot_country_taxon"
   ]
  },
  {
   "cell_type": "markdown",
   "id": "lJmGvdhc-1dB",
   "metadata": {
    "id": "lJmGvdhc-1dB"
   },
   "source": [
    "We could also turn this into a bar chart."
   ]
  },
  {
   "cell_type": "code",
   "execution_count": null,
   "id": "J_Yijahl9km1",
   "metadata": {
    "colab": {
     "base_uri": "https://localhost:8080/",
     "height": 617
    },
    "id": "J_Yijahl9km1",
    "outputId": "bcc2172d-fbcd-42f8-c3ca-3ca5d16722f6",
    "tags": []
   },
   "outputs": [],
   "source": [
    "fig = px.bar(pivot_country_taxon, height=600, width=800)\n",
    "fig.update_layout(\n",
    "    title=\"Ag3.0 genomes sequenced\",\n",
    "    yaxis_title=\"no. genomes\",\n",
    ")\n",
    "fig.show('notebook')"
   ]
  },
  {
   "cell_type": "markdown",
   "id": "5Ey0ZeQ3-84R",
   "metadata": {
    "id": "5Ey0ZeQ3-84R"
   },
   "source": [
    "Mosquitoes were also sampled in different years. Let's make a new pivot table, breaking down by country, year and taxon."
   ]
  },
  {
   "cell_type": "code",
   "execution_count": 25,
   "id": "33d2dd99-5c0d-4ffd-83dc-ec5e2405fb1a",
   "metadata": {
    "colab": {
     "base_uri": "https://localhost:8080/",
     "height": 1000
    },
    "id": "33d2dd99-5c0d-4ffd-83dc-ec5e2405fb1a",
    "outputId": "cc9d99ae-f9f9-4e27-be75-ad3becc88954"
   },
   "outputs": [
    {
     "data": {
      "text/html": [
       "<div>\n",
       "<style scoped>\n",
       "    .dataframe tbody tr th:only-of-type {\n",
       "        vertical-align: middle;\n",
       "    }\n",
       "\n",
       "    .dataframe tbody tr th {\n",
       "        vertical-align: top;\n",
       "    }\n",
       "\n",
       "    .dataframe thead th {\n",
       "        text-align: right;\n",
       "    }\n",
       "</style>\n",
       "<table border=\"1\" class=\"dataframe\">\n",
       "  <thead>\n",
       "    <tr style=\"text-align: right;\">\n",
       "      <th></th>\n",
       "      <th>taxon</th>\n",
       "      <th>arabiensis</th>\n",
       "      <th>coluzzii</th>\n",
       "      <th>gambiae</th>\n",
       "      <th>gcx1</th>\n",
       "      <th>gcx2</th>\n",
       "      <th>gcx3</th>\n",
       "      <th>unassigned</th>\n",
       "    </tr>\n",
       "    <tr>\n",
       "      <th>country</th>\n",
       "      <th>year</th>\n",
       "      <th></th>\n",
       "      <th></th>\n",
       "      <th></th>\n",
       "      <th></th>\n",
       "      <th></th>\n",
       "      <th></th>\n",
       "      <th></th>\n",
       "    </tr>\n",
       "  </thead>\n",
       "  <tbody>\n",
       "    <tr>\n",
       "      <th>Angola</th>\n",
       "      <th>2009</th>\n",
       "      <td>0</td>\n",
       "      <td>81</td>\n",
       "      <td>0</td>\n",
       "      <td>0</td>\n",
       "      <td>0</td>\n",
       "      <td>0</td>\n",
       "      <td>0</td>\n",
       "    </tr>\n",
       "    <tr>\n",
       "      <th rowspan=\"3\" valign=\"top\">Burkina Faso</th>\n",
       "      <th>2004</th>\n",
       "      <td>0</td>\n",
       "      <td>0</td>\n",
       "      <td>13</td>\n",
       "      <td>0</td>\n",
       "      <td>0</td>\n",
       "      <td>0</td>\n",
       "      <td>0</td>\n",
       "    </tr>\n",
       "    <tr>\n",
       "      <th>2012</th>\n",
       "      <td>0</td>\n",
       "      <td>82</td>\n",
       "      <td>99</td>\n",
       "      <td>0</td>\n",
       "      <td>0</td>\n",
       "      <td>0</td>\n",
       "      <td>0</td>\n",
       "    </tr>\n",
       "    <tr>\n",
       "      <th>2014</th>\n",
       "      <td>3</td>\n",
       "      <td>53</td>\n",
       "      <td>46</td>\n",
       "      <td>0</td>\n",
       "      <td>0</td>\n",
       "      <td>0</td>\n",
       "      <td>0</td>\n",
       "    </tr>\n",
       "    <tr>\n",
       "      <th rowspan=\"3\" valign=\"top\">Cameroon</th>\n",
       "      <th>2005</th>\n",
       "      <td>0</td>\n",
       "      <td>7</td>\n",
       "      <td>90</td>\n",
       "      <td>0</td>\n",
       "      <td>0</td>\n",
       "      <td>0</td>\n",
       "      <td>0</td>\n",
       "    </tr>\n",
       "    <tr>\n",
       "      <th>2009</th>\n",
       "      <td>0</td>\n",
       "      <td>0</td>\n",
       "      <td>303</td>\n",
       "      <td>0</td>\n",
       "      <td>0</td>\n",
       "      <td>0</td>\n",
       "      <td>0</td>\n",
       "    </tr>\n",
       "    <tr>\n",
       "      <th>2013</th>\n",
       "      <td>2</td>\n",
       "      <td>19</td>\n",
       "      <td>23</td>\n",
       "      <td>0</td>\n",
       "      <td>0</td>\n",
       "      <td>0</td>\n",
       "      <td>0</td>\n",
       "    </tr>\n",
       "    <tr>\n",
       "      <th rowspan=\"2\" valign=\"top\">Central African Republic</th>\n",
       "      <th>1993</th>\n",
       "      <td>0</td>\n",
       "      <td>5</td>\n",
       "      <td>2</td>\n",
       "      <td>0</td>\n",
       "      <td>0</td>\n",
       "      <td>0</td>\n",
       "      <td>0</td>\n",
       "    </tr>\n",
       "    <tr>\n",
       "      <th>1994</th>\n",
       "      <td>0</td>\n",
       "      <td>13</td>\n",
       "      <td>53</td>\n",
       "      <td>0</td>\n",
       "      <td>0</td>\n",
       "      <td>0</td>\n",
       "      <td>0</td>\n",
       "    </tr>\n",
       "    <tr>\n",
       "      <th>Cote d'Ivoire</th>\n",
       "      <th>2012</th>\n",
       "      <td>0</td>\n",
       "      <td>80</td>\n",
       "      <td>0</td>\n",
       "      <td>0</td>\n",
       "      <td>0</td>\n",
       "      <td>0</td>\n",
       "      <td>0</td>\n",
       "    </tr>\n",
       "    <tr>\n",
       "      <th>Democratic Republic of the Congo</th>\n",
       "      <th>2015</th>\n",
       "      <td>0</td>\n",
       "      <td>0</td>\n",
       "      <td>76</td>\n",
       "      <td>0</td>\n",
       "      <td>0</td>\n",
       "      <td>0</td>\n",
       "      <td>0</td>\n",
       "    </tr>\n",
       "    <tr>\n",
       "      <th>Equatorial Guinea</th>\n",
       "      <th>2002</th>\n",
       "      <td>0</td>\n",
       "      <td>0</td>\n",
       "      <td>10</td>\n",
       "      <td>0</td>\n",
       "      <td>0</td>\n",
       "      <td>0</td>\n",
       "      <td>0</td>\n",
       "    </tr>\n",
       "    <tr>\n",
       "      <th>Gabon</th>\n",
       "      <th>2000</th>\n",
       "      <td>0</td>\n",
       "      <td>0</td>\n",
       "      <td>69</td>\n",
       "      <td>0</td>\n",
       "      <td>0</td>\n",
       "      <td>0</td>\n",
       "      <td>0</td>\n",
       "    </tr>\n",
       "    <tr>\n",
       "      <th rowspan=\"3\" valign=\"top\">Gambia, The</th>\n",
       "      <th>2006</th>\n",
       "      <td>0</td>\n",
       "      <td>0</td>\n",
       "      <td>0</td>\n",
       "      <td>9</td>\n",
       "      <td>22</td>\n",
       "      <td>0</td>\n",
       "      <td>0</td>\n",
       "    </tr>\n",
       "    <tr>\n",
       "      <th>2011</th>\n",
       "      <td>0</td>\n",
       "      <td>0</td>\n",
       "      <td>0</td>\n",
       "      <td>68</td>\n",
       "      <td>6</td>\n",
       "      <td>0</td>\n",
       "      <td>0</td>\n",
       "    </tr>\n",
       "    <tr>\n",
       "      <th>2012</th>\n",
       "      <td>0</td>\n",
       "      <td>0</td>\n",
       "      <td>2</td>\n",
       "      <td>0</td>\n",
       "      <td>172</td>\n",
       "      <td>0</td>\n",
       "      <td>0</td>\n",
       "    </tr>\n",
       "    <tr>\n",
       "      <th>Ghana</th>\n",
       "      <th>2012</th>\n",
       "      <td>0</td>\n",
       "      <td>64</td>\n",
       "      <td>36</td>\n",
       "      <td>0</td>\n",
       "      <td>0</td>\n",
       "      <td>0</td>\n",
       "      <td>0</td>\n",
       "    </tr>\n",
       "    <tr>\n",
       "      <th>Guinea</th>\n",
       "      <th>2012</th>\n",
       "      <td>0</td>\n",
       "      <td>11</td>\n",
       "      <td>125</td>\n",
       "      <td>0</td>\n",
       "      <td>0</td>\n",
       "      <td>0</td>\n",
       "      <td>0</td>\n",
       "    </tr>\n",
       "    <tr>\n",
       "      <th>Guinea-Bissau</th>\n",
       "      <th>2010</th>\n",
       "      <td>0</td>\n",
       "      <td>0</td>\n",
       "      <td>8</td>\n",
       "      <td>93</td>\n",
       "      <td>0</td>\n",
       "      <td>0</td>\n",
       "      <td>0</td>\n",
       "    </tr>\n",
       "    <tr>\n",
       "      <th rowspan=\"3\" valign=\"top\">Kenya</th>\n",
       "      <th>2000</th>\n",
       "      <td>0</td>\n",
       "      <td>0</td>\n",
       "      <td>19</td>\n",
       "      <td>0</td>\n",
       "      <td>0</td>\n",
       "      <td>0</td>\n",
       "      <td>0</td>\n",
       "    </tr>\n",
       "    <tr>\n",
       "      <th>2007</th>\n",
       "      <td>3</td>\n",
       "      <td>0</td>\n",
       "      <td>0</td>\n",
       "      <td>0</td>\n",
       "      <td>0</td>\n",
       "      <td>0</td>\n",
       "      <td>0</td>\n",
       "    </tr>\n",
       "    <tr>\n",
       "      <th>2012</th>\n",
       "      <td>10</td>\n",
       "      <td>0</td>\n",
       "      <td>0</td>\n",
       "      <td>0</td>\n",
       "      <td>0</td>\n",
       "      <td>54</td>\n",
       "      <td>0</td>\n",
       "    </tr>\n",
       "    <tr>\n",
       "      <th>Lab Cross</th>\n",
       "      <th>-1</th>\n",
       "      <td>0</td>\n",
       "      <td>0</td>\n",
       "      <td>0</td>\n",
       "      <td>0</td>\n",
       "      <td>0</td>\n",
       "      <td>0</td>\n",
       "      <td>297</td>\n",
       "    </tr>\n",
       "    <tr>\n",
       "      <th>Malawi</th>\n",
       "      <th>2015</th>\n",
       "      <td>41</td>\n",
       "      <td>0</td>\n",
       "      <td>0</td>\n",
       "      <td>0</td>\n",
       "      <td>0</td>\n",
       "      <td>0</td>\n",
       "      <td>0</td>\n",
       "    </tr>\n",
       "    <tr>\n",
       "      <th rowspan=\"3\" valign=\"top\">Mali</th>\n",
       "      <th>2004</th>\n",
       "      <td>2</td>\n",
       "      <td>36</td>\n",
       "      <td>33</td>\n",
       "      <td>0</td>\n",
       "      <td>0</td>\n",
       "      <td>0</td>\n",
       "      <td>0</td>\n",
       "    </tr>\n",
       "    <tr>\n",
       "      <th>2012</th>\n",
       "      <td>0</td>\n",
       "      <td>27</td>\n",
       "      <td>65</td>\n",
       "      <td>0</td>\n",
       "      <td>0</td>\n",
       "      <td>0</td>\n",
       "      <td>2</td>\n",
       "    </tr>\n",
       "    <tr>\n",
       "      <th>2014</th>\n",
       "      <td>0</td>\n",
       "      <td>27</td>\n",
       "      <td>33</td>\n",
       "      <td>0</td>\n",
       "      <td>0</td>\n",
       "      <td>0</td>\n",
       "      <td>0</td>\n",
       "    </tr>\n",
       "    <tr>\n",
       "      <th>Mayotte</th>\n",
       "      <th>2011</th>\n",
       "      <td>0</td>\n",
       "      <td>0</td>\n",
       "      <td>23</td>\n",
       "      <td>0</td>\n",
       "      <td>0</td>\n",
       "      <td>0</td>\n",
       "      <td>0</td>\n",
       "    </tr>\n",
       "    <tr>\n",
       "      <th rowspan=\"2\" valign=\"top\">Mozambique</th>\n",
       "      <th>2003</th>\n",
       "      <td>0</td>\n",
       "      <td>0</td>\n",
       "      <td>3</td>\n",
       "      <td>0</td>\n",
       "      <td>0</td>\n",
       "      <td>0</td>\n",
       "      <td>0</td>\n",
       "    </tr>\n",
       "    <tr>\n",
       "      <th>2004</th>\n",
       "      <td>0</td>\n",
       "      <td>0</td>\n",
       "      <td>71</td>\n",
       "      <td>0</td>\n",
       "      <td>0</td>\n",
       "      <td>0</td>\n",
       "      <td>0</td>\n",
       "    </tr>\n",
       "    <tr>\n",
       "      <th rowspan=\"3\" valign=\"top\">Tanzania</th>\n",
       "      <th>2012</th>\n",
       "      <td>87</td>\n",
       "      <td>0</td>\n",
       "      <td>0</td>\n",
       "      <td>0</td>\n",
       "      <td>0</td>\n",
       "      <td>0</td>\n",
       "      <td>0</td>\n",
       "    </tr>\n",
       "    <tr>\n",
       "      <th>2013</th>\n",
       "      <td>1</td>\n",
       "      <td>0</td>\n",
       "      <td>32</td>\n",
       "      <td>0</td>\n",
       "      <td>0</td>\n",
       "      <td>10</td>\n",
       "      <td>0</td>\n",
       "    </tr>\n",
       "    <tr>\n",
       "      <th>2015</th>\n",
       "      <td>137</td>\n",
       "      <td>0</td>\n",
       "      <td>32</td>\n",
       "      <td>0</td>\n",
       "      <td>0</td>\n",
       "      <td>1</td>\n",
       "      <td>0</td>\n",
       "    </tr>\n",
       "    <tr>\n",
       "      <th>Uganda</th>\n",
       "      <th>2012</th>\n",
       "      <td>82</td>\n",
       "      <td>0</td>\n",
       "      <td>207</td>\n",
       "      <td>0</td>\n",
       "      <td>0</td>\n",
       "      <td>0</td>\n",
       "      <td>1</td>\n",
       "    </tr>\n",
       "  </tbody>\n",
       "</table>\n",
       "</div>"
      ],
      "text/plain": [
       "taxon                                   arabiensis  coluzzii  gambiae  gcx1  \\\n",
       "country                          year                                         \n",
       "Angola                            2009           0        81        0     0   \n",
       "Burkina Faso                      2004           0         0       13     0   \n",
       "                                  2012           0        82       99     0   \n",
       "                                  2014           3        53       46     0   \n",
       "Cameroon                          2005           0         7       90     0   \n",
       "                                  2009           0         0      303     0   \n",
       "                                  2013           2        19       23     0   \n",
       "Central African Republic          1993           0         5        2     0   \n",
       "                                  1994           0        13       53     0   \n",
       "Cote d'Ivoire                     2012           0        80        0     0   \n",
       "Democratic Republic of the Congo  2015           0         0       76     0   \n",
       "Equatorial Guinea                 2002           0         0       10     0   \n",
       "Gabon                             2000           0         0       69     0   \n",
       "Gambia, The                       2006           0         0        0     9   \n",
       "                                  2011           0         0        0    68   \n",
       "                                  2012           0         0        2     0   \n",
       "Ghana                             2012           0        64       36     0   \n",
       "Guinea                            2012           0        11      125     0   \n",
       "Guinea-Bissau                     2010           0         0        8    93   \n",
       "Kenya                             2000           0         0       19     0   \n",
       "                                  2007           3         0        0     0   \n",
       "                                  2012          10         0        0     0   \n",
       "Lab Cross                        -1              0         0        0     0   \n",
       "Malawi                            2015          41         0        0     0   \n",
       "Mali                              2004           2        36       33     0   \n",
       "                                  2012           0        27       65     0   \n",
       "                                  2014           0        27       33     0   \n",
       "Mayotte                           2011           0         0       23     0   \n",
       "Mozambique                        2003           0         0        3     0   \n",
       "                                  2004           0         0       71     0   \n",
       "Tanzania                          2012          87         0        0     0   \n",
       "                                  2013           1         0       32     0   \n",
       "                                  2015         137         0       32     0   \n",
       "Uganda                            2012          82         0      207     0   \n",
       "\n",
       "taxon                                   gcx2  gcx3  unassigned  \n",
       "country                          year                           \n",
       "Angola                            2009     0     0           0  \n",
       "Burkina Faso                      2004     0     0           0  \n",
       "                                  2012     0     0           0  \n",
       "                                  2014     0     0           0  \n",
       "Cameroon                          2005     0     0           0  \n",
       "                                  2009     0     0           0  \n",
       "                                  2013     0     0           0  \n",
       "Central African Republic          1993     0     0           0  \n",
       "                                  1994     0     0           0  \n",
       "Cote d'Ivoire                     2012     0     0           0  \n",
       "Democratic Republic of the Congo  2015     0     0           0  \n",
       "Equatorial Guinea                 2002     0     0           0  \n",
       "Gabon                             2000     0     0           0  \n",
       "Gambia, The                       2006    22     0           0  \n",
       "                                  2011     6     0           0  \n",
       "                                  2012   172     0           0  \n",
       "Ghana                             2012     0     0           0  \n",
       "Guinea                            2012     0     0           0  \n",
       "Guinea-Bissau                     2010     0     0           0  \n",
       "Kenya                             2000     0     0           0  \n",
       "                                  2007     0     0           0  \n",
       "                                  2012     0    54           0  \n",
       "Lab Cross                        -1        0     0         297  \n",
       "Malawi                            2015     0     0           0  \n",
       "Mali                              2004     0     0           0  \n",
       "                                  2012     0     0           2  \n",
       "                                  2014     0     0           0  \n",
       "Mayotte                           2011     0     0           0  \n",
       "Mozambique                        2003     0     0           0  \n",
       "                                  2004     0     0           0  \n",
       "Tanzania                          2012     0     0           0  \n",
       "                                  2013     0    10           0  \n",
       "                                  2015     0     1           0  \n",
       "Uganda                            2012     0     0           1  "
      ]
     },
     "execution_count": 25,
     "metadata": {},
     "output_type": "execute_result"
    }
   ],
   "source": [
    "pivot_country_year_taxon = (\n",
    "    df_samples\n",
    "    .pivot_table(\n",
    "        index=[\"country\", \"year\"], \n",
    "        columns=[\"taxon\"], \n",
    "        values=\"sample_id\",\n",
    "        aggfunc=\"count\",\n",
    "        fill_value=0\n",
    "    )\n",
    ")\n",
    "pivot_country_year_taxon"
   ]
  },
  {
   "cell_type": "markdown",
   "id": "s42cbxnxOMQG",
   "metadata": {
    "id": "s42cbxnxOMQG"
   },
   "source": [
    "For some countries there are data from multiple collection sites. Let's inspect that for Burkina Faso by applying a query then creating a pivot table."
   ]
  },
  {
   "cell_type": "code",
   "execution_count": 26,
   "id": "7847f1bb-7837-47ac-9dab-c24809e341a1",
   "metadata": {
    "colab": {
     "base_uri": "https://localhost:8080/",
     "height": 300
    },
    "id": "7847f1bb-7837-47ac-9dab-c24809e341a1",
    "outputId": "526673b1-7fc8-4014-cbbd-6ab51de4e76f"
   },
   "outputs": [
    {
     "data": {
      "text/html": [
       "<div>\n",
       "<style scoped>\n",
       "    .dataframe tbody tr th:only-of-type {\n",
       "        vertical-align: middle;\n",
       "    }\n",
       "\n",
       "    .dataframe tbody tr th {\n",
       "        vertical-align: top;\n",
       "    }\n",
       "\n",
       "    .dataframe thead th {\n",
       "        text-align: right;\n",
       "    }\n",
       "</style>\n",
       "<table border=\"1\" class=\"dataframe\">\n",
       "  <thead>\n",
       "    <tr style=\"text-align: right;\">\n",
       "      <th></th>\n",
       "      <th></th>\n",
       "      <th></th>\n",
       "      <th></th>\n",
       "      <th>taxon</th>\n",
       "      <th>arabiensis</th>\n",
       "      <th>coluzzii</th>\n",
       "      <th>gambiae</th>\n",
       "    </tr>\n",
       "    <tr>\n",
       "      <th>country</th>\n",
       "      <th>admin1_name</th>\n",
       "      <th>admin2_name</th>\n",
       "      <th>location</th>\n",
       "      <th>year</th>\n",
       "      <th></th>\n",
       "      <th></th>\n",
       "      <th></th>\n",
       "    </tr>\n",
       "  </thead>\n",
       "  <tbody>\n",
       "    <tr>\n",
       "      <th rowspan=\"7\" valign=\"top\">Burkina Faso</th>\n",
       "      <th>Centre-Sud</th>\n",
       "      <th>Bazega</th>\n",
       "      <th>Monomtenga</th>\n",
       "      <th>2004</th>\n",
       "      <td>0</td>\n",
       "      <td>0</td>\n",
       "      <td>13</td>\n",
       "    </tr>\n",
       "    <tr>\n",
       "      <th rowspan=\"6\" valign=\"top\">Hauts-Bassins</th>\n",
       "      <th rowspan=\"6\" valign=\"top\">Houet</th>\n",
       "      <th rowspan=\"2\" valign=\"top\">Bana Village</th>\n",
       "      <th>2012</th>\n",
       "      <td>0</td>\n",
       "      <td>42</td>\n",
       "      <td>23</td>\n",
       "    </tr>\n",
       "    <tr>\n",
       "      <th>2014</th>\n",
       "      <td>1</td>\n",
       "      <td>47</td>\n",
       "      <td>15</td>\n",
       "    </tr>\n",
       "    <tr>\n",
       "      <th rowspan=\"2\" valign=\"top\">Pala</th>\n",
       "      <th>2012</th>\n",
       "      <td>0</td>\n",
       "      <td>11</td>\n",
       "      <td>48</td>\n",
       "    </tr>\n",
       "    <tr>\n",
       "      <th>2014</th>\n",
       "      <td>2</td>\n",
       "      <td>0</td>\n",
       "      <td>16</td>\n",
       "    </tr>\n",
       "    <tr>\n",
       "      <th rowspan=\"2\" valign=\"top\">Souroukoudinga</th>\n",
       "      <th>2012</th>\n",
       "      <td>0</td>\n",
       "      <td>29</td>\n",
       "      <td>28</td>\n",
       "    </tr>\n",
       "    <tr>\n",
       "      <th>2014</th>\n",
       "      <td>0</td>\n",
       "      <td>6</td>\n",
       "      <td>15</td>\n",
       "    </tr>\n",
       "  </tbody>\n",
       "</table>\n",
       "</div>"
      ],
      "text/plain": [
       "taxon                                                       arabiensis  \\\n",
       "country      admin1_name   admin2_name location       year               \n",
       "Burkina Faso Centre-Sud    Bazega      Monomtenga     2004           0   \n",
       "             Hauts-Bassins Houet       Bana Village   2012           0   \n",
       "                                                      2014           1   \n",
       "                                       Pala           2012           0   \n",
       "                                                      2014           2   \n",
       "                                       Souroukoudinga 2012           0   \n",
       "                                                      2014           0   \n",
       "\n",
       "taxon                                                       coluzzii  gambiae  \n",
       "country      admin1_name   admin2_name location       year                     \n",
       "Burkina Faso Centre-Sud    Bazega      Monomtenga     2004         0       13  \n",
       "             Hauts-Bassins Houet       Bana Village   2012        42       23  \n",
       "                                                      2014        47       15  \n",
       "                                       Pala           2012        11       48  \n",
       "                                                      2014         0       16  \n",
       "                                       Souroukoudinga 2012        29       28  \n",
       "                                                      2014         6       15  "
      ]
     },
     "execution_count": 26,
     "metadata": {},
     "output_type": "execute_result"
    }
   ],
   "source": [
    "pivot_location_year_taxon_bf = (\n",
    "    df_samples\n",
    "    .query(\"country == 'Burkina Faso'\")\n",
    "    .pivot_table(\n",
    "        index=[\"country\", \"admin1_name\", \"admin2_name\", \"location\", \"year\"], \n",
    "        columns=[\"taxon\"], \n",
    "        values=\"sample_id\",\n",
    "        aggfunc=\"count\",\n",
    "        fill_value=0\n",
    "    )\n",
    ")\n",
    "pivot_location_year_taxon_bf"
   ]
  },
  {
   "cell_type": "markdown",
   "id": "WCwUBAeyOXSa",
   "metadata": {
    "id": "WCwUBAeyOXSa"
   },
   "source": [
    "We can see there are four collection sites in Burkina Faso."
   ]
  },
  {
   "cell_type": "markdown",
   "id": "cd72103b-a309-4ac9-a100-f708562accb2",
   "metadata": {
    "id": "cd72103b-a309-4ac9-a100-f708562accb2"
   },
   "source": [
    "## Plotting maps of sampling locations\n",
    "\n",
    "To explore the different mosquito collection locations it can also be useful to plot some maps. You can plot maps within a notebook using various packages such as [ipyleaflet](https://ipyleaflet.readthedocs.io/en/latest/). Let's install the ipyleaflet package. "
   ]
  },
  {
   "cell_type": "code",
   "execution_count": 19,
   "id": "6ba91ff6-c14f-49f0-9718-8f44aa869b4e",
   "metadata": {
    "id": "6ba91ff6-c14f-49f0-9718-8f44aa869b4e"
   },
   "outputs": [],
   "source": [
    "%pip install -qq ipyleaflet"
   ]
  },
  {
   "cell_type": "markdown",
   "id": "o-sv2_zfOt5y",
   "metadata": {
    "id": "o-sv2_zfOt5y"
   },
   "source": [
    "Now import some useful functions from ipyleaflet."
   ]
  },
  {
   "cell_type": "code",
   "execution_count": 27,
   "id": "5e5a6d7c-cb24-4fad-8fd7-7c65d49d5135",
   "metadata": {
    "id": "5e5a6d7c-cb24-4fad-8fd7-7c65d49d5135"
   },
   "outputs": [],
   "source": [
    "import ipyleaflet"
   ]
  },
  {
   "cell_type": "markdown",
   "id": "ura_26F3Ox4P",
   "metadata": {
    "id": "ura_26F3Ox4P"
   },
   "source": [
    "Creating an interactive map is very straightforward, using the [Map()](https://ipyleaflet.readthedocs.io/en/latest/map_and_basemaps/map.html) function. Here is a world map centered on Africa. Note that this is an interactive map, you can pan and zoom."
   ]
  },
  {
   "cell_type": "code",
   "execution_count": 28,
   "id": "53a86d58-a4ae-49a6-85be-f94e6c9db6d4",
   "metadata": {
    "colab": {
     "base_uri": "https://localhost:8080/",
     "height": 421,
     "referenced_widgets": [
      "3de5c83e373946e295f26941df1e73eb",
      "c63f8180c02f412cb10489f35ae56c86",
      "1eac12bab4ff4185b1a1be4e1579b339",
      "0787efa11c374c968d729ad77b2e02c9",
      "625547349cec41e6b81cc9da92a92f5a",
      "840902c11a1b40f3a6f7955d35ce634d",
      "6892f15fc02642b2a1a9fd8efee9aef8",
      "84caaeabb7bf43cd81e6668e724d4df6"
     ]
    },
    "id": "53a86d58-a4ae-49a6-85be-f94e6c9db6d4",
    "outputId": "8f215005-afcf-4746-c576-692156818358"
   },
   "outputs": [
    {
     "data": {
      "application/vnd.jupyter.widget-view+json": {
       "model_id": "4f09350b8223454cb52ef2727660e193",
       "version_major": 2,
       "version_minor": 0
      },
      "text/plain": [
       "Map(center=[0, 20], controls=(ZoomControl(options=['position', 'zoom_in_text', 'zoom_in_title', 'zoom_out_text…"
      ]
     },
     "metadata": {},
     "output_type": "display_data"
    }
   ],
   "source": [
    "m = ipyleaflet.Map(\n",
    "    basemap=ipyleaflet.basemaps.OpenStreetMap.Mapnik, \n",
    "    center=[0, 20], \n",
    "    zoom=3,\n",
    "\n",
    ")\n",
    "m"
   ]
  },
  {
   "cell_type": "markdown",
   "id": "lS1LwKOlPIz7",
   "metadata": {
    "id": "lS1LwKOlPIz7"
   },
   "source": [
    "Let's now plot a map, adding in markers for all of the locations where we have mosquitoes. First create a pivot table with the location data we need."
   ]
  },
  {
   "cell_type": "code",
   "execution_count": 29,
   "id": "6597cfff-22b9-4530-86ad-04b89c997976",
   "metadata": {
    "colab": {
     "base_uri": "https://localhost:8080/",
     "height": 455
    },
    "id": "6597cfff-22b9-4530-86ad-04b89c997976",
    "outputId": "8d7261f9-137a-49f5-e2ed-f42bb646495b"
   },
   "outputs": [
    {
     "data": {
      "text/html": [
       "<div>\n",
       "<style scoped>\n",
       "    .dataframe tbody tr th:only-of-type {\n",
       "        vertical-align: middle;\n",
       "    }\n",
       "\n",
       "    .dataframe tbody tr th {\n",
       "        vertical-align: top;\n",
       "    }\n",
       "\n",
       "    .dataframe thead th {\n",
       "        text-align: right;\n",
       "    }\n",
       "</style>\n",
       "<table border=\"1\" class=\"dataframe\">\n",
       "  <thead>\n",
       "    <tr style=\"text-align: right;\">\n",
       "      <th></th>\n",
       "      <th></th>\n",
       "      <th></th>\n",
       "      <th>taxon</th>\n",
       "      <th>arabiensis</th>\n",
       "      <th>coluzzii</th>\n",
       "      <th>gambiae</th>\n",
       "      <th>gcx1</th>\n",
       "      <th>gcx2</th>\n",
       "      <th>gcx3</th>\n",
       "      <th>unassigned</th>\n",
       "    </tr>\n",
       "    <tr>\n",
       "      <th>country</th>\n",
       "      <th>location</th>\n",
       "      <th>latitude</th>\n",
       "      <th>longitude</th>\n",
       "      <th></th>\n",
       "      <th></th>\n",
       "      <th></th>\n",
       "      <th></th>\n",
       "      <th></th>\n",
       "      <th></th>\n",
       "      <th></th>\n",
       "    </tr>\n",
       "  </thead>\n",
       "  <tbody>\n",
       "    <tr>\n",
       "      <th>Angola</th>\n",
       "      <th>Luanda</th>\n",
       "      <th>-8.884</th>\n",
       "      <th>13.302</th>\n",
       "      <td>0</td>\n",
       "      <td>81</td>\n",
       "      <td>0</td>\n",
       "      <td>0</td>\n",
       "      <td>0</td>\n",
       "      <td>0</td>\n",
       "      <td>0</td>\n",
       "    </tr>\n",
       "    <tr>\n",
       "      <th rowspan=\"4\" valign=\"top\">Burkina Faso</th>\n",
       "      <th>Bana Village</th>\n",
       "      <th>11.233</th>\n",
       "      <th>-4.472</th>\n",
       "      <td>1</td>\n",
       "      <td>89</td>\n",
       "      <td>38</td>\n",
       "      <td>0</td>\n",
       "      <td>0</td>\n",
       "      <td>0</td>\n",
       "      <td>0</td>\n",
       "    </tr>\n",
       "    <tr>\n",
       "      <th>Monomtenga</th>\n",
       "      <th>12.060</th>\n",
       "      <th>-1.170</th>\n",
       "      <td>0</td>\n",
       "      <td>0</td>\n",
       "      <td>13</td>\n",
       "      <td>0</td>\n",
       "      <td>0</td>\n",
       "      <td>0</td>\n",
       "      <td>0</td>\n",
       "    </tr>\n",
       "    <tr>\n",
       "      <th>Pala</th>\n",
       "      <th>11.151</th>\n",
       "      <th>-4.235</th>\n",
       "      <td>2</td>\n",
       "      <td>11</td>\n",
       "      <td>64</td>\n",
       "      <td>0</td>\n",
       "      <td>0</td>\n",
       "      <td>0</td>\n",
       "      <td>0</td>\n",
       "    </tr>\n",
       "    <tr>\n",
       "      <th>Souroukoudinga</th>\n",
       "      <th>11.238</th>\n",
       "      <th>-4.235</th>\n",
       "      <td>0</td>\n",
       "      <td>35</td>\n",
       "      <td>43</td>\n",
       "      <td>0</td>\n",
       "      <td>0</td>\n",
       "      <td>0</td>\n",
       "      <td>0</td>\n",
       "    </tr>\n",
       "    <tr>\n",
       "      <th>...</th>\n",
       "      <th>...</th>\n",
       "      <th>...</th>\n",
       "      <th>...</th>\n",
       "      <td>...</td>\n",
       "      <td>...</td>\n",
       "      <td>...</td>\n",
       "      <td>...</td>\n",
       "      <td>...</td>\n",
       "      <td>...</td>\n",
       "      <td>...</td>\n",
       "    </tr>\n",
       "    <tr>\n",
       "      <th rowspan=\"3\" valign=\"top\">Tanzania</th>\n",
       "      <th>Muheza</th>\n",
       "      <th>-4.940</th>\n",
       "      <th>38.948</th>\n",
       "      <td>1</td>\n",
       "      <td>0</td>\n",
       "      <td>32</td>\n",
       "      <td>0</td>\n",
       "      <td>0</td>\n",
       "      <td>10</td>\n",
       "      <td>0</td>\n",
       "    </tr>\n",
       "    <tr>\n",
       "      <th>Muleba</th>\n",
       "      <th>-1.962</th>\n",
       "      <th>31.621</th>\n",
       "      <td>137</td>\n",
       "      <td>0</td>\n",
       "      <td>32</td>\n",
       "      <td>0</td>\n",
       "      <td>0</td>\n",
       "      <td>1</td>\n",
       "      <td>0</td>\n",
       "    </tr>\n",
       "    <tr>\n",
       "      <th>Tarime</th>\n",
       "      <th>-1.431</th>\n",
       "      <th>34.199</th>\n",
       "      <td>47</td>\n",
       "      <td>0</td>\n",
       "      <td>0</td>\n",
       "      <td>0</td>\n",
       "      <td>0</td>\n",
       "      <td>0</td>\n",
       "      <td>0</td>\n",
       "    </tr>\n",
       "    <tr>\n",
       "      <th rowspan=\"2\" valign=\"top\">Uganda</th>\n",
       "      <th>Kihihi</th>\n",
       "      <th>-0.751</th>\n",
       "      <th>29.701</th>\n",
       "      <td>1</td>\n",
       "      <td>0</td>\n",
       "      <td>95</td>\n",
       "      <td>0</td>\n",
       "      <td>0</td>\n",
       "      <td>0</td>\n",
       "      <td>0</td>\n",
       "    </tr>\n",
       "    <tr>\n",
       "      <th>Nagongera</th>\n",
       "      <th>0.770</th>\n",
       "      <th>34.026</th>\n",
       "      <td>81</td>\n",
       "      <td>0</td>\n",
       "      <td>112</td>\n",
       "      <td>0</td>\n",
       "      <td>0</td>\n",
       "      <td>0</td>\n",
       "      <td>1</td>\n",
       "    </tr>\n",
       "  </tbody>\n",
       "</table>\n",
       "<p>127 rows × 7 columns</p>\n",
       "</div>"
      ],
      "text/plain": [
       "taxon                                           arabiensis  coluzzii  gambiae  \\\n",
       "country      location       latitude longitude                                  \n",
       "Angola       Luanda         -8.884    13.302             0        81        0   \n",
       "Burkina Faso Bana Village    11.233  -4.472              1        89       38   \n",
       "             Monomtenga      12.060  -1.170              0         0       13   \n",
       "             Pala            11.151  -4.235              2        11       64   \n",
       "             Souroukoudinga  11.238  -4.235              0        35       43   \n",
       "...                                                    ...       ...      ...   \n",
       "Tanzania     Muheza         -4.940    38.948             1         0       32   \n",
       "             Muleba         -1.962    31.621           137         0       32   \n",
       "             Tarime         -1.431    34.199            47         0        0   \n",
       "Uganda       Kihihi         -0.751    29.701             1         0       95   \n",
       "             Nagongera       0.770    34.026            81         0      112   \n",
       "\n",
       "taxon                                           gcx1  gcx2  gcx3  unassigned  \n",
       "country      location       latitude longitude                                \n",
       "Angola       Luanda         -8.884    13.302       0     0     0           0  \n",
       "Burkina Faso Bana Village    11.233  -4.472        0     0     0           0  \n",
       "             Monomtenga      12.060  -1.170        0     0     0           0  \n",
       "             Pala            11.151  -4.235        0     0     0           0  \n",
       "             Souroukoudinga  11.238  -4.235        0     0     0           0  \n",
       "...                                              ...   ...   ...         ...  \n",
       "Tanzania     Muheza         -4.940    38.948       0     0    10           0  \n",
       "             Muleba         -1.962    31.621       0     0     1           0  \n",
       "             Tarime         -1.431    34.199       0     0     0           0  \n",
       "Uganda       Kihihi         -0.751    29.701       0     0     0           0  \n",
       "             Nagongera       0.770    34.026       0     0     0           1  \n",
       "\n",
       "[127 rows x 7 columns]"
      ]
     },
     "execution_count": 29,
     "metadata": {},
     "output_type": "execute_result"
    }
   ],
   "source": [
    "pivot_location_taxon = (\n",
    "    df_samples\n",
    "    .pivot_table(\n",
    "        index=[\"country\", \"location\", \"latitude\", \"longitude\"], \n",
    "        columns=[\"taxon\"], \n",
    "        values=\"sample_id\",\n",
    "        aggfunc=\"count\",\n",
    "        fill_value=0,\n",
    "    )\n",
    ")\n",
    "\n",
    "pivot_location_taxon"
   ]
  },
  {
   "cell_type": "markdown",
   "id": "hZrQKqTqPWvO",
   "metadata": {
    "id": "hZrQKqTqPWvO"
   },
   "source": [
    "Now create a map with markers."
   ]
  },
  {
   "cell_type": "code",
   "execution_count": 30,
   "id": "c5878422-e7fe-47ed-85d7-a9f91d6cc2e0",
   "metadata": {
    "colab": {
     "base_uri": "https://localhost:8080/",
     "height": 421,
     "referenced_widgets": [
      "9b8a07ef085c47da9ced3af6557af14e",
      "c1a7f427b6e2432c97e399097f242eee",
      "fa43dcb0432545bca4405da0b89c3a78",
      "bb4fbf17dbd44a62903c3166e0abb013",
      "6f8b6fc6cdd84923b66ee00801bb5a0a",
      "6b4a00407c61499fb2998cc9eba3e32e",
      "abb561f34db4466294557ccb3ac61c23",
      "505d37be95cc45799e055fe5e5860d53",
      "9e716c9ab637412684a052aced0671f6",
      "0edb5684341244bdac13fca355725d82",
      "329f91901535475ca4cbc0036e74c82d",
      "0c7c573fd84848938bb94c364e00a355",
      "14f4604dd2404c9bbf9f18e703a6d7c8",
      "60df2384ee1f42dd83778a95761ba20c",
      "1d934b150595403fb05ab3dbee694c6b",
      "e362a735dd484928800d34ea7921e29a",
      "0cc9b968086145afaf1e6688a232fab7",
      "93a71d9bf3a9428ca4f676e5ecba6f0c",
      "9bb1de602319487fbe64afec38c6f222",
      "90571c54b5944275a97ebe872da8ce55",
      "c1d9f09c4b454a92bd82c26248cd33b0",
      "ed611f895d43459ba7a8b8b869e422ca",
      "71bb5d7249234aa387fba31bcf013249",
      "afcc901236684aa2b275d464d0de2f47",
      "c893e5c4d56644569dac642d1e5995bb",
      "8183bd01b8e141a5922dd4e9616ff085",
      "15f03df0c6c340ca829774468a23bfd2",
      "57452c3c718c4fda940fd57ab7feba9a",
      "d24b02914ff04afeb7eeb5ab5acbb4e5",
      "8ad942d3107546d281f15f5b2e1dd01b",
      "6c4ea089fbb6498b941542e554a2e355",
      "108eaf7e7daa40b2a5a3fb0049048824",
      "28b42f7ad7e14fa79bc8e84675086c20",
      "b131765031c84541a29e4ebaca481aa7",
      "891fc13bb8f9448193077aa9da57296f",
      "733990ed0c004ffc938330c88843b7a2",
      "c1c84434c39b4e3a86512de6172ee22e",
      "212205f820d14087b9dd14bc0ca08d89",
      "9ee78b4d023c409cbb1bc5a3a564963a",
      "66d8f29ab10a430ea0a2941c342bc949",
      "20e6eaf67e0f4d60990853b29461a729",
      "af9192cc325d4e588b91d397bb084853",
      "0cf8bede8bdc419db864f43e1c093808",
      "e970bf5a0f054d57abd70ac077b4d88a",
      "e40ec8ded29845599e5891f4fcc07b40",
      "11a540c2757b4d78a4dd09284ab5a7cc",
      "565c8dc8e5e74c9bb8c101afae1a691b",
      "946370628e8b42938e06b6dab41a7c3f",
      "c391bab5a2304959abf8fec89ef60aed",
      "050ca47269164d53853a8fbe66b9d379",
      "5165c277baaa4ee48ca391bc5322b1e4",
      "ad21399eb83445909a5d745d6fcdce78",
      "1a4b5d64bffe4af89f8519d2c2a7276d",
      "447a59e7756d4f058248f0b5648e96e0",
      "b1375cffc5c940488cf32b68ab195099",
      "c8938a68b77245c5a8b11a059c710c97",
      "4f68d62c59924fbd85b4f655a7afd9a4",
      "d3e43397081c49b59deba5031b9bef6f",
      "b24ae0736caa4354b8f1c085ca734eba",
      "8a32d794d8d34453b5dea184eeb922da",
      "694907b6077b4957875bc1766b1cf7f3",
      "89cba78458f3491d9a11eae2585b877b",
      "1cca72b2af834a9abac356f46c5d68d7",
      "17488eab954d4fcebf8ee4c47f30470a",
      "4f0ad259c9ba45aeacb9978e3b6ba1f9",
      "2c31a13fc0c148e89e746057ac5aa4cc",
      "b6d28aecc677438a93c5480fd4b599be",
      "a0fca2e24d544244acfe0c5de98028b9",
      "ec2b3a09c56e4a068236637f6ee409bf",
      "516131d1ce3f4612aa105bd46cc74fb3",
      "1967fc19584c4109bb0bf50ea68cd105",
      "daaafeb144eb4d069fdaa1e618733a7e",
      "211fe81431204cca9d0b74ecc54aebaf",
      "c675ae07c3c04f11bc10b38e054550f3",
      "d56335e7252b4429b24c30937a2cfbba",
      "f7f89edc06324d65b6e2ef4883970ea0",
      "2256fde101e04eb1ae70f14723853e26",
      "5108285afab44d648ee15d6af9a374cb",
      "3351a209893c456f916082ccb379270e",
      "345f1e78719e4caa85efa4a43f33e09c",
      "df9cd79296464676a04cb1b6385b4296",
      "1dd70ade3d0349b9ac2fe1ee6b5612c2",
      "c8421fe118da4319bbb5067dbf3b2a41",
      "8c53d4174cee4dc3a15a2e17dc725e83",
      "0ea990cd8dd142a4abb0338216b47f6a",
      "93e11ab005bd4ba7a575b6818b9a9867",
      "2e5d34589807412091348d7ab01a7058",
      "f741151b2a2b4211a705389b3464ac77",
      "7d6faf87ec444f2fb9031ed1ce26c197",
      "981e7000de9647cd981a18f2cb4eef9c",
      "9d69963590204f58b8bad79e53492a7b",
      "c3a4c8a895ca454e8416b720677406a5",
      "60064985d5b540c8849d8973e9c8cfd8",
      "745e65e10628449a8da72ac288e559b4",
      "57a0daca5c3d4222a5877dd7ac854272",
      "844554936ed64a99ae31b2b181bac25f",
      "b29e9301c7614d7a8bcd76707dc72b3f",
      "eaa660d64eba472992a240516882fc33",
      "3b30b8a7eba2446eacfd363763f0d164",
      "1e850ba9e3794e16ade95bee8a8445a1",
      "563ef0818ca94c30ab21c61c128d169d",
      "68ef414a23db46329ec9d3672233bf38",
      "990a3f87ba8d4d15a3115791efeacf2e",
      "6a306c3d9cf6466abde712a82d7f5f5f",
      "67e6ed345b2d4390bcae305625d45725",
      "27735fabb7f74197bf5c28d3f7a62995",
      "521a0caeb6a242f7b4ec904eb7213d87",
      "2f2e93eeb6f547b9a7fcfd58afce4b41",
      "9360d6955a7a41b99ae504d21a7ce931",
      "54636804c24d47319c4db3a95d274c5f",
      "889d8ce2bf32489fa79623a94560abb6",
      "e7abb44a44644efa9db9d9e06d8b59c8",
      "284006eeb2364585bc2c0b89809b9713",
      "e80c040bcdc54767b1273c0ad496bb02",
      "98a466b7b42047238542b0ab93ede0d7",
      "4daa24bb1c2b42e68a82e87b3bbc8b53",
      "bdbb67d23ce84411b7ed277dd7b2e2c0",
      "710ef10667884369abe39f368acc16c9",
      "848e6b056b9d4fa882701c890bf48dd7",
      "00472bbbe46b4ff39168bb8d4aba0ccd",
      "fb769bb1ff624259b4e91d4997de512a",
      "011c21a8570c47df8db8dc3e8272554d",
      "ee6c3c762e5a4baea2e98f1e7fc8e29b",
      "58abeb0f98814fc29257f3e1fe41be9b",
      "28e23d1f92ae422bb07dd93a6be8a107",
      "4a4bea9d85b3435b96d8f013d2f854e3",
      "32a58ffb21634a188ab69a826e899389",
      "b7bee0be109e4018950e6ac2313b0da1",
      "95f1deaff08a402aac87c671e79130fa",
      "db0e842344354464b1070e4bd58e3ec5",
      "b995b643dd494447a35b882fbb6f8dfb",
      "92f878129841407ba4dbe45d9440d118",
      "8ad778f7b50d46ef97dfafdfb48c632b",
      "99b36652912e4ae38be0e428e8a33199",
      "64c53aa7ae0b454f842ce76a033649e0"
     ]
    },
    "id": "c5878422-e7fe-47ed-85d7-a9f91d6cc2e0",
    "outputId": "8d240785-b916-4be3-de92-29595746f683"
   },
   "outputs": [
    {
     "data": {
      "application/vnd.jupyter.widget-view+json": {
       "model_id": "caa3a4092fda464a885900e424592261",
       "version_major": 2,
       "version_minor": 0
      },
      "text/plain": [
       "Map(center=[0, 20], controls=(ZoomControl(options=['position', 'zoom_in_text', 'zoom_in_title', 'zoom_out_text…"
      ]
     },
     "metadata": {},
     "output_type": "display_data"
    }
   ],
   "source": [
    "# create a map\n",
    "m = ipyleaflet.Map(\n",
    "    basemap=ipyleaflet.basemaps.OpenStreetMap.Mapnik, \n",
    "    center=[0, 20], \n",
    "    zoom=3,\n",
    ")\n",
    "\n",
    "# add markers for sampling locations\n",
    "for row in pivot_location_taxon.reset_index().itertuples():\n",
    "    title = (\n",
    "        f\"{row.location}, {row.country} ({row.latitude:.3f}, {row.longitude:.3f})\\n\"\n",
    "        f\"{row.gambiae} gambiae, {row.coluzzii} coluzzii, {row.arabiensis} arabiensis\"\n",
    "    )\n",
    "    marker = ipyleaflet.Marker(\n",
    "        location=(row.latitude, row.longitude), \n",
    "        draggable=False,\n",
    "        title=title,\n",
    "    )\n",
    "    m.add_layer(marker)\n",
    "\n",
    "# add a scale bar\n",
    "m.add_control(ipyleaflet.ScaleControl(position=\"bottomleft\"))\n",
    "\n",
    "# display the map\n",
    "m"
   ]
  },
  {
   "cell_type": "markdown",
   "id": "bSeZlBZ3PuZt",
   "metadata": {
    "id": "bSeZlBZ3PuZt"
   },
   "source": [
    "Try hovering over the markers, you should see some text with a summary of how many samples are available by species."
   ]
  },
  {
   "cell_type": "markdown",
   "id": "fa5aa107-c682-4586-943f-54c6864c7699",
   "metadata": {
    "id": "fa5aa107-c682-4586-943f-54c6864c7699"
   },
   "source": [
    "## Practical exercises\n",
    "\n",
    "### English\n",
    "\n",
    "1. [Open this notebook in Google Colab](https://colab.research.google.com/github/anopheles-genomic-surveillance/anopheles-genomic-surveillance.github.io/blob/master/docs/workshop-1/module-2-sample-metadata.ipynb) and run it for yourself from top to bottom. Hint: click the rocket icon (<i class=\"fas fa-rocket\"></i>) at the top of the page, then select “Colab” from the drop-down menu. When colab opens, click the \"Edit\" menu, then select \"Clear all outputs\", then begin running the cells. \n",
    "1. Find out how many mosquito specimens are available for each of the different *Anopheles* species represented. Hint: try grouping the sample metadata dataframe by the \"taxon\" column, then calling the `size()` method.\n",
    "1. Make a pivot table that shows how many samples are available in the Ag3.0 resource that were collected in Mali, summarised by year, location and taxon. Now try Cameroon, or any other country of interest.\n",
    "1. How many countries are there for which we have some samples of *Anopheles coluzzii*? What about *Anopheles arabiensis* and *Anopheles gambiae*? Hint: Make a pivot table by country and taxon, and then query it.\n",
    "1. Plot a map of all sampling locations, changing the `basemap` parameter to show a different background map. Hint: see the [ipyleaflet basemaps documentation](https://ipyleaflet.readthedocs.io/en/latest/map_and_basemaps/basemaps.html) for a list of available options.\n",
    "1. Plot a map that starts centered and zoomed in to Uganda, or any other country of interest. Hint: change the `center` and `zoom` parameters when calling the ipyleaflet `Map()` function.\n",
    "1. Plot a map showing only locations where we have samples of *Anopheles coluzzii*. Now try *Anopheles arabiensis* or *Anopheles gambiae*.\n",
    "1. If you feel like a challenge, plot a map with markers for sampling locations, and add a popup to each marker showing a pivot table of how many samples were collected by year and species.\n",
    "\n",
    "### Français\n",
    "\n",
    "1. [Ouvrir ce notebook dans Google Colab](https://colab.research.google.com/github/anopheles-genomic-surveillance/anopheles-genomic-surveillance.github.io/blob/master/docs/workshop-1/module-2-sample-metadata.ipynb) et exécuter le vous-même du début à la fin. Indice: cliquer sur l'icone fusée (<i class=\"fas fa-rocket\"></i>) au sommet de la page et sélectionner \"Colab\" dans le menu déroulant. Quand Colab s'ouvre, cliquer sur le menu \"Edit\" et sélectionner \"Clear all outputs\", commencer ensuite à exéuter les cellules.\n",
    "1. Trouver combien de moustiques sont disponibles pour chacune des différentes espèces d'Anophèles représentées. Indice: essayer de grouper le dataframe des métadonnées des échantillons selon la colonne \"taxon\", ensuite utiliser la méthode `size()`.\n",
    "1. Créer une table à pivôt qui montre combien de moustiques capturés au Mali sont présents dans Ag3.0, résummés par année, lieu de capture et taxon. Essayer ensuite le Cameroun ou autre pays de votre choix.\n",
    "1. Pour combien de pays avons nous des *Anophèles coluzzii*? Même question pour *Anophèles arabiensis* et *Anophèles gambiae*? Indice: créer une table à pivôt par pays et taxon et utiliser une requête.\n",
    "1. Créer une carte de tous les lieux de capture utilisant une autre basemap pour avoir un fond différent. Indice: regarder la [documentation d'ipyleaflet basemaps](https://ipyleaflet.readthedocs.io/en/latest/map_and_basemaps/basemaps.html) pour une liste des options disponibles.\n",
    "1. Créer une carte centrée et zoomée sur l'Ouganda ou un autre pays de votre choix. Indice: modifier les paramètres center et zoom quand vous utilisez la fonction `Map()` d'ipyleaflet.\n",
    "1. Créer une carte ne montrant que les lieux de capture où des *Anophèles coluzzii* ont été capturés. Faire la même chose pour les *Anophèles arabiensis* ou les *Anophèles gambiae*.\n",
    "1. Si vous souhaitez un défi, créer une carte avec un marqueur pour chaque lieu de capture et ajouter un pop-up à chaque marqueur montrant une table à pivôt donnant le nombre de moustiques par année et taxon."
   ]
  },
  {
   "cell_type": "code",
   "execution_count": null,
   "id": "acbac6f4",
   "metadata": {},
   "outputs": [],
   "source": []
  }
 ],
 "metadata": {
  "colab": {
   "collapsed_sections": [],
   "name": "Workshop 1 - Module 2 - Accessing sample metadata - 2022-03-03.ipynb",
   "provenance": []
  },
  "kernelspec": {
   "display_name": "developer-developer-training-nb-maintenance-mgen-8.7.0",
   "language": "python",
   "name": "conda-env-developer-developer-training-nb-maintenance-mgen-8.7.0-py"
  },
  "language_info": {
   "codemirror_mode": {
    "name": "ipython",
    "version": 3
   },
   "file_extension": ".py",
   "mimetype": "text/x-python",
   "name": "python",
   "nbconvert_exporter": "python",
   "pygments_lexer": "ipython3",
   "version": "3.10.11"
  },
  "widgets": {
   "application/vnd.jupyter.widget-state+json": {
    "state": {
     "01398a94f6a34b1a8257193639f2167a": {
      "model_module": "jupyter-leaflet",
      "model_module_version": "^0.17.0",
      "model_name": "LeafletAttributionControlModel",
      "state": {
       "_model_module_version": "^0.17.0",
       "_view_module_version": "^0.17.0",
       "options": [
        "position",
        "prefix"
       ],
       "position": "bottomright",
       "prefix": "ipyleaflet"
      }
     },
     "015e81ba56c54ea0a9ccefdb49f3a228": {
      "model_module": "jupyter-leaflet",
      "model_module_version": "^0.17.0",
      "model_name": "LeafletMarkerModel",
      "state": {
       "_model_module_version": "^0.17.0",
       "_view_module_version": "^0.17.0",
       "draggable": false,
       "location": [
        8.534,
        13.53
       ],
       "options": [
        "alt",
        "draggable",
        "keyboard",
        "rise_offset",
        "rise_on_hover",
        "rotation_angle",
        "rotation_origin",
        "title",
        "z_index_offset"
       ],
       "title": "Carrefour Poli, Cameroon (8.534, 13.530)\n0 gambiae, 1 coluzzii, 0 arabiensis"
      }
     },
     "018fb58ce2914dea9973e320cd62f4bb": {
      "model_module": "jupyter-leaflet",
      "model_module_version": "^0.17.0",
      "model_name": "LeafletMarkerModel",
      "state": {
       "_model_module_version": "^0.17.0",
       "_view_module_version": "^0.17.0",
       "draggable": false,
       "location": [
        -12.991,
        45.156
       ],
       "options": [
        "alt",
        "draggable",
        "keyboard",
        "rise_offset",
        "rise_on_hover",
        "rotation_angle",
        "rotation_origin",
        "title",
        "z_index_offset"
       ],
       "title": "Mtsanga Charifou, Mayotte (-12.991, 45.156)\n7 gambiae, 0 coluzzii, 0 arabiensis"
      }
     },
     "021bbbe5eff84b538b3320344b399286": {
      "model_module": "jupyter-leaflet",
      "model_module_version": "^0.17.0",
      "model_name": "LeafletMarkerModel",
      "state": {
       "_model_module_version": "^0.17.0",
       "_view_module_version": "^0.17.0",
       "draggable": false,
       "location": [
        -8.884,
        13.302
       ],
       "options": [
        "alt",
        "draggable",
        "keyboard",
        "rise_offset",
        "rise_on_hover",
        "rotation_angle",
        "rotation_origin",
        "title",
        "z_index_offset"
       ],
       "title": "Luanda, Angola (-8.884, 13.302)\n0 gambiae, 81 coluzzii, 0 arabiensis"
      }
     },
     "0243025eec4d4f7eb8055a48a32f4595": {
      "model_module": "jupyter-leaflet",
      "model_module_version": "^0.17.0",
      "model_name": "LeafletMarkerModel",
      "state": {
       "_model_module_version": "^0.17.0",
       "_view_module_version": "^0.17.0",
       "draggable": false,
       "location": [
        12.69,
        -7.87
       ],
       "options": [
        "alt",
        "draggable",
        "keyboard",
        "rise_offset",
        "rise_on_hover",
        "rotation_angle",
        "rotation_origin",
        "title",
        "z_index_offset"
       ],
       "title": "Moribobougou, Mali (12.690, -7.870)\n0 gambiae, 7 coluzzii, 0 arabiensis"
      }
     },
     "02683a8db090459080d01c520904a55b": {
      "model_module": "jupyter-leaflet",
      "model_module_version": "^0.17.0",
      "model_name": "LeafletMarkerModel",
      "state": {
       "_model_module_version": "^0.17.0",
       "_view_module_version": "^0.17.0",
       "draggable": false,
       "location": [
        10.522,
        14.265
       ],
       "options": [
        "alt",
        "draggable",
        "keyboard",
        "rise_offset",
        "rise_on_hover",
        "rotation_angle",
        "rotation_origin",
        "title",
        "z_index_offset"
       ],
       "title": "Gakle, Cameroon (10.522, 14.265)\n0 gambiae, 1 coluzzii, 0 arabiensis"
      }
     },
     "04c27c3c010441caac50ee4ec57e3281": {
      "model_module": "jupyter-leaflet",
      "model_module_version": "^0.17.0",
      "model_name": "LeafletMarkerModel",
      "state": {
       "_model_module_version": "^0.17.0",
       "_view_module_version": "^0.17.0",
       "draggable": false,
       "location": [
        -12.857,
        45.155
       ],
       "options": [
        "alt",
        "draggable",
        "keyboard",
        "rise_offset",
        "rise_on_hover",
        "rotation_angle",
        "rotation_origin",
        "title",
        "z_index_offset"
       ],
       "title": "Mont Benara, Mayotte (-12.857, 45.155)\n2 gambiae, 0 coluzzii, 0 arabiensis"
      }
     },
     "0736b57dc66b4b3c8f78e617c11da57c": {
      "model_module": "jupyter-leaflet",
      "model_module_version": "^0.17.0",
      "model_name": "LeafletMarkerModel",
      "state": {
       "_model_module_version": "^0.17.0",
       "_view_module_version": "^0.17.0",
       "draggable": false,
       "location": [
        11.151,
        -4.235
       ],
       "options": [
        "alt",
        "draggable",
        "keyboard",
        "rise_offset",
        "rise_on_hover",
        "rotation_angle",
        "rotation_origin",
        "title",
        "z_index_offset"
       ],
       "title": "Pala, Burkina Faso (11.151, -4.235)\n64 gambiae, 11 coluzzii, 2 arabiensis"
      }
     },
     "0966508df37c4455a733eb5fef360a67": {
      "model_module": "jupyter-leaflet",
      "model_module_version": "^0.17.0",
      "model_name": "LeafletMarkerModel",
      "state": {
       "_model_module_version": "^0.17.0",
       "_view_module_version": "^0.17.0",
       "draggable": false,
       "location": [
        2.367,
        9.817
       ],
       "options": [
        "alt",
        "draggable",
        "keyboard",
        "rise_offset",
        "rise_on_hover",
        "rotation_angle",
        "rotation_origin",
        "title",
        "z_index_offset"
       ],
       "title": "Campo, Cameroon (2.367, 9.817)\n0 gambiae, 2 coluzzii, 0 arabiensis"
      }
     },
     "097a494cc1cb424eba5abaff42aed3c3": {
      "model_module": "jupyter-leaflet",
      "model_module_version": "^0.17.0",
      "model_name": "LeafletMarkerModel",
      "state": {
       "_model_module_version": "^0.17.0",
       "_view_module_version": "^0.17.0",
       "draggable": false,
       "location": [
        -1.431,
        34.199
       ],
       "options": [
        "alt",
        "draggable",
        "keyboard",
        "rise_offset",
        "rise_on_hover",
        "rotation_angle",
        "rotation_origin",
        "title",
        "z_index_offset"
       ],
       "title": "Tarime, Tanzania (-1.431, 34.199)\n0 gambiae, 0 coluzzii, 47 arabiensis"
      }
     },
     "0a0949fd68864f568d200ede89f49e75": {
      "model_module": "jupyter-leaflet",
      "model_module_version": "^0.17.0",
      "model_name": "LeafletMarkerModel",
      "state": {
       "_model_module_version": "^0.17.0",
       "_view_module_version": "^0.17.0",
       "draggable": false,
       "location": [
        4.341,
        13.558
       ],
       "options": [
        "alt",
        "draggable",
        "keyboard",
        "rise_offset",
        "rise_on_hover",
        "rotation_angle",
        "rotation_origin",
        "title",
        "z_index_offset"
       ],
       "title": "Mayos, Cameroon (4.341, 13.558)\n110 gambiae, 0 coluzzii, 0 arabiensis"
      }
     },
     "0a923e8eb3d348cfaf3c6191c307e295": {
      "model_module": "jupyter-leaflet",
      "model_module_version": "^0.17.0",
      "model_name": "LeafletMarkerModel",
      "state": {
       "_model_module_version": "^0.17.0",
       "_view_module_version": "^0.17.0",
       "draggable": false,
       "location": [
        10.425,
        14.242
       ],
       "options": [
        "alt",
        "draggable",
        "keyboard",
        "rise_offset",
        "rise_on_hover",
        "rotation_angle",
        "rotation_origin",
        "title",
        "z_index_offset"
       ],
       "title": "Doulougou, Cameroon (10.425, 14.242)\n4 gambiae, 0 coluzzii, 0 arabiensis"
      }
     },
     "0e3c93237e6044e1bca6014f025aec7f": {
      "model_module": "jupyter-leaflet",
      "model_module_version": "^0.17.0",
      "model_name": "LeafletMarkerModel",
      "state": {
       "_model_module_version": "^0.17.0",
       "_view_module_version": "^0.17.0",
       "draggable": false,
       "location": [
        12.2,
        -8.2
       ],
       "options": [
        "alt",
        "draggable",
        "keyboard",
        "rise_offset",
        "rise_on_hover",
        "rotation_angle",
        "rotation_origin",
        "title",
        "z_index_offset"
       ],
       "title": "Bancoumana, Mali (12.200, -8.200)\n9 gambiae, 0 coluzzii, 0 arabiensis"
      }
     },
     "1025b783dd444bdbb0dd8abe80c5df4c": {
      "model_module": "jupyter-leaflet",
      "model_module_version": "^0.17.0",
      "model_name": "LeafletMarkerModel",
      "state": {
       "_model_module_version": "^0.17.0",
       "_view_module_version": "^0.17.0",
       "draggable": false,
       "location": [
        7.107,
        13.209
       ],
       "options": [
        "alt",
        "draggable",
        "keyboard",
        "rise_offset",
        "rise_on_hover",
        "rotation_angle",
        "rotation_origin",
        "title",
        "z_index_offset"
       ],
       "title": "Lougga Tapadi, Cameroon (7.107, 13.209)\n1 gambiae, 0 coluzzii, 0 arabiensis"
      }
     },
     "11a280addcd2473d801602a54871949e": {
      "model_module": "jupyter-leaflet",
      "model_module_version": "^0.17.0",
      "model_name": "LeafletMarkerModel",
      "state": {
       "_model_module_version": "^0.17.0",
       "_view_module_version": "^0.17.0",
       "draggable": false,
       "location": [
        7.783,
        13.547
       ],
       "options": [
        "alt",
        "draggable",
        "keyboard",
        "rise_offset",
        "rise_on_hover",
        "rotation_angle",
        "rotation_origin",
        "title",
        "z_index_offset"
       ],
       "title": "Harr, Cameroon (7.783, 13.547)\n1 gambiae, 0 coluzzii, 0 arabiensis"
      }
     },
     "19c8178d99234a98a839660a5200113d": {
      "model_module": "jupyter-leaflet",
      "model_module_version": "^0.17.0",
      "model_name": "LeafletMarkerModel",
      "state": {
       "_model_module_version": "^0.17.0",
       "_view_module_version": "^0.17.0",
       "draggable": false,
       "location": [
        10.256,
        14.217
       ],
       "options": [
        "alt",
        "draggable",
        "keyboard",
        "rise_offset",
        "rise_on_hover",
        "rotation_angle",
        "rotation_origin",
        "title",
        "z_index_offset"
       ],
       "title": "Laf, Cameroon (10.256, 14.217)\n3 gambiae, 0 coluzzii, 0 arabiensis"
      }
     },
     "1c447e2d410a407d99f8d6d4096f3aa4": {
      "model_module": "jupyter-leaflet",
      "model_module_version": "^0.17.0",
      "model_name": "LeafletMarkerModel",
      "state": {
       "_model_module_version": "^0.17.0",
       "_view_module_version": "^0.17.0",
       "draggable": false,
       "location": [
        -12.703,
        45.081
       ],
       "options": [
        "alt",
        "draggable",
        "keyboard",
        "rise_offset",
        "rise_on_hover",
        "rotation_angle",
        "rotation_origin",
        "title",
        "z_index_offset"
       ],
       "title": "Mtsamboro Forest Reserve, Mayotte (-12.703, 45.081)\n1 gambiae, 0 coluzzii, 0 arabiensis"
      }
     },
     "21d3b189defb4721ace12dd430f906ce": {
      "model_module": "jupyter-leaflet",
      "model_module_version": "^0.17.0",
      "model_name": "LeafletMarkerModel",
      "state": {
       "_model_module_version": "^0.17.0",
       "_view_module_version": "^0.17.0",
       "draggable": false,
       "location": [
        9.765,
        13.95
       ],
       "options": [
        "alt",
        "draggable",
        "keyboard",
        "rise_offset",
        "rise_on_hover",
        "rotation_angle",
        "rotation_origin",
        "title",
        "z_index_offset"
       ],
       "title": "Rompo, Cameroon (9.765, 13.950)\n1 gambiae, 0 coluzzii, 0 arabiensis"
      }
     },
     "23e119f6407f4bf3a570dd98368f710c": {
      "model_module": "jupyter-leaflet",
      "model_module_version": "^0.17.0",
      "model_name": "LeafletMarkerModel",
      "state": {
       "_model_module_version": "^0.17.0",
       "_view_module_version": "^0.17.0",
       "draggable": false,
       "location": [
        11.891,
        -15.582
       ],
       "options": [
        "alt",
        "draggable",
        "keyboard",
        "rise_offset",
        "rise_on_hover",
        "rotation_angle",
        "rotation_origin",
        "title",
        "z_index_offset"
       ],
       "title": "Antula, Guinea-Bissau (11.891, -15.582)\n0 gambiae, 0 coluzzii, 0 arabiensis"
      }
     },
     "24023707bac94f3881664df3e5efd1f0": {
      "model_module": "jupyter-leaflet",
      "model_module_version": "^0.17.0",
      "model_name": "LeafletMarkerModel",
      "state": {
       "_model_module_version": "^0.17.0",
       "_view_module_version": "^0.17.0",
       "draggable": false,
       "location": [
        9.703,
        13.859
       ],
       "options": [
        "alt",
        "draggable",
        "keyboard",
        "rise_offset",
        "rise_on_hover",
        "rotation_angle",
        "rotation_origin",
        "title",
        "z_index_offset"
       ],
       "title": "Séboré, Cameroon (9.703, 13.859)\n1 gambiae, 0 coluzzii, 0 arabiensis"
      }
     },
     "2664e55c2c6745ce8ce92d8e61c16c41": {
      "model_module": "jupyter-leaflet",
      "model_module_version": "^0.17.0",
      "model_name": "LeafletMarkerModel",
      "state": {
       "_model_module_version": "^0.17.0",
       "_view_module_version": "^0.17.0",
       "draggable": false,
       "location": [
        11.88,
        -8.45
       ],
       "options": [
        "alt",
        "draggable",
        "keyboard",
        "rise_offset",
        "rise_on_hover",
        "rotation_angle",
        "rotation_origin",
        "title",
        "z_index_offset"
       ],
       "title": "Kela, Mali (11.880, -8.450)\n23 gambiae, 0 coluzzii, 0 arabiensis"
      }
     },
     "269ea4ca6862404eb6003f74f33a2682": {
      "model_module": "jupyter-leaflet",
      "model_module_version": "^0.17.0",
      "model_name": "LeafletMarkerModel",
      "state": {
       "_model_module_version": "^0.17.0",
       "_view_module_version": "^0.17.0",
       "draggable": false,
       "location": [
        -3.482,
        37.308
       ],
       "options": [
        "alt",
        "draggable",
        "keyboard",
        "rise_offset",
        "rise_on_hover",
        "rotation_angle",
        "rotation_origin",
        "title",
        "z_index_offset"
       ],
       "title": "Moshi, Tanzania (-3.482, 37.308)\n0 gambiae, 0 coluzzii, 40 arabiensis"
      }
     },
     "2707a690dee44d1088e141c52a1d4ae1": {
      "model_module": "jupyter-leaflet",
      "model_module_version": "^0.17.0",
      "model_name": "LeafletMarkerModel",
      "state": {
       "_model_module_version": "^0.17.0",
       "_view_module_version": "^0.17.0",
       "draggable": false,
       "location": [
        9.28,
        -10.03
       ],
       "options": [
        "alt",
        "draggable",
        "keyboard",
        "rise_offset",
        "rise_on_hover",
        "rotation_angle",
        "rotation_origin",
        "title",
        "z_index_offset"
       ],
       "title": "Koraboh, Guinea (9.280, -10.030)\n62 gambiae, 0 coluzzii, 0 arabiensis"
      }
     },
     "28740c60030b4cfb830a280e87a65ce7": {
      "model_module": "jupyter-leaflet",
      "model_module_version": "^0.17.0",
      "model_name": "LeafletMarkerModel",
      "state": {
       "_model_module_version": "^0.17.0",
       "_view_module_version": "^0.17.0",
       "draggable": false,
       "location": [
        4.777,
        13.844
       ],
       "options": [
        "alt",
        "draggable",
        "keyboard",
        "rise_offset",
        "rise_on_hover",
        "rotation_angle",
        "rotation_origin",
        "title",
        "z_index_offset"
       ],
       "title": "Daiguene, Cameroon (4.777, 13.844)\n96 gambiae, 0 coluzzii, 0 arabiensis"
      }
     },
     "2931ddcf1907477e8f7854ac72275b5f": {
      "model_module": "jupyter-leaflet",
      "model_module_version": "^0.17.0",
      "model_name": "LeafletAttributionControlModel",
      "state": {
       "_model_module_version": "^0.17.0",
       "_view_module_version": "^0.17.0",
       "options": [
        "position",
        "prefix"
       ],
       "position": "bottomright",
       "prefix": "ipyleaflet"
      }
     },
     "2c154035dbaa465f9071c4dd5846c5aa": {
      "model_module": "jupyter-leaflet",
      "model_module_version": "^0.17.0",
      "model_name": "LeafletMarkerModel",
      "state": {
       "_model_module_version": "^0.17.0",
       "_view_module_version": "^0.17.0",
       "draggable": false,
       "location": [
        2.949,
        9.927
       ],
       "options": [
        "alt",
        "draggable",
        "keyboard",
        "rise_offset",
        "rise_on_hover",
        "rotation_angle",
        "rotation_origin",
        "title",
        "z_index_offset"
       ],
       "title": "Dombé, Cameroon (2.949, 9.927)\n1 gambiae, 0 coluzzii, 0 arabiensis"
      }
     },
     "2cc629717e7f41cd9528a874e79bdc1d": {
      "model_module": "jupyter-leaflet",
      "model_module_version": "^0.17.0",
      "model_name": "LeafletMapStyleModel",
      "state": {
       "_model_module_version": "^0.17.0"
      }
     },
     "2f874c944a794d45a1ebbe2f44bf33a9": {
      "model_module": "jupyter-leaflet",
      "model_module_version": "^0.17.0",
      "model_name": "LeafletZoomControlModel",
      "state": {
       "_model_module_version": "^0.17.0",
       "_view_module_version": "^0.17.0",
       "options": [
        "position",
        "zoom_in_text",
        "zoom_in_title",
        "zoom_out_text",
        "zoom_out_title"
       ]
      }
     },
     "3000560d1f4c40278c683fdf033a929d": {
      "model_module": "jupyter-leaflet",
      "model_module_version": "^0.17.0",
      "model_name": "LeafletMarkerModel",
      "state": {
       "_model_module_version": "^0.17.0",
       "_view_module_version": "^0.17.0",
       "draggable": false,
       "location": [
        10.3,
        14.254
       ],
       "options": [
        "alt",
        "draggable",
        "keyboard",
        "rise_offset",
        "rise_on_hover",
        "rotation_angle",
        "rotation_origin",
        "title",
        "z_index_offset"
       ],
       "title": "Moulva, Cameroon (10.300, 14.254)\n2 gambiae, 0 coluzzii, 0 arabiensis"
      }
     },
     "3154becb4364466e878429a98da1802f": {
      "model_module": "jupyter-leaflet",
      "model_module_version": "^0.17.0",
      "model_name": "LeafletMarkerModel",
      "state": {
       "_model_module_version": "^0.17.0",
       "_view_module_version": "^0.17.0",
       "draggable": false,
       "location": [
        6.997,
        13.133
       ],
       "options": [
        "alt",
        "draggable",
        "keyboard",
        "rise_offset",
        "rise_on_hover",
        "rotation_angle",
        "rotation_origin",
        "title",
        "z_index_offset"
       ],
       "title": "Birsok, Cameroon (6.997, 13.133)\n1 gambiae, 0 coluzzii, 0 arabiensis"
      }
     },
     "3182f8df24044a149c0f7406b9512fde": {
      "model_module": "jupyter-leaflet",
      "model_module_version": "^0.17.0",
      "model_name": "LeafletMarkerModel",
      "state": {
       "_model_module_version": "^0.17.0",
       "_view_module_version": "^0.17.0",
       "draggable": false,
       "location": [
        13.2,
        -6.13
       ],
       "options": [
        "alt",
        "draggable",
        "keyboard",
        "rise_offset",
        "rise_on_hover",
        "rotation_angle",
        "rotation_origin",
        "title",
        "z_index_offset"
       ],
       "title": "Fanzana, Mali (13.200, -6.130)\n1 gambiae, 6 coluzzii, 1 arabiensis"
      }
     },
     "324a8611a6e94ec7b3af058122b4c5bc": {
      "model_module": "jupyter-leaflet",
      "model_module_version": "^0.17.0",
      "model_name": "LeafletMarkerModel",
      "state": {
       "_model_module_version": "^0.17.0",
       "_view_module_version": "^0.17.0",
       "draggable": false,
       "location": [
        10.188,
        14.143
       ],
       "options": [
        "alt",
        "draggable",
        "keyboard",
        "rise_offset",
        "rise_on_hover",
        "rotation_angle",
        "rotation_origin",
        "title",
        "z_index_offset"
       ],
       "title": "Massila, Cameroon (10.188, 14.143)\n6 gambiae, 0 coluzzii, 0 arabiensis"
      }
     },
     "32678b0426974e71a29b5b33736d5905": {
      "model_module": "jupyter-leaflet",
      "model_module_version": "^0.17.0",
      "model_name": "LeafletMarkerModel",
      "state": {
       "_model_module_version": "^0.17.0",
       "_view_module_version": "^0.17.0",
       "draggable": false,
       "location": [
        13.55,
        -15.9
       ],
       "options": [
        "alt",
        "draggable",
        "keyboard",
        "rise_offset",
        "rise_on_hover",
        "rotation_angle",
        "rotation_origin",
        "title",
        "z_index_offset"
       ],
       "title": "Njabakunda, Gambia, The (13.550, -15.900)\n0 gambiae, 0 coluzzii, 0 arabiensis"
      }
     },
     "341f7de6c80d46a0999bb56252e1d48d": {
      "model_module": "jupyter-leaflet",
      "model_module_version": "^0.17.0",
      "model_name": "LeafletMarkerModel",
      "state": {
       "_model_module_version": "^0.17.0",
       "_view_module_version": "^0.17.0",
       "draggable": false,
       "location": [
        9.049,
        13.656
       ],
       "options": [
        "alt",
        "draggable",
        "keyboard",
        "rise_offset",
        "rise_on_hover",
        "rotation_angle",
        "rotation_origin",
        "title",
        "z_index_offset"
       ],
       "title": "Lagdo, Cameroon (9.049, 13.656)\n0 gambiae, 1 coluzzii, 2 arabiensis"
      }
     },
     "386c255780b74440bd7328bb30c2358a": {
      "model_module": "jupyter-leaflet",
      "model_module_version": "^0.17.0",
      "model_name": "LeafletMarkerModel",
      "state": {
       "_model_module_version": "^0.17.0",
       "_view_module_version": "^0.17.0",
       "draggable": false,
       "location": [
        3.7,
        8.7
       ],
       "options": [
        "alt",
        "draggable",
        "keyboard",
        "rise_offset",
        "rise_on_hover",
        "rotation_angle",
        "rotation_origin",
        "title",
        "z_index_offset"
       ],
       "title": "Bioko, Equatorial Guinea (3.700, 8.700)\n10 gambiae, 0 coluzzii, 0 arabiensis"
      }
     },
     "38c85df98ff147d088bc18b2b1115e52": {
      "model_module": "jupyter-leaflet",
      "model_module_version": "^0.17.0",
      "model_name": "LeafletMarkerModel",
      "state": {
       "_model_module_version": "^0.17.0",
       "_view_module_version": "^0.17.0",
       "draggable": false,
       "location": [
        -23.716,
        35.299
       ],
       "options": [
        "alt",
        "draggable",
        "keyboard",
        "rise_offset",
        "rise_on_hover",
        "rotation_angle",
        "rotation_origin",
        "title",
        "z_index_offset"
       ],
       "title": "Furvela, Mozambique (-23.716, 35.299)\n74 gambiae, 0 coluzzii, 0 arabiensis"
      }
     },
     "38e563aa5cd54e94ac0bdea4c16f7a86": {
      "model_module": "jupyter-leaflet",
      "model_module_version": "^0.17.0",
      "model_name": "LeafletMapStyleModel",
      "state": {
       "_model_module_version": "^0.17.0"
      }
     },
     "3a3088516af548cdad235f7991fde63c": {
      "model_module": "jupyter-leaflet",
      "model_module_version": "^0.17.0",
      "model_name": "LeafletMarkerModel",
      "state": {
       "_model_module_version": "^0.17.0",
       "_view_module_version": "^0.17.0",
       "draggable": false,
       "location": [
        8.199,
        13.641
       ],
       "options": [
        "alt",
        "draggable",
        "keyboard",
        "rise_offset",
        "rise_on_hover",
        "rotation_angle",
        "rotation_origin",
        "title",
        "z_index_offset"
       ],
       "title": "Banda, Cameroon (8.199, 13.641)\n1 gambiae, 0 coluzzii, 0 arabiensis"
      }
     },
     "3b3017e21bfa46eca6085f0be0c5d0ce": {
      "model_module": "jupyter-leaflet",
      "model_module_version": "^0.17.0",
      "model_name": "LeafletMarkerModel",
      "state": {
       "_model_module_version": "^0.17.0",
       "_view_module_version": "^0.17.0",
       "draggable": false,
       "location": [
        8.579,
        13.516
       ],
       "options": [
        "alt",
        "draggable",
        "keyboard",
        "rise_offset",
        "rise_on_hover",
        "rotation_angle",
        "rotation_origin",
        "title",
        "z_index_offset"
       ],
       "title": "Djamboutou, Cameroon (8.579, 13.516)\n1 gambiae, 0 coluzzii, 0 arabiensis"
      }
     },
     "3b334ada79f64d03b55aadf84febdac4": {
      "model_module": "jupyter-leaflet",
      "model_module_version": "^0.17.0",
      "model_name": "LeafletMarkerModel",
      "state": {
       "_model_module_version": "^0.17.0",
       "_view_module_version": "^0.17.0",
       "draggable": false,
       "location": [
        7.82,
        13.581
       ],
       "options": [
        "alt",
        "draggable",
        "keyboard",
        "rise_offset",
        "rise_on_hover",
        "rotation_angle",
        "rotation_origin",
        "title",
        "z_index_offset"
       ],
       "title": "Djet, Cameroon (7.820, 13.581)\n2 gambiae, 0 coluzzii, 0 arabiensis"
      }
     },
     "3bb019bc6241445e99c171962156bfa9": {
      "model_module": "jupyter-leaflet",
      "model_module_version": "^0.17.0",
      "model_name": "LeafletMapStyleModel",
      "state": {
       "_model_module_version": "^0.17.0"
      }
     },
     "3bc0fbedefcb4e07baea6f829307be9d": {
      "model_module": "jupyter-leaflet",
      "model_module_version": "^0.17.0",
      "model_name": "LeafletMarkerModel",
      "state": {
       "_model_module_version": "^0.17.0",
       "_view_module_version": "^0.17.0",
       "draggable": false,
       "location": [
        10.462,
        14.228
       ],
       "options": [
        "alt",
        "draggable",
        "keyboard",
        "rise_offset",
        "rise_on_hover",
        "rotation_angle",
        "rotation_origin",
        "title",
        "z_index_offset"
       ],
       "title": "Palama, Cameroon (10.462, 14.228)\n1 gambiae, 1 coluzzii, 0 arabiensis"
      }
     },
     "3f330e3bf78b41dda0a2b1fee9f3361b": {
      "model_module": "jupyter-leaflet",
      "model_module_version": "^0.17.0",
      "model_name": "LeafletMarkerModel",
      "state": {
       "_model_module_version": "^0.17.0",
       "_view_module_version": "^0.17.0",
       "draggable": false,
       "location": [
        4.166,
        11.535
       ],
       "options": [
        "alt",
        "draggable",
        "keyboard",
        "rise_offset",
        "rise_on_hover",
        "rotation_angle",
        "rotation_origin",
        "title",
        "z_index_offset"
       ],
       "title": "Obala, Cameroon (4.166, 11.535)\n1 gambiae, 0 coluzzii, 0 arabiensis"
      }
     },
     "3f9a6829691642a0ba6620f1944ab149": {
      "model_module": "jupyter-leaflet",
      "model_module_version": "^0.17.0",
      "model_name": "LeafletMarkerModel",
      "state": {
       "_model_module_version": "^0.17.0",
       "_view_module_version": "^0.17.0",
       "draggable": false,
       "location": [
        5.726,
        10.868
       ],
       "options": [
        "alt",
        "draggable",
        "keyboard",
        "rise_offset",
        "rise_on_hover",
        "rotation_angle",
        "rotation_origin",
        "title",
        "z_index_offset"
       ],
       "title": "Mfelap, Cameroon (5.726, 10.868)\n1 gambiae, 0 coluzzii, 0 arabiensis"
      }
     },
     "43e725a635734089bf02fd409bcd9380": {
      "model_module": "jupyter-leaflet",
      "model_module_version": "^0.17.0",
      "model_name": "LeafletMarkerModel",
      "state": {
       "_model_module_version": "^0.17.0",
       "_view_module_version": "^0.17.0",
       "draggable": false,
       "location": [
        9.774,
        13.893
       ],
       "options": [
        "alt",
        "draggable",
        "keyboard",
        "rise_offset",
        "rise_on_hover",
        "rotation_angle",
        "rotation_origin",
        "title",
        "z_index_offset"
       ],
       "title": "Makabay (Djarengo), Cameroon (9.774, 13.893)\n1 gambiae, 0 coluzzii, 0 arabiensis"
      }
     },
     "45211497bd9d426eb239c9c72f53ff32": {
      "model_module": "jupyter-leaflet",
      "model_module_version": "^0.17.0",
      "model_name": "LeafletMarkerModel",
      "state": {
       "_model_module_version": "^0.17.0",
       "_view_module_version": "^0.17.0",
       "draggable": false,
       "location": [
        5.484,
        10.593
       ],
       "options": [
        "alt",
        "draggable",
        "keyboard",
        "rise_offset",
        "rise_on_hover",
        "rotation_angle",
        "rotation_origin",
        "title",
        "z_index_offset"
       ],
       "title": "Mangoum, Cameroon (5.484, 10.593)\n1 gambiae, 0 coluzzii, 0 arabiensis"
      }
     },
     "4932e0f507b04766a88f64562a08608d": {
      "model_module": "jupyter-leaflet",
      "model_module_version": "^0.17.0",
      "model_name": "LeafletMapStyleModel",
      "state": {
       "_model_module_version": "^0.17.0",
       "cursor": "move"
      }
     },
     "4cb17dcd42cb474fb7d180df6c7576f3": {
      "model_module": "jupyter-leaflet",
      "model_module_version": "^0.17.0",
      "model_name": "LeafletMarkerModel",
      "state": {
       "_model_module_version": "^0.17.0",
       "_view_module_version": "^0.17.0",
       "draggable": false,
       "location": [
        11.238,
        -4.235
       ],
       "options": [
        "alt",
        "draggable",
        "keyboard",
        "rise_offset",
        "rise_on_hover",
        "rotation_angle",
        "rotation_origin",
        "title",
        "z_index_offset"
       ],
       "title": "Souroukoudinga, Burkina Faso (11.238, -4.235)\n43 gambiae, 35 coluzzii, 0 arabiensis"
      }
     },
     "4e8dcc84551e4ff88c68d6b637c0f346": {
      "model_module": "jupyter-leaflet",
      "model_module_version": "^0.17.0",
      "model_name": "LeafletMarkerModel",
      "state": {
       "_model_module_version": "^0.17.0",
       "_view_module_version": "^0.17.0",
       "draggable": false,
       "location": [
        -0.751,
        29.701
       ],
       "options": [
        "alt",
        "draggable",
        "keyboard",
        "rise_offset",
        "rise_on_hover",
        "rotation_angle",
        "rotation_origin",
        "title",
        "z_index_offset"
       ],
       "title": "Kihihi, Uganda (-0.751, 29.701)\n95 gambiae, 0 coluzzii, 1 arabiensis"
      }
     },
     "4f09350b8223454cb52ef2727660e193": {
      "model_module": "jupyter-leaflet",
      "model_module_version": "^0.17.0",
      "model_name": "LeafletMapModel",
      "state": {
       "_model_module_version": "^0.17.0",
       "_view_module_version": "^0.17.0",
       "bottom": 1224,
       "center": [
        0,
        20
       ],
       "controls": [
        "IPY_MODEL_acecd6bd219646e6980c70d6ea07cde4",
        "IPY_MODEL_01398a94f6a34b1a8257193639f2167a"
       ],
       "default_style": "IPY_MODEL_3bb019bc6241445e99c171962156bfa9",
       "dragging_style": "IPY_MODEL_4932e0f507b04766a88f64562a08608d",
       "east": 105.11718750000001,
       "fullscreen": false,
       "interpolation": "bilinear",
       "layers": [
        "IPY_MODEL_a7c78f4f25d547b79112d1209c3efc52"
       ],
       "layout": "IPY_MODEL_f7b1f2b8cf9e425abf2f544c4e3b5895",
       "left": 654,
       "modisdate": "2024-03-03",
       "north": 33.137551192346145,
       "options": [
        "bounce_at_zoom_limits",
        "box_zoom",
        "center",
        "close_popup_on_click",
        "double_click_zoom",
        "dragging",
        "fullscreen",
        "inertia",
        "inertia_deceleration",
        "inertia_max_speed",
        "interpolation",
        "keyboard",
        "keyboard_pan_offset",
        "keyboard_zoom_offset",
        "max_zoom",
        "min_zoom",
        "prefer_canvas",
        "scroll_wheel_zoom",
        "tap",
        "tap_tolerance",
        "touch_zoom",
        "world_copy_jump",
        "zoom",
        "zoom_animation_threshold",
        "zoom_delta",
        "zoom_snap"
       ],
       "prefer_canvas": false,
       "right": 1622,
       "south": -33.137551192346145,
       "style": "IPY_MODEL_38e563aa5cd54e94ac0bdea4c16f7a86",
       "top": 824,
       "west": -65.03906250000001,
       "window_url": "https://datalab-bespin.malariagen.net/user/ahernank/notebooks/github/anopheles-genomic-surveillance.github.io/docs/workshop-1/module-2-sample-metadata.ipynb#",
       "zoom": 3
      }
     },
     "50985fe2e65b47ea8c156d376ed16d86": {
      "model_module": "jupyter-leaflet",
      "model_module_version": "^0.17.0",
      "model_name": "LeafletMarkerModel",
      "state": {
       "_model_module_version": "^0.17.0",
       "_view_module_version": "^0.17.0",
       "draggable": false,
       "location": [
        9.513,
        13.823
       ],
       "options": [
        "alt",
        "draggable",
        "keyboard",
        "rise_offset",
        "rise_on_hover",
        "rotation_angle",
        "rotation_origin",
        "title",
        "z_index_offset"
       ],
       "title": "Mayo Lebride, Cameroon (9.513, 13.823)\n2 gambiae, 0 coluzzii, 0 arabiensis"
      }
     },
     "51324e36a7f4481b932c88f8197e6c79": {
      "model_module": "jupyter-leaflet",
      "model_module_version": "^0.17.0",
      "model_name": "LeafletMarkerModel",
      "state": {
       "_model_module_version": "^0.17.0",
       "_view_module_version": "^0.17.0",
       "draggable": false,
       "location": [
        -4.94,
        38.948
       ],
       "options": [
        "alt",
        "draggable",
        "keyboard",
        "rise_offset",
        "rise_on_hover",
        "rotation_angle",
        "rotation_origin",
        "title",
        "z_index_offset"
       ],
       "title": "Muheza, Tanzania (-4.940, 38.948)\n32 gambiae, 0 coluzzii, 1 arabiensis"
      }
     },
     "5488dde3465e41d29fe97531fd8692ee": {
      "model_module": "jupyter-leaflet",
      "model_module_version": "^0.17.0",
      "model_name": "LeafletMarkerModel",
      "state": {
       "_model_module_version": "^0.17.0",
       "_view_module_version": "^0.17.0",
       "draggable": false,
       "location": [
        13.21,
        -5.9
       ],
       "options": [
        "alt",
        "draggable",
        "keyboard",
        "rise_offset",
        "rise_on_hover",
        "rotation_angle",
        "rotation_origin",
        "title",
        "z_index_offset"
       ],
       "title": "Douna, Mali (13.210, -5.900)\n0 gambiae, 19 coluzzii, 1 arabiensis"
      }
     },
     "54f59257b8a24fdbaf54120321c2ed82": {
      "model_module": "jupyter-leaflet",
      "model_module_version": "^0.17.0",
      "model_name": "LeafletMarkerModel",
      "state": {
       "_model_module_version": "^0.17.0",
       "_view_module_version": "^0.17.0",
       "draggable": false,
       "location": [
        5.898,
        -4.823
       ],
       "options": [
        "alt",
        "draggable",
        "keyboard",
        "rise_offset",
        "rise_on_hover",
        "rotation_angle",
        "rotation_origin",
        "title",
        "z_index_offset"
       ],
       "title": "Tiassale, Cote d'Ivoire (5.898, -4.823)\n0 gambiae, 80 coluzzii, 0 arabiensis"
      }
     },
     "56afe19036b843948f9c44c32c5432c3": {
      "model_module": "jupyter-leaflet",
      "model_module_version": "^0.17.0",
      "model_name": "LeafletMarkerModel",
      "state": {
       "_model_module_version": "^0.17.0",
       "_view_module_version": "^0.17.0",
       "draggable": false,
       "location": [
        11.233,
        -4.472
       ],
       "options": [
        "alt",
        "draggable",
        "keyboard",
        "rise_offset",
        "rise_on_hover",
        "rotation_angle",
        "rotation_origin",
        "title",
        "z_index_offset"
       ],
       "title": "Bana Village, Burkina Faso (11.233, -4.472)\n38 gambiae, 89 coluzzii, 1 arabiensis"
      }
     },
     "5746b6643a254ad0aea11e305c919dbd": {
      "model_module": "jupyter-leaflet",
      "model_module_version": "^0.17.0",
      "model_name": "LeafletMarkerModel",
      "state": {
       "_model_module_version": "^0.17.0",
       "_view_module_version": "^0.17.0",
       "draggable": false,
       "location": [
        10.102,
        14.193
       ],
       "options": [
        "alt",
        "draggable",
        "keyboard",
        "rise_offset",
        "rise_on_hover",
        "rotation_angle",
        "rotation_origin",
        "title",
        "z_index_offset"
       ],
       "title": "Morongo, Cameroon (10.102, 14.193)\n2 gambiae, 0 coluzzii, 0 arabiensis"
      }
     },
     "58291793f89c4425a7cd36c5a05b0ed1": {
      "model_module": "jupyter-leaflet",
      "model_module_version": "^0.17.0",
      "model_name": "LeafletMarkerModel",
      "state": {
       "_model_module_version": "^0.17.0",
       "_view_module_version": "^0.17.0",
       "draggable": false,
       "location": [
        12.06,
        -1.17
       ],
       "options": [
        "alt",
        "draggable",
        "keyboard",
        "rise_offset",
        "rise_on_hover",
        "rotation_angle",
        "rotation_origin",
        "title",
        "z_index_offset"
       ],
       "title": "Monomtenga, Burkina Faso (12.060, -1.170)\n13 gambiae, 0 coluzzii, 0 arabiensis"
      }
     },
     "59db497d0b374b1ab430cc1cca8ba996": {
      "model_module": "jupyter-leaflet",
      "model_module_version": "^0.17.0",
      "model_name": "LeafletMarkerModel",
      "state": {
       "_model_module_version": "^0.17.0",
       "_view_module_version": "^0.17.0",
       "draggable": false,
       "location": [
        7.399,
        13.551
       ],
       "options": [
        "alt",
        "draggable",
        "keyboard",
        "rise_offset",
        "rise_on_hover",
        "rotation_angle",
        "rotation_origin",
        "title",
        "z_index_offset"
       ],
       "title": "Bini, Cameroon (7.399, 13.551)\n1 gambiae, 0 coluzzii, 0 arabiensis"
      }
     },
     "5d68f40e12ec4b46b3f32166cacd9041": {
      "model_module": "jupyter-leaflet",
      "model_module_version": "^0.17.0",
      "model_name": "LeafletMarkerModel",
      "state": {
       "_model_module_version": "^0.17.0",
       "_view_module_version": "^0.17.0",
       "draggable": false,
       "location": [
        -12.852,
        45.104
       ],
       "options": [
        "alt",
        "draggable",
        "keyboard",
        "rise_offset",
        "rise_on_hover",
        "rotation_angle",
        "rotation_origin",
        "title",
        "z_index_offset"
       ],
       "title": "Sada, Mayotte (-12.852, 45.104)\n3 gambiae, 0 coluzzii, 0 arabiensis"
      }
     },
     "5dc856b67e4b4e74992b6fb55293a58e": {
      "model_module": "jupyter-leaflet",
      "model_module_version": "^0.17.0",
      "model_name": "LeafletMarkerModel",
      "state": {
       "_model_module_version": "^0.17.0",
       "_view_module_version": "^0.17.0",
       "draggable": false,
       "location": [
        8.801,
        13.52
       ],
       "options": [
        "alt",
        "draggable",
        "keyboard",
        "rise_offset",
        "rise_on_hover",
        "rotation_angle",
        "rotation_origin",
        "title",
        "z_index_offset"
       ],
       "title": "Carrefour Nari, Cameroon (8.801, 13.520)\n1 gambiae, 0 coluzzii, 0 arabiensis"
      }
     },
     "5f10072b0def43a3b4f37043dd2b735c": {
      "model_module": "jupyter-leaflet",
      "model_module_version": "^0.17.0",
      "model_name": "LeafletMarkerModel",
      "state": {
       "_model_module_version": "^0.17.0",
       "_view_module_version": "^0.17.0",
       "draggable": false,
       "location": [
        12.272,
        -14.222
       ],
       "options": [
        "alt",
        "draggable",
        "keyboard",
        "rise_offset",
        "rise_on_hover",
        "rotation_angle",
        "rotation_origin",
        "title",
        "z_index_offset"
       ],
       "title": "Leibala, Guinea-Bissau (12.272, -14.222)\n8 gambiae, 0 coluzzii, 0 arabiensis"
      }
     },
     "628b1272570846c29760968bb4819ed4": {
      "model_module": "jupyter-leaflet",
      "model_module_version": "^0.17.0",
      "model_name": "LeafletMarkerModel",
      "state": {
       "_model_module_version": "^0.17.0",
       "_view_module_version": "^0.17.0",
       "draggable": false,
       "location": [
        6.806,
        13.174
       ],
       "options": [
        "alt",
        "draggable",
        "keyboard",
        "rise_offset",
        "rise_on_hover",
        "rotation_angle",
        "rotation_origin",
        "title",
        "z_index_offset"
       ],
       "title": "Tekel, Cameroon (6.806, 13.174)\n1 gambiae, 0 coluzzii, 0 arabiensis"
      }
     },
     "6682d8589bf64bd6bb8d1932f5fd48bf": {
      "model_module": "jupyter-leaflet",
      "model_module_version": "^0.17.0",
      "model_name": "LeafletMarkerModel",
      "state": {
       "_model_module_version": "^0.17.0",
       "_view_module_version": "^0.17.0",
       "draggable": false,
       "location": [
        5.668,
        -0.219
       ],
       "options": [
        "alt",
        "draggable",
        "keyboard",
        "rise_offset",
        "rise_on_hover",
        "rotation_angle",
        "rotation_origin",
        "title",
        "z_index_offset"
       ],
       "title": "Madina_West, Ghana (5.668, -0.219)\n13 gambiae, 14 coluzzii, 0 arabiensis"
      }
     },
     "6acb03618875423d959df608e9a72639": {
      "model_module": "jupyter-leaflet",
      "model_module_version": "^0.17.0",
      "model_name": "LeafletMarkerModel",
      "state": {
       "_model_module_version": "^0.17.0",
       "_view_module_version": "^0.17.0",
       "draggable": false,
       "location": [
        -12.738,
        45.142
       ],
       "options": [
        "alt",
        "draggable",
        "keyboard",
        "rise_offset",
        "rise_on_hover",
        "rotation_angle",
        "rotation_origin",
        "title",
        "z_index_offset"
       ],
       "title": "Bouyouni, Mayotte (-12.738, 45.142)\n1 gambiae, 0 coluzzii, 0 arabiensis"
      }
     },
     "6b458d4dce2a428fbc5843e4dd1560a4": {
      "model_module": "jupyter-leaflet",
      "model_module_version": "^0.17.0",
      "model_name": "LeafletMarkerModel",
      "state": {
       "_model_module_version": "^0.17.0",
       "_view_module_version": "^0.17.0",
       "draggable": false,
       "location": [
        5.747,
        14.442
       ],
       "options": [
        "alt",
        "draggable",
        "keyboard",
        "rise_offset",
        "rise_on_hover",
        "rotation_angle",
        "rotation_origin",
        "title",
        "z_index_offset"
       ],
       "title": "Gado Badzere, Cameroon (5.747, 14.442)\n73 gambiae, 0 coluzzii, 0 arabiensis"
      }
     },
     "6bacd0ec926e4f898d9057d8f5ec56c7": {
      "model_module": "jupyter-leaflet",
      "model_module_version": "^0.17.0",
      "model_name": "LeafletMarkerModel",
      "state": {
       "_model_module_version": "^0.17.0",
       "_view_module_version": "^0.17.0",
       "draggable": false,
       "location": [
        8.48,
        -9.53
       ],
       "options": [
        "alt",
        "draggable",
        "keyboard",
        "rise_offset",
        "rise_on_hover",
        "rotation_angle",
        "rotation_origin",
        "title",
        "z_index_offset"
       ],
       "title": "Koundara, Guinea (8.480, -9.530)\n63 gambiae, 11 coluzzii, 0 arabiensis"
      }
     },
     "6bfea76e7ddf4c0688dd91b4b508812a": {
      "model_module": "jupyter-leaflet",
      "model_module_version": "^0.17.0",
      "model_name": "LeafletMarkerModel",
      "state": {
       "_model_module_version": "^0.17.0",
       "_view_module_version": "^0.17.0",
       "draggable": false,
       "location": [
        3.88,
        11.506
       ],
       "options": [
        "alt",
        "draggable",
        "keyboard",
        "rise_offset",
        "rise_on_hover",
        "rotation_angle",
        "rotation_origin",
        "title",
        "z_index_offset"
       ],
       "title": "Yaounde, Cameroon (3.880, 11.506)\n0 gambiae, 7 coluzzii, 0 arabiensis"
      }
     },
     "6cdfe745aa9647f0a965374ad8881537": {
      "model_module": "jupyter-leaflet",
      "model_module_version": "^0.17.0",
      "model_name": "LeafletMarkerModel",
      "state": {
       "_model_module_version": "^0.17.0",
       "_view_module_version": "^0.17.0",
       "draggable": false,
       "location": [
        8.098,
        13.599
       ],
       "options": [
        "alt",
        "draggable",
        "keyboard",
        "rise_offset",
        "rise_on_hover",
        "rotation_angle",
        "rotation_origin",
        "title",
        "z_index_offset"
       ],
       "title": "Gamba, Cameroon (8.098, 13.599)\n0 gambiae, 1 coluzzii, 0 arabiensis"
      }
     },
     "6d922223843c4d33b96982694c468c4f": {
      "model_module": "jupyter-leaflet",
      "model_module_version": "^0.17.0",
      "model_name": "LeafletMarkerModel",
      "state": {
       "_model_module_version": "^0.17.0",
       "_view_module_version": "^0.17.0",
       "draggable": false,
       "location": [
        12.68,
        -7.84
       ],
       "options": [
        "alt",
        "draggable",
        "keyboard",
        "rise_offset",
        "rise_on_hover",
        "rotation_angle",
        "rotation_origin",
        "title",
        "z_index_offset"
       ],
       "title": "N'Gabakoro, Mali (12.680, -7.840)\n0 gambiae, 4 coluzzii, 0 arabiensis"
      }
     },
     "727913ea39a14fdfaf21c0c47b18bc36": {
      "model_module": "jupyter-leaflet",
      "model_module_version": "^0.17.0",
      "model_name": "LeafletMarkerModel",
      "state": {
       "_model_module_version": "^0.17.0",
       "_view_module_version": "^0.17.0",
       "draggable": false,
       "location": [
        10.368,
        14.228
       ],
       "options": [
        "alt",
        "draggable",
        "keyboard",
        "rise_offset",
        "rise_on_hover",
        "rotation_angle",
        "rotation_origin",
        "title",
        "z_index_offset"
       ],
       "title": "Mounda, Cameroon (10.368, 14.228)\n1 gambiae, 0 coluzzii, 0 arabiensis"
      }
     },
     "742977dec5c8446e9aba6b74543ffa9e": {
      "model_module": "jupyter-leaflet",
      "model_module_version": "^0.17.0",
      "model_name": "LeafletMarkerModel",
      "state": {
       "_model_module_version": "^0.17.0",
       "_view_module_version": "^0.17.0",
       "draggable": false,
       "location": [
        8.888,
        13.503
       ],
       "options": [
        "alt",
        "draggable",
        "keyboard",
        "rise_offset",
        "rise_on_hover",
        "rotation_angle",
        "rotation_origin",
        "title",
        "z_index_offset"
       ],
       "title": "Wouro Andre, Cameroon (8.888, 13.503)\n0 gambiae, 1 coluzzii, 0 arabiensis"
      }
     },
     "7860939402e74106b90c3e7a081c22b0": {
      "model_module": "jupyter-leaflet",
      "model_module_version": "^0.17.0",
      "model_name": "LeafletMarkerModel",
      "state": {
       "_model_module_version": "^0.17.0",
       "_view_module_version": "^0.17.0",
       "draggable": false,
       "location": [
        13.55,
        -15.617
       ],
       "options": [
        "alt",
        "draggable",
        "keyboard",
        "rise_offset",
        "rise_on_hover",
        "rotation_angle",
        "rotation_origin",
        "title",
        "z_index_offset"
       ],
       "title": "Kalataba, Gambia, The (13.550, -15.617)\n0 gambiae, 0 coluzzii, 0 arabiensis"
      }
     },
     "78eb19aa07c94263b68ae20b633e8fc2": {
      "model_module": "jupyter-leaflet",
      "model_module_version": "^0.17.0",
      "model_name": "LeafletMarkerModel",
      "state": {
       "_model_module_version": "^0.17.0",
       "_view_module_version": "^0.17.0",
       "draggable": false,
       "location": [
        3.369,
        11.519
       ],
       "options": [
        "alt",
        "draggable",
        "keyboard",
        "rise_offset",
        "rise_on_hover",
        "rotation_angle",
        "rotation_origin",
        "title",
        "z_index_offset"
       ],
       "title": "Avebe, Cameroon (3.369, 11.519)\n1 gambiae, 0 coluzzii, 0 arabiensis"
      }
     },
     "792a3436d8104e5d81e5a809b9f139df": {
      "model_module": "jupyter-leaflet",
      "model_module_version": "^0.17.0",
      "model_name": "LeafletMarkerModel",
      "state": {
       "_model_module_version": "^0.17.0",
       "_view_module_version": "^0.17.0",
       "draggable": false,
       "location": [
        12.89,
        -8.15
       ],
       "options": [
        "alt",
        "draggable",
        "keyboard",
        "rise_offset",
        "rise_on_hover",
        "rotation_angle",
        "rotation_origin",
        "title",
        "z_index_offset"
       ],
       "title": "Kababougou, Mali (12.890, -8.150)\n28 gambiae, 12 coluzzii, 0 arabiensis"
      }
     },
     "7948bcea4df748a4bb6c85ef2d7ea513": {
      "model_module": "jupyter-leaflet",
      "model_module_version": "^0.17.0",
      "model_name": "LeafletMarkerModel",
      "state": {
       "_model_module_version": "^0.17.0",
       "_view_module_version": "^0.17.0",
       "draggable": false,
       "location": [
        2.817,
        10.934
       ],
       "options": [
        "alt",
        "draggable",
        "keyboard",
        "rise_offset",
        "rise_on_hover",
        "rotation_angle",
        "rotation_origin",
        "title",
        "z_index_offset"
       ],
       "title": "Foulassi I, Cameroon (2.817, 10.934)\n1 gambiae, 0 coluzzii, 0 arabiensis"
      }
     },
     "7ca2f162f3bc4829bcd72e15874ec140": {
      "model_module": "jupyter-leaflet",
      "model_module_version": "^0.17.0",
      "model_name": "LeafletMarkerModel",
      "state": {
       "_model_module_version": "^0.17.0",
       "_view_module_version": "^0.17.0",
       "draggable": false,
       "location": [
        9.424,
        13.56
       ],
       "options": [
        "alt",
        "draggable",
        "keyboard",
        "rise_offset",
        "rise_on_hover",
        "rotation_angle",
        "rotation_origin",
        "title",
        "z_index_offset"
       ],
       "title": "Secamde, Cameroon (9.424, 13.560)\n2 gambiae, 0 coluzzii, 0 arabiensis"
      }
     },
     "7f7df21fddb548cf86bc5cbd1cccabb7": {
      "model_module": "jupyter-leaflet",
      "model_module_version": "^0.17.0",
      "model_name": "LeafletMarkerModel",
      "state": {
       "_model_module_version": "^0.17.0",
       "_view_module_version": "^0.17.0",
       "draggable": false,
       "location": [
        13.417,
        -16.033
       ],
       "options": [
        "alt",
        "draggable",
        "keyboard",
        "rise_offset",
        "rise_on_hover",
        "rotation_angle",
        "rotation_origin",
        "title",
        "z_index_offset"
       ],
       "title": "Tankular, Gambia, The (13.417, -16.033)\n0 gambiae, 0 coluzzii, 0 arabiensis"
      }
     },
     "806a3bb238bc4be8830b4ffa39a071f7": {
      "model_module": "jupyter-leaflet",
      "model_module_version": "^0.17.0",
      "model_name": "LeafletMapStyleModel",
      "state": {
       "_model_module_version": "^0.17.0",
       "cursor": "move"
      }
     },
     "80be6153781e41b4b7b33ca57a280fe8": {
      "model_module": "jupyter-leaflet",
      "model_module_version": "^0.17.0",
      "model_name": "LeafletMarkerModel",
      "state": {
       "_model_module_version": "^0.17.0",
       "_view_module_version": "^0.17.0",
       "draggable": false,
       "location": [
        6.751,
        13.111
       ],
       "options": [
        "alt",
        "draggable",
        "keyboard",
        "rise_offset",
        "rise_on_hover",
        "rotation_angle",
        "rotation_origin",
        "title",
        "z_index_offset"
       ],
       "title": "Beka Goto, Cameroon (6.751, 13.111)\n2 gambiae, 0 coluzzii, 0 arabiensis"
      }
     },
     "860c6538af24462e93312a2369c5a7a1": {
      "model_module": "jupyter-leaflet",
      "model_module_version": "^0.17.0",
      "model_name": "LeafletMarkerModel",
      "state": {
       "_model_module_version": "^0.17.0",
       "_view_module_version": "^0.17.0",
       "draggable": false,
       "location": [
        9.764,
        13.905
       ],
       "options": [
        "alt",
        "draggable",
        "keyboard",
        "rise_offset",
        "rise_on_hover",
        "rotation_angle",
        "rotation_origin",
        "title",
        "z_index_offset"
       ],
       "title": "Mayo Dafan, Cameroon (9.764, 13.905)\n1 gambiae, 0 coluzzii, 0 arabiensis"
      }
     },
     "88f37cfa3f8f403eba62359fef4698ba": {
      "model_module": "jupyter-leaflet",
      "model_module_version": "^0.17.0",
      "model_name": "LeafletScaleControlModel",
      "state": {
       "_model_module_version": "^0.17.0",
       "_view_module_version": "^0.17.0",
       "imperial": true,
       "max_width": 100,
       "metric": true,
       "options": [
        "imperial",
        "max_width",
        "metric",
        "position",
        "update_when_idle"
       ],
       "position": "bottomleft",
       "update_when_idle": false
      }
     },
     "8be2df63f90247b4a320ef804aade5f1": {
      "model_module": "jupyter-leaflet",
      "model_module_version": "^0.17.0",
      "model_name": "LeafletMarkerModel",
      "state": {
       "_model_module_version": "^0.17.0",
       "_view_module_version": "^0.17.0",
       "draggable": false,
       "location": [
        11.47,
        -8.33
       ],
       "options": [
        "alt",
        "draggable",
        "keyboard",
        "rise_offset",
        "rise_on_hover",
        "rotation_angle",
        "rotation_origin",
        "title",
        "z_index_offset"
       ],
       "title": "Takan, Mali (11.470, -8.330)\n5 gambiae, 25 coluzzii, 0 arabiensis"
      }
     },
     "8d64e7b17785408bb3c7185a4395c31a": {
      "model_module": "jupyter-leaflet",
      "model_module_version": "^0.17.0",
      "model_name": "LeafletMarkerModel",
      "state": {
       "_model_module_version": "^0.17.0",
       "_view_module_version": "^0.17.0",
       "draggable": false,
       "location": [
        6.097,
        11.141
       ],
       "options": [
        "alt",
        "draggable",
        "keyboard",
        "rise_offset",
        "rise_on_hover",
        "rotation_angle",
        "rotation_origin",
        "title",
        "z_index_offset"
       ],
       "title": "Mgbandji, Cameroon (6.097, 11.141)\n1 gambiae, 0 coluzzii, 0 arabiensis"
      }
     },
     "8e7495353dd444b39e7d62d29210152b": {
      "model_module": "jupyter-leaflet",
      "model_module_version": "^0.17.0",
      "model_name": "LeafletMarkerModel",
      "state": {
       "_model_module_version": "^0.17.0",
       "_view_module_version": "^0.17.0",
       "draggable": false,
       "location": [
        9.438,
        13.594
       ],
       "options": [
        "alt",
        "draggable",
        "keyboard",
        "rise_offset",
        "rise_on_hover",
        "rotation_angle",
        "rotation_origin",
        "title",
        "z_index_offset"
       ],
       "title": "Dolla, Cameroon (9.438, 13.594)\n1 gambiae, 0 coluzzii, 0 arabiensis"
      }
     },
     "8ec836bcd13544a0a797a963653c44fe": {
      "model_module": "jupyter-leaflet",
      "model_module_version": "^0.17.0",
      "model_name": "LeafletMarkerModel",
      "state": {
       "_model_module_version": "^0.17.0",
       "_view_module_version": "^0.17.0",
       "draggable": false,
       "location": [
        8.722,
        13.54
       ],
       "options": [
        "alt",
        "draggable",
        "keyboard",
        "rise_offset",
        "rise_on_hover",
        "rotation_angle",
        "rotation_origin",
        "title",
        "z_index_offset"
       ],
       "title": "Mayo Boki, Cameroon (8.722, 13.540)\n3 gambiae, 0 coluzzii, 0 arabiensis"
      }
     },
     "95e6462bdf5a4b508e98b56c0e5339b7": {
      "model_module": "jupyter-leaflet",
      "model_module_version": "^0.17.0",
      "model_name": "LeafletMarkerModel",
      "state": {
       "_model_module_version": "^0.17.0",
       "_view_module_version": "^0.17.0",
       "draggable": false,
       "location": [
        4.367,
        18.583
       ],
       "options": [
        "alt",
        "draggable",
        "keyboard",
        "rise_offset",
        "rise_on_hover",
        "rotation_angle",
        "rotation_origin",
        "title",
        "z_index_offset"
       ],
       "title": "Bangui, Central African Republic (4.367, 18.583)\n55 gambiae, 18 coluzzii, 0 arabiensis"
      }
     },
     "975e0ca5d6034346839d36ba63de32ae": {
      "model_module": "jupyter-leaflet",
      "model_module_version": "^0.17.0",
      "model_name": "LeafletMarkerModel",
      "state": {
       "_model_module_version": "^0.17.0",
       "_view_module_version": "^0.17.0",
       "draggable": false,
       "location": [
        5.747,
        14.442
       ],
       "options": [
        "alt",
        "draggable",
        "keyboard",
        "rise_offset",
        "rise_on_hover",
        "rotation_angle",
        "rotation_origin",
        "title",
        "z_index_offset"
       ],
       "title": "Zembe Borongo, Cameroon (5.747, 14.442)\n24 gambiae, 0 coluzzii, 0 arabiensis"
      }
     },
     "9962df2216594a60b59f47e84448cba2": {
      "model_module": "jupyter-leaflet",
      "model_module_version": "^0.17.0",
      "model_name": "LeafletMarkerModel",
      "state": {
       "_model_module_version": "^0.17.0",
       "_view_module_version": "^0.17.0",
       "draggable": false,
       "location": [
        4.912,
        -1.774
       ],
       "options": [
        "alt",
        "draggable",
        "keyboard",
        "rise_offset",
        "rise_on_hover",
        "rotation_angle",
        "rotation_origin",
        "title",
        "z_index_offset"
       ],
       "title": "Takoradi, Ghana (4.912, -1.774)\n0 gambiae, 24 coluzzii, 0 arabiensis"
      }
     },
     "9b265bcdb15642ffb5dd684e2e07e04e": {
      "model_module": "jupyter-leaflet",
      "model_module_version": "^0.17.0",
      "model_name": "LeafletMarkerModel",
      "state": {
       "_model_module_version": "^0.17.0",
       "_view_module_version": "^0.17.0",
       "draggable": false,
       "location": [
        2.855,
        10.056
       ],
       "options": [
        "alt",
        "draggable",
        "keyboard",
        "rise_offset",
        "rise_on_hover",
        "rotation_angle",
        "rotation_origin",
        "title",
        "z_index_offset"
       ],
       "title": "Nlozok, Cameroon (2.855, 10.056)\n1 gambiae, 0 coluzzii, 0 arabiensis"
      }
     },
     "9d91b235ad5f4e09985b6b89c0fce683": {
      "model_module": "jupyter-leaflet",
      "model_module_version": "^0.17.0",
      "model_name": "LeafletMarkerModel",
      "state": {
       "_model_module_version": "^0.17.0",
       "_view_module_version": "^0.17.0",
       "draggable": false,
       "location": [
        5.609,
        -1.549
       ],
       "options": [
        "alt",
        "draggable",
        "keyboard",
        "rise_offset",
        "rise_on_hover",
        "rotation_angle",
        "rotation_origin",
        "title",
        "z_index_offset"
       ],
       "title": "Twifo Praso, Ghana (5.609, -1.549)\n0 gambiae, 25 coluzzii, 0 arabiensis"
      }
     },
     "9e4bfff5ba3d4a08b36f4343971fda31": {
      "model_module": "jupyter-leaflet",
      "model_module_version": "^0.17.0",
      "model_name": "LeafletMarkerModel",
      "state": {
       "_model_module_version": "^0.17.0",
       "_view_module_version": "^0.17.0",
       "draggable": false,
       "location": [
        2.367,
        9.983
       ],
       "options": [
        "alt",
        "draggable",
        "keyboard",
        "rise_offset",
        "rise_on_hover",
        "rotation_angle",
        "rotation_origin",
        "title",
        "z_index_offset"
       ],
       "title": "Afan-Essokye, Cameroon (2.367, 9.983)\n1 gambiae, 0 coluzzii, 0 arabiensis"
      }
     },
     "9fd7e19415f541559957cb08afeeaa1b": {
      "model_module": "jupyter-leaflet",
      "model_module_version": "^0.17.0",
      "model_name": "LeafletMarkerModel",
      "state": {
       "_model_module_version": "^0.17.0",
       "_view_module_version": "^0.17.0",
       "draggable": false,
       "location": [
        10.658,
        14.29
       ],
       "options": [
        "alt",
        "draggable",
        "keyboard",
        "rise_offset",
        "rise_on_hover",
        "rotation_angle",
        "rotation_origin",
        "title",
        "z_index_offset"
       ],
       "title": "Mambang, Cameroon (10.658, 14.290)\n1 gambiae, 0 coluzzii, 0 arabiensis"
      }
     },
     "a0d144f332564284920f2059fbaf53f0": {
      "model_module": "jupyter-leaflet",
      "model_module_version": "^0.17.0",
      "model_name": "LeafletMarkerModel",
      "state": {
       "_model_module_version": "^0.17.0",
       "_view_module_version": "^0.17.0",
       "draggable": false,
       "location": [
        7.354,
        13.578
       ],
       "options": [
        "alt",
        "draggable",
        "keyboard",
        "rise_offset",
        "rise_on_hover",
        "rotation_angle",
        "rotation_origin",
        "title",
        "z_index_offset"
       ],
       "title": "Gada Mabanga, Cameroon (7.354, 13.578)\n1 gambiae, 0 coluzzii, 0 arabiensis"
      }
     },
     "a7c78f4f25d547b79112d1209c3efc52": {
      "model_module": "jupyter-leaflet",
      "model_module_version": "^0.17.0",
      "model_name": "LeafletTileLayerModel",
      "state": {
       "_model_module_version": "^0.17.0",
       "_view_module_version": "^0.17.0",
       "attribution": "&copy; <a href=\"https://www.openstreetmap.org/copyright\">OpenStreetMap</a> contributors",
       "base": true,
       "max_zoom": 19,
       "min_zoom": 1,
       "name": "OpenStreetMap.Mapnik",
       "options": [
        "attribution",
        "bounds",
        "detect_retina",
        "max_native_zoom",
        "max_zoom",
        "min_native_zoom",
        "min_zoom",
        "no_wrap",
        "tile_size",
        "tms"
       ],
       "url": "https://tile.openstreetmap.org/{z}/{x}/{y}.png"
      }
     },
     "aac4f448139f4bc695d499ab68819075": {
      "model_module": "jupyter-leaflet",
      "model_module_version": "^0.17.0",
      "model_name": "LeafletMarkerModel",
      "state": {
       "_model_module_version": "^0.17.0",
       "_view_module_version": "^0.17.0",
       "draggable": false,
       "location": [
        9.119,
        13.506
       ],
       "options": [
        "alt",
        "draggable",
        "keyboard",
        "rise_offset",
        "rise_on_hover",
        "rotation_angle",
        "rotation_origin",
        "title",
        "z_index_offset"
       ],
       "title": "Lainde Mbana, Cameroon (9.119, 13.506)\n2 gambiae, 0 coluzzii, 0 arabiensis"
      }
     },
     "acecd6bd219646e6980c70d6ea07cde4": {
      "model_module": "jupyter-leaflet",
      "model_module_version": "^0.17.0",
      "model_name": "LeafletZoomControlModel",
      "state": {
       "_model_module_version": "^0.17.0",
       "_view_module_version": "^0.17.0",
       "options": [
        "position",
        "zoom_in_text",
        "zoom_in_title",
        "zoom_out_text",
        "zoom_out_title"
       ]
      }
     },
     "ae51a7dd942d4403b39c36b7c5da3967": {
      "model_module": "jupyter-leaflet",
      "model_module_version": "^0.17.0",
      "model_name": "LeafletMarkerModel",
      "state": {
       "_model_module_version": "^0.17.0",
       "_view_module_version": "^0.17.0",
       "draggable": false,
       "location": [
        53.409,
        -2.969
       ],
       "options": [
        "alt",
        "draggable",
        "keyboard",
        "rise_offset",
        "rise_on_hover",
        "rotation_angle",
        "rotation_origin",
        "title",
        "z_index_offset"
       ],
       "title": "LSTM, Lab Cross (53.409, -2.969)\n0 gambiae, 0 coluzzii, 0 arabiensis"
      }
     },
     "aebf970d319d45a09c9e38fe34edd6ec": {
      "model_module": "jupyter-leaflet",
      "model_module_version": "^0.17.0",
      "model_name": "LeafletMarkerModel",
      "state": {
       "_model_module_version": "^0.17.0",
       "_view_module_version": "^0.17.0",
       "draggable": false,
       "location": [
        12.81,
        -8.08
       ],
       "options": [
        "alt",
        "draggable",
        "keyboard",
        "rise_offset",
        "rise_on_hover",
        "rotation_angle",
        "rotation_origin",
        "title",
        "z_index_offset"
       ],
       "title": "Tieneguebougou, Mali (12.810, -8.080)\n1 gambiae, 6 coluzzii, 0 arabiensis"
      }
     },
     "af94b15c734d458ebf159a25c2e032e1": {
      "model_module": "jupyter-leaflet",
      "model_module_version": "^0.17.0",
      "model_name": "LeafletMarkerModel",
      "state": {
       "_model_module_version": "^0.17.0",
       "_view_module_version": "^0.17.0",
       "draggable": false,
       "location": [
        5.726,
        10.868
       ],
       "options": [
        "alt",
        "draggable",
        "keyboard",
        "rise_offset",
        "rise_on_hover",
        "rotation_angle",
        "rotation_origin",
        "title",
        "z_index_offset"
       ],
       "title": "Manda, Cameroon (5.726, 10.868)\n11 gambiae, 0 coluzzii, 0 arabiensis"
      }
     },
     "b3567f6406af4ceebf3f6588da7b0750": {
      "model_module": "jupyter-leaflet",
      "model_module_version": "^0.17.0",
      "model_name": "LeafletMarkerModel",
      "state": {
       "_model_module_version": "^0.17.0",
       "_view_module_version": "^0.17.0",
       "draggable": false,
       "location": [
        7.3,
        13.554
       ],
       "options": [
        "alt",
        "draggable",
        "keyboard",
        "rise_offset",
        "rise_on_hover",
        "rotation_angle",
        "rotation_origin",
        "title",
        "z_index_offset"
       ],
       "title": "Mayo Djarani, Cameroon (7.300, 13.554)\n2 gambiae, 0 coluzzii, 0 arabiensis"
      }
     },
     "b4462e208ccb4419aa7857971cb7b5c2": {
      "model_module": "jupyter-leaflet",
      "model_module_version": "^0.17.0",
      "model_name": "LeafletMarkerModel",
      "state": {
       "_model_module_version": "^0.17.0",
       "_view_module_version": "^0.17.0",
       "draggable": false,
       "location": [
        3.972,
        11.516
       ],
       "options": [
        "alt",
        "draggable",
        "keyboard",
        "rise_offset",
        "rise_on_hover",
        "rotation_angle",
        "rotation_origin",
        "title",
        "z_index_offset"
       ],
       "title": "Nkolondom, Cameroon (3.972, 11.516)\n5 gambiae, 5 coluzzii, 0 arabiensis"
      }
     },
     "b5f2bef92d7b4627b1a506e825aaf50a": {
      "model_module": "jupyter-leaflet",
      "model_module_version": "^0.17.0",
      "model_name": "LeafletMarkerModel",
      "state": {
       "_model_module_version": "^0.17.0",
       "_view_module_version": "^0.17.0",
       "draggable": false,
       "location": [
        7.323,
        13.4
       ],
       "options": [
        "alt",
        "draggable",
        "keyboard",
        "rise_offset",
        "rise_on_hover",
        "rotation_angle",
        "rotation_origin",
        "title",
        "z_index_offset"
       ],
       "title": "Toumbouroum, Cameroon (7.323, 13.400)\n2 gambiae, 0 coluzzii, 0 arabiensis"
      }
     },
     "b64edec7fac94e8fab76891b7525b694": {
      "model_module": "jupyter-leaflet",
      "model_module_version": "^0.17.0",
      "model_name": "LeafletMarkerModel",
      "state": {
       "_model_module_version": "^0.17.0",
       "_view_module_version": "^0.17.0",
       "draggable": false,
       "location": [
        6.915,
        13.132
       ],
       "options": [
        "alt",
        "draggable",
        "keyboard",
        "rise_offset",
        "rise_on_hover",
        "rotation_angle",
        "rotation_origin",
        "title",
        "z_index_offset"
       ],
       "title": "Mabarangal'L, Cameroon (6.915, 13.132)\n1 gambiae, 0 coluzzii, 0 arabiensis"
      }
     },
     "b70aa8a6685d4c7893b25c796c3e12eb": {
      "model_module": "jupyter-leaflet",
      "model_module_version": "^0.17.0",
      "model_name": "LeafletMarkerModel",
      "state": {
       "_model_module_version": "^0.17.0",
       "_view_module_version": "^0.17.0",
       "draggable": false,
       "location": [
        4.055,
        9.721
       ],
       "options": [
        "alt",
        "draggable",
        "keyboard",
        "rise_offset",
        "rise_on_hover",
        "rotation_angle",
        "rotation_origin",
        "title",
        "z_index_offset"
       ],
       "title": "Douala, Cameroon (4.055, 9.721)\n0 gambiae, 2 coluzzii, 0 arabiensis"
      }
     },
     "babf51345938463fb7d6ed9d57b6053f": {
      "model_module": "jupyter-leaflet",
      "model_module_version": "^0.17.0",
      "model_name": "LeafletMarkerModel",
      "state": {
       "_model_module_version": "^0.17.0",
       "_view_module_version": "^0.17.0",
       "draggable": false,
       "location": [
        10.342,
        14.236
       ],
       "options": [
        "alt",
        "draggable",
        "keyboard",
        "rise_offset",
        "rise_on_hover",
        "rotation_angle",
        "rotation_origin",
        "title",
        "z_index_offset"
       ],
       "title": "Moussourtouk, Cameroon (10.342, 14.236)\n1 gambiae, 0 coluzzii, 0 arabiensis"
      }
     },
     "bb80e921d4c64855b66a52ffd48b3f76": {
      "model_module": "jupyter-leaflet",
      "model_module_version": "^0.17.0",
      "model_name": "LeafletMarkerModel",
      "state": {
       "_model_module_version": "^0.17.0",
       "_view_module_version": "^0.17.0",
       "draggable": false,
       "location": [
        0.77,
        34.026
       ],
       "options": [
        "alt",
        "draggable",
        "keyboard",
        "rise_offset",
        "rise_on_hover",
        "rotation_angle",
        "rotation_origin",
        "title",
        "z_index_offset"
       ],
       "title": "Nagongera, Uganda (0.770, 34.026)\n112 gambiae, 0 coluzzii, 81 arabiensis"
      }
     },
     "bc11697a542b4182a3e3ae0c38543f4d": {
      "model_module": "jupyter-leaflet",
      "model_module_version": "^0.17.0",
      "model_name": "LeafletMarkerModel",
      "state": {
       "_model_module_version": "^0.17.0",
       "_view_module_version": "^0.17.0",
       "draggable": false,
       "location": [
        8.981,
        13.533
       ],
       "options": [
        "alt",
        "draggable",
        "keyboard",
        "rise_offset",
        "rise_on_hover",
        "rotation_angle",
        "rotation_origin",
        "title",
        "z_index_offset"
       ],
       "title": "Lamoudan, Cameroon (8.981, 13.533)\n1 gambiae, 0 coluzzii, 0 arabiensis"
      }
     },
     "c178b33b12484ca888b042c10f864fc4": {
      "model_module": "jupyter-leaflet",
      "model_module_version": "^0.17.0",
      "model_name": "LeafletMarkerModel",
      "state": {
       "_model_module_version": "^0.17.0",
       "_view_module_version": "^0.17.0",
       "draggable": false,
       "location": [
        5.479,
        10.457
       ],
       "options": [
        "alt",
        "draggable",
        "keyboard",
        "rise_offset",
        "rise_on_hover",
        "rotation_angle",
        "rotation_origin",
        "title",
        "z_index_offset"
       ],
       "title": "Bamendi, Cameroon (5.479, 10.457)\n3 gambiae, 0 coluzzii, 0 arabiensis"
      }
     },
     "c36d4dc046db4458930798aa8837b2d5": {
      "model_module": "jupyter-leaflet",
      "model_module_version": "^0.17.0",
      "model_name": "LeafletMarkerModel",
      "state": {
       "_model_module_version": "^0.17.0",
       "_view_module_version": "^0.17.0",
       "draggable": false,
       "location": [
        10.83,
        -7.81
       ],
       "options": [
        "alt",
        "draggable",
        "keyboard",
        "rise_offset",
        "rise_on_hover",
        "rotation_angle",
        "rotation_origin",
        "title",
        "z_index_offset"
       ],
       "title": "Toumani Oulena, Mali (10.830, -7.810)\n60 gambiae, 2 coluzzii, 0 arabiensis"
      }
     },
     "c465c138eceb405ba6cba6c97393c17b": {
      "model_module": "jupyter-leaflet",
      "model_module_version": "^0.17.0",
      "model_name": "LeafletMarkerModel",
      "state": {
       "_model_module_version": "^0.17.0",
       "_view_module_version": "^0.17.0",
       "draggable": false,
       "location": [
        10.211,
        14.188
       ],
       "options": [
        "alt",
        "draggable",
        "keyboard",
        "rise_offset",
        "rise_on_hover",
        "rotation_angle",
        "rotation_origin",
        "title",
        "z_index_offset"
       ],
       "title": "Badjawa, Cameroon (10.211, 14.188)\n3 gambiae, 0 coluzzii, 0 arabiensis"
      }
     },
     "c5190c5ca86344ff970dba336b9f5864": {
      "model_module": "jupyter-leaflet",
      "model_module_version": "^0.17.0",
      "model_name": "LeafletMarkerModel",
      "state": {
       "_model_module_version": "^0.17.0",
       "_view_module_version": "^0.17.0",
       "draggable": false,
       "location": [
        4.283,
        21.017
       ],
       "options": [
        "alt",
        "draggable",
        "keyboard",
        "rise_offset",
        "rise_on_hover",
        "rotation_angle",
        "rotation_origin",
        "title",
        "z_index_offset"
       ],
       "title": "Gbadolite, Democratic Republic of the Congo (4.283, 21.017)\n76 gambiae, 0 coluzzii, 0 arabiensis"
      }
     },
     "c5981bac99784921b3716d8bad6b1e8b": {
      "model_module": "jupyter-leaflet",
      "model_module_version": "^0.17.0",
      "model_name": "LeafletMarkerModel",
      "state": {
       "_model_module_version": "^0.17.0",
       "_view_module_version": "^0.17.0",
       "draggable": false,
       "location": [
        7.335,
        13.462
       ],
       "options": [
        "alt",
        "draggable",
        "keyboard",
        "rise_offset",
        "rise_on_hover",
        "rotation_angle",
        "rotation_origin",
        "title",
        "z_index_offset"
       ],
       "title": "Mawara, Cameroon (7.335, 13.462)\n2 gambiae, 0 coluzzii, 0 arabiensis"
      }
     },
     "c87b03f1ef2149aabd6edca6d0089259": {
      "model_module": "jupyter-leaflet",
      "model_module_version": "^0.17.0",
      "model_name": "LeafletTileLayerModel",
      "state": {
       "_model_module_version": "^0.17.0",
       "_view_module_version": "^0.17.0",
       "attribution": "&copy; <a href=\"https://www.openstreetmap.org/copyright\">OpenStreetMap</a> contributors",
       "base": true,
       "max_zoom": 19,
       "min_zoom": 1,
       "name": "OpenStreetMap.Mapnik",
       "options": [
        "attribution",
        "bounds",
        "detect_retina",
        "max_native_zoom",
        "max_zoom",
        "min_native_zoom",
        "min_zoom",
        "no_wrap",
        "tile_size",
        "tms"
       ],
       "url": "https://tile.openstreetmap.org/{z}/{x}/{y}.png"
      }
     },
     "c88aac63763741b89c90bb2ff4833106": {
      "model_module": "jupyter-leaflet",
      "model_module_version": "^0.17.0",
      "model_name": "LeafletMarkerModel",
      "state": {
       "_model_module_version": "^0.17.0",
       "_view_module_version": "^0.17.0",
       "draggable": false,
       "location": [
        -12.797,
        45.122
       ],
       "options": [
        "alt",
        "draggable",
        "keyboard",
        "rise_offset",
        "rise_on_hover",
        "rotation_angle",
        "rotation_origin",
        "title",
        "z_index_offset"
       ],
       "title": "Karihani Lake, Mayotte (-12.797, 45.122)\n3 gambiae, 0 coluzzii, 0 arabiensis"
      }
     },
     "caa3a4092fda464a885900e424592261": {
      "model_module": "jupyter-leaflet",
      "model_module_version": "^0.17.0",
      "model_name": "LeafletMapModel",
      "state": {
       "_model_module_version": "^0.17.0",
       "_view_module_version": "^0.17.0",
       "bottom": 1224,
       "center": [
        0,
        20
       ],
       "controls": [
        "IPY_MODEL_2f874c944a794d45a1ebbe2f44bf33a9",
        "IPY_MODEL_2931ddcf1907477e8f7854ac72275b5f",
        "IPY_MODEL_88f37cfa3f8f403eba62359fef4698ba"
       ],
       "default_style": "IPY_MODEL_ffc9002f67d94c8b91b5e8edadcc82ef",
       "dragging_style": "IPY_MODEL_806a3bb238bc4be8830b4ffa39a071f7",
       "east": 105.11718750000001,
       "fullscreen": false,
       "interpolation": "bilinear",
       "layers": [
        "IPY_MODEL_c87b03f1ef2149aabd6edca6d0089259",
        "IPY_MODEL_021bbbe5eff84b538b3320344b399286",
        "IPY_MODEL_56afe19036b843948f9c44c32c5432c3",
        "IPY_MODEL_58291793f89c4425a7cd36c5a05b0ed1",
        "IPY_MODEL_0736b57dc66b4b3c8f78e617c11da57c",
        "IPY_MODEL_4cb17dcd42cb474fb7d180df6c7576f3",
        "IPY_MODEL_9e4bfff5ba3d4a08b36f4343971fda31",
        "IPY_MODEL_ea2cbe95b5694cf8a7df609509cd9642",
        "IPY_MODEL_78eb19aa07c94263b68ae20b633e8fc2",
        "IPY_MODEL_e6746931d8f7453398c84f8ac77542cc",
        "IPY_MODEL_c465c138eceb405ba6cba6c97393c17b",
        "IPY_MODEL_f2632765071f4d3eb3bd1f35d636db94",
        "IPY_MODEL_c178b33b12484ca888b042c10f864fc4",
        "IPY_MODEL_3a3088516af548cdad235f7991fde63c",
        "IPY_MODEL_80be6153781e41b4b7b33ca57a280fe8",
        "IPY_MODEL_59db497d0b374b1ab430cc1cca8ba996",
        "IPY_MODEL_3154becb4364466e878429a98da1802f",
        "IPY_MODEL_0966508df37c4455a733eb5fef360a67",
        "IPY_MODEL_5dc856b67e4b4e74992b6fb55293a58e",
        "IPY_MODEL_015e81ba56c54ea0a9ccefdb49f3a228",
        "IPY_MODEL_28740c60030b4cfb830a280e87a65ce7",
        "IPY_MODEL_daa8d2d904f44ad18706aef3cf28591b",
        "IPY_MODEL_3b3017e21bfa46eca6085f0be0c5d0ce",
        "IPY_MODEL_3b334ada79f64d03b55aadf84febdac4",
        "IPY_MODEL_8e7495353dd444b39e7d62d29210152b",
        "IPY_MODEL_2c154035dbaa465f9071c4dd5846c5aa",
        "IPY_MODEL_b70aa8a6685d4c7893b25c796c3e12eb",
        "IPY_MODEL_0a923e8eb3d348cfaf3c6191c307e295",
        "IPY_MODEL_e14f2862bd9b41ebbfed696acd6ca26a",
        "IPY_MODEL_7948bcea4df748a4bb6c85ef2d7ea513",
        "IPY_MODEL_a0d144f332564284920f2059fbaf53f0",
        "IPY_MODEL_6b458d4dce2a428fbc5843e4dd1560a4",
        "IPY_MODEL_02683a8db090459080d01c520904a55b",
        "IPY_MODEL_6cdfe745aa9647f0a965374ad8881537",
        "IPY_MODEL_fdb1ee4c4ee44be2883cd0aafe3add1b",
        "IPY_MODEL_f9aee70e676542aaafe4c1686c6d4d46",
        "IPY_MODEL_11a280addcd2473d801602a54871949e",
        "IPY_MODEL_eb89de6417844058bc3739dfac868a83",
        "IPY_MODEL_19c8178d99234a98a839660a5200113d",
        "IPY_MODEL_341f7de6c80d46a0999bb56252e1d48d",
        "IPY_MODEL_aac4f448139f4bc695d499ab68819075",
        "IPY_MODEL_bc11697a542b4182a3e3ae0c38543f4d",
        "IPY_MODEL_1025b783dd444bdbb0dd8abe80c5df4c",
        "IPY_MODEL_fcf210adeadb4f729b258b0764491c30",
        "IPY_MODEL_b64edec7fac94e8fab76891b7525b694",
        "IPY_MODEL_43e725a635734089bf02fd409bcd9380",
        "IPY_MODEL_9fd7e19415f541559957cb08afeeaa1b",
        "IPY_MODEL_f475a26fea004f6fb77bd6d57126ad74",
        "IPY_MODEL_af94b15c734d458ebf159a25c2e032e1",
        "IPY_MODEL_45211497bd9d426eb239c9c72f53ff32",
        "IPY_MODEL_324a8611a6e94ec7b3af058122b4c5bc",
        "IPY_MODEL_c5981bac99784921b3716d8bad6b1e8b",
        "IPY_MODEL_8ec836bcd13544a0a797a963653c44fe",
        "IPY_MODEL_860c6538af24462e93312a2369c5a7a1",
        "IPY_MODEL_b3567f6406af4ceebf3f6588da7b0750",
        "IPY_MODEL_50985fe2e65b47ea8c156d376ed16d86",
        "IPY_MODEL_0a0949fd68864f568d200ede89f49e75",
        "IPY_MODEL_df2dc5a950a4412197a2fdabd7ae5f83",
        "IPY_MODEL_3f9a6829691642a0ba6620f1944ab149",
        "IPY_MODEL_8d64e7b17785408bb3c7185a4395c31a",
        "IPY_MODEL_5746b6643a254ad0aea11e305c919dbd",
        "IPY_MODEL_3000560d1f4c40278c683fdf033a929d",
        "IPY_MODEL_727913ea39a14fdfaf21c0c47b18bc36",
        "IPY_MODEL_babf51345938463fb7d6ed9d57b6053f",
        "IPY_MODEL_e05c042c1eb343b8b56ffa6a61b5760a",
        "IPY_MODEL_b4462e208ccb4419aa7857971cb7b5c2",
        "IPY_MODEL_9b265bcdb15642ffb5dd684e2e07e04e",
        "IPY_MODEL_3f330e3bf78b41dda0a2b1fee9f3361b",
        "IPY_MODEL_ef5a6e45af9f411db624e61433cb9666",
        "IPY_MODEL_3bc0fbedefcb4e07baea6f829307be9d",
        "IPY_MODEL_21d3b189defb4721ace12dd430f906ce",
        "IPY_MODEL_7ca2f162f3bc4829bcd72e15874ec140",
        "IPY_MODEL_ecefdad970d843349d33bb714e1600d7",
        "IPY_MODEL_24023707bac94f3881664df3e5efd1f0",
        "IPY_MODEL_de1f8ecd65524612bfdf23e8ea498060",
        "IPY_MODEL_628b1272570846c29760968bb4819ed4",
        "IPY_MODEL_ddee470259d940ec8a57bc3a43b6f5d8",
        "IPY_MODEL_b5f2bef92d7b4627b1a506e825aaf50a",
        "IPY_MODEL_742977dec5c8446e9aba6b74543ffa9e",
        "IPY_MODEL_6bfea76e7ddf4c0688dd91b4b508812a",
        "IPY_MODEL_975e0ca5d6034346839d36ba63de32ae",
        "IPY_MODEL_95e6462bdf5a4b508e98b56c0e5339b7",
        "IPY_MODEL_54f59257b8a24fdbaf54120321c2ed82",
        "IPY_MODEL_c5190c5ca86344ff970dba336b9f5864",
        "IPY_MODEL_386c255780b74440bd7328bb30c2358a",
        "IPY_MODEL_d4efc77193ba46ad87190781bcc73760",
        "IPY_MODEL_7860939402e74106b90c3e7a081c22b0",
        "IPY_MODEL_32678b0426974e71a29b5b33736d5905",
        "IPY_MODEL_d8e0e4794eb1416a910327e636c62bce",
        "IPY_MODEL_7f7df21fddb548cf86bc5cbd1cccabb7",
        "IPY_MODEL_d4e9298f2938470a8097b00f07c4e7eb",
        "IPY_MODEL_f9a3f7ce63b148d0ae3e2ebf8ec9e1b3",
        "IPY_MODEL_6682d8589bf64bd6bb8d1932f5fd48bf",
        "IPY_MODEL_9962df2216594a60b59f47e84448cba2",
        "IPY_MODEL_9d91b235ad5f4e09985b6b89c0fce683",
        "IPY_MODEL_2707a690dee44d1088e141c52a1d4ae1",
        "IPY_MODEL_6bacd0ec926e4f898d9057d8f5ec56c7",
        "IPY_MODEL_23e119f6407f4bf3a570dd98368f710c",
        "IPY_MODEL_5f10072b0def43a3b4f37043dd2b735c",
        "IPY_MODEL_f3f5262c959043b3abe07b96a21329c7",
        "IPY_MODEL_de5d8e4a6d484156b896526eec9820b2",
        "IPY_MODEL_ae51a7dd942d4403b39c36b7c5da3967",
        "IPY_MODEL_d73d0535ce5641acbd711b22e82c3286",
        "IPY_MODEL_0e3c93237e6044e1bca6014f025aec7f",
        "IPY_MODEL_5488dde3465e41d29fe97531fd8692ee",
        "IPY_MODEL_3182f8df24044a149c0f7406b9512fde",
        "IPY_MODEL_792a3436d8104e5d81e5a809b9f139df",
        "IPY_MODEL_2664e55c2c6745ce8ce92d8e61c16c41",
        "IPY_MODEL_0243025eec4d4f7eb8055a48a32f4595",
        "IPY_MODEL_6d922223843c4d33b96982694c468c4f",
        "IPY_MODEL_f532cfce0510481aba3307ebaeec59b2",
        "IPY_MODEL_8be2df63f90247b4a320ef804aade5f1",
        "IPY_MODEL_aebf970d319d45a09c9e38fe34edd6ec",
        "IPY_MODEL_c36d4dc046db4458930798aa8837b2d5",
        "IPY_MODEL_6acb03618875423d959df608e9a72639",
        "IPY_MODEL_edfb039a637b442bae9e8ad51edaab03",
        "IPY_MODEL_c88aac63763741b89c90bb2ff4833106",
        "IPY_MODEL_04c27c3c010441caac50ee4ec57e3281",
        "IPY_MODEL_1c447e2d410a407d99f8d6d4096f3aa4",
        "IPY_MODEL_018fb58ce2914dea9973e320cd62f4bb",
        "IPY_MODEL_5d68f40e12ec4b46b3f32166cacd9041",
        "IPY_MODEL_38c85df98ff147d088bc18b2b1115e52",
        "IPY_MODEL_269ea4ca6862404eb6003f74f33a2682",
        "IPY_MODEL_51324e36a7f4481b932c88f8197e6c79",
        "IPY_MODEL_f0b1b481d82144d68a57916d37bbfb03",
        "IPY_MODEL_097a494cc1cb424eba5abaff42aed3c3",
        "IPY_MODEL_4e8dcc84551e4ff88c68d6b637c0f346",
        "IPY_MODEL_bb80e921d4c64855b66a52ffd48b3f76"
       ],
       "layout": "IPY_MODEL_d8ef11386efb4e9890d74d9685572380",
       "left": 654,
       "modisdate": "2024-03-03",
       "north": 33.137551192346145,
       "options": [
        "bounce_at_zoom_limits",
        "box_zoom",
        "center",
        "close_popup_on_click",
        "double_click_zoom",
        "dragging",
        "fullscreen",
        "inertia",
        "inertia_deceleration",
        "inertia_max_speed",
        "interpolation",
        "keyboard",
        "keyboard_pan_offset",
        "keyboard_zoom_offset",
        "max_zoom",
        "min_zoom",
        "prefer_canvas",
        "scroll_wheel_zoom",
        "tap",
        "tap_tolerance",
        "touch_zoom",
        "world_copy_jump",
        "zoom",
        "zoom_animation_threshold",
        "zoom_delta",
        "zoom_snap"
       ],
       "prefer_canvas": false,
       "right": 1622,
       "south": -33.137551192346145,
       "style": "IPY_MODEL_2cc629717e7f41cd9528a874e79bdc1d",
       "top": 824,
       "west": -65.03906250000001,
       "window_url": "https://datalab-bespin.malariagen.net/user/ahernank/notebooks/github/anopheles-genomic-surveillance.github.io/docs/workshop-1/module-2-sample-metadata.ipynb#",
       "zoom": 3
      }
     },
     "d4e9298f2938470a8097b00f07c4e7eb": {
      "model_module": "jupyter-leaflet",
      "model_module_version": "^0.17.0",
      "model_name": "LeafletMarkerModel",
      "state": {
       "_model_module_version": "^0.17.0",
       "_view_module_version": "^0.17.0",
       "draggable": false,
       "location": [
        13.567,
        -14.917
       ],
       "options": [
        "alt",
        "draggable",
        "keyboard",
        "rise_offset",
        "rise_on_hover",
        "rotation_angle",
        "rotation_origin",
        "title",
        "z_index_offset"
       ],
       "title": "Wali Kunda, Gambia, The (13.567, -14.917)\n2 gambiae, 0 coluzzii, 0 arabiensis"
      }
     },
     "d4efc77193ba46ad87190781bcc73760": {
      "model_module": "jupyter-leaflet",
      "model_module_version": "^0.17.0",
      "model_name": "LeafletMarkerModel",
      "state": {
       "_model_module_version": "^0.17.0",
       "_view_module_version": "^0.17.0",
       "draggable": false,
       "location": [
        0.384,
        9.455
       ],
       "options": [
        "alt",
        "draggable",
        "keyboard",
        "rise_offset",
        "rise_on_hover",
        "rotation_angle",
        "rotation_origin",
        "title",
        "z_index_offset"
       ],
       "title": "Libreville, Gabon (0.384, 9.455)\n69 gambiae, 0 coluzzii, 0 arabiensis"
      }
     },
     "d73d0535ce5641acbd711b22e82c3286": {
      "model_module": "jupyter-leaflet",
      "model_module_version": "^0.17.0",
      "model_name": "LeafletMarkerModel",
      "state": {
       "_model_module_version": "^0.17.0",
       "_view_module_version": "^0.17.0",
       "draggable": false,
       "location": [
        -15.933,
        34.755
       ],
       "options": [
        "alt",
        "draggable",
        "keyboard",
        "rise_offset",
        "rise_on_hover",
        "rotation_angle",
        "rotation_origin",
        "title",
        "z_index_offset"
       ],
       "title": "Chikhwawa, Malawi (-15.933, 34.755)\n0 gambiae, 0 coluzzii, 41 arabiensis"
      }
     },
     "d8e0e4794eb1416a910327e636c62bce": {
      "model_module": "jupyter-leaflet",
      "model_module_version": "^0.17.0",
      "model_name": "LeafletMarkerModel",
      "state": {
       "_model_module_version": "^0.17.0",
       "_view_module_version": "^0.17.0",
       "draggable": false,
       "location": [
        13.583,
        -15.9
       ],
       "options": [
        "alt",
        "draggable",
        "keyboard",
        "rise_offset",
        "rise_on_hover",
        "rotation_angle",
        "rotation_origin",
        "title",
        "z_index_offset"
       ],
       "title": "Sare Samba Sowe, Gambia, The (13.583, -15.900)\n0 gambiae, 0 coluzzii, 0 arabiensis"
      }
     },
     "d8ef11386efb4e9890d74d9685572380": {
      "model_module": "@jupyter-widgets/base",
      "model_module_version": "1.2.0",
      "model_name": "LayoutModel",
      "state": {}
     },
     "daa8d2d904f44ad18706aef3cf28591b": {
      "model_module": "jupyter-leaflet",
      "model_module_version": "^0.17.0",
      "model_name": "LeafletMarkerModel",
      "state": {
       "_model_module_version": "^0.17.0",
       "_view_module_version": "^0.17.0",
       "draggable": false,
       "location": [
        8.394,
        13.714
       ],
       "options": [
        "alt",
        "draggable",
        "keyboard",
        "rise_offset",
        "rise_on_hover",
        "rotation_angle",
        "rotation_origin",
        "title",
        "z_index_offset"
       ],
       "title": "Djaba, Cameroon (8.394, 13.714)\n2 gambiae, 0 coluzzii, 0 arabiensis"
      }
     },
     "ddee470259d940ec8a57bc3a43b6f5d8": {
      "model_module": "jupyter-leaflet",
      "model_module_version": "^0.17.0",
      "model_name": "LeafletMarkerModel",
      "state": {
       "_model_module_version": "^0.17.0",
       "_view_module_version": "^0.17.0",
       "draggable": false,
       "location": [
        6.469,
        12.629
       ],
       "options": [
        "alt",
        "draggable",
        "keyboard",
        "rise_offset",
        "rise_on_hover",
        "rotation_angle",
        "rotation_origin",
        "title",
        "z_index_offset"
       ],
       "title": "Tibati, Cameroon (6.469, 12.629)\n2 gambiae, 2 coluzzii, 0 arabiensis"
      }
     },
     "de1f8ecd65524612bfdf23e8ea498060": {
      "model_module": "jupyter-leaflet",
      "model_module_version": "^0.17.0",
      "model_name": "LeafletMarkerModel",
      "state": {
       "_model_module_version": "^0.17.0",
       "_view_module_version": "^0.17.0",
       "draggable": false,
       "location": [
        10.708,
        14.212
       ],
       "options": [
        "alt",
        "draggable",
        "keyboard",
        "rise_offset",
        "rise_on_hover",
        "rotation_angle",
        "rotation_origin",
        "title",
        "z_index_offset"
       ],
       "title": "Tchéré, Cameroon (10.708, 14.212)\n1 gambiae, 0 coluzzii, 0 arabiensis"
      }
     },
     "de5d8e4a6d484156b896526eec9820b2": {
      "model_module": "jupyter-leaflet",
      "model_module_version": "^0.17.0",
      "model_name": "LeafletMarkerModel",
      "state": {
       "_model_module_version": "^0.17.0",
       "_view_module_version": "^0.17.0",
       "draggable": false,
       "location": [
        -3.511,
        39.909
       ],
       "options": [
        "alt",
        "draggable",
        "keyboard",
        "rise_offset",
        "rise_on_hover",
        "rotation_angle",
        "rotation_origin",
        "title",
        "z_index_offset"
       ],
       "title": "Kilifi, Kenya (-3.511, 39.909)\n19 gambiae, 0 coluzzii, 13 arabiensis"
      }
     },
     "df2dc5a950a4412197a2fdabd7ae5f83": {
      "model_module": "jupyter-leaflet",
      "model_module_version": "^0.17.0",
      "model_name": "LeafletMarkerModel",
      "state": {
       "_model_module_version": "^0.17.0",
       "_view_module_version": "^0.17.0",
       "draggable": false,
       "location": [
        3.516,
        11.5
       ],
       "options": [
        "alt",
        "draggable",
        "keyboard",
        "rise_offset",
        "rise_on_hover",
        "rotation_angle",
        "rotation_origin",
        "title",
        "z_index_offset"
       ],
       "title": "Mbalmayo, Cameroon (3.516, 11.500)\n1 gambiae, 0 coluzzii, 0 arabiensis"
      }
     },
     "e05c042c1eb343b8b56ffa6a61b5760a": {
      "model_module": "jupyter-leaflet",
      "model_module_version": "^0.17.0",
      "model_name": "LeafletMarkerModel",
      "state": {
       "_model_module_version": "^0.17.0",
       "_view_module_version": "^0.17.0",
       "draggable": false,
       "location": [
        7.902,
        13.607
       ],
       "options": [
        "alt",
        "draggable",
        "keyboard",
        "rise_offset",
        "rise_on_hover",
        "rotation_angle",
        "rotation_origin",
        "title",
        "z_index_offset"
       ],
       "title": "Ngaouya Nga, Cameroon (7.902, 13.607)\n1 gambiae, 0 coluzzii, 0 arabiensis"
      }
     },
     "e14f2862bd9b41ebbfed696acd6ca26a": {
      "model_module": "jupyter-leaflet",
      "model_module_version": "^0.17.0",
      "model_name": "LeafletMarkerModel",
      "state": {
       "_model_module_version": "^0.17.0",
       "_view_module_version": "^0.17.0",
       "draggable": false,
       "location": [
        3.87,
        11.539
       ],
       "options": [
        "alt",
        "draggable",
        "keyboard",
        "rise_offset",
        "rise_on_hover",
        "rotation_angle",
        "rotation_origin",
        "title",
        "z_index_offset"
       ],
       "title": "Essos, Cameroon (3.870, 11.539)\n1 gambiae, 0 coluzzii, 0 arabiensis"
      }
     },
     "e6746931d8f7453398c84f8ac77542cc": {
      "model_module": "jupyter-leaflet",
      "model_module_version": "^0.17.0",
      "model_name": "LeafletMarkerModel",
      "state": {
       "_model_module_version": "^0.17.0",
       "_view_module_version": "^0.17.0",
       "draggable": false,
       "location": [
        8.66,
        13.529
       ],
       "options": [
        "alt",
        "draggable",
        "keyboard",
        "rise_offset",
        "rise_on_hover",
        "rotation_angle",
        "rotation_origin",
        "title",
        "z_index_offset"
       ],
       "title": "Badankali, Cameroon (8.660, 13.529)\n0 gambiae, 1 coluzzii, 0 arabiensis"
      }
     },
     "ea2cbe95b5694cf8a7df609509cd9642": {
      "model_module": "jupyter-leaflet",
      "model_module_version": "^0.17.0",
      "model_name": "LeafletMarkerModel",
      "state": {
       "_model_module_version": "^0.17.0",
       "_view_module_version": "^0.17.0",
       "draggable": false,
       "location": [
        3.805,
        11.507
       ],
       "options": [
        "alt",
        "draggable",
        "keyboard",
        "rise_offset",
        "rise_on_hover",
        "rotation_angle",
        "rotation_origin",
        "title",
        "z_index_offset"
       ],
       "title": "Ahala, Cameroon (3.805, 11.507)\n4 gambiae, 0 coluzzii, 0 arabiensis"
      }
     },
     "eb89de6417844058bc3739dfac868a83": {
      "model_module": "jupyter-leaflet",
      "model_module_version": "^0.17.0",
      "model_name": "LeafletMarkerModel",
      "state": {
       "_model_module_version": "^0.17.0",
       "_view_module_version": "^0.17.0",
       "draggable": false,
       "location": [
        10.05,
        14.149
       ],
       "options": [
        "alt",
        "draggable",
        "keyboard",
        "rise_offset",
        "rise_on_hover",
        "rotation_angle",
        "rotation_origin",
        "title",
        "z_index_offset"
       ],
       "title": "Karba, Cameroon (10.050, 14.149)\n2 gambiae, 0 coluzzii, 0 arabiensis"
      }
     },
     "ecefdad970d843349d33bb714e1600d7": {
      "model_module": "jupyter-leaflet",
      "model_module_version": "^0.17.0",
      "model_name": "LeafletMarkerModel",
      "state": {
       "_model_module_version": "^0.17.0",
       "_view_module_version": "^0.17.0",
       "draggable": false,
       "location": [
        9.784,
        13.864
       ],
       "options": [
        "alt",
        "draggable",
        "keyboard",
        "rise_offset",
        "rise_on_hover",
        "rotation_angle",
        "rotation_origin",
        "title",
        "z_index_offset"
       ],
       "title": "Sorawel, Cameroon (9.784, 13.864)\n1 gambiae, 0 coluzzii, 0 arabiensis"
      }
     },
     "edfb039a637b442bae9e8ad51edaab03": {
      "model_module": "jupyter-leaflet",
      "model_module_version": "^0.17.0",
      "model_name": "LeafletMarkerModel",
      "state": {
       "_model_module_version": "^0.17.0",
       "_view_module_version": "^0.17.0",
       "draggable": false,
       "location": [
        -12.779,
        45.143
       ],
       "options": [
        "alt",
        "draggable",
        "keyboard",
        "rise_offset",
        "rise_on_hover",
        "rotation_angle",
        "rotation_origin",
        "title",
        "z_index_offset"
       ],
       "title": "Combani, Mayotte (-12.779, 45.143)\n6 gambiae, 0 coluzzii, 0 arabiensis"
      }
     },
     "ef5a6e45af9f411db624e61433cb9666": {
      "model_module": "jupyter-leaflet",
      "model_module_version": "^0.17.0",
      "model_name": "LeafletMarkerModel",
      "state": {
       "_model_module_version": "^0.17.0",
       "_view_module_version": "^0.17.0",
       "draggable": false,
       "location": [
        4.332,
        11.632
       ],
       "options": [
        "alt",
        "draggable",
        "keyboard",
        "rise_offset",
        "rise_on_hover",
        "rotation_angle",
        "rotation_origin",
        "title",
        "z_index_offset"
       ],
       "title": "Otibili, Cameroon (4.332, 11.632)\n4 gambiae, 0 coluzzii, 0 arabiensis"
      }
     },
     "f0b1b481d82144d68a57916d37bbfb03": {
      "model_module": "jupyter-leaflet",
      "model_module_version": "^0.17.0",
      "model_name": "LeafletMarkerModel",
      "state": {
       "_model_module_version": "^0.17.0",
       "_view_module_version": "^0.17.0",
       "draggable": false,
       "location": [
        -1.962,
        31.621
       ],
       "options": [
        "alt",
        "draggable",
        "keyboard",
        "rise_offset",
        "rise_on_hover",
        "rotation_angle",
        "rotation_origin",
        "title",
        "z_index_offset"
       ],
       "title": "Muleba, Tanzania (-1.962, 31.621)\n32 gambiae, 0 coluzzii, 137 arabiensis"
      }
     },
     "f2632765071f4d3eb3bd1f35d636db94": {
      "model_module": "jupyter-leaflet",
      "model_module_version": "^0.17.0",
      "model_name": "LeafletMarkerModel",
      "state": {
       "_model_module_version": "^0.17.0",
       "_view_module_version": "^0.17.0",
       "draggable": false,
       "location": [
        8.513,
        13.603
       ],
       "options": [
        "alt",
        "draggable",
        "keyboard",
        "rise_offset",
        "rise_on_hover",
        "rotation_angle",
        "rotation_origin",
        "title",
        "z_index_offset"
       ],
       "title": "Balda Bouri, Cameroon (8.513, 13.603)\n2 gambiae, 0 coluzzii, 0 arabiensis"
      }
     },
     "f3f5262c959043b3abe07b96a21329c7": {
      "model_module": "jupyter-leaflet",
      "model_module_version": "^0.17.0",
      "model_name": "LeafletMarkerModel",
      "state": {
       "_model_module_version": "^0.17.0",
       "_view_module_version": "^0.17.0",
       "draggable": false,
       "location": [
        11.957,
        -15.649
       ],
       "options": [
        "alt",
        "draggable",
        "keyboard",
        "rise_offset",
        "rise_on_hover",
        "rotation_angle",
        "rotation_origin",
        "title",
        "z_index_offset"
       ],
       "title": "Safim, Guinea-Bissau (11.957, -15.649)\n0 gambiae, 0 coluzzii, 0 arabiensis"
      }
     },
     "f475a26fea004f6fb77bd6d57126ad74": {
      "model_module": "jupyter-leaflet",
      "model_module_version": "^0.17.0",
      "model_name": "LeafletMarkerModel",
      "state": {
       "_model_module_version": "^0.17.0",
       "_view_module_version": "^0.17.0",
       "draggable": false,
       "location": [
        5.88,
        11.11
       ],
       "options": [
        "alt",
        "draggable",
        "keyboard",
        "rise_offset",
        "rise_on_hover",
        "rotation_angle",
        "rotation_origin",
        "title",
        "z_index_offset"
       ],
       "title": "Manchoutvi, Cameroon (5.880, 11.110)\n2 gambiae, 0 coluzzii, 0 arabiensis"
      }
     },
     "f532cfce0510481aba3307ebaeec59b2": {
      "model_module": "jupyter-leaflet",
      "model_module_version": "^0.17.0",
      "model_name": "LeafletMarkerModel",
      "state": {
       "_model_module_version": "^0.17.0",
       "_view_module_version": "^0.17.0",
       "draggable": false,
       "location": [
        12.9,
        -8.16
       ],
       "options": [
        "alt",
        "draggable",
        "keyboard",
        "rise_offset",
        "rise_on_hover",
        "rotation_angle",
        "rotation_origin",
        "title",
        "z_index_offset"
       ],
       "title": "Ouassorola, Mali (12.900, -8.160)\n4 gambiae, 9 coluzzii, 0 arabiensis"
      }
     },
     "f7b1f2b8cf9e425abf2f544c4e3b5895": {
      "model_module": "@jupyter-widgets/base",
      "model_module_version": "1.2.0",
      "model_name": "LayoutModel",
      "state": {}
     },
     "f9a3f7ce63b148d0ae3e2ebf8ec9e1b3": {
      "model_module": "jupyter-leaflet",
      "model_module_version": "^0.17.0",
      "model_name": "LeafletMarkerModel",
      "state": {
       "_model_module_version": "^0.17.0",
       "_view_module_version": "^0.17.0",
       "draggable": false,
       "location": [
        6.094,
        -0.261
       ],
       "options": [
        "alt",
        "draggable",
        "keyboard",
        "rise_offset",
        "rise_on_hover",
        "rotation_angle",
        "rotation_origin",
        "title",
        "z_index_offset"
       ],
       "title": "Koforidua, Ghana (6.094, -0.261)\n23 gambiae, 1 coluzzii, 0 arabiensis"
      }
     },
     "f9aee70e676542aaafe4c1686c6d4d46": {
      "model_module": "jupyter-leaflet",
      "model_module_version": "^0.17.0",
      "model_name": "LeafletMarkerModel",
      "state": {
       "_model_module_version": "^0.17.0",
       "_view_module_version": "^0.17.0",
       "draggable": false,
       "location": [
        8.476,
        13.644
       ],
       "options": [
        "alt",
        "draggable",
        "keyboard",
        "rise_offset",
        "rise_on_hover",
        "rotation_angle",
        "rotation_origin",
        "title",
        "z_index_offset"
       ],
       "title": "Guijiba, Cameroon (8.476, 13.644)\n1 gambiae, 0 coluzzii, 0 arabiensis"
      }
     },
     "fcf210adeadb4f729b258b0764491c30": {
      "model_module": "jupyter-leaflet",
      "model_module_version": "^0.17.0",
      "model_name": "LeafletMarkerModel",
      "state": {
       "_model_module_version": "^0.17.0",
       "_view_module_version": "^0.17.0",
       "draggable": false,
       "location": [
        10.495,
        14.255
       ],
       "options": [
        "alt",
        "draggable",
        "keyboard",
        "rise_offset",
        "rise_on_hover",
        "rotation_angle",
        "rotation_origin",
        "title",
        "z_index_offset"
       ],
       "title": "Lougol, Cameroon (10.495, 14.255)\n2 gambiae, 0 coluzzii, 0 arabiensis"
      }
     },
     "fdb1ee4c4ee44be2883cd0aafe3add1b": {
      "model_module": "jupyter-leaflet",
      "model_module_version": "^0.17.0",
      "model_name": "LeafletMarkerModel",
      "state": {
       "_model_module_version": "^0.17.0",
       "_view_module_version": "^0.17.0",
       "draggable": false,
       "location": [
        8.525,
        13.564
       ],
       "options": [
        "alt",
        "draggable",
        "keyboard",
        "rise_offset",
        "rise_on_hover",
        "rotation_angle",
        "rotation_origin",
        "title",
        "z_index_offset"
       ],
       "title": "Gouna, Cameroon (8.525, 13.564)\n0 gambiae, 1 coluzzii, 0 arabiensis"
      }
     },
     "ffc9002f67d94c8b91b5e8edadcc82ef": {
      "model_module": "jupyter-leaflet",
      "model_module_version": "^0.17.0",
      "model_name": "LeafletMapStyleModel",
      "state": {
       "_model_module_version": "^0.17.0"
      }
     }
    },
    "version_major": 2,
    "version_minor": 0
   }
  }
 },
 "nbformat": 4,
 "nbformat_minor": 5
}
