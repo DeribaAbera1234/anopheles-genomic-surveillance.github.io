{
 "cells": [
  {
   "cell_type": "markdown",
   "metadata": {},
   "source": [
    "![banner](../banner.jpg)\n",
    "\n",
    "***[Workshop 3](about) - Training course in data analysis for genomic surveillance of African malaria vectors***\n",
    "\n",
    "---"
   ]
  },
  {
   "cell_type": "markdown",
   "metadata": {
    "id": "XYp4CusZgWO6"
   },
   "source": [
    "# Module 4 - Detecting taxonomic and geographical population structure using neighbour-joining trees (NJT).\n"
   ]
  },
  {
   "cell_type": "markdown",
   "metadata": {
    "id": "Gel7YlN5geZC"
   },
   "source": [
    "## Theme: Analysis\n"
   ]
  },
  {
   "cell_type": "markdown",
   "metadata": {
    "id": "xw6bhVesgdtH"
   },
   "source": [
    "\n",
    "In this module we're going to investigate genetic structure by constructing neighbour-joining trees (NJTs) using genome variation data from the [MalariaGEN Vector Observatory](https://www.malariagen.net/vobs/) [Ag3.0 release](https://www.malariagen.net/data_package/ag30-anopheles-gambiae-data-resource/). We will use functions in the malariagen_data python package to run and plot NJTs, then learn how interpret the results to discover both taxonomic and geographic structure in mosquito populations.\n",
    "\n"
   ]
  },
  {
   "cell_type": "markdown",
   "metadata": {
    "id": "htK97r92gxd2"
   },
   "source": [
    "## Learning Objectives"
   ]
  },
  {
   "cell_type": "markdown",
   "metadata": {
    "id": "OPC5J-bzgxle"
   },
   "source": [
    "## LectureAt the end of this module you will be able to:\n",
    "\n",
    "- Construct neighbour-joining trees across different mosquito cohorts.\n",
    "\n",
    "- Plot trees and interpret results.\n",
    "\n",
    "- Use NJTs to discover taxonomic and geographic population structure."
   ]
  },
  {
   "cell_type": "markdown",
   "metadata": {},
   "source": [
    "## Lecture"
   ]
  },
  {
   "cell_type": "markdown",
   "metadata": {},
   "source": [
    "### English"
   ]
  },
  {
   "cell_type": "code",
   "execution_count": null,
   "metadata": {
    "tags": []
   },
   "outputs": [],
   "source": [
    "%%html\n",
    "<iframe width=\"560\" height=\"315\" src=\"https://www.youtube.com/embed/nNHql0s5mmQ\" title=\"YouTube video player\" frameborder=\"0\" allow=\"accelerometer; autoplay; clipboard-write; encrypted-media; gyroscope; picture-in-picture\" allowfullscreen></iframe>"
   ]
  },
  {
   "cell_type": "markdown",
   "metadata": {},
   "source": [
    "### French"
   ]
  },
  {
   "cell_type": "code",
   "execution_count": null,
   "metadata": {},
   "outputs": [],
   "source": [
    "%%html\n",
    "<iframe width=\"560\" height=\"315\" src=\"https://www.youtube.com/embed/a1On0sHZ4nc\" title=\"YouTube video player\" frameborder=\"0\" allow=\"accelerometer; autoplay; clipboard-write; encrypted-media; gyroscope; picture-in-picture\" allowfullscreen></iframe>"
   ]
  },
  {
   "cell_type": "markdown",
   "metadata": {
    "id": "Bp1cEL9zj5sn"
   },
   "source": [
    "## What is taxonomic structure?\n",
    "\n",
    "In Ag3.0 there are 2,784 wild-caught mosquitoes collected from 19 countries in sub-Saharan Africa. This includes mosquitoes from three known species within the _Anopheles gambiae_ species complex. We expect that any two mosquitoes from the same species will be more closely related than two mosquitoes from different species. This will hopefully be intuitive, because mosquitoes will prefer to mate with individuals of the same species, even if they live alongside mosquitoes from other species and can hybridise. This is also known as **reproductive isolation** and it may be caused by different drivers, _e.g._, **behavioural** differences leading to a lower likelihood of mating. Genomic differences accumulate between species with restricted gene flow over time with more divergence expected between species that have been reproductively isolated for longer."
   ]
  },
  {
   "cell_type": "markdown",
   "metadata": {
    "id": "ekR-eXpLblV5"
   },
   "source": [
    "<img src=\"https://vobs-resources.cog.sanger.ac.uk/training/img/workshop-3/behavioural-isolation.png\"></img>"
   ]
  },
  {
   "cell_type": "markdown",
   "metadata": {
    "id": "UgY86YSKi_Sg"
   },
   "source": [
    "## What is population structure?\n",
    "\n",
    "We might expect that two mosquitoes, of the same species, sampled from the same location, will be more closely related than two mosquitoes sampled from distant locations. These non-random patterns of relatedness are known as population structure. This is based on the assumption that mosquitoes may travel to find a mate, but may only be willing or able to travel a certain distance. Mosquitoes may also be impeded from travelling in certain directions by natural physical barriers, such as a region of elevated terrain, or by variation in the availability of suitable habitat. These limits and barriers to movement can thus generate population structure, also known as **geographic isolation**."
   ]
  },
  {
   "cell_type": "markdown",
   "metadata": {
    "id": "eGvol30abw9h"
   },
   "source": [
    "<img src=\"https://vobs-resources.cog.sanger.ac.uk/training/img/workshop-3/geographic-isolation.png\"></img>"
   ]
  },
  {
   "cell_type": "markdown",
   "metadata": {
    "id": "1KTxIgeYbyhg"
   },
   "source": [
    "For both taxonomic and population structure we may have some idea of what to expect based on our knowledge of previous studies, but we may be surprised.\n",
    "\n",
    "For example, the _Anopheles gambiae_ species complex continues to be unravelled, and there may be cryptic species that we were not previously aware of (_e.g._ see [Crawford _et al._ 2016](https://pubmed.ncbi.nlm.nih.gov/26846876/) and [Tennessen _et al._ 2020](https://doi.org/10.1111/mec.15756)). We will return to this topic with an entire workshop about discovering cryptic species.\n",
    "\n",
    "Also, recent studies have suggested that some malaria mosquitoes may engage in long-distance migration ([Huestis _et al._ 2019](https://pubmed.ncbi.nlm.nih.gov/31578527/)), challenging the previous view that mosquitoes generally don't travel more than a few kilometres in their lifetimes ([Service 1997](https://pubmed.ncbi.nlm.nih.gov/9439109/)). But we still don't know to what extent long-distance migration occurs, or whether the rate or range of migration varies between geographical regions and/or mosquito species. We would also like to learn more about how ecological and landscape variation affects the movement and interbreeding of mosquito populations in different regions of Africa.\n",
    "\n",
    "In short, we would like to investigate taxonomic and population structure, and we can use genetic variation data to do that. There are various methods for analysing taxonomic and population structure, but in this module we will focus on using a particular type of phylogenetic tree known as a neighbour-joining tree, then compare and contrast this with another method - principal component analysis - towards the end."
   ]
  },
  {
   "cell_type": "markdown",
   "metadata": {
    "id": "BlvJdLAa9SRY"
   },
   "source": [
    "## What is a phylogenetic tree?"
   ]
  },
  {
   "cell_type": "markdown",
   "metadata": {
    "id": "uln0jLgf9YnB"
   },
   "source": [
    "Phylogenetic trees are used to represent the evolutionary relationships between sampled individuals. These individuals (often called the **tips** or **leaves** of the tree) are connected together by tree **branches** with their length representing the amount of genetic change that has occured between individuals. For example, this might be based on the number of single nucloetide polymorphism (SNP) differences when comparing the genomic sequences of individuals (SNPs are introduced in [Workshop1 Module 4](https://anopheles-genomic-surveillance.github.io/workshop-1/module-4-vgsc-snps.html#single-nucleotide-polymorphisms-snps)). Individual branches are internally connected together by **parent nodes**. These nodes represent common ancestors inferred from the data. The common ancestor of all individuals in the tree is represented by its root. A tree is **rooted** when we know and have sampled the common ancestor of the individuals being analysed (often refered to as an **outgroup**) and means we can infer the order of the branching events. An **unrooted** tree can be constructed without this information but we cannot infer the direction of the evolutionary path without applying a timescale based on known mutation rates, _i.e._ a molecular clock."
   ]
  },
  {
   "cell_type": "markdown",
   "metadata": {
    "tags": []
   },
   "source": [
    "<img src=\"https://vobs-resources.cog.sanger.ac.uk/training/img/workshop-4/njt_tree.png\" width=\"1000\" ></img>"
   ]
  },
  {
   "cell_type": "markdown",
   "metadata": {
    "id": "sdBH2atShOrT"
   },
   "source": [
    "## What are neighbour-joining trees?"
   ]
  },
  {
   "cell_type": "markdown",
   "metadata": {
    "id": "jUp7IwQsh3PV"
   },
   "source": [
    "A neighbour-joining tree is a type of phylogenetic tree based on the concept of minimum evolution. This concept assumes that the tree with the shortest sum of branch lengths is the correct tree, _i.e._ the principle of parsimony - the simplest solution is the most likely. The number of genomic differences, _e.g._ SNPs, observed between individuals can be represented by a distance matrix.\n",
    "\n",
    "Neighbour-joining trees are derived by determining which individuals at the end of the tree branches are neighbours by clustering together the closest related individuals in a interative process.\n",
    "\n",
    "In this simplified example below, a neighbour-joining tree is constructed from four individuals from different taxa. First, the leaves with the minimum distance between them are joined as neighbours. In the example below, these are taxa B and taxa C with a distance of 50 SNPs difference."
   ]
  },
  {
   "cell_type": "markdown",
   "metadata": {},
   "source": [
    "<img src=\"https://vobs-resources.cog.sanger.ac.uk/training/img/workshop-4/njt_figa.png\" width=\"800\" ></img>"
   ]
  },
  {
   "cell_type": "markdown",
   "metadata": {
    "id": "0sJWsOC4sG-y"
   },
   "source": [
    "In an iterative process, the distance matrix is then recalculated using the distance of the remaining leaves to the B/C parent node. The next most closely related pair are joined as  neighbours. In this case taxa A and taxa D have the minimum distance between them."
   ]
  },
  {
   "cell_type": "markdown",
   "metadata": {
    "id": "s-9A1t09F51Z"
   },
   "source": [
    "<img src=\"https://vobs-resources.cog.sanger.ac.uk/training/img/workshop-4/njt_figb.png\" width=\"600\" ></img>"
   ]
  },
  {
   "cell_type": "markdown",
   "metadata": {
    "id": "m5_IOMRxtpkN"
   },
   "source": [
    "The distance matrix continues to be recalculated until all neighbours and subtrees are joined together by minimum distance. In our example, there was just one subtree pair left to be joined. These were the parent nodes A/D and B/C, resulting in the completed neighbour joining tree presented below."
   ]
  },
  {
   "cell_type": "markdown",
   "metadata": {
    "id": "Nc4R_mhKGKQi"
   },
   "source": [
    "<img src=\"https://vobs-resources.cog.sanger.ac.uk/training/img/workshop-4/njt_figc.png\" width=\"600\" ></img>"
   ]
  },
  {
   "cell_type": "markdown",
   "metadata": {
    "id": "D_jjEM18us2U"
   },
   "source": [
    "# Set up"
   ]
  },
  {
   "cell_type": "markdown",
   "metadata": {
    "id": "KtF9GAOHu0uM"
   },
   "source": [
    "Now that we have covered some of the theoretical background of neighbour-joining trees and looked at a simple example with four samples, let's install and import the Python package `malariagen_data` that we can use to generate NJTs with hundreds or thousands of individuals."
   ]
  },
  {
   "cell_type": "code",
   "execution_count": 1,
   "metadata": {
    "colab": {
     "base_uri": "https://localhost:8080/"
    },
    "id": "jdHnUDcIu7Z9",
    "outputId": "69efec8c-4c96-4e4f-bbb5-ff68a5be8ab3"
   },
   "outputs": [
    {
     "name": "stdout",
     "output_type": "stream",
     "text": [
      "Note: you may need to restart the kernel to use updated packages.\n"
     ]
    }
   ],
   "source": [
    "%pip install -q --no-warn-conflicts malariagen_data"
   ]
  },
  {
   "cell_type": "markdown",
   "metadata": {
    "id": "e7pfwu0DvB6Z"
   },
   "source": [
    "Note that authentication is required to access data through the package, more details can be found [here](https://malariagen.github.io/vector-data/vobs/vobs-data-access.html)."
   ]
  },
  {
   "cell_type": "code",
   "execution_count": 2,
   "metadata": {
    "id": "jIGDjiHpvU8G"
   },
   "outputs": [],
   "source": [
    "import malariagen_data\n",
    "import os"
   ]
  },
  {
   "cell_type": "markdown",
   "metadata": {
    "id": "fuUvAxFwye-S"
   },
   "source": [
    "## Saving NJT results\n",
    "\n",
    "Some NJT runs may take a while to complete, particularly if you're running this code on a service with modest computational resources such as Google Colab, because genotype calls from tens of millions of SNPs may need to be scanned to identify and extract the data.\n",
    "\n",
    "To avoid having to rerun these analyses, we'll save the results so we can come back to them later. In Google Colab, you can save results to your Google Drive, which will mean you don't lose results even if you leave the notebook and come back several days later.\n",
    "\n",
    "When mounting your Google Drive you will need to follow the authorization instructions."
   ]
  },
  {
   "cell_type": "code",
   "execution_count": 3,
   "metadata": {
    "colab": {
     "base_uri": "https://localhost:8080/"
    },
    "id": "Z2MNjHqSdFuy",
    "outputId": "c1e1532c-df3d-47da-ad2f-af9941675555"
   },
   "outputs": [],
   "source": [
    "try:\n",
    "    # if running on colab, mount Google drive\n",
    "    from google.colab import drive\n",
    "    drive.mount('drive')\n",
    "except ImportError:\n",
    "    # For course maintainers, turn off progress logging.\n",
    "    import os\n",
    "    os.environ[\"MGEN_SHOW_PROGRESS\"] = \"0\"\n",
    "    # For course maintainers, configure the plotly renderer.\n",
    "    import plotly.io as pio\n",
    "    pio.renderers.default = \"notebook_connected+plotly_mimetype\""
   ]
  },
  {
   "cell_type": "markdown",
   "metadata": {
    "id": "eJqe6DZadJTq"
   },
   "source": [
    "With our Google Drive now mounted, we can define and make a directory where we want to save our NJT results.\n"
   ]
  },
  {
   "cell_type": "code",
   "execution_count": 4,
   "metadata": {
    "id": "qOKziv3RdNJj"
   },
   "outputs": [],
   "source": [
    "results_dir = \"drive/MyDrive/Colab Data/ag3-structure-results\"\n",
    "os.makedirs(results_dir, exist_ok=True)"
   ]
  },
  {
   "cell_type": "markdown",
   "metadata": {
    "id": "IXjgbW3xdTsD"
   },
   "source": [
    "In Google Colab, we can actually see our mounted drive and NJT results directory by clicking on the file tab on the left hand side of the screen.\n",
    "\n",
    "Next we should setup the `malariagen_data` package. As we want to save our NJT results in the Google Drive folder we just set up, we'll use the `results_cache` parameter and assign our results directory to it. If we were running this notebook locally, then we could assign a local folder to this parameter and the NJT results would instead get stored on our hard drive."
   ]
  },
  {
   "cell_type": "code",
   "execution_count": 5,
   "metadata": {
    "colab": {
     "base_uri": "https://localhost:8080/",
     "height": 229
    },
    "id": "Lp1AHzjOvt4h",
    "outputId": "32749309-b2aa-4eb7-fe23-8d19941e4b2a"
   },
   "outputs": [
    {
     "data": {
      "application/javascript": [
       "'use strict';\n",
       "(function(root) {\n",
       "  function now() {\n",
       "    return new Date();\n",
       "  }\n",
       "\n",
       "  const force = true;\n",
       "\n",
       "  if (typeof root._bokeh_onload_callbacks === \"undefined\" || force === true) {\n",
       "    root._bokeh_onload_callbacks = [];\n",
       "    root._bokeh_is_loading = undefined;\n",
       "  }\n",
       "\n",
       "const JS_MIME_TYPE = 'application/javascript';\n",
       "  const HTML_MIME_TYPE = 'text/html';\n",
       "  const EXEC_MIME_TYPE = 'application/vnd.bokehjs_exec.v0+json';\n",
       "  const CLASS_NAME = 'output_bokeh rendered_html';\n",
       "\n",
       "  /**\n",
       "   * Render data to the DOM node\n",
       "   */\n",
       "  function render(props, node) {\n",
       "    const script = document.createElement(\"script\");\n",
       "    node.appendChild(script);\n",
       "  }\n",
       "\n",
       "  /**\n",
       "   * Handle when an output is cleared or removed\n",
       "   */\n",
       "  function handleClearOutput(event, handle) {\n",
       "    function drop(id) {\n",
       "      const view = Bokeh.index.get_by_id(id)\n",
       "      if (view != null) {\n",
       "        view.model.document.clear()\n",
       "        Bokeh.index.delete(view)\n",
       "      }\n",
       "    }\n",
       "\n",
       "    const cell = handle.cell;\n",
       "\n",
       "    const id = cell.output_area._bokeh_element_id;\n",
       "    const server_id = cell.output_area._bokeh_server_id;\n",
       "\n",
       "    // Clean up Bokeh references\n",
       "    if (id != null) {\n",
       "      drop(id)\n",
       "    }\n",
       "\n",
       "    if (server_id !== undefined) {\n",
       "      // Clean up Bokeh references\n",
       "      const cmd_clean = \"from bokeh.io.state import curstate; print(curstate().uuid_to_server['\" + server_id + \"'].get_sessions()[0].document.roots[0]._id)\";\n",
       "      cell.notebook.kernel.execute(cmd_clean, {\n",
       "        iopub: {\n",
       "          output: function(msg) {\n",
       "            const id = msg.content.text.trim()\n",
       "            drop(id)\n",
       "          }\n",
       "        }\n",
       "      });\n",
       "      // Destroy server and session\n",
       "      const cmd_destroy = \"import bokeh.io.notebook as ion; ion.destroy_server('\" + server_id + \"')\";\n",
       "      cell.notebook.kernel.execute(cmd_destroy);\n",
       "    }\n",
       "  }\n",
       "\n",
       "  /**\n",
       "   * Handle when a new output is added\n",
       "   */\n",
       "  function handleAddOutput(event, handle) {\n",
       "    const output_area = handle.output_area;\n",
       "    const output = handle.output;\n",
       "\n",
       "    // limit handleAddOutput to display_data with EXEC_MIME_TYPE content only\n",
       "    if ((output.output_type != \"display_data\") || (!Object.prototype.hasOwnProperty.call(output.data, EXEC_MIME_TYPE))) {\n",
       "      return\n",
       "    }\n",
       "\n",
       "    const toinsert = output_area.element.find(\".\" + CLASS_NAME.split(' ')[0]);\n",
       "\n",
       "    if (output.metadata[EXEC_MIME_TYPE][\"id\"] !== undefined) {\n",
       "      toinsert[toinsert.length - 1].firstChild.textContent = output.data[JS_MIME_TYPE];\n",
       "      // store reference to embed id on output_area\n",
       "      output_area._bokeh_element_id = output.metadata[EXEC_MIME_TYPE][\"id\"];\n",
       "    }\n",
       "    if (output.metadata[EXEC_MIME_TYPE][\"server_id\"] !== undefined) {\n",
       "      const bk_div = document.createElement(\"div\");\n",
       "      bk_div.innerHTML = output.data[HTML_MIME_TYPE];\n",
       "      const script_attrs = bk_div.children[0].attributes;\n",
       "      for (let i = 0; i < script_attrs.length; i++) {\n",
       "        toinsert[toinsert.length - 1].firstChild.setAttribute(script_attrs[i].name, script_attrs[i].value);\n",
       "        toinsert[toinsert.length - 1].firstChild.textContent = bk_div.children[0].textContent\n",
       "      }\n",
       "      // store reference to server id on output_area\n",
       "      output_area._bokeh_server_id = output.metadata[EXEC_MIME_TYPE][\"server_id\"];\n",
       "    }\n",
       "  }\n",
       "\n",
       "  function register_renderer(events, OutputArea) {\n",
       "\n",
       "    function append_mime(data, metadata, element) {\n",
       "      // create a DOM node to render to\n",
       "      const toinsert = this.create_output_subarea(\n",
       "        metadata,\n",
       "        CLASS_NAME,\n",
       "        EXEC_MIME_TYPE\n",
       "      );\n",
       "      this.keyboard_manager.register_events(toinsert);\n",
       "      // Render to node\n",
       "      const props = {data: data, metadata: metadata[EXEC_MIME_TYPE]};\n",
       "      render(props, toinsert[toinsert.length - 1]);\n",
       "      element.append(toinsert);\n",
       "      return toinsert\n",
       "    }\n",
       "\n",
       "    /* Handle when an output is cleared or removed */\n",
       "    events.on('clear_output.CodeCell', handleClearOutput);\n",
       "    events.on('delete.Cell', handleClearOutput);\n",
       "\n",
       "    /* Handle when a new output is added */\n",
       "    events.on('output_added.OutputArea', handleAddOutput);\n",
       "\n",
       "    /**\n",
       "     * Register the mime type and append_mime function with output_area\n",
       "     */\n",
       "    OutputArea.prototype.register_mime_type(EXEC_MIME_TYPE, append_mime, {\n",
       "      /* Is output safe? */\n",
       "      safe: true,\n",
       "      /* Index of renderer in `output_area.display_order` */\n",
       "      index: 0\n",
       "    });\n",
       "  }\n",
       "\n",
       "  // register the mime type if in Jupyter Notebook environment and previously unregistered\n",
       "  if (root.Jupyter !== undefined) {\n",
       "    const events = require('base/js/events');\n",
       "    const OutputArea = require('notebook/js/outputarea').OutputArea;\n",
       "\n",
       "    if (OutputArea.prototype.mime_types().indexOf(EXEC_MIME_TYPE) == -1) {\n",
       "      register_renderer(events, OutputArea);\n",
       "    }\n",
       "  }\n",
       "  if (typeof (root._bokeh_timeout) === \"undefined\" || force === true) {\n",
       "    root._bokeh_timeout = Date.now() + 5000;\n",
       "    root._bokeh_failed_load = false;\n",
       "  }\n",
       "\n",
       "  const NB_LOAD_WARNING = {'data': {'text/html':\n",
       "     \"<div style='background-color: #fdd'>\\n\"+\n",
       "     \"<p>\\n\"+\n",
       "     \"BokehJS does not appear to have successfully loaded. If loading BokehJS from CDN, this \\n\"+\n",
       "     \"may be due to a slow or bad network connection. Possible fixes:\\n\"+\n",
       "     \"</p>\\n\"+\n",
       "     \"<ul>\\n\"+\n",
       "     \"<li>re-rerun `output_notebook()` to attempt to load from CDN again, or</li>\\n\"+\n",
       "     \"<li>use INLINE resources instead, as so:</li>\\n\"+\n",
       "     \"</ul>\\n\"+\n",
       "     \"<code>\\n\"+\n",
       "     \"from bokeh.resources import INLINE\\n\"+\n",
       "     \"output_notebook(resources=INLINE)\\n\"+\n",
       "     \"</code>\\n\"+\n",
       "     \"</div>\"}};\n",
       "\n",
       "  function display_loaded(error = null) {\n",
       "    const el = document.getElementById(null);\n",
       "    if (el != null) {\n",
       "      const html = (() => {\n",
       "        if (typeof root.Bokeh === \"undefined\") {\n",
       "          if (error == null) {\n",
       "            return \"BokehJS is loading ...\";\n",
       "          } else {\n",
       "            return \"BokehJS failed to load.\";\n",
       "          }\n",
       "        } else {\n",
       "          const prefix = `BokehJS ${root.Bokeh.version}`;\n",
       "          if (error == null) {\n",
       "            return `${prefix} successfully loaded.`;\n",
       "          } else {\n",
       "            return `${prefix} <b>encountered errors</b> while loading and may not function as expected.`;\n",
       "          }\n",
       "        }\n",
       "      })();\n",
       "      el.innerHTML = html;\n",
       "\n",
       "      if (error != null) {\n",
       "        const wrapper = document.createElement(\"div\");\n",
       "        wrapper.style.overflow = \"auto\";\n",
       "        wrapper.style.height = \"5em\";\n",
       "        wrapper.style.resize = \"vertical\";\n",
       "        const content = document.createElement(\"div\");\n",
       "        content.style.fontFamily = \"monospace\";\n",
       "        content.style.whiteSpace = \"pre-wrap\";\n",
       "        content.style.backgroundColor = \"rgb(255, 221, 221)\";\n",
       "        content.textContent = error.stack ?? error.toString();\n",
       "        wrapper.append(content);\n",
       "        el.append(wrapper);\n",
       "      }\n",
       "    } else if (Date.now() < root._bokeh_timeout) {\n",
       "      setTimeout(() => display_loaded(error), 100);\n",
       "    }\n",
       "  }\n",
       "\n",
       "  function run_callbacks() {\n",
       "    try {\n",
       "      root._bokeh_onload_callbacks.forEach(function(callback) {\n",
       "        if (callback != null)\n",
       "          callback();\n",
       "      });\n",
       "    } finally {\n",
       "      delete root._bokeh_onload_callbacks\n",
       "    }\n",
       "    console.debug(\"Bokeh: all callbacks have finished\");\n",
       "  }\n",
       "\n",
       "  function load_libs(css_urls, js_urls, callback) {\n",
       "    if (css_urls == null) css_urls = [];\n",
       "    if (js_urls == null) js_urls = [];\n",
       "\n",
       "    root._bokeh_onload_callbacks.push(callback);\n",
       "    if (root._bokeh_is_loading > 0) {\n",
       "      console.debug(\"Bokeh: BokehJS is being loaded, scheduling callback at\", now());\n",
       "      return null;\n",
       "    }\n",
       "    if (js_urls == null || js_urls.length === 0) {\n",
       "      run_callbacks();\n",
       "      return null;\n",
       "    }\n",
       "    console.debug(\"Bokeh: BokehJS not loaded, scheduling load and callback at\", now());\n",
       "    root._bokeh_is_loading = css_urls.length + js_urls.length;\n",
       "\n",
       "    function on_load() {\n",
       "      root._bokeh_is_loading--;\n",
       "      if (root._bokeh_is_loading === 0) {\n",
       "        console.debug(\"Bokeh: all BokehJS libraries/stylesheets loaded\");\n",
       "        run_callbacks()\n",
       "      }\n",
       "    }\n",
       "\n",
       "    function on_error(url) {\n",
       "      console.error(\"failed to load \" + url);\n",
       "    }\n",
       "\n",
       "    for (let i = 0; i < css_urls.length; i++) {\n",
       "      const url = css_urls[i];\n",
       "      const element = document.createElement(\"link\");\n",
       "      element.onload = on_load;\n",
       "      element.onerror = on_error.bind(null, url);\n",
       "      element.rel = \"stylesheet\";\n",
       "      element.type = \"text/css\";\n",
       "      element.href = url;\n",
       "      console.debug(\"Bokeh: injecting link tag for BokehJS stylesheet: \", url);\n",
       "      document.body.appendChild(element);\n",
       "    }\n",
       "\n",
       "    for (let i = 0; i < js_urls.length; i++) {\n",
       "      const url = js_urls[i];\n",
       "      const element = document.createElement('script');\n",
       "      element.onload = on_load;\n",
       "      element.onerror = on_error.bind(null, url);\n",
       "      element.async = false;\n",
       "      element.src = url;\n",
       "      console.debug(\"Bokeh: injecting script tag for BokehJS library: \", url);\n",
       "      document.head.appendChild(element);\n",
       "    }\n",
       "  };\n",
       "\n",
       "  function inject_raw_css(css) {\n",
       "    const element = document.createElement(\"style\");\n",
       "    element.appendChild(document.createTextNode(css));\n",
       "    document.body.appendChild(element);\n",
       "  }\n",
       "\n",
       "  const js_urls = [\"https://cdn.bokeh.org/bokeh/release/bokeh-3.7.0.min.js\", \"https://cdn.bokeh.org/bokeh/release/bokeh-gl-3.7.0.min.js\", \"https://cdn.bokeh.org/bokeh/release/bokeh-widgets-3.7.0.min.js\", \"https://cdn.bokeh.org/bokeh/release/bokeh-tables-3.7.0.min.js\", \"https://cdn.bokeh.org/bokeh/release/bokeh-mathjax-3.7.0.min.js\"];\n",
       "  const css_urls = [];\n",
       "\n",
       "  const inline_js = [    function(Bokeh) {\n",
       "      Bokeh.set_log_level(\"info\");\n",
       "    },\n",
       "function(Bokeh) {\n",
       "    }\n",
       "  ];\n",
       "\n",
       "  function run_inline_js() {\n",
       "    if (root.Bokeh !== undefined || force === true) {\n",
       "      try {\n",
       "            for (let i = 0; i < inline_js.length; i++) {\n",
       "      inline_js[i].call(root, root.Bokeh);\n",
       "    }\n",
       "\n",
       "      } catch (error) {throw error;\n",
       "      }} else if (Date.now() < root._bokeh_timeout) {\n",
       "      setTimeout(run_inline_js, 100);\n",
       "    } else if (!root._bokeh_failed_load) {\n",
       "      console.log(\"Bokeh: BokehJS failed to load within specified timeout.\");\n",
       "      root._bokeh_failed_load = true;\n",
       "    } else if (force !== true) {\n",
       "      const cell = $(document.getElementById(null)).parents('.cell').data().cell;\n",
       "      cell.output_area.append_execute_result(NB_LOAD_WARNING)\n",
       "    }\n",
       "  }\n",
       "\n",
       "  if (root._bokeh_is_loading === 0) {\n",
       "    console.debug(\"Bokeh: BokehJS loaded, going straight to plotting\");\n",
       "    run_inline_js();\n",
       "  } else {\n",
       "    load_libs(css_urls, js_urls, function() {\n",
       "      console.debug(\"Bokeh: BokehJS plotting callback run at\", now());\n",
       "      run_inline_js();\n",
       "    });\n",
       "  }\n",
       "}(window));"
      ],
      "application/vnd.bokehjs_load.v0+json": "'use strict';\n(function(root) {\n  function now() {\n    return new Date();\n  }\n\n  const force = true;\n\n  if (typeof root._bokeh_onload_callbacks === \"undefined\" || force === true) {\n    root._bokeh_onload_callbacks = [];\n    root._bokeh_is_loading = undefined;\n  }\n\n\n  if (typeof (root._bokeh_timeout) === \"undefined\" || force === true) {\n    root._bokeh_timeout = Date.now() + 5000;\n    root._bokeh_failed_load = false;\n  }\n\n  const NB_LOAD_WARNING = {'data': {'text/html':\n     \"<div style='background-color: #fdd'>\\n\"+\n     \"<p>\\n\"+\n     \"BokehJS does not appear to have successfully loaded. If loading BokehJS from CDN, this \\n\"+\n     \"may be due to a slow or bad network connection. Possible fixes:\\n\"+\n     \"</p>\\n\"+\n     \"<ul>\\n\"+\n     \"<li>re-rerun `output_notebook()` to attempt to load from CDN again, or</li>\\n\"+\n     \"<li>use INLINE resources instead, as so:</li>\\n\"+\n     \"</ul>\\n\"+\n     \"<code>\\n\"+\n     \"from bokeh.resources import INLINE\\n\"+\n     \"output_notebook(resources=INLINE)\\n\"+\n     \"</code>\\n\"+\n     \"</div>\"}};\n\n  function display_loaded(error = null) {\n    const el = document.getElementById(null);\n    if (el != null) {\n      const html = (() => {\n        if (typeof root.Bokeh === \"undefined\") {\n          if (error == null) {\n            return \"BokehJS is loading ...\";\n          } else {\n            return \"BokehJS failed to load.\";\n          }\n        } else {\n          const prefix = `BokehJS ${root.Bokeh.version}`;\n          if (error == null) {\n            return `${prefix} successfully loaded.`;\n          } else {\n            return `${prefix} <b>encountered errors</b> while loading and may not function as expected.`;\n          }\n        }\n      })();\n      el.innerHTML = html;\n\n      if (error != null) {\n        const wrapper = document.createElement(\"div\");\n        wrapper.style.overflow = \"auto\";\n        wrapper.style.height = \"5em\";\n        wrapper.style.resize = \"vertical\";\n        const content = document.createElement(\"div\");\n        content.style.fontFamily = \"monospace\";\n        content.style.whiteSpace = \"pre-wrap\";\n        content.style.backgroundColor = \"rgb(255, 221, 221)\";\n        content.textContent = error.stack ?? error.toString();\n        wrapper.append(content);\n        el.append(wrapper);\n      }\n    } else if (Date.now() < root._bokeh_timeout) {\n      setTimeout(() => display_loaded(error), 100);\n    }\n  }\n\n  function run_callbacks() {\n    try {\n      root._bokeh_onload_callbacks.forEach(function(callback) {\n        if (callback != null)\n          callback();\n      });\n    } finally {\n      delete root._bokeh_onload_callbacks\n    }\n    console.debug(\"Bokeh: all callbacks have finished\");\n  }\n\n  function load_libs(css_urls, js_urls, callback) {\n    if (css_urls == null) css_urls = [];\n    if (js_urls == null) js_urls = [];\n\n    root._bokeh_onload_callbacks.push(callback);\n    if (root._bokeh_is_loading > 0) {\n      console.debug(\"Bokeh: BokehJS is being loaded, scheduling callback at\", now());\n      return null;\n    }\n    if (js_urls == null || js_urls.length === 0) {\n      run_callbacks();\n      return null;\n    }\n    console.debug(\"Bokeh: BokehJS not loaded, scheduling load and callback at\", now());\n    root._bokeh_is_loading = css_urls.length + js_urls.length;\n\n    function on_load() {\n      root._bokeh_is_loading--;\n      if (root._bokeh_is_loading === 0) {\n        console.debug(\"Bokeh: all BokehJS libraries/stylesheets loaded\");\n        run_callbacks()\n      }\n    }\n\n    function on_error(url) {\n      console.error(\"failed to load \" + url);\n    }\n\n    for (let i = 0; i < css_urls.length; i++) {\n      const url = css_urls[i];\n      const element = document.createElement(\"link\");\n      element.onload = on_load;\n      element.onerror = on_error.bind(null, url);\n      element.rel = \"stylesheet\";\n      element.type = \"text/css\";\n      element.href = url;\n      console.debug(\"Bokeh: injecting link tag for BokehJS stylesheet: \", url);\n      document.body.appendChild(element);\n    }\n\n    for (let i = 0; i < js_urls.length; i++) {\n      const url = js_urls[i];\n      const element = document.createElement('script');\n      element.onload = on_load;\n      element.onerror = on_error.bind(null, url);\n      element.async = false;\n      element.src = url;\n      console.debug(\"Bokeh: injecting script tag for BokehJS library: \", url);\n      document.head.appendChild(element);\n    }\n  };\n\n  function inject_raw_css(css) {\n    const element = document.createElement(\"style\");\n    element.appendChild(document.createTextNode(css));\n    document.body.appendChild(element);\n  }\n\n  const js_urls = [\"https://cdn.bokeh.org/bokeh/release/bokeh-3.7.0.min.js\", \"https://cdn.bokeh.org/bokeh/release/bokeh-gl-3.7.0.min.js\", \"https://cdn.bokeh.org/bokeh/release/bokeh-widgets-3.7.0.min.js\", \"https://cdn.bokeh.org/bokeh/release/bokeh-tables-3.7.0.min.js\", \"https://cdn.bokeh.org/bokeh/release/bokeh-mathjax-3.7.0.min.js\"];\n  const css_urls = [];\n\n  const inline_js = [    function(Bokeh) {\n      Bokeh.set_log_level(\"info\");\n    },\nfunction(Bokeh) {\n    }\n  ];\n\n  function run_inline_js() {\n    if (root.Bokeh !== undefined || force === true) {\n      try {\n            for (let i = 0; i < inline_js.length; i++) {\n      inline_js[i].call(root, root.Bokeh);\n    }\n\n      } catch (error) {throw error;\n      }} else if (Date.now() < root._bokeh_timeout) {\n      setTimeout(run_inline_js, 100);\n    } else if (!root._bokeh_failed_load) {\n      console.log(\"Bokeh: BokehJS failed to load within specified timeout.\");\n      root._bokeh_failed_load = true;\n    } else if (force !== true) {\n      const cell = $(document.getElementById(null)).parents('.cell').data().cell;\n      cell.output_area.append_execute_result(NB_LOAD_WARNING)\n    }\n  }\n\n  if (root._bokeh_is_loading === 0) {\n    console.debug(\"Bokeh: BokehJS loaded, going straight to plotting\");\n    run_inline_js();\n  } else {\n    load_libs(css_urls, js_urls, function() {\n      console.debug(\"Bokeh: BokehJS plotting callback run at\", now());\n      run_inline_js();\n    });\n  }\n}(window));"
     },
     "metadata": {},
     "output_type": "display_data"
    },
    {
     "data": {
      "text/html": [
       "\n",
       "            <table class=\"malariagen-ag3\">\n",
       "                <thead>\n",
       "                    <tr>\n",
       "                        <th style=\"text-align: left\" colspan=\"2\">MalariaGEN Ag3 API client</th>\n",
       "                    </tr>\n",
       "                    <tr><td colspan=\"2\" style=\"text-align: left\">\n",
       "                        Please note that data are subject to terms of use,\n",
       "                        for more information see <a href=\"https://www.malariagen.net/data\">\n",
       "                        the MalariaGEN website</a> or contact support@malariagen.net.\n",
       "                        See also the <a href=\"https://malariagen.github.io/malariagen-data-python/v15.0.1/Ag3.html\">Ag3 API docs</a>.\n",
       "                    </td></tr>\n",
       "                </thead>\n",
       "                <tbody>\n",
       "                    <tr>\n",
       "                        <th style=\"text-align: left\">\n",
       "                            Storage URL\n",
       "                        </th>\n",
       "                        <td>gs://vo_agam_release_master_us_central1</td>\n",
       "                    </tr>\n",
       "                    <tr>\n",
       "                        <th style=\"text-align: left\">\n",
       "                            Data releases available\n",
       "                        </th>\n",
       "                        <td>3.0, 3.1, 3.2, 3.3, 3.4, 3.5, 3.6, 3.7, 3.8, 3.9, 3.10, 3.11, 3.12, 3.13, 3.14</td>\n",
       "                    </tr>\n",
       "                    <tr>\n",
       "                        <th style=\"text-align: left\">\n",
       "                            Results cache\n",
       "                        </th>\n",
       "                        <td>/home/kellylbennett/github/anopheles-genomic-surveillance.github.io/docs/workshop-3/drive/MyDrive/Colab Data/ag3-structure-results</td>\n",
       "                    </tr>\n",
       "                    <tr>\n",
       "                        <th style=\"text-align: left\">\n",
       "                            Cohorts analysis\n",
       "                        </th>\n",
       "                        <td>20250131</td>\n",
       "                    </tr>\n",
       "                    <tr>\n",
       "                        <th style=\"text-align: left\">\n",
       "                            AIM analysis\n",
       "                        </th>\n",
       "                        <td>20220528</td>\n",
       "                    </tr>\n",
       "                    <tr>\n",
       "                        <th style=\"text-align: left\">\n",
       "                            Site filters analysis\n",
       "                        </th>\n",
       "                        <td>dt_20200416</td>\n",
       "                    </tr>\n",
       "                    <tr>\n",
       "                        <th style=\"text-align: left\">\n",
       "                            Software version\n",
       "                        </th>\n",
       "                        <td>malariagen_data 15.0.1</td>\n",
       "                    </tr>\n",
       "                    <tr>\n",
       "                        <th style=\"text-align: left\">\n",
       "                            Client location\n",
       "                        </th>\n",
       "                        <td>Iowa, United States (Google Cloud us-central1)</td>\n",
       "                    </tr>\n",
       "                </tbody>\n",
       "            </table>\n",
       "        "
      ],
      "text/plain": [
       "<MalariaGEN Ag3 API client>\n",
       "Storage URL             : gs://vo_agam_release_master_us_central1\n",
       "Data releases available : 3.0, 3.1, 3.2, 3.3, 3.4, 3.5, 3.6, 3.7, 3.8, 3.9, 3.10, 3.11, 3.12, 3.13, 3.14\n",
       "Results cache           : /home/kellylbennett/github/anopheles-genomic-surveillance.github.io/docs/workshop-3/drive/MyDrive/Colab Data/ag3-structure-results\n",
       "Cohorts analysis        : 20250131\n",
       "AIM analysis            : 20220528\n",
       "Site filters analysis   : dt_20200416\n",
       "Software version        : malariagen_data 15.0.1\n",
       "Client location         : Iowa, United States (Google Cloud us-central1)\n",
       "---\n",
       "Please note that data are subject to terms of use,\n",
       "for more information see https://www.malariagen.net/data\n",
       "or contact support@malariagen.net. For API documentation see \n",
       "https://malariagen.github.io/malariagen-data-python/v15.0.1/Ag3.html"
      ]
     },
     "execution_count": 5,
     "metadata": {},
     "output_type": "execute_result"
    }
   ],
   "source": [
    "ag3 = malariagen_data.Ag3(results_cache=results_dir)\n",
    "ag3"
   ]
  },
  {
   "cell_type": "markdown",
   "metadata": {
    "id": "F7_4xJlqvzZf"
   },
   "source": [
    "The output of ag3 shows us the “Client location”. This is where our Google Colab virtual machine is running on the cloud. As the data we would like to analyse is physically stored in the US, we should check that our notebook is running there too. If not, click “Runtime > Disconnect and delete runtime” from the menu, then re-run the notebook and check again."
   ]
  },
  {
   "cell_type": "markdown",
   "metadata": {
    "id": "zfcRL8AJ3TXB"
   },
   "source": [
    "# The ag3.plot_njt() function"
   ]
  },
  {
   "cell_type": "markdown",
   "metadata": {
    "id": "Sh91MZu_v0TA"
   },
   "source": [
    "We can generate and plot a neighbour-joining tree using the `malariagen_data` function ag3.plot_njt(). Before we start, let's have a quick look at the documention using “?”"
   ]
  },
  {
   "cell_type": "code",
   "execution_count": 6,
   "metadata": {
    "id": "uyTncq-sv52O"
   },
   "outputs": [
    {
     "data": {
      "text/plain": [
       "\u001b[31mSignature:\u001b[39m\n",
       "ag3.plot_njt(\n",
       "    region: Union[str, malariagen_data.util.Region, Mapping, List[Union[str, malariagen_data.util.Region, Mapping]], Tuple[Union[str, malariagen_data.util.Region, Mapping], ...]],\n",
       "    n_snps: int,\n",
       "    color: Union[str, Mapping, NoneType] = \u001b[38;5;28;01mNone\u001b[39;00m,\n",
       "    symbol: Union[str, Mapping, NoneType] = \u001b[38;5;28;01mNone\u001b[39;00m,\n",
       "    algorithm: Literal[\u001b[33m'dynamic'\u001b[39m, \u001b[33m'rapid'\u001b[39m, \u001b[33m'canonical'\u001b[39m] = \u001b[33m'dynamic'\u001b[39m,\n",
       "    metric: Literal[\u001b[33m'cityblock'\u001b[39m, \u001b[33m'euclidean'\u001b[39m, \u001b[33m'sqeuclidean'\u001b[39m] = \u001b[33m'cityblock'\u001b[39m,\n",
       "    distance_sort: Optional[bool] = \u001b[38;5;28;01mNone\u001b[39;00m,\n",
       "    count_sort: Optional[bool] = \u001b[38;5;28;01mNone\u001b[39;00m,\n",
       "    center_x: int | float = \u001b[32m0\u001b[39m,\n",
       "    center_y: int | float = \u001b[32m0\u001b[39m,\n",
       "    arc_start: int | float = \u001b[32m0\u001b[39m,\n",
       "    arc_stop: int | float = \u001b[32m6.283185307179586\u001b[39m,\n",
       "    width: Optional[int] = \u001b[32m800\u001b[39m,\n",
       "    height: Optional[int] = \u001b[32m600\u001b[39m,\n",
       "    show: bool = \u001b[38;5;28;01mTrue\u001b[39;00m,\n",
       "    renderer: Optional[str] = \u001b[38;5;28;01mNone\u001b[39;00m,\n",
       "    render_mode: Literal[\u001b[33m'auto'\u001b[39m, \u001b[33m'svg'\u001b[39m, \u001b[33m'webgl'\u001b[39m] = \u001b[33m'svg'\u001b[39m,\n",
       "    title: Union[str, bool, NoneType] = \u001b[38;5;28;01mTrue\u001b[39;00m,\n",
       "    title_font_size: int = \u001b[32m14\u001b[39m,\n",
       "    line_width: Union[int, float] = \u001b[32m0.5\u001b[39m,\n",
       "    marker_size: Union[int, float] = \u001b[32m5\u001b[39m,\n",
       "    color_discrete_sequence: Optional[List] = \u001b[38;5;28;01mNone\u001b[39;00m,\n",
       "    color_discrete_map: Optional[Mapping] = \u001b[38;5;28;01mNone\u001b[39;00m,\n",
       "    category_orders: Union[List, Mapping, NoneType] = \u001b[38;5;28;01mNone\u001b[39;00m,\n",
       "    edge_legend: bool = \u001b[38;5;28;01mFalse\u001b[39;00m,\n",
       "    leaf_legend: bool = \u001b[38;5;28;01mTrue\u001b[39;00m,\n",
       "    legend_sizing: Literal[\u001b[33m'constant'\u001b[39m, \u001b[33m'trace'\u001b[39m] = \u001b[33m'constant'\u001b[39m,\n",
       "    thin_offset: int = \u001b[32m0\u001b[39m,\n",
       "    sample_sets: Union[str, Sequence[str], NoneType] = \u001b[38;5;28;01mNone\u001b[39;00m,\n",
       "    sample_query: Optional[str] = \u001b[38;5;28;01mNone\u001b[39;00m,\n",
       "    sample_query_options: Optional[dict] = \u001b[38;5;28;01mNone\u001b[39;00m,\n",
       "    sample_indices: Optional[List[int]] = \u001b[38;5;28;01mNone\u001b[39;00m,\n",
       "    site_mask: Optional[str] = \u001b[33m'default'\u001b[39m,\n",
       "    site_class: Optional[str] = \u001b[38;5;28;01mNone\u001b[39;00m,\n",
       "    min_minor_ac: Union[int, float, NoneType] = \u001b[32m2\u001b[39m,\n",
       "    max_missing_an: Union[int, float, NoneType] = \u001b[32m0\u001b[39m,\n",
       "    cohort_size: Optional[int] = \u001b[38;5;28;01mNone\u001b[39;00m,\n",
       "    min_cohort_size: Optional[int] = \u001b[38;5;28;01mNone\u001b[39;00m,\n",
       "    max_cohort_size: Optional[int] = \u001b[38;5;28;01mNone\u001b[39;00m,\n",
       "    random_seed: int = \u001b[32m42\u001b[39m,\n",
       "    inline_array: bool = \u001b[38;5;28;01mTrue\u001b[39;00m,\n",
       "    chunks: Union[int, str, Tuple[Union[int, str], ...], Callable[[Tuple[int, ...]], Union[int, str, Tuple[Union[int, str], ...]]]] = \u001b[33m'native'\u001b[39m,\n",
       ") -> Optional[plotly.graph_objs._figure.Figure]\n",
       "\u001b[31mDocstring:\u001b[39m\n",
       "Plot an unrooted neighbour-joining tree, computed from pairwise\n",
       "distances between samples using biallelic SNP genotypes.\n",
       "\n",
       "The tree is displayed as an unrooted tree using the equal angles layout.\n",
       "\n",
       "Parameters\n",
       "----------\n",
       "region : str or Region or Mapping or list of str or Region or Mapping or tuple of str or Region or Mapping\n",
       "    Region of the reference genome. Can be a contig name, region string\n",
       "    (formatted like \"{contig}:{start}-{end}\"), or identifier of a genome\n",
       "    feature such as a gene or transcript. Can also be a sequence (e.g.,\n",
       "    list) of regions.\n",
       "n_snps : int\n",
       "    The desired number of SNPs to use when running the analysis. SNPs will\n",
       "    be evenly thinned to approximately this number.\n",
       "color : str or Mapping or None, optional\n",
       "    Name of variable to use to color the markers.\n",
       "symbol : str or Mapping or None, optional\n",
       "    Name of the variable to use to choose marker symbols.\n",
       "algorithm : {'dynamic', 'rapid', 'canonical'}, optional, default: 'dynamic'\n",
       "    Neighbour-joining algorithm to use. The 'dynamic' algorithm is\n",
       "    fastest.\n",
       "metric : {'cityblock', 'euclidean', 'sqeuclidean'}, optional, default: 'cityblock'\n",
       "    The metric to compute distance between genotypes in two samples.\n",
       "distance_sort : bool or None, optional\n",
       "    If True, for each node n, if True, the child with the minimum distance\n",
       "    between is plotted first. Note distance_sort and count_sort cannot\n",
       "    both be True.\n",
       "count_sort : bool or None, optional\n",
       "    If True, for each node n, the child with the minimum number of\n",
       "    descendants is plotted first. Note distance_sort and count_sort cannot\n",
       "    both be True.\n",
       "center_x : UnionType[int, float], optional, default: 0\n",
       "    X coordinate where plotting is centered.\n",
       "center_y : UnionType[int, float], optional, default: 0\n",
       "    Y coordinate where plotting is centered.\n",
       "arc_start : UnionType[int, float], optional, default: 0\n",
       "    Angle where tree layout begins.\n",
       "arc_stop : UnionType[int, float], optional, default: 6.283185307179586\n",
       "    Angle where tree layout ends.\n",
       "width : int or None, optional, default: 800\n",
       "    Figure width in pixels (px).\n",
       "height : int or None, optional, default: 600\n",
       "    Figure height in pixels (px).\n",
       "show : bool, optional, default: True\n",
       "    If true, show the plot. If False, do not show the plot, but return the\n",
       "    figure.\n",
       "renderer : str or None, optional\n",
       "    The name of the renderer to use.\n",
       "render_mode : {'auto', 'svg', 'webgl'}, optional, default: 'svg'\n",
       "    The type of rendering backend to use. See also\n",
       "    https://plotly.com/python/webgl-vs-svg/.\n",
       "title : str or bool or None, optional, default: True\n",
       "    If True, attempt to use metadata from input dataset as a plot title.\n",
       "    Otherwise, use supplied value as a title.\n",
       "title_font_size : int, optional, default: 14\n",
       "    Font size for the plot title.\n",
       "line_width : int or float, optional, default: 0.5\n",
       "    Line width.\n",
       "marker_size : int or float, optional, default: 5\n",
       "    Marker size.\n",
       "color_discrete_sequence : List or None, optional\n",
       "    Provide a list of colours to use.\n",
       "color_discrete_map : Mapping or None, optional\n",
       "    Provide an explicit mapping from values to colours.\n",
       "category_orders : List or Mapping or None, optional\n",
       "    Control the order in which values appear in the legend.\n",
       "edge_legend : bool, optional, default: False\n",
       "    Show legend entries for the different edge (line) colors.\n",
       "leaf_legend : bool, optional, default: True\n",
       "    Show legend entries for the different leaf node (scatter) colors and\n",
       "    symbols.\n",
       "legend_sizing : {'constant', 'trace'}, optional, default: 'constant'\n",
       "    Determines if the legend items symbols scale with their corresponding\n",
       "    \"trace\" attributes or remain \"constant\" independent of the symbol size\n",
       "    on the graph.\n",
       "thin_offset : int, optional, default: 0\n",
       "    Starting index for SNP thinning. Change this to repeat the analysis\n",
       "    using a different set of SNPs.\n",
       "sample_sets : sequence of str or str or None, optional\n",
       "    List of sample sets and/or releases. Can also be a single sample set\n",
       "    or release.\n",
       "sample_query : str or None, optional\n",
       "    A pandas query string to be evaluated against the sample metadata, to\n",
       "    select samples to be included in the returned data.\n",
       "sample_query_options : dict or None, optional\n",
       "    A dictionary of arguments that will be passed through to pandas\n",
       "    query() or eval(), e.g. parser, engine, local_dict, global_dict,\n",
       "    resolvers.\n",
       "sample_indices : list of int or None, optional\n",
       "    Advanced usage parameter. A list of indices of samples to select,\n",
       "    corresponding to the order in which the samples are found within the\n",
       "    sample metadata. Either provide this parameter or sample_query, not\n",
       "    both.\n",
       "site_mask : str or None, optional, default: 'default'\n",
       "    Which site filters mask to apply. See the `site_mask_ids` property for\n",
       "    available values.\n",
       "site_class : str or None, optional\n",
       "    Select sites belonging to one of the following classes: CDS_DEG_4,\n",
       "    (4-fold degenerate coding sites), CDS_DEG_2_SIMPLE (2-fold simple\n",
       "    degenerate coding sites), CDS_DEG_0 (non-degenerate coding sites),\n",
       "    INTRON_SHORT (introns shorter than 100 bp), INTRON_LONG (introns\n",
       "    longer than 200 bp), INTRON_SPLICE_5PRIME (intron within 2 bp of 5'\n",
       "    splice site), INTRON_SPLICE_3PRIME (intron within 2 bp of 3' splice\n",
       "    site), UTR_5PRIME (5' untranslated region), UTR_3PRIME (3'\n",
       "    untranslated region), INTERGENIC (intergenic, more than 10 kbp from a\n",
       "    gene).\n",
       "min_minor_ac : int or float or None, optional, default: 2\n",
       "    The minimum minor allele count. SNPs with a minor allele count below\n",
       "    this value will be excluded. Can also be a float, which will be\n",
       "    interpreted as a fraction.\n",
       "max_missing_an : int or float or None, optional, default: 0\n",
       "    The maximum number of missing allele calls to accept. SNPs with more\n",
       "    than this value will be excluded. Set to 0 to require no missing\n",
       "    calls. Can also be a float, which will be interpreted as a fraction.\n",
       "cohort_size : int or None, optional\n",
       "    Randomly down-sample to this value if the number of samples in the\n",
       "    cohort is greater. Raise an error if the number of samples is less\n",
       "    than this value.\n",
       "min_cohort_size : int or None, optional\n",
       "    Minimum cohort size. Raise an error if the number of samples is less\n",
       "    than this value.\n",
       "max_cohort_size : int or None, optional\n",
       "    Randomly down-sample to this value if the number of samples in the\n",
       "    cohort is greater.\n",
       "random_seed : int, optional, default: 42\n",
       "    Random seed used for reproducible down-sampling.\n",
       "inline_array : bool, optional, default: True\n",
       "    Passed through to dask `from_array()`.\n",
       "chunks : int or str or tuple of int or str or Callable[[typing.Tuple[int, ...]], int or str or tuple of int or str], optional, default: 'native'\n",
       "    Define how input data being read from zarr should be divided into\n",
       "    chunks for a dask computation. If 'native', use underlying zarr\n",
       "    chunks. If a string specifying a target memory size, e.g., '300 MiB',\n",
       "    resize chunks in arrays with more than one dimension to match this\n",
       "    size. If 'auto', let dask decide chunk size.  If 'ndauto', let dask\n",
       "    decide chunk size but only for arrays with more than one dimension. If\n",
       "    'ndauto0', as 'ndauto' but only vary the first chunk dimension. If\n",
       "    'ndauto1', as 'ndauto' but only vary the second chunk dimension. If\n",
       "    'ndauto01', as 'ndauto' but only vary the first and second chunk\n",
       "    dimensions. Also, can be a tuple of integers, or a callable which\n",
       "    accepts the native chunks as a single argument and returns a valid\n",
       "    dask chunks value.\n",
       "\n",
       "Returns\n",
       "-------\n",
       "Figure or None\n",
       "    A plotly figure (only returned if show=False).\n",
       "\u001b[31mFile:\u001b[39m      ~/env/anoph_training_dev/lib/python3.11/site-packages/malariagen_data/anoph/distance.py\n",
       "\u001b[31mType:\u001b[39m      method"
      ]
     },
     "metadata": {},
     "output_type": "display_data"
    }
   ],
   "source": [
    "ag3.plot_njt?"
   ]
  },
  {
   "cell_type": "markdown",
   "metadata": {
    "id": "Fo5ONao5yLCW"
   },
   "source": [
    "We can see that there are two required parameters:\n",
    "\n",
    "- `region` is one we are probably getting familar with by now, it defines what region of the genome we want to use to run the analysis. We could assign a whole chromosome arm, a chromosome region, with a start and stop point, or a specific gene of interest.\n",
    "\n",
    "- `n_snps` requires us to define how many SNPs to use from our region to build the NJT. This reduction in SNPs is called thinning. Too few SNPs and the analysis will not have enought power to accurately build trees, too many SNPs and the analysis will take a long time to run. We generally find 100,000 SNPs is a good compromise when running on Google Colab."
   ]
  },
  {
   "cell_type": "markdown",
   "metadata": {
    "id": "hEqlLzit3ZyX"
   },
   "source": [
    "Here's what the ag3.plot_njt() function is doing when we run it:\n",
    "\n",
    "1. Access the SNP genotypes on which to run the analysis (these are stored in the cloud) - filter which sample_sets, which region of the genome, and apply any sample_query included in the parameters (we will look at this functionality a bit later).\n",
    "\n",
    "2. SNP allele count - this is the count of the alternate alleles for each nucleotide in the selected genomic region, across our samples. We are interested in sites where there is SNP variation in our samples (segregating sites), particularly biallelic sites including the reference allele (_i.e._ where there is one alternate allele).\n",
    "\n",
    "3. Thin the SNP alleles - using all the alleles availiable in our selected region could make our analysis very slow without adding additional power. Instead, we can run our analysis on just a subset of segregating sites. The `n_snps` parameter is used to 'thin' our SNPs. we find that around 100,000 SNPs is a good starting place for analysis of structure.\n",
    "\n",
    "4. Construct the distance matrix - based on pairwise genetic distances observed between the samples using our biallelic SNPs, we iteratively construct a distance matrix. The default parameter is `city block distance` which is the absolute difference between a pair of genotypes.\n",
    "\n",
    "5. Plot the neighbour-joining tree - an unrooted tree is plotted where the branch length indicates the degree of differentation between the different leaves and nodes of the tree.\n",
    "\n"
   ]
  },
  {
   "cell_type": "markdown",
   "metadata": {
    "id": "vMXUcjTcv7hl"
   },
   "source": [
    "# Analysis example - taxonomic structure in Burkina Faso"
   ]
  },
  {
   "cell_type": "markdown",
   "metadata": {
    "id": "sCMnmtHneC8J"
   },
   "source": [
    "We are going to run the NJT on a section of the 3L chromosome arm. 3L is a good choice of chromosome when investigating genetic structure in the _An. gambiae_ complex because it is not confounded by large inversions that could impact the results. We remove the centromere and telomere proximal regions of 3L as these are generally regions of repetitive nucleotides that are difficult to sequence accurately.\n",
    "\n",
    "We'll thin the SNPs on 3L down to around 100,000 as that should provide enough data to construct an accurate evolutionary tree. We'll construct a NJT for a sample set from Burkina Faso."
   ]
  },
  {
   "cell_type": "code",
   "execution_count": 7,
   "metadata": {
    "id": "utCgK4GgyzCf"
   },
   "outputs": [],
   "source": [
    "region = \"3L:15,000,000-41,000,000\"\n",
    "n_snps = 100_000"
   ]
  },
  {
   "cell_type": "code",
   "execution_count": 8,
   "metadata": {
    "colab": {
     "base_uri": "https://localhost:8080/",
     "height": 617,
     "referenced_widgets": [
      "a4a617d5af3a4ff2bb3ec71f5cb89a78",
      "af5b08fa118444ac9cf4e42ef50e3225",
      "34a8de9180cb41dcb06e38b770d846d6",
      "7ceb86f2d2d8498da499276a88a121ec",
      "7995821c524848018394546af4046c02",
      "8082f60de084494c994135413149e19e",
      "1f19fe3d02424b6b85c6be516a5a5bae",
      "f0ad80ee5d61469bbc505179c4ca94f2",
      "f8a553b6816e46debbb842c2fb4c3a37",
      "f1b3a95b4b154db3b369a4251583b050",
      "7919589570474d038285b4f239015327",
      "bdafd4f5197942b2a628d4d7fe23b8f5",
      "ffa75ae963c64cd1bf3064069beafeee",
      "78e28d363da544d2bfb8a2934d60cc3d",
      "f7f30563ac6a4fe6a2ef3d6ee4a6489f",
      "aae174935bae473f8ffc08933194c2c5",
      "d97a65c823ef434cb9f6df181479f699",
      "955b7df30a2d45c5923f6097a0fa6ff2",
      "514790d5b0d64e999b67978edfb26754",
      "4f177a1fdc3144f194edade013e1fa8f",
      "720f42dffc804f19ad5f8b87d38b2d73",
      "1ae180ef97bc4c91b6c6808065b2ede1",
      "3968b39ce9964e509139b6609a8c41ee",
      "08ea7cf718dd472e92c2d58b27256c5c",
      "6805be0a0b764638bc68d8d2e5fc9f91",
      "a986224fd3714776976b2a52c19a36f2",
      "b9fbd786bf9e45448e5b6c867db9c55a",
      "41f867e91688495380af8f972583498a",
      "7e90cebfc9a44d98b9583f67bd61b725",
      "aad9da69b2604f0caf46888ea4725d8a",
      "1393683691da48a7af405080fc0912cc",
      "a8f1255356554cb1a7f91d181fb441c6",
      "0560df8dddaa4c769006e0d57740b1f2"
     ]
    },
    "id": "XzfHGFYA7xCj",
    "outputId": "0f760d93-aea3-4d7f-bdf3-485fb7bbf955"
   },
   "outputs": [
    {
     "data": {
      "text/html": [
       "        <script type=\"text/javascript\">\n",
       "        window.PlotlyConfig = {MathJaxConfig: 'local'};\n",
       "        if (window.MathJax && window.MathJax.Hub && window.MathJax.Hub.Config) {window.MathJax.Hub.Config({SVG: {font: \"STIX-Web\"}});}\n",
       "        </script>\n",
       "        <script type=\"module\">import \"https://cdn.plot.ly/plotly-3.0.1.min\"</script>\n",
       "        "
      ]
     },
     "metadata": {},
     "output_type": "display_data"
    },
    {
     "data": {
      "application/vnd.plotly.v1+json": {
       "config": {
        "plotlyServerURL": "https://plot.ly"
       },
       "data": [
        {
         "hovertemplate": "taxon=coluzzii<br>x=%{x}<br>y=%{y}<extra></extra>",
         "legendgroup": "coluzzii",
         "line": {
          "color": "rgb(229, 134, 6)",
          "dash": "solid",
          "width": 0.5
         },
         "marker": {
          "symbol": "circle"
         },
         "mode": "lines",
         "name": "coluzzii",
         "orientation": "v",
         "showlegend": false,
         "type": "scatter",
         "x": {
          "bdata": "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",
          "dtype": "f8"
         },
         "xaxis": "x",
         "y": {
          "bdata": "AAAAAAAAAAAAAACgjZ7WPwAAAAAAAPh/AAAAoI2e1r8AAAAAuBUmwAAAAAAAAPh/AAAAwGBPI0AAAACg07e+wAAAAAAAAPh/AAAAALgVJsAAAABA4qo1wAAAAAAAAPh/AAAAALgVJsAAAAAAdmAzwAAAAAAAAPh/AAAAAHZgM8AAAADgSipSwAAAAAAAAPh/AAAAAHZgM8AAAABAyVdPwAAAAAAAAPh/AAAAQMlXT8AAAADA25e9wAAAAAAAAPh/AAAAQMlXT8AAAAAgZYC9wAAAAAAAAPh/AAAA4EoqUsAAAABAgFS9wAAAAAAAAPh/AAAA4EoqUsAAAABgPvC9wAAAAAAAAPh/AAAAQOKqNcAAAADAfzldwAAAAAAAAPh/AAAAQOKqNcAAAABATf5RwAAAAAAAAPh/AAAAQE3+UcAAAACAqeq8wAAAAAAAAPh/AAAAQE3+UcAAAACAM869wAAAAAAAAPh/AAAAwH85XcAAAACgw3m7wAAAAAAAAPh/AAAAwH85XcAAAACgyS29wAAAAAAAAPh/AAAAoI2e1j8AAADAfvQyQAAAAAAAAPh/AAAAoI2e1j8AAAAgwJ/QPwAAAAAAAPh/AAAAIMCf0D8AAABAQTsxQAAAAAAAAPh/AAAAIMCf0D8AAABAw/DovwAAAAAAAPh/AAAAQMPw6L8AAADAWcsCQAAAAAAAAPh/AAAAQMPw6L8AAAAAFowMwAAAAAAAAPh/AAAAABaMDMAAAAAAFowMwAAAAAAAAPh/AAAAABaMDMAAAADAYcAjwAAAAAAAAPh/AAAAwGHAI8AAAAAgyAk9wAAAAAAAAPh/AAAAwGHAI8AAAADAYcAjwAAAAAAAAPh/AAAAwGHAI8AAAACgtY83wAAAAAAAAPh/AAAAwGHAI8AAAADAYcAjwAAAAAAAAPh/AAAAwGHAI8AAAADgz3U5wAAAAAAAAPh/AAAAwGHAI8AAAABgj400wAAAAAAAAPh/AAAAYI+NNMAAAACgCY5EwAAAAAAAAPh/AAAAYI+NNMAAAADAZ31AwAAAAAAAAPh/AAAAwGd9QMAAAAAAkMRVwAAAAAAAAPh/AAAAwGd9QMAAAACAwXFQwAAAAAAAAPh/AAAAgMFxUMAAAAAAukC6wAAAAAAAAPh/AAAAgMFxUMAAAACAAS+7wAAAAAAAAPh/AAAAAJDEVcAAAADgUhC4wAAAAAAAAPh/AAAAAJDEVcAAAABgFO64wAAAAAAAAPh/AAAAoAmORMAAAACgf1W0wAAAAAAAAPh/AAAAoAmORMAAAABAt6JSwAAAAAAAAPh/AAAAQLeiUsAAAAAA4aK1wAAAAAAAAPh/AAAAQLeiUsAAAADAQQO3wAAAAAAAAPh/AAAA4M91OcAAAAAASsSswAAAAAAAAPh/AAAA4M91OcAAAAAgnWhBwAAAAAAAAPh/AAAAIJ1oQcAAAAAgy+evwAAAAAAAAPh/AAAAIJ1oQcAAAADAvxNJwAAAAAAAAPh/AAAAwL8TScAAAABgDWGxwAAAAAAAAPh/AAAAwL8TScAAAADAHd6ywAAAAAAAAPh/AAAAoLWPN8AAAADgS1uiwAAAAAAAAPh/AAAAoLWPN8AAAACgIdNBwAAAAAAAAPh/AAAAoCHTQcAAAABgtHqlwAAAAAAAAPh/AAAAoCHTQcAAAADApkipwAAAAAAAAPh/AAAAIMgJPcAAAAAgsxWWwAAAAAAAAPh/AAAAIMgJPcAAAADgZTSdwAAAAAAAAPh/AAAAABaMDMAAAACAyjb6PwAAAAAAAPh/AAAAABaMDMAAAABgrAMQwAAAAAAAAPh/AAAAYKwDEMAAAABgrAMQwAAAAAAAAPh/AAAAYKwDEMAAAACAw4EewAAAAAAAAPh/AAAAgMOBHsAAAABgoMd9wAAAAAAAAPh/AAAAgMOBHsAAAACARH+NwAAAAAAAAPh/AAAAgMo2+j8AAADgCi6NQAAAAAAAAPh/AAAAgMo2+j8AAAAg/td9QAAAAAAAAPh/AAAAwFnLAkAAAACgMFcxQAAAAAAAAPh/AAAAwFnLAkAAAAAA8vkZQAAAAAAAAPh/AAAAAPL5GUAAAACgoEA+QAAAAAAAAPh/AAAAAPL5GUAAAAAgGgMsQAAAAAAAAPh/AAAAIBoDLEAAAADAtiuiQAAAAAAAAPh/AAAAIBoDLEAAAADgVhZDQAAAAAAAAPh/AAAA4FYWQ0AAAACgm22dQAAAAAAAAPh/AAAA4FYWQ0AAAACgMkKWQAAAAAAAAPh/AAAAoKBAPkAAAABANlypQAAAAAAAAPh/AAAAoKBAPkAAAACg7aqlQAAAAAAAAPh/AAAAoDBXMUAAAADg/YpGQAAAAAAAAPh/AAAAoDBXMUAAAABACSlEQAAAAAAAAPh/AAAAQAkpREAAAAAAEbavQAAAAAAAAPh/AAAAQAkpREAAAABgnCSsQAAAAAAAAPh/AAAA4P2KRkAAAACAtvWyQAAAAAAAAPh/AAAA4P2KRkAAAADATEOxQAAAAAAAAPh/AAAAQEE7MUAAAAAAxJ9TQAAAAAAAAPh/AAAAQEE7MUAAAABAAv41QAAAAAAAAPh/AAAAQAL+NUAAAAAAZmFGQAAAAAAAAPh/AAAAQAL+NUAAAADAVn1EQAAAAAAAAPh/AAAAwFZ9REAAAAAgwYG1QAAAAAAAAPh/AAAAwFZ9REAAAADAT0O0QAAAAAAAAPh/AAAAAGZhRkAAAACgK/+3QAAAAAAAAPh/AAAAAGZhRkAAAADA0vi2QAAAAAAAAPh/AAAAAMSfU0AAAABAVdq5QAAAAAAAAPh/AAAAAMSfU0AAAACARE+5QAAAAAAAAPh/AAAAwH70MkAAAADABRdGQAAAAAAAAPh/AAAAwH70MkAAAADgDMM2QAAAAAAAAPh/AAAA4AzDNkAAAACACXVRQAAAAAAAAPh/AAAA4AzDNkAAAADAuUlEQAAAAAAAAPh/AAAAwLlJREAAAABArBO8QAAAAAAAAPh/AAAAwLlJREAAAAAAHP66QAAAAAAAAPh/AAAAgAl1UUAAAAAAo/e8QAAAAAAAAPh/AAAAgAl1UUAAAACgU1i8QAAAAAAAAPh/AAAAwAUXRkAAAABgWHK+QAAAAAAAAPh/AAAAwAUXRkAAAADAWKNIQAAAAAAAAPh/AAAAwFijSEAAAADgTy6+QAAAAAAAAPh/AAAAwFijSEAAAACgS45PQAAAAAAAAPh/AAAAoEuOT0AAAABgtwq9QAAAAAAAAPh/AAAAoEuOT0AAAACgpYO9QAAAAAAAAPh/",
          "dtype": "f8"
         },
         "yaxis": "y"
        },
        {
         "hovertemplate": "taxon=arabiensis<br>x=%{x}<br>y=%{y}<extra></extra>",
         "legendgroup": "arabiensis",
         "line": {
          "color": "rgb(82, 188, 163)",
          "dash": "solid",
          "width": 0.5
         },
         "marker": {
          "symbol": "circle"
         },
         "mode": "lines",
         "name": "arabiensis",
         "orientation": "v",
         "showlegend": false,
         "type": "scatter",
         "x": {
          "bdata": "AAAAoKEOf8AAAACgmqajwAAAAAAAAPh/AAAAoJqmo8AAAAAAf9GtwAAAAAAAAPh/AAAAoJqmo8AAAACgxFWkwAAAAAAAAPh/AAAAoMRVpMAAAACA9duvwAAAAAAAAPh/AAAAoMRVpMAAAAAAOMewwAAAAAAAAPh/",
          "dtype": "f8"
         },
         "xaxis": "x",
         "y": {
          "bdata": "AAAAYNk9fMAAAACAVZmxwAAAAAAAAPh/AAAAgFWZscAAAAAAH5y9wAAAAAAAAPh/AAAAgFWZscAAAADAbjyywAAAAAAAAPh/AAAAwG48ssAAAADA0s69wAAAAAAAAPh/AAAAwG48ssAAAACApK+9wAAAAAAAAPh/",
          "dtype": "f8"
         },
         "yaxis": "y"
        },
        {
         "hovertemplate": "taxon=gambiae<br>x=%{x}<br>y=%{y}<extra></extra>",
         "legendgroup": "gambiae",
         "line": {
          "color": "rgb(93, 105, 177)",
          "dash": "solid",
          "width": 0.5
         },
         "marker": {
          "symbol": "circle"
         },
         "mode": "lines",
         "name": "gambiae",
         "orientation": "v",
         "showlegend": false,
         "type": "scatter",
         "x": {
          "bdata": "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",
          "dtype": "f8"
         },
         "xaxis": "x",
         "y": {
          "bdata": "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",
          "dtype": "f8"
         },
         "yaxis": "y"
        },
        {
         "hovertemplate": "taxon=<br>x=%{x}<br>y=%{y}<extra></extra>",
         "legendgroup": "",
         "line": {
          "color": "gray",
          "dash": "solid",
          "width": 0.5
         },
         "marker": {
          "symbol": "circle"
         },
         "mode": "lines",
         "name": "",
         "orientation": "v",
         "showlegend": false,
         "type": "scatter",
         "x": {
          "bdata": "AAAAAAAAAAAAAABgHtL5vwAAAAAAAPh/AAAAYB7S+b8AAADAY2d0wAAAAAAAAPh/AAAAwGNndMAAAADAY2d0wAAAAAAAAPh/AAAAwGNndMAAAADAVLR8wAAAAAAAAPh/AAAAwFS0fMAAAADgzSJ9wAAAAAAAAPh/AAAA4M0ifcAAAACgoQ5/wAAAAAAAAPh/",
          "dtype": "f8"
         },
         "xaxis": "x",
         "y": {
          "bdata": "AAAAAAAAAAAAAACgjZ7WvwAAAAAAAPh/AAAAoI2e1r8AAADAYE8jQAAAAAAAAPh/AAAAwGBPI0AAAADAYE8jQAAAAAAAAPh/AAAAwGBPI0AAAABgqvN2wAAAAAAAAPh/AAAAYKrzdsAAAABg1BB4wAAAAAAAAPh/AAAAYNQQeMAAAABg2T18wAAAAAAAAPh/",
          "dtype": "f8"
         },
         "yaxis": "y"
        },
        {
         "customdata": [
          [
           "AB0408-C",
           "BF14-20",
           "AG1000G-BF-B",
           "coluzzii",
           "Burkina Faso",
           "BF-09",
           "Hauts-Bassins",
           "Houet",
           "Bana Village",
           2014,
           7
          ],
          [
           "AB0369-C",
           "BF18-38",
           "AG1000G-BF-B",
           "coluzzii",
           "Burkina Faso",
           "BF-09",
           "Hauts-Bassins",
           "Houet",
           "Bana Village",
           2014,
           7
          ],
          [
           "AB0327-C",
           "BF18-3",
           "AG1000G-BF-B",
           "coluzzii",
           "Burkina Faso",
           "BF-09",
           "Hauts-Bassins",
           "Houet",
           "Bana Village",
           2014,
           7
          ],
          [
           "AB0410-C",
           "BF20-54",
           "AG1000G-BF-B",
           "coluzzii",
           "Burkina Faso",
           "BF-09",
           "Hauts-Bassins",
           "Houet",
           "Bana Village",
           2014,
           7
          ],
          [
           "AB0370-C",
           "BF18-42",
           "AG1000G-BF-B",
           "coluzzii",
           "Burkina Faso",
           "BF-09",
           "Hauts-Bassins",
           "Houet",
           "Bana Village",
           2014,
           7
          ],
          [
           "AB0398-C",
           "BF14-10",
           "AG1000G-BF-B",
           "coluzzii",
           "Burkina Faso",
           "BF-09",
           "Hauts-Bassins",
           "Houet",
           "Bana Village",
           2014,
           7
          ],
          [
           "AB0359-C",
           "BF18-26",
           "AG1000G-BF-B",
           "coluzzii",
           "Burkina Faso",
           "BF-09",
           "Hauts-Bassins",
           "Houet",
           "Bana Village",
           2014,
           7
          ],
          [
           "AB0523-C",
           "BF24-26",
           "AG1000G-BF-B",
           "coluzzii",
           "Burkina Faso",
           "BF-09",
           "Hauts-Bassins",
           "Houet",
           "Souroukoudinga",
           2014,
           7
          ],
          [
           "AB0364-C",
           "BF18-33",
           "AG1000G-BF-B",
           "coluzzii",
           "Burkina Faso",
           "BF-09",
           "Hauts-Bassins",
           "Houet",
           "Bana Village",
           2014,
           7
          ],
          [
           "AB0362-C",
           "BF18-31",
           "AG1000G-BF-B",
           "coluzzii",
           "Burkina Faso",
           "BF-09",
           "Hauts-Bassins",
           "Houet",
           "Bana Village",
           2014,
           7
          ],
          [
           "AB0352-C",
           "BF18-46",
           "AG1000G-BF-B",
           "coluzzii",
           "Burkina Faso",
           "BF-09",
           "Hauts-Bassins",
           "Houet",
           "Bana Village",
           2014,
           7
          ],
          [
           "AB0505-C",
           "BF13-13",
           "AG1000G-BF-B",
           "coluzzii",
           "Burkina Faso",
           "BF-09",
           "Hauts-Bassins",
           "Houet",
           "Souroukoudinga",
           2014,
           7
          ],
          [
           "AB0361-C",
           "BF18-29",
           "AG1000G-BF-B",
           "coluzzii",
           "Burkina Faso",
           "BF-09",
           "Hauts-Bassins",
           "Houet",
           "Bana Village",
           2014,
           7
          ],
          [
           "AB0372-C",
           "BF18-45",
           "AG1000G-BF-B",
           "coluzzii",
           "Burkina Faso",
           "BF-09",
           "Hauts-Bassins",
           "Houet",
           "Bana Village",
           2014,
           7
          ],
          [
           "AB0334-C",
           "BF18-12",
           "AG1000G-BF-B",
           "coluzzii",
           "Burkina Faso",
           "BF-09",
           "Hauts-Bassins",
           "Houet",
           "Bana Village",
           2014,
           7
          ],
          [
           "AB0365-C",
           "BF18-34",
           "AG1000G-BF-B",
           "coluzzii",
           "Burkina Faso",
           "BF-09",
           "Hauts-Bassins",
           "Houet",
           "Bana Village",
           2014,
           7
          ],
          [
           "AB0358-C",
           "BF18-25",
           "AG1000G-BF-B",
           "coluzzii",
           "Burkina Faso",
           "BF-09",
           "Hauts-Bassins",
           "Houet",
           "Bana Village",
           2014,
           7
          ],
          [
           "AB0348-C",
           "BF22-50",
           "AG1000G-BF-B",
           "coluzzii",
           "Burkina Faso",
           "BF-09",
           "Hauts-Bassins",
           "Houet",
           "Bana Village",
           2014,
           7
          ],
          [
           "AB0371-C",
           "BF18-44",
           "AG1000G-BF-B",
           "coluzzii",
           "Burkina Faso",
           "BF-09",
           "Hauts-Bassins",
           "Houet",
           "Bana Village",
           2014,
           7
          ],
          [
           "AB0397-C",
           "BF14-9",
           "AG1000G-BF-B",
           "coluzzii",
           "Burkina Faso",
           "BF-09",
           "Hauts-Bassins",
           "Houet",
           "Bana Village",
           2014,
           7
          ],
          [
           "AB0404-C",
           "BF14-18",
           "AG1000G-BF-B",
           "coluzzii",
           "Burkina Faso",
           "BF-09",
           "Hauts-Bassins",
           "Houet",
           "Bana Village",
           2014,
           7
          ],
          [
           "AB0329-C",
           "BF18-5",
           "AG1000G-BF-B",
           "coluzzii",
           "Burkina Faso",
           "BF-09",
           "Hauts-Bassins",
           "Houet",
           "Bana Village",
           2014,
           7
          ],
          [
           "AB0503-C",
           "BF13-1",
           "AG1000G-BF-B",
           "coluzzii",
           "Burkina Faso",
           "BF-09",
           "Hauts-Bassins",
           "Houet",
           "Souroukoudinga",
           2014,
           7
          ],
          [
           "AB0363-C",
           "BF18-32",
           "AG1000G-BF-B",
           "coluzzii",
           "Burkina Faso",
           "BF-09",
           "Hauts-Bassins",
           "Houet",
           "Bana Village",
           2014,
           7
          ],
          [
           "AB0330-C",
           "BF18-6",
           "AG1000G-BF-B",
           "coluzzii",
           "Burkina Faso",
           "BF-09",
           "Hauts-Bassins",
           "Houet",
           "Bana Village",
           2014,
           7
          ],
          [
           "AB0403-C",
           "BF14-16",
           "AG1000G-BF-B",
           "coluzzii",
           "Burkina Faso",
           "BF-09",
           "Hauts-Bassins",
           "Houet",
           "Bana Village",
           2014,
           7
          ],
          [
           "AB0340-C",
           "BF18-15",
           "AG1000G-BF-B",
           "coluzzii",
           "Burkina Faso",
           "BF-09",
           "Hauts-Bassins",
           "Houet",
           "Bana Village",
           2014,
           7
          ],
          [
           "AB0413-C",
           "BF20-59",
           "AG1000G-BF-B",
           "coluzzii",
           "Burkina Faso",
           "BF-09",
           "Hauts-Bassins",
           "Houet",
           "Bana Village",
           2014,
           7
          ],
          [
           "AB0409-C",
           "BF14-21",
           "AG1000G-BF-B",
           "coluzzii",
           "Burkina Faso",
           "BF-09",
           "Hauts-Bassins",
           "Houet",
           "Bana Village",
           2014,
           7
          ],
          [
           "AB0366-C",
           "BF18-35",
           "AG1000G-BF-B",
           "coluzzii",
           "Burkina Faso",
           "BF-09",
           "Hauts-Bassins",
           "Houet",
           "Bana Village",
           2014,
           7
          ],
          [
           "AB0338-C",
           "BF18-13",
           "AG1000G-BF-B",
           "coluzzii",
           "Burkina Faso",
           "BF-09",
           "Hauts-Bassins",
           "Houet",
           "Bana Village",
           2014,
           7
          ],
          [
           "AB0332-C",
           "BF18-10",
           "AG1000G-BF-B",
           "coluzzii",
           "Burkina Faso",
           "BF-09",
           "Hauts-Bassins",
           "Houet",
           "Bana Village",
           2014,
           7
          ],
          [
           "AB0396-C",
           "BF14-8",
           "AG1000G-BF-B",
           "coluzzii",
           "Burkina Faso",
           "BF-09",
           "Hauts-Bassins",
           "Houet",
           "Bana Village",
           2014,
           7
          ],
          [
           "AB0510-C",
           "BF24-56",
           "AG1000G-BF-B",
           "coluzzii",
           "Burkina Faso",
           "BF-09",
           "Hauts-Bassins",
           "Houet",
           "Souroukoudinga",
           2014,
           7
          ],
          [
           "AB0328-C",
           "BF18-4",
           "AG1000G-BF-B",
           "coluzzii",
           "Burkina Faso",
           "BF-09",
           "Hauts-Bassins",
           "Houet",
           "Bana Village",
           2014,
           7
          ],
          [
           "AB0399-C",
           "BF14-11",
           "AG1000G-BF-B",
           "coluzzii",
           "Burkina Faso",
           "BF-09",
           "Hauts-Bassins",
           "Houet",
           "Bana Village",
           2014,
           7
          ],
          [
           "AB0351-C",
           "BF23-6",
           "AG1000G-BF-B",
           "coluzzii",
           "Burkina Faso",
           "BF-09",
           "Hauts-Bassins",
           "Houet",
           "Bana Village",
           2014,
           7
          ],
          [
           "AB0356-C",
           "BF18-23",
           "AG1000G-BF-B",
           "coluzzii",
           "Burkina Faso",
           "BF-09",
           "Hauts-Bassins",
           "Houet",
           "Bana Village",
           2014,
           7
          ],
          [
           "AB0355-C",
           "BF18-22",
           "AG1000G-BF-B",
           "coluzzii",
           "Burkina Faso",
           "BF-09",
           "Hauts-Bassins",
           "Houet",
           "Bana Village",
           2014,
           7
          ],
          [
           "AB0367-C",
           "BF18-36",
           "AG1000G-BF-B",
           "coluzzii",
           "Burkina Faso",
           "BF-09",
           "Hauts-Bassins",
           "Houet",
           "Bana Village",
           2014,
           7
          ],
          [
           "AB0354-C",
           "BF18-21",
           "AG1000G-BF-B",
           "coluzzii",
           "Burkina Faso",
           "BF-09",
           "Hauts-Bassins",
           "Houet",
           "Bana Village",
           2014,
           7
          ],
          [
           "AB0360-C",
           "BF18-28",
           "AG1000G-BF-B",
           "coluzzii",
           "Burkina Faso",
           "BF-09",
           "Hauts-Bassins",
           "Houet",
           "Bana Village",
           2014,
           7
          ],
          [
           "AB0341-C",
           "BF18-16",
           "AG1000G-BF-B",
           "coluzzii",
           "Burkina Faso",
           "BF-09",
           "Hauts-Bassins",
           "Houet",
           "Bana Village",
           2014,
           7
          ],
          [
           "AB0331-C",
           "BF18-9",
           "AG1000G-BF-B",
           "coluzzii",
           "Burkina Faso",
           "BF-09",
           "Hauts-Bassins",
           "Houet",
           "Bana Village",
           2014,
           7
          ],
          [
           "AB0326-C",
           "BF18-1",
           "AG1000G-BF-B",
           "coluzzii",
           "Burkina Faso",
           "BF-09",
           "Hauts-Bassins",
           "Houet",
           "Bana Village",
           2014,
           7
          ],
          [
           "AB0411-C",
           "BF20-56",
           "AG1000G-BF-B",
           "coluzzii",
           "Burkina Faso",
           "BF-09",
           "Hauts-Bassins",
           "Houet",
           "Bana Village",
           2014,
           7
          ],
          [
           "AB0357-C",
           "BF18-24",
           "AG1000G-BF-B",
           "coluzzii",
           "Burkina Faso",
           "BF-09",
           "Hauts-Bassins",
           "Houet",
           "Bana Village",
           2014,
           7
          ],
          [
           "AB0508-C",
           "BF13-38",
           "AG1000G-BF-B",
           "coluzzii",
           "Burkina Faso",
           "BF-09",
           "Hauts-Bassins",
           "Houet",
           "Souroukoudinga",
           2014,
           7
          ],
          [
           "AB0339-C",
           "BF18-14",
           "AG1000G-BF-B",
           "coluzzii",
           "Burkina Faso",
           "BF-09",
           "Hauts-Bassins",
           "Houet",
           "Bana Village",
           2014,
           7
          ],
          [
           "AB0509-C",
           "BF24-55",
           "AG1000G-BF-B",
           "coluzzii",
           "Burkina Faso",
           "BF-09",
           "Hauts-Bassins",
           "Houet",
           "Souroukoudinga",
           2014,
           7
          ],
          [
           "AB0400-C",
           "BF14-12",
           "AG1000G-BF-B",
           "coluzzii",
           "Burkina Faso",
           "BF-09",
           "Hauts-Bassins",
           "Houet",
           "Bana Village",
           2014,
           7
          ],
          [
           "AB0337-C",
           "BF22-15",
           "AG1000G-BF-B",
           "coluzzii",
           "Burkina Faso",
           "BF-09",
           "Hauts-Bassins",
           "Houet",
           "Bana Village",
           2014,
           7
          ],
          [
           "AB0368-C",
           "BF18-37",
           "AG1000G-BF-B",
           "coluzzii",
           "Burkina Faso",
           "BF-09",
           "Hauts-Bassins",
           "Houet",
           "Bana Village",
           2014,
           7
          ]
         ],
         "hovertemplate": "<b>%{hovertext}</b><br><br>taxon=%{customdata[3]}<br>x=%{x}<br>y=%{y}<br>sample_id=%{customdata[0]}<br>partner_sample_id=%{customdata[1]}<br>sample_set=%{customdata[2]}<br>country=%{customdata[4]}<br>admin1_iso=%{customdata[5]}<br>admin1_name=%{customdata[6]}<br>admin2_name=%{customdata[7]}<br>location=%{customdata[8]}<br>year=%{customdata[9]}<br>month=%{customdata[10]}<extra></extra>",
         "hovertext": [
          "AB0408-C",
          "AB0369-C",
          "AB0327-C",
          "AB0410-C",
          "AB0370-C",
          "AB0398-C",
          "AB0359-C",
          "AB0523-C",
          "AB0364-C",
          "AB0362-C",
          "AB0352-C",
          "AB0505-C",
          "AB0361-C",
          "AB0372-C",
          "AB0334-C",
          "AB0365-C",
          "AB0358-C",
          "AB0348-C",
          "AB0371-C",
          "AB0397-C",
          "AB0404-C",
          "AB0329-C",
          "AB0503-C",
          "AB0363-C",
          "AB0330-C",
          "AB0403-C",
          "AB0340-C",
          "AB0413-C",
          "AB0409-C",
          "AB0366-C",
          "AB0338-C",
          "AB0332-C",
          "AB0396-C",
          "AB0510-C",
          "AB0328-C",
          "AB0399-C",
          "AB0351-C",
          "AB0356-C",
          "AB0355-C",
          "AB0367-C",
          "AB0354-C",
          "AB0360-C",
          "AB0341-C",
          "AB0331-C",
          "AB0326-C",
          "AB0411-C",
          "AB0357-C",
          "AB0508-C",
          "AB0339-C",
          "AB0509-C",
          "AB0400-C",
          "AB0337-C",
          "AB0368-C"
         ],
         "legendgroup": "coluzzii",
         "marker": {
          "color": "rgb(229, 134, 6)",
          "size": 5,
          "symbol": "circle"
         },
         "mode": "markers",
         "name": "coluzzii",
         "orientation": "v",
         "showlegend": true,
         "type": "scatter",
         "x": {
          "bdata": "hAGExGvbZcNxYGhDc70xRBI4kUQ39tBE12IDRXJ7JEULhTlFwQtaRdOoc0W8wYRFZ7qRRQFHnkX2H6hFDaCyRY4gvEUNscRFXznORZxA1kXAHdxFpZ3dRXpR5kX7E+hFE+LqRQG77kX3/e9FUm7wRaXb80U1/u1FOg/tRWCQ6kUR8uRFPvPfReUZ3UUVv9FFkEjNRat2w0UbGr1F7LuxRd7ppkUMiJ1FOjKRRWZMhkVYgG9FV8lWRRwRPkWhsh9F1wwEReG1zkR+opBEs2U0RCMyeEM=",
          "dtype": "f4"
         },
         "xaxis": "x",
         "y": {
          "bdata": "nb71xSkD7MXevuzF84HvxQKk6sWcce7FTFXnxU1u6cUdztvFDHjZxdAF0sWjcMfFl4LAxQ4auMUIF63F/auixe7wlsVrCIvFWT5/xVAiZsU2RUrFo9UrxV/aEsUvo+nEma2wxCT6a8QDPe7DYx2AwPG/7kNXcGlElRGyRN1s60S2XRFFbVctRbLhSkXjJGFFiLB9RWYaikW0rZdFfhqiRQkOrEWWxrdFXfm/RSR6ykWq0s5F4PDXRWKd4EWdwuJFGL3nRS0d7EW7VehFf3LxRcOS80U=",
          "dtype": "f4"
         },
         "yaxis": "y"
        },
        {
         "customdata": [
          [
           "AB0457-C",
           "BF17-34",
           "AG1000G-BF-B",
           "arabiensis",
           "Burkina Faso",
           "BF-09",
           "Hauts-Bassins",
           "Houet",
           "Pala",
           2014,
           7
          ],
          [
           "AB0333-C",
           "BF18-11",
           "AG1000G-BF-B",
           "arabiensis",
           "Burkina Faso",
           "BF-09",
           "Hauts-Bassins",
           "Houet",
           "Bana Village",
           2014,
           7
          ],
          [
           "AB0502-C",
           "BF17-15",
           "AG1000G-BF-B",
           "arabiensis",
           "Burkina Faso",
           "BF-09",
           "Hauts-Bassins",
           "Houet",
           "Pala",
           2014,
           7
          ]
         ],
         "hovertemplate": "<b>%{hovertext}</b><br><br>taxon=%{customdata[3]}<br>x=%{x}<br>y=%{y}<br>sample_id=%{customdata[0]}<br>partner_sample_id=%{customdata[1]}<br>sample_set=%{customdata[2]}<br>country=%{customdata[4]}<br>admin1_iso=%{customdata[5]}<br>admin1_name=%{customdata[6]}<br>admin2_name=%{customdata[7]}<br>location=%{customdata[8]}<br>year=%{customdata[9]}<br>month=%{customdata[10]}<extra></extra>",
         "hovertext": [
          "AB0457-C",
          "AB0333-C",
          "AB0502-C"
         ],
         "legendgroup": "arabiensis",
         "marker": {
          "color": "rgb(82, 188, 163)",
          "size": 5,
          "symbol": "circle"
         },
         "mode": "markers",
         "name": "arabiensis",
         "orientation": "v",
         "showlegend": true,
         "type": "scatter",
         "x": {
          "bdata": "wDmGxazffsX4i27F",
          "dtype": "f4"
         },
         "xaxis": "x",
         "y": {
          "bdata": "JH3txZZ27sX44OzF",
          "dtype": "f4"
         },
         "yaxis": "y"
        },
        {
         "customdata": [
          [
           "AB0524-C",
           "BF24-27",
           "AG1000G-BF-B",
           "gambiae",
           "Burkina Faso",
           "BF-09",
           "Hauts-Bassins",
           "Houet",
           "Souroukoudinga",
           2014,
           7
          ],
          [
           "AB0386-C",
           "BF18-39",
           "AG1000G-BF-B",
           "gambiae",
           "Burkina Faso",
           "BF-09",
           "Hauts-Bassins",
           "Houet",
           "Bana Village",
           2014,
           7
          ],
          [
           "AB0459-C",
           "BF16-2",
           "AG1000G-BF-B",
           "gambiae",
           "Burkina Faso",
           "BF-09",
           "Hauts-Bassins",
           "Houet",
           "Pala",
           2014,
           7
          ],
          [
           "AB0435-C",
           "BF14-17",
           "AG1000G-BF-B",
           "gambiae",
           "Burkina Faso",
           "BF-09",
           "Hauts-Bassins",
           "Houet",
           "Bana Village",
           2014,
           7
          ],
          [
           "AB0378-C",
           "BF22-57",
           "AG1000G-BF-B",
           "gambiae",
           "Burkina Faso",
           "BF-09",
           "Hauts-Bassins",
           "Houet",
           "Bana Village",
           2014,
           7
          ],
          [
           "AB0439-C",
           "BF14-22",
           "AG1000G-BF-B",
           "gambiae",
           "Burkina Faso",
           "BF-09",
           "Hauts-Bassins",
           "Houet",
           "Bana Village",
           2014,
           7
          ],
          [
           "AB0432-C",
           "BF14-3",
           "AG1000G-BF-B",
           "gambiae",
           "Burkina Faso",
           "BF-09",
           "Hauts-Bassins",
           "Houet",
           "Bana Village",
           2014,
           7
          ],
          [
           "AB0527-C",
           "BF24-30",
           "AG1000G-BF-B",
           "gambiae",
           "Burkina Faso",
           "BF-09",
           "Hauts-Bassins",
           "Houet",
           "Souroukoudinga",
           2014,
           7
          ],
          [
           "AB0525-C",
           "BF24-28",
           "AG1000G-BF-B",
           "gambiae",
           "Burkina Faso",
           "BF-09",
           "Hauts-Bassins",
           "Houet",
           "Souroukoudinga",
           2014,
           7
          ],
          [
           "AB0374-C",
           "BF18-7",
           "AG1000G-BF-B",
           "gambiae",
           "Burkina Faso",
           "BF-09",
           "Hauts-Bassins",
           "Houet",
           "Bana Village",
           2014,
           7
          ],
          [
           "AB0433-C",
           "BF14-4",
           "AG1000G-BF-B",
           "gambiae",
           "Burkina Faso",
           "BF-09",
           "Hauts-Bassins",
           "Houet",
           "Bana Village",
           2014,
           7
          ],
          [
           "AB0389-C",
           "BF18-43",
           "AG1000G-BF-B",
           "gambiae",
           "Burkina Faso",
           "BF-09",
           "Hauts-Bassins",
           "Houet",
           "Bana Village",
           2014,
           7
          ],
          [
           "AB0529-C",
           "BF13-3",
           "AG1000G-BF-B",
           "gambiae",
           "Burkina Faso",
           "BF-09",
           "Hauts-Bassins",
           "Houet",
           "Souroukoudinga",
           2014,
           7
          ],
          [
           "AB0469-C",
           "BF17-18",
           "AG1000G-BF-B",
           "gambiae",
           "Burkina Faso",
           "BF-09",
           "Hauts-Bassins",
           "Houet",
           "Pala",
           2014,
           7
          ],
          [
           "AB0528-C",
           "BF13-2",
           "AG1000G-BF-B",
           "gambiae",
           "Burkina Faso",
           "BF-09",
           "Hauts-Bassins",
           "Houet",
           "Souroukoudinga",
           2014,
           7
          ],
          [
           "AB0373-C",
           "BF18-2",
           "AG1000G-BF-B",
           "gambiae",
           "Burkina Faso",
           "BF-09",
           "Hauts-Bassins",
           "Houet",
           "Bana Village",
           2014,
           7
          ],
          [
           "AB0473-C",
           "BF17-23",
           "AG1000G-BF-B",
           "gambiae",
           "Burkina Faso",
           "BF-09",
           "Hauts-Bassins",
           "Houet",
           "Pala",
           2014,
           7
          ],
          [
           "AB0517-C",
           "BF13-42",
           "AG1000G-BF-B",
           "gambiae",
           "Burkina Faso",
           "BF-09",
           "Hauts-Bassins",
           "Houet",
           "Souroukoudinga",
           2014,
           7
          ],
          [
           "AB0533-C",
           "BF13-18",
           "AG1000G-BF-B",
           "gambiae",
           "Burkina Faso",
           "BF-09",
           "Hauts-Bassins",
           "Houet",
           "Souroukoudinga",
           2014,
           7
          ],
          [
           "AB0530-C",
           "BF13-4",
           "AG1000G-BF-B",
           "gambiae",
           "Burkina Faso",
           "BF-09",
           "Hauts-Bassins",
           "Houet",
           "Souroukoudinga",
           2014,
           7
          ],
          [
           "AB0468-C",
           "BF17-17",
           "AG1000G-BF-B",
           "gambiae",
           "Burkina Faso",
           "BF-09",
           "Hauts-Bassins",
           "Houet",
           "Pala",
           2014,
           7
          ],
          [
           "AB0465-C",
           "BF17-3",
           "AG1000G-BF-B",
           "gambiae",
           "Burkina Faso",
           "BF-09",
           "Hauts-Bassins",
           "Houet",
           "Pala",
           2014,
           7
          ],
          [
           "AB0463-C",
           "BF17-1",
           "AG1000G-BF-B",
           "gambiae",
           "Burkina Faso",
           "BF-09",
           "Hauts-Bassins",
           "Houet",
           "Pala",
           2014,
           7
          ],
          [
           "AB0537-C",
           "BF13-32",
           "AG1000G-BF-B",
           "gambiae",
           "Burkina Faso",
           "BF-09",
           "Hauts-Bassins",
           "Houet",
           "Souroukoudinga",
           2014,
           7
          ],
          [
           "AB0440-C",
           "BF14-23",
           "AG1000G-BF-B",
           "gambiae",
           "Burkina Faso",
           "BF-09",
           "Hauts-Bassins",
           "Houet",
           "Bana Village",
           2014,
           7
          ],
          [
           "AB0472-C",
           "BF17-22",
           "AG1000G-BF-B",
           "gambiae",
           "Burkina Faso",
           "BF-09",
           "Hauts-Bassins",
           "Houet",
           "Pala",
           2014,
           7
          ],
          [
           "AB0466-C",
           "BF17-4",
           "AG1000G-BF-B",
           "gambiae",
           "Burkina Faso",
           "BF-09",
           "Hauts-Bassins",
           "Houet",
           "Pala",
           2014,
           7
          ],
          [
           "AB0504-C",
           "BF13-6",
           "AG1000G-BF-B",
           "gambiae",
           "Burkina Faso",
           "BF-09",
           "Hauts-Bassins",
           "Houet",
           "Souroukoudinga",
           2014,
           7
          ],
          [
           "AB0526-C",
           "BF24-29",
           "AG1000G-BF-B",
           "gambiae",
           "Burkina Faso",
           "BF-09",
           "Hauts-Bassins",
           "Houet",
           "Souroukoudinga",
           2014,
           7
          ],
          [
           "AB0460-C",
           "BF16-3",
           "AG1000G-BF-B",
           "gambiae",
           "Burkina Faso",
           "BF-09",
           "Hauts-Bassins",
           "Houet",
           "Pala",
           2014,
           7
          ],
          [
           "AB0436-C",
           "BF14-19",
           "AG1000G-BF-B",
           "gambiae",
           "Burkina Faso",
           "BF-09",
           "Hauts-Bassins",
           "Houet",
           "Bana Village",
           2014,
           7
          ],
          [
           "AB0375-C",
           "BF18-8",
           "AG1000G-BF-B",
           "gambiae",
           "Burkina Faso",
           "BF-09",
           "Hauts-Bassins",
           "Houet",
           "Bana Village",
           2014,
           7
          ],
          [
           "AB0536-C",
           "BF13-31",
           "AG1000G-BF-B",
           "gambiae",
           "Burkina Faso",
           "BF-09",
           "Hauts-Bassins",
           "Houet",
           "Souroukoudinga",
           2014,
           7
          ],
          [
           "AB0467-C",
           "BF17-5",
           "AG1000G-BF-B",
           "gambiae",
           "Burkina Faso",
           "BF-09",
           "Hauts-Bassins",
           "Houet",
           "Pala",
           2014,
           7
          ],
          [
           "AB0388-C",
           "BF18-41",
           "AG1000G-BF-B",
           "gambiae",
           "Burkina Faso",
           "BF-09",
           "Hauts-Bassins",
           "Houet",
           "Bana Village",
           2014,
           7
          ],
          [
           "AB0532-C",
           "BF13-14",
           "AG1000G-BF-B",
           "gambiae",
           "Burkina Faso",
           "BF-09",
           "Hauts-Bassins",
           "Houet",
           "Souroukoudinga",
           2014,
           7
          ],
          [
           "AB0381-C",
           "BF18-18",
           "AG1000G-BF-B",
           "gambiae",
           "Burkina Faso",
           "BF-09",
           "Hauts-Bassins",
           "Houet",
           "Bana Village",
           2014,
           7
          ],
          [
           "AB0474-C",
           "BF17-24",
           "AG1000G-BF-B",
           "gambiae",
           "Burkina Faso",
           "BF-09",
           "Hauts-Bassins",
           "Houet",
           "Pala",
           2014,
           7
          ],
          [
           "AB0471-C",
           "BF17-21",
           "AG1000G-BF-B",
           "gambiae",
           "Burkina Faso",
           "BF-09",
           "Hauts-Bassins",
           "Houet",
           "Pala",
           2014,
           7
          ],
          [
           "AB0458-C",
           "BF16-1",
           "AG1000G-BF-B",
           "gambiae",
           "Burkina Faso",
           "BF-09",
           "Hauts-Bassins",
           "Houet",
           "Pala",
           2014,
           7
          ],
          [
           "AB0462-C",
           "BF16-7",
           "AG1000G-BF-B",
           "gambiae",
           "Burkina Faso",
           "BF-09",
           "Hauts-Bassins",
           "Houet",
           "Pala",
           2014,
           7
          ],
          [
           "AB0379-C",
           "BF22-59",
           "AG1000G-BF-B",
           "gambiae",
           "Burkina Faso",
           "BF-09",
           "Hauts-Bassins",
           "Houet",
           "Bana Village",
           2014,
           7
          ],
          [
           "AB0531-C",
           "BF13-8",
           "AG1000G-BF-B",
           "gambiae",
           "Burkina Faso",
           "BF-09",
           "Hauts-Bassins",
           "Houet",
           "Souroukoudinga",
           2014,
           7
          ],
          [
           "AB0477-C",
           "BF26-60",
           "AG1000G-BF-B",
           "gambiae",
           "Burkina Faso",
           "BF-09",
           "Hauts-Bassins",
           "Houet",
           "Pala",
           2014,
           7
          ],
          [
           "AB0470-C",
           "BF17-20",
           "AG1000G-BF-B",
           "gambiae",
           "Burkina Faso",
           "BF-09",
           "Hauts-Bassins",
           "Houet",
           "Pala",
           2014,
           7
          ],
          [
           "AB0538-C",
           "BF13-33",
           "AG1000G-BF-B",
           "gambiae",
           "Burkina Faso",
           "BF-09",
           "Hauts-Bassins",
           "Houet",
           "Souroukoudinga",
           2014,
           7
          ]
         ],
         "hovertemplate": "<b>%{hovertext}</b><br><br>taxon=%{customdata[3]}<br>x=%{x}<br>y=%{y}<br>sample_id=%{customdata[0]}<br>partner_sample_id=%{customdata[1]}<br>sample_set=%{customdata[2]}<br>country=%{customdata[4]}<br>admin1_iso=%{customdata[5]}<br>admin1_name=%{customdata[6]}<br>admin2_name=%{customdata[7]}<br>location=%{customdata[8]}<br>year=%{customdata[9]}<br>month=%{customdata[10]}<extra></extra>",
         "hovertext": [
          "AB0524-C",
          "AB0386-C",
          "AB0459-C",
          "AB0435-C",
          "AB0378-C",
          "AB0439-C",
          "AB0432-C",
          "AB0527-C",
          "AB0525-C",
          "AB0374-C",
          "AB0433-C",
          "AB0389-C",
          "AB0529-C",
          "AB0469-C",
          "AB0528-C",
          "AB0373-C",
          "AB0473-C",
          "AB0517-C",
          "AB0533-C",
          "AB0530-C",
          "AB0468-C",
          "AB0465-C",
          "AB0463-C",
          "AB0537-C",
          "AB0440-C",
          "AB0472-C",
          "AB0466-C",
          "AB0504-C",
          "AB0526-C",
          "AB0460-C",
          "AB0436-C",
          "AB0375-C",
          "AB0536-C",
          "AB0467-C",
          "AB0388-C",
          "AB0532-C",
          "AB0381-C",
          "AB0474-C",
          "AB0471-C",
          "AB0458-C",
          "AB0462-C",
          "AB0379-C",
          "AB0531-C",
          "AB0477-C",
          "AB0470-C",
          "AB0538-C"
         ],
         "legendgroup": "gambiae",
         "marker": {
          "color": "rgb(93, 105, 177)",
          "size": 5,
          "symbol": "circle"
         },
         "mode": "markers",
         "name": "gambiae",
         "orientation": "v",
         "showlegend": true,
         "type": "scatter",
         "x": {
          "bdata": "1CdjxJZdpcSbTt7E1ygNxarXKMVj4EXFy21hxbG5dcWTw4fFdk6TxYfQncUqG6rF16q4xXYCv8VflsrFXtLRxQ352sU1k+HFDq7lxS8r7MVI5/LFpWMAxmTr/sVnsfvFGRL/xTEM/sVjGgDGvOn9xXnj+cWuYfbFwlbyxaI18sWciefFuubjxaJG28UMONPFh/nKxTfqxsUfXcDFeGOxxfxspcVMZpHFxHI3xduBHMWW/ATFZlXJxA==",
          "dtype": "f4"
         },
         "xaxis": "x",
         "y": {
          "bdata": "lmfxRdDr8kVOqOlFlcnqRefp50VP3ONFPavfRbQf00VIecxF6H3ERUtyukXEsLNF3MqtRRYDoEUbRZZFJPqJRfz4fUURUWRFO6JIRezsLUWmahRF8kLyRNy4v0SCDntEtNIJRLPgnkI0qLvDmn9PxFS4n8SY+NjEN6kHxXYxJsWn4jzFuu1YxWErcMUFEYTFn0mQxRS4o8Wmv67FQf6zxd+lvcWVF8DFH1nmxSs58MVJjvPFQ0XzxQ==",
          "dtype": "f4"
         },
         "yaxis": "y"
        }
       ],
       "layout": {
        "height": 600,
        "legend": {
         "itemsizing": "constant",
         "tracegroupgap": 0
        },
        "template": {
         "data": {
          "bar": [
           {
            "error_x": {
             "color": "rgb(36,36,36)"
            },
            "error_y": {
             "color": "rgb(36,36,36)"
            },
            "marker": {
             "line": {
              "color": "white",
              "width": 0.5
             },
             "pattern": {
              "fillmode": "overlay",
              "size": 10,
              "solidity": 0.2
             }
            },
            "type": "bar"
           }
          ],
          "barpolar": [
           {
            "marker": {
             "line": {
              "color": "white",
              "width": 0.5
             },
             "pattern": {
              "fillmode": "overlay",
              "size": 10,
              "solidity": 0.2
             }
            },
            "type": "barpolar"
           }
          ],
          "carpet": [
           {
            "aaxis": {
             "endlinecolor": "rgb(36,36,36)",
             "gridcolor": "white",
             "linecolor": "white",
             "minorgridcolor": "white",
             "startlinecolor": "rgb(36,36,36)"
            },
            "baxis": {
             "endlinecolor": "rgb(36,36,36)",
             "gridcolor": "white",
             "linecolor": "white",
             "minorgridcolor": "white",
             "startlinecolor": "rgb(36,36,36)"
            },
            "type": "carpet"
           }
          ],
          "choropleth": [
           {
            "colorbar": {
             "outlinewidth": 1,
             "tickcolor": "rgb(36,36,36)",
             "ticks": "outside"
            },
            "type": "choropleth"
           }
          ],
          "contour": [
           {
            "colorbar": {
             "outlinewidth": 1,
             "tickcolor": "rgb(36,36,36)",
             "ticks": "outside"
            },
            "colorscale": [
             [
              0,
              "#440154"
             ],
             [
              0.1111111111111111,
              "#482878"
             ],
             [
              0.2222222222222222,
              "#3e4989"
             ],
             [
              0.3333333333333333,
              "#31688e"
             ],
             [
              0.4444444444444444,
              "#26828e"
             ],
             [
              0.5555555555555556,
              "#1f9e89"
             ],
             [
              0.6666666666666666,
              "#35b779"
             ],
             [
              0.7777777777777778,
              "#6ece58"
             ],
             [
              0.8888888888888888,
              "#b5de2b"
             ],
             [
              1,
              "#fde725"
             ]
            ],
            "type": "contour"
           }
          ],
          "contourcarpet": [
           {
            "colorbar": {
             "outlinewidth": 1,
             "tickcolor": "rgb(36,36,36)",
             "ticks": "outside"
            },
            "type": "contourcarpet"
           }
          ],
          "heatmap": [
           {
            "colorbar": {
             "outlinewidth": 1,
             "tickcolor": "rgb(36,36,36)",
             "ticks": "outside"
            },
            "colorscale": [
             [
              0,
              "#440154"
             ],
             [
              0.1111111111111111,
              "#482878"
             ],
             [
              0.2222222222222222,
              "#3e4989"
             ],
             [
              0.3333333333333333,
              "#31688e"
             ],
             [
              0.4444444444444444,
              "#26828e"
             ],
             [
              0.5555555555555556,
              "#1f9e89"
             ],
             [
              0.6666666666666666,
              "#35b779"
             ],
             [
              0.7777777777777778,
              "#6ece58"
             ],
             [
              0.8888888888888888,
              "#b5de2b"
             ],
             [
              1,
              "#fde725"
             ]
            ],
            "type": "heatmap"
           }
          ],
          "histogram": [
           {
            "marker": {
             "line": {
              "color": "white",
              "width": 0.6
             }
            },
            "type": "histogram"
           }
          ],
          "histogram2d": [
           {
            "colorbar": {
             "outlinewidth": 1,
             "tickcolor": "rgb(36,36,36)",
             "ticks": "outside"
            },
            "colorscale": [
             [
              0,
              "#440154"
             ],
             [
              0.1111111111111111,
              "#482878"
             ],
             [
              0.2222222222222222,
              "#3e4989"
             ],
             [
              0.3333333333333333,
              "#31688e"
             ],
             [
              0.4444444444444444,
              "#26828e"
             ],
             [
              0.5555555555555556,
              "#1f9e89"
             ],
             [
              0.6666666666666666,
              "#35b779"
             ],
             [
              0.7777777777777778,
              "#6ece58"
             ],
             [
              0.8888888888888888,
              "#b5de2b"
             ],
             [
              1,
              "#fde725"
             ]
            ],
            "type": "histogram2d"
           }
          ],
          "histogram2dcontour": [
           {
            "colorbar": {
             "outlinewidth": 1,
             "tickcolor": "rgb(36,36,36)",
             "ticks": "outside"
            },
            "colorscale": [
             [
              0,
              "#440154"
             ],
             [
              0.1111111111111111,
              "#482878"
             ],
             [
              0.2222222222222222,
              "#3e4989"
             ],
             [
              0.3333333333333333,
              "#31688e"
             ],
             [
              0.4444444444444444,
              "#26828e"
             ],
             [
              0.5555555555555556,
              "#1f9e89"
             ],
             [
              0.6666666666666666,
              "#35b779"
             ],
             [
              0.7777777777777778,
              "#6ece58"
             ],
             [
              0.8888888888888888,
              "#b5de2b"
             ],
             [
              1,
              "#fde725"
             ]
            ],
            "type": "histogram2dcontour"
           }
          ],
          "mesh3d": [
           {
            "colorbar": {
             "outlinewidth": 1,
             "tickcolor": "rgb(36,36,36)",
             "ticks": "outside"
            },
            "type": "mesh3d"
           }
          ],
          "parcoords": [
           {
            "line": {
             "colorbar": {
              "outlinewidth": 1,
              "tickcolor": "rgb(36,36,36)",
              "ticks": "outside"
             }
            },
            "type": "parcoords"
           }
          ],
          "pie": [
           {
            "automargin": true,
            "type": "pie"
           }
          ],
          "scatter": [
           {
            "fillpattern": {
             "fillmode": "overlay",
             "size": 10,
             "solidity": 0.2
            },
            "type": "scatter"
           }
          ],
          "scatter3d": [
           {
            "line": {
             "colorbar": {
              "outlinewidth": 1,
              "tickcolor": "rgb(36,36,36)",
              "ticks": "outside"
             }
            },
            "marker": {
             "colorbar": {
              "outlinewidth": 1,
              "tickcolor": "rgb(36,36,36)",
              "ticks": "outside"
             }
            },
            "type": "scatter3d"
           }
          ],
          "scattercarpet": [
           {
            "marker": {
             "colorbar": {
              "outlinewidth": 1,
              "tickcolor": "rgb(36,36,36)",
              "ticks": "outside"
             }
            },
            "type": "scattercarpet"
           }
          ],
          "scattergeo": [
           {
            "marker": {
             "colorbar": {
              "outlinewidth": 1,
              "tickcolor": "rgb(36,36,36)",
              "ticks": "outside"
             }
            },
            "type": "scattergeo"
           }
          ],
          "scattergl": [
           {
            "marker": {
             "colorbar": {
              "outlinewidth": 1,
              "tickcolor": "rgb(36,36,36)",
              "ticks": "outside"
             }
            },
            "type": "scattergl"
           }
          ],
          "scattermap": [
           {
            "marker": {
             "colorbar": {
              "outlinewidth": 1,
              "tickcolor": "rgb(36,36,36)",
              "ticks": "outside"
             }
            },
            "type": "scattermap"
           }
          ],
          "scattermapbox": [
           {
            "marker": {
             "colorbar": {
              "outlinewidth": 1,
              "tickcolor": "rgb(36,36,36)",
              "ticks": "outside"
             }
            },
            "type": "scattermapbox"
           }
          ],
          "scatterpolar": [
           {
            "marker": {
             "colorbar": {
              "outlinewidth": 1,
              "tickcolor": "rgb(36,36,36)",
              "ticks": "outside"
             }
            },
            "type": "scatterpolar"
           }
          ],
          "scatterpolargl": [
           {
            "marker": {
             "colorbar": {
              "outlinewidth": 1,
              "tickcolor": "rgb(36,36,36)",
              "ticks": "outside"
             }
            },
            "type": "scatterpolargl"
           }
          ],
          "scatterternary": [
           {
            "marker": {
             "colorbar": {
              "outlinewidth": 1,
              "tickcolor": "rgb(36,36,36)",
              "ticks": "outside"
             }
            },
            "type": "scatterternary"
           }
          ],
          "surface": [
           {
            "colorbar": {
             "outlinewidth": 1,
             "tickcolor": "rgb(36,36,36)",
             "ticks": "outside"
            },
            "colorscale": [
             [
              0,
              "#440154"
             ],
             [
              0.1111111111111111,
              "#482878"
             ],
             [
              0.2222222222222222,
              "#3e4989"
             ],
             [
              0.3333333333333333,
              "#31688e"
             ],
             [
              0.4444444444444444,
              "#26828e"
             ],
             [
              0.5555555555555556,
              "#1f9e89"
             ],
             [
              0.6666666666666666,
              "#35b779"
             ],
             [
              0.7777777777777778,
              "#6ece58"
             ],
             [
              0.8888888888888888,
              "#b5de2b"
             ],
             [
              1,
              "#fde725"
             ]
            ],
            "type": "surface"
           }
          ],
          "table": [
           {
            "cells": {
             "fill": {
              "color": "rgb(237,237,237)"
             },
             "line": {
              "color": "white"
             }
            },
            "header": {
             "fill": {
              "color": "rgb(217,217,217)"
             },
             "line": {
              "color": "white"
             }
            },
            "type": "table"
           }
          ]
         },
         "layout": {
          "annotationdefaults": {
           "arrowhead": 0,
           "arrowwidth": 1
          },
          "autotypenumbers": "strict",
          "coloraxis": {
           "colorbar": {
            "outlinewidth": 1,
            "tickcolor": "rgb(36,36,36)",
            "ticks": "outside"
           }
          },
          "colorscale": {
           "diverging": [
            [
             0,
             "rgb(103,0,31)"
            ],
            [
             0.1,
             "rgb(178,24,43)"
            ],
            [
             0.2,
             "rgb(214,96,77)"
            ],
            [
             0.3,
             "rgb(244,165,130)"
            ],
            [
             0.4,
             "rgb(253,219,199)"
            ],
            [
             0.5,
             "rgb(247,247,247)"
            ],
            [
             0.6,
             "rgb(209,229,240)"
            ],
            [
             0.7,
             "rgb(146,197,222)"
            ],
            [
             0.8,
             "rgb(67,147,195)"
            ],
            [
             0.9,
             "rgb(33,102,172)"
            ],
            [
             1,
             "rgb(5,48,97)"
            ]
           ],
           "sequential": [
            [
             0,
             "#440154"
            ],
            [
             0.1111111111111111,
             "#482878"
            ],
            [
             0.2222222222222222,
             "#3e4989"
            ],
            [
             0.3333333333333333,
             "#31688e"
            ],
            [
             0.4444444444444444,
             "#26828e"
            ],
            [
             0.5555555555555556,
             "#1f9e89"
            ],
            [
             0.6666666666666666,
             "#35b779"
            ],
            [
             0.7777777777777778,
             "#6ece58"
            ],
            [
             0.8888888888888888,
             "#b5de2b"
            ],
            [
             1,
             "#fde725"
            ]
           ],
           "sequentialminus": [
            [
             0,
             "#440154"
            ],
            [
             0.1111111111111111,
             "#482878"
            ],
            [
             0.2222222222222222,
             "#3e4989"
            ],
            [
             0.3333333333333333,
             "#31688e"
            ],
            [
             0.4444444444444444,
             "#26828e"
            ],
            [
             0.5555555555555556,
             "#1f9e89"
            ],
            [
             0.6666666666666666,
             "#35b779"
            ],
            [
             0.7777777777777778,
             "#6ece58"
            ],
            [
             0.8888888888888888,
             "#b5de2b"
            ],
            [
             1,
             "#fde725"
            ]
           ]
          },
          "colorway": [
           "#1F77B4",
           "#FF7F0E",
           "#2CA02C",
           "#D62728",
           "#9467BD",
           "#8C564B",
           "#E377C2",
           "#7F7F7F",
           "#BCBD22",
           "#17BECF"
          ],
          "font": {
           "color": "rgb(36,36,36)"
          },
          "geo": {
           "bgcolor": "white",
           "lakecolor": "white",
           "landcolor": "white",
           "showlakes": true,
           "showland": true,
           "subunitcolor": "white"
          },
          "hoverlabel": {
           "align": "left"
          },
          "hovermode": "closest",
          "mapbox": {
           "style": "light"
          },
          "paper_bgcolor": "white",
          "plot_bgcolor": "white",
          "polar": {
           "angularaxis": {
            "gridcolor": "rgb(232,232,232)",
            "linecolor": "rgb(36,36,36)",
            "showgrid": false,
            "showline": true,
            "ticks": "outside"
           },
           "bgcolor": "white",
           "radialaxis": {
            "gridcolor": "rgb(232,232,232)",
            "linecolor": "rgb(36,36,36)",
            "showgrid": false,
            "showline": true,
            "ticks": "outside"
           }
          },
          "scene": {
           "xaxis": {
            "backgroundcolor": "white",
            "gridcolor": "rgb(232,232,232)",
            "gridwidth": 2,
            "linecolor": "rgb(36,36,36)",
            "showbackground": true,
            "showgrid": false,
            "showline": true,
            "ticks": "outside",
            "zeroline": false,
            "zerolinecolor": "rgb(36,36,36)"
           },
           "yaxis": {
            "backgroundcolor": "white",
            "gridcolor": "rgb(232,232,232)",
            "gridwidth": 2,
            "linecolor": "rgb(36,36,36)",
            "showbackground": true,
            "showgrid": false,
            "showline": true,
            "ticks": "outside",
            "zeroline": false,
            "zerolinecolor": "rgb(36,36,36)"
           },
           "zaxis": {
            "backgroundcolor": "white",
            "gridcolor": "rgb(232,232,232)",
            "gridwidth": 2,
            "linecolor": "rgb(36,36,36)",
            "showbackground": true,
            "showgrid": false,
            "showline": true,
            "ticks": "outside",
            "zeroline": false,
            "zerolinecolor": "rgb(36,36,36)"
           }
          },
          "shapedefaults": {
           "fillcolor": "black",
           "line": {
            "width": 0
           },
           "opacity": 0.3
          },
          "ternary": {
           "aaxis": {
            "gridcolor": "rgb(232,232,232)",
            "linecolor": "rgb(36,36,36)",
            "showgrid": false,
            "showline": true,
            "ticks": "outside"
           },
           "baxis": {
            "gridcolor": "rgb(232,232,232)",
            "linecolor": "rgb(36,36,36)",
            "showgrid": false,
            "showline": true,
            "ticks": "outside"
           },
           "bgcolor": "white",
           "caxis": {
            "gridcolor": "rgb(232,232,232)",
            "linecolor": "rgb(36,36,36)",
            "showgrid": false,
            "showline": true,
            "ticks": "outside"
           }
          },
          "title": {
           "x": 0.05
          },
          "xaxis": {
           "automargin": true,
           "gridcolor": "rgb(232,232,232)",
           "linecolor": "rgb(36,36,36)",
           "showgrid": false,
           "showline": true,
           "ticks": "outside",
           "title": {
            "standoff": 15
           },
           "zeroline": false,
           "zerolinecolor": "rgb(36,36,36)"
          },
          "yaxis": {
           "automargin": true,
           "gridcolor": "rgb(232,232,232)",
           "linecolor": "rgb(36,36,36)",
           "showgrid": false,
           "showline": true,
           "ticks": "outside",
           "title": {
            "standoff": 15
           },
           "zeroline": false,
           "zerolinecolor": "rgb(36,36,36)"
          }
         }
        },
        "title": {
         "font": {
          "size": 14
         },
         "text": "Sample sets: AG1000G-BF-B<br>Genomic region: 3L:15,000,000-41,000,000 (105,470 SNPs)"
        },
        "width": 800,
        "xaxis": {
         "autorange": true,
         "domain": [
          0,
          1
         ],
         "mirror": false,
         "range": [
          -1.3095238095238098,
          6.30952380952381
         ],
         "showgrid": false,
         "showline": false,
         "showticklabels": false,
         "ticks": "",
         "title": {}
        },
        "yaxis": {
         "autorange": true,
         "domain": [
          0,
          1
         ],
         "mirror": false,
         "range": [
          -1,
          4
         ],
         "scaleanchor": "x",
         "scaleratio": 1,
         "showgrid": false,
         "showline": false,
         "showticklabels": false,
         "ticks": "",
         "title": {}
        }
       }
      },
      "image/png": "[encoded data removed]",
      "text/html": [
       "<div>            <script src=\"https://cdnjs.cloudflare.com/ajax/libs/mathjax/2.7.5/MathJax.js?config=TeX-AMS-MML_SVG\"></script><script type=\"text/javascript\">if (window.MathJax && window.MathJax.Hub && window.MathJax.Hub.Config) {window.MathJax.Hub.Config({SVG: {font: \"STIX-Web\"}});}</script>                <script type=\"text/javascript\">window.PlotlyConfig = {MathJaxConfig: 'local'};</script>\n",
       "        <script charset=\"utf-8\" src=\"https://cdn.plot.ly/plotly-3.0.1.min.js\"></script>                <div id=\"58e83c12-4e8e-4a03-b50d-ff092b826ddf\" class=\"plotly-graph-div\" style=\"height:600px; width:800px;\"></div>            <script type=\"text/javascript\">                window.PLOTLYENV=window.PLOTLYENV || {};                                if (document.getElementById(\"58e83c12-4e8e-4a03-b50d-ff092b826ddf\")) {                    Plotly.newPlot(                        \"58e83c12-4e8e-4a03-b50d-ff092b826ddf\",                        [{\"hovertemplate\":\"taxon=coluzzii\\u003cbr\\u003ex=%{x}\\u003cbr\\u003ey=%{y}\\u003cextra\\u003e\\u003c\\u002fextra\\u003e\",\"legendgroup\":\"coluzzii\",\"line\":{\"color\":\"rgb(229, 134, 6)\",\"dash\":\"solid\",\"width\":0.5},\"marker\":{\"symbol\":\"circle\"},\"mode\":\"lines\",\"name\":\"coluzzii\",\"orientation\":\"v\",\"showlegend\":false,\"x\":{\"dtype\":\"f8\",\"bdata\":\"AAAAAAAAAAAAAABgHtL5PwAAAAAAAPh\\u002fAAAAYB7S+b8AAACAtJjYPwAAAAAAAPh\\u002fAAAAwGNndMAAAACAMICQwAAAAAAAAPh\\u002fAAAAgLSY2D8AAAAAgR0OQAAAAAAAAPh\\u002fAAAAgLSY2D8AAAAgbb\\u002fsPwAAAAAAAPh\\u002fAAAAIG2\\u002f7D8AAACARfwdQAAAAAAAAPh\\u002fAAAAIG2\\u002f7D8AAAAgbb\\u002fsPwAAAAAAAPh\\u002fAAAAIG2\\u002f7D8AAAAgDgxtQAAAAAAAAPh\\u002fAAAAIG2\\u002f7D8AAABgbbtswAAAAAAAAPh\\u002fAAAAgEX8HUAAAABAAieSQAAAAAAAAPh\\u002fAAAAgEX8HUAAAABgrjeGQAAAAAAAAPh\\u002fAAAAAIEdDkAAAACAGlREQAAAAAAAAPh\\u002fAAAAAIEdDkAAAABAt2owQAAAAAAAAPh\\u002fAAAAQLdqMEAAAADgWmygQAAAAAAAAPh\\u002fAAAAQLdqMEAAAADgxh6aQAAAAAAAAPh\\u002fAAAAgBpUREAAAABgoTCnQAAAAAAAAPh\\u002fAAAAgBpUREAAAABAbo+kQAAAAAAAAPh\\u002fAAAAYB7S+T8AAADATysZQAAAAAAAAPh\\u002fAAAAYB7S+T8AAABgAZ4SQAAAAAAAAPh\\u002fAAAAYAGeEkAAAABAt08yQAAAAAAAAPh\\u002fAAAAYAGeEkAAAAAAX8wiQAAAAAAAAPh\\u002fAAAAAF\\u002fMIkAAAADAFjMwQAAAAAAAAPh\\u002fAAAAAF\\u002fMIkAAAACgmC8tQAAAAAAAAPh\\u002fAAAAoJgvLUAAAAAANwBAQAAAAAAAAPh\\u002fAAAAoJgvLUAAAAAA+\\u002fE2QAAAAAAAAPh\\u002fAAAAAPvxNkAAAAAAZpxbQAAAAAAAAPh\\u002fAAAAAPvxNkAAAAAA+\\u002fE2QAAAAAAAAPh\\u002fAAAAAPvxNkAAAABgzSJNQAAAAAAAAPh\\u002fAAAAAPvxNkAAAAAA+\\u002fE2QAAAAAAAAPh\\u002fAAAAAPvxNkAAAAAgdjtHQAAAAAAAAPh\\u002fAAAAAPvxNkAAAAAAIAI\\u002fQAAAAAAAAPh\\u002fAAAAACACP0AAAAAggHhJQAAAAAAAAPh\\u002fAAAAACACP0AAAACg71lDQAAAAAAAAPh\\u002fAAAAoO9ZQ0AAAABgkT9TQAAAAAAAAPh\\u002fAAAAoO9ZQ0AAAACgRShMQAAAAAAAAPh\\u002fAAAAoEUoTEAAAABgGnWuQAAAAAAAAPh\\u002fAAAAoEUoTEAAAAAgeEGrQAAAAAAAAPh\\u002fAAAAYJE\\u002fU0AAAADgTDeyQAAAAAAAAPh\\u002fAAAAYJE\\u002fU0AAAACAN5iwQAAAAAAAAPh\\u002fAAAAIIB4SUAAAACgAVS2QAAAAAAAAPh\\u002fAAAAIIB4SUAAAACA11pUQAAAAAAAAPh\\u002fAAAAgNdaVEAAAADA\\u002fgO1QAAAAAAAAPh\\u002fAAAAgNdaVEAAAAAg4MizQAAAAAAAAPh\\u002fAAAAIHY7R0AAAACAE8i6QAAAAAAAAPh\\u002fAAAAIHY7R0AAAADAaddNQAAAAAAAAPh\\u002fAAAAwGnXTUAAAADgK8e5QAAAAAAAAPh\\u002fAAAAwGnXTUAAAAAgg\\u002f9TQAAAAAAAAPh\\u002fAAAAIIP\\u002fU0AAAACgIZa4QAAAAAAAAPh\\u002fAAAAIIP\\u002fU0AAAADAEYS3QAAAAAAAAPh\\u002fAAAAYM0iTUAAAABAL8q8QAAAAAAAAPh\\u002fAAAAYM0iTUAAAACgMbVVQAAAAAAAAPh\\u002fAAAAoDG1VUAAAACgtLO7QAAAAAAAAPh\\u002fAAAAoDG1VUAAAAAAuIO7QAAAAAAAAPh\\u002fAAAAAGacW0AAAABgQly9QAAAAAAAAPh\\u002fAAAAAGacW0AAAABgfwK9QAAAAAAAAPh\\u002fAAAAADcAQEAAAADARQxWQAAAAAAAAPh\\u002fAAAAADcAQEAAAAAAW4dDQAAAAAAAAPh\\u002fAAAAAFuHQ0AAAABAyg2+QAAAAAAAAPh\\u002fAAAAAFuHQ0AAAACAEYpTQAAAAAAAAPh\\u002fAAAAgBGKU0AAAADgvv+9QAAAAAAAAPh\\u002fAAAAgBGKU0AAAAAgYNe9QAAAAAAAAPh\\u002fAAAAwEUMVkAAAACgxr+9QAAAAAAAAPh\\u002fAAAAwEUMVkAAAACgdHu+QAAAAAAAAPh\\u002fAAAAwBYzMEAAAAAAb2lDQAAAAAAAAPh\\u002fAAAAwBYzMEAAAACAfTo9QAAAAAAAAPh\\u002fAAAAgH06PUAAAACAB1dVQAAAAAAAAPh\\u002fAAAAgH06PUAAAAAgSIxNQAAAAAAAAPh\\u002fAAAAIEiMTUAAAAAgQp68QAAAAAAAAPh\\u002fAAAAIEiMTUAAAABgey5lQAAAAAAAAPh\\u002fAAAAYHsuZUAAAAAADFK9QAAAAAAAAPh\\u002fAAAAYHsuZUAAAABA56G9QAAAAAAAAPh\\u002fAAAAgAdXVUAAAACgPKO7QAAAAAAAAPh\\u002fAAAAgAdXVUAAAADAZ\\u002f67QAAAAAAAAPh\\u002fAAAAAG9pQ0AAAAAAH+RSQAAAAAAAAPh\\u002fAAAAAG9pQ0AAAABgFKhTQAAAAAAAAPh\\u002fAAAAYBSoU0AAAAAAEqm5QAAAAAAAAPh\\u002fAAAAYBSoU0AAAACg4je6QAAAAAAAAPh\\u002fAAAAAB\\u002fkUkAAAABgQ6O3QAAAAAAAAPh\\u002fAAAAAB\\u002fkUkAAAABg1W64QAAAAAAAAPh\\u002fAAAAQLdPMkAAAAAAXB9MQAAAAAAAAPh\\u002fAAAAQLdPMkAAAACgwaY2QAAAAAAAAPh\\u002fAAAAoMGmNkAAAAAglXxEQAAAAAAAAPh\\u002fAAAAoMGmNkAAAABAvh1FQAAAAAAAAPh\\u002fAAAAQL4dRUAAAADAO920QAAAAAAAAPh\\u002fAAAAQL4dRUAAAACAfTe2QAAAAAAAAPh\\u002fAAAAIJV8REAAAABARyayQAAAAAAAAPh\\u002fAAAAIJV8REAAAACAAbGzQAAAAAAAAPh\\u002fAAAAAFwfTEAAAAAAC\\u002fCtQAAAAAAAAPh\\u002fAAAAAFwfTEAAAADAjMmwQAAAAAAAAPh\\u002fAAAAwE8rGUAAAABA5NQiQAAAAAAAAPh\\u002fAAAAwE8rGUAAAACgfREfQAAAAAAAAPh\\u002fAAAAoH0RH0AAAACAd702QAAAAAAAAPh\\u002fAAAAoH0RH0AAAAAA++wvQAAAAAAAAPh\\u002fAAAAAPvsL0AAAACAI8KnQAAAAAAAAPh\\u002fAAAAAPvsL0AAAADgKtmqQAAAAAAAAPh\\u002fAAAAgHe9NkAAAADgmoGgQAAAAAAAAPh\\u002fAAAAgHe9NkAAAAAgVPajQAAAAAAAAPh\\u002fAAAAQOTUIkAAAABgRAZvQAAAAAAAAPh\\u002fAAAAQOTUIkAAAADg7WkkQAAAAAAAAPh\\u002fAAAA4O1pJEAAAABgtoyGQAAAAAAAAPh\\u002fAAAA4O1pJEAAAADAHpYpQAAAAAAAAPh\\u002fAAAAwB6WKUAAAADATxSSQAAAAAAAAPh\\u002fAAAAwB6WKUAAAAAgvNaZQAAAAAAAAPh\\u002f\"},\"xaxis\":\"x\",\"y\":{\"dtype\":\"f8\",\"bdata\":\"AAAAAAAAAAAAAACgjZ7WPwAAAAAAAPh\\u002fAAAAoI2e1r8AAAAAuBUmwAAAAAAAAPh\\u002fAAAAwGBPI0AAAACg07e+wAAAAAAAAPh\\u002fAAAAALgVJsAAAABA4qo1wAAAAAAAAPh\\u002fAAAAALgVJsAAAAAAdmAzwAAAAAAAAPh\\u002fAAAAAHZgM8AAAADgSipSwAAAAAAAAPh\\u002fAAAAAHZgM8AAAABAyVdPwAAAAAAAAPh\\u002fAAAAQMlXT8AAAADA25e9wAAAAAAAAPh\\u002fAAAAQMlXT8AAAAAgZYC9wAAAAAAAAPh\\u002fAAAA4EoqUsAAAABAgFS9wAAAAAAAAPh\\u002fAAAA4EoqUsAAAABgPvC9wAAAAAAAAPh\\u002fAAAAQOKqNcAAAADAfzldwAAAAAAAAPh\\u002fAAAAQOKqNcAAAABATf5RwAAAAAAAAPh\\u002fAAAAQE3+UcAAAACAqeq8wAAAAAAAAPh\\u002fAAAAQE3+UcAAAACAM869wAAAAAAAAPh\\u002fAAAAwH85XcAAAACgw3m7wAAAAAAAAPh\\u002fAAAAwH85XcAAAACgyS29wAAAAAAAAPh\\u002fAAAAoI2e1j8AAADAfvQyQAAAAAAAAPh\\u002fAAAAoI2e1j8AAAAgwJ\\u002fQPwAAAAAAAPh\\u002fAAAAIMCf0D8AAABAQTsxQAAAAAAAAPh\\u002fAAAAIMCf0D8AAABAw\\u002fDovwAAAAAAAPh\\u002fAAAAQMPw6L8AAADAWcsCQAAAAAAAAPh\\u002fAAAAQMPw6L8AAAAAFowMwAAAAAAAAPh\\u002fAAAAABaMDMAAAAAAFowMwAAAAAAAAPh\\u002fAAAAABaMDMAAAADAYcAjwAAAAAAAAPh\\u002fAAAAwGHAI8AAAAAgyAk9wAAAAAAAAPh\\u002fAAAAwGHAI8AAAADAYcAjwAAAAAAAAPh\\u002fAAAAwGHAI8AAAACgtY83wAAAAAAAAPh\\u002fAAAAwGHAI8AAAADAYcAjwAAAAAAAAPh\\u002fAAAAwGHAI8AAAADgz3U5wAAAAAAAAPh\\u002fAAAAwGHAI8AAAABgj400wAAAAAAAAPh\\u002fAAAAYI+NNMAAAACgCY5EwAAAAAAAAPh\\u002fAAAAYI+NNMAAAADAZ31AwAAAAAAAAPh\\u002fAAAAwGd9QMAAAAAAkMRVwAAAAAAAAPh\\u002fAAAAwGd9QMAAAACAwXFQwAAAAAAAAPh\\u002fAAAAgMFxUMAAAAAAukC6wAAAAAAAAPh\\u002fAAAAgMFxUMAAAACAAS+7wAAAAAAAAPh\\u002fAAAAAJDEVcAAAADgUhC4wAAAAAAAAPh\\u002fAAAAAJDEVcAAAABgFO64wAAAAAAAAPh\\u002fAAAAoAmORMAAAACgf1W0wAAAAAAAAPh\\u002fAAAAoAmORMAAAABAt6JSwAAAAAAAAPh\\u002fAAAAQLeiUsAAAAAA4aK1wAAAAAAAAPh\\u002fAAAAQLeiUsAAAADAQQO3wAAAAAAAAPh\\u002fAAAA4M91OcAAAAAASsSswAAAAAAAAPh\\u002fAAAA4M91OcAAAAAgnWhBwAAAAAAAAPh\\u002fAAAAIJ1oQcAAAAAgy+evwAAAAAAAAPh\\u002fAAAAIJ1oQcAAAADAvxNJwAAAAAAAAPh\\u002fAAAAwL8TScAAAABgDWGxwAAAAAAAAPh\\u002fAAAAwL8TScAAAADAHd6ywAAAAAAAAPh\\u002fAAAAoLWPN8AAAADgS1uiwAAAAAAAAPh\\u002fAAAAoLWPN8AAAACgIdNBwAAAAAAAAPh\\u002fAAAAoCHTQcAAAABgtHqlwAAAAAAAAPh\\u002fAAAAoCHTQcAAAADApkipwAAAAAAAAPh\\u002fAAAAIMgJPcAAAAAgsxWWwAAAAAAAAPh\\u002fAAAAIMgJPcAAAADgZTSdwAAAAAAAAPh\\u002fAAAAABaMDMAAAACAyjb6PwAAAAAAAPh\\u002fAAAAABaMDMAAAABgrAMQwAAAAAAAAPh\\u002fAAAAYKwDEMAAAABgrAMQwAAAAAAAAPh\\u002fAAAAYKwDEMAAAACAw4EewAAAAAAAAPh\\u002fAAAAgMOBHsAAAABgoMd9wAAAAAAAAPh\\u002fAAAAgMOBHsAAAACARH+NwAAAAAAAAPh\\u002fAAAAgMo2+j8AAADgCi6NQAAAAAAAAPh\\u002fAAAAgMo2+j8AAAAg\\u002ftd9QAAAAAAAAPh\\u002fAAAAwFnLAkAAAACgMFcxQAAAAAAAAPh\\u002fAAAAwFnLAkAAAAAA8vkZQAAAAAAAAPh\\u002fAAAAAPL5GUAAAACgoEA+QAAAAAAAAPh\\u002fAAAAAPL5GUAAAAAgGgMsQAAAAAAAAPh\\u002fAAAAIBoDLEAAAADAtiuiQAAAAAAAAPh\\u002fAAAAIBoDLEAAAADgVhZDQAAAAAAAAPh\\u002fAAAA4FYWQ0AAAACgm22dQAAAAAAAAPh\\u002fAAAA4FYWQ0AAAACgMkKWQAAAAAAAAPh\\u002fAAAAoKBAPkAAAABANlypQAAAAAAAAPh\\u002fAAAAoKBAPkAAAACg7aqlQAAAAAAAAPh\\u002fAAAAoDBXMUAAAADg\\u002fYpGQAAAAAAAAPh\\u002fAAAAoDBXMUAAAABACSlEQAAAAAAAAPh\\u002fAAAAQAkpREAAAAAAEbavQAAAAAAAAPh\\u002fAAAAQAkpREAAAABgnCSsQAAAAAAAAPh\\u002fAAAA4P2KRkAAAACAtvWyQAAAAAAAAPh\\u002fAAAA4P2KRkAAAADATEOxQAAAAAAAAPh\\u002fAAAAQEE7MUAAAAAAxJ9TQAAAAAAAAPh\\u002fAAAAQEE7MUAAAABAAv41QAAAAAAAAPh\\u002fAAAAQAL+NUAAAAAAZmFGQAAAAAAAAPh\\u002fAAAAQAL+NUAAAADAVn1EQAAAAAAAAPh\\u002fAAAAwFZ9REAAAAAgwYG1QAAAAAAAAPh\\u002fAAAAwFZ9REAAAADAT0O0QAAAAAAAAPh\\u002fAAAAAGZhRkAAAACgK\\u002f+3QAAAAAAAAPh\\u002fAAAAAGZhRkAAAADA0vi2QAAAAAAAAPh\\u002fAAAAAMSfU0AAAABAVdq5QAAAAAAAAPh\\u002fAAAAAMSfU0AAAACARE+5QAAAAAAAAPh\\u002fAAAAwH70MkAAAADABRdGQAAAAAAAAPh\\u002fAAAAwH70MkAAAADgDMM2QAAAAAAAAPh\\u002fAAAA4AzDNkAAAACACXVRQAAAAAAAAPh\\u002fAAAA4AzDNkAAAADAuUlEQAAAAAAAAPh\\u002fAAAAwLlJREAAAABArBO8QAAAAAAAAPh\\u002fAAAAwLlJREAAAAAAHP66QAAAAAAAAPh\\u002fAAAAgAl1UUAAAAAAo\\u002fe8QAAAAAAAAPh\\u002fAAAAgAl1UUAAAACgU1i8QAAAAAAAAPh\\u002fAAAAwAUXRkAAAABgWHK+QAAAAAAAAPh\\u002fAAAAwAUXRkAAAADAWKNIQAAAAAAAAPh\\u002fAAAAwFijSEAAAADgTy6+QAAAAAAAAPh\\u002fAAAAwFijSEAAAACgS45PQAAAAAAAAPh\\u002fAAAAoEuOT0AAAABgtwq9QAAAAAAAAPh\\u002fAAAAoEuOT0AAAACgpYO9QAAAAAAAAPh\\u002f\"},\"yaxis\":\"y\",\"type\":\"scatter\"},{\"hovertemplate\":\"taxon=arabiensis\\u003cbr\\u003ex=%{x}\\u003cbr\\u003ey=%{y}\\u003cextra\\u003e\\u003c\\u002fextra\\u003e\",\"legendgroup\":\"arabiensis\",\"line\":{\"color\":\"rgb(82, 188, 163)\",\"dash\":\"solid\",\"width\":0.5},\"marker\":{\"symbol\":\"circle\"},\"mode\":\"lines\",\"name\":\"arabiensis\",\"orientation\":\"v\",\"showlegend\":false,\"x\":{\"dtype\":\"f8\",\"bdata\":\"AAAAoKEOf8AAAACgmqajwAAAAAAAAPh\\u002fAAAAoJqmo8AAAAAAf9GtwAAAAAAAAPh\\u002fAAAAoJqmo8AAAACgxFWkwAAAAAAAAPh\\u002fAAAAoMRVpMAAAACA9duvwAAAAAAAAPh\\u002fAAAAoMRVpMAAAAAAOMewwAAAAAAAAPh\\u002f\"},\"xaxis\":\"x\",\"y\":{\"dtype\":\"f8\",\"bdata\":\"AAAAYNk9fMAAAACAVZmxwAAAAAAAAPh\\u002fAAAAgFWZscAAAAAAH5y9wAAAAAAAAPh\\u002fAAAAgFWZscAAAADAbjyywAAAAAAAAPh\\u002fAAAAwG48ssAAAADA0s69wAAAAAAAAPh\\u002fAAAAwG48ssAAAACApK+9wAAAAAAAAPh\\u002f\"},\"yaxis\":\"y\",\"type\":\"scatter\"},{\"hovertemplate\":\"taxon=gambiae\\u003cbr\\u003ex=%{x}\\u003cbr\\u003ey=%{y}\\u003cextra\\u003e\\u003c\\u002fextra\\u003e\",\"legendgroup\":\"gambiae\",\"line\":{\"color\":\"rgb(93, 105, 177)\",\"dash\":\"solid\",\"width\":0.5},\"marker\":{\"symbol\":\"circle\"},\"mode\":\"lines\",\"name\":\"gambiae\",\"orientation\":\"v\",\"showlegend\":false,\"x\":{\"dtype\":\"f8\",\"bdata\":\"AAAAwGNndMAAAACg+7CAwAAAAAAAAPh\\u002fAAAAoPuwgMAAAACAySyywAAAAAAAAPh\\u002fAAAAoPuwgMAAAACgX0SDwAAAAAAAAPh\\u002fAAAAoF9Eg8AAAADAyVuHwAAAAAAAAPh\\u002fAAAAoF9Eg8AAAACgtVqDwAAAAAAAAPh\\u002fAAAAoLVag8AAAAAgUCWEwAAAAAAAAPh\\u002fAAAAoLVag8AAAACg2mCDwAAAAAAAAPh\\u002fAAAAoNpgg8AAAADgKCSFwAAAAAAAAPh\\u002fAAAAoNpgg8AAAACgMaqDwAAAAAAAAPh\\u002fAAAAoDGqg8AAAAAgrRCFwAAAAAAAAPh\\u002fAAAAoDGqg8AAAACgZt+DwAAAAAAAAPh\\u002fAAAAoGbfg8AAAABgFDGFwAAAAAAAAPh\\u002fAAAAoGbfg8AAAAAAiPWDwAAAAAAAAPh\\u002fAAAAAIj1g8AAAADAIiSEwAAAAAAAAPh\\u002fAAAAAIj1g8AAAAAgSQqEwAAAAAAAAPh\\u002fAAAAIEkKhMAAAAAgb32EwAAAAAAAAPh\\u002fAAAAIEkKhMAAAAAAxjmEwAAAAAAAAPh\\u002fAAAAAMY5hMAAAABg+pSFwAAAAAAAAPh\\u002fAAAAAMY5hMAAAABA9EiEwAAAAAAAAPh\\u002fAAAAQPRIhMAAAABg08mbwAAAAAAAAPh\\u002fAAAAQPRIhMAAAACg+QOGwAAAAAAAAPh\\u002fAAAAoPkDhsAAAADAsquUwAAAAAAAAPh\\u002fAAAAoPkDhsAAAACA+mSMwAAAAAAAAPh\\u002fAAAAYPqUhcAAAABA9RqlwAAAAAAAAPh\\u002fAAAAYPqUhcAAAADgGqWhwAAAAAAAAPh\\u002fAAAAIG99hMAAAAAgNreuwAAAAAAAAPh\\u002fAAAAIG99hMAAAADgDKCFwAAAAAAAAPh\\u002fAAAA4AyghcAAAABguS2swAAAAAAAAPh\\u002fAAAA4AyghcAAAABgDLyowAAAAAAAAPh\\u002fAAAAwCIkhMAAAABA+GiHwAAAAAAAAPh\\u002fAAAAwCIkhMAAAACAHM6FwAAAAAAAAPh\\u002fAAAAgBzOhcAAAADAzmmywAAAAAAAAPh\\u002fAAAAgBzOhcAAAABgcviwwAAAAAAAAPh\\u002fAAAAQPhoh8AAAABAZUO1wAAAAAAAAPh\\u002fAAAAQPhoh8AAAADgELqzwAAAAAAAAPh\\u002fAAAAYBQxhcAAAADATuC3wAAAAAAAAPh\\u002fAAAAYBQxhcAAAADgWhW3wAAAAAAAAPh\\u002fAAAAIK0QhcAAAADAwbW8wAAAAAAAAPh\\u002fAAAAIK0QhcAAAAAgrRCFwAAAAAAAAPh\\u002fAAAAIK0QhcAAAACgZjK8wAAAAAAAAPh\\u002fAAAAIK0QhcAAAADg7EiGwAAAAAAAAPh\\u002fAAAA4OxIhsAAAACgIV+7wAAAAAAAAPh\\u002fAAAA4OxIhsAAAADghbaGwAAAAAAAAPh\\u002fAAAA4IW2hsAAAADASzq6wAAAAAAAAPh\\u002fAAAA4IW2hsAAAADgy1K5wAAAAAAAAPh\\u002fAAAA4CgkhcAAAAAA6Vy+wAAAAAAAAPh\\u002fAAAA4CgkhcAAAADgZYW9wAAAAAAAAPh\\u002fAAAAIFAlhMAAAADgMF+5wAAAAAAAAPh\\u002fAAAAIFAlhMAAAABAqZaEwAAAAAAAAPh\\u002fAAAAQKmWhMAAAACAQRmFwAAAAAAAAPh\\u002fAAAAQKmWhMAAAAAg7uuEwAAAAAAAAPh\\u002fAAAAIO7rhMAAAABATxWGwAAAAAAAAPh\\u002fAAAAIO7rhMAAAACgOy6FwAAAAAAAAPh\\u002fAAAAoDsuhcAAAAAgQ+K\\u002fwAAAAAAAAPh\\u002fAAAAoDsuhcAAAADgBsKFwAAAAAAAAPh\\u002fAAAA4AbChcAAAADgLHa\\u002fwAAAAAAAAPh\\u002fAAAA4AbChcAAAACgZaCgwAAAAAAAAPh\\u002fAAAAoGWgoMAAAACAbN2\\u002fwAAAAAAAAPh\\u002fAAAAoGWgoMAAAACgdAzAwAAAAAAAAPh\\u002fAAAAQE8VhsAAAAAgbzy\\u002fwAAAAAAAAPh\\u002fAAAAQE8VhsAAAABAEPCHwAAAAAAAAPh\\u002fAAAAQBDwh8AAAACAN72\\u002fwAAAAAAAAPh\\u002fAAAAQBDwh8AAAABghsyJwAAAAAAAAPh\\u002fAAAAYIbMicAAAABgTAPAwAAAAAAAAPh\\u002fAAAAYIbMicAAAAAghsG\\u002fwAAAAAAAAPh\\u002fAAAAgEEZhcAAAACAAWe6wAAAAAAAAPh\\u002fAAAAgEEZhcAAAADACSuFwAAAAAAAAPh\\u002fAAAAwAkrhcAAAAAAX0aGwAAAAAAAAPh\\u002fAAAAwAkrhcAAAADAttuFwAAAAAAAAPh\\u002fAAAAwLbbhcAAAABAtEa+wAAAAAAAAPh\\u002fAAAAwLbbhcAAAADgJBiHwAAAAAAAAPh\\u002fAAAA4CQYh8AAAABA2Eq+wAAAAAAAAPh\\u002fAAAA4CQYh8AAAADANcy+wAAAAAAAAPh\\u002fAAAAAF9GhsAAAABA1Gi7wAAAAAAAAPh\\u002fAAAAAF9GhsAAAACAKdqHwAAAAAAAAPh\\u002fAAAAgCnah8AAAABA13y8wAAAAAAAAPh\\u002fAAAAgCnah8AAAACAM\\u002fG8wAAAAAAAAPh\\u002fAAAAwMlbh8AAAACAn620wAAAAAAAAPh\\u002fAAAAwMlbh8AAAABAa4GQwAAAAAAAAPh\\u002fAAAAQGuBkMAAAAAAbyy2wAAAAAAAAPh\\u002fAAAAQGuBkMAAAACgaySZwAAAAAAAAPh\\u002fAAAAoGskmcAAAADgowu4wAAAAAAAAPh\\u002fAAAAoGskmcAAAADgRt24wAAAAAAAAPh\\u002fAAAAwFS0fMAAAADArCqZwAAAAAAAAPh\\u002fAAAA4M0ifcAAAAAg9gOIwAAAAAAAAPh\\u002fAAAAoKEOf8AAAACAWO6mwAAAAAAAAPh\\u002fAAAAIPYDiMAAAADAkp+gwAAAAAAAAPh\\u002fAAAAIPYDiMAAAABgO5CjwAAAAAAAAPh\\u002f\"},\"xaxis\":\"x\",\"y\":{\"dtype\":\"f8\",\"bdata\":\"AAAAwGBPI0AAAADgVi9RQAAAAAAAAPh\\u002fAAAA4FYvUUAAAACg8gK4wAAAAAAAAPh\\u002fAAAA4FYvUUAAAABger1XQAAAAAAAAPh\\u002fAAAAYHq9V0AAAADAZFRIwAAAAAAAAPh\\u002fAAAAYHq9V0AAAAAAsA9YQAAAAAAAAPh\\u002fAAAAALAPWEAAAACAuKxWQAAAAAAAAPh\\u002fAAAAALAPWEAAAAAgyFBYQAAAAAAAAPh\\u002fAAAAIMhQWEAAAADADUldQAAAAAAAAPh\\u002fAAAAIMhQWEAAAABAO8ZbQAAAAAAAAPh\\u002fAAAAQDvGW0AAAACA91phQAAAAAAAAPh\\u002fAAAAQDvGW0AAAAAgbGNfQAAAAAAAAPh\\u002fAAAAIGxjX0AAAADAc89kQAAAAAAAAPh\\u002fAAAAIGxjX0AAAACgNpZgQAAAAAAAAPh\\u002fAAAAoDaWYEAAAACgjp1hQAAAAAAAAPh\\u002fAAAAoDaWYEAAAABASeBhQAAAAAAAAPh\\u002fAAAAQEngYUAAAADgeiBmQAAAAAAAAPh\\u002fAAAAQEngYUAAAACA+admQAAAAAAAAPh\\u002fAAAAgPmnZkAAAABA8hx2QAAAAAAAAPh\\u002fAAAAgPmnZkAAAADgRjdpQAAAAAAAAPh\\u002fAAAA4EY3aUAAAADACTW9QAAAAAAAAPh\\u002fAAAA4EY3aUAAAADAUS6RQAAAAAAAAPh\\u002fAAAAwFEukUAAAAAAel2+QAAAAAAAAPh\\u002fAAAAwFEukUAAAADA8iy+QAAAAAAAAPh\\u002fAAAAQPIcdkAAAADgPP28QAAAAAAAAPh\\u002fAAAAQPIcdkAAAACgMlm9QAAAAAAAAPh\\u002fAAAA4HogZkAAAACA9mO6QAAAAAAAAPh\\u002fAAAA4HogZkAAAAAgk+xwQAAAAAAAAPh\\u002fAAAAIJPscEAAAACgZ\\u002fW7QAAAAAAAAPh\\u002fAAAAIJPscEAAAADgiXu8QAAAAAAAAPh\\u002fAAAAoI6dYUAAAADApu5wQAAAAAAAAPh\\u002fAAAAoI6dYUAAAAAgdF1sQAAAAAAAAPh\\u002fAAAAIHRdbEAAAAAAvY+4QAAAAAAAAPh\\u002fAAAAIHRdbEAAAAAAKY+5QAAAAAAAAPh\\u002fAAAAwKbucEAAAACAGHa2QAAAAAAAAPh\\u002fAAAAwKbucEAAAABgSU63QAAAAAAAAPh\\u002fAAAAwHPPZEAAAADAYgC0QAAAAAAAAPh\\u002fAAAAwHPPZEAAAACAW7m1QAAAAAAAAPh\\u002fAAAAgPdaYUAAAABgRxSpQAAAAAAAAPh\\u002fAAAAgPdaYUAAAACA91phQAAAAAAAAPh\\u002fAAAAgPdaYUAAAAAgIoqsQAAAAAAAAPh\\u002fAAAAgPdaYUAAAADgHM9kQAAAAAAAAPh\\u002fAAAA4BzPZEAAAACAH7+vQAAAAAAAAPh\\u002fAAAA4BzPZEAAAACgKxpmQAAAAAAAAPh\\u002fAAAAoCsaZkAAAACARD+xQAAAAAAAAPh\\u002fAAAAoCsaZkAAAABgo8iyQAAAAAAAAPh\\u002fAAAAwA1JXUAAAADAVI2iQAAAAAAAAPh\\u002fAAAAwA1JXUAAAACAnb2lQAAAAAAAAPh\\u002fAAAAgLisVkAAAADgMwmywAAAAAAAAPh\\u002fAAAAgLisVkAAAACANgNWQAAAAAAAAPh\\u002fAAAAgDYDVkAAAABAjCJUQAAAAAAAAPh\\u002fAAAAgDYDVkAAAADAOhhWQAAAAAAAAPh\\u002fAAAAwDoYVkAAAACAxztVQAAAAAAAAPh\\u002fAAAAwDoYVkAAAAAAkWpWQAAAAAAAAPh\\u002fAAAAAJFqVkAAAACAVjqBQAAAAAAAAPh\\u002fAAAAAJFqVkAAAAAglkdXQAAAAAAAAPh\\u002fAAAAIJZHV0AAAABA0GGPQAAAAAAAAPh\\u002fAAAAIJZHV0AAAACAgmt5QAAAAAAAAPh\\u002fAAAAgIJreUAAAACAG\\u002feXQAAAAAAAAPh\\u002fAAAAgIJreUAAAABAXkieQAAAAAAAAPh\\u002fAAAAgMc7VUAAAACACveTwAAAAAAAAPh\\u002fAAAAgMc7VUAAAABAhlFUQAAAAAAAAPh\\u002fAAAAQIZRVEAAAABA8++JwAAAAAAAAPh\\u002fAAAAQIZRVEAAAABgFtxTQAAAAAAAAPh\\u002fAAAAYBbcU0AAAACABnV3wAAAAAAAAPh\\u002fAAAAYBbcU0AAAABgFtxTQAAAAAAAAPh\\u002fAAAAQIwiVEAAAACgIIKwwAAAAAAAAPh\\u002fAAAAQIwiVEAAAADAVeZTQAAAAAAAAPh\\u002fAAAAwFXmU0AAAACAUkpOQAAAAAAAAPh\\u002fAAAAwFXmU0AAAADAsiRSQAAAAAAAAPh\\u002fAAAAwLIkUkAAAADALsakwAAAAAAAAPh\\u002fAAAAwLIkUkAAAACg4ahOQAAAAAAAAPh\\u002fAAAAoOGoTkAAAADgJvWgwAAAAAAAAPh\\u002fAAAAoOGoTkAAAAAAEx+bwAAAAAAAAPh\\u002fAAAAgFJKTkAAAAAgbAWuwAAAAAAAAPh\\u002fAAAAgFJKTkAAAADAS7lBQAAAAAAAAPh\\u002fAAAAwEu5QUAAAABAtx2rwAAAAAAAAPh\\u002fAAAAwEu5QUAAAADgVJynwAAAAAAAAPh\\u002fAAAAwGRUSMAAAADgu7S3wAAAAAAAAPh\\u002fAAAAwGRUSMAAAABgQvN2wAAAAAAAAPh\\u002fAAAAYELzdsAAAAAgyH+2wAAAAAAAAPh\\u002fAAAAYELzdsAAAACAfTmMwAAAAAAAAPh\\u002fAAAAgH05jMAAAADA9Ne1wAAAAAAAAPh\\u002fAAAAgH05jMAAAACAAne0wAAAAAAAAPh\\u002fAAAAYKrzdsAAAABgqGi+wAAAAAAAAPh\\u002fAAAAYNQQeMAAAACgSMyYwAAAAAAAAPh\\u002fAAAAYNk9fMAAAADgI8u8wAAAAAAAAPh\\u002fAAAAoEjMmMAAAAAgyXG+wAAAAAAAAPh\\u002fAAAAoEjMmMAAAABgJQe+wAAAAAAAAPh\\u002f\"},\"yaxis\":\"y\",\"type\":\"scatter\"},{\"hovertemplate\":\"taxon=\\u003cbr\\u003ex=%{x}\\u003cbr\\u003ey=%{y}\\u003cextra\\u003e\\u003c\\u002fextra\\u003e\",\"legendgroup\":\"\",\"line\":{\"color\":\"gray\",\"dash\":\"solid\",\"width\":0.5},\"marker\":{\"symbol\":\"circle\"},\"mode\":\"lines\",\"name\":\"\",\"orientation\":\"v\",\"showlegend\":false,\"x\":{\"dtype\":\"f8\",\"bdata\":\"AAAAAAAAAAAAAABgHtL5vwAAAAAAAPh\\u002fAAAAYB7S+b8AAADAY2d0wAAAAAAAAPh\\u002fAAAAwGNndMAAAADAY2d0wAAAAAAAAPh\\u002fAAAAwGNndMAAAADAVLR8wAAAAAAAAPh\\u002fAAAAwFS0fMAAAADgzSJ9wAAAAAAAAPh\\u002fAAAA4M0ifcAAAACgoQ5\\u002fwAAAAAAAAPh\\u002f\"},\"xaxis\":\"x\",\"y\":{\"dtype\":\"f8\",\"bdata\":\"AAAAAAAAAAAAAACgjZ7WvwAAAAAAAPh\\u002fAAAAoI2e1r8AAADAYE8jQAAAAAAAAPh\\u002fAAAAwGBPI0AAAADAYE8jQAAAAAAAAPh\\u002fAAAAwGBPI0AAAABgqvN2wAAAAAAAAPh\\u002fAAAAYKrzdsAAAABg1BB4wAAAAAAAAPh\\u002fAAAAYNQQeMAAAABg2T18wAAAAAAAAPh\\u002f\"},\"yaxis\":\"y\",\"type\":\"scatter\"},{\"customdata\":[[\"AB0408-C\",\"BF14-20\",\"AG1000G-BF-B\",\"coluzzii\",\"Burkina Faso\",\"BF-09\",\"Hauts-Bassins\",\"Houet\",\"Bana Village\",2014,7],[\"AB0369-C\",\"BF18-38\",\"AG1000G-BF-B\",\"coluzzii\",\"Burkina Faso\",\"BF-09\",\"Hauts-Bassins\",\"Houet\",\"Bana Village\",2014,7],[\"AB0327-C\",\"BF18-3\",\"AG1000G-BF-B\",\"coluzzii\",\"Burkina Faso\",\"BF-09\",\"Hauts-Bassins\",\"Houet\",\"Bana Village\",2014,7],[\"AB0410-C\",\"BF20-54\",\"AG1000G-BF-B\",\"coluzzii\",\"Burkina Faso\",\"BF-09\",\"Hauts-Bassins\",\"Houet\",\"Bana Village\",2014,7],[\"AB0370-C\",\"BF18-42\",\"AG1000G-BF-B\",\"coluzzii\",\"Burkina Faso\",\"BF-09\",\"Hauts-Bassins\",\"Houet\",\"Bana Village\",2014,7],[\"AB0398-C\",\"BF14-10\",\"AG1000G-BF-B\",\"coluzzii\",\"Burkina Faso\",\"BF-09\",\"Hauts-Bassins\",\"Houet\",\"Bana Village\",2014,7],[\"AB0359-C\",\"BF18-26\",\"AG1000G-BF-B\",\"coluzzii\",\"Burkina Faso\",\"BF-09\",\"Hauts-Bassins\",\"Houet\",\"Bana Village\",2014,7],[\"AB0523-C\",\"BF24-26\",\"AG1000G-BF-B\",\"coluzzii\",\"Burkina Faso\",\"BF-09\",\"Hauts-Bassins\",\"Houet\",\"Souroukoudinga\",2014,7],[\"AB0364-C\",\"BF18-33\",\"AG1000G-BF-B\",\"coluzzii\",\"Burkina Faso\",\"BF-09\",\"Hauts-Bassins\",\"Houet\",\"Bana Village\",2014,7],[\"AB0362-C\",\"BF18-31\",\"AG1000G-BF-B\",\"coluzzii\",\"Burkina Faso\",\"BF-09\",\"Hauts-Bassins\",\"Houet\",\"Bana Village\",2014,7],[\"AB0352-C\",\"BF18-46\",\"AG1000G-BF-B\",\"coluzzii\",\"Burkina Faso\",\"BF-09\",\"Hauts-Bassins\",\"Houet\",\"Bana Village\",2014,7],[\"AB0505-C\",\"BF13-13\",\"AG1000G-BF-B\",\"coluzzii\",\"Burkina Faso\",\"BF-09\",\"Hauts-Bassins\",\"Houet\",\"Souroukoudinga\",2014,7],[\"AB0361-C\",\"BF18-29\",\"AG1000G-BF-B\",\"coluzzii\",\"Burkina Faso\",\"BF-09\",\"Hauts-Bassins\",\"Houet\",\"Bana Village\",2014,7],[\"AB0372-C\",\"BF18-45\",\"AG1000G-BF-B\",\"coluzzii\",\"Burkina Faso\",\"BF-09\",\"Hauts-Bassins\",\"Houet\",\"Bana Village\",2014,7],[\"AB0334-C\",\"BF18-12\",\"AG1000G-BF-B\",\"coluzzii\",\"Burkina Faso\",\"BF-09\",\"Hauts-Bassins\",\"Houet\",\"Bana Village\",2014,7],[\"AB0365-C\",\"BF18-34\",\"AG1000G-BF-B\",\"coluzzii\",\"Burkina Faso\",\"BF-09\",\"Hauts-Bassins\",\"Houet\",\"Bana Village\",2014,7],[\"AB0358-C\",\"BF18-25\",\"AG1000G-BF-B\",\"coluzzii\",\"Burkina Faso\",\"BF-09\",\"Hauts-Bassins\",\"Houet\",\"Bana Village\",2014,7],[\"AB0348-C\",\"BF22-50\",\"AG1000G-BF-B\",\"coluzzii\",\"Burkina Faso\",\"BF-09\",\"Hauts-Bassins\",\"Houet\",\"Bana Village\",2014,7],[\"AB0371-C\",\"BF18-44\",\"AG1000G-BF-B\",\"coluzzii\",\"Burkina Faso\",\"BF-09\",\"Hauts-Bassins\",\"Houet\",\"Bana Village\",2014,7],[\"AB0397-C\",\"BF14-9\",\"AG1000G-BF-B\",\"coluzzii\",\"Burkina Faso\",\"BF-09\",\"Hauts-Bassins\",\"Houet\",\"Bana Village\",2014,7],[\"AB0404-C\",\"BF14-18\",\"AG1000G-BF-B\",\"coluzzii\",\"Burkina Faso\",\"BF-09\",\"Hauts-Bassins\",\"Houet\",\"Bana Village\",2014,7],[\"AB0329-C\",\"BF18-5\",\"AG1000G-BF-B\",\"coluzzii\",\"Burkina Faso\",\"BF-09\",\"Hauts-Bassins\",\"Houet\",\"Bana Village\",2014,7],[\"AB0503-C\",\"BF13-1\",\"AG1000G-BF-B\",\"coluzzii\",\"Burkina Faso\",\"BF-09\",\"Hauts-Bassins\",\"Houet\",\"Souroukoudinga\",2014,7],[\"AB0363-C\",\"BF18-32\",\"AG1000G-BF-B\",\"coluzzii\",\"Burkina Faso\",\"BF-09\",\"Hauts-Bassins\",\"Houet\",\"Bana Village\",2014,7],[\"AB0330-C\",\"BF18-6\",\"AG1000G-BF-B\",\"coluzzii\",\"Burkina Faso\",\"BF-09\",\"Hauts-Bassins\",\"Houet\",\"Bana Village\",2014,7],[\"AB0403-C\",\"BF14-16\",\"AG1000G-BF-B\",\"coluzzii\",\"Burkina Faso\",\"BF-09\",\"Hauts-Bassins\",\"Houet\",\"Bana Village\",2014,7],[\"AB0340-C\",\"BF18-15\",\"AG1000G-BF-B\",\"coluzzii\",\"Burkina Faso\",\"BF-09\",\"Hauts-Bassins\",\"Houet\",\"Bana Village\",2014,7],[\"AB0413-C\",\"BF20-59\",\"AG1000G-BF-B\",\"coluzzii\",\"Burkina Faso\",\"BF-09\",\"Hauts-Bassins\",\"Houet\",\"Bana Village\",2014,7],[\"AB0409-C\",\"BF14-21\",\"AG1000G-BF-B\",\"coluzzii\",\"Burkina Faso\",\"BF-09\",\"Hauts-Bassins\",\"Houet\",\"Bana Village\",2014,7],[\"AB0366-C\",\"BF18-35\",\"AG1000G-BF-B\",\"coluzzii\",\"Burkina Faso\",\"BF-09\",\"Hauts-Bassins\",\"Houet\",\"Bana Village\",2014,7],[\"AB0338-C\",\"BF18-13\",\"AG1000G-BF-B\",\"coluzzii\",\"Burkina Faso\",\"BF-09\",\"Hauts-Bassins\",\"Houet\",\"Bana Village\",2014,7],[\"AB0332-C\",\"BF18-10\",\"AG1000G-BF-B\",\"coluzzii\",\"Burkina Faso\",\"BF-09\",\"Hauts-Bassins\",\"Houet\",\"Bana Village\",2014,7],[\"AB0396-C\",\"BF14-8\",\"AG1000G-BF-B\",\"coluzzii\",\"Burkina Faso\",\"BF-09\",\"Hauts-Bassins\",\"Houet\",\"Bana Village\",2014,7],[\"AB0510-C\",\"BF24-56\",\"AG1000G-BF-B\",\"coluzzii\",\"Burkina Faso\",\"BF-09\",\"Hauts-Bassins\",\"Houet\",\"Souroukoudinga\",2014,7],[\"AB0328-C\",\"BF18-4\",\"AG1000G-BF-B\",\"coluzzii\",\"Burkina Faso\",\"BF-09\",\"Hauts-Bassins\",\"Houet\",\"Bana Village\",2014,7],[\"AB0399-C\",\"BF14-11\",\"AG1000G-BF-B\",\"coluzzii\",\"Burkina Faso\",\"BF-09\",\"Hauts-Bassins\",\"Houet\",\"Bana Village\",2014,7],[\"AB0351-C\",\"BF23-6\",\"AG1000G-BF-B\",\"coluzzii\",\"Burkina Faso\",\"BF-09\",\"Hauts-Bassins\",\"Houet\",\"Bana Village\",2014,7],[\"AB0356-C\",\"BF18-23\",\"AG1000G-BF-B\",\"coluzzii\",\"Burkina Faso\",\"BF-09\",\"Hauts-Bassins\",\"Houet\",\"Bana Village\",2014,7],[\"AB0355-C\",\"BF18-22\",\"AG1000G-BF-B\",\"coluzzii\",\"Burkina Faso\",\"BF-09\",\"Hauts-Bassins\",\"Houet\",\"Bana Village\",2014,7],[\"AB0367-C\",\"BF18-36\",\"AG1000G-BF-B\",\"coluzzii\",\"Burkina Faso\",\"BF-09\",\"Hauts-Bassins\",\"Houet\",\"Bana Village\",2014,7],[\"AB0354-C\",\"BF18-21\",\"AG1000G-BF-B\",\"coluzzii\",\"Burkina Faso\",\"BF-09\",\"Hauts-Bassins\",\"Houet\",\"Bana Village\",2014,7],[\"AB0360-C\",\"BF18-28\",\"AG1000G-BF-B\",\"coluzzii\",\"Burkina Faso\",\"BF-09\",\"Hauts-Bassins\",\"Houet\",\"Bana Village\",2014,7],[\"AB0341-C\",\"BF18-16\",\"AG1000G-BF-B\",\"coluzzii\",\"Burkina Faso\",\"BF-09\",\"Hauts-Bassins\",\"Houet\",\"Bana Village\",2014,7],[\"AB0331-C\",\"BF18-9\",\"AG1000G-BF-B\",\"coluzzii\",\"Burkina Faso\",\"BF-09\",\"Hauts-Bassins\",\"Houet\",\"Bana Village\",2014,7],[\"AB0326-C\",\"BF18-1\",\"AG1000G-BF-B\",\"coluzzii\",\"Burkina Faso\",\"BF-09\",\"Hauts-Bassins\",\"Houet\",\"Bana Village\",2014,7],[\"AB0411-C\",\"BF20-56\",\"AG1000G-BF-B\",\"coluzzii\",\"Burkina Faso\",\"BF-09\",\"Hauts-Bassins\",\"Houet\",\"Bana Village\",2014,7],[\"AB0357-C\",\"BF18-24\",\"AG1000G-BF-B\",\"coluzzii\",\"Burkina Faso\",\"BF-09\",\"Hauts-Bassins\",\"Houet\",\"Bana Village\",2014,7],[\"AB0508-C\",\"BF13-38\",\"AG1000G-BF-B\",\"coluzzii\",\"Burkina Faso\",\"BF-09\",\"Hauts-Bassins\",\"Houet\",\"Souroukoudinga\",2014,7],[\"AB0339-C\",\"BF18-14\",\"AG1000G-BF-B\",\"coluzzii\",\"Burkina Faso\",\"BF-09\",\"Hauts-Bassins\",\"Houet\",\"Bana Village\",2014,7],[\"AB0509-C\",\"BF24-55\",\"AG1000G-BF-B\",\"coluzzii\",\"Burkina Faso\",\"BF-09\",\"Hauts-Bassins\",\"Houet\",\"Souroukoudinga\",2014,7],[\"AB0400-C\",\"BF14-12\",\"AG1000G-BF-B\",\"coluzzii\",\"Burkina Faso\",\"BF-09\",\"Hauts-Bassins\",\"Houet\",\"Bana Village\",2014,7],[\"AB0337-C\",\"BF22-15\",\"AG1000G-BF-B\",\"coluzzii\",\"Burkina Faso\",\"BF-09\",\"Hauts-Bassins\",\"Houet\",\"Bana Village\",2014,7],[\"AB0368-C\",\"BF18-37\",\"AG1000G-BF-B\",\"coluzzii\",\"Burkina Faso\",\"BF-09\",\"Hauts-Bassins\",\"Houet\",\"Bana Village\",2014,7]],\"hovertemplate\":\"\\u003cb\\u003e%{hovertext}\\u003c\\u002fb\\u003e\\u003cbr\\u003e\\u003cbr\\u003etaxon=%{customdata[3]}\\u003cbr\\u003ex=%{x}\\u003cbr\\u003ey=%{y}\\u003cbr\\u003esample_id=%{customdata[0]}\\u003cbr\\u003epartner_sample_id=%{customdata[1]}\\u003cbr\\u003esample_set=%{customdata[2]}\\u003cbr\\u003ecountry=%{customdata[4]}\\u003cbr\\u003eadmin1_iso=%{customdata[5]}\\u003cbr\\u003eadmin1_name=%{customdata[6]}\\u003cbr\\u003eadmin2_name=%{customdata[7]}\\u003cbr\\u003elocation=%{customdata[8]}\\u003cbr\\u003eyear=%{customdata[9]}\\u003cbr\\u003emonth=%{customdata[10]}\\u003cextra\\u003e\\u003c\\u002fextra\\u003e\",\"hovertext\":[\"AB0408-C\",\"AB0369-C\",\"AB0327-C\",\"AB0410-C\",\"AB0370-C\",\"AB0398-C\",\"AB0359-C\",\"AB0523-C\",\"AB0364-C\",\"AB0362-C\",\"AB0352-C\",\"AB0505-C\",\"AB0361-C\",\"AB0372-C\",\"AB0334-C\",\"AB0365-C\",\"AB0358-C\",\"AB0348-C\",\"AB0371-C\",\"AB0397-C\",\"AB0404-C\",\"AB0329-C\",\"AB0503-C\",\"AB0363-C\",\"AB0330-C\",\"AB0403-C\",\"AB0340-C\",\"AB0413-C\",\"AB0409-C\",\"AB0366-C\",\"AB0338-C\",\"AB0332-C\",\"AB0396-C\",\"AB0510-C\",\"AB0328-C\",\"AB0399-C\",\"AB0351-C\",\"AB0356-C\",\"AB0355-C\",\"AB0367-C\",\"AB0354-C\",\"AB0360-C\",\"AB0341-C\",\"AB0331-C\",\"AB0326-C\",\"AB0411-C\",\"AB0357-C\",\"AB0508-C\",\"AB0339-C\",\"AB0509-C\",\"AB0400-C\",\"AB0337-C\",\"AB0368-C\"],\"legendgroup\":\"coluzzii\",\"marker\":{\"color\":\"rgb(229, 134, 6)\",\"size\":5,\"symbol\":\"circle\"},\"mode\":\"markers\",\"name\":\"coluzzii\",\"orientation\":\"v\",\"showlegend\":true,\"x\":{\"dtype\":\"f4\",\"bdata\":\"hAGExGvbZcNxYGhDc70xRBI4kUQ39tBE12IDRXJ7JEULhTlFwQtaRdOoc0W8wYRFZ7qRRQFHnkX2H6hFDaCyRY4gvEUNscRFXznORZxA1kXAHdxFpZ3dRXpR5kX7E+hFE+LqRQG77kX3\\u002fe9FUm7wRaXb80U1\\u002fu1FOg\\u002ftRWCQ6kUR8uRFPvPfReUZ3UUVv9FFkEjNRat2w0UbGr1F7LuxRd7ppkUMiJ1FOjKRRWZMhkVYgG9FV8lWRRwRPkWhsh9F1wwEReG1zkR+opBEs2U0RCMyeEM=\"},\"xaxis\":\"x\",\"y\":{\"dtype\":\"f4\",\"bdata\":\"nb71xSkD7MXevuzF84HvxQKk6sWcce7FTFXnxU1u6cUdztvFDHjZxdAF0sWjcMfFl4LAxQ4auMUIF63F\\u002fauixe7wlsVrCIvFWT5\\u002fxVAiZsU2RUrFo9UrxV\\u002faEsUvo+nEma2wxCT6a8QDPe7DYx2AwPG\\u002f7kNXcGlElRGyRN1s60S2XRFFbVctRbLhSkXjJGFFiLB9RWYaikW0rZdFfhqiRQkOrEWWxrdFXfm\\u002fRSR6ykWq0s5F4PDXRWKd4EWdwuJFGL3nRS0d7EW7VehFf3LxRcOS80U=\"},\"yaxis\":\"y\",\"type\":\"scatter\"},{\"customdata\":[[\"AB0457-C\",\"BF17-34\",\"AG1000G-BF-B\",\"arabiensis\",\"Burkina Faso\",\"BF-09\",\"Hauts-Bassins\",\"Houet\",\"Pala\",2014,7],[\"AB0333-C\",\"BF18-11\",\"AG1000G-BF-B\",\"arabiensis\",\"Burkina Faso\",\"BF-09\",\"Hauts-Bassins\",\"Houet\",\"Bana Village\",2014,7],[\"AB0502-C\",\"BF17-15\",\"AG1000G-BF-B\",\"arabiensis\",\"Burkina Faso\",\"BF-09\",\"Hauts-Bassins\",\"Houet\",\"Pala\",2014,7]],\"hovertemplate\":\"\\u003cb\\u003e%{hovertext}\\u003c\\u002fb\\u003e\\u003cbr\\u003e\\u003cbr\\u003etaxon=%{customdata[3]}\\u003cbr\\u003ex=%{x}\\u003cbr\\u003ey=%{y}\\u003cbr\\u003esample_id=%{customdata[0]}\\u003cbr\\u003epartner_sample_id=%{customdata[1]}\\u003cbr\\u003esample_set=%{customdata[2]}\\u003cbr\\u003ecountry=%{customdata[4]}\\u003cbr\\u003eadmin1_iso=%{customdata[5]}\\u003cbr\\u003eadmin1_name=%{customdata[6]}\\u003cbr\\u003eadmin2_name=%{customdata[7]}\\u003cbr\\u003elocation=%{customdata[8]}\\u003cbr\\u003eyear=%{customdata[9]}\\u003cbr\\u003emonth=%{customdata[10]}\\u003cextra\\u003e\\u003c\\u002fextra\\u003e\",\"hovertext\":[\"AB0457-C\",\"AB0333-C\",\"AB0502-C\"],\"legendgroup\":\"arabiensis\",\"marker\":{\"color\":\"rgb(82, 188, 163)\",\"size\":5,\"symbol\":\"circle\"},\"mode\":\"markers\",\"name\":\"arabiensis\",\"orientation\":\"v\",\"showlegend\":true,\"x\":{\"dtype\":\"f4\",\"bdata\":\"wDmGxazffsX4i27F\"},\"xaxis\":\"x\",\"y\":{\"dtype\":\"f4\",\"bdata\":\"JH3txZZ27sX44OzF\"},\"yaxis\":\"y\",\"type\":\"scatter\"},{\"customdata\":[[\"AB0524-C\",\"BF24-27\",\"AG1000G-BF-B\",\"gambiae\",\"Burkina Faso\",\"BF-09\",\"Hauts-Bassins\",\"Houet\",\"Souroukoudinga\",2014,7],[\"AB0386-C\",\"BF18-39\",\"AG1000G-BF-B\",\"gambiae\",\"Burkina Faso\",\"BF-09\",\"Hauts-Bassins\",\"Houet\",\"Bana Village\",2014,7],[\"AB0459-C\",\"BF16-2\",\"AG1000G-BF-B\",\"gambiae\",\"Burkina Faso\",\"BF-09\",\"Hauts-Bassins\",\"Houet\",\"Pala\",2014,7],[\"AB0435-C\",\"BF14-17\",\"AG1000G-BF-B\",\"gambiae\",\"Burkina Faso\",\"BF-09\",\"Hauts-Bassins\",\"Houet\",\"Bana Village\",2014,7],[\"AB0378-C\",\"BF22-57\",\"AG1000G-BF-B\",\"gambiae\",\"Burkina Faso\",\"BF-09\",\"Hauts-Bassins\",\"Houet\",\"Bana Village\",2014,7],[\"AB0439-C\",\"BF14-22\",\"AG1000G-BF-B\",\"gambiae\",\"Burkina Faso\",\"BF-09\",\"Hauts-Bassins\",\"Houet\",\"Bana Village\",2014,7],[\"AB0432-C\",\"BF14-3\",\"AG1000G-BF-B\",\"gambiae\",\"Burkina Faso\",\"BF-09\",\"Hauts-Bassins\",\"Houet\",\"Bana Village\",2014,7],[\"AB0527-C\",\"BF24-30\",\"AG1000G-BF-B\",\"gambiae\",\"Burkina Faso\",\"BF-09\",\"Hauts-Bassins\",\"Houet\",\"Souroukoudinga\",2014,7],[\"AB0525-C\",\"BF24-28\",\"AG1000G-BF-B\",\"gambiae\",\"Burkina Faso\",\"BF-09\",\"Hauts-Bassins\",\"Houet\",\"Souroukoudinga\",2014,7],[\"AB0374-C\",\"BF18-7\",\"AG1000G-BF-B\",\"gambiae\",\"Burkina Faso\",\"BF-09\",\"Hauts-Bassins\",\"Houet\",\"Bana Village\",2014,7],[\"AB0433-C\",\"BF14-4\",\"AG1000G-BF-B\",\"gambiae\",\"Burkina Faso\",\"BF-09\",\"Hauts-Bassins\",\"Houet\",\"Bana Village\",2014,7],[\"AB0389-C\",\"BF18-43\",\"AG1000G-BF-B\",\"gambiae\",\"Burkina Faso\",\"BF-09\",\"Hauts-Bassins\",\"Houet\",\"Bana Village\",2014,7],[\"AB0529-C\",\"BF13-3\",\"AG1000G-BF-B\",\"gambiae\",\"Burkina Faso\",\"BF-09\",\"Hauts-Bassins\",\"Houet\",\"Souroukoudinga\",2014,7],[\"AB0469-C\",\"BF17-18\",\"AG1000G-BF-B\",\"gambiae\",\"Burkina Faso\",\"BF-09\",\"Hauts-Bassins\",\"Houet\",\"Pala\",2014,7],[\"AB0528-C\",\"BF13-2\",\"AG1000G-BF-B\",\"gambiae\",\"Burkina Faso\",\"BF-09\",\"Hauts-Bassins\",\"Houet\",\"Souroukoudinga\",2014,7],[\"AB0373-C\",\"BF18-2\",\"AG1000G-BF-B\",\"gambiae\",\"Burkina Faso\",\"BF-09\",\"Hauts-Bassins\",\"Houet\",\"Bana Village\",2014,7],[\"AB0473-C\",\"BF17-23\",\"AG1000G-BF-B\",\"gambiae\",\"Burkina Faso\",\"BF-09\",\"Hauts-Bassins\",\"Houet\",\"Pala\",2014,7],[\"AB0517-C\",\"BF13-42\",\"AG1000G-BF-B\",\"gambiae\",\"Burkina Faso\",\"BF-09\",\"Hauts-Bassins\",\"Houet\",\"Souroukoudinga\",2014,7],[\"AB0533-C\",\"BF13-18\",\"AG1000G-BF-B\",\"gambiae\",\"Burkina Faso\",\"BF-09\",\"Hauts-Bassins\",\"Houet\",\"Souroukoudinga\",2014,7],[\"AB0530-C\",\"BF13-4\",\"AG1000G-BF-B\",\"gambiae\",\"Burkina Faso\",\"BF-09\",\"Hauts-Bassins\",\"Houet\",\"Souroukoudinga\",2014,7],[\"AB0468-C\",\"BF17-17\",\"AG1000G-BF-B\",\"gambiae\",\"Burkina Faso\",\"BF-09\",\"Hauts-Bassins\",\"Houet\",\"Pala\",2014,7],[\"AB0465-C\",\"BF17-3\",\"AG1000G-BF-B\",\"gambiae\",\"Burkina Faso\",\"BF-09\",\"Hauts-Bassins\",\"Houet\",\"Pala\",2014,7],[\"AB0463-C\",\"BF17-1\",\"AG1000G-BF-B\",\"gambiae\",\"Burkina Faso\",\"BF-09\",\"Hauts-Bassins\",\"Houet\",\"Pala\",2014,7],[\"AB0537-C\",\"BF13-32\",\"AG1000G-BF-B\",\"gambiae\",\"Burkina Faso\",\"BF-09\",\"Hauts-Bassins\",\"Houet\",\"Souroukoudinga\",2014,7],[\"AB0440-C\",\"BF14-23\",\"AG1000G-BF-B\",\"gambiae\",\"Burkina Faso\",\"BF-09\",\"Hauts-Bassins\",\"Houet\",\"Bana Village\",2014,7],[\"AB0472-C\",\"BF17-22\",\"AG1000G-BF-B\",\"gambiae\",\"Burkina Faso\",\"BF-09\",\"Hauts-Bassins\",\"Houet\",\"Pala\",2014,7],[\"AB0466-C\",\"BF17-4\",\"AG1000G-BF-B\",\"gambiae\",\"Burkina Faso\",\"BF-09\",\"Hauts-Bassins\",\"Houet\",\"Pala\",2014,7],[\"AB0504-C\",\"BF13-6\",\"AG1000G-BF-B\",\"gambiae\",\"Burkina Faso\",\"BF-09\",\"Hauts-Bassins\",\"Houet\",\"Souroukoudinga\",2014,7],[\"AB0526-C\",\"BF24-29\",\"AG1000G-BF-B\",\"gambiae\",\"Burkina Faso\",\"BF-09\",\"Hauts-Bassins\",\"Houet\",\"Souroukoudinga\",2014,7],[\"AB0460-C\",\"BF16-3\",\"AG1000G-BF-B\",\"gambiae\",\"Burkina Faso\",\"BF-09\",\"Hauts-Bassins\",\"Houet\",\"Pala\",2014,7],[\"AB0436-C\",\"BF14-19\",\"AG1000G-BF-B\",\"gambiae\",\"Burkina Faso\",\"BF-09\",\"Hauts-Bassins\",\"Houet\",\"Bana Village\",2014,7],[\"AB0375-C\",\"BF18-8\",\"AG1000G-BF-B\",\"gambiae\",\"Burkina Faso\",\"BF-09\",\"Hauts-Bassins\",\"Houet\",\"Bana Village\",2014,7],[\"AB0536-C\",\"BF13-31\",\"AG1000G-BF-B\",\"gambiae\",\"Burkina Faso\",\"BF-09\",\"Hauts-Bassins\",\"Houet\",\"Souroukoudinga\",2014,7],[\"AB0467-C\",\"BF17-5\",\"AG1000G-BF-B\",\"gambiae\",\"Burkina Faso\",\"BF-09\",\"Hauts-Bassins\",\"Houet\",\"Pala\",2014,7],[\"AB0388-C\",\"BF18-41\",\"AG1000G-BF-B\",\"gambiae\",\"Burkina Faso\",\"BF-09\",\"Hauts-Bassins\",\"Houet\",\"Bana Village\",2014,7],[\"AB0532-C\",\"BF13-14\",\"AG1000G-BF-B\",\"gambiae\",\"Burkina Faso\",\"BF-09\",\"Hauts-Bassins\",\"Houet\",\"Souroukoudinga\",2014,7],[\"AB0381-C\",\"BF18-18\",\"AG1000G-BF-B\",\"gambiae\",\"Burkina Faso\",\"BF-09\",\"Hauts-Bassins\",\"Houet\",\"Bana Village\",2014,7],[\"AB0474-C\",\"BF17-24\",\"AG1000G-BF-B\",\"gambiae\",\"Burkina Faso\",\"BF-09\",\"Hauts-Bassins\",\"Houet\",\"Pala\",2014,7],[\"AB0471-C\",\"BF17-21\",\"AG1000G-BF-B\",\"gambiae\",\"Burkina Faso\",\"BF-09\",\"Hauts-Bassins\",\"Houet\",\"Pala\",2014,7],[\"AB0458-C\",\"BF16-1\",\"AG1000G-BF-B\",\"gambiae\",\"Burkina Faso\",\"BF-09\",\"Hauts-Bassins\",\"Houet\",\"Pala\",2014,7],[\"AB0462-C\",\"BF16-7\",\"AG1000G-BF-B\",\"gambiae\",\"Burkina Faso\",\"BF-09\",\"Hauts-Bassins\",\"Houet\",\"Pala\",2014,7],[\"AB0379-C\",\"BF22-59\",\"AG1000G-BF-B\",\"gambiae\",\"Burkina Faso\",\"BF-09\",\"Hauts-Bassins\",\"Houet\",\"Bana Village\",2014,7],[\"AB0531-C\",\"BF13-8\",\"AG1000G-BF-B\",\"gambiae\",\"Burkina Faso\",\"BF-09\",\"Hauts-Bassins\",\"Houet\",\"Souroukoudinga\",2014,7],[\"AB0477-C\",\"BF26-60\",\"AG1000G-BF-B\",\"gambiae\",\"Burkina Faso\",\"BF-09\",\"Hauts-Bassins\",\"Houet\",\"Pala\",2014,7],[\"AB0470-C\",\"BF17-20\",\"AG1000G-BF-B\",\"gambiae\",\"Burkina Faso\",\"BF-09\",\"Hauts-Bassins\",\"Houet\",\"Pala\",2014,7],[\"AB0538-C\",\"BF13-33\",\"AG1000G-BF-B\",\"gambiae\",\"Burkina Faso\",\"BF-09\",\"Hauts-Bassins\",\"Houet\",\"Souroukoudinga\",2014,7]],\"hovertemplate\":\"\\u003cb\\u003e%{hovertext}\\u003c\\u002fb\\u003e\\u003cbr\\u003e\\u003cbr\\u003etaxon=%{customdata[3]}\\u003cbr\\u003ex=%{x}\\u003cbr\\u003ey=%{y}\\u003cbr\\u003esample_id=%{customdata[0]}\\u003cbr\\u003epartner_sample_id=%{customdata[1]}\\u003cbr\\u003esample_set=%{customdata[2]}\\u003cbr\\u003ecountry=%{customdata[4]}\\u003cbr\\u003eadmin1_iso=%{customdata[5]}\\u003cbr\\u003eadmin1_name=%{customdata[6]}\\u003cbr\\u003eadmin2_name=%{customdata[7]}\\u003cbr\\u003elocation=%{customdata[8]}\\u003cbr\\u003eyear=%{customdata[9]}\\u003cbr\\u003emonth=%{customdata[10]}\\u003cextra\\u003e\\u003c\\u002fextra\\u003e\",\"hovertext\":[\"AB0524-C\",\"AB0386-C\",\"AB0459-C\",\"AB0435-C\",\"AB0378-C\",\"AB0439-C\",\"AB0432-C\",\"AB0527-C\",\"AB0525-C\",\"AB0374-C\",\"AB0433-C\",\"AB0389-C\",\"AB0529-C\",\"AB0469-C\",\"AB0528-C\",\"AB0373-C\",\"AB0473-C\",\"AB0517-C\",\"AB0533-C\",\"AB0530-C\",\"AB0468-C\",\"AB0465-C\",\"AB0463-C\",\"AB0537-C\",\"AB0440-C\",\"AB0472-C\",\"AB0466-C\",\"AB0504-C\",\"AB0526-C\",\"AB0460-C\",\"AB0436-C\",\"AB0375-C\",\"AB0536-C\",\"AB0467-C\",\"AB0388-C\",\"AB0532-C\",\"AB0381-C\",\"AB0474-C\",\"AB0471-C\",\"AB0458-C\",\"AB0462-C\",\"AB0379-C\",\"AB0531-C\",\"AB0477-C\",\"AB0470-C\",\"AB0538-C\"],\"legendgroup\":\"gambiae\",\"marker\":{\"color\":\"rgb(93, 105, 177)\",\"size\":5,\"symbol\":\"circle\"},\"mode\":\"markers\",\"name\":\"gambiae\",\"orientation\":\"v\",\"showlegend\":true,\"x\":{\"dtype\":\"f4\",\"bdata\":\"1CdjxJZdpcSbTt7E1ygNxarXKMVj4EXFy21hxbG5dcWTw4fFdk6TxYfQncUqG6rF16q4xXYCv8VflsrFXtLRxQ352sU1k+HFDq7lxS8r7MVI5\\u002fLFpWMAxmTr\\u002fsVnsfvFGRL\\u002fxTEM\\u002fsVjGgDGvOn9xXnj+cWuYfbFwlbyxaI18sWciefFuubjxaJG28UMONPFh\\u002fnKxTfqxsUfXcDFeGOxxfxspcVMZpHFxHI3xduBHMWW\\u002fATFZlXJxA==\"},\"xaxis\":\"x\",\"y\":{\"dtype\":\"f4\",\"bdata\":\"lmfxRdDr8kVOqOlFlcnqRefp50VP3ONFPavfRbQf00VIecxF6H3ERUtyukXEsLNF3MqtRRYDoEUbRZZFJPqJRfz4fUURUWRFO6JIRezsLUWmahRF8kLyRNy4v0SCDntEtNIJRLPgnkI0qLvDmn9PxFS4n8SY+NjEN6kHxXYxJsWn4jzFuu1YxWErcMUFEYTFn0mQxRS4o8Wmv67FQf6zxd+lvcWVF8DFH1nmxSs58MVJjvPFQ0XzxQ==\"},\"yaxis\":\"y\",\"type\":\"scatter\"}],                        {\"template\":{\"data\":{\"barpolar\":[{\"marker\":{\"line\":{\"color\":\"white\",\"width\":0.5},\"pattern\":{\"fillmode\":\"overlay\",\"size\":10,\"solidity\":0.2}},\"type\":\"barpolar\"}],\"bar\":[{\"error_x\":{\"color\":\"rgb(36,36,36)\"},\"error_y\":{\"color\":\"rgb(36,36,36)\"},\"marker\":{\"line\":{\"color\":\"white\",\"width\":0.5},\"pattern\":{\"fillmode\":\"overlay\",\"size\":10,\"solidity\":0.2}},\"type\":\"bar\"}],\"carpet\":[{\"aaxis\":{\"endlinecolor\":\"rgb(36,36,36)\",\"gridcolor\":\"white\",\"linecolor\":\"white\",\"minorgridcolor\":\"white\",\"startlinecolor\":\"rgb(36,36,36)\"},\"baxis\":{\"endlinecolor\":\"rgb(36,36,36)\",\"gridcolor\":\"white\",\"linecolor\":\"white\",\"minorgridcolor\":\"white\",\"startlinecolor\":\"rgb(36,36,36)\"},\"type\":\"carpet\"}],\"choropleth\":[{\"colorbar\":{\"outlinewidth\":1,\"tickcolor\":\"rgb(36,36,36)\",\"ticks\":\"outside\"},\"type\":\"choropleth\"}],\"contourcarpet\":[{\"colorbar\":{\"outlinewidth\":1,\"tickcolor\":\"rgb(36,36,36)\",\"ticks\":\"outside\"},\"type\":\"contourcarpet\"}],\"contour\":[{\"colorbar\":{\"outlinewidth\":1,\"tickcolor\":\"rgb(36,36,36)\",\"ticks\":\"outside\"},\"colorscale\":[[0.0,\"#440154\"],[0.1111111111111111,\"#482878\"],[0.2222222222222222,\"#3e4989\"],[0.3333333333333333,\"#31688e\"],[0.4444444444444444,\"#26828e\"],[0.5555555555555556,\"#1f9e89\"],[0.6666666666666666,\"#35b779\"],[0.7777777777777778,\"#6ece58\"],[0.8888888888888888,\"#b5de2b\"],[1.0,\"#fde725\"]],\"type\":\"contour\"}],\"heatmap\":[{\"colorbar\":{\"outlinewidth\":1,\"tickcolor\":\"rgb(36,36,36)\",\"ticks\":\"outside\"},\"colorscale\":[[0.0,\"#440154\"],[0.1111111111111111,\"#482878\"],[0.2222222222222222,\"#3e4989\"],[0.3333333333333333,\"#31688e\"],[0.4444444444444444,\"#26828e\"],[0.5555555555555556,\"#1f9e89\"],[0.6666666666666666,\"#35b779\"],[0.7777777777777778,\"#6ece58\"],[0.8888888888888888,\"#b5de2b\"],[1.0,\"#fde725\"]],\"type\":\"heatmap\"}],\"histogram2dcontour\":[{\"colorbar\":{\"outlinewidth\":1,\"tickcolor\":\"rgb(36,36,36)\",\"ticks\":\"outside\"},\"colorscale\":[[0.0,\"#440154\"],[0.1111111111111111,\"#482878\"],[0.2222222222222222,\"#3e4989\"],[0.3333333333333333,\"#31688e\"],[0.4444444444444444,\"#26828e\"],[0.5555555555555556,\"#1f9e89\"],[0.6666666666666666,\"#35b779\"],[0.7777777777777778,\"#6ece58\"],[0.8888888888888888,\"#b5de2b\"],[1.0,\"#fde725\"]],\"type\":\"histogram2dcontour\"}],\"histogram2d\":[{\"colorbar\":{\"outlinewidth\":1,\"tickcolor\":\"rgb(36,36,36)\",\"ticks\":\"outside\"},\"colorscale\":[[0.0,\"#440154\"],[0.1111111111111111,\"#482878\"],[0.2222222222222222,\"#3e4989\"],[0.3333333333333333,\"#31688e\"],[0.4444444444444444,\"#26828e\"],[0.5555555555555556,\"#1f9e89\"],[0.6666666666666666,\"#35b779\"],[0.7777777777777778,\"#6ece58\"],[0.8888888888888888,\"#b5de2b\"],[1.0,\"#fde725\"]],\"type\":\"histogram2d\"}],\"histogram\":[{\"marker\":{\"line\":{\"color\":\"white\",\"width\":0.6}},\"type\":\"histogram\"}],\"mesh3d\":[{\"colorbar\":{\"outlinewidth\":1,\"tickcolor\":\"rgb(36,36,36)\",\"ticks\":\"outside\"},\"type\":\"mesh3d\"}],\"parcoords\":[{\"line\":{\"colorbar\":{\"outlinewidth\":1,\"tickcolor\":\"rgb(36,36,36)\",\"ticks\":\"outside\"}},\"type\":\"parcoords\"}],\"pie\":[{\"automargin\":true,\"type\":\"pie\"}],\"scatter3d\":[{\"line\":{\"colorbar\":{\"outlinewidth\":1,\"tickcolor\":\"rgb(36,36,36)\",\"ticks\":\"outside\"}},\"marker\":{\"colorbar\":{\"outlinewidth\":1,\"tickcolor\":\"rgb(36,36,36)\",\"ticks\":\"outside\"}},\"type\":\"scatter3d\"}],\"scattercarpet\":[{\"marker\":{\"colorbar\":{\"outlinewidth\":1,\"tickcolor\":\"rgb(36,36,36)\",\"ticks\":\"outside\"}},\"type\":\"scattercarpet\"}],\"scattergeo\":[{\"marker\":{\"colorbar\":{\"outlinewidth\":1,\"tickcolor\":\"rgb(36,36,36)\",\"ticks\":\"outside\"}},\"type\":\"scattergeo\"}],\"scattergl\":[{\"marker\":{\"colorbar\":{\"outlinewidth\":1,\"tickcolor\":\"rgb(36,36,36)\",\"ticks\":\"outside\"}},\"type\":\"scattergl\"}],\"scattermapbox\":[{\"marker\":{\"colorbar\":{\"outlinewidth\":1,\"tickcolor\":\"rgb(36,36,36)\",\"ticks\":\"outside\"}},\"type\":\"scattermapbox\"}],\"scattermap\":[{\"marker\":{\"colorbar\":{\"outlinewidth\":1,\"tickcolor\":\"rgb(36,36,36)\",\"ticks\":\"outside\"}},\"type\":\"scattermap\"}],\"scatterpolargl\":[{\"marker\":{\"colorbar\":{\"outlinewidth\":1,\"tickcolor\":\"rgb(36,36,36)\",\"ticks\":\"outside\"}},\"type\":\"scatterpolargl\"}],\"scatterpolar\":[{\"marker\":{\"colorbar\":{\"outlinewidth\":1,\"tickcolor\":\"rgb(36,36,36)\",\"ticks\":\"outside\"}},\"type\":\"scatterpolar\"}],\"scatter\":[{\"fillpattern\":{\"fillmode\":\"overlay\",\"size\":10,\"solidity\":0.2},\"type\":\"scatter\"}],\"scatterternary\":[{\"marker\":{\"colorbar\":{\"outlinewidth\":1,\"tickcolor\":\"rgb(36,36,36)\",\"ticks\":\"outside\"}},\"type\":\"scatterternary\"}],\"surface\":[{\"colorbar\":{\"outlinewidth\":1,\"tickcolor\":\"rgb(36,36,36)\",\"ticks\":\"outside\"},\"colorscale\":[[0.0,\"#440154\"],[0.1111111111111111,\"#482878\"],[0.2222222222222222,\"#3e4989\"],[0.3333333333333333,\"#31688e\"],[0.4444444444444444,\"#26828e\"],[0.5555555555555556,\"#1f9e89\"],[0.6666666666666666,\"#35b779\"],[0.7777777777777778,\"#6ece58\"],[0.8888888888888888,\"#b5de2b\"],[1.0,\"#fde725\"]],\"type\":\"surface\"}],\"table\":[{\"cells\":{\"fill\":{\"color\":\"rgb(237,237,237)\"},\"line\":{\"color\":\"white\"}},\"header\":{\"fill\":{\"color\":\"rgb(217,217,217)\"},\"line\":{\"color\":\"white\"}},\"type\":\"table\"}]},\"layout\":{\"annotationdefaults\":{\"arrowhead\":0,\"arrowwidth\":1},\"autotypenumbers\":\"strict\",\"coloraxis\":{\"colorbar\":{\"outlinewidth\":1,\"tickcolor\":\"rgb(36,36,36)\",\"ticks\":\"outside\"}},\"colorscale\":{\"diverging\":[[0.0,\"rgb(103,0,31)\"],[0.1,\"rgb(178,24,43)\"],[0.2,\"rgb(214,96,77)\"],[0.3,\"rgb(244,165,130)\"],[0.4,\"rgb(253,219,199)\"],[0.5,\"rgb(247,247,247)\"],[0.6,\"rgb(209,229,240)\"],[0.7,\"rgb(146,197,222)\"],[0.8,\"rgb(67,147,195)\"],[0.9,\"rgb(33,102,172)\"],[1.0,\"rgb(5,48,97)\"]],\"sequential\":[[0.0,\"#440154\"],[0.1111111111111111,\"#482878\"],[0.2222222222222222,\"#3e4989\"],[0.3333333333333333,\"#31688e\"],[0.4444444444444444,\"#26828e\"],[0.5555555555555556,\"#1f9e89\"],[0.6666666666666666,\"#35b779\"],[0.7777777777777778,\"#6ece58\"],[0.8888888888888888,\"#b5de2b\"],[1.0,\"#fde725\"]],\"sequentialminus\":[[0.0,\"#440154\"],[0.1111111111111111,\"#482878\"],[0.2222222222222222,\"#3e4989\"],[0.3333333333333333,\"#31688e\"],[0.4444444444444444,\"#26828e\"],[0.5555555555555556,\"#1f9e89\"],[0.6666666666666666,\"#35b779\"],[0.7777777777777778,\"#6ece58\"],[0.8888888888888888,\"#b5de2b\"],[1.0,\"#fde725\"]]},\"colorway\":[\"#1F77B4\",\"#FF7F0E\",\"#2CA02C\",\"#D62728\",\"#9467BD\",\"#8C564B\",\"#E377C2\",\"#7F7F7F\",\"#BCBD22\",\"#17BECF\"],\"font\":{\"color\":\"rgb(36,36,36)\"},\"geo\":{\"bgcolor\":\"white\",\"lakecolor\":\"white\",\"landcolor\":\"white\",\"showlakes\":true,\"showland\":true,\"subunitcolor\":\"white\"},\"hoverlabel\":{\"align\":\"left\"},\"hovermode\":\"closest\",\"mapbox\":{\"style\":\"light\"},\"paper_bgcolor\":\"white\",\"plot_bgcolor\":\"white\",\"polar\":{\"angularaxis\":{\"gridcolor\":\"rgb(232,232,232)\",\"linecolor\":\"rgb(36,36,36)\",\"showgrid\":false,\"showline\":true,\"ticks\":\"outside\"},\"bgcolor\":\"white\",\"radialaxis\":{\"gridcolor\":\"rgb(232,232,232)\",\"linecolor\":\"rgb(36,36,36)\",\"showgrid\":false,\"showline\":true,\"ticks\":\"outside\"}},\"scene\":{\"xaxis\":{\"backgroundcolor\":\"white\",\"gridcolor\":\"rgb(232,232,232)\",\"gridwidth\":2,\"linecolor\":\"rgb(36,36,36)\",\"showbackground\":true,\"showgrid\":false,\"showline\":true,\"ticks\":\"outside\",\"zeroline\":false,\"zerolinecolor\":\"rgb(36,36,36)\"},\"yaxis\":{\"backgroundcolor\":\"white\",\"gridcolor\":\"rgb(232,232,232)\",\"gridwidth\":2,\"linecolor\":\"rgb(36,36,36)\",\"showbackground\":true,\"showgrid\":false,\"showline\":true,\"ticks\":\"outside\",\"zeroline\":false,\"zerolinecolor\":\"rgb(36,36,36)\"},\"zaxis\":{\"backgroundcolor\":\"white\",\"gridcolor\":\"rgb(232,232,232)\",\"gridwidth\":2,\"linecolor\":\"rgb(36,36,36)\",\"showbackground\":true,\"showgrid\":false,\"showline\":true,\"ticks\":\"outside\",\"zeroline\":false,\"zerolinecolor\":\"rgb(36,36,36)\"}},\"shapedefaults\":{\"fillcolor\":\"black\",\"line\":{\"width\":0},\"opacity\":0.3},\"ternary\":{\"aaxis\":{\"gridcolor\":\"rgb(232,232,232)\",\"linecolor\":\"rgb(36,36,36)\",\"showgrid\":false,\"showline\":true,\"ticks\":\"outside\"},\"baxis\":{\"gridcolor\":\"rgb(232,232,232)\",\"linecolor\":\"rgb(36,36,36)\",\"showgrid\":false,\"showline\":true,\"ticks\":\"outside\"},\"bgcolor\":\"white\",\"caxis\":{\"gridcolor\":\"rgb(232,232,232)\",\"linecolor\":\"rgb(36,36,36)\",\"showgrid\":false,\"showline\":true,\"ticks\":\"outside\"}},\"title\":{\"x\":0.05},\"xaxis\":{\"automargin\":true,\"gridcolor\":\"rgb(232,232,232)\",\"linecolor\":\"rgb(36,36,36)\",\"showgrid\":false,\"showline\":true,\"ticks\":\"outside\",\"title\":{\"standoff\":15},\"zeroline\":false,\"zerolinecolor\":\"rgb(36,36,36)\"},\"yaxis\":{\"automargin\":true,\"gridcolor\":\"rgb(232,232,232)\",\"linecolor\":\"rgb(36,36,36)\",\"showgrid\":false,\"showline\":true,\"ticks\":\"outside\",\"title\":{\"standoff\":15},\"zeroline\":false,\"zerolinecolor\":\"rgb(36,36,36)\"}}},\"legend\":{\"itemsizing\":\"constant\",\"tracegroupgap\":0},\"width\":800,\"height\":600,\"xaxis\":{\"title\":{},\"mirror\":false,\"showgrid\":false,\"showline\":false,\"showticklabels\":false,\"ticks\":\"\"},\"yaxis\":{\"title\":{},\"mirror\":false,\"showgrid\":false,\"showline\":false,\"showticklabels\":false,\"ticks\":\"\",\"scaleanchor\":\"x\",\"scaleratio\":1},\"title\":{\"text\":\"Sample sets: AG1000G-BF-B\\u003cbr\\u003eGenomic region: 3L:15,000,000-41,000,000 (105,470 SNPs)\",\"font\":{\"size\":14}}},                        {\"responsive\": true}                    ).then(function(){\n",
       "                            \n",
       "var gd = document.getElementById('58e83c12-4e8e-4a03-b50d-ff092b826ddf');\n",
       "var x = new MutationObserver(function (mutations, observer) {{\n",
       "        var display = window.getComputedStyle(gd).display;\n",
       "        if (!display || display === 'none') {{\n",
       "            console.log([gd, 'removed!']);\n",
       "            Plotly.purge(gd);\n",
       "            observer.disconnect();\n",
       "        }}\n",
       "}});\n",
       "\n",
       "// Listen for the removal of the full notebook cells\n",
       "var notebookContainer = gd.closest('#notebook-container');\n",
       "if (notebookContainer) {{\n",
       "    x.observe(notebookContainer, {childList: true});\n",
       "}}\n",
       "\n",
       "// Listen for the clearing of the current output cell\n",
       "var outputEl = gd.closest('.output');\n",
       "if (outputEl) {{\n",
       "    x.observe(outputEl, {childList: true});\n",
       "}}\n",
       "\n",
       "                        })                };            </script>        </div>"
      ]
     },
     "metadata": {},
     "output_type": "display_data"
    }
   ],
   "source": [
    "ag3.plot_njt(\n",
    "    region=region,\n",
    "    n_snps=n_snps,\n",
    "    sample_sets = \"AG1000G-BF-B\",\n",
    "    color=\"taxon\",\n",
    ")"
   ]
  },
  {
   "cell_type": "markdown",
   "metadata": {
    "id": "7RSNqhwwLcsm"
   },
   "source": [
    "By colouring our leaves by taxon (`color=\"taxon\"`) we can see three taxa each forming clusters of closely related individuals with short branch lengths including *An. gambiae*, *An. coluzzii* and *An. arabiensis*. The branch length connecting *An. arabiensis* to the other taxa is the longest. This is because it is more distantly related to *An. coluzzii* and *An. gambiae*, _i.e._, there were more pairwise differences and therefore a higher distance value on comparison with the other species. Note that 101,077 SNPs were used here. The number of SNPs for analysis (100,000) is not exact because the specified region for SNP discovery is evenly thinned to provide a close approximation."
   ]
  },
  {
   "cell_type": "markdown",
   "metadata": {
    "id": "qKPvUeu3GJ-U"
   },
   "source": [
    "**Exercise 1.**\n",
    "\n",
    "Re-run the NJT for Burkina Faso, but this time construct the tree using the X chromosome. How does this change the phylogeny? What are the possible reasons for this?\n"
   ]
  },
  {
   "cell_type": "markdown",
   "metadata": {
    "id": "nqfiFoRK2KwU"
   },
   "source": [
    "# Analysis example - population structure of *An. gambiae* in East Africa"
   ]
  },
  {
   "cell_type": "markdown",
   "metadata": {
    "id": "nZbS3qhnni3M"
   },
   "source": [
    "Next we'll investigate population (within taxa) structure using the same region of the 3L chromosome arm as we used for the taxonomic analysis above. Let's explore whether we observe population structure in Tanzanian *An. gambiae*. We will restrict our analysis to this taxa using the sample query parameter. Since we are now looking within-species we might want to colour our samples by the location from which they originate."
   ]
  },
  {
   "cell_type": "code",
   "execution_count": null,
   "metadata": {
    "colab": {
     "base_uri": "https://localhost:8080/",
     "height": 617,
     "referenced_widgets": [
      "cfc9d33bf75349fa94c81d2409482226",
      "8b185988381040099d785d27cf1999af",
      "57cc3602bbe3489ebb1086e59c63c69e",
      "818eab5ed41942bda2d032d60c194c64",
      "adc38ec811054e5e888862813fac4f29",
      "7085708d4ba74487816f5ce0ad6846e4",
      "ad47e4f7ee1a4b04a277d0f10605f7bf",
      "ea6420e937684abc9594218220496064",
      "0696bda0f69641dcad7fa03f98fccdb8",
      "998d2d46e89644669e2dc1c24bbf7cc3",
      "c3c0846b60da4e2491ead9846b6b8a55",
      "719ee0aca0c34f72b2f18f12a787cb4c",
      "1bf16e0bdecd4705bca5ed5f41c40412",
      "7b346d2230884222939488c9adfdb532",
      "1db8e761a376451f8827ea08e73d61b2",
      "4ddf9b1d8eb54c92b5039ce6651e5e6b",
      "d391f3b45ea2488ca6affc5f96e8b791",
      "4ac374aabaad4843808b130d121577e7",
      "6a35d20dd0c94005baf2257342babda1",
      "46867208ebd04d639ecf58af97f45b62",
      "c8dbe9adbe6649d88a9f37fc1c2c6142",
      "2ced3fc9f9834d3c85e566fd40827ea4",
      "1da6f77d75be4c8591f94ba8a3ecee8d",
      "e8f293f64d5d4276850627395eb843ba",
      "90f60fdacb3a4c6f8fd716c567cd396c",
      "9d191ba2c53148089aa7cf942aeb0f32",
      "6410b329758945b2b26aaf7aa2b75925",
      "0e09c1d9c6bb4b71b5ad4511ad3305c0",
      "108b9f7118a243f088528c2a03c9248d",
      "b8a34f8baf104d61b2e5d7b7a080df31",
      "72328813dbd44dde822e39e251836c63",
      "8c2131af895342a4bdc40c8fa524c02d",
      "f5c7b566689546c98f8078bb0bb79bd6"
     ]
    },
    "id": "aFqJ6lX10pKs",
    "outputId": "3ef8fb78-37a4-4ddb-d800-9f3f0148e90f"
   },
   "outputs": [],
   "source": [
    "ag3.plot_njt(\n",
    "    region=region,\n",
    "    n_snps=n_snps,\n",
    "    sample_sets = \"AG1000G-TZ\",\n",
    "    sample_query=\"taxon == 'gambiae'\",\n",
    "    color=\"location\",\n",
    ")"
   ]
  },
  {
   "cell_type": "markdown",
   "metadata": {
    "id": "BtLTRXvboDZ-"
   },
   "source": [
    "In the tree we clearly have two clusters of closely related *An. gambiae* , one including individuals from Muleba in the northwest and another with individuals from Muheza located on the eastern coast likely resulting from restricted gene flow between the two regions _i.e._, geographic isolation.\n",
    "\n",
    "Let's add *An. gambiae* data from Kenya into our analysis to see how this relates to the structure observed in Tanzania by first colouring the samples by country."
   ]
  },
  {
   "cell_type": "code",
   "execution_count": null,
   "metadata": {
    "colab": {
     "base_uri": "https://localhost:8080/",
     "height": 617,
     "referenced_widgets": [
      "f62ed3dc5fc74e079276674ca9416eae",
      "ef559df787c24b199c8c95dca12fdcc2",
      "5a1f0fef7ec14ee983f23fdf5074733c",
      "59810cf2535644f3926130ef20134abf",
      "15b21098d3cc4e73a80b3bc387cee744",
      "d55c8f38b29c4551969cddb5d89b8608",
      "92854d966acd44dc961f4fe5f3eaeb6e",
      "01442f429c2244bc8b3b5c013289d45c",
      "a0efcf1534574635883e849523cbd993",
      "1ef790935fc34e81895f4f86124f8b1f",
      "ed2b1a8a7a054f30b22c9d1fea4081d0",
      "7dcb6d614f7140c686490c2ea7027858",
      "90543cab44a64383827759d9064875d4",
      "1b1a8c51b72b425182ba8112447c8812",
      "6830838dcb4c4a10a14daebc60c05c05",
      "c1569f93198140d8a036702ff293eb6d",
      "4eb9eb99138a4b8abb5cf792ff92327a",
      "d2e374ecbd8b4c0cae38079817cab39e",
      "39087d3e564840cb8c0a9b453a6b3e93",
      "c35028d334db46e29a537ddfc3ea5ddd",
      "1574a0865d274fd5b95b503d5af4a59e",
      "06edadb8fdf145778187742c45b619d2",
      "47d7de586f5642b8aff88d6a941f45e8",
      "3ddf5746ab694eaab89c289a13b25d42",
      "54228caa8c9645c081d001fe10960cf0",
      "2673435e20b94242b751b2605b4fafdf",
      "13d8ec0e7cca4af0ac6e339f45a643e0",
      "1a109b87e0604eb9a09ba778223ec957",
      "27403d8f52ad4591ba98f2d435c152b8",
      "f7ccf203b658410486dffa23a66029ef",
      "a4c09b26069f455e811699ea31215ae3",
      "74fb087a1ca34f6bbab5c864349fc46a",
      "d7ae069f207e4fff9155ab376469ca0b"
     ]
    },
    "id": "pNRXXdGI4zqp",
    "outputId": "08e235e3-7e9a-466d-cc00-19d57e654946"
   },
   "outputs": [],
   "source": [
    "ag3.plot_njt(\n",
    "    region=region,\n",
    "    n_snps=n_snps,\n",
    "    sample_sets = [\"AG1000G-TZ\",\"AG1000G-KE\"],\n",
    "    sample_query=\"taxon == 'gambiae'\",\n",
    "    color=\"country\",\n",
    ")"
   ]
  },
  {
   "cell_type": "markdown",
   "metadata": {
    "id": "z1M-qX_u41jn"
   },
   "source": [
    "We can see that the samples from Kenya fall into just one cluster of samples originating from Tanzania. Let's explore the location of these samples by changing the color parameter to see how this might relate to geography."
   ]
  },
  {
   "cell_type": "code",
   "execution_count": null,
   "metadata": {
    "colab": {
     "base_uri": "https://localhost:8080/",
     "height": 617
    },
    "id": "4zLh4JJ0oXvc",
    "outputId": "35b9a0bf-e606-4223-b9f8-c5d0d7dd20c5"
   },
   "outputs": [],
   "source": [
    "ag3.plot_njt(\n",
    "    region=region,\n",
    "    n_snps=n_snps,\n",
    "    sample_sets = [\"AG1000G-TZ\",\"AG1000G-KE\"],\n",
    "    sample_query=\"taxon == 'gambiae'\",\n",
    "    color=\"location\",\n",
    ")"
   ]
  },
  {
   "cell_type": "markdown",
   "metadata": {
    "id": "-vngKjLm4snv"
   },
   "source": [
    "Now we can see that the samples from Kenya are from Kilifi on the east coast. The Tanzanian samples with which they cluster originate Muheza, which is also located on the east coast. If we consider the geography of East Africa, the Great Rift Valley and Lake Victoria are potential barriers which might restrict mosquito movement and therefore gene flow between the coast and inland East Africa."
   ]
  },
  {
   "cell_type": "markdown",
   "metadata": {
    "id": "YTXlwMcO3qJG"
   },
   "source": [
    "**Exercise 2.**\n",
    "\n",
    "Add in the East African population cohort of Mayotte (\"AG1000G-FR\") into your NJT of East African populations. Where does this population cohort fall and how would you explain your findings considering this is an island population?"
   ]
  },
  {
   "cell_type": "markdown",
   "metadata": {
    "id": "_Hq0ENYs4eq0"
   },
   "source": [
    "# Analysis example - Population structure in West Africa"
   ]
  },
  {
   "cell_type": "markdown",
   "metadata": {
    "id": "iwezx9Up3OYU"
   },
   "source": [
    "Let's see if we also observe population structure in *An. gambiae* from \"Far West\" Africa, including samples from Guinea Bissau, The Gambia, Guinea and Mali."
   ]
  },
  {
   "cell_type": "code",
   "execution_count": null,
   "metadata": {
    "colab": {
     "base_uri": "https://localhost:8080/",
     "height": 617,
     "referenced_widgets": [
      "e1bd0edb3f8941ea8231ed25d2d0414c",
      "b68992cf2dc24c5a9a07674c0d170315",
      "763be7d344764ba89a0e3b7ced0b14a6",
      "84bd7ec78ed847cb86a450f35649ebc9",
      "4d3a8835a5a949e4a78750f53051c77a",
      "448bbec6e79d462aa00c97970aa9289d",
      "06c7a912e0ac4296955e421596d4a24c",
      "5521429a1ee44625bdf4df9d73c5dba0",
      "a3f313fbda2b43b89d10a8919d22b27b",
      "d381af7deb4a46a9a8450a96af836776",
      "1ebf1939624a44efaa95c879c9280177",
      "d945e8d65eef47019bf3f90291912bc1",
      "e0ddb339d1cb4ca88cb11febb673bc42",
      "8c13d7db17e54da29b2541dd2d6c8b49",
      "e74983c85a7a415c86cbe72c3cfab503",
      "c2d763e7b03744b88da54f84aa729396",
      "1e1649a1c6d742b5a3828740d6d0cc67",
      "eca05a5c014e42e4bdbf4957a3f4beb7",
      "8624fe0d0eac4273927f98dda0fd386c",
      "7ec635a534ae493eb2ccae541b08a79d",
      "36d809fac37d4587b26fdb97339dc161",
      "4e3c3f3961d141c583c78472f0098276",
      "699fffa0cd314f86a1d2b0f08cf4078c",
      "21294df023914ec39cbcf3b6cc322445",
      "99d6e0be37be4f799acf3be328cc4920",
      "c462e43c581c44e6b13ac831ad54e304",
      "2eeb1c29c609404da8a9a1836663a696",
      "5e4b977c75334faaa63bad4e54175d19",
      "f8d5630b965246f795a5ff2fad6d7819",
      "08897aa362784a64af3be48a27eb355e",
      "c78b1ae497584d10ac748d2ab8f2c99c",
      "46cf458227304b08ba11a4440f0004b0",
      "a2a0bd206d4647d8bfc96e3ebb28f240"
     ]
    },
    "id": "1jBctVdLHH_8",
    "outputId": "ebc39c90-8e40-41ee-f40d-edd878648f6c"
   },
   "outputs": [],
   "source": [
    "ag3.plot_njt(\n",
    "    region=region,\n",
    "    n_snps=100_000,\n",
    "    sample_sets=['AG1000G-GM-C', 'AG1000G-GN-B','AG1000G-GW'],\n",
    "    sample_query=\"taxon == 'gambiae'\",\n",
    "    color=\"country\",\n",
    ")"
   ]
  },
  {
   "cell_type": "markdown",
   "metadata": {
    "id": "eZIp78Z88JM6"
   },
   "source": [
    "All individuals of *An gambiae* from the Far West Africa form a single cluster with mixed geographical origin. There is therefore no population structure detected across the region and individuals are expected to undergo unrestricted gene flow.\n",
    "\n",
    "Let's compare what we see for *An. gambiae* to *An. coluzzii* from Far West Africa."
   ]
  },
  {
   "cell_type": "code",
   "execution_count": null,
   "metadata": {
    "colab": {
     "base_uri": "https://localhost:8080/",
     "height": 617,
     "referenced_widgets": [
      "4cbac9ae31cc4176b8fd06e6f937f519",
      "5c76376db66e4b9d8994b55915fc674b",
      "135b3c9adbbe41b3b129cf13f3102820",
      "fd490de244b5486db1b53df3daa7447a",
      "9fd24a9f43824957ada5131fb10cd4ef",
      "ba61cf9af72941e680cc113e5ed84618",
      "f00c6c2220144088927ddebd12fe9835",
      "c9fe200677bb42e9ba5760aa4f53723c",
      "17e7bc33785847fa9f8de98ab2d520b2",
      "47f6fc1856a74d2baf7f9142e97ade77",
      "2565273554214fb9ad05fad1e568f8db",
      "2edea4ee63964d3494cc9cfd6f1962e1",
      "18cb088914274db0b29dd17217fc907b",
      "77615fec683b44ca882d45052dd78b3a",
      "268e49b42f564eaeafc07a846922cc05",
      "1fb62c8e2ff4449abecb236418df05cc",
      "e847f41f33e54b71a0344c8e4ee5db0d",
      "99ef112475fb4c688b03f4f03591db89",
      "cb2ee291022b49bf8ff0d2531c42eaa8",
      "ab58b0ea1a024f68b560fd28e6e59425",
      "426759d9ce384609afad772fbb7f335b",
      "a60793b607244f2083cb404a9978e504",
      "ca580ddecf034a2fb1eda1c65fe8cf01",
      "91386465eb914b7ea0765ab61ce6c77a",
      "13d521879cb642719b9462e049d0d079",
      "b53cbf5fed7843fcac19f6ac0e46a30f",
      "31ac999b03264a9c9b4228ebf9a9587a",
      "4e0cc59f04bb4d22911b823a9062fbc3",
      "3973246202ec4df7bc99b681d1d9e17a",
      "addc0d2069f94a8fb0330cf5847fcf4d",
      "e6de9ef1f7544e19b09b6a87bec5ff70",
      "23056ac214b041c7bf807cdf22c89db0",
      "c7830108b89f440ba3fbf04cbe3ba117"
     ]
    },
    "id": "V4tAGbty6S8l",
    "outputId": "7f0955c8-5644-4fb2-e46e-f6542d7973d8"
   },
   "outputs": [],
   "source": [
    "ag3.plot_njt(\n",
    "    region=region,\n",
    "    n_snps=100_000,\n",
    "    sample_sets=['AG1000G-GM-C', 'AG1000G-GN-B','AG1000G-GW'],\n",
    "    sample_query=\"taxon == 'coluzzii'\",\n",
    "    color=\"country\",\n",
    ")"
   ]
  },
  {
   "cell_type": "markdown",
   "metadata": {
    "id": "f-iDFmIF9AF0"
   },
   "source": [
    "On first glance samples appear to form a single cluster but are clearly ordered by geographical origin, suggesting that *An. coluzzii* in Far West Africa are locally structured. If we zoom in on the plot, we see that there is in fact a distinction between these samples, with individuals from each country forming clusters seperated by short branches. Therefore, we see evidence for some restricted gene flow among *An. coluzzii* in Far West Africa. This is in constrast to what we saw from *An. gambiae* because we did not see any population structure across the same region. The difference we see could reflects differences in species ecology and dispersal. For example, *An. gambiae* oviposit in temporary water bodies and need to disperse to find these habitats. *An. coluzzii* however, tend to oviposit in permenant water bodies such as rice paddies and may not need to disperse as often or as far. However, it is worth noting that the situation is not always so simple since there is evidence to suggest *An. coluzzii* can also undergo long range airborne dispersal ([Lehmann *et al.* 2017](https://doi.org/10.1111/eva.12486))."
   ]
  },
  {
   "cell_type": "markdown",
   "metadata": {
    "id": "kzu4sJMl_oMR"
   },
   "source": [
    "**Exercise 3.**\n",
    "\n",
    "Investigate population structure in *An. coluzzii* from the West African countries of Burkina Faso, Cote D'Ivoire, Ghana ('AG1000G-BF-B', 'AG1000G-CI', 'AG1000G-GH'). Do you observe geographical population structure? How does this compare to the situation in Far West Africa?"
   ]
  },
  {
   "cell_type": "markdown",
   "metadata": {
    "id": "otaMSZcIFMBX"
   },
   "source": [
    "# Principal Components Analysis"
   ]
  },
  {
   "cell_type": "markdown",
   "metadata": {
    "id": "EmoYVOhVEIOg"
   },
   "source": [
    "Another method which is commonly used to visualise genomic variation in the data is principal components analysis (PCA). PCA is a method for reducing the dimensions of the variation found within a dataset to help make interpreting the data easier. Typically we use a region of genomic data (_e.g._ a chomosome arm) which might have millions of SNPs (from hundreds or thousands of samples). The PCA finds axes through the data that describe its variance, in the case of genomic data, this effectively collapses thousands or millions of dimensions (SNPs) down to a handful of __principal components__ (PCs) that describe structure in the data. On a PCA plot, individuals which have a similar genomic composition are clustered together while those which seperate out on the plot can indicate a degree of population structure due to reproductive isolation.\n",
    "\n",
    "Let's take a look at the sample set we used to investigate taxonomic structure in Burkina Faso using PCA. We will use the `ag3.pca` function to calculate our PCA. This function returns two objects, so we need to assign two variables to it. The first is a dataframe containing 20 PCs and the second is an array containing the percentage of variance in the data which is explained by each PC."
   ]
  },
  {
   "cell_type": "code",
   "execution_count": null,
   "metadata": {
    "colab": {
     "base_uri": "https://localhost:8080/"
    },
    "id": "KHxGcRAuEk6T",
    "outputId": "ff601024-064e-4b69-fd19-84a88436317e"
   },
   "outputs": [],
   "source": [
    "pca_bf_df, evr_bf = ag3.pca(\n",
    "    region=region,\n",
    "    n_snps=n_snps,\n",
    "    sample_sets=\"AG1000G-BF-B\",\n",
    ")"
   ]
  },
  {
   "cell_type": "markdown",
   "metadata": {
    "id": "dJWgXONQFiJs"
   },
   "source": [
    "## Plotting explained variance"
   ]
  },
  {
   "cell_type": "markdown",
   "metadata": {
    "id": "6QnIDfFoF3TV"
   },
   "source": [
    "Let's have a look at the explained variance output (`evr_bf`). We can see that this is an array of 20 floats (numbers with decimal points). These are the percentage of variance in the dataset explained by each of our 20 principal components"
   ]
  },
  {
   "cell_type": "code",
   "execution_count": null,
   "metadata": {
    "colab": {
     "base_uri": "https://localhost:8080/"
    },
    "id": "5kzsRBEoGebu",
    "outputId": "02dbdcf7-74e9-4329-bb88-bc18630e714a"
   },
   "outputs": [],
   "source": [
    "evr_bf"
   ]
  },
  {
   "cell_type": "markdown",
   "metadata": {
    "id": "4x7DioWEGf01"
   },
   "source": [
    "We can use the variance explained array to get an intuition for which PCs to examine. The easiest way to do this is to plot our `evr_bf` array in the form of a bar chart. We have a handy function in `malariagen_data` to do this for us. Again, this is an interactive plot and hovering the pointer over a bar will reveal the exact explained variance percentage."
   ]
  },
  {
   "cell_type": "code",
   "execution_count": null,
   "metadata": {
    "colab": {
     "base_uri": "https://localhost:8080/",
     "height": 417
    },
    "id": "aXEm0UW9HiOB",
    "outputId": "82f6be9e-63a2-40c6-c860-b8d43c920ae6"
   },
   "outputs": [],
   "source": [
    "ag3.plot_pca_variance(evr_bf)"
   ]
  },
  {
   "cell_type": "markdown",
   "metadata": {
    "id": "cVZ2tQfKHkGJ"
   },
   "source": [
    "In this example, the first principal component explains around 2.5% of the variance and the second around 2.25%, whereas all of the subsequent principal components explain less than 1.5% of the variance. The __absolute magnitude of these values is less important__ as this will change depending on what dataset we analyse. What is more important, however, is the fact that PCs 1 and 2 relatively explain much more variance than the subsequent PCs. In other words, there is a big step down from PC2 to PC3, then the variance explained flattens off. This is a good indication that these first two PCs are capturing some real structure in the data, and that the rest of the PCs are potentially just noise.\n",
    "\n",
    "There are various statistical methods for formally testing whether a principal component conveys a real signal of population structure or is just random noise (for example see [Patterson et al. 2006](https://doi.org/10.1371/journal.pgen.0020190) and [Forkman et al. 2019](https://doi.org/10.1007/s13253-019-00355-5)). However, for exploratory analyses, __looking at the differences in variance explained between the adjacent PCs, and ignoring the tail of PCs where the variance flattens off, is not a bad rule of thumb__."
   ]
  },
  {
   "cell_type": "markdown",
   "metadata": {
    "id": "bBuBQTShhiQ9"
   },
   "source": [
    "## Plotting principal components"
   ]
  },
  {
   "cell_type": "markdown",
   "metadata": {
    "id": "fLM7vi8EH4vM"
   },
   "source": [
    "We can visualise our analysis by making a scatter plot of the principal components for each sample, _e.g._, PC1 and PC2. The first two principal components are often sufficient to explore the data and are used by default when applying the function. Higher principal components can be visualised using the `x=` and `y=` parameters _e.g._ `x=\"PC3\", y=\"PC4\"`. Here we will colour the points by taxon to allow investigation of taxonomic structure."
   ]
  },
  {
   "cell_type": "code",
   "execution_count": null,
   "metadata": {
    "colab": {
     "base_uri": "https://localhost:8080/",
     "height": 617
    },
    "id": "MSy6EWjnHa4N",
    "outputId": "5e36c37f-a005-421f-fac6-dbde7cd28f83"
   },
   "outputs": [],
   "source": [
    "ag3.plot_pca_coords(\n",
    "    pca_bf_df,\n",
    "    color=\"taxon\",\n",
    "    title=\"Taxonomic structure in Burkina Faso\"\n",
    ")"
   ]
  },
  {
   "cell_type": "markdown",
   "metadata": {
    "id": "ko6JmAhkKMdV"
   },
   "source": [
    "On the PCA plot each point represents an individual sample. Let's plot the NJT for the Burkina Faso sample set again, so that we can compare our findings."
   ]
  },
  {
   "cell_type": "code",
   "execution_count": null,
   "metadata": {
    "colab": {
     "base_uri": "https://localhost:8080/",
     "height": 617
    },
    "id": "oFUAbRXVHhrT",
    "outputId": "41cae390-0bb9-431b-b422-56d26cde4fb1"
   },
   "outputs": [],
   "source": [
    "ag3.plot_njt(\n",
    "    region=region,\n",
    "    n_snps=n_snps,\n",
    "    sample_sets = \"AG1000G-BF-B\",\n",
    "    color=\"taxon\",\n",
    ")"
   ]
  },
  {
   "cell_type": "markdown",
   "metadata": {
    "id": "Xriv9-cAIyLK"
   },
   "source": [
    "Within both the NJT and PCA plot we see three groups seperating out the different taxon. *An. arabiensis* appears further away on the NJT and PCA plot than *An. gambiae* and *An. coluzzii* reflecting their evolutionary history. Since *An. gambiae* and *An. coluzzii* are more closely related, we expect them to share more SNPs. However, there is an important difference in how NJT and PCA are interpreted. The length of branches on the NJT are based on a measureable distance. That is, they are scaled to the number of genetic differences, _i.e_, SNPs, between individuals on the tree. In comparison, the location of individuals on the PCA plot do not represent genetic distance as an absolute measurement. For example, while we can say that *An. arabiensis* are more genetically different than  *An. gambiae* and *An. coluzzii*, this is based on relative distance and we cannot say by how much.\n",
    "\n",
    "Next we'll try PCA to look at population structure, as we did for the sample set from Tanzania. Similar to the NJT, we will use a sample query to restrict our analysis to *An. gambiae*. This time, we will colour the PCA plot by location to investigate geographical structure across Tanzania. We will also plot the NJT we computed earlier for comparison."
   ]
  },
  {
   "cell_type": "code",
   "execution_count": null,
   "metadata": {
    "colab": {
     "base_uri": "https://localhost:8080/"
    },
    "id": "2lihN5_q8743",
    "outputId": "db66e68d-c5c8-4b9b-f01d-c23de7d7da5b"
   },
   "outputs": [],
   "source": [
    "pca_tz_df, evr_tz = ag3.pca(\n",
    "    region=region,\n",
    "    n_snps=n_snps,\n",
    "    sample_sets=\"AG1000G-TZ\",\n",
    "    sample_query=\"taxon == 'gambiae'\",\n",
    ")"
   ]
  },
  {
   "cell_type": "code",
   "execution_count": null,
   "metadata": {
    "colab": {
     "base_uri": "https://localhost:8080/",
     "height": 617
    },
    "id": "6As5CvUX7LtO",
    "outputId": "44ba49c5-1644-4c3d-d1f2-9b021378ffcc"
   },
   "outputs": [],
   "source": [
    "ag3.plot_pca_coords(\n",
    "    pca_tz_df,\n",
    "    color=\"location\",\n",
    "    title=\"Population structure in Tanzania\"\n",
    ")"
   ]
  },
  {
   "cell_type": "code",
   "execution_count": null,
   "metadata": {
    "colab": {
     "base_uri": "https://localhost:8080/",
     "height": 617
    },
    "id": "r5vzwfm7PHJQ",
    "outputId": "90a4d9dc-1034-46b6-928d-0b687373d7f5"
   },
   "outputs": [],
   "source": [
    "ag3.plot_njt(\n",
    "    region=region,\n",
    "    n_snps=n_snps,\n",
    "    sample_sets = \"AG1000G-TZ\",\n",
    "    sample_query=\"taxon == 'gambiae'\",\n",
    "    color=\"location\",\n",
    ")"
   ]
  },
  {
   "cell_type": "markdown",
   "metadata": {
    "id": "0g1w2wNzAR8Z"
   },
   "source": [
    "In the NJT we see two clusters seperating samples from Muleba and Muheza in Tanzania indicating restricted gene flow between inland and coastal *An. gambiae*. On the PCA plot, we also see *An. gambiae* from these two locations form their own distinct clusters. Because mosquitoes from Muleba cluster closely on the plot, we can infer that samples from Muleba are more genetically similar to one another than they are to Muheza, and vice versa.\n",
    "\n",
    "Often, running more than one type of analysis can help with interpretation and in this case, both the results from NJT and PCA are concurrent. We can be more confident that we have found a signal of population structure seperating inland Muleba from coastal Muheza. This is an example of how performing mutliple analysis can help to strengthen the evidence for your findings."
   ]
  },
  {
   "cell_type": "markdown",
   "metadata": {
    "id": "3Mx2lOlvCHAS"
   },
   "source": [
    "**Exercise 4.**\n",
    "\n",
    "Run a PCA to investigate geographical population structure for populations in East Africa _i.e._, by adding the parameter `sample_sets=[\"AG1000G-TZ\",\"AG1000G-KE\", \"AG1000G-UG\"]`. How would you interpret this plot? Do results concur with findings from the NJT?"
   ]
  },
  {
   "cell_type": "markdown",
   "metadata": {
    "id": "Ul1zvX9wxvA3"
   },
   "source": [
    "##Well done!\n",
    "In this module we have run neighbour-joining trees across different mosquito cohorts and interpreted the results to discover taxonomic and geographic population structure.\n",
    "\n",
    "**Exercises (English)**\n",
    "\n",
    "Open this notebook in Google Colab and run it for yourself from top to bottom. As you run through the notebook, cell by cell, think about what each cell is doing, and try the practical exercises along the way.\n",
    "\n",
    "Have go at the practical exercises, but please don’t worry if you don’t have time to do them all during the practical session, and please ask the teaching assistants for help if you are stuck.\n",
    "\n",
    "Hint: To open the notebook in Google Colab, click the rocket icon at the top of the page, then select “Colab” from the drop-down menu.\n",
    "\n",
    "**Exercises (Français)**\n",
    "\n",
    "Ouvrir ce notebook dans Google Colab et l’exécuter vous-même du début à la fin. Pendant que vous exécutez le notebook, cellule par cellule, pensez à ce que chaque cellule fait et essayez de faire les exercices quand vous les rencontrez.\n",
    "\n",
    "Essayez de faire les exercices mais ne vous inquiétez pas si vous n’avez pas le temps de tout faire pendant la séance appliquée et n’hésitez pas à demander aux enseignants assistants si vous avez besoin d’aide parce que vous êtes bloqués.\n",
    "\n",
    "Indice: Pour ouvrir le notebook dans Google Colab, cliquer sur l’icône de fusée au sommet de cette page puis choisissez “Colab” dans le menu déroulant.\n",
    "\n"
   ]
  }
 ],
 "metadata": {
  "colab": {
   "provenance": []
  },
  "kernelspec": {
   "display_name": "anoph_training_dev",
   "language": "python",
   "name": "conda-env-anoph_training_dev-py"
  },
  "language_info": {
   "codemirror_mode": {
    "name": "ipython",
    "version": 3
   },
   "file_extension": ".py",
   "mimetype": "text/x-python",
   "name": "python",
   "nbconvert_exporter": "python",
   "pygments_lexer": "ipython3",
   "version": "3.11.11"
  },
  "widgets": {
   "application/vnd.jupyter.widget-state+json": {
    "state": {},
    "version_major": 2,
    "version_minor": 0
   }
  }
 },
 "nbformat": 4,
 "nbformat_minor": 4
}
