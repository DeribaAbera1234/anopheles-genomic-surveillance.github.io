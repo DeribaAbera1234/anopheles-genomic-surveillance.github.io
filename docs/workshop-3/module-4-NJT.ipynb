{
 "cells": [
  {
   "cell_type": "markdown",
   "metadata": {},
   "source": [
    "![banner](../banner.jpg)\n",
    "\n",
    "***[Workshop 3](about) - Training course in data analysis for genomic surveillance of African malaria vectors***\n",
    "\n",
    "---"
   ]
  },
  {
   "cell_type": "markdown",
   "metadata": {
    "id": "XYp4CusZgWO6"
   },
   "source": [
    "# Module 4 - Detecting taxonomic and geographical population structure using neighbour-joining trees (NJT).\n"
   ]
  },
  {
   "cell_type": "markdown",
   "metadata": {
    "id": "Gel7YlN5geZC"
   },
   "source": [
    "## Theme: Analysis\n"
   ]
  },
  {
   "cell_type": "markdown",
   "metadata": {
    "id": "xw6bhVesgdtH"
   },
   "source": [
    "\n",
    "In this module we're going to investigate genetic structure by constructing neighbour-joining trees (NJTs) using genome variation data from the [MalariaGEN Vector Observatory](https://www.malariagen.net/vobs/) [Ag3.0 release](https://www.malariagen.net/data_package/ag30-anopheles-gambiae-data-resource/). We will use functions in the malariagen_data python package to run and plot NJTs, then learn how interpret the results to discover both taxonomic and geographic structure in mosquito populations.\n",
    "\n"
   ]
  },
  {
   "cell_type": "markdown",
   "metadata": {
    "id": "htK97r92gxd2"
   },
   "source": [
    "## Learning Objectives"
   ]
  },
  {
   "cell_type": "markdown",
   "metadata": {
    "id": "OPC5J-bzgxle"
   },
   "source": [
    "## LectureAt the end of this module you will be able to:\n",
    "\n",
    "- Construct neighbour-joining trees across different mosquito cohorts.\n",
    "\n",
    "- Plot trees and interpret results.\n",
    "\n",
    "- Use NJTs to discover taxonomic and geographic population structure."
   ]
  },
  {
   "cell_type": "markdown",
   "metadata": {},
   "source": [
    "## Lecture"
   ]
  },
  {
   "cell_type": "markdown",
   "metadata": {},
   "source": [
    "### English"
   ]
  },
  {
   "cell_type": "code",
   "execution_count": 2,
   "metadata": {
    "tags": []
   },
   "outputs": [
    {
     "data": {
      "text/html": [
       "<iframe width=\"560\" height=\"315\" src=\"https://www.youtube.com/embed/nNHql0s5mmQ\" title=\"YouTube video player\" frameborder=\"0\" allow=\"accelerometer; autoplay; clipboard-write; encrypted-media; gyroscope; picture-in-picture\" allowfullscreen></iframe>\n"
      ],
      "text/plain": [
       "<IPython.core.display.HTML object>"
      ]
     },
     "metadata": {},
     "output_type": "display_data"
    }
   ],
   "source": [
    "%%html\n",
    "<iframe width=\"560\" height=\"315\" src=\"https://www.youtube.com/embed/nNHql0s5mmQ\" title=\"YouTube video player\" frameborder=\"0\" allow=\"accelerometer; autoplay; clipboard-write; encrypted-media; gyroscope; picture-in-picture\" allowfullscreen></iframe>"
   ]
  },
  {
   "cell_type": "markdown",
   "metadata": {},
   "source": [
    "### French"
   ]
  },
  {
   "cell_type": "code",
   "execution_count": 4,
   "metadata": {},
   "outputs": [
    {
     "data": {
      "text/html": [
       "<iframe width=\"560\" height=\"315\" src=\"https://www.youtube.com/embed/a1On0sHZ4nc\" title=\"YouTube video player\" frameborder=\"0\" allow=\"accelerometer; autoplay; clipboard-write; encrypted-media; gyroscope; picture-in-picture\" allowfullscreen></iframe>\n"
      ],
      "text/plain": [
       "<IPython.core.display.HTML object>"
      ]
     },
     "metadata": {},
     "output_type": "display_data"
    }
   ],
   "source": [
    "%%html\n",
    "<iframe width=\"560\" height=\"315\" src=\"https://www.youtube.com/embed/a1On0sHZ4nc\" title=\"YouTube video player\" frameborder=\"0\" allow=\"accelerometer; autoplay; clipboard-write; encrypted-media; gyroscope; picture-in-picture\" allowfullscreen></iframe>"
   ]
  },
  {
   "cell_type": "markdown",
   "metadata": {
    "id": "Bp1cEL9zj5sn"
   },
   "source": [
    "## What is taxonomic structure?\n",
    "\n",
    "In Ag3.0 there are 2,784 wild-caught mosquitoes collected from 19 countries in sub-Saharan Africa. This includes mosquitoes from three known species within the _Anopheles gambiae_ species complex. We expect that any two mosquitoes from the same species will be more closely related than two mosquitoes from different species. This will hopefully be intuitive, because mosquitoes will prefer to mate with individuals of the same species, even if they live alongside mosquitoes from other species and can hybridise. This is also known as **reproductive isolation** and it may be caused by different drivers, _e.g._, **behavioural** differences leading to a lower likelihood of mating. Genomic differences accumulate between species with restricted gene flow over time with more divergence expected between species that have been reproductively isolated for longer."
   ]
  },
  {
   "cell_type": "markdown",
   "metadata": {
    "id": "ekR-eXpLblV5"
   },
   "source": [
    "<img src=\"https://vobs-resources.cog.sanger.ac.uk/training/img/workshop-3/behavioural-isolation.png\"></img>"
   ]
  },
  {
   "cell_type": "markdown",
   "metadata": {
    "id": "UgY86YSKi_Sg"
   },
   "source": [
    "## What is population structure?\n",
    "\n",
    "We might expect that two mosquitoes, of the same species, sampled from the same location, will be more closely related than two mosquitoes sampled from distant locations. These non-random patterns of relatedness are known as population structure. This is based on the assumption that mosquitoes may travel to find a mate, but may only be willing or able to travel a certain distance. Mosquitoes may also be impeded from travelling in certain directions by natural physical barriers, such as a region of elevated terrain, or by variation in the availability of suitable habitat. These limits and barriers to movement can thus generate population structure, also known as **geographic isolation**."
   ]
  },
  {
   "cell_type": "markdown",
   "metadata": {
    "id": "eGvol30abw9h"
   },
   "source": [
    "<img src=\"https://vobs-resources.cog.sanger.ac.uk/training/img/workshop-3/geographic-isolation.png\"></img>"
   ]
  },
  {
   "cell_type": "markdown",
   "metadata": {
    "id": "1KTxIgeYbyhg"
   },
   "source": [
    "For both taxonomic and population structure we may have some idea of what to expect based on our knowledge of previous studies, but we may be surprised.\n",
    "\n",
    "For example, the _Anopheles gambiae_ species complex continues to be unravelled, and there may be cryptic species that we were not previously aware of (_e.g._ see [Crawford _et al._ 2016](https://pubmed.ncbi.nlm.nih.gov/26846876/) and [Tennessen _et al._ 2020](https://doi.org/10.1111/mec.15756)). We will return to this topic with an entire workshop about discovering cryptic species.\n",
    "\n",
    "Also, recent studies have suggested that some malaria mosquitoes may engage in long-distance migration ([Huestis _et al._ 2019](https://pubmed.ncbi.nlm.nih.gov/31578527/)), challenging the previous view that mosquitoes generally don't travel more than a few kilometres in their lifetimes ([Service 1997](https://pubmed.ncbi.nlm.nih.gov/9439109/)). But we still don't know to what extent long-distance migration occurs, or whether the rate or range of migration varies between geographical regions and/or mosquito species. We would also like to learn more about how ecological and landscape variation affects the movement and interbreeding of mosquito populations in different regions of Africa.\n",
    "\n",
    "In short, we would like to investigate taxonomic and population structure, and we can use genetic variation data to do that. There are various methods for analysing taxonomic and population structure, but in this module we will focus on using a particular type of phylogenetic tree known as a neighbour-joining tree, then compare and contrast this with another method - principal component analysis - towards the end."
   ]
  },
  {
   "cell_type": "markdown",
   "metadata": {
    "id": "BlvJdLAa9SRY"
   },
   "source": [
    "## What is a phylogenetic tree?"
   ]
  },
  {
   "cell_type": "markdown",
   "metadata": {
    "id": "uln0jLgf9YnB"
   },
   "source": [
    "Phylogenetic trees are used to represent the evolutionary relationships between sampled individuals. These individuals (often called the **tips** or **leaves** of the tree) are connected together by tree **branches** with their length representing the amount of genetic change that has occured between individuals. For example, this might be based on the number of single nucloetide polymorphism (SNP) differences when comparing the genomic sequences of individuals (SNPs are introduced in [Workshop1 Module 4](https://anopheles-genomic-surveillance.github.io/workshop-1/module-4-vgsc-snps.html#single-nucleotide-polymorphisms-snps)). Individual branches are internally connected together by **parent nodes**. These nodes represent common ancestors inferred from the data. The common ancestor of all individuals in the tree is represented by its root. A tree is **rooted** when we know and have sampled the common ancestor of the individuals being analysed (often refered to as an **outgroup**) and means we can infer the order of the branching events. An **unrooted** tree can be constructed without this information but we cannot infer the direction of the evolutionary path without applying a timescale based on known mutation rates, _i.e._ a molecular clock."
   ]
  },
  {
   "cell_type": "markdown",
   "metadata": {
    "tags": []
   },
   "source": [
    "<img src=\"https://vobs-resources.cog.sanger.ac.uk/training/img/workshop-4/njt_tree.png\" width=\"1000\" ></img>"
   ]
  },
  {
   "cell_type": "markdown",
   "metadata": {
    "id": "sdBH2atShOrT"
   },
   "source": [
    "## What are neighbour-joining trees?"
   ]
  },
  {
   "cell_type": "markdown",
   "metadata": {
    "id": "jUp7IwQsh3PV"
   },
   "source": [
    "A neighbour-joining tree is a type of phylogenetic tree based on the concept of minimum evolution. This concept assumes that the tree with the shortest sum of branch lengths is the correct tree, _i.e._ the principle of parsimony - the simplest solution is the most likely. The number of genomic differences, _e.g._ SNPs, observed between individuals can be represented by a distance matrix.\n",
    "\n",
    "Neighbour-joining trees are derived by determining which individuals at the end of the tree branches are neighbours by clustering together the closest related individuals in a interative process.\n",
    "\n",
    "In this simplified example below, a neighbour-joining tree is constructed from four individuals from different taxa. First, the leaves with the minimum distance between them are joined as neighbours. In the example below, these are taxa B and taxa C with a distance of 50 SNPs difference."
   ]
  },
  {
   "cell_type": "markdown",
   "metadata": {},
   "source": [
    "<img src=\"https://vobs-resources.cog.sanger.ac.uk/training/img/workshop-4/njt_figa.png\" width=\"800\" ></img>"
   ]
  },
  {
   "cell_type": "markdown",
   "metadata": {
    "id": "0sJWsOC4sG-y"
   },
   "source": [
    "In an iterative process, the distance matrix is then recalculated using the distance of the remaining leaves to the B/C parent node. The next most closely related pair are joined as  neighbours. In this case taxa A and taxa D have the minimum distance between them."
   ]
  },
  {
   "cell_type": "markdown",
   "metadata": {
    "id": "s-9A1t09F51Z"
   },
   "source": [
    "<img src=\"https://vobs-resources.cog.sanger.ac.uk/training/img/workshop-4/njt_figb.png\" width=\"600\" ></img>"
   ]
  },
  {
   "cell_type": "markdown",
   "metadata": {
    "id": "m5_IOMRxtpkN"
   },
   "source": [
    "The distance matrix continues to be recalculated until all neighbours and subtrees are joined together by minimum distance. In our example, there was just one subtree pair left to be joined. These were the parent nodes A/D and B/C, resulting in the completed neighbour joining tree presented below."
   ]
  },
  {
   "cell_type": "markdown",
   "metadata": {
    "id": "Nc4R_mhKGKQi"
   },
   "source": [
    "<img src=\"https://vobs-resources.cog.sanger.ac.uk/training/img/workshop-4/njt_figc.png\" width=\"600\" ></img>"
   ]
  },
  {
   "cell_type": "markdown",
   "metadata": {
    "id": "D_jjEM18us2U"
   },
   "source": [
    "# Set up"
   ]
  },
  {
   "cell_type": "markdown",
   "metadata": {
    "id": "KtF9GAOHu0uM"
   },
   "source": [
    "Now that we have covered some of the theoretical background of neighbour-joining trees and looked at a simple example with four samples, let's install and import the Python package `malariagen_data` that we can use to generate NJTs with hundreds or thousands of individuals."
   ]
  },
  {
   "cell_type": "code",
   "execution_count": null,
   "metadata": {
    "colab": {
     "base_uri": "https://localhost:8080/"
    },
    "id": "jdHnUDcIu7Z9",
    "outputId": "69efec8c-4c96-4e4f-bbb5-ff68a5be8ab3"
   },
   "outputs": [
    {
     "name": "stdout",
     "output_type": "stream",
     "text": [
      "\u001b[33m  WARNING: The script tqdm is installed in '/home/kellylbennett/.local/bin' which is not on PATH.\n",
      "  Consider adding this directory to PATH or, if you prefer to suppress this warning, use --no-warn-script-location.\u001b[0m\u001b[33m\n",
      "\u001b[0m\u001b[33m  WARNING: The scripts pyrsa-decrypt, pyrsa-encrypt, pyrsa-keygen, pyrsa-priv2pub, pyrsa-sign and pyrsa-verify are installed in '/home/kellylbennett/.local/bin' which is not on PATH.\n",
      "  Consider adding this directory to PATH or, if you prefer to suppress this warning, use --no-warn-script-location.\u001b[0m\u001b[33m\n",
      "\u001b[0m\u001b[33m  WARNING: The script flask is installed in '/home/kellylbennett/.local/bin' which is not on PATH.\n",
      "  Consider adding this directory to PATH or, if you prefer to suppress this warning, use --no-warn-script-location.\u001b[0m\u001b[33m\n",
      "\u001b[0m"
     ]
    }
   ],
   "source": [
    "%pip install -q --no-warn-conflicts malariagen_data"
   ]
  },
  {
   "cell_type": "markdown",
   "metadata": {
    "id": "e7pfwu0DvB6Z"
   },
   "source": [
    "Note that authentication is required to access data through the package, more details can be found [here](https://malariagen.github.io/vector-data/vobs/vobs-data-access.html)."
   ]
  },
  {
   "cell_type": "code",
   "execution_count": null,
   "metadata": {
    "id": "jIGDjiHpvU8G"
   },
   "outputs": [],
   "source": [
    "import malariagen_data\n",
    "import os"
   ]
  },
  {
   "cell_type": "markdown",
   "metadata": {
    "id": "fuUvAxFwye-S"
   },
   "source": [
    "## Saving NJT results\n",
    "\n",
    "Some NJT runs may take a while to complete, particularly if you're running this code on a service with modest computational resources such as Google Colab, because genotype calls from tens of millions of SNPs may need to be scanned to identify and extract the data.\n",
    "\n",
    "To avoid having to rerun these analyses, we'll save the results so we can come back to them later. In Google Colab, you can save results to your Google Drive, which will mean you don't lose results even if you leave the notebook and come back several days later.\n",
    "\n",
    "When mounting your Google Drive you will need to follow the authorization instructions."
   ]
  },
  {
   "cell_type": "code",
   "execution_count": null,
   "metadata": {
    "colab": {
     "base_uri": "https://localhost:8080/"
    },
    "id": "Z2MNjHqSdFuy",
    "outputId": "c1e1532c-df3d-47da-ad2f-af9941675555"
   },
   "outputs": [],
   "source": [
    "try:\n",
    "    # if running on colab, mount Google drive\n",
    "    from google.colab import drive\n",
    "    drive.mount('drive')\n",
    "except ImportError:\n",
    "    pass"
   ]
  },
  {
   "cell_type": "markdown",
   "metadata": {
    "id": "eJqe6DZadJTq"
   },
   "source": [
    "With our Google Drive now mounted, we can define and make a directory where we want to save our NJT results.\n"
   ]
  },
  {
   "cell_type": "code",
   "execution_count": null,
   "metadata": {
    "id": "qOKziv3RdNJj"
   },
   "outputs": [],
   "source": [
    "results_dir = \"drive/MyDrive/Colab Data/ag3-structure-results\"\n",
    "os.makedirs(results_dir, exist_ok=True)"
   ]
  },
  {
   "cell_type": "markdown",
   "metadata": {
    "id": "IXjgbW3xdTsD"
   },
   "source": [
    "In Google Colab, we can actually see our mounted drive and NJT results directory by clicking on the file tab on the left hand side of the screen.\n",
    "\n",
    "Next we should setup the `malariagen_data` package. As we want to save our NJT results in the Google Drive folder we just set up, we'll use the `results_cache` parameter and assign our results directory to it. If we were running this notebook locally, then we could assign a local folder to this parameter and the NJT results would instead get stored on our hard drive."
   ]
  },
  {
   "cell_type": "code",
   "execution_count": null,
   "metadata": {
    "colab": {
     "base_uri": "https://localhost:8080/",
     "height": 229
    },
    "id": "Lp1AHzjOvt4h",
    "outputId": "32749309-b2aa-4eb7-fe23-8d19941e4b2a"
   },
   "outputs": [],
   "source": [
    "ag3 = malariagen_data.Ag3(results_cache=results_dir)\n",
    "ag3"
   ]
  },
  {
   "cell_type": "markdown",
   "metadata": {
    "id": "F7_4xJlqvzZf"
   },
   "source": [
    "The output of ag3 shows us the “Client location”. This is where our Google Colab virtual machine is running on the cloud. As the data we would like to analyse is physically stored in the US, we should check that our notebook is running there too. If not, click “Runtime > Disconnect and delete runtime” from the menu, then re-run the notebook and check again."
   ]
  },
  {
   "cell_type": "markdown",
   "metadata": {
    "id": "zfcRL8AJ3TXB"
   },
   "source": [
    "# The ag3.plot_njt() function"
   ]
  },
  {
   "cell_type": "markdown",
   "metadata": {
    "id": "Sh91MZu_v0TA"
   },
   "source": [
    "We can generate and plot a neighbour-joining tree using the `malariagen_data` function ag3.plot_njt(). Before we start, let's have a quick look at the documention using “?”"
   ]
  },
  {
   "cell_type": "code",
   "execution_count": null,
   "metadata": {
    "id": "uyTncq-sv52O"
   },
   "outputs": [],
   "source": [
    "ag3.plot_njt?"
   ]
  },
  {
   "cell_type": "markdown",
   "metadata": {
    "id": "Fo5ONao5yLCW"
   },
   "source": [
    "We can see that there are two required parameters:\n",
    "\n",
    "- `region` is one we are probably getting familar with by now, it defines what region of the genome we want to use to run the analysis. We could assign a whole chromosome arm, a chromosome region, with a start and stop point, or a specific gene of interest.\n",
    "\n",
    "- `n_snps` requires us to define how many SNPs to use from our region to build the NJT. This reduction in SNPs is called thinning. Too few SNPs and the analysis will not have enought power to accurately build trees, too many SNPs and the analysis will take a long time to run. We generally find 100,000 SNPs is a good compromise when running on Google Colab."
   ]
  },
  {
   "cell_type": "markdown",
   "metadata": {
    "id": "hEqlLzit3ZyX"
   },
   "source": [
    "Here's what the ag3.plot_njt() function is doing when we run it:\n",
    "\n",
    "1. Access the SNP genotypes on which to run the analysis (these are stored in the cloud) - filter which sample_sets, which region of the genome, and apply any sample_query included in the parameters (we will look at this functionality a bit later).\n",
    "\n",
    "2. SNP allele count - this is the count of the alternate alleles for each nucleotide in the selected genomic region, across our samples. We are interested in sites where there is SNP variation in our samples (segregating sites), particularly biallelic sites including the reference allele (_i.e._ where there is one alternate allele).\n",
    "\n",
    "3. Thin the SNP alleles - using all the alleles availiable in our selected region could make our analysis very slow without adding additional power. Instead, we can run our analysis on just a subset of segregating sites. The `n_snps` parameter is used to 'thin' our SNPs. we find that around 100,000 SNPs is a good starting place for analysis of structure.\n",
    "\n",
    "4. Construct the distance matrix - based on pairwise genetic distances observed between the samples using our biallelic SNPs, we iteratively construct a distance matrix. The default parameter is `city block distance` which is the absolute difference between a pair of genotypes.\n",
    "\n",
    "5. Plot the neighbour-joining tree - an unrooted tree is plotted where the branch length indicates the degree of differentation between the different leaves and nodes of the tree.\n",
    "\n"
   ]
  },
  {
   "cell_type": "markdown",
   "metadata": {
    "id": "vMXUcjTcv7hl"
   },
   "source": [
    "#Analysis example - taxonomic structure in Burkina Faso"
   ]
  },
  {
   "cell_type": "markdown",
   "metadata": {
    "id": "sCMnmtHneC8J"
   },
   "source": [
    "We are going to run the NJT on a section of the 3L chromosome arm. 3L is a good choice of chromosome when investigating genetic structure in the _An. gambiae_ complex because it is not confounded by large inversions that could impact the results. We remove the centromere and telomere proximal regions of 3L as these are generally regions of repetitive nucleotides that are difficult to sequence accurately.\n",
    "\n",
    "We'll thin the SNPs on 3L down to around 100,000 as that should provide enough data to construct an accurate evolutionary tree. We'll construct a NJT for a sample set from Burkina Faso."
   ]
  },
  {
   "cell_type": "code",
   "execution_count": null,
   "metadata": {
    "id": "utCgK4GgyzCf"
   },
   "outputs": [],
   "source": [
    "region = \"3L:15,000,000-41,000,000\"\n",
    "n_snps = 100_000"
   ]
  },
  {
   "cell_type": "code",
   "execution_count": null,
   "metadata": {
    "colab": {
     "base_uri": "https://localhost:8080/",
     "height": 617,
     "referenced_widgets": [
      "a4a617d5af3a4ff2bb3ec71f5cb89a78",
      "af5b08fa118444ac9cf4e42ef50e3225",
      "34a8de9180cb41dcb06e38b770d846d6",
      "7ceb86f2d2d8498da499276a88a121ec",
      "7995821c524848018394546af4046c02",
      "8082f60de084494c994135413149e19e",
      "1f19fe3d02424b6b85c6be516a5a5bae",
      "f0ad80ee5d61469bbc505179c4ca94f2",
      "f8a553b6816e46debbb842c2fb4c3a37",
      "f1b3a95b4b154db3b369a4251583b050",
      "7919589570474d038285b4f239015327",
      "bdafd4f5197942b2a628d4d7fe23b8f5",
      "ffa75ae963c64cd1bf3064069beafeee",
      "78e28d363da544d2bfb8a2934d60cc3d",
      "f7f30563ac6a4fe6a2ef3d6ee4a6489f",
      "aae174935bae473f8ffc08933194c2c5",
      "d97a65c823ef434cb9f6df181479f699",
      "955b7df30a2d45c5923f6097a0fa6ff2",
      "514790d5b0d64e999b67978edfb26754",
      "4f177a1fdc3144f194edade013e1fa8f",
      "720f42dffc804f19ad5f8b87d38b2d73",
      "1ae180ef97bc4c91b6c6808065b2ede1",
      "3968b39ce9964e509139b6609a8c41ee",
      "08ea7cf718dd472e92c2d58b27256c5c",
      "6805be0a0b764638bc68d8d2e5fc9f91",
      "a986224fd3714776976b2a52c19a36f2",
      "b9fbd786bf9e45448e5b6c867db9c55a",
      "41f867e91688495380af8f972583498a",
      "7e90cebfc9a44d98b9583f67bd61b725",
      "aad9da69b2604f0caf46888ea4725d8a",
      "1393683691da48a7af405080fc0912cc",
      "a8f1255356554cb1a7f91d181fb441c6",
      "0560df8dddaa4c769006e0d57740b1f2"
     ]
    },
    "id": "XzfHGFYA7xCj",
    "outputId": "0f760d93-aea3-4d7f-bdf3-485fb7bbf955"
   },
   "outputs": [],
   "source": [
    "ag3.plot_njt(\n",
    "    region=region,\n",
    "    n_snps=n_snps,\n",
    "    sample_sets = \"AG1000G-BF-B\",\n",
    "    color=\"taxon\",\n",
    ")"
   ]
  },
  {
   "cell_type": "markdown",
   "metadata": {
    "id": "7RSNqhwwLcsm"
   },
   "source": [
    "By colouring our leaves by taxon (`color=\"taxon\"`) we can see three taxa each forming clusters of closely related individuals with short branch lengths including *An. gambiae*, *An. coluzzii* and *An. arabiensis*. The branch length connecting *An. arabiensis* to the other taxa is the longest. This is because it is more distantly related to *An. coluzzii* and *An. gambiae*, _i.e._, there were more pairwise differences and therefore a higher distance value on comparison with the other species. Note that 101,077 SNPs were used here. The number of SNPs for analysis (100,000) is not exact because the specified region for SNP discovery is evenly thinned to provide a close approximation."
   ]
  },
  {
   "cell_type": "markdown",
   "metadata": {
    "id": "qKPvUeu3GJ-U"
   },
   "source": [
    "**Exercise 1.**\n",
    "\n",
    "Re-run the NJT for Burkina Faso, but this time construct the tree using the X chromosome. How does this change the phylogeny? What are the possible reasons for this?\n"
   ]
  },
  {
   "cell_type": "markdown",
   "metadata": {
    "id": "nqfiFoRK2KwU"
   },
   "source": [
    "# Analysis example - population structure of *An. gambiae* in East Africa"
   ]
  },
  {
   "cell_type": "markdown",
   "metadata": {
    "id": "nZbS3qhnni3M"
   },
   "source": [
    "Next we'll investigate population (within taxa) structure using the same region of the 3L chromosome arm as we used for the taxonomic analysis above. Let's explore whether we observe population structure in Tanzanian *An. gambiae*. We will restrict our analysis to this taxa using the sample query parameter. Since we are now looking within-species we might want to colour our samples by the location from which they originate."
   ]
  },
  {
   "cell_type": "code",
   "execution_count": null,
   "metadata": {
    "colab": {
     "base_uri": "https://localhost:8080/",
     "height": 617,
     "referenced_widgets": [
      "cfc9d33bf75349fa94c81d2409482226",
      "8b185988381040099d785d27cf1999af",
      "57cc3602bbe3489ebb1086e59c63c69e",
      "818eab5ed41942bda2d032d60c194c64",
      "adc38ec811054e5e888862813fac4f29",
      "7085708d4ba74487816f5ce0ad6846e4",
      "ad47e4f7ee1a4b04a277d0f10605f7bf",
      "ea6420e937684abc9594218220496064",
      "0696bda0f69641dcad7fa03f98fccdb8",
      "998d2d46e89644669e2dc1c24bbf7cc3",
      "c3c0846b60da4e2491ead9846b6b8a55",
      "719ee0aca0c34f72b2f18f12a787cb4c",
      "1bf16e0bdecd4705bca5ed5f41c40412",
      "7b346d2230884222939488c9adfdb532",
      "1db8e761a376451f8827ea08e73d61b2",
      "4ddf9b1d8eb54c92b5039ce6651e5e6b",
      "d391f3b45ea2488ca6affc5f96e8b791",
      "4ac374aabaad4843808b130d121577e7",
      "6a35d20dd0c94005baf2257342babda1",
      "46867208ebd04d639ecf58af97f45b62",
      "c8dbe9adbe6649d88a9f37fc1c2c6142",
      "2ced3fc9f9834d3c85e566fd40827ea4",
      "1da6f77d75be4c8591f94ba8a3ecee8d",
      "e8f293f64d5d4276850627395eb843ba",
      "90f60fdacb3a4c6f8fd716c567cd396c",
      "9d191ba2c53148089aa7cf942aeb0f32",
      "6410b329758945b2b26aaf7aa2b75925",
      "0e09c1d9c6bb4b71b5ad4511ad3305c0",
      "108b9f7118a243f088528c2a03c9248d",
      "b8a34f8baf104d61b2e5d7b7a080df31",
      "72328813dbd44dde822e39e251836c63",
      "8c2131af895342a4bdc40c8fa524c02d",
      "f5c7b566689546c98f8078bb0bb79bd6"
     ]
    },
    "id": "aFqJ6lX10pKs",
    "outputId": "3ef8fb78-37a4-4ddb-d800-9f3f0148e90f"
   },
   "outputs": [],
   "source": [
    "ag3.plot_njt(\n",
    "    region=region,\n",
    "    n_snps=n_snps,\n",
    "    sample_sets = \"AG1000G-TZ\",\n",
    "    sample_query=\"taxon == 'gambiae'\",\n",
    "    color=\"location\",\n",
    ")"
   ]
  },
  {
   "cell_type": "markdown",
   "metadata": {
    "id": "BtLTRXvboDZ-"
   },
   "source": [
    "In the tree we clearly have two clusters of closely related *An. gambiae* , one including individuals from Muleba in the northwest and another with individuals from Muheza located on the eastern coast likely resulting from restricted gene flow between the two regions _i.e._, geographic isolation.\n",
    "\n",
    "Let's add *An. gambiae* data from Kenya into our analysis to see how this relates to the structure observed in Tanzania by first colouring the samples by country."
   ]
  },
  {
   "cell_type": "code",
   "execution_count": null,
   "metadata": {
    "colab": {
     "base_uri": "https://localhost:8080/",
     "height": 617,
     "referenced_widgets": [
      "f62ed3dc5fc74e079276674ca9416eae",
      "ef559df787c24b199c8c95dca12fdcc2",
      "5a1f0fef7ec14ee983f23fdf5074733c",
      "59810cf2535644f3926130ef20134abf",
      "15b21098d3cc4e73a80b3bc387cee744",
      "d55c8f38b29c4551969cddb5d89b8608",
      "92854d966acd44dc961f4fe5f3eaeb6e",
      "01442f429c2244bc8b3b5c013289d45c",
      "a0efcf1534574635883e849523cbd993",
      "1ef790935fc34e81895f4f86124f8b1f",
      "ed2b1a8a7a054f30b22c9d1fea4081d0",
      "7dcb6d614f7140c686490c2ea7027858",
      "90543cab44a64383827759d9064875d4",
      "1b1a8c51b72b425182ba8112447c8812",
      "6830838dcb4c4a10a14daebc60c05c05",
      "c1569f93198140d8a036702ff293eb6d",
      "4eb9eb99138a4b8abb5cf792ff92327a",
      "d2e374ecbd8b4c0cae38079817cab39e",
      "39087d3e564840cb8c0a9b453a6b3e93",
      "c35028d334db46e29a537ddfc3ea5ddd",
      "1574a0865d274fd5b95b503d5af4a59e",
      "06edadb8fdf145778187742c45b619d2",
      "47d7de586f5642b8aff88d6a941f45e8",
      "3ddf5746ab694eaab89c289a13b25d42",
      "54228caa8c9645c081d001fe10960cf0",
      "2673435e20b94242b751b2605b4fafdf",
      "13d8ec0e7cca4af0ac6e339f45a643e0",
      "1a109b87e0604eb9a09ba778223ec957",
      "27403d8f52ad4591ba98f2d435c152b8",
      "f7ccf203b658410486dffa23a66029ef",
      "a4c09b26069f455e811699ea31215ae3",
      "74fb087a1ca34f6bbab5c864349fc46a",
      "d7ae069f207e4fff9155ab376469ca0b"
     ]
    },
    "id": "pNRXXdGI4zqp",
    "outputId": "08e235e3-7e9a-466d-cc00-19d57e654946"
   },
   "outputs": [],
   "source": [
    "ag3.plot_njt(\n",
    "    region=region,\n",
    "    n_snps=n_snps,\n",
    "    sample_sets = [\"AG1000G-TZ\",\"AG1000G-KE\"],\n",
    "    sample_query=\"taxon == 'gambiae'\",\n",
    "    color=\"country\",\n",
    ")"
   ]
  },
  {
   "cell_type": "markdown",
   "metadata": {
    "id": "z1M-qX_u41jn"
   },
   "source": [
    "We can see that the samples from Kenya fall into just one cluster of samples originating from Tanzania. Let's explore the location of these samples by changing the color parameter to see how this might relate to geography."
   ]
  },
  {
   "cell_type": "code",
   "execution_count": null,
   "metadata": {
    "colab": {
     "base_uri": "https://localhost:8080/",
     "height": 617
    },
    "id": "4zLh4JJ0oXvc",
    "outputId": "35b9a0bf-e606-4223-b9f8-c5d0d7dd20c5"
   },
   "outputs": [],
   "source": [
    "ag3.plot_njt(\n",
    "    region=region,\n",
    "    n_snps=n_snps,\n",
    "    sample_sets = [\"AG1000G-TZ\",\"AG1000G-KE\"],\n",
    "    sample_query=\"taxon == 'gambiae'\",\n",
    "    color=\"location\",\n",
    ")"
   ]
  },
  {
   "cell_type": "markdown",
   "metadata": {
    "id": "-vngKjLm4snv"
   },
   "source": [
    "Now we can see that the samples from Kenya are from Kilifi on the east coast. The Tanzanian samples with which they cluster originate Muheza, which is also located on the east coast. If we consider the geography of East Africa, the Great Rift Valley and Lake Victoria are potential barriers which might restrict mosquito movement and therefore gene flow between the coast and inland East Africa."
   ]
  },
  {
   "cell_type": "markdown",
   "metadata": {
    "id": "YTXlwMcO3qJG"
   },
   "source": [
    "**Exercise 2.**\n",
    "\n",
    "Add in the East African population cohort of Mayotte (\"AG1000G-FR\") into your NJT of East African populations. Where does this population cohort fall and how would you explain your findings considering this is an island population?"
   ]
  },
  {
   "cell_type": "markdown",
   "metadata": {
    "id": "_Hq0ENYs4eq0"
   },
   "source": [
    "# Analysis example - Population structure in West Africa"
   ]
  },
  {
   "cell_type": "markdown",
   "metadata": {
    "id": "iwezx9Up3OYU"
   },
   "source": [
    "Let's see if we also observe population structure in *An. gambiae* from \"Far West\" Africa, including samples from Guinea Bissau, The Gambia, Guinea and Mali."
   ]
  },
  {
   "cell_type": "code",
   "execution_count": null,
   "metadata": {
    "colab": {
     "base_uri": "https://localhost:8080/",
     "height": 617,
     "referenced_widgets": [
      "e1bd0edb3f8941ea8231ed25d2d0414c",
      "b68992cf2dc24c5a9a07674c0d170315",
      "763be7d344764ba89a0e3b7ced0b14a6",
      "84bd7ec78ed847cb86a450f35649ebc9",
      "4d3a8835a5a949e4a78750f53051c77a",
      "448bbec6e79d462aa00c97970aa9289d",
      "06c7a912e0ac4296955e421596d4a24c",
      "5521429a1ee44625bdf4df9d73c5dba0",
      "a3f313fbda2b43b89d10a8919d22b27b",
      "d381af7deb4a46a9a8450a96af836776",
      "1ebf1939624a44efaa95c879c9280177",
      "d945e8d65eef47019bf3f90291912bc1",
      "e0ddb339d1cb4ca88cb11febb673bc42",
      "8c13d7db17e54da29b2541dd2d6c8b49",
      "e74983c85a7a415c86cbe72c3cfab503",
      "c2d763e7b03744b88da54f84aa729396",
      "1e1649a1c6d742b5a3828740d6d0cc67",
      "eca05a5c014e42e4bdbf4957a3f4beb7",
      "8624fe0d0eac4273927f98dda0fd386c",
      "7ec635a534ae493eb2ccae541b08a79d",
      "36d809fac37d4587b26fdb97339dc161",
      "4e3c3f3961d141c583c78472f0098276",
      "699fffa0cd314f86a1d2b0f08cf4078c",
      "21294df023914ec39cbcf3b6cc322445",
      "99d6e0be37be4f799acf3be328cc4920",
      "c462e43c581c44e6b13ac831ad54e304",
      "2eeb1c29c609404da8a9a1836663a696",
      "5e4b977c75334faaa63bad4e54175d19",
      "f8d5630b965246f795a5ff2fad6d7819",
      "08897aa362784a64af3be48a27eb355e",
      "c78b1ae497584d10ac748d2ab8f2c99c",
      "46cf458227304b08ba11a4440f0004b0",
      "a2a0bd206d4647d8bfc96e3ebb28f240"
     ]
    },
    "id": "1jBctVdLHH_8",
    "outputId": "ebc39c90-8e40-41ee-f40d-edd878648f6c"
   },
   "outputs": [],
   "source": [
    "ag3.plot_njt(\n",
    "    region=region,\n",
    "    n_snps=100_000,\n",
    "    sample_sets=['AG1000G-GM-C', 'AG1000G-GN-B','AG1000G-GW'],\n",
    "    sample_query=\"taxon == 'gambiae'\",\n",
    "    color=\"country\",\n",
    ")"
   ]
  },
  {
   "cell_type": "markdown",
   "metadata": {
    "id": "eZIp78Z88JM6"
   },
   "source": [
    "All individuals of *An gambiae* from the Far West Africa form a single cluster with mixed geographical origin. There is therefore no population structure detected across the region and individuals are expected to undergo unrestricted gene flow.\n",
    "\n",
    "Let's compare what we see for *An. gambiae* to *An. coluzzii* from Far West Africa."
   ]
  },
  {
   "cell_type": "code",
   "execution_count": null,
   "metadata": {
    "colab": {
     "base_uri": "https://localhost:8080/",
     "height": 617,
     "referenced_widgets": [
      "4cbac9ae31cc4176b8fd06e6f937f519",
      "5c76376db66e4b9d8994b55915fc674b",
      "135b3c9adbbe41b3b129cf13f3102820",
      "fd490de244b5486db1b53df3daa7447a",
      "9fd24a9f43824957ada5131fb10cd4ef",
      "ba61cf9af72941e680cc113e5ed84618",
      "f00c6c2220144088927ddebd12fe9835",
      "c9fe200677bb42e9ba5760aa4f53723c",
      "17e7bc33785847fa9f8de98ab2d520b2",
      "47f6fc1856a74d2baf7f9142e97ade77",
      "2565273554214fb9ad05fad1e568f8db",
      "2edea4ee63964d3494cc9cfd6f1962e1",
      "18cb088914274db0b29dd17217fc907b",
      "77615fec683b44ca882d45052dd78b3a",
      "268e49b42f564eaeafc07a846922cc05",
      "1fb62c8e2ff4449abecb236418df05cc",
      "e847f41f33e54b71a0344c8e4ee5db0d",
      "99ef112475fb4c688b03f4f03591db89",
      "cb2ee291022b49bf8ff0d2531c42eaa8",
      "ab58b0ea1a024f68b560fd28e6e59425",
      "426759d9ce384609afad772fbb7f335b",
      "a60793b607244f2083cb404a9978e504",
      "ca580ddecf034a2fb1eda1c65fe8cf01",
      "91386465eb914b7ea0765ab61ce6c77a",
      "13d521879cb642719b9462e049d0d079",
      "b53cbf5fed7843fcac19f6ac0e46a30f",
      "31ac999b03264a9c9b4228ebf9a9587a",
      "4e0cc59f04bb4d22911b823a9062fbc3",
      "3973246202ec4df7bc99b681d1d9e17a",
      "addc0d2069f94a8fb0330cf5847fcf4d",
      "e6de9ef1f7544e19b09b6a87bec5ff70",
      "23056ac214b041c7bf807cdf22c89db0",
      "c7830108b89f440ba3fbf04cbe3ba117"
     ]
    },
    "id": "V4tAGbty6S8l",
    "outputId": "7f0955c8-5644-4fb2-e46e-f6542d7973d8"
   },
   "outputs": [],
   "source": [
    "ag3.plot_njt(\n",
    "    region=region,\n",
    "    n_snps=100_000,\n",
    "    sample_sets=['AG1000G-GM-C', 'AG1000G-GN-B','AG1000G-GW'],\n",
    "    sample_query=\"taxon == 'coluzzii'\",\n",
    "    color=\"country\",\n",
    ")"
   ]
  },
  {
   "cell_type": "markdown",
   "metadata": {
    "id": "f-iDFmIF9AF0"
   },
   "source": [
    "On first glance samples appear to form a single cluster but are clearly ordered by geographical origin, suggesting that *An. coluzzii* in Far West Africa are locally structured. If we zoom in on the plot, we see that there is in fact a distinction between these samples, with individuals from each country forming clusters seperated by short branches. Therefore, we see evidence for some restricted gene flow among *An. coluzzii* in Far West Africa. This is in constrast to what we saw from *An. gambiae* because we did not see any population structure across the same region. The difference we see could reflects differences in species ecology and dispersal. For example, *An. gambiae* oviposit in temporary water bodies and need to disperse to find these habitats. *An. coluzzii* however, tend to oviposit in permenant water bodies such as rice paddies and may not need to disperse as often or as far. However, it is worth noting that the situation is not always so simple since there is evidence to suggest *An. coluzzii* can also undergo long range airborne dispersal ([Lehmann *et al.* 2017](https://doi.org/10.1111/eva.12486))."
   ]
  },
  {
   "cell_type": "markdown",
   "metadata": {
    "id": "kzu4sJMl_oMR"
   },
   "source": [
    "**Exercise 3.**\n",
    "\n",
    "Investigate population structure in *An. coluzzii* from the West African countries of Burkina Faso, Cote D'Ivoire, Ghana ('AG1000G-BF-B', 'AG1000G-CI', 'AG1000G-GH'). Do you observe geographical population structure? How does this compare to the situation in Far West Africa?"
   ]
  },
  {
   "cell_type": "markdown",
   "metadata": {
    "id": "otaMSZcIFMBX"
   },
   "source": [
    "# Principal Components Analysis"
   ]
  },
  {
   "cell_type": "markdown",
   "metadata": {
    "id": "EmoYVOhVEIOg"
   },
   "source": [
    "Another method which is commonly used to visualise genomic variation in the data is principal components analysis (PCA). PCA is a method for reducing the dimensions of the variation found within a dataset to help make interpreting the data easier. Typically we use a region of genomic data (_e.g._ a chomosome arm) which might have millions of SNPs (from hundreds or thousands of samples). The PCA finds axes through the data that describe its variance, in the case of genomic data, this effectively collapses thousands or millions of dimensions (SNPs) down to a handful of __principal components__ (PCs) that describe structure in the data. On a PCA plot, individuals which have a similar genomic composition are clustered together while those which seperate out on the plot can indicate a degree of population structure due to reproductive isolation.\n",
    "\n",
    "Let's take a look at the sample set we used to investigate taxonomic structure in Burkina Faso using PCA. We will use the `ag3.pca` function to calculate our PCA. This function returns two objects, so we need to assign two variables to it. The first is a dataframe containing 20 PCs and the second is an array containing the percentage of variance in the data which is explained by each PC."
   ]
  },
  {
   "cell_type": "code",
   "execution_count": null,
   "metadata": {
    "colab": {
     "base_uri": "https://localhost:8080/"
    },
    "id": "KHxGcRAuEk6T",
    "outputId": "ff601024-064e-4b69-fd19-84a88436317e"
   },
   "outputs": [],
   "source": [
    "pca_bf_df, evr_bf = ag3.pca(\n",
    "    region=region,\n",
    "    n_snps=n_snps,\n",
    "    sample_sets=\"AG1000G-BF-B\",\n",
    ")"
   ]
  },
  {
   "cell_type": "markdown",
   "metadata": {
    "id": "dJWgXONQFiJs"
   },
   "source": [
    "## Plotting explained variance"
   ]
  },
  {
   "cell_type": "markdown",
   "metadata": {
    "id": "6QnIDfFoF3TV"
   },
   "source": [
    "Let's have a look at the explained variance output (`evr_bf`). We can see that this is an array of 20 floats (numbers with decimal points). These are the percentage of variance in the dataset explained by each of our 20 principal components"
   ]
  },
  {
   "cell_type": "code",
   "execution_count": null,
   "metadata": {
    "colab": {
     "base_uri": "https://localhost:8080/"
    },
    "id": "5kzsRBEoGebu",
    "outputId": "02dbdcf7-74e9-4329-bb88-bc18630e714a"
   },
   "outputs": [],
   "source": [
    "evr_bf"
   ]
  },
  {
   "cell_type": "markdown",
   "metadata": {
    "id": "4x7DioWEGf01"
   },
   "source": [
    "We can use the variance explained array to get an intuition for which PCs to examine. The easiest way to do this is to plot our `evr_bf` array in the form of a bar chart. We have a handy function in `malariagen_data` to do this for us. Again, this is an interactive plot and hovering the pointer over a bar will reveal the exact explained variance percentage."
   ]
  },
  {
   "cell_type": "code",
   "execution_count": null,
   "metadata": {
    "colab": {
     "base_uri": "https://localhost:8080/",
     "height": 417
    },
    "id": "aXEm0UW9HiOB",
    "outputId": "82f6be9e-63a2-40c6-c860-b8d43c920ae6"
   },
   "outputs": [],
   "source": [
    "ag3.plot_pca_variance(evr_bf)"
   ]
  },
  {
   "cell_type": "markdown",
   "metadata": {
    "id": "cVZ2tQfKHkGJ"
   },
   "source": [
    "In this example, the first principal component explains around 2.5% of the variance and the second around 2.25%, whereas all of the subsequent principal components explain less than 1.5% of the variance. The __absolute magnitude of these values is less important__ as this will change depending on what dataset we analyse. What is more important, however, is the fact that PCs 1 and 2 relatively explain much more variance than the subsequent PCs. In other words, there is a big step down from PC2 to PC3, then the variance explained flattens off. This is a good indication that these first two PCs are capturing some real structure in the data, and that the rest of the PCs are potentially just noise.\n",
    "\n",
    "There are various statistical methods for formally testing whether a principal component conveys a real signal of population structure or is just random noise (for example see [Patterson et al. 2006](https://doi.org/10.1371/journal.pgen.0020190) and [Forkman et al. 2019](https://doi.org/10.1007/s13253-019-00355-5)). However, for exploratory analyses, __looking at the differences in variance explained between the adjacent PCs, and ignoring the tail of PCs where the variance flattens off, is not a bad rule of thumb__."
   ]
  },
  {
   "cell_type": "markdown",
   "metadata": {
    "id": "bBuBQTShhiQ9"
   },
   "source": [
    "## Plotting principal components"
   ]
  },
  {
   "cell_type": "markdown",
   "metadata": {
    "id": "fLM7vi8EH4vM"
   },
   "source": [
    "We can visualise our analysis by making a scatter plot of the principal components for each sample, _e.g._, PC1 and PC2. The first two principal components are often sufficient to explore the data and are used by default when applying the function. Higher principal components can be visualised using the `x=` and `y=` parameters _e.g._ `x=\"PC3\", y=\"PC4\"`. Here we will colour the points by taxon to allow investigation of taxonomic structure."
   ]
  },
  {
   "cell_type": "code",
   "execution_count": null,
   "metadata": {
    "colab": {
     "base_uri": "https://localhost:8080/",
     "height": 617
    },
    "id": "MSy6EWjnHa4N",
    "outputId": "5e36c37f-a005-421f-fac6-dbde7cd28f83"
   },
   "outputs": [],
   "source": [
    "ag3.plot_pca_coords(\n",
    "    pca_bf_df,\n",
    "    color=\"taxon\",\n",
    "    title=\"Taxonomic structure in Burkina Faso\"\n",
    ")"
   ]
  },
  {
   "cell_type": "markdown",
   "metadata": {
    "id": "ko6JmAhkKMdV"
   },
   "source": [
    "On the PCA plot each point represents an individual sample. Let's plot the NJT for the Burkina Faso sample set again, so that we can compare our findings."
   ]
  },
  {
   "cell_type": "code",
   "execution_count": null,
   "metadata": {
    "colab": {
     "base_uri": "https://localhost:8080/",
     "height": 617
    },
    "id": "oFUAbRXVHhrT",
    "outputId": "41cae390-0bb9-431b-b422-56d26cde4fb1"
   },
   "outputs": [],
   "source": [
    "ag3.plot_njt(\n",
    "    region=region,\n",
    "    n_snps=n_snps,\n",
    "    sample_sets = \"AG1000G-BF-B\",\n",
    "    color=\"taxon\",\n",
    ")"
   ]
  },
  {
   "cell_type": "markdown",
   "metadata": {
    "id": "Xriv9-cAIyLK"
   },
   "source": [
    "Within both the NJT and PCA plot we see three groups seperating out the different taxon. *An. arabiensis* appears further away on the NJT and PCA plot than *An. gambiae* and *An. coluzzii* reflecting their evolutionary history. Since *An. gambiae* and *An. coluzzii* are more closely related, we expect them to share more SNPs. However, there is an important difference in how NJT and PCA are interpreted. The length of branches on the NJT are based on a measureable distance. That is, they are scaled to the number of genetic differences, _i.e_, SNPs, between individuals on the tree. In comparison, the location of individuals on the PCA plot do not represent genetic distance as an absolute measurement. For example, while we can say that *An. arabiensis* are more genetically different than  *An. gambiae* and *An. coluzzii*, this is based on relative distance and we cannot say by how much.\n",
    "\n",
    "Next we'll try PCA to look at population structure, as we did for the sample set from Tanzania. Similar to the NJT, we will use a sample query to restrict our analysis to *An. gambiae*. This time, we will colour the PCA plot by location to investigate geographical structure across Tanzania. We will also plot the NJT we computed earlier for comparison."
   ]
  },
  {
   "cell_type": "code",
   "execution_count": null,
   "metadata": {
    "colab": {
     "base_uri": "https://localhost:8080/"
    },
    "id": "2lihN5_q8743",
    "outputId": "db66e68d-c5c8-4b9b-f01d-c23de7d7da5b"
   },
   "outputs": [],
   "source": [
    "pca_tz_df, evr_tz = ag3.pca(\n",
    "    region=region,\n",
    "    n_snps=n_snps,\n",
    "    sample_sets=\"AG1000G-TZ\",\n",
    "    sample_query=\"taxon == 'gambiae'\",\n",
    ")"
   ]
  },
  {
   "cell_type": "code",
   "execution_count": null,
   "metadata": {
    "colab": {
     "base_uri": "https://localhost:8080/",
     "height": 617
    },
    "id": "6As5CvUX7LtO",
    "outputId": "44ba49c5-1644-4c3d-d1f2-9b021378ffcc"
   },
   "outputs": [],
   "source": [
    "ag3.plot_pca_coords(\n",
    "    pca_tz_df,\n",
    "    color=\"location\",\n",
    "    title=\"Population structure in Tanzania\"\n",
    ")"
   ]
  },
  {
   "cell_type": "code",
   "execution_count": null,
   "metadata": {
    "colab": {
     "base_uri": "https://localhost:8080/",
     "height": 617
    },
    "id": "r5vzwfm7PHJQ",
    "outputId": "90a4d9dc-1034-46b6-928d-0b687373d7f5"
   },
   "outputs": [],
   "source": [
    "ag3.plot_njt(\n",
    "    region=region,\n",
    "    n_snps=n_snps,\n",
    "    sample_sets = \"AG1000G-TZ\",\n",
    "    sample_query=\"taxon == 'gambiae'\",\n",
    "    color=\"location\",\n",
    ")"
   ]
  },
  {
   "cell_type": "markdown",
   "metadata": {
    "id": "0g1w2wNzAR8Z"
   },
   "source": [
    "In the NJT we see two clusters seperating samples from Muleba and Muheza in Tanzania indicating restricted gene flow between inland and coastal *An. gambiae*. On the PCA plot, we also see *An. gambiae* from these two locations form their own distinct clusters. Because mosquitoes from Muleba cluster closely on the plot, we can infer that samples from Muleba are more genetically similar to one another than they are to Muheza, and vice versa.\n",
    "\n",
    "Often, running more than one type of analysis can help with interpretation and in this case, both the results from NJT and PCA are concurrent. We can be more confident that we have found a signal of population structure seperating inland Muleba from coastal Muheza. This is an example of how performing mutliple analysis can help to strengthen the evidence for your findings."
   ]
  },
  {
   "cell_type": "markdown",
   "metadata": {
    "id": "3Mx2lOlvCHAS"
   },
   "source": [
    "**Exercise 4.**\n",
    "\n",
    "Run a PCA to investigate geographical population structure for populations in East Africa _i.e._, by adding the parameter `sample_sets=[\"AG1000G-TZ\",\"AG1000G-KE\", \"AG1000G-UG\"]`. How would you interpret this plot? Do results concur with findings from the NJT?"
   ]
  },
  {
   "cell_type": "markdown",
   "metadata": {
    "id": "Ul1zvX9wxvA3"
   },
   "source": [
    "##Well done!\n",
    "In this module we have run neighbour-joining trees across different mosquito cohorts and interpreted the results to discover taxonomic and geographic population structure.\n",
    "\n",
    "**Exercises (English)**\n",
    "\n",
    "Open this notebook in Google Colab and run it for yourself from top to bottom. As you run through the notebook, cell by cell, think about what each cell is doing, and try the practical exercises along the way.\n",
    "\n",
    "Have go at the practical exercises, but please don’t worry if you don’t have time to do them all during the practical session, and please ask the teaching assistants for help if you are stuck.\n",
    "\n",
    "Hint: To open the notebook in Google Colab, click the rocket icon at the top of the page, then select “Colab” from the drop-down menu.\n",
    "\n",
    "**Exercises (Français)**\n",
    "\n",
    "Ouvrir ce notebook dans Google Colab et l’exécuter vous-même du début à la fin. Pendant que vous exécutez le notebook, cellule par cellule, pensez à ce que chaque cellule fait et essayez de faire les exercices quand vous les rencontrez.\n",
    "\n",
    "Essayez de faire les exercices mais ne vous inquiétez pas si vous n’avez pas le temps de tout faire pendant la séance appliquée et n’hésitez pas à demander aux enseignants assistants si vous avez besoin d’aide parce que vous êtes bloqués.\n",
    "\n",
    "Indice: Pour ouvrir le notebook dans Google Colab, cliquer sur l’icône de fusée au sommet de cette page puis choisissez “Colab” dans le menu déroulant.\n",
    "\n"
   ]
  },
  {
   "cell_type": "code",
   "execution_count": null,
   "metadata": {},
   "outputs": [],
   "source": [
    "#test"
   ]
  }
 ],
 "metadata": {
  "colab": {
   "provenance": []
  },
  "kernelspec": {
   "display_name": "global-global-mgenv-7.0.0",
   "language": "python",
   "name": "conda-env-global-global-mgenv-7.0.0-py"
  },
  "language_info": {
   "codemirror_mode": {
    "name": "ipython",
    "version": 3
   },
   "file_extension": ".py",
   "mimetype": "text/x-python",
   "name": "python",
   "nbconvert_exporter": "python",
   "pygments_lexer": "ipython3",
   "version": "3.12.8"
  },
  "widgets": {
   "application/vnd.jupyter.widget-state+json": {
    "state": {},
    "version_major": 2,
    "version_minor": 0
   }
  }
 },
 "nbformat": 4,
 "nbformat_minor": 4
}
