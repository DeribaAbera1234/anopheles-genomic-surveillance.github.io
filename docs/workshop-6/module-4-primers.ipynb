{
 "cells": [
  {
   "cell_type": "markdown",
   "id": "815e8658",
   "metadata": {
    "id": "815e8658"
   },
   "source": [
    "![banner](../banner.jpg)\n",
    "\n",
    "***[Workshop 6](about) - Training course in data analysis for genomic surveillance of African malaria vectors***\n",
    "\n",
    "---"
   ]
  },
  {
   "cell_type": "markdown",
   "id": "95841879",
   "metadata": {
    "id": "95841879"
   },
   "source": [
    "# Module 4 - AnoPrimer - Primer Design in *Anopheles gambiae*\n",
    "\n",
    "**Theme: Tools & technology**\n",
    "\n",
    "In the previous modules of workshop 6, we learnt how to discover candidate loci for insecticide resistance, using genome-wide selection scans (GWSS). In this module, we introduce a new python package [AnoPrimer](https://github.com/sanjaynagi/AnoPrimer), which uses the [malariagen_data API](https://malariagen.github.io/vector-data/ag3/api.html) and [primer3-py](https://github.com/libnano/primer3-py), to allow us to design primers and probes in *Anopheles gambiae s.l*. We can use them to design these primers and probes to help us validate putative resistance loci. By integrating with data from MalariaGEN, AnoPrimer allows us to consider and avoid genetic variation in the Ag1000G resource during the design of our primers."
   ]
  },
  {
   "cell_type": "markdown",
   "id": "b0ccaed6",
   "metadata": {
    "id": "b0ccaed6"
   },
   "source": [
    "## Learning objectives\n",
    "\n",
    "At the end of this module you will be able to:\n",
    "\n",
    "- Describe the principles of PCR, qPCR, and the role of primers. \n",
    "- Describe some of the applications of PCR in vector control.\n",
    "- Explain why it is important to consider SNPs when designing primers.\n",
    "- Design genomic DNA primers to target the *ace1*-G280S mutation.\n",
    "- Design RT-qPCR primers to measure gene expression of the carboxylesterase, COEAE2F."
   ]
  },
  {
   "cell_type": "markdown",
   "id": "ecb88d41",
   "metadata": {
    "id": "3cb60aec"
   },
   "source": [
    "## Lecture"
   ]
  },
  {
   "cell_type": "markdown",
   "id": "18e5a3b3",
   "metadata": {
    "id": "3cb60aec"
   },
   "source": [
    "### English"
   ]
  },
  {
   "cell_type": "code",
   "execution_count": null,
   "id": "d9f72176",
   "metadata": {
    "tags": [
     "remove-input"
    ]
   },
   "outputs": [],
   "source": [
    "%%html\n",
    "<iframe width=\"560\" height=\"315\" src=\"https://www.youtube.com/embed/cKOmFymhxio\" title=\"YouTube video player\" frameborder=\"0\" allow=\"accelerometer; autoplay; clipboard-write; encrypted-media; gyroscope; picture-in-picture\" allowfullscreen></iframe>"
   ]
  },
  {
   "cell_type": "markdown",
   "id": "3cb60aec",
   "metadata": {
    "id": "3cb60aec"
   },
   "source": [
    "### Français"
   ]
  },
  {
   "cell_type": "code",
   "execution_count": null,
   "id": "25c34398",
   "metadata": {
    "tags": [
     "remove-input"
    ]
   },
   "outputs": [],
   "source": [
    "%%html\n",
    "<iframe width=\"560\" height=\"315\" src=\"https://www.youtube.com/embed/-ih8OII1irY\" title=\"YouTube video player\" frameborder=\"0\" allow=\"accelerometer; autoplay; clipboard-write; encrypted-media; gyroscope; picture-in-picture\" allowfullscreen></iframe>"
   ]
  },
  {
   "cell_type": "markdown",
   "id": "5068e78b-30ef-4ae0-a12d-67b7eade6f0e",
   "metadata": {},
   "source": [
    "Please note that the code in the cells below might differ from that shown in the video. This can happen because Python packages and their dependencies change due to updates, necessitating tweaks to the code."
   ]
  },
  {
   "cell_type": "markdown",
   "id": "527ff02d",
   "metadata": {
    "id": "527ff02d"
   },
   "source": [
    "## Introduction\n",
    "\n",
    "### What is the polymerase chain reaction (PCR)?\n",
    "\n",
    "PCR is a technique used to \"amplify\" small segments of DNA. Using PCR it is possible to generate thousands to millions of copies of a particular section of DNA from a very small input amount. In the context of vector control, we can use PCR and qPCR to genotype vectors for specific alleles, determine species, identify bloodmeals, measure gene expression, and much more.\n",
    "  \n",
    "**Ingredients**\n",
    "- The **DNA template** to be copied\n",
    "- DNA nucleotide bases (also known as **dNTPs**). DNA bases (A, C, G and T) are the building blocks of DNA and are needed to construct the new strand of DNA\n",
    "- **Taq polymerase** enzyme to add in the new DNA bases\n",
    "- **Buffer** to ensure the right conditions for the reaction\n",
    "- **Primers**, short stretches of DNA that initiate the PCR reaction, designed to bind to either side of the section of DNA you want to copy. **DNA polymerase** enzymes which perform DNA replication are only capable of adding nucleotides to the 3’-end of an existing nucleic acid, requiring a primer be bound to the template before DNA polymerase can begin a complementary strand.\n",
    "\n",
    "<center><img src=\"https://github.com/sanjaynagi/AgamPrimer/blob/main/graphics/teaching/ing_pcr.png?raw=1\" alt=\"pcr\" width=\"700\" height=\"300\"/></center>\n",
    "\n",
    "\n",
    "**The stages of PCR:**  \n",
    "\n",
    "<center><img src=\"https://github.com/sanjaynagi/AgamPrimer/blob/main/graphics/teaching/pcr_cycles.png?raw=1\" alt=\"pcr\" width=\"600\" height=\"250\"/></center>\n",
    "\n",
    "**Denaturation** – Heat the reaction to ~95°C to break apart the double stranded DNA template into single strands.\n",
    "\n",
    "<center><img src=\"https://github.com/sanjaynagi/AgamPrimer/blob/main/graphics/teaching/pcr-denaturing-animation.gif?raw=1\" alt=\"denaturing\" width=\"500\" height=\"150\" /></center>\n",
    "  \n",
    "**Annealing** – Lower the temperature to 50-56°C enable the DNA primers to attach to the single-stranded template DNA. \n",
    "\n",
    "<center><img src=\"https://github.com/sanjaynagi/AgamPrimer/blob/main/graphics/teaching/pcr-annealing-animation.gif?raw=1\" alt=\"denaturing\" width=500, height=150/></center>\n",
    "\n",
    "**Extension** – Raise the temperature to 72°C and the new strand of DNA is synthesised by the Taq polymerase enzyme.\n",
    "\n",
    "<center><img src=\"https://github.com/sanjaynagi/AgamPrimer/blob/main/graphics/teaching/extension.png?raw=1\" alt=\"denaturing\" width=500, height=175/></center>\n",
    "\n",
    " **Repeat entire process for 25-40 cycles. After each cycle, the number of DNA molecules will approximately double**.\n",
    "\n"
   ]
  },
  {
   "cell_type": "markdown",
   "id": "1AIewh3-CJM1",
   "metadata": {
    "id": "1AIewh3-CJM1"
   },
   "source": [
    "\n",
    "### Standard PCR (Detection / Genotyping / Sequencing)\n",
    "\n",
    "In standard PCR, we amplify specific regions of the genome and utilise the PCR product at the end of the reaction. This could be an endpoint PCR, where we run the PCR product on an agarose gel to determine the size of the amplicon. Alternatively, standard PCR can be used to amplify specific regions of the genome prior to next-generation sequencing (amplicon sequencing).\n",
    "\n",
    "<img src=\"https://github.com/sanjaynagi/AgamPrimer/blob/main/graphics/teaching/SINE.png?raw=1\" alt=\"denaturing\" width=300, height=300 align='right'/>\n",
    "\n",
    "#### Example applications in *An. gambiae*\n",
    "\n",
    "- The **SINE PCR species ID assay** for *An. gambiae s.l*, which can differentiate between the members of the gambiae complex, based on a marker on the X chromosome <sup>[1]</sup>   \n",
    "\n",
    "- The **2La PCR assay**, which determines the karyotype of the 2la inversion. <sup>[2]</sup>  \n",
    "\n",
    "- [**ANOSPP**](https://www.sanger.ac.uk/collaboration/the-anospp-project/), an amplicon sequencing panel which determines species within the entire *Anopheles* genus <sup>[3]</sup>"
   ]
  },
  {
   "cell_type": "markdown",
   "id": "03e16fb1",
   "metadata": {
    "id": "w34dumRntUEJ"
   },
   "source": [
    "### Quantitative PCR (Detection / Genotyping / Genotyping)\n",
    "\n",
    "In quantitative PCR, the concept is the same as standard PCR, but we measure the amount of DNA in the reaction at each cycle. To do this, we use either a fluorescent dye or fluorescent hybridisation probes, which emit light as the DNA concentration increases. The number of cycles at which each sample passes a given threshold, is called the **Cq or Ct value**. By measuring fluorescense and determining Cq values, we can determine the amount of DNA template that was in the original sample.\n",
    "\n",
    "<center><img src=\"https://github.com/sanjaynagi/AgamPrimer/blob/main/graphics/teaching/realtimePCR.png?raw=1\" alt=\"pcr\" width=\"700\" height=\"300\"/></center>\n",
    "\n",
    "\n",
    "\n",
    "### SYBR green\n",
    "\n",
    "SYBR green is a fluorescent dye, which emits a fluorescent signal when bound to double stranded DNA. \n",
    "\n",
    "<center><img src=\"https://github.com/sanjaynagi/AgamPrimer/blob/main/graphics/teaching/SYBR2.png?raw=1\" alt=\"sybr\" width=\"700\" height=\"300\"/></center>\n",
    "\n",
    "#### Example applications in *An. gambiae*\n",
    "\n",
    "-  Standard RT-qPCR assays for measuring **gene expression**\n",
    "-  The **SINE melt curve assay species ID** for *An. gambiae s.l* <sup>[4]</sup>, a high throughput version of the SINE PCR assay."
   ]
  },
  {
   "cell_type": "markdown",
   "id": "w34dumRntUEJ",
   "metadata": {
    "id": "w34dumRntUEJ"
   },
   "source": [
    "### TaqMan / LNA Probe\n",
    "\n",
    "Hybridisation probes are short sequences, like primers, which bind to the DNA template. These can have flourophores attached, which emit fluorescence when the probe is displaced from the DNA template. By designing multiple probes (with different fluorophores) which are specific to either the wild-type or mutant allele, we can genotype SNPs. TaqMan and Locked nucleic acid probes have modifications which increase the stability of the probe-template duplex and help probes to discriminate between SNPs.\n",
    "\n",
    "<center><img src=\"https://github.com/sanjaynagi/AgamPrimer/blob/main/graphics/teaching/TaqMan_lna.png?raw=1\" alt=\"pcr\" width=\"700\" height=\"300\"/></center>\n",
    "\n",
    "#### Example applications in *An. gambiae*\n",
    "\n",
    "-  TaqMan genotyping assays for Ace1, KDR. \n",
    "- ***Kdr* LNA assay** <sup>[5]</sup>, which simultaneously genotypes the *vgsc*-995F and *vgsc*-995S mutations."
   ]
  },
  {
   "cell_type": "markdown",
   "id": "o61vafg1XuK3",
   "metadata": {
    "id": "o61vafg1XuK3"
   },
   "source": [
    "\n",
    "### What is important to consider when designing primers?\n",
    "\n",
    "Suitable primers are crucial to effective PCR reactions and must be designed to be robust, reliable and consistent across experimental conditions. Primers are typically designed with the following characteristics:\n",
    "\n",
    "- **Size**: Size of the primer.\n",
    "  - Between 17-24 bases long\n",
    "  - This can vary depending on the application. Often, TaqMan and LNA probes are shorter, as it helps to discriminate between SNPs.\n",
    "- **Tm**: the temperature at which the primer duplex dissociates into single strands.\n",
    "  - A Melting temperature of 59–64°C, with an ideal temperature of 62°C, which is based on typical PCR conditions and the optimum temperature for PCR enzymes.\n",
    "- **GC content**\n",
    "  - GC content between 35–70%, with an ideal content of ~50%. \n",
    "  - Should not contain regions of 4 or more consecutive G residues. \n",
    " \n",
    "Primers should also be free of strong secondary structures and self-complementarity. Primer design algorithms, such as primer3, will take these considerations into account. \n"
   ]
  },
  {
   "cell_type": "markdown",
   "id": "CIsEtpolXwN0",
   "metadata": {
    "id": "CIsEtpolXwN0"
   },
   "source": [
    "\n",
    "### What happens if there are SNPs in primer binding sites?\n",
    "\n",
    "Single nucleotide polymorphisms (SNPs) in primer binding sites can affect both the stability and *Tm* of the primer-template duplex, as well as the efficiency with which DNA polymerases can extend the primer (Figure 2). In some cases, this can completely prevent primer binding and amplification of the template DNA, often referred to as null alleles. Null alleles can become particular troublesome when performing PCR on pooled samples, where we may not observe whether all samples amplified successfully, and so we may not be sampling and observing the full range of alleles.\n",
    "\n",
    "An equally problematic scenario may occur if primers bind but with unequal efficiency against different genetic variants. In this case, in any quantitative molecular assay such as qPCR for gene expression, SNPs could lead to biases in the estimation of gene expression between genetic variants or strains. Even single SNPs can introduce a variety of effects, ranging from minor to major impacts on Cq values <sup>[6]</sup>. The effect will depend on the type of SNP (which nucleotides are involved), and on the position of the SNP (3’ or 5’ end), as SNPs within the last 5 nucleotides at the 3’ end can disrupt the nearby polymerase active site, and so these tend to have a much greater impact <sup>[7]</sup>. SNPs at the terminal 3’ base had the strongest shift of Cq, altering Cq by as much as 5–7 cycles (Figure 2).\n",
    "\n",
    "<figure style=\"float: center; width: 500px;\">\n",
    "    <img src=\"https://github.com/sanjaynagi/AgamPrimer/blob/main/graphics/teaching/snps_primer.jpg?raw=1\" alt=\"mismatches2\"/>\n",
    "    <figcaption>Figure 2: Mismatches at the 3’ end of primers substantially reduce qPCR performance <sup>[6]</sup>.</figcaption>\n",
    "</figure>\n",
    "\n",
    "To maximise the accuracy of our data we should therefore aim to either design primers that avoid SNPs completely or that contain a mix of bases (degenerate) at the sites of SNPs. There is a useful article on this topic on the IDT website - [Consider SNPs when designing PCR and qPCR assays](https://eu.idtdna.com/pages/education/decoded/article/considering-snps-when-designing-pcr-and-qpcr-assays).\n",
    "\n",
    "\n",
    "### AnoPrimer \n",
    "\n",
    "As we have seen in earlier workshops, the Ag1000G resource <sup>[8]</sup> has revealed extreme amounts of [genetic variation in *Anopheles gambiae s.l*](https://genome.cshlp.org/content/30/10/1533.full). You can find a SNP in less than every 2 bases of the accessible genome - which makes considering SNPs even more important when designing molecular assays. However, it was not previously straightforward to consider genetic variation when designing primers, and so the vast majority of primers currently in use did not consider SNP variation during their design.\n",
    "\n",
    "Primer3 is the most widely cited program for primer design, and has been used extensively over the past two decades <sup>[9]</sup>. It is also the primer design engine behind [Primer-BLAST](https://www.ncbi.nlm.nih.gov/tools/primer-blast/) <sup>[10]</sup>, a web-server which designs primers and then blasts the primers to check for specificity. Thanks to the [primer3-py](https://github.com/libnano/primer3-py) python package and the [malariagen_data API](https://malariagen.github.io/vector-data/ag3/api.html), it is now possible to design primers in the cloud with google colab, considering SNP variation."
   ]
  },
  {
   "cell_type": "markdown",
   "id": "f07c4647",
   "metadata": {
    "id": "f07c4647"
   },
   "source": [
    "## Setup\n",
    "\n",
    "Install and import the packages we'll need."
   ]
  },
  {
   "cell_type": "code",
   "execution_count": null,
   "id": "5bc91912-b667-4013-8c2d-a68e520a5758",
   "metadata": {
    "tags": []
   },
   "outputs": [],
   "source": [
    "%pip install -q --no-warn-conflicts malariagen_data AnoPrimer primer3-py kaleido"
   ]
  },
  {
   "cell_type": "markdown",
   "id": "bdf2903a",
   "metadata": {},
   "source": [
    "You might see a warning message looking something like:\n",
    "\n",
    "`Tue May 14 04:41:51 2024 WARNING No project ID could be determined. Consider running 'gcloud config set project' or setting the GOOGLE_CLOUD_PROJECT environment variable`\n",
    "\n",
    "This can safely be ignored."
   ]
  },
  {
   "cell_type": "code",
   "execution_count": 1,
   "id": "528ae85d",
   "metadata": {
    "id": "528ae85d",
    "tags": []
   },
   "outputs": [],
   "source": [
    "# Import libraries \n",
    "import malariagen_data\n",
    "import pandas as pd\n",
    "import primer3\n",
    "import AnoPrimer\n",
    "\n",
    "#configure plotting with matplotlib\n",
    "%matplotlib inline\n",
    "%config InlineBackend.figure_format = \"retina\""
   ]
  },
  {
   "cell_type": "markdown",
   "id": "bf14ab7c",
   "metadata": {
    "id": "746LdtO9W8lE"
   },
   "source": [
    "\n",
    "## Worked example: Designing primers for the *ace1*-280S mutation\n",
    "\n",
    "In the rest of this module, we will design primers and probes for the *ace1*-280S mutation (previously *ace1*-119S). This mutation is known to be important in resistance to organophosphates and carbamates, insecticides which are widely used in indoor residual spraying (IRS). The resistance mutation has spread throughout much of west and central Africa, including introgressing from *An. gambiae* to *An. coluzzii*, and is often found on the background of large duplications which often pair wild-type and mutant alleles <sup>[11]</sup>. We see very large signals of selection at this locus in many contemporary populations of *An. gambiae*. "
   ]
  },
  {
   "cell_type": "markdown",
   "id": "5d32c5b4",
   "metadata": {},
   "source": [
    "### Selecting primer parameters\n",
    "\n",
    "In the below cells, replace the values with those desired for your primers."
   ]
  },
  {
   "cell_type": "code",
   "execution_count": 2,
   "id": "SV03ewwc9de8",
   "metadata": {
    "cellView": "form",
    "id": "SV03ewwc9de8",
    "tags": []
   },
   "outputs": [],
   "source": [
    "#@title **Primer parameters** { run: \"auto\" }\n",
    "\n",
    "# N.B., this cell will be rendered as a form when running on colab\n",
    "\n",
    "assay_type = \"gDNA primers + probe\"  #@param [\"gDNA primers\", \"gDNA primers + probe\", \"probe\", \"cDNA primers\"]\n",
    "assay_name = 'ace1-280s'  #@param {type:\"string\"}\n",
    "min_amplicon_size = 60  #@param {type:\"integer\"}\n",
    "max_amplicon_size = 120  #@param {type:\"integer\"}\n",
    "amplicon_size_range = [[min_amplicon_size, max_amplicon_size]]\n",
    "n_primer_pairs = 6  #@param {type:\"slider\", min:1, max:20, step:1}\n",
    "cDNA_exon_junction=True #ignore\n",
    "\n",
    "#@markdown    \n",
    "#@markdown target_loc is required for gDNA primers and probes, and transcript required for qPCR primers.\n",
    "\n",
    "target_loc =  '2R:3492074'  #@param {type:\"string\"}\n",
    "transcript =  ''  #@param {type:\"string\"} \n",
    "\n",
    "if any(item in assay_type for item in ['gDNA', 'probe']):\n",
    "  assert int(target_loc[3:]) > 0, \"Target location must be above 0 and less than the contig length\"\n",
    "elif assay_type == 'cDNA primers':\n",
    "  assert len(transcript) > 2, \"Transcript ID is not valid, should be vectorbase ID such as 'AGAP004707-RD'\""
   ]
  },
  {
   "cell_type": "markdown",
   "id": "c2073e67",
   "metadata": {
    "id": "c2073e67"
   },
   "source": [
    "Configure access to the MalariaGEN Ag3 data resource.\n",
    "Note that authentication is required to access data through the package, please follow the instructions [here](https://malariagen.github.io/vector-data/vobs/vobs-data-access.html)."
   ]
  },
  {
   "cell_type": "code",
   "execution_count": null,
   "id": "338d8c1a",
   "metadata": {
    "colab": {
     "base_uri": "https://localhost:8080/",
     "height": 233
    },
    "id": "338d8c1a",
    "outputId": "c39c3494-8072-4421-c3c0-44b3f34ee7e6",
    "tags": []
   },
   "outputs": [],
   "source": [
    "ag3 = malariagen_data.Ag3()\n",
    "# Connect to the malariagen_data ag3 API\n",
    "contig, target = AnoPrimer.check_and_split_target(species=\"gambiae_sl\", target=target_loc, assay_type=assay_type)\n",
    "genome_seq = ag3.genome_sequence(region=contig)\n",
    "print(f\"Our genome sequence for {contig} is {genome_seq.shape[0]} bp long\")"
   ]
  },
  {
   "cell_type": "markdown",
   "id": "aa733775",
   "metadata": {
    "id": "aa733775"
   },
   "source": [
    "Load sequence data for the chromosomal arm of choice, using the [malariagen_data API](https://malariagen.github.io/vector-data/ag3/api.html):"
   ]
  },
  {
   "cell_type": "code",
   "execution_count": null,
   "id": "5fa0be8d",
   "metadata": {
    "colab": {
     "base_uri": "https://localhost:8080/"
    },
    "id": "5fa0be8d",
    "outputId": "eb3fbe20-0f9d-4909-d1ac-04e7ba9f04c3",
    "tags": []
   },
   "outputs": [],
   "source": [
    "genome_seq = ag3.genome_sequence(region=contig)\n",
    "print(f\"Our genome sequence for {contig} is {genome_seq.shape[0]} bp long\")"
   ]
  },
  {
   "cell_type": "markdown",
   "id": "144a37ce",
   "metadata": {
    "id": "144a37ce"
   },
   "source": [
    "Now we need to extract the bit of genome sequence we need. We will use functions in the [AnoPrimer](https://pypi.org/project/AnoPrimer/) package. For genomic DNA primers, this is quite simple and we can make direct use of the `ag3.genome_sequence()` function, but for cDNA qPCR primers, we must only include coding sequence, and so we must concatenate exons together.\n",
    "\n",
    "With qPCR primers for cDNA, we also must ensure that one primer spans an exon-exon junction, to ensure that any residual genomic DNA in our samples does not get amplified. We must therefore make a note of where the exon junctions are, and we store that as a list in the `exon_junctions` variable."
   ]
  },
  {
   "cell_type": "code",
   "execution_count": null,
   "id": "R0CkEd38VXGY",
   "metadata": {
    "colab": {
     "base_uri": "https://localhost:8080/"
    },
    "id": "R0CkEd38VXGY",
    "outputId": "98dbbc29-e598-44da-ba33-75ba0f853171",
    "tags": []
   },
   "outputs": [],
   "source": [
    "seq_parameters = AnoPrimer.prepare_sequence(\n",
    "                                species=\"gambiae_sl\",\n",
    "                                target=target,\n",
    "                                assay_type=assay_type,\n",
    "                                assay_name=assay_name,\n",
    "                                genome_seq=genome_seq,\n",
    "                                amplicon_size_range=amplicon_size_range,\n",
    "                                cDNA_exon_junction=cDNA_exon_junction,\n",
    "                                )"
   ]
  },
  {
   "cell_type": "markdown",
   "id": "_aaCJGAXUCSx",
   "metadata": {
    "id": "_aaCJGAXUCSx"
   },
   "source": [
    "Now we have our target sequence. Lets take a look..."
   ]
  },
  {
   "cell_type": "code",
   "execution_count": null,
   "id": "nDaWXq7f9hyA",
   "metadata": {
    "colab": {
     "base_uri": "https://localhost:8080/",
     "height": 53
    },
    "id": "nDaWXq7f9hyA",
    "outputId": "635d7c7a-6014-4107-a671-0e2503cdb9c4",
    "tags": []
   },
   "outputs": [],
   "source": [
    "seq_parameters['SEQUENCE_TEMPLATE']"
   ]
  },
  {
   "cell_type": "markdown",
   "id": "38fe2530",
   "metadata": {
    "id": "38fe2530"
   },
   "source": [
    "We need to set up a second python dictionary, which will be our input to primer3. This contains our preferred primer parameters. In the below cell, you can modify or add primer3 parameters, such as optimal primer size, TM, GC content etc etc. A full list of possible parameters and their functions can be found in the [primer3 2.6.1 manual](https://htmlpreview.github.io/?https://github.com/primer3-org/primer3/blob/v2.6.1/src/primer3_manual.htm)."
   ]
  },
  {
   "cell_type": "code",
   "execution_count": 9,
   "id": "622ac6d9",
   "metadata": {
    "id": "622ac6d9",
    "tags": []
   },
   "outputs": [],
   "source": [
    "primer_parameters  =  {\n",
    "    'PRIMER_OPT_SIZE': 20,\n",
    "    'PRIMER_TASK':'generic',\n",
    "    'PRIMER_MIN_SIZE': 17,\n",
    "    'PRIMER_MAX_SIZE': 24,\n",
    "    'PRIMER_OPT_TM': 60.0,\n",
    "    'PRIMER_MIN_TM': 55.0,\n",
    "    'PRIMER_MAX_TM': 64.0,\n",
    "    'PRIMER_MIN_GC': 30.0,\n",
    "    'PRIMER_MAX_GC': 75.0,\n",
    "    'PRIMER_MIN_THREE_PRIME_DISTANCE': 3,  # this parameter is the minimum distance between successive pairs. If 1, it means successive primer pairs could be identical bar one base shift\n",
    "    'PRIMER_INTERNAL_OPT_SIZE': 16,  # Probe size preferences if selected, otherwise ignored\n",
    "    'PRIMER_INTERNAL_MIN_SIZE': 10,\n",
    "    'PRIMER_INTERNAL_MAX_SIZE': 22,\n",
    "    'PRIMER_INTERNAL_MIN_TM': 45,\n",
    "    'PRIMER_INTERNAL_MAX_TM': 65,  # Probe considerations are quite relaxed, assumed that LNAs / Taqman will be used later to affect TM\n",
    "    # Extra primer3 parameters can go here\n",
    "    # In the same format as above                       \n",
    "}\n",
    "\n",
    "# adds some necessary parameters depending on assay type\n",
    "primer_parameters = AnoPrimer.primer_params(\n",
    "    assay_type=assay_type, \n",
    "    primer_parameters=primer_parameters, \n",
    "    n_primer_pairs=n_primer_pairs, \n",
    "    amplicon_size_range=amplicon_size_range,\n",
    ") "
   ]
  },
  {
   "cell_type": "markdown",
   "id": "0819ba76",
   "metadata": {
    "id": "0819ba76"
   },
   "source": [
    "### Run the primer3 algorithm!"
   ]
  },
  {
   "cell_type": "code",
   "execution_count": 10,
   "id": "ae6e7525",
   "metadata": {
    "id": "ae6e7525",
    "tags": []
   },
   "outputs": [],
   "source": [
    "primer_dict = primer3.designPrimers(\n",
    "    seq_args=seq_parameters, \n",
    "    global_args=primer_parameters\n",
    ")"
   ]
  },
  {
   "cell_type": "markdown",
   "id": "56945ca6",
   "metadata": {
    "id": "56945ca6"
   },
   "source": [
    "It should be *fast*. The output, which we store as 'primer_dict', is a python dictionary containing the full results from primer3. We will turn this into a pandas dataframe containing just the necessary bits of information. First, we'll print some information from the primer3 run."
   ]
  },
  {
   "cell_type": "code",
   "execution_count": null,
   "id": "1bb40846",
   "metadata": {
    "colab": {
     "base_uri": "https://localhost:8080/"
    },
    "id": "1bb40846",
    "outputId": "052f3437-9a32-47d5-d15f-604aa756e8ee",
    "tags": []
   },
   "outputs": [],
   "source": [
    "AnoPrimer.primer3_run_statistics(primer_dict, assay_type)"
   ]
  },
  {
   "cell_type": "markdown",
   "id": "CbVMwOdCrNMf",
   "metadata": {
    "id": "CbVMwOdCrNMf"
   },
   "source": [
    "Now lets convert this into an easy to read pandas dataframe."
   ]
  },
  {
   "cell_type": "code",
   "execution_count": null,
   "id": "bf8c5970",
   "metadata": {
    "colab": {
     "base_uri": "https://localhost:8080/",
     "height": 488
    },
    "id": "bf8c5970",
    "outputId": "6d83511f-35a3-409a-ead3-cfa867029fc0",
    "tags": []
   },
   "outputs": [],
   "source": [
    "primer_df = AnoPrimer.primer3_to_pandas(primer_dict, assay_type)\n",
    "primer_df"
   ]
  },
  {
   "cell_type": "markdown",
   "id": "Lf0CeEVrtaxP",
   "metadata": {
    "id": "Lf0CeEVrtaxP"
   },
   "source": [
    "\n",
    "We can write this to .tsv and excel files, which can be explored in other editors."
   ]
  },
  {
   "cell_type": "code",
   "execution_count": 13,
   "id": "09eQYSeT7lHG",
   "metadata": {
    "id": "09eQYSeT7lHG",
    "tags": []
   },
   "outputs": [],
   "source": [
    "primer_df.to_csv(f\"{assay_name}.{assay_type}.primers.tsv\", sep=\"\\t\")\n",
    "primer_df.to_excel(f\"{assay_name}.{assay_type}.primers.xlsx\")"
   ]
  },
  {
   "cell_type": "markdown",
   "id": "6fcc8593",
   "metadata": {},
   "source": [
    "Lets create an AnoPrimerResults object, which will allow us to easily access and explore the results of our primer3 run."
   ]
  },
  {
   "cell_type": "code",
   "execution_count": null,
   "id": "29e5bc81",
   "metadata": {},
   "outputs": [],
   "source": [
    "primers = AnoPrimer.AnoPrimerResults(\n",
    "        species=\"gambiae_sl\",\n",
    "        data_resource=ag3,\n",
    "        contig=contig,\n",
    "        assay_type=assay_type,\n",
    "        assay_name=assay_name,\n",
    "        target=target,\n",
    "        primer_df=primer_df,\n",
    "        seq_parameters=seq_parameters,\n",
    "        primer_parameters=primer_parameters,\n",
    "    )\n",
    "\n",
    "primers"
   ]
  },
  {
   "cell_type": "markdown",
   "id": "b4a9776c",
   "metadata": {
    "id": "b4a9776c"
   },
   "source": [
    "### Looking for variation using the Ag1000G data resource\n",
    "\n",
    "As we've seen in earlier workshops, Ag1000G samples are organised into sample sets. Lets look at what each sample set contains, breaking it down by species, year and country. "
   ]
  },
  {
   "cell_type": "code",
   "execution_count": null,
   "id": "61286685",
   "metadata": {
    "colab": {
     "base_uri": "https://localhost:8080/",
     "height": 1000,
     "referenced_widgets": [
      "bbf351cef55f45a9af635ae3fdef4545",
      "00fd40decfb447c98307cf817055cc83",
      "3df8d1664f99432e90a3521ffaa54fe3",
      "e73718d89be642e7adbb8abab441cd71",
      "bf628ae9b7df45c59dcd381d179746dd",
      "13e0faac5a534973a737f2c11158110c",
      "edf49ec3949047ab902b8ab2d6981bdf",
      "5b2e179c55794344bc6231fc3537d264",
      "e3f78396230249a5b4e08a8fe93c9bb4",
      "25344ace43974c59be0eee35f4915b3a",
      "fa94ca372db84ebb898eede7aa8fd855"
     ]
    },
    "id": "61286685",
    "outputId": "fa90b592-e22e-43af-82f3-c7b83a34ffd9",
    "tags": []
   },
   "outputs": [],
   "source": [
    "primers.summarise_metadata(sample_sets=\"3.0\", sample_query=None)"
   ]
  },
  {
   "cell_type": "markdown",
   "id": "BLwvXBT28NYE",
   "metadata": {
    "id": "BLwvXBT28NYE"
   },
   "source": [
    "Here, we can see the breakdown by sample set for country, species and year. For the purposes of this notebook, let's use the Ghana sample set. If we wanted to use all sample sets, we could supply '3.0' instead of a sample set, which will load all samples from the Ag3.0 release."
   ]
  },
  {
   "cell_type": "code",
   "execution_count": 16,
   "id": "49ca7f2b",
   "metadata": {
    "id": "49ca7f2b",
    "tags": []
   },
   "outputs": [],
   "source": [
    "sample_sets = ['AG1000G-BF-A', 'AG1000G-GH', 'AG1000G-GN-A']\n",
    "# here we could subset to specific values in the metadata e.g.: \"taxon == 'gambiae'\" , or \"taxon == 'arabiensis'\"\n",
    "sample_query = None "
   ]
  },
  {
   "cell_type": "markdown",
   "id": "67coxQKoo82x",
   "metadata": {
    "id": "67coxQKoo82x"
   },
   "source": [
    "### Plot allele frequencies in primers locations\n",
    "\n",
    "Now we can plot the primers pairs, and the frequency of any alternate alleles in the Ag1000G sample set of choice. When calculating allele frequencies, we will take the sum of all alternate alleles, as we are interested here in any mutations which are different from the reference genome. We can see the frequencies of specific alleles by hovering over the points of the plot - in some cases it may be preferable to design degenerate primers rather than avoid a primer pair completely.\n",
    "\n",
    "We will also plot the primer Tm, GC and genomic spans of each primer binding site. We can use this plot to identify primers pairs and probes which may be suitable, particularly trying to avoid SNPs in the 3' end. "
   ]
  },
  {
   "cell_type": "code",
   "execution_count": null,
   "id": "shXKBpG49LSU",
   "metadata": {
    "colab": {
     "base_uri": "https://localhost:8080/",
     "height": 1000
    },
    "id": "shXKBpG49LSU",
    "outputId": "b9b2466f-67d0-40e4-c9da-e50ee12299d6",
    "tags": []
   },
   "outputs": [],
   "source": [
    "results_dict = primers.plot_primer_snp_frequencies(\n",
    "    sample_sets=sample_sets, \n",
    "    sample_query=sample_query,\n",
    "    out_dir=\".\"\n",
    ")"
   ]
  },
  {
   "cell_type": "markdown",
   "id": "aCVuE1CiAR4h",
   "metadata": {
    "id": "aCVuE1CiAR4h"
   },
   "source": [
    "Now lets plot these primer pairs across the genome, highlighting where they are in relation to any nearby exons..."
   ]
  },
  {
   "cell_type": "code",
   "execution_count": null,
   "id": "cAacbw-q8Sgm",
   "metadata": {
    "colab": {
     "base_uri": "https://localhost:8080/",
     "height": 286
    },
    "id": "cAacbw-q8Sgm",
    "outputId": "aeb67689-9587-4bab-f8c0-97f66aea0699"
   },
   "outputs": [],
   "source": [
    "primers.plot_primer_locs(\n",
    "    legend_loc='lower left',\n",
    "    out_dir=\".\",\n",
    ")"
   ]
  },
  {
   "cell_type": "markdown",
   "id": "-aIy4IyoBc7-",
   "metadata": {
    "id": "-aIy4IyoBc7-"
   },
   "source": [
    "### Checking our primers for specificity to the *Anopheles gambiae* genome\n",
    "\n",
    "We can use a cool new python package, [gget](https://github.com/pachterlab/gget), to rapidly search our primers against the AgamP3 genome, to ensure they will not amplify any other regions of the genome. gget rapidly queries large databases - in this case we can use the program BLAT to align primer sequences. Unfortunately as the lengths of primer sequences are so short, it is at the limit of BLATs sensitivity, and in some cases, matches are not returned. gget can also currently only query the older AgamP3 assembly, and not *An. funestus*. Therefore, it is also recommended run a more exhaustive search in [Primer-BLAST](https://www.ncbi.nlm.nih.gov/tools/primer-blast/)."
   ]
  },
  {
   "cell_type": "code",
   "execution_count": null,
   "id": "f9fedfe4",
   "metadata": {
    "colab": {
     "base_uri": "https://localhost:8080/",
     "height": 631
    },
    "id": "f9fedfe4",
    "outputId": "b8baa2e0-6636-4022-b940-b033e7fdb4ce"
   },
   "outputs": [],
   "source": [
    "blat_result_df = primers.gget_blat_genome(\n",
    "    assembly='anoGam3'\n",
    ")\n",
    "\n",
    "blat_result_df"
   ]
  },
  {
   "cell_type": "markdown",
   "id": "1f7ca79e",
   "metadata": {
    "id": "1f7ca79e"
   },
   "source": [
    "### Further considerations\n",
    "\n",
    "We may now have designed suitable primers. However, there are some further considerations...\n",
    "\n",
    "- Primers should be run in [**Primer-BLAST**](https://www.ncbi.nlm.nih.gov/tools/primer-blast/), to ensure specificity against the host organism, and specificity for the genomic location of interest.\n",
    "\n",
    "- If in multiplexed use with other primers or probes, primers must not interact with each other. This can be investigated on a one by one basis using the IDT tool [oligoanalyzer](https://eu.idtdna.com/calc/analyzer), though higher throughput algorithms may be required.\n",
    "\n",
    "- If designing TaqMan or Locked Nucleic Acid (LNA) probes for SNP detection, further modification will be required, such as adding fluorophores and ensuring the two probes (one for wild-type, one for mutant) can discriminate between SNPs. for LNA probes, you will want to play around with the placement of LNAs in the oligo sequence, which can allow short probes (~10-14 bases) to bind with high affinity and discriminate between SNPs. IDT have a tool for this which allow you to check the binding affinity between mismatches, though it requires a log in https://eu.idtdna.com/calc/analyzer/lna. \n",
    "\n",
    "- Many more considerations.... [IDT - How to design primers and probes for PCR and qPCR](https://eu.idtdna.com/pages/education/decoded/article/designing-pcr-primers-and-probes)   \n"
   ]
  },
  {
   "cell_type": "markdown",
   "id": "7FUld8V3GQRk",
   "metadata": {
    "id": "7FUld8V3GQRk"
   },
   "source": [
    "## Worked example: Primers to avoid\n",
    "\n",
    "In the above *ace1* example, all of the primer pairs look reasonable. Lets have a look at an example where some of the primers do not look so good. A UGT detoxification gene, AGAP006222, is overexpressed very highly in populations of *An. coluzzii* - lets try and design some qPCR primers to measure its expression. The below `AnoPrimer.designPrimers()` function integrates the entire notebook into one function, for convenience."
   ]
  },
  {
   "cell_type": "code",
   "execution_count": 22,
   "id": "hKugtREjGU8-",
   "metadata": {
    "colab": {
     "base_uri": "https://localhost:8080/",
     "height": 1000
    },
    "id": "hKugtREjGU8-",
    "outputId": "f6cbfa18-b3e7-41d0-f01b-2347dd317015"
   },
   "outputs": [],
   "source": [
    "primer_parameters  =  {\n",
    "    'PRIMER_OPT_SIZE': 20,\n",
    "    'PRIMER_TASK':'generic',\n",
    "    'PRIMER_MIN_SIZE': 17,\n",
    "    'PRIMER_MAX_SIZE': 24,\n",
    "    'PRIMER_OPT_TM': 60.0,\n",
    "    'PRIMER_MIN_TM': 55.0,\n",
    "    'PRIMER_MAX_TM': 64.0,\n",
    "    'PRIMER_MIN_GC': 30.0,\n",
    "    'PRIMER_MAX_GC': 70.0,\n",
    "    'PRIMER_MIN_THREE_PRIME_DISTANCE': 3,  # this parameter is the minimum distance between successive pairs. If 1, it means successive primer pairs could be identical bar one base shift\n",
    "    'PRIMER_INTERNAL_OPT_SIZE': 16,  # Probe size preferences if selected, otherwise ignored\n",
    "    'PRIMER_INTERNAL_MIN_SIZE': 10,\n",
    "    'PRIMER_INTERNAL_MAX_SIZE': 22,\n",
    "    'PRIMER_INTERNAL_MIN_TM': 45,\n",
    "    'PRIMER_INTERNAL_MAX_TM': 65,  # Probe considerations are quite relaxed, assumed that LNAs / Taqman will be used later to affect TM\n",
    "    # Extra primer3 parameters can go here\n",
    "    # In the same format as above\n",
    "    }\n",
    "\n",
    "bad_primers = AnoPrimer.design_primers(\n",
    "    species='gambiae_sl',\n",
    "    assay_type='cDNA primers',  # assay_type options are: 'cDNA primers', 'gDNA primers', 'gDNA primers + probe', 'probe'\n",
    "    target='AGAP006222-RA',  # target should be an AGAP transcript identifier in for cDNA, otherwise should be an integer in genome\n",
    "    assay_name='UGT_222',\n",
    "    n_primer_pairs=5,\n",
    "    min_amplicon_size=60,\n",
    "    max_amplicon_size=120,\n",
    "    primer_parameters=primer_parameters,\n",
    ")\n",
    "\n",
    "bad_primers.evaluate_primers(    \n",
    "    sample_sets='AG1000G-GH',          # sample_set = '3.0' .you can also supply lists with multiple sample sets e.g ['AG1000G-GH', 'AG1000G-CI', 'AG1000G-BF-A']\n",
    "    sample_query=\"taxon == 'coluzzii'\",\n",
    "    out_dir=\".\"\n",
    "    )"
   ]
  },
  {
   "cell_type": "markdown",
   "id": "DvUpSAphIKoC",
   "metadata": {
    "id": "DvUpSAphIKoC"
   },
   "source": [
    "We can see that only primer pair 4 really looks suitable, as all the other primer pairs contain SNPs at their 3' end in at least one of the forward or reverse primers."
   ]
  },
  {
   "cell_type": "markdown",
   "id": "63b9ebf8",
   "metadata": {
    "id": "86c29277"
   },
   "source": [
    "## Well done!!\n",
    "\n",
    "Well done on completing the notebook and designing sets of SNP-variation informed primers!"
   ]
  },
  {
   "cell_type": "markdown",
   "id": "86c29277",
   "metadata": {
    "id": "86c29277"
   },
   "source": [
    "## Exercises\n",
    "\n",
    "### English\n",
    "\n",
    "For the exercises, you can either re-run this notebook or use the function in the cell above, which integrates the above notebook into one single function, for convenience.\n",
    "\n",
    "1. Design a set of qPCR primers to measure gene expression of the carboxylesterase gene, COEAE2F (contig='2L', transcript='AGAP006228-RA'), restricting the samples to just *Anopheles gambiae*. HINT: use 'cDNA primers'.\n",
    "\n",
    "2. Design a set of primers and a probe for the *vgsc*-995F *kdr* mutation (contig = 2L, genome bp = 2422652)\n",
    "\n",
    "3. Design a set of qPCR primers to target the gene from module 3's practical exercise. \n",
    "\n",
    "### Français\n",
    "\n",
    "En tant qu'exercices, vous pouvez soit exécuter à nouveau ce notebook ou utiliser la fonction de la cellule ci-dessus, qui intègre le contenu du reste du notebook dans une seule cellule, pour une plus grande aisance.\n",
    "\n",
    "1. Créer un ensemble d'amorces pour qPCR afin de mesurer l'expression génique du gène carboxylesterase COEAE2F (contig='2L', transcript='AGAP006228-RA'), en limitant les échantillons aux Anopheles gambiae. INDICE: utiliser 'cDNA primers'.\n",
    "\n",
    "2. Créer un ensemble d'amorces et une sonde pour la mutation vgsc-995F kdr (contig = 2L, genome bp = 2422652)\n",
    "\n",
    "3. Créer un ensemble d'amorces pour qPCR ciblant le gène de l'exercice pratique du module 3\n"
   ]
  },
  {
   "cell_type": "code",
   "execution_count": 23,
   "id": "C0wyXmfVQmVv",
   "metadata": {
    "id": "C0wyXmfVQmVv"
   },
   "outputs": [],
   "source": [
    "primer_parameters  =  {\n",
    "    'PRIMER_OPT_SIZE': 20,\n",
    "    'PRIMER_TASK':'generic',\n",
    "    'PRIMER_MIN_SIZE': 17,\n",
    "    'PRIMER_MAX_SIZE': 24,\n",
    "    'PRIMER_OPT_TM': 60.0,\n",
    "    'PRIMER_MIN_TM': 55.0,\n",
    "    'PRIMER_MAX_TM': 64.0,\n",
    "    'PRIMER_MIN_GC': 30.0,\n",
    "    'PRIMER_MAX_GC': 75.0,\n",
    "    'PRIMER_MIN_THREE_PRIME_DISTANCE': 3,  # this parameter is the minimum distance between successive pairs. If 1, it means successive primer pairs could be identical bar one base shift\n",
    "    'PRIMER_INTERNAL_OPT_SIZE': 16,  # Probe size preferences if selected, otherwise ignored\n",
    "    'PRIMER_INTERNAL_MIN_SIZE': 10,\n",
    "    'PRIMER_INTERNAL_MAX_SIZE': 22,\n",
    "    'PRIMER_INTERNAL_MIN_TM': 45,\n",
    "    'PRIMER_INTERNAL_MAX_TM': 65,  # Probe considerations are quite relaxed, assumed that LNAs / Taqman will be used later to affect TM\n",
    "    # Extra primer3 parameters can go here\n",
    "    # In the same format as above                       \n",
    "    }\n",
    "\n",
    "\n",
    "# coe_primers= AnoPrimer.design_primers(\n",
    "#      species='gambiae_sl',\n",
    "#      assay_type='cDNA primers',  # assay_type options are: 'cDNA primers', 'gDNA primers', 'gDNA primers + probe', 'probe'\n",
    "#      target='AGAP000818-RA',            # target should be an AGAP transcript identifier in for cDNA primers, otherwise should be an integer in genome\n",
    "#      assay_name='COEAE2F',\n",
    "#      n_primer_pairs=8,\n",
    "#      min_amplicon_size=60,\n",
    "#      max_amplicon_size=120,\n",
    "#      primer_parameters=primer_parameters,\n",
    "# )\n",
    "#\n",
    "# coe_primers.evaluate_primers(\n",
    "#      sample_sets=['AG1000G-BF-A', 'AG1000G-GH', 'AG1000G-GN-A'], \n",
    "#      out_dir=\".\"\n",
    "# )"
   ]
  },
  {
   "cell_type": "markdown",
   "id": "f5293683",
   "metadata": {
    "id": "Qp9P2RhWQbdN"
   },
   "source": [
    "## Future development\n",
    "\n",
    "Any contributions or suggestions on how we can improve this notebook are more than welcome. Please [email](mailto:sanjay.nagi@lstmed.ac.uk) or log an [issue on github](https://github.com/sanjaynagi/primerDesignAg/issues). This notebook and source code for AnoPrimer are located here - https://github.com/sanjaynagi/AnoPrimer/    "
   ]
  },
  {
   "cell_type": "markdown",
   "id": "Qp9P2RhWQbdN",
   "metadata": {
    "id": "Qp9P2RhWQbdN"
   },
   "source": [
    "## References\n",
    "\n",
    "\n",
    "[1] Santolamazza, F., Mancini, E., Simard, F. et al. **Insertion polymorphisms of SINE200 retrotransposons within speciation islands of Anopheles gambiae molecular forms**. Malar J 7, 163 (2008). https://doi.org/10.1186/1475-2875-7-163\n",
    "\n",
    "[2] White BJ, Santolamazza F, Kamau L, Pombi M, Grushko O, Mouline K, Brengues C, Guelbeogo W, Coulibaly M, Kayondo JK, Sharakhov I, Simard F, Petrarca V, Della Torre A, Besansky NJ. **Molecular karyotyping of the 2La inversion in Anopheles gambiae**. Am J Trop Med Hyg. 2007 Feb;76(2):334-9. PMID: 17297045.\n",
    "\n",
    "[3] Makunin, A., Korlević, P., Park, N., Goodwin, S., Waterhouse, R. M., von Wyschetzki, K., Jacob, C. G., Davies, R., Kwiatkowski, D., St Laurent, B., Ayala, D., & Lawniczak, M. K. N. (2022). **A targeted amplicon sequencing panel to simultaneously identify mosquito species and Plasmodium presence across the entire Anopheles genus**. Molecular Ecology Resources, 22, 28– 44. https://doi.org/10.1111/1755-0998.13436\n",
    "\n",
    "[4] Chabi J, Van’t Hof A, N’dri LK, Datsomor A, Okyere D, Njoroge H, et al. (2019) **Rapid high throughput SYBR green assay for identifying the malaria vectors Anopheles arabiensis, Anopheles coluzzii and Anopheles gambiae s.s**. Giles. PLoS ONE 14(4)\n",
    "\n",
    "[5] Lynd, A., Oruni, A., van’t Hof, A.E. et al. **Insecticide resistance in Anopheles gambiae from the northern Democratic Republic of Congo, with extreme knockdown resistance (kdr) mutation frequencies revealed by a new diagnostic assay**. Malar J 17, 412 (2018). https://doi.org/10.1186/s12936-018-2561-5\n",
    "\n",
    "[6] Lefever S, Pattyn F, et al. (2013) **Single-nucleotide polymorphisms and other mismatches reduce performance of quantitative PCR assays. Single-nucleotide polymorphisms and other mismatches reduce performance of quantitative PCR assays**. Clin Chem, 59(10):1470–1480.\n",
    "\n",
    "\n",
    "[7] Owczarzy R, Tataurov AV, et al. (2008) **IDT SciTools: a suite for analysis and design of nucleic acid oligomers**. Nucl Acids Res, 36 (suppl 2):W163–169.\n",
    "\n",
    "[8] The Anopheles gambiae 1000 Genomes Consortium (2020). **Genome variation and population structure among 1142 mosquitoes of the African malaria vector species *Anopheles gambiae* and *Anopheles coluzzii***. *Genome Research*, **30**: 1533-1546. \n",
    "https://genome.cshlp.org/content/early/2020/09/25/gr.262790.120\n",
    "\n",
    "[9] Untergasser A, Cutcutache I, Koressaar T, Ye J, Faircloth BC, Remm M and Rozen SG (2012). **Primer3--new capabilities and interfaces**. *Nucleic Acids Research*. 40(15):e115.\n",
    "\n",
    "[10] Ye, J., Coulouris, G., Zaretskaya, I. et al. **Primer-BLAST: A tool to design target-specific primers for polymerase chain reaction**. BMC Bioinformatics 13, 134 (2012). https://doi.org/10.1186/1471-2105-13-134\n",
    "\n",
    "[11] Grau-Bové X, Lucas E, Pipini D, Rippon E, van ‘t Hof AE, Constant E, et al. (2021) **Resistance to pirimiphos-methyl in West African Anopheles is spreading via duplication and introgression of the Ace1 locus**. PLoS Genet 17(1): e1009253. https://doi.org/10.1371/journal.pgen.1009253"
   ]
  }
 ],
 "metadata": {
  "celltoolbar": "Tags",
  "colab": {
   "collapsed_sections": [],
   "name": "Workshop 6 - Module 4 - AgamPrimer",
   "provenance": []
  },
  "kernelspec": {
   "display_name": "base",
   "language": "python",
   "name": "python3"
  },
  "language_info": {
   "codemirror_mode": {
    "name": "ipython",
    "version": 3
   },
   "file_extension": ".py",
   "mimetype": "text/x-python",
   "name": "python",
   "nbconvert_exporter": "python",
   "pygments_lexer": "ipython3",
   "version": "3.11.0"
  },
  "widgets": {
   "application/vnd.jupyter.widget-state+json": {
    "state": {},
    "version_major": 2,
    "version_minor": 0
   }
  }
 },
 "nbformat": 4,
 "nbformat_minor": 5
}
